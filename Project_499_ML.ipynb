{
  "nbformat": 4,
  "nbformat_minor": 0,
  "metadata": {
    "colab": {
      "name": "Project_499_ML.ipynb",
      "provenance": [],
      "machine_shape": "hm",
      "authorship_tag": "ABX9TyMEsNLRoS87hIbsNdnWaKwR",
      "include_colab_link": true
    },
    "kernelspec": {
      "name": "python3",
      "display_name": "Python 3"
    },
    "language_info": {
      "name": "python"
    },
    "accelerator": "GPU"
  },
  "cells": [
    {
      "cell_type": "markdown",
      "metadata": {
        "id": "view-in-github",
        "colab_type": "text"
      },
      "source": [
        "<a href=\"https://colab.research.google.com/github/NongNNew/Project_499/blob/main/Project_499_ML.ipynb\" target=\"_parent\"><img src=\"https://colab.research.google.com/assets/colab-badge.svg\" alt=\"Open In Colab\"/></a>"
      ]
    },
    {
      "cell_type": "code",
      "metadata": {
        "colab": {
          "base_uri": "https://localhost:8080/"
        },
        "id": "9E09RIQ3sEE0",
        "outputId": "09ede3fa-4ad7-495f-f2ec-3382ff5ccaa3"
      },
      "source": [
        "!pip install pythainlp\n",
        "!git clone https://github.com/NongNNew/Project_499.git"
      ],
      "execution_count": 72,
      "outputs": [
        {
          "output_type": "stream",
          "name": "stdout",
          "text": [
            "Requirement already satisfied: pythainlp in /usr/local/lib/python3.7/dist-packages (2.3.2)\n",
            "Requirement already satisfied: requests>=2.22.0 in /usr/local/lib/python3.7/dist-packages (from pythainlp) (2.23.0)\n",
            "Requirement already satisfied: tinydb>=3.0 in /usr/local/lib/python3.7/dist-packages (from pythainlp) (4.5.1)\n",
            "Requirement already satisfied: python-crfsuite>=0.9.6 in /usr/local/lib/python3.7/dist-packages (from pythainlp) (0.9.7)\n",
            "Requirement already satisfied: certifi>=2017.4.17 in /usr/local/lib/python3.7/dist-packages (from requests>=2.22.0->pythainlp) (2021.5.30)\n",
            "Requirement already satisfied: urllib3!=1.25.0,!=1.25.1,<1.26,>=1.21.1 in /usr/local/lib/python3.7/dist-packages (from requests>=2.22.0->pythainlp) (1.24.3)\n",
            "Requirement already satisfied: idna<3,>=2.5 in /usr/local/lib/python3.7/dist-packages (from requests>=2.22.0->pythainlp) (2.10)\n",
            "Requirement already satisfied: chardet<4,>=3.0.2 in /usr/local/lib/python3.7/dist-packages (from requests>=2.22.0->pythainlp) (3.0.4)\n",
            "Requirement already satisfied: typing-extensions<4.0.0,>=3.10.0 in /usr/local/lib/python3.7/dist-packages (from tinydb>=3.0->pythainlp) (3.10.0.2)\n",
            "fatal: destination path 'Project_499' already exists and is not an empty directory.\n"
          ]
        }
      ]
    },
    {
      "cell_type": "code",
      "metadata": {
        "id": "wWQl_FU7ux5V"
      },
      "source": [
        "from pythainlp import word_tokenize, Tokenizer\n",
        "from pythainlp.corpus.common import thai_words\n",
        "from pythainlp.util import dict_trie\n",
        "import pandas as pd\n",
        "import numpy as np"
      ],
      "execution_count": 73,
      "outputs": []
    },
    {
      "cell_type": "code",
      "metadata": {
        "id": "YlrSe-DOGtpR",
        "colab": {
          "base_uri": "https://localhost:8080/",
          "height": 203
        },
        "outputId": "641bdcda-f25f-406a-ce5c-96e74999232d"
      },
      "source": [
        "df = pd.read_csv('/content/Project_499/word_segment.csv')\n",
        "df.head()"
      ],
      "execution_count": 74,
      "outputs": [
        {
          "output_type": "execute_result",
          "data": {
            "text/html": [
              "<div>\n",
              "<style scoped>\n",
              "    .dataframe tbody tr th:only-of-type {\n",
              "        vertical-align: middle;\n",
              "    }\n",
              "\n",
              "    .dataframe tbody tr th {\n",
              "        vertical-align: top;\n",
              "    }\n",
              "\n",
              "    .dataframe thead th {\n",
              "        text-align: right;\n",
              "    }\n",
              "</style>\n",
              "<table border=\"1\" class=\"dataframe\">\n",
              "  <thead>\n",
              "    <tr style=\"text-align: right;\">\n",
              "      <th></th>\n",
              "      <th>thai word</th>\n",
              "      <th>word1</th>\n",
              "      <th>word2</th>\n",
              "      <th>word3</th>\n",
              "      <th>word4</th>\n",
              "    </tr>\n",
              "  </thead>\n",
              "  <tbody>\n",
              "    <tr>\n",
              "      <th>0</th>\n",
              "      <td>กล้วยน้ำว้า</td>\n",
              "      <td>ก้วย</td>\n",
              "      <td>ไต้</td>\n",
              "      <td>NaN</td>\n",
              "      <td>NaN</td>\n",
              "    </tr>\n",
              "    <tr>\n",
              "      <th>1</th>\n",
              "      <td>กล้วยหอม</td>\n",
              "      <td>ก้วย</td>\n",
              "      <td>ค้าว</td>\n",
              "      <td>NaN</td>\n",
              "      <td>NaN</td>\n",
              "    </tr>\n",
              "    <tr>\n",
              "      <th>2</th>\n",
              "      <td>กระท้อน</td>\n",
              "      <td>บ่า</td>\n",
              "      <td>ตื๋น</td>\n",
              "      <td>NaN</td>\n",
              "      <td>NaN</td>\n",
              "    </tr>\n",
              "    <tr>\n",
              "      <th>3</th>\n",
              "      <td>ตะขบไทย</td>\n",
              "      <td>บ่า</td>\n",
              "      <td>เกว๋น</td>\n",
              "      <td>ควาย</td>\n",
              "      <td>NaN</td>\n",
              "    </tr>\n",
              "    <tr>\n",
              "      <th>4</th>\n",
              "      <td>ทับทิม</td>\n",
              "      <td>บ่า</td>\n",
              "      <td>ก๊อ</td>\n",
              "      <td>NaN</td>\n",
              "      <td>NaN</td>\n",
              "    </tr>\n",
              "  </tbody>\n",
              "</table>\n",
              "</div>"
            ],
            "text/plain": [
              "     thai word word1  word2 word3 word4\n",
              "0  กล้วยน้ำว้า  ก้วย    ไต้   NaN   NaN\n",
              "1     กล้วยหอม  ก้วย   ค้าว   NaN   NaN\n",
              "2      กระท้อน   บ่า   ตื๋น   NaN   NaN\n",
              "3      ตะขบไทย   บ่า  เกว๋น  ควาย   NaN\n",
              "4       ทับทิม   บ่า    ก๊อ   NaN   NaN"
            ]
          },
          "metadata": {},
          "execution_count": 74
        }
      ]
    },
    {
      "cell_type": "code",
      "metadata": {
        "id": "mzWt6RLN9OGW"
      },
      "source": [
        "words = list()\n",
        "\n",
        "for word in df.columns[1:]:\n",
        "    words += df[word].dropna().to_list()\n",
        "\n",
        "words = dict.fromkeys(np.unique(words).tolist(),0)"
      ],
      "execution_count": 75,
      "outputs": []
    },
    {
      "cell_type": "code",
      "metadata": {
        "id": "luR6L1PmA7tS"
      },
      "source": [
        "custom_words_list = set(thai_words())\n",
        "custom_words_list.update(words)\n",
        "\n",
        "trie = dict_trie(dict_source=custom_words_list)\n",
        "custom_tokenizer = Tokenizer(custom_dict=trie, engine='newmm', keep_whitespace=False)"
      ],
      "execution_count": 76,
      "outputs": []
    },
    {
      "cell_type": "code",
      "metadata": {
        "colab": {
          "base_uri": "https://localhost:8080/"
        },
        "id": "aAL-RqcbFhrV",
        "outputId": "5e458e43-cf61-445f-91af-deb0f6122226"
      },
      "source": [
        "text = 'ฉันชอบกินก้วยไต้และบ่าเกว๋นควาย'\n",
        "segment = custom_tokenizer.word_tokenize(text)\n",
        "print(segment)"
      ],
      "execution_count": 77,
      "outputs": [
        {
          "output_type": "stream",
          "name": "stdout",
          "text": [
            "['ฉัน', 'ชอบ', 'กิน', 'ก้วย', 'ไต้', 'และ', 'บ่า', 'เกว๋น', 'ควาย']\n"
          ]
        }
      ]
    },
    {
      "cell_type": "code",
      "metadata": {
        "id": "pi9zmXZpCOsa"
      },
      "source": [
        "count = list()\n",
        "for word in words:\n",
        "    num=0\n",
        "    for segment in custom_tokenizer.word_tokenize(text):\n",
        "        if segment == word:\n",
        "            num+=1\n",
        "    count.append(num)"
      ],
      "execution_count": 58,
      "outputs": []
    },
    {
      "cell_type": "code",
      "metadata": {
        "id": "qwOchn5gJU6s"
      },
      "source": [
        "for key,values in words.items():\n",
        "    for segment in custom_tokenizer.word_tokenize(text):\n",
        "        if segment == key:\n",
        "            words[key]+=1"
      ],
      "execution_count": 78,
      "outputs": []
    },
    {
      "cell_type": "code",
      "metadata": {
        "id": "pWK_DudZKxHx",
        "outputId": "9791bcb5-edd8-4f47-e508-03eb3767cb13",
        "colab": {
          "base_uri": "https://localhost:8080/"
        }
      },
      "source": [
        "words"
      ],
      "execution_count": 80,
      "outputs": [
        {
          "output_type": "execute_result",
          "data": {
            "text/plain": [
              "{'กำ': 0,\n",
              " 'ก้วย': 1,\n",
              " 'ก้อ': 0,\n",
              " 'ก้อม': 0,\n",
              " 'ก๊อ': 0,\n",
              " 'ก๋ำ': 0,\n",
              " 'ขะ': 0,\n",
              " 'ขาว': 0,\n",
              " 'ขูด': 0,\n",
              " 'ข้าว': 0,\n",
              " 'ควาย': 1,\n",
              " 'ค้อน': 0,\n",
              " 'ค้าว': 0,\n",
              " 'จั๋ก': 0,\n",
              " 'ดิน': 0,\n",
              " 'ด่วน': 0,\n",
              " 'ตัน': 0,\n",
              " 'ตื๋น': 0,\n",
              " 'ต้าง': 0,\n",
              " 'ต๋า': 0,\n",
              " 'ถั่ว': 0,\n",
              " 'นอย': 0,\n",
              " 'นั๋ด': 0,\n",
              " 'น้อย': 0,\n",
              " 'น้ำ': 0,\n",
              " 'บั่ว': 0,\n",
              " 'บ่า': 1,\n",
              " 'ปืน': 0,\n",
              " 'ปู': 0,\n",
              " 'ป้อม': 0,\n",
              " 'ผัก': 0,\n",
              " 'ผั๋ก': 0,\n",
              " 'ผำ': 0,\n",
              " 'ผิน': 0,\n",
              " 'ฝาง': 0,\n",
              " 'พิ่ก': 0,\n",
              " 'ฟัก': 0,\n",
              " 'มะ': 0,\n",
              " 'มัน': 0,\n",
              " 'ละ': 0,\n",
              " 'ลาว': 0,\n",
              " 'ลิง': 0,\n",
              " 'ลิ่ด': 0,\n",
              " 'ลี': 0,\n",
              " 'ลู': 0,\n",
              " 'ล๋ะ': 0,\n",
              " 'สะ': 0,\n",
              " 'สา': 0,\n",
              " 'ส้ม': 0,\n",
              " 'หนอก': 0,\n",
              " 'หนอง': 0,\n",
              " 'หนุ่ม': 0,\n",
              " 'หน่อ': 0,\n",
              " 'หม่น': 0,\n",
              " 'หอม': 0,\n",
              " 'หัว': 0,\n",
              " 'ห่อย': 0,\n",
              " 'อะ': 0,\n",
              " 'เกว๋น': 1,\n",
              " 'เขือ': 0,\n",
              " 'เตียม': 0,\n",
              " 'เต้ด': 0,\n",
              " 'เป้อ': 0,\n",
              " 'เลียม': 0,\n",
              " 'เสือ': 0,\n",
              " 'แก้ว': 0,\n",
              " 'แก๋ว': 0,\n",
              " 'แค': 0,\n",
              " 'แคบ': 0,\n",
              " 'แคว้ง': 0,\n",
              " 'แดง': 0,\n",
              " 'แต้': 0,\n",
              " 'แป้น': 0,\n",
              " 'แวก': 0,\n",
              " 'แหน้': 0,\n",
              " 'แอน': 0,\n",
              " 'ใบ': 0,\n",
              " 'ไค': 0,\n",
              " 'ไต้': 1,\n",
              " 'ไม้': 0}"
            ]
          },
          "metadata": {},
          "execution_count": 80
        }
      ]
    }
  ]
}