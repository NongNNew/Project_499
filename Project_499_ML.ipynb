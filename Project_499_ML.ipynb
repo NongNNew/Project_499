{
  "nbformat": 4,
  "nbformat_minor": 0,
  "metadata": {
    "colab": {
      "name": "Project_499_ML.ipynb",
      "provenance": [],
      "machine_shape": "hm",
      "authorship_tag": "ABX9TyO+xRGTWxR1DypIfbqFt1sk",
      "include_colab_link": true
    },
    "kernelspec": {
      "name": "python3",
      "display_name": "Python 3"
    },
    "language_info": {
      "name": "python"
    },
    "accelerator": "GPU"
  },
  "cells": [
    {
      "cell_type": "markdown",
      "metadata": {
        "id": "view-in-github",
        "colab_type": "text"
      },
      "source": [
        "<a href=\"https://colab.research.google.com/github/NongNNew/Project_499/blob/main/Project_499_ML.ipynb\" target=\"_parent\"><img src=\"https://colab.research.google.com/assets/colab-badge.svg\" alt=\"Open In Colab\"/></a>"
      ]
    },
    {
      "cell_type": "code",
      "metadata": {
        "colab": {
          "base_uri": "https://localhost:8080/"
        },
        "id": "9E09RIQ3sEE0",
        "outputId": "3369c391-ea79-483a-adf8-0ea4bcd8f8f3"
      },
      "source": [
        "!pip install pythainlp\n",
        "!git clone https://github.com/NongNNew/Project_499.git"
      ],
      "execution_count": 46,
      "outputs": [
        {
          "output_type": "stream",
          "name": "stdout",
          "text": [
            "Requirement already satisfied: pythainlp in /usr/local/lib/python3.7/dist-packages (2.3.2)\n",
            "Requirement already satisfied: requests>=2.22.0 in /usr/local/lib/python3.7/dist-packages (from pythainlp) (2.23.0)\n",
            "Requirement already satisfied: python-crfsuite>=0.9.6 in /usr/local/lib/python3.7/dist-packages (from pythainlp) (0.9.7)\n",
            "Requirement already satisfied: tinydb>=3.0 in /usr/local/lib/python3.7/dist-packages (from pythainlp) (4.5.1)\n",
            "Requirement already satisfied: chardet<4,>=3.0.2 in /usr/local/lib/python3.7/dist-packages (from requests>=2.22.0->pythainlp) (3.0.4)\n",
            "Requirement already satisfied: urllib3!=1.25.0,!=1.25.1,<1.26,>=1.21.1 in /usr/local/lib/python3.7/dist-packages (from requests>=2.22.0->pythainlp) (1.24.3)\n",
            "Requirement already satisfied: idna<3,>=2.5 in /usr/local/lib/python3.7/dist-packages (from requests>=2.22.0->pythainlp) (2.10)\n",
            "Requirement already satisfied: certifi>=2017.4.17 in /usr/local/lib/python3.7/dist-packages (from requests>=2.22.0->pythainlp) (2021.5.30)\n",
            "Requirement already satisfied: typing-extensions<4.0.0,>=3.10.0 in /usr/local/lib/python3.7/dist-packages (from tinydb>=3.0->pythainlp) (3.10.0.2)\n",
            "fatal: destination path 'Project_499' already exists and is not an empty directory.\n"
          ]
        }
      ]
    },
    {
      "cell_type": "code",
      "metadata": {
        "id": "wWQl_FU7ux5V"
      },
      "source": [
        "from pythainlp import word_tokenize, Tokenizer, sent_tokenize ,syllable_tokenize\n",
        "from pythainlp.corpus.common import thai_words\n",
        "from pythainlp.util import dict_trie\n",
        "import pandas as pd\n",
        "import numpy as np"
      ],
      "execution_count": 47,
      "outputs": []
    },
    {
      "cell_type": "code",
      "metadata": {
        "id": "YlrSe-DOGtpR",
        "colab": {
          "base_uri": "https://localhost:8080/",
          "height": 202
        },
        "outputId": "335b6239-7ec5-4d46-dc9a-10ca06b6a679"
      },
      "source": [
        "df = pd.read_csv('/content/Project_499/word_segment.csv')\n",
        "df.head()"
      ],
      "execution_count": 48,
      "outputs": [
        {
          "output_type": "execute_result",
          "data": {
            "text/html": [
              "<div>\n",
              "<style scoped>\n",
              "    .dataframe tbody tr th:only-of-type {\n",
              "        vertical-align: middle;\n",
              "    }\n",
              "\n",
              "    .dataframe tbody tr th {\n",
              "        vertical-align: top;\n",
              "    }\n",
              "\n",
              "    .dataframe thead th {\n",
              "        text-align: right;\n",
              "    }\n",
              "</style>\n",
              "<table border=\"1\" class=\"dataframe\">\n",
              "  <thead>\n",
              "    <tr style=\"text-align: right;\">\n",
              "      <th></th>\n",
              "      <th>thai word</th>\n",
              "      <th>native word</th>\n",
              "      <th>word1</th>\n",
              "      <th>word2</th>\n",
              "      <th>word3</th>\n",
              "      <th>word4</th>\n",
              "    </tr>\n",
              "  </thead>\n",
              "  <tbody>\n",
              "    <tr>\n",
              "      <th>0</th>\n",
              "      <td>กล้วยน้ำว้า</td>\n",
              "      <td>ก้วยไต้</td>\n",
              "      <td>ก้วย</td>\n",
              "      <td>ไต้</td>\n",
              "      <td>NaN</td>\n",
              "      <td>NaN</td>\n",
              "    </tr>\n",
              "    <tr>\n",
              "      <th>1</th>\n",
              "      <td>กล้วยหอม</td>\n",
              "      <td>ก้วยค้าว</td>\n",
              "      <td>ก้วย</td>\n",
              "      <td>ค้าว</td>\n",
              "      <td>NaN</td>\n",
              "      <td>NaN</td>\n",
              "    </tr>\n",
              "    <tr>\n",
              "      <th>2</th>\n",
              "      <td>กระท้อน</td>\n",
              "      <td>บ่าตื๋น</td>\n",
              "      <td>บ่า</td>\n",
              "      <td>ตื๋น</td>\n",
              "      <td>NaN</td>\n",
              "      <td>NaN</td>\n",
              "    </tr>\n",
              "    <tr>\n",
              "      <th>3</th>\n",
              "      <td>ตะขบไทย</td>\n",
              "      <td>บ่าเกว๋นควาย</td>\n",
              "      <td>บ่า</td>\n",
              "      <td>เกว๋น</td>\n",
              "      <td>ควาย</td>\n",
              "      <td>NaN</td>\n",
              "    </tr>\n",
              "    <tr>\n",
              "      <th>4</th>\n",
              "      <td>ทับทิม</td>\n",
              "      <td>บ่าก๊อ</td>\n",
              "      <td>บ่า</td>\n",
              "      <td>ก๊อ</td>\n",
              "      <td>NaN</td>\n",
              "      <td>NaN</td>\n",
              "    </tr>\n",
              "  </tbody>\n",
              "</table>\n",
              "</div>"
            ],
            "text/plain": [
              "     thai word   native word word1  word2 word3 word4\n",
              "0  กล้วยน้ำว้า       ก้วยไต้  ก้วย    ไต้   NaN   NaN\n",
              "1     กล้วยหอม      ก้วยค้าว  ก้วย   ค้าว   NaN   NaN\n",
              "2      กระท้อน       บ่าตื๋น   บ่า   ตื๋น   NaN   NaN\n",
              "3      ตะขบไทย  บ่าเกว๋นควาย   บ่า  เกว๋น  ควาย   NaN\n",
              "4       ทับทิม        บ่าก๊อ   บ่า    ก๊อ   NaN   NaN"
            ]
          },
          "metadata": {},
          "execution_count": 48
        }
      ]
    },
    {
      "cell_type": "code",
      "metadata": {
        "id": "mzWt6RLN9OGW"
      },
      "source": [
        "words = list()\n",
        "\n",
        "for word in df.columns[2:]:\n",
        "    words += df[word].dropna().to_list()\n",
        "\n",
        "words = dict.fromkeys(np.unique(words).tolist(),0)\n",
        "\n",
        "custom_words_list = set(thai_words())\n",
        "custom_words_list.update(words)\n",
        "trie = dict_trie(dict_source=custom_words_list)\n",
        "custom_tokenizer = Tokenizer(custom_dict=trie, engine='newmm', keep_whitespace=False)"
      ],
      "execution_count": 49,
      "outputs": []
    },
    {
      "cell_type": "code",
      "metadata": {
        "colab": {
          "base_uri": "https://localhost:8080/"
        },
        "id": "aAL-RqcbFhrV",
        "outputId": "729c3d02-1de5-4eb8-9471-6896885b79ca"
      },
      "source": [
        "text = 'อ้ายอยากกิ๋นก้วยไต้กับบ่าตื๋น'\n",
        "segment = custom_tokenizer.word_tokenize(text)\n",
        "print(segment)"
      ],
      "execution_count": 50,
      "outputs": [
        {
          "output_type": "stream",
          "name": "stdout",
          "text": [
            "['อ้าย', 'อยาก', 'กิ๋น', 'ก้วย', 'ไต้', 'กับ', 'บ่า', 'ตื๋น']\n"
          ]
        }
      ]
    },
    {
      "cell_type": "code",
      "metadata": {
        "id": "pi9zmXZpCOsa",
        "colab": {
          "base_uri": "https://localhost:8080/"
        },
        "outputId": "7541fd9b-5beb-4d17-b481-475b50d491e8"
      },
      "source": [
        "count = list()\n",
        "for word in words:\n",
        "    num=0\n",
        "    for segment in custom_tokenizer.word_tokenize(text):\n",
        "        if segment == word:\n",
        "            num+=1\n",
        "    count.append(num)\n",
        "\n",
        "for key,values in words.items():\n",
        "    for segment in custom_tokenizer.word_tokenize(text):\n",
        "        if segment == key:\n",
        "            words[key]+=1\n",
        "\n",
        "print(words) # words==print(words)"
      ],
      "execution_count": 54,
      "outputs": [
        {
          "output_type": "stream",
          "name": "stdout",
          "text": [
            "{'กั๋บ': 0, 'กำ': 0, 'ก้วย': 2, 'ก้อ': 0, 'ก้อม': 0, 'ก๊อ': 0, 'ก๋ำ': 0, 'ขะ': 0, 'ขาว': 0, 'ขูด': 0, 'ข้าว': 0, 'ควาย': 0, 'ค้อน': 0, 'ค้าว': 0, 'จั๋ก': 0, 'ดิน': 0, 'ด่วน': 0, 'ตอง': 0, 'ตัน': 0, 'ตื๋น': 2, 'ต้าง': 0, 'ต๋า': 0, 'ถั่ว': 0, 'นอย': 0, 'นั๋ด': 0, 'น้อย': 0, 'น้ำ': 0, 'บั่ว': 0, 'บ่า': 2, 'ปืน': 0, 'ปู': 0, 'ป้อม': 0, 'ผัก': 0, 'ผั๋ก': 0, 'ผำ': 0, 'ผิน': 0, 'ฝาง': 0, 'พิ่ก': 0, 'ฟัก': 0, 'มะ': 0, 'มัน': 0, 'ละ': 0, 'ลาว': 0, 'ลิง': 0, 'ลิ่ด': 0, 'ลี': 0, 'ลู': 0, 'ล๋ะ': 0, 'สะ': 0, 'สา': 0, 'ส้ม': 0, 'หนอก': 0, 'หนอง': 0, 'หนุ่ม': 0, 'หน่อ': 0, 'หม่น': 0, 'หอม': 0, 'หัว': 0, 'ห่อย': 0, 'อะ': 0, 'เกว๋น': 0, 'เขือ': 0, 'เตียม': 0, 'เต้ด': 0, 'เป้อ': 0, 'เลียม': 0, 'เสือ': 0, 'แก้ว': 0, 'แก๋ว': 0, 'แค': 0, 'แคบ': 0, 'แคว้ง': 0, 'แดง': 0, 'แต้': 0, 'แป้น': 0, 'แวก': 0, 'แหน้': 0, 'แอน': 0, 'ใบ': 0, 'ไค': 0, 'ไต้': 2, 'ไม้': 0}\n"
          ]
        }
      ]
    },
    {
      "cell_type": "code",
      "metadata": {
        "id": "5o682r6In1oy",
        "outputId": "25a31cdf-45a0-4435-bf3e-3ab8c2cc7caa",
        "colab": {
          "base_uri": "https://localhost:8080/",
          "height": 140
        }
      },
      "source": [
        "# INPUT SENTENCE\n",
        "cm_word = pd.read_csv('/content/Project_499/cm_word.csv',header=None,names=['word'])\n",
        "cm_word = cm_word['word'].to_list()\n",
        "\n",
        "cm_list = str()\n",
        "for word in cm_word:\n",
        "    cm_list = cm_list + word + ' '\n",
        "cm_list"
      ],
      "execution_count": 55,
      "outputs": [
        {
          "output_type": "execute_result",
          "data": {
            "application/vnd.google.colaboratory.intrinsic+json": {
              "type": "string"
            },
            "text/plain": [
              "'ละอ่อนกั้นข้าว กำเดียวมา เปิ้นเป๋นเก๊า เลื่องนี้เก๊าเง่าว่าจะใด ไผเตียวก๋ายไปก๋ายมาตึงวัน บ้านนี้เปิ้นกิ๋นแขก เจดีย์กิ่ว ตางกีด เปิ้นฮื่อเงินกุ้มก่อ ควันกุ้ม เปิ้นแก้เสื้อ เปิ้นแก๊นเข้าแก๊นน้ำ ตางค๊ด ไปก่อ ไปตางกองหน้อย เกิ้งแดด อู้เกี้ยวไปเกี้ยวมา อ้ายคำไปไหนเหีย เปิ้นเอาไปขังคอกไว้จัดเมิน เปิ้นใค่อยากกิ๋นเข้า จะไปใค่หัว กิ๋นเข้าซอยลำก่อ บะป๊าวค้าว ขนคิงลุง เอาไม้มาคือกั๋น ขุนน้ำแม่ปิงอยู่บนดอย คูบาสีวิจัยจ้วยแป๋งตางขึ้นดอยสุเต้ป งูขบ ขอสุมาเจ้า เขี้ยวบ่องาม เปิ้นขายคัวตี้กาด จะไปขวายเน้อ เปิ้นจะเดือดเอา ไผมานั่งเหงาอยู่ตี้หั้น เปิ้นกิ๋นข้าวงาย มันง่าวแต้ งืดแต้ หมาแง่นกระดูกไก่ ท่าเปิ้นจัดเมินลอ แก๋งจ๋าง ตำหนวดไล่จ่างคอ อู้กำเมืองบ่อจ้าง คนขี้จิ๊ คั่นไดจิ๊ง จิ้นหมูนี้บ่อดี ซื้อผ้ามาฮื่อจิ่มเน่อ ดอกจี๋ ก้วยจี่ เอาไฟมาจู้ เปิ้นอ่านโจ้นไปโจ้นมา หนามจ่อง เอาเบ็ดไปจ่อม จาวเมืองบางกากมาแอ่วเจียงใหม่เจื่อ ฝั่งไปเตื้อ ต๋ำหนวดยับโจ๋น แมวยาด ไปแยงแว่น เต้าอี้ก่องามละ เยียะอะหยังกิ๋น ป๋าดิบ บ้านเปิ้นมีสวนดอกก่อ จะไปเดือดป้อจะนอน แม่อุ๊ยตุ้มผ้าไปวัด เต๊กฝีหื้อหนองปู๊ดออกมา เปิ้นไปแตงยาที่โฮงยา เอาน้ำมาแตวก่า เปิ้นบ่อมาสักเตื้อ เปิ้นบ่าชอบเลี้ยงแมวตั๋วแม่ ละอ่อนคนนี้ปากถอบ น้ำแม่ปิงบะเดี๋ยวนี้ตื้น แก้มละอ่อนคนนี้นวน ซื้อมะม่วงหน่วยนึ่ง อี่นายปิ้กบ้านก่อ เสื้อปุด มวยวันนี้ไผแป้ไผก๊าน เอาหมิ่นหม้อมาแปดเยียะหยัง ป้อเมียเปิ้นเป๋นป้อเลี้ยง วันนี้ไปแอ่วปอยมากา จะไปบุบตี๋มันนักล้ำไป วันนี้แดดบด เปิ้นจะเบือหมา ไผมา '"
            ]
          },
          "metadata": {},
          "execution_count": 55
        }
      ]
    },
    {
      "cell_type": "code",
      "metadata": {
        "id": "gdD1TomipSrG",
        "outputId": "f0654145-0d51-4c5e-a391-36291ac8044a",
        "colab": {
          "base_uri": "https://localhost:8080/"
        }
      },
      "source": [
        "from collections import OrderedDict \n",
        "  \n",
        "def group_list(lst):     \n",
        "    res =  [(el, lst.count(el)) for el in lst]\n",
        "    return list(OrderedDict(res).items())\n",
        "      \n",
        "lst = cm_word = custom_tokenizer.word_tokenize(cm_list)\n",
        "cm_word = dict(group_list(custom_tokenizer.word_tokenize(cm_list)))\n",
        "print(cm_word)"
      ],
      "execution_count": 56,
      "outputs": [
        {
          "output_type": "stream",
          "name": "stdout",
          "text": [
            "{'ละอ่อน': 3, 'กั้น': 1, 'ข้าว': 2, 'กำ': 2, 'เดียว': 1, 'มา': 15, 'เปิ้น': 14, 'เป๋': 2, 'นเก๊า': 1, 'เลื่อง': 1, 'นี้': 5, 'เก๊า': 1, 'เง่า': 1, 'ว่า': 1, 'จะ': 8, 'ใด': 1, 'ไผ': 5, 'เตียว': 1, 'ก๋า': 2, 'ย': 3, 'ไป': 18, 'ตึง': 1, 'วัน': 1, 'บ้าน': 3, 'เปิ้นกิ๋น': 2, 'แขก': 1, 'เจดีย์': 1, 'กิ่ว': 1, 'ตาง': 4, 'กีด': 1, 'ฮื่อ': 2, 'เงิน': 1, 'กุ้ม': 2, 'ก่อ': 6, 'ควัน': 1, 'แก้': 1, 'เสื้อ': 2, 'เปิ้นแก๊น': 1, 'เข้า': 3, 'แก๊น': 1, 'น้ำ': 3, 'ค๊ด': 1, 'กอง': 1, 'ห': 1, 'น้อย': 1, 'เกิ้ง': 1, 'แดด': 2, 'อู้': 2, 'เกี้ยว': 2, 'อ้าย': 1, 'คำ': 1, 'ไหน': 1, 'เหีย': 1, 'เอา': 7, 'ขัง': 1, 'คอก': 1, 'ไว้': 1, 'จัด': 2, 'เมิน': 2, 'เปิ้นใค่': 1, 'อยาก': 1, 'กิ๋น': 3, 'ใค่': 1, 'หัว': 1, 'ซอย': 1, 'ลำ': 1, 'บะ': 2, 'ป๊าว': 1, 'ค้าว': 1, 'ขน': 1, 'คิง': 1, 'ลุง': 1, 'ไม้': 1, 'คือ': 1, 'กั๋น': 1, 'ขุนน้ำ': 1, 'แม่': 4, 'ปิง': 2, 'อยู่': 2, 'บน': 1, 'ดอย': 2, 'คู': 1, 'บา': 1, 'สี': 1, 'วิจัย': 1, 'จ้วย': 1, 'แป๋ง': 1, 'ขึ้น': 1, 'สุ': 2, 'เต้ป': 1, 'งู': 1, 'ขบ': 1, 'ขอ': 1, 'เจ้า': 1, 'เขี้ยว': 1, 'บ่อ': 4, 'งาม': 1, 'ขาย': 1, 'คัว': 1, 'ตี้': 2, 'กาด': 1, 'ขวา': 1, 'เน้อ': 1, 'เดือด': 2, 'นั่ง': 1, 'เหงา': 1, 'หั้น': 1, 'งาย': 1, 'มัน': 2, 'ง่าว': 1, 'แต้': 2, 'งืด': 1, 'หมา': 2, 'แง่น': 1, 'กระดูก': 1, 'ไก่': 1, 'ท่า': 1, 'ลอ': 1, 'แก๋ง': 1, 'จ๋า': 1, 'ง': 3, 'ตำ': 1, 'หนวด': 2, 'ไล่': 1, 'จ่าง': 1, 'คอ': 1, 'เมือง': 2, 'จ้าง': 1, 'คน': 3, 'ขี้': 1, 'จิ๊': 1, 'คั่น': 1, 'ได': 1, 'จิ๊ง': 1, 'จิ้น': 1, 'หมู': 1, 'ดี': 1, 'ซื้อ': 2, 'ผ้า': 2, 'จิ่ม': 1, 'เน่อ': 1, 'ดอก': 2, 'จี๋': 1, 'ก้วย': 1, 'จี่': 1, 'ไฟ': 1, 'จู้': 1, 'อ่าน': 1, 'โจ้': 2, 'น': 5, 'หนาม': 1, 'จ่อ': 1, 'เบ็ด': 1, 'จ่อม': 1, 'จาว': 1, 'บาง': 1, 'กาก': 1, 'แอ่ว': 2, 'เจียง': 1, 'ใหม่': 1, 'เจื่อ': 1, 'ฝั่ง': 1, 'เตื้อ': 2, 'ต๋ำ': 1, 'ยับ': 1, 'โจ๋': 1, 'แมว': 2, 'ยาด': 1, 'แยง': 1, 'แว่น': 1, 'เต้า': 1, 'อี้': 1, 'งา': 1, 'มละ': 1, 'เยียะ': 2, 'อะ': 1, 'หยัง': 2, 'ป๋า': 1, 'ดิบ': 1, 'มี': 1, 'สวน': 1, 'ป้อ': 3, 'นอน': 1, 'อุ๊ย': 1, 'ตุ้ม': 1, 'วัด': 1, 'เต๊ก': 1, 'ฝี': 1, 'หื้อ': 1, 'หนอง': 1, 'ปู๊ด': 1, 'ออกมา': 1, 'แตง': 1, 'ยา': 2, 'ที่': 1, 'โฮ': 1, 'แตว': 1, 'ก่า': 1, 'สัก': 1, 'บ่า': 1, 'ชอบ': 1, 'เลี้ยง': 2, 'ตั๋ว': 1, 'ปาก': 1, 'ถอบ': 1, 'เดี๋ยวนี้': 1, 'ตื้น': 1, 'แก้ม': 1, 'นว': 1, 'มะม่วง': 1, 'หน่วย': 1, 'นึ่ง': 1, 'อี่': 1, 'นาย': 1, 'ปิ้ก': 1, 'ปุด': 1, 'มวย': 1, 'วันนี้': 3, 'แป้': 1, 'ก๊าน': 1, 'หมิ่น': 1, 'หม้อ': 1, 'แปด': 1, 'เมีย': 1, 'ปอย': 1, 'กา': 1, 'บุบ': 1, 'ตี๋': 1, 'นัก': 1, 'ล้ำ': 1, 'บด': 1, 'เบือ': 1}\n"
          ]
        }
      ]
    },
    {
      "cell_type": "code",
      "metadata": {
        "id": "etaryJ4hvRHC"
      },
      "source": [
        ""
      ],
      "execution_count": null,
      "outputs": []
    }
  ]
}