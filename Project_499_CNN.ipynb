{
  "nbformat": 4,
  "nbformat_minor": 5,
  "metadata": {
    "colab": {
      "name": "Project_499_CNN.ipynb",
      "provenance": [],
      "collapsed_sections": [],
      "machine_shape": "hm",
      "include_colab_link": true
    },
    "kernelspec": {
      "display_name": "Python 3",
      "language": "python",
      "name": "python3"
    },
    "language_info": {
      "codemirror_mode": {
        "name": "ipython",
        "version": 3
      },
      "file_extension": ".py",
      "mimetype": "text/x-python",
      "name": "python",
      "nbconvert_exporter": "python",
      "pygments_lexer": "ipython3",
      "version": "3.8.8"
    },
    "accelerator": "GPU"
  },
  "cells": [
    {
      "cell_type": "markdown",
      "metadata": {
        "id": "view-in-github",
        "colab_type": "text"
      },
      "source": [
        "<a href=\"https://colab.research.google.com/github/NongNNew/Project_499/blob/main/Project_499_CNN.ipynb\" target=\"_parent\"><img src=\"https://colab.research.google.com/assets/colab-badge.svg\" alt=\"Open In Colab\"/></a>"
      ]
    },
    {
      "cell_type": "markdown",
      "metadata": {
        "id": "hW4AHGmEVrk8"
      },
      "source": [
        "# **CNN**"
      ],
      "id": "hW4AHGmEVrk8"
    },
    {
      "cell_type": "markdown",
      "metadata": {
        "id": "nkYRb02rScfH"
      },
      "source": [
        "## setup"
      ],
      "id": "nkYRb02rScfH"
    },
    {
      "cell_type": "code",
      "metadata": {
        "id": "Nq11bNFAbCci",
        "outputId": "e0c824b1-0f83-4559-dde7-08f0c6ab3a62",
        "colab": {
          "base_uri": "https://localhost:8080/"
        }
      },
      "source": [
        "!pip install python_speech_features"
      ],
      "id": "Nq11bNFAbCci",
      "execution_count": 1,
      "outputs": [
        {
          "output_type": "stream",
          "text": [
            "Collecting python_speech_features\n",
            "  Downloading python_speech_features-0.6.tar.gz (5.6 kB)\n",
            "Building wheels for collected packages: python-speech-features\n",
            "  Building wheel for python-speech-features (setup.py) ... \u001b[?25l\u001b[?25hdone\n",
            "  Created wheel for python-speech-features: filename=python_speech_features-0.6-py3-none-any.whl size=5888 sha256=77661f7da1023a791c1e13d90035fa1a93b4ca147f9d826781971f3ee9503f95\n",
            "  Stored in directory: /root/.cache/pip/wheels/b0/0e/94/28cd6afa3cd5998a63eef99fe31777acd7d758f59cf24839eb\n",
            "Successfully built python-speech-features\n",
            "Installing collected packages: python-speech-features\n",
            "Successfully installed python-speech-features-0.6\n"
          ],
          "name": "stdout"
        }
      ]
    },
    {
      "cell_type": "code",
      "metadata": {
        "id": "fssuU2ucR1vy"
      },
      "source": [
        "import tensorflow as tf\n",
        "from tensorflow import keras \n",
        "import python_speech_features\n",
        "from scipy.signal.windows import hamming\n",
        "import pandas as pd\n",
        "from glob import glob\n",
        "import librosa\n",
        "import numpy as np\n",
        "from sklearn.metrics import classification_report\n",
        "import matplotlib.pyplot as plt"
      ],
      "id": "fssuU2ucR1vy",
      "execution_count": null,
      "outputs": []
    },
    {
      "cell_type": "code",
      "metadata": {
        "id": "y1vuUlgJSKkC"
      },
      "source": [
        "np.random.seed(1)\n",
        "tf.random.set_seed(1)"
      ],
      "id": "y1vuUlgJSKkC",
      "execution_count": 3,
      "outputs": []
    },
    {
      "cell_type": "markdown",
      "metadata": {
        "id": "BRWP2IrOShCH"
      },
      "source": [
        "## prepare dataset"
      ],
      "id": "BRWP2IrOShCH"
    },
    {
      "cell_type": "code",
      "metadata": {
        "colab": {
          "base_uri": "https://localhost:8080/"
        },
        "id": "gJVdtdww87RO",
        "outputId": "c3b587a1-2d2b-46e5-bff1-d24c8d78765a"
      },
      "source": [
        "# Upload audio files from github\n",
        "!git clone https://github.com/NongNNew/Project_499.git"
      ],
      "id": "gJVdtdww87RO",
      "execution_count": 4,
      "outputs": [
        {
          "output_type": "stream",
          "text": [
            "Cloning into 'Project_499'...\n",
            "remote: Enumerating objects: 1444, done.\u001b[K\n",
            "remote: Total 1444 (delta 0), reused 0 (delta 0), pack-reused 1444\u001b[K\n",
            "Receiving objects: 100% (1444/1444), 233.29 MiB | 22.22 MiB/s, done.\n",
            "Resolving deltas: 100% (148/148), done.\n",
            "Checking out files: 100% (1122/1122), done.\n"
          ],
          "name": "stdout"
        }
      ]
    },
    {
      "cell_type": "code",
      "metadata": {
        "id": "EHnDUT5YejVV"
      },
      "source": [
        "# Name of vegetables and fruits 52 types of 56 classes\n",
        "fruit_veget = ['กระชาย','กระท้อน','กระเทียม1','กระเทียม2','กระเพรา','กล้วยน้ำว้า','กล้วยหอม',\n",
        "               'ข้าวโพด','ไข่น้ำ',\n",
        "               'ตะขบไทย','ตะไคร้',\n",
        "               'ถั่วฝักยาว','ถั่วลันเตา','ถั่วลิสง',\n",
        "               'ทับทิม',\n",
        "               'น้อยหน่า','น้ำเต้า',\n",
        "               'ผักกระเฉด','ผักกุยช่าย','ผักขึ้นช่าย','ผักชะอม','ผักชี','ผักชีฝรั่ง','ผักตำลึง',\n",
        "               'มะปราง','มะพลับ','มะละกอ','มะกรูด','มะเขือพวง','มะเขือเทศ','มะระ','มะรุม','มะตูม','มันแกว1','มันแกว2','มันเทศ','มันฝรั่ง','มันสำปะหลัง',\n",
        "               'บวบ','ใบชะพลู1','ใบชะพลู2','ใบบัวบก','ใบแมงลัก','ใบยอ',\n",
        "               'พริกขี้หนู','พริกสด','พุทรา','เพกา',\n",
        "               'ฝรั่ง',\n",
        "               'ฟัก','ฟักทอง',\n",
        "               'สับปะรด','สะเดา','สะระแหน่',\n",
        "               'หัวหอม1','หัวหอม2']\n",
        "\n",
        "# Audio data source\n",
        "source = {'audio_time':[],\n",
        "          'sampling_rate':[],\n",
        "          'feature_extraction':[],\n",
        "          'label':[],\n",
        "          'description':[]}"
      ],
      "id": "EHnDUT5YejVV",
      "execution_count": 5,
      "outputs": []
    },
    {
      "cell_type": "code",
      "metadata": {
        "id": "_XRqKtGBeW_1"
      },
      "source": [
        "def feature_mfcc(y,sr):\n",
        "    return (python_speech_features.mfcc(signal=y, \n",
        "                                    samplerate=sr, \n",
        "                                    winlen= 512/sr, \n",
        "                                    winstep= 160/sr,\n",
        "                                    numcep= 13,\n",
        "                                    nfilt= 40, \n",
        "                                    nfft= 512,\n",
        "                                    lowfreq= 0,\n",
        "                                    highfreq= None,\n",
        "                                    preemph= 0.97, \n",
        "                                    ceplifter= 0,\n",
        "                                    winfunc= hamming))"
      ],
      "id": "_XRqKtGBeW_1",
      "execution_count": 6,
      "outputs": []
    },
    {
      "cell_type": "code",
      "metadata": {
        "id": "tixApnAUy5tv"
      },
      "source": [
        "for types in fruit_veget:\n",
        "    audio_files = glob('/content/Project_499/Record_audio/' + str(types) + '/*.wav')\n",
        "\n",
        "    for audio in audio_files:\n",
        "        y,sr = librosa.load(audio,duration=5,offset=0)\n",
        "        source['description'].append(str(types))\n",
        "        source['audio_time'].append(y)\n",
        "        source['sampling_rate'].append(sr)\n",
        "        source['feature_extraction'].append(feature_mfcc(y,sr))\n",
        "        source['label'].append(fruit_veget.index(types))"
      ],
      "id": "tixApnAUy5tv",
      "execution_count": 7,
      "outputs": []
    },
    {
      "cell_type": "code",
      "metadata": {
        "colab": {
          "base_uri": "https://localhost:8080/",
          "height": 417
        },
        "id": "8B6cSV4Ckude",
        "outputId": "6a8f1356-5fe2-4595-9373-efbe48447449"
      },
      "source": [
        "# tranform dictionary to dataframe \n",
        "df = pd.DataFrame.from_dict(source)\n",
        "df"
      ],
      "id": "8B6cSV4Ckude",
      "execution_count": 8,
      "outputs": [
        {
          "output_type": "execute_result",
          "data": {
            "text/html": [
              "<div>\n",
              "<style scoped>\n",
              "    .dataframe tbody tr th:only-of-type {\n",
              "        vertical-align: middle;\n",
              "    }\n",
              "\n",
              "    .dataframe tbody tr th {\n",
              "        vertical-align: top;\n",
              "    }\n",
              "\n",
              "    .dataframe thead th {\n",
              "        text-align: right;\n",
              "    }\n",
              "</style>\n",
              "<table border=\"1\" class=\"dataframe\">\n",
              "  <thead>\n",
              "    <tr style=\"text-align: right;\">\n",
              "      <th></th>\n",
              "      <th>audio_time</th>\n",
              "      <th>sampling_rate</th>\n",
              "      <th>feature_extraction</th>\n",
              "      <th>label</th>\n",
              "      <th>description</th>\n",
              "    </tr>\n",
              "  </thead>\n",
              "  <tbody>\n",
              "    <tr>\n",
              "      <th>0</th>\n",
              "      <td>[-0.0009765625, -0.001449585, -0.001373291, -0...</td>\n",
              "      <td>22050</td>\n",
              "      <td>[[-13.841251857084886, -10.542052145166839, 1....</td>\n",
              "      <td>0</td>\n",
              "      <td>กระชาย</td>\n",
              "    </tr>\n",
              "    <tr>\n",
              "      <th>1</th>\n",
              "      <td>[1.5258789e-05, -3.0517578e-05, 4.5776367e-05,...</td>\n",
              "      <td>22050</td>\n",
              "      <td>[[-13.895163210723114, -10.534242113550562, 0....</td>\n",
              "      <td>0</td>\n",
              "      <td>กระชาย</td>\n",
              "    </tr>\n",
              "    <tr>\n",
              "      <th>2</th>\n",
              "      <td>[1.5258789e-05, -3.0517578e-05, 6.1035156e-05,...</td>\n",
              "      <td>22050</td>\n",
              "      <td>[[-14.225420647550473, -11.767209141048717, 0....</td>\n",
              "      <td>0</td>\n",
              "      <td>กระชาย</td>\n",
              "    </tr>\n",
              "    <tr>\n",
              "      <th>3</th>\n",
              "      <td>[-1.5258789e-05, 1.5258789e-05, -1.5258789e-05...</td>\n",
              "      <td>22050</td>\n",
              "      <td>[[-13.834222688815137, -11.278032760622157, -1...</td>\n",
              "      <td>0</td>\n",
              "      <td>กระชาย</td>\n",
              "    </tr>\n",
              "    <tr>\n",
              "      <th>4</th>\n",
              "      <td>[-0.00024414062, -0.0002593994, -0.00022888184...</td>\n",
              "      <td>22050</td>\n",
              "      <td>[[-13.849791727695862, -11.588470019049367, -0...</td>\n",
              "      <td>0</td>\n",
              "      <td>กระชาย</td>\n",
              "    </tr>\n",
              "    <tr>\n",
              "      <th>...</th>\n",
              "      <td>...</td>\n",
              "      <td>...</td>\n",
              "      <td>...</td>\n",
              "      <td>...</td>\n",
              "      <td>...</td>\n",
              "    </tr>\n",
              "    <tr>\n",
              "      <th>1115</th>\n",
              "      <td>[-7.6293945e-05, -3.0517578e-05, 4.5776367e-05...</td>\n",
              "      <td>22050</td>\n",
              "      <td>[[-14.064456461828245, -10.130237156697339, 2....</td>\n",
              "      <td>55</td>\n",
              "      <td>หัวหอม2</td>\n",
              "    </tr>\n",
              "    <tr>\n",
              "      <th>1116</th>\n",
              "      <td>[-0.00018310547, -0.00019836426, -0.0002288818...</td>\n",
              "      <td>22050</td>\n",
              "      <td>[[-13.811710436355032, -12.034727613545229, 0....</td>\n",
              "      <td>55</td>\n",
              "      <td>หัวหอม2</td>\n",
              "    </tr>\n",
              "    <tr>\n",
              "      <th>1117</th>\n",
              "      <td>[0.0, -1.5258789e-05, 3.0517578e-05, -3.051757...</td>\n",
              "      <td>22050</td>\n",
              "      <td>[[-14.18512183869517, -10.797166196952473, 3.3...</td>\n",
              "      <td>55</td>\n",
              "      <td>หัวหอม2</td>\n",
              "    </tr>\n",
              "    <tr>\n",
              "      <th>1118</th>\n",
              "      <td>[-1.5258789e-05, -3.0517578e-05, -0.0001525878...</td>\n",
              "      <td>22050</td>\n",
              "      <td>[[-13.975110034884988, -11.68691907136182, -0....</td>\n",
              "      <td>55</td>\n",
              "      <td>หัวหอม2</td>\n",
              "    </tr>\n",
              "    <tr>\n",
              "      <th>1119</th>\n",
              "      <td>[-0.0001373291, -0.0001373291, -9.1552734e-05,...</td>\n",
              "      <td>22050</td>\n",
              "      <td>[[-13.96050509926212, -9.312697095263102, 1.11...</td>\n",
              "      <td>55</td>\n",
              "      <td>หัวหอม2</td>\n",
              "    </tr>\n",
              "  </tbody>\n",
              "</table>\n",
              "<p>1120 rows × 5 columns</p>\n",
              "</div>"
            ],
            "text/plain": [
              "                                             audio_time  ...  description\n",
              "0     [-0.0009765625, -0.001449585, -0.001373291, -0...  ...       กระชาย\n",
              "1     [1.5258789e-05, -3.0517578e-05, 4.5776367e-05,...  ...       กระชาย\n",
              "2     [1.5258789e-05, -3.0517578e-05, 6.1035156e-05,...  ...       กระชาย\n",
              "3     [-1.5258789e-05, 1.5258789e-05, -1.5258789e-05...  ...       กระชาย\n",
              "4     [-0.00024414062, -0.0002593994, -0.00022888184...  ...       กระชาย\n",
              "...                                                 ...  ...          ...\n",
              "1115  [-7.6293945e-05, -3.0517578e-05, 4.5776367e-05...  ...      หัวหอม2\n",
              "1116  [-0.00018310547, -0.00019836426, -0.0002288818...  ...      หัวหอม2\n",
              "1117  [0.0, -1.5258789e-05, 3.0517578e-05, -3.051757...  ...      หัวหอม2\n",
              "1118  [-1.5258789e-05, -3.0517578e-05, -0.0001525878...  ...      หัวหอม2\n",
              "1119  [-0.0001373291, -0.0001373291, -9.1552734e-05,...  ...      หัวหอม2\n",
              "\n",
              "[1120 rows x 5 columns]"
            ]
          },
          "metadata": {},
          "execution_count": 8
        }
      ]
    },
    {
      "cell_type": "code",
      "metadata": {
        "id": "T7yzW3hnmuyB"
      },
      "source": [
        "Test = pd.DataFrame(columns=source.keys())\n",
        "Validation = pd.DataFrame(columns=source.keys())\n",
        "\n",
        "# Create test data\n",
        "for description in np.unique(df['description']):\n",
        "    imp_test = df[df['description']==description].sample(5,random_state=1)\n",
        "    Test = pd.concat([Test,imp_test], axis=0)\n",
        "Train = df.drop(Test.index)\n",
        "\n",
        "\n",
        "X_train = np.array(Train['feature_extraction'].to_list())\n",
        "X_test = np.array(Test['feature_extraction'].to_list())\n",
        "y_train = np.array(Train['label'].to_list())\n",
        "y_test = np.array(Test['label'].to_list())\n",
        "\n",
        "# y_train = keras.utils.to_categorical(y_train,56)\n",
        "# y_test = keras.utils.to_categorical(y_test,56)"
      ],
      "id": "T7yzW3hnmuyB",
      "execution_count": 9,
      "outputs": []
    },
    {
      "cell_type": "code",
      "metadata": {
        "colab": {
          "base_uri": "https://localhost:8080/"
        },
        "id": "mSV3u9RmEU7h",
        "outputId": "29275024-9056-4d2b-ea52-6034b4bc9343"
      },
      "source": [
        "# Proportion of data\n",
        "X_train.shape,X_test.shape,y_train.shape, y_test.shape"
      ],
      "id": "mSV3u9RmEU7h",
      "execution_count": 10,
      "outputs": [
        {
          "output_type": "execute_result",
          "data": {
            "text/plain": [
              "((840, 687, 13), (280, 687, 13), (840,), (280,))"
            ]
          },
          "metadata": {},
          "execution_count": 10
        }
      ]
    },
    {
      "cell_type": "markdown",
      "metadata": {
        "id": "r7RGaVViSrwg"
      },
      "source": [
        "## build cnn model"
      ],
      "id": "r7RGaVViSrwg"
    },
    {
      "cell_type": "code",
      "metadata": {
        "id": "77wMVqve6W8f"
      },
      "source": [
        "def create_cnn_model(X_train):\n",
        "    model = keras.Sequential()\n",
        "    model.add(keras.layers.Conv2D(128, 5, input_shape=(X_train.shape[1], X_train.shape[2], 1), activation='relu'))\n",
        "    model.add(keras.layers.Dropout(0.25))\n",
        "    model.add(keras.layers.MaxPool2D())\n",
        "    model.add(keras.layers.Conv2D(64, 5, activation='relu',padding='same'))\n",
        "    model.add(keras.layers.Dropout(0.25))\n",
        "    model.add(keras.layers.MaxPool2D())\n",
        "    model.add(keras.layers.Conv2D(128, 5, activation='relu',padding='same'))\n",
        "    model.add(keras.layers.Dropout(0.25))\n",
        "    model.add(keras.layers.MaxPool2D())\n",
        "    model.add(keras.layers.Flatten())\n",
        "    model.add(keras.layers.Dense(128, activation='relu'))\n",
        "    model.add(keras.layers.Dropout(0.25))\n",
        "    model.add(keras.layers.Dense(64, activation='relu'))\n",
        "    model.add(keras.layers.Dropout(0.25))\n",
        "    model.add(keras.layers.Dense(len(np.unique(df['label'])), activation='softmax'))\n",
        "    model.compile(optimizer='adam', loss='sparse_categorical_crossentropy', metrics=['accuracy'])\n",
        "\n",
        "    model.summary()\n",
        "\n",
        "    return model"
      ],
      "id": "77wMVqve6W8f",
      "execution_count": 11,
      "outputs": []
    },
    {
      "cell_type": "markdown",
      "metadata": {
        "id": "N_EPqJGnS7ng"
      },
      "source": [
        "## train model"
      ],
      "id": "N_EPqJGnS7ng"
    },
    {
      "cell_type": "code",
      "metadata": {
        "id": "ngmfDNcnGMC7",
        "outputId": "4457230f-bc02-4eb2-b9d6-588bd32d333a",
        "colab": {
          "base_uri": "https://localhost:8080/"
        }
      },
      "source": [
        "# Train model\n",
        "model_cnn = create_cnn_model(X_train)\n",
        "history = model_cnn.fit(X_train[:,:,:,None], y_train, epochs=100, validation_data=(X_test[:,:,:,None],y_test),batch_size=80)"
      ],
      "id": "ngmfDNcnGMC7",
      "execution_count": 12,
      "outputs": [
        {
          "output_type": "stream",
          "text": [
            "Model: \"sequential\"\n",
            "_________________________________________________________________\n",
            "Layer (type)                 Output Shape              Param #   \n",
            "=================================================================\n",
            "conv2d (Conv2D)              (None, 683, 9, 128)       3328      \n",
            "_________________________________________________________________\n",
            "dropout (Dropout)            (None, 683, 9, 128)       0         \n",
            "_________________________________________________________________\n",
            "max_pooling2d (MaxPooling2D) (None, 341, 4, 128)       0         \n",
            "_________________________________________________________________\n",
            "conv2d_1 (Conv2D)            (None, 341, 4, 64)        204864    \n",
            "_________________________________________________________________\n",
            "dropout_1 (Dropout)          (None, 341, 4, 64)        0         \n",
            "_________________________________________________________________\n",
            "max_pooling2d_1 (MaxPooling2 (None, 170, 2, 64)        0         \n",
            "_________________________________________________________________\n",
            "conv2d_2 (Conv2D)            (None, 170, 2, 128)       204928    \n",
            "_________________________________________________________________\n",
            "dropout_2 (Dropout)          (None, 170, 2, 128)       0         \n",
            "_________________________________________________________________\n",
            "max_pooling2d_2 (MaxPooling2 (None, 85, 1, 128)        0         \n",
            "_________________________________________________________________\n",
            "flatten (Flatten)            (None, 10880)             0         \n",
            "_________________________________________________________________\n",
            "dense (Dense)                (None, 128)               1392768   \n",
            "_________________________________________________________________\n",
            "dropout_3 (Dropout)          (None, 128)               0         \n",
            "_________________________________________________________________\n",
            "dense_1 (Dense)              (None, 64)                8256      \n",
            "_________________________________________________________________\n",
            "dropout_4 (Dropout)          (None, 64)                0         \n",
            "_________________________________________________________________\n",
            "dense_2 (Dense)              (None, 56)                3640      \n",
            "=================================================================\n",
            "Total params: 1,817,784\n",
            "Trainable params: 1,817,784\n",
            "Non-trainable params: 0\n",
            "_________________________________________________________________\n",
            "Epoch 1/100\n",
            "11/11 [==============================] - 19s 160ms/step - loss: 4.2194 - accuracy: 0.0155 - val_loss: 4.0245 - val_accuracy: 0.0286\n",
            "Epoch 2/100\n",
            "11/11 [==============================] - 1s 82ms/step - loss: 4.0202 - accuracy: 0.0298 - val_loss: 4.0107 - val_accuracy: 0.0571\n",
            "Epoch 3/100\n",
            "11/11 [==============================] - 1s 82ms/step - loss: 3.9460 - accuracy: 0.0440 - val_loss: 3.8838 - val_accuracy: 0.0536\n",
            "Epoch 4/100\n",
            "11/11 [==============================] - 1s 82ms/step - loss: 3.7513 - accuracy: 0.0607 - val_loss: 3.7207 - val_accuracy: 0.0929\n",
            "Epoch 5/100\n",
            "11/11 [==============================] - 1s 82ms/step - loss: 3.5694 - accuracy: 0.0952 - val_loss: 3.4772 - val_accuracy: 0.1679\n",
            "Epoch 6/100\n",
            "11/11 [==============================] - 1s 82ms/step - loss: 3.2160 - accuracy: 0.1667 - val_loss: 3.2018 - val_accuracy: 0.2679\n",
            "Epoch 7/100\n",
            "11/11 [==============================] - 1s 82ms/step - loss: 2.8995 - accuracy: 0.2143 - val_loss: 2.8624 - val_accuracy: 0.4179\n",
            "Epoch 8/100\n",
            "11/11 [==============================] - 1s 82ms/step - loss: 2.5808 - accuracy: 0.2869 - val_loss: 2.6055 - val_accuracy: 0.5286\n",
            "Epoch 9/100\n",
            "11/11 [==============================] - 1s 82ms/step - loss: 2.2699 - accuracy: 0.3405 - val_loss: 2.3400 - val_accuracy: 0.6179\n",
            "Epoch 10/100\n",
            "11/11 [==============================] - 1s 82ms/step - loss: 2.0920 - accuracy: 0.4179 - val_loss: 2.0694 - val_accuracy: 0.6607\n",
            "Epoch 11/100\n",
            "11/11 [==============================] - 1s 82ms/step - loss: 1.8230 - accuracy: 0.4750 - val_loss: 1.8636 - val_accuracy: 0.7250\n",
            "Epoch 12/100\n",
            "11/11 [==============================] - 1s 82ms/step - loss: 1.5642 - accuracy: 0.5476 - val_loss: 1.4865 - val_accuracy: 0.7714\n",
            "Epoch 13/100\n",
            "11/11 [==============================] - 1s 82ms/step - loss: 1.3504 - accuracy: 0.6131 - val_loss: 1.4905 - val_accuracy: 0.7821\n",
            "Epoch 14/100\n",
            "11/11 [==============================] - 1s 82ms/step - loss: 1.2479 - accuracy: 0.6143 - val_loss: 1.2595 - val_accuracy: 0.8179\n",
            "Epoch 15/100\n",
            "11/11 [==============================] - 1s 82ms/step - loss: 1.0019 - accuracy: 0.7119 - val_loss: 1.1057 - val_accuracy: 0.8286\n",
            "Epoch 16/100\n",
            "11/11 [==============================] - 1s 82ms/step - loss: 1.0589 - accuracy: 0.6762 - val_loss: 1.0194 - val_accuracy: 0.8893\n",
            "Epoch 17/100\n",
            "11/11 [==============================] - 1s 82ms/step - loss: 0.8598 - accuracy: 0.7167 - val_loss: 0.9194 - val_accuracy: 0.8464\n",
            "Epoch 18/100\n",
            "11/11 [==============================] - 1s 82ms/step - loss: 0.8870 - accuracy: 0.7333 - val_loss: 0.8770 - val_accuracy: 0.8786\n",
            "Epoch 19/100\n",
            "11/11 [==============================] - 1s 82ms/step - loss: 0.8398 - accuracy: 0.7417 - val_loss: 0.8128 - val_accuracy: 0.8893\n",
            "Epoch 20/100\n",
            "11/11 [==============================] - 1s 82ms/step - loss: 0.8209 - accuracy: 0.7667 - val_loss: 0.7867 - val_accuracy: 0.9071\n",
            "Epoch 21/100\n",
            "11/11 [==============================] - 1s 82ms/step - loss: 0.7500 - accuracy: 0.7524 - val_loss: 0.7312 - val_accuracy: 0.8964\n",
            "Epoch 22/100\n",
            "11/11 [==============================] - 1s 82ms/step - loss: 0.6996 - accuracy: 0.7869 - val_loss: 0.6629 - val_accuracy: 0.9107\n",
            "Epoch 23/100\n",
            "11/11 [==============================] - 1s 82ms/step - loss: 0.6414 - accuracy: 0.8012 - val_loss: 0.6236 - val_accuracy: 0.9071\n",
            "Epoch 24/100\n",
            "11/11 [==============================] - 1s 83ms/step - loss: 0.6503 - accuracy: 0.7988 - val_loss: 0.5991 - val_accuracy: 0.9107\n",
            "Epoch 25/100\n",
            "11/11 [==============================] - 1s 83ms/step - loss: 0.5222 - accuracy: 0.8262 - val_loss: 0.5741 - val_accuracy: 0.9214\n",
            "Epoch 26/100\n",
            "11/11 [==============================] - 1s 83ms/step - loss: 0.4674 - accuracy: 0.8488 - val_loss: 0.5126 - val_accuracy: 0.9143\n",
            "Epoch 27/100\n",
            "11/11 [==============================] - 1s 83ms/step - loss: 0.5078 - accuracy: 0.8202 - val_loss: 0.4961 - val_accuracy: 0.9393\n",
            "Epoch 28/100\n",
            "11/11 [==============================] - 1s 83ms/step - loss: 0.5417 - accuracy: 0.8321 - val_loss: 0.5018 - val_accuracy: 0.9250\n",
            "Epoch 29/100\n",
            "11/11 [==============================] - 1s 83ms/step - loss: 0.4991 - accuracy: 0.8500 - val_loss: 0.5655 - val_accuracy: 0.9179\n",
            "Epoch 30/100\n",
            "11/11 [==============================] - 1s 82ms/step - loss: 0.4221 - accuracy: 0.8714 - val_loss: 0.4772 - val_accuracy: 0.9214\n",
            "Epoch 31/100\n",
            "11/11 [==============================] - 1s 83ms/step - loss: 0.4539 - accuracy: 0.8619 - val_loss: 0.4183 - val_accuracy: 0.9536\n",
            "Epoch 32/100\n",
            "11/11 [==============================] - 1s 82ms/step - loss: 0.4350 - accuracy: 0.8726 - val_loss: 0.4705 - val_accuracy: 0.9286\n",
            "Epoch 33/100\n",
            "11/11 [==============================] - 1s 83ms/step - loss: 0.4146 - accuracy: 0.8714 - val_loss: 0.3864 - val_accuracy: 0.9500\n",
            "Epoch 34/100\n",
            "11/11 [==============================] - 1s 83ms/step - loss: 0.4147 - accuracy: 0.8607 - val_loss: 0.4094 - val_accuracy: 0.9464\n",
            "Epoch 35/100\n",
            "11/11 [==============================] - 1s 83ms/step - loss: 0.3521 - accuracy: 0.8964 - val_loss: 0.4059 - val_accuracy: 0.9429\n",
            "Epoch 36/100\n",
            "11/11 [==============================] - 1s 83ms/step - loss: 0.3374 - accuracy: 0.8857 - val_loss: 0.3820 - val_accuracy: 0.9286\n",
            "Epoch 37/100\n",
            "11/11 [==============================] - 1s 83ms/step - loss: 0.4142 - accuracy: 0.8821 - val_loss: 0.3776 - val_accuracy: 0.9393\n",
            "Epoch 38/100\n",
            "11/11 [==============================] - 1s 83ms/step - loss: 0.3193 - accuracy: 0.9036 - val_loss: 0.4130 - val_accuracy: 0.9321\n",
            "Epoch 39/100\n",
            "11/11 [==============================] - 1s 83ms/step - loss: 0.2966 - accuracy: 0.9012 - val_loss: 0.3424 - val_accuracy: 0.9571\n",
            "Epoch 40/100\n",
            "11/11 [==============================] - 1s 83ms/step - loss: 0.3344 - accuracy: 0.8988 - val_loss: 0.3368 - val_accuracy: 0.9536\n",
            "Epoch 41/100\n",
            "11/11 [==============================] - 1s 83ms/step - loss: 0.3495 - accuracy: 0.8881 - val_loss: 0.3490 - val_accuracy: 0.9536\n",
            "Epoch 42/100\n",
            "11/11 [==============================] - 1s 83ms/step - loss: 0.2601 - accuracy: 0.9179 - val_loss: 0.3209 - val_accuracy: 0.9464\n",
            "Epoch 43/100\n",
            "11/11 [==============================] - 1s 83ms/step - loss: 0.2893 - accuracy: 0.9131 - val_loss: 0.2637 - val_accuracy: 0.9571\n",
            "Epoch 44/100\n",
            "11/11 [==============================] - 1s 83ms/step - loss: 0.3801 - accuracy: 0.8833 - val_loss: 0.3351 - val_accuracy: 0.9536\n",
            "Epoch 45/100\n",
            "11/11 [==============================] - 1s 83ms/step - loss: 0.2601 - accuracy: 0.9250 - val_loss: 0.3480 - val_accuracy: 0.9429\n",
            "Epoch 46/100\n",
            "11/11 [==============================] - 1s 83ms/step - loss: 0.2690 - accuracy: 0.9107 - val_loss: 0.2861 - val_accuracy: 0.9714\n",
            "Epoch 47/100\n",
            "11/11 [==============================] - 1s 83ms/step - loss: 0.2563 - accuracy: 0.9167 - val_loss: 0.3307 - val_accuracy: 0.9429\n",
            "Epoch 48/100\n",
            "11/11 [==============================] - 1s 83ms/step - loss: 0.2056 - accuracy: 0.9274 - val_loss: 0.2502 - val_accuracy: 0.9643\n",
            "Epoch 49/100\n",
            "11/11 [==============================] - 1s 83ms/step - loss: 0.2779 - accuracy: 0.9131 - val_loss: 0.2716 - val_accuracy: 0.9536\n",
            "Epoch 50/100\n",
            "11/11 [==============================] - 1s 83ms/step - loss: 0.3157 - accuracy: 0.9036 - val_loss: 0.2920 - val_accuracy: 0.9607\n",
            "Epoch 51/100\n",
            "11/11 [==============================] - 1s 85ms/step - loss: 0.2712 - accuracy: 0.9119 - val_loss: 0.3201 - val_accuracy: 0.9571\n",
            "Epoch 52/100\n",
            "11/11 [==============================] - 1s 84ms/step - loss: 0.2556 - accuracy: 0.9131 - val_loss: 0.2932 - val_accuracy: 0.9571\n",
            "Epoch 53/100\n",
            "11/11 [==============================] - 1s 83ms/step - loss: 0.2612 - accuracy: 0.9131 - val_loss: 0.2772 - val_accuracy: 0.9607\n",
            "Epoch 54/100\n",
            "11/11 [==============================] - 1s 83ms/step - loss: 0.2832 - accuracy: 0.9119 - val_loss: 0.2833 - val_accuracy: 0.9500\n",
            "Epoch 55/100\n",
            "11/11 [==============================] - 1s 83ms/step - loss: 0.2488 - accuracy: 0.9190 - val_loss: 0.2771 - val_accuracy: 0.9500\n",
            "Epoch 56/100\n",
            "11/11 [==============================] - 1s 83ms/step - loss: 0.3045 - accuracy: 0.9012 - val_loss: 0.2726 - val_accuracy: 0.9571\n",
            "Epoch 57/100\n",
            "11/11 [==============================] - 1s 84ms/step - loss: 0.2062 - accuracy: 0.9381 - val_loss: 0.2709 - val_accuracy: 0.9571\n",
            "Epoch 58/100\n",
            "11/11 [==============================] - 1s 83ms/step - loss: 0.1615 - accuracy: 0.9429 - val_loss: 0.2166 - val_accuracy: 0.9750\n",
            "Epoch 59/100\n",
            "11/11 [==============================] - 1s 84ms/step - loss: 0.2039 - accuracy: 0.9226 - val_loss: 0.2129 - val_accuracy: 0.9536\n",
            "Epoch 60/100\n",
            "11/11 [==============================] - 1s 84ms/step - loss: 0.2598 - accuracy: 0.9298 - val_loss: 0.2426 - val_accuracy: 0.9500\n",
            "Epoch 61/100\n",
            "11/11 [==============================] - 1s 83ms/step - loss: 0.2048 - accuracy: 0.9321 - val_loss: 0.2873 - val_accuracy: 0.9536\n",
            "Epoch 62/100\n",
            "11/11 [==============================] - 1s 84ms/step - loss: 0.2320 - accuracy: 0.9345 - val_loss: 0.2729 - val_accuracy: 0.9536\n",
            "Epoch 63/100\n",
            "11/11 [==============================] - 1s 84ms/step - loss: 0.2561 - accuracy: 0.9274 - val_loss: 0.2386 - val_accuracy: 0.9571\n",
            "Epoch 64/100\n",
            "11/11 [==============================] - 1s 84ms/step - loss: 0.2018 - accuracy: 0.9321 - val_loss: 0.2456 - val_accuracy: 0.9607\n",
            "Epoch 65/100\n",
            "11/11 [==============================] - 1s 84ms/step - loss: 0.2333 - accuracy: 0.9333 - val_loss: 0.2872 - val_accuracy: 0.9536\n",
            "Epoch 66/100\n",
            "11/11 [==============================] - 1s 84ms/step - loss: 0.1846 - accuracy: 0.9405 - val_loss: 0.2346 - val_accuracy: 0.9571\n",
            "Epoch 67/100\n",
            "11/11 [==============================] - 1s 84ms/step - loss: 0.1846 - accuracy: 0.9393 - val_loss: 0.2020 - val_accuracy: 0.9643\n",
            "Epoch 68/100\n",
            "11/11 [==============================] - 1s 84ms/step - loss: 0.2332 - accuracy: 0.9286 - val_loss: 0.2390 - val_accuracy: 0.9643\n",
            "Epoch 69/100\n",
            "11/11 [==============================] - 1s 84ms/step - loss: 0.2178 - accuracy: 0.9298 - val_loss: 0.2131 - val_accuracy: 0.9714\n",
            "Epoch 70/100\n",
            "11/11 [==============================] - 1s 84ms/step - loss: 0.2479 - accuracy: 0.9238 - val_loss: 0.2574 - val_accuracy: 0.9464\n",
            "Epoch 71/100\n",
            "11/11 [==============================] - 1s 84ms/step - loss: 0.1894 - accuracy: 0.9321 - val_loss: 0.2369 - val_accuracy: 0.9500\n",
            "Epoch 72/100\n",
            "11/11 [==============================] - 1s 84ms/step - loss: 0.2028 - accuracy: 0.9345 - val_loss: 0.2075 - val_accuracy: 0.9607\n",
            "Epoch 73/100\n",
            "11/11 [==============================] - 1s 83ms/step - loss: 0.1865 - accuracy: 0.9321 - val_loss: 0.2491 - val_accuracy: 0.9464\n",
            "Epoch 74/100\n",
            "11/11 [==============================] - 1s 84ms/step - loss: 0.1887 - accuracy: 0.9321 - val_loss: 0.2200 - val_accuracy: 0.9679\n",
            "Epoch 75/100\n",
            "11/11 [==============================] - 1s 84ms/step - loss: 0.1952 - accuracy: 0.9429 - val_loss: 0.2178 - val_accuracy: 0.9500\n",
            "Epoch 76/100\n",
            "11/11 [==============================] - 1s 84ms/step - loss: 0.1850 - accuracy: 0.9417 - val_loss: 0.2022 - val_accuracy: 0.9607\n",
            "Epoch 77/100\n",
            "11/11 [==============================] - 1s 84ms/step - loss: 0.2280 - accuracy: 0.9333 - val_loss: 0.2248 - val_accuracy: 0.9571\n",
            "Epoch 78/100\n",
            "11/11 [==============================] - 1s 84ms/step - loss: 0.1868 - accuracy: 0.9393 - val_loss: 0.2223 - val_accuracy: 0.9536\n",
            "Epoch 79/100\n",
            "11/11 [==============================] - 1s 84ms/step - loss: 0.2084 - accuracy: 0.9476 - val_loss: 0.2082 - val_accuracy: 0.9643\n",
            "Epoch 80/100\n",
            "11/11 [==============================] - 1s 85ms/step - loss: 0.1378 - accuracy: 0.9560 - val_loss: 0.2397 - val_accuracy: 0.9536\n",
            "Epoch 81/100\n",
            "11/11 [==============================] - 1s 84ms/step - loss: 0.2034 - accuracy: 0.9250 - val_loss: 0.2021 - val_accuracy: 0.9536\n",
            "Epoch 82/100\n",
            "11/11 [==============================] - 1s 84ms/step - loss: 0.1709 - accuracy: 0.9476 - val_loss: 0.1715 - val_accuracy: 0.9607\n",
            "Epoch 83/100\n",
            "11/11 [==============================] - 1s 84ms/step - loss: 0.1651 - accuracy: 0.9429 - val_loss: 0.1872 - val_accuracy: 0.9679\n",
            "Epoch 84/100\n",
            "11/11 [==============================] - 1s 84ms/step - loss: 0.1666 - accuracy: 0.9476 - val_loss: 0.1864 - val_accuracy: 0.9714\n",
            "Epoch 85/100\n",
            "11/11 [==============================] - 1s 84ms/step - loss: 0.1874 - accuracy: 0.9524 - val_loss: 0.1665 - val_accuracy: 0.9679\n",
            "Epoch 86/100\n",
            "11/11 [==============================] - 1s 85ms/step - loss: 0.1605 - accuracy: 0.9440 - val_loss: 0.1938 - val_accuracy: 0.9607\n",
            "Epoch 87/100\n",
            "11/11 [==============================] - 1s 85ms/step - loss: 0.1793 - accuracy: 0.9429 - val_loss: 0.1847 - val_accuracy: 0.9714\n",
            "Epoch 88/100\n",
            "11/11 [==============================] - 1s 85ms/step - loss: 0.1854 - accuracy: 0.9369 - val_loss: 0.2057 - val_accuracy: 0.9607\n",
            "Epoch 89/100\n",
            "11/11 [==============================] - 1s 84ms/step - loss: 0.1275 - accuracy: 0.9571 - val_loss: 0.1925 - val_accuracy: 0.9536\n",
            "Epoch 90/100\n",
            "11/11 [==============================] - 1s 85ms/step - loss: 0.1532 - accuracy: 0.9464 - val_loss: 0.1812 - val_accuracy: 0.9679\n",
            "Epoch 91/100\n",
            "11/11 [==============================] - 1s 84ms/step - loss: 0.1539 - accuracy: 0.9476 - val_loss: 0.1687 - val_accuracy: 0.9643\n",
            "Epoch 92/100\n",
            "11/11 [==============================] - 1s 85ms/step - loss: 0.1640 - accuracy: 0.9512 - val_loss: 0.1743 - val_accuracy: 0.9679\n",
            "Epoch 93/100\n",
            "11/11 [==============================] - 1s 85ms/step - loss: 0.1643 - accuracy: 0.9452 - val_loss: 0.1883 - val_accuracy: 0.9643\n",
            "Epoch 94/100\n",
            "11/11 [==============================] - 1s 85ms/step - loss: 0.1356 - accuracy: 0.9607 - val_loss: 0.1840 - val_accuracy: 0.9643\n",
            "Epoch 95/100\n",
            "11/11 [==============================] - 1s 85ms/step - loss: 0.1372 - accuracy: 0.9631 - val_loss: 0.2068 - val_accuracy: 0.9607\n",
            "Epoch 96/100\n",
            "11/11 [==============================] - 1s 85ms/step - loss: 0.1584 - accuracy: 0.9536 - val_loss: 0.1933 - val_accuracy: 0.9679\n",
            "Epoch 97/100\n",
            "11/11 [==============================] - 1s 85ms/step - loss: 0.1101 - accuracy: 0.9607 - val_loss: 0.2087 - val_accuracy: 0.9643\n",
            "Epoch 98/100\n",
            "11/11 [==============================] - 1s 85ms/step - loss: 0.1478 - accuracy: 0.9548 - val_loss: 0.2055 - val_accuracy: 0.9607\n",
            "Epoch 99/100\n",
            "11/11 [==============================] - 1s 85ms/step - loss: 0.1088 - accuracy: 0.9595 - val_loss: 0.2060 - val_accuracy: 0.9500\n",
            "Epoch 100/100\n",
            "11/11 [==============================] - 1s 85ms/step - loss: 0.1702 - accuracy: 0.9381 - val_loss: 0.2280 - val_accuracy: 0.9536\n"
          ],
          "name": "stdout"
        }
      ]
    },
    {
      "cell_type": "markdown",
      "metadata": {
        "id": "y_i70WoqTAxI"
      },
      "source": [
        "## Evaluate and predict test set"
      ],
      "id": "y_i70WoqTAxI"
    },
    {
      "cell_type": "code",
      "metadata": {
        "colab": {
          "base_uri": "https://localhost:8080/"
        },
        "id": "ZQ4n8wAmB9ZX",
        "outputId": "1127cd1e-0d67-41d7-96a9-9184ef6a5ed9"
      },
      "source": [
        "# Evaluate model\n",
        "print(f'Test Accuracy: {model_cnn.evaluate(X_test[:,:,:,None],y_test)[1]}')"
      ],
      "id": "ZQ4n8wAmB9ZX",
      "execution_count": 13,
      "outputs": [
        {
          "output_type": "stream",
          "text": [
            "9/9 [==============================] - 0s 30ms/step - loss: 0.2280 - accuracy: 0.9536\n",
            "Test Accuracy: 0.9535714387893677\n"
          ],
          "name": "stdout"
        }
      ]
    },
    {
      "cell_type": "code",
      "metadata": {
        "id": "F62fEQaGFMqs",
        "colab": {
          "base_uri": "https://localhost:8080/",
          "height": 313
        },
        "outputId": "bbb3b300-c708-436f-9a91-eb5f8c4fb33c"
      },
      "source": [
        "# Learning curve\n",
        "# plot the accuracy and loss plots between training and validation data\n",
        "# verify overfitting or underfit \n",
        "acc = history.history['accuracy']\n",
        "val_acc = history.history['val_accuracy']\n",
        "loss = history.history['loss']\n",
        "val_loss = history.history['val_loss']\n",
        "x = range(1,len(acc)+1)\n",
        "\n",
        "plt.plot(x,loss,'b',label='Training loss')\n",
        "plt.plot(x,val_loss,'r',label='Validation loss')\n",
        "plt.title('Training and validation loss')\n",
        "plt.xlabel('epochs')\n",
        "plt.ylabel('loss')\n",
        "plt.legend()"
      ],
      "id": "F62fEQaGFMqs",
      "execution_count": 14,
      "outputs": [
        {
          "output_type": "execute_result",
          "data": {
            "text/plain": [
              "<matplotlib.legend.Legend at 0x7fe872f2dc50>"
            ]
          },
          "metadata": {},
          "execution_count": 14
        },
        {
          "output_type": "display_data",
          "data": {
            "image/png": "[encoded data removed]",
            "text/plain": [
              "<Figure size 432x288 with 1 Axes>"
            ]
          },
          "metadata": {
            "needs_background": "light"
          }
        }
      ]
    },
    {
      "cell_type": "code",
      "metadata": {
        "id": "wFbKdWsMkDuw",
        "colab": {
          "base_uri": "https://localhost:8080/"
        },
        "outputId": "11869125-5123-4561-a699-cd3cd6755df8"
      },
      "source": [
        "# classification report\n",
        "predicted_classes = np.argmax(np.round(model_cnn.predict(X_test[:,:,:,None])),axis=1)\n",
        "correct = np.where(predicted_classes==y_test)[0]\n",
        "target_names = [f\"Class {label}\" for label in range(len(np.unique(df['label'])))]\n",
        "\n",
        "print(f\"From {len(y_test)} labels're founding {len(correct)} correct labels.\")\n",
        "print(f'Accuracy: {len(correct)/len(y_test)}')\n",
        "print('')\n",
        "print(classification_report(y_test, predicted_classes, target_names=target_names))"
      ],
      "id": "wFbKdWsMkDuw",
      "execution_count": 15,
      "outputs": [
        {
          "output_type": "stream",
          "text": [
            "From 280 labels're founding 259 correct labels.\n",
            "Accuracy: 0.925\n",
            "\n",
            "              precision    recall  f1-score   support\n",
            "\n",
            "     Class 0       0.25      1.00      0.40         5\n",
            "     Class 1       1.00      0.80      0.89         5\n",
            "     Class 2       1.00      1.00      1.00         5\n",
            "     Class 3       1.00      0.80      0.89         5\n",
            "     Class 4       1.00      0.80      0.89         5\n",
            "     Class 5       1.00      1.00      1.00         5\n",
            "     Class 6       1.00      1.00      1.00         5\n",
            "     Class 7       1.00      0.80      0.89         5\n",
            "     Class 8       1.00      0.80      0.89         5\n",
            "     Class 9       1.00      1.00      1.00         5\n",
            "    Class 10       1.00      1.00      1.00         5\n",
            "    Class 11       0.83      1.00      0.91         5\n",
            "    Class 12       1.00      0.60      0.75         5\n",
            "    Class 13       1.00      0.80      0.89         5\n",
            "    Class 14       1.00      1.00      1.00         5\n",
            "    Class 15       1.00      1.00      1.00         5\n",
            "    Class 16       1.00      0.80      0.89         5\n",
            "    Class 17       1.00      0.80      0.89         5\n",
            "    Class 18       1.00      0.80      0.89         5\n",
            "    Class 19       0.83      1.00      0.91         5\n",
            "    Class 20       1.00      0.80      0.89         5\n",
            "    Class 21       1.00      1.00      1.00         5\n",
            "    Class 22       0.83      1.00      0.91         5\n",
            "    Class 23       1.00      1.00      1.00         5\n",
            "    Class 24       1.00      1.00      1.00         5\n",
            "    Class 25       1.00      1.00      1.00         5\n",
            "    Class 26       1.00      1.00      1.00         5\n",
            "    Class 27       0.71      1.00      0.83         5\n",
            "    Class 28       1.00      1.00      1.00         5\n",
            "    Class 29       1.00      1.00      1.00         5\n",
            "    Class 30       1.00      1.00      1.00         5\n",
            "    Class 31       1.00      1.00      1.00         5\n",
            "    Class 32       0.83      1.00      0.91         5\n",
            "    Class 33       1.00      1.00      1.00         5\n",
            "    Class 34       1.00      1.00      1.00         5\n",
            "    Class 35       1.00      1.00      1.00         5\n",
            "    Class 36       1.00      1.00      1.00         5\n",
            "    Class 37       1.00      1.00      1.00         5\n",
            "    Class 38       1.00      0.40      0.57         5\n",
            "    Class 39       1.00      1.00      1.00         5\n",
            "    Class 40       1.00      1.00      1.00         5\n",
            "    Class 41       1.00      0.80      0.89         5\n",
            "    Class 42       1.00      1.00      1.00         5\n",
            "    Class 43       1.00      1.00      1.00         5\n",
            "    Class 44       1.00      1.00      1.00         5\n",
            "    Class 45       1.00      1.00      1.00         5\n",
            "    Class 46       1.00      1.00      1.00         5\n",
            "    Class 47       1.00      1.00      1.00         5\n",
            "    Class 48       1.00      1.00      1.00         5\n",
            "    Class 49       1.00      1.00      1.00         5\n",
            "    Class 50       1.00      1.00      1.00         5\n",
            "    Class 51       1.00      0.80      0.89         5\n",
            "    Class 52       1.00      1.00      1.00         5\n",
            "    Class 53       1.00      1.00      1.00         5\n",
            "    Class 54       1.00      1.00      1.00         5\n",
            "    Class 55       1.00      0.20      0.33         5\n",
            "\n",
            "    accuracy                           0.93       280\n",
            "   macro avg       0.97      0.92      0.93       280\n",
            "weighted avg       0.97      0.93      0.93       280\n",
            "\n"
          ],
          "name": "stdout"
        }
      ]
    }
  ]
}