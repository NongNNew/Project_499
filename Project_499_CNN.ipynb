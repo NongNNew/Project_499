{
  "nbformat": 4,
  "nbformat_minor": 5,
  "metadata": {
    "colab": {
      "name": "Project_499_CNN.ipynb",
      "provenance": [],
      "collapsed_sections": [],
      "machine_shape": "hm",
      "include_colab_link": true
    },
    "kernelspec": {
      "display_name": "Python 3",
      "language": "python",
      "name": "python3"
    },
    "language_info": {
      "codemirror_mode": {
        "name": "ipython",
        "version": 3
      },
      "file_extension": ".py",
      "mimetype": "text/x-python",
      "name": "python",
      "nbconvert_exporter": "python",
      "pygments_lexer": "ipython3",
      "version": "3.8.8"
    },
    "accelerator": "GPU"
  },
  "cells": [
    {
      "cell_type": "markdown",
      "metadata": {
        "id": "view-in-github",
        "colab_type": "text"
      },
      "source": [
        "<a href=\"https://colab.research.google.com/github/NongNNew/Project_499/blob/main/Project_499_CNN.ipynb\" target=\"_parent\"><img src=\"https://colab.research.google.com/assets/colab-badge.svg\" alt=\"Open In Colab\"/></a>"
      ]
    },
    {
      "cell_type": "markdown",
      "metadata": {
        "id": "hW4AHGmEVrk8"
      },
      "source": [
        "# **CNN**"
      ],
      "id": "hW4AHGmEVrk8"
    },
    {
      "cell_type": "markdown",
      "metadata": {
        "id": "nkYRb02rScfH"
      },
      "source": [
        "## Setup"
      ],
      "id": "nkYRb02rScfH"
    },
    {
      "cell_type": "code",
      "metadata": {
        "colab": {
          "base_uri": "https://localhost:8080/"
        },
        "id": "Nq11bNFAbCci",
        "outputId": "d494ab61-8387-4a79-e91b-a9746e1f1706"
      },
      "source": [
        "!pip install python_speech_features"
      ],
      "id": "Nq11bNFAbCci",
      "execution_count": 1,
      "outputs": [
        {
          "output_type": "stream",
          "name": "stdout",
          "text": [
            "Collecting python_speech_features\n",
            "  Downloading python_speech_features-0.6.tar.gz (5.6 kB)\n",
            "Building wheels for collected packages: python-speech-features\n",
            "  Building wheel for python-speech-features (setup.py) ... \u001b[?25l\u001b[?25hdone\n",
            "  Created wheel for python-speech-features: filename=python_speech_features-0.6-py3-none-any.whl size=5888 sha256=04e84e17edde924f53d86932c87a2b7f6f2c1789cf81c9762e8857533cd95c0d\n",
            "  Stored in directory: /root/.cache/pip/wheels/b0/0e/94/28cd6afa3cd5998a63eef99fe31777acd7d758f59cf24839eb\n",
            "Successfully built python-speech-features\n",
            "Installing collected packages: python-speech-features\n",
            "Successfully installed python-speech-features-0.6\n"
          ]
        }
      ]
    },
    {
      "cell_type": "code",
      "metadata": {
        "id": "fssuU2ucR1vy"
      },
      "source": [
        "import librosa\n",
        "import numpy as np\n",
        "import pandas as pd\n",
        "from time import time\n",
        "from glob import glob\n",
        "import tensorflow as tf\n",
        "from tensorflow import keras \n",
        "import python_speech_features\n",
        "import matplotlib.pyplot as plt\n",
        "from scipy.signal.windows import hamming\n",
        "from sklearn.metrics import classification_report,  plot_confusion_matrix\n",
        "from sklearn.model_selection import train_test_split"
      ],
      "id": "fssuU2ucR1vy",
      "execution_count": 2,
      "outputs": []
    },
    {
      "cell_type": "code",
      "metadata": {
        "id": "y1vuUlgJSKkC"
      },
      "source": [
        "np.random.seed(1)\n",
        "tf.random.set_seed(1)"
      ],
      "id": "y1vuUlgJSKkC",
      "execution_count": 3,
      "outputs": []
    },
    {
      "cell_type": "code",
      "metadata": {
        "colab": {
          "base_uri": "https://localhost:8080/"
        },
        "id": "gJVdtdww87RO",
        "outputId": "bdb598e1-c842-462f-b6c2-4f0ea427b6d3"
      },
      "source": [
        "# Upload audio files from github\n",
        "!git clone https://github.com/NongNNew/Project_499.git"
      ],
      "id": "gJVdtdww87RO",
      "execution_count": 4,
      "outputs": [
        {
          "output_type": "stream",
          "name": "stdout",
          "text": [
            "Cloning into 'Project_499'...\n",
            "remote: Enumerating objects: 1589, done.\u001b[K\n",
            "remote: Counting objects: 100% (145/145), done.\u001b[K\n",
            "remote: Compressing objects: 100% (105/105), done.\u001b[K\n",
            "remote: Total 1589 (delta 64), reused 96 (delta 39), pack-reused 1444\u001b[K\n",
            "Receiving objects: 100% (1589/1589), 238.28 MiB | 27.38 MiB/s, done.\n",
            "Resolving deltas: 100% (212/212), done.\n",
            "Checking out files: 100% (1147/1147), done.\n"
          ]
        }
      ]
    },
    {
      "cell_type": "markdown",
      "metadata": {
        "id": "BRWP2IrOShCH"
      },
      "source": [
        "## Prepare dataset"
      ],
      "id": "BRWP2IrOShCH"
    },
    {
      "cell_type": "code",
      "metadata": {
        "id": "EHnDUT5YejVV"
      },
      "source": [
        "# Name of vegetables and fruits 52 types of 56 classes\n",
        "fruit_veget = ['กระชาย','กระท้อน','กระเทียม1','กระเทียม2','กระเพรา','กล้วยน้ำว้า','กล้วยหอม',\n",
        "               'ข้าวโพด','ไข่น้ำ',\n",
        "               'ตะขบไทย','ตะไคร้',\n",
        "               'ถั่วฝักยาว','ถั่วลันเตา','ถั่วลิสง',\n",
        "               'ทับทิม',\n",
        "               'น้อยหน่า','น้ำเต้า',\n",
        "               'ผักกระเฉด','ผักกุยช่าย','ผักขึ้นช่าย','ผักชะอม','ผักชี','ผักชีฝรั่ง','ผักตำลึง',\n",
        "               'มะปราง','มะพลับ','มะละกอ','มะกรูด','มะเขือพวง','มะเขือเทศ','มะระ','มะรุม','มะตูม','มันแกว1','มันแกว2','มันเทศ','มันฝรั่ง','มันสำปะหลัง',\n",
        "               'บวบ','ใบชะพลู1','ใบชะพลู2','ใบบัวบก','ใบแมงลัก','ใบยอ',\n",
        "               'พริกขี้หนู','พริกสด','พุทรา','เพกา',\n",
        "               'ฝรั่ง',\n",
        "               'ฟัก','ฟักทอง',\n",
        "               'สับปะรด','สะเดา','สะระแหน่',\n",
        "               'หัวหอม1','หัวหอม2']\n",
        "\n",
        "# Audio data source\n",
        "source = {'audio_time':[],\n",
        "          'sampling_rate':[],\n",
        "          'feature_extraction':[],\n",
        "          'label':[],\n",
        "          'description':[]}"
      ],
      "id": "EHnDUT5YejVV",
      "execution_count": 5,
      "outputs": []
    },
    {
      "cell_type": "code",
      "metadata": {
        "id": "_XRqKtGBeW_1"
      },
      "source": [
        "def feature_mfcc(y,sr):\n",
        "    return (python_speech_features.mfcc(signal=y, \n",
        "                                    samplerate=sr, \n",
        "                                    winlen= 512/sr, \n",
        "                                    winstep= 160/sr,\n",
        "                                    numcep= 13,\n",
        "                                    nfilt= 40, \n",
        "                                    nfft= 512,\n",
        "                                    lowfreq= 0,\n",
        "                                    highfreq= None,\n",
        "                                    preemph= 0.97, \n",
        "                                    ceplifter= 0,\n",
        "                                    winfunc= hamming))"
      ],
      "id": "_XRqKtGBeW_1",
      "execution_count": 6,
      "outputs": []
    },
    {
      "cell_type": "code",
      "metadata": {
        "id": "tixApnAUy5tv"
      },
      "source": [
        "for types in fruit_veget:\n",
        "    audio_files = glob('/content/Project_499/Record_audio/' + str(types) + '/*.wav')\n",
        "\n",
        "    for audio in audio_files:\n",
        "        y,sr = librosa.load(audio,duration=5,offset=0)\n",
        "        source['description'].append(str(types))\n",
        "        source['audio_time'].append(y)\n",
        "        source['sampling_rate'].append(sr)\n",
        "        source['feature_extraction'].append(feature_mfcc(y,sr))\n",
        "        source['label'].append(fruit_veget.index(types))"
      ],
      "id": "tixApnAUy5tv",
      "execution_count": 7,
      "outputs": []
    },
    {
      "cell_type": "code",
      "metadata": {
        "colab": {
          "base_uri": "https://localhost:8080/",
          "height": 0
        },
        "id": "8B6cSV4Ckude",
        "outputId": "da931fe0-ea27-4751-fb90-4e1b642bf718"
      },
      "source": [
        "# tranform dictionary to dataframe \n",
        "df = pd.DataFrame.from_dict(source)\n",
        "df"
      ],
      "id": "8B6cSV4Ckude",
      "execution_count": 8,
      "outputs": [
        {
          "output_type": "execute_result",
          "data": {
            "text/html": [
              "<div>\n",
              "<style scoped>\n",
              "    .dataframe tbody tr th:only-of-type {\n",
              "        vertical-align: middle;\n",
              "    }\n",
              "\n",
              "    .dataframe tbody tr th {\n",
              "        vertical-align: top;\n",
              "    }\n",
              "\n",
              "    .dataframe thead th {\n",
              "        text-align: right;\n",
              "    }\n",
              "</style>\n",
              "<table border=\"1\" class=\"dataframe\">\n",
              "  <thead>\n",
              "    <tr style=\"text-align: right;\">\n",
              "      <th></th>\n",
              "      <th>audio_time</th>\n",
              "      <th>sampling_rate</th>\n",
              "      <th>feature_extraction</th>\n",
              "      <th>label</th>\n",
              "      <th>description</th>\n",
              "    </tr>\n",
              "  </thead>\n",
              "  <tbody>\n",
              "    <tr>\n",
              "      <th>0</th>\n",
              "      <td>[-0.0001373291, -0.00010681152, -0.0001373291,...</td>\n",
              "      <td>22050</td>\n",
              "      <td>[[-14.29427199922967, -12.519938088048788, 2.4...</td>\n",
              "      <td>0</td>\n",
              "      <td>กระชาย</td>\n",
              "    </tr>\n",
              "    <tr>\n",
              "      <th>1</th>\n",
              "      <td>[1.5258789e-05, -3.0517578e-05, 4.5776367e-05,...</td>\n",
              "      <td>22050</td>\n",
              "      <td>[[-13.895163210723114, -10.534242113550562, 0....</td>\n",
              "      <td>0</td>\n",
              "      <td>กระชาย</td>\n",
              "    </tr>\n",
              "    <tr>\n",
              "      <th>2</th>\n",
              "      <td>[-0.00024414062, -0.0002593994, -0.00022888184...</td>\n",
              "      <td>22050</td>\n",
              "      <td>[[-13.849791727695862, -11.588470019049367, -0...</td>\n",
              "      <td>0</td>\n",
              "      <td>กระชาย</td>\n",
              "    </tr>\n",
              "    <tr>\n",
              "      <th>3</th>\n",
              "      <td>[-0.0009765625, -0.001449585, -0.001373291, -0...</td>\n",
              "      <td>22050</td>\n",
              "      <td>[[-13.841251857084886, -10.542052145166839, 1....</td>\n",
              "      <td>0</td>\n",
              "      <td>กระชาย</td>\n",
              "    </tr>\n",
              "    <tr>\n",
              "      <th>4</th>\n",
              "      <td>[-0.0002593994, -0.00021362305, -0.0002593994,...</td>\n",
              "      <td>22050</td>\n",
              "      <td>[[-13.887572338003839, -11.509363999125966, 0....</td>\n",
              "      <td>0</td>\n",
              "      <td>กระชาย</td>\n",
              "    </tr>\n",
              "    <tr>\n",
              "      <th>...</th>\n",
              "      <td>...</td>\n",
              "      <td>...</td>\n",
              "      <td>...</td>\n",
              "      <td>...</td>\n",
              "      <td>...</td>\n",
              "    </tr>\n",
              "    <tr>\n",
              "      <th>1115</th>\n",
              "      <td>[-7.6293945e-05, -9.1552734e-05, 0.0, 1.525878...</td>\n",
              "      <td>22050</td>\n",
              "      <td>[[-13.93405270581039, -11.744337964457122, 1.2...</td>\n",
              "      <td>55</td>\n",
              "      <td>หัวหอม2</td>\n",
              "    </tr>\n",
              "    <tr>\n",
              "      <th>1116</th>\n",
              "      <td>[3.0517578e-05, -6.1035156e-05, 6.1035156e-05,...</td>\n",
              "      <td>22050</td>\n",
              "      <td>[[-14.050800633014068, -10.083539910076112, 2....</td>\n",
              "      <td>55</td>\n",
              "      <td>หัวหอม2</td>\n",
              "    </tr>\n",
              "    <tr>\n",
              "      <th>1117</th>\n",
              "      <td>[-1.5258789e-05, 1.5258789e-05, -3.0517578e-05...</td>\n",
              "      <td>22050</td>\n",
              "      <td>[[-14.141277651821667, -10.094774825754069, 1....</td>\n",
              "      <td>55</td>\n",
              "      <td>หัวหอม2</td>\n",
              "    </tr>\n",
              "    <tr>\n",
              "      <th>1118</th>\n",
              "      <td>[0.0, -1.5258789e-05, 3.0517578e-05, -3.051757...</td>\n",
              "      <td>22050</td>\n",
              "      <td>[[-14.18512183869517, -10.797166196952473, 3.3...</td>\n",
              "      <td>55</td>\n",
              "      <td>หัวหอม2</td>\n",
              "    </tr>\n",
              "    <tr>\n",
              "      <th>1119</th>\n",
              "      <td>[1.5258789e-05, -4.5776367e-05, 4.5776367e-05,...</td>\n",
              "      <td>22050</td>\n",
              "      <td>[[-13.862199697176345, -10.033334893928362, 0....</td>\n",
              "      <td>55</td>\n",
              "      <td>หัวหอม2</td>\n",
              "    </tr>\n",
              "  </tbody>\n",
              "</table>\n",
              "<p>1120 rows × 5 columns</p>\n",
              "</div>"
            ],
            "text/plain": [
              "                                             audio_time  ...  description\n",
              "0     [-0.0001373291, -0.00010681152, -0.0001373291,...  ...       กระชาย\n",
              "1     [1.5258789e-05, -3.0517578e-05, 4.5776367e-05,...  ...       กระชาย\n",
              "2     [-0.00024414062, -0.0002593994, -0.00022888184...  ...       กระชาย\n",
              "3     [-0.0009765625, -0.001449585, -0.001373291, -0...  ...       กระชาย\n",
              "4     [-0.0002593994, -0.00021362305, -0.0002593994,...  ...       กระชาย\n",
              "...                                                 ...  ...          ...\n",
              "1115  [-7.6293945e-05, -9.1552734e-05, 0.0, 1.525878...  ...      หัวหอม2\n",
              "1116  [3.0517578e-05, -6.1035156e-05, 6.1035156e-05,...  ...      หัวหอม2\n",
              "1117  [-1.5258789e-05, 1.5258789e-05, -3.0517578e-05...  ...      หัวหอม2\n",
              "1118  [0.0, -1.5258789e-05, 3.0517578e-05, -3.051757...  ...      หัวหอม2\n",
              "1119  [1.5258789e-05, -4.5776367e-05, 4.5776367e-05,...  ...      หัวหอม2\n",
              "\n",
              "[1120 rows x 5 columns]"
            ]
          },
          "metadata": {},
          "execution_count": 8
        }
      ]
    },
    {
      "cell_type": "code",
      "metadata": {
        "id": "T7yzW3hnmuyB"
      },
      "source": [
        "\n",
        "Test = pd.DataFrame(columns=source.keys())\n",
        "\n",
        "# Create test data\n",
        "\n",
        "for description in np.unique(df['description']):\n",
        "    imp_test = df[df['description']==description].sample(5,random_state=1)\n",
        "    Test = pd.concat([Test,imp_test], axis=0)\n",
        "Train = df.drop(index=Test.index)\n",
        "\n",
        "# X_train = np.array(Train['feature_extraction'].to_list())\n",
        "# X_test = np.array(Test['feature_extraction'].to_list())\n",
        "# y_train = np.array(Train['label'].to_list())\n",
        "# y_test = np.array(Test['label'].to_list())\n",
        "\n",
        "Valid = pd.DataFrame(columns=source.keys())\n",
        "for description in np.unique(Train['description']):\n",
        "    imp_test = Train[Train['description']==description].sample(3,random_state=1)\n",
        "    Valid = pd.concat([Valid,imp_test], axis=0)\n",
        "Train = Train.drop(index=Valid.index)\n",
        "\n",
        "X_train = np.array(Train['feature_extraction'].to_list())\n",
        "X_test = np.array(Test['feature_extraction'].to_list())\n",
        "X_valid = np.array(Valid['feature_extraction'].to_list())\n",
        "y_train = np.array(Train['label'].to_list())\n",
        "y_test = np.array(Test['label'].to_list())\n",
        "y_valid = np.array(Valid['label'].to_list())"
      ],
      "id": "T7yzW3hnmuyB",
      "execution_count": 9,
      "outputs": []
    },
    {
      "cell_type": "code",
      "metadata": {
        "colab": {
          "base_uri": "https://localhost:8080/"
        },
        "id": "5wXDTykDn_B3",
        "outputId": "2312db50-27b6-4957-fef9-dde4d09d0c48"
      },
      "source": [
        "Train.index"
      ],
      "id": "5wXDTykDn_B3",
      "execution_count": 10,
      "outputs": [
        {
          "output_type": "execute_result",
          "data": {
            "text/plain": [
              "Int64Index([   0,    1,    4,    7,    8,   12,   13,   14,   15,   17,\n",
              "            ...\n",
              "            1104, 1107, 1108, 1112, 1113, 1114, 1115, 1117, 1118, 1119],\n",
              "           dtype='int64', length=672)"
            ]
          },
          "metadata": {},
          "execution_count": 10
        }
      ]
    },
    {
      "cell_type": "code",
      "metadata": {
        "colab": {
          "base_uri": "https://localhost:8080/"
        },
        "id": "r_JI0MpEoFz3",
        "outputId": "e28a2503-d985-4c15-a833-38a4ac808546"
      },
      "source": [
        "Test.index"
      ],
      "id": "r_JI0MpEoFz3",
      "execution_count": 11,
      "outputs": [
        {
          "output_type": "execute_result",
          "data": {
            "text/plain": [
              "Int64Index([  3,  16,   6,  10,   2,  23,  36,  26,  30,  22,\n",
              "            ...\n",
              "            843, 856, 846, 850, 842, 163, 176, 166, 170, 162],\n",
              "           dtype='int64', length=280)"
            ]
          },
          "metadata": {},
          "execution_count": 11
        }
      ]
    },
    {
      "cell_type": "code",
      "metadata": {
        "colab": {
          "base_uri": "https://localhost:8080/"
        },
        "id": "mSV3u9RmEU7h",
        "outputId": "713be782-09b5-4c6e-e8d4-64fc884943e9"
      },
      "source": [
        "# Proportion of data\n",
        "y_train.shape, y_valid.shape, y_test.shape"
      ],
      "id": "mSV3u9RmEU7h",
      "execution_count": 12,
      "outputs": [
        {
          "output_type": "execute_result",
          "data": {
            "text/plain": [
              "((672,), (168,), (280,))"
            ]
          },
          "metadata": {},
          "execution_count": 12
        }
      ]
    },
    {
      "cell_type": "markdown",
      "metadata": {
        "id": "r7RGaVViSrwg"
      },
      "source": [
        "## Build cnn model"
      ],
      "id": "r7RGaVViSrwg"
    },
    {
      "cell_type": "code",
      "metadata": {
        "id": "77wMVqve6W8f"
      },
      "source": [
        "def create_cnn_model(activation='relu',dropout=0.25,optimizer='adam'):\n",
        "    np.random.seed(1)\n",
        "    tf.random.set_seed(1)\n",
        "    model = None\n",
        "    model = keras.Sequential()\n",
        "\n",
        "    model.add(keras.layers.Conv2D(128, 5, input_shape=(X_train.shape[1], X_train.shape[2], 1), activation=activation))\n",
        "    model.add(keras.layers.Dropout(dropout))\n",
        "    model.add(keras.layers.MaxPool2D())\n",
        "\n",
        "    model.add(keras.layers.Conv2D(64, 5, activation=activation,padding='same'))\n",
        "    model.add(keras.layers.Dropout(dropout))\n",
        "    model.add(keras.layers.MaxPool2D())\n",
        "\n",
        "    model.add(keras.layers.Conv2D(64, 5, activation=activation,padding='same'))\n",
        "    model.add(keras.layers.Dropout(dropout))\n",
        "    model.add(keras.layers.MaxPool2D())\n",
        "\n",
        "    model.add(keras.layers.Flatten())\n",
        "    model.add(keras.layers.Dense(128, activation=activation))\n",
        "    model.add(keras.layers.Dropout(dropout))\n",
        "\n",
        "    model.add(keras.layers.Dense(64, activation=activation))\n",
        "    model.add(keras.layers.Dropout(dropout))\n",
        "\n",
        "    model.add(keras.layers.Dense(len(np.unique(df['label'])), activation='softmax'))\n",
        "    \n",
        "    model.compile(optimizer=optimizer, loss='sparse_categorical_crossentropy', metrics=['accuracy'])\n",
        "\n",
        "    # model.summary()\n",
        "\n",
        "    return model"
      ],
      "id": "77wMVqve6W8f",
      "execution_count": 13,
      "outputs": []
    },
    {
      "cell_type": "markdown",
      "metadata": {
        "id": "0xv_Bj3d310E"
      },
      "source": [
        "## Find each hyperparameter"
      ],
      "id": "0xv_Bj3d310E"
    },
    {
      "cell_type": "code",
      "metadata": {
        "id": "YEIO2YO536Rb"
      },
      "source": [
        "# find hyperparameter\n",
        "epochs = [20,30,50,100,150]\n",
        "batch_size = [16,32,50,64,80,100]\n",
        "dropout = [0.2,0.25,0.3,0.4]\n",
        "lr = [0.001,0.01,0.1,0.2] \n",
        "activation = ['softmax', 'softplus', 'softsign', 'relu', 'tanh', 'sigmoid', 'hard_sigmoid', 'linear']\n",
        "optimizer = ['SGD', 'RMSprop', 'Adagrad', 'Adadelta', 'Adam', 'Adamax', 'Nadam']"
      ],
      "id": "YEIO2YO536Rb",
      "execution_count": null,
      "outputs": []
    },
    {
      "cell_type": "markdown",
      "metadata": {
        "id": "f0UMa3i_4ec3"
      },
      "source": [
        "### epoachs"
      ],
      "id": "f0UMa3i_4ec3"
    },
    {
      "cell_type": "code",
      "metadata": {
        "id": "L8wXVzcE4GSZ",
        "colab": {
          "base_uri": "https://localhost:8080/"
        },
        "outputId": "ba3186ec-57b6-4c84-9fb0-97ea75799204"
      },
      "source": [
        "from sklearn.model_selection import GridSearchCV\n",
        "from keras.wrappers.scikit_learn import KerasClassifier\n",
        "\n",
        "model = KerasClassifier(build_fn=create_cnn_model,verbose=0)\n",
        "\n",
        "start = time()\n",
        "param_grid = dict(epochs=epochs)\n",
        "grid = GridSearchCV(estimator=model, param_grid=param_grid, cv=3).fit(X_train[:,:,:,None],y_train)\n",
        "end = time()\n",
        "\n",
        "print(f'time: {end-start} sec')\n",
        "\n",
        "print(\"Best: %f using %s\" % (grid.best_score_, grid.best_params_))\n",
        "rank = grid.cv_results_['rank_test_score']\n",
        "means = grid.cv_results_['mean_test_score']\n",
        "stds = grid.cv_results_['std_test_score']\n",
        "params = grid.cv_results_['params']  \n",
        "for mean, stdev, param in zip(means, stds, params):\n",
        "    print(\"%f (%f) with:%r\"%(mean, stdev, param))"
      ],
      "id": "L8wXVzcE4GSZ",
      "execution_count": null,
      "outputs": [
        {
          "output_type": "stream",
          "name": "stdout",
          "text": [
            "time: 341.8511073589325 sec\n",
            "Best: 0.040179 using {'epochs': 30}\n",
            "0.038690 (0.007588) with:{'epochs': 20}\n",
            "0.040179 (0.010935) with:{'epochs': 30}\n",
            "0.029762 (0.014731) with:{'epochs': 50}\n",
            "0.038690 (0.005568) with:{'epochs': 100}\n",
            "0.034226 (0.002104) with:{'epochs': 150}\n"
          ]
        }
      ]
    },
    {
      "cell_type": "markdown",
      "metadata": {
        "id": "YFdH7ttM4hwN"
      },
      "source": [
        "### batch size"
      ],
      "id": "YFdH7ttM4hwN"
    },
    {
      "cell_type": "code",
      "metadata": {
        "id": "mIYS7nEu4mgt",
        "colab": {
          "base_uri": "https://localhost:8080/"
        },
        "outputId": "2a1c5313-ffee-4841-b9ce-7d278ae7e700"
      },
      "source": [
        "from sklearn.model_selection import GridSearchCV\n",
        "from keras.wrappers.scikit_learn import KerasClassifier\n",
        "\n",
        "model = KerasClassifier(build_fn=create_cnn_model,verbose=0,epochs=30)\n",
        "\n",
        "start = time()\n",
        "param_grid = dict(batch_size=batch_size)\n",
        "grid = GridSearchCV(estimator=model, param_grid=param_grid, cv=3).fit(X_train[:,:,:,None],y_train)\n",
        "end = time()\n",
        "\n",
        "print(f'time: {end-start} sec')\n",
        "\n",
        "print(\"Best: %f using %s\" % (grid.best_score_, grid.best_params_))\n",
        "rank = grid.cv_results_['rank_test_score']\n",
        "means = grid.cv_results_['mean_test_score']\n",
        "stds = grid.cv_results_['std_test_score']\n",
        "params = grid.cv_results_['params']  \n",
        "for mean, stdev, param in zip(means, stds, params):\n",
        "    print(\"%f (%f) with:%r\"%(mean, stdev, param))"
      ],
      "id": "mIYS7nEu4mgt",
      "execution_count": null,
      "outputs": [
        {
          "output_type": "stream",
          "name": "stdout",
          "text": [
            "WARNING:tensorflow:5 out of the last 14 calls to <function Model.make_test_function.<locals>.test_function at 0x7fc5cc17a440> triggered tf.function retracing. Tracing is expensive and the excessive number of tracings could be due to (1) creating @tf.function repeatedly in a loop, (2) passing tensors with different shapes, (3) passing Python objects instead of tensors. For (1), please define your @tf.function outside of the loop. For (2), @tf.function has experimental_relax_shapes=True option that relaxes argument shapes that can avoid unnecessary retracing. For (3), please refer to https://www.tensorflow.org/guide/function#controlling_retracing and https://www.tensorflow.org/api_docs/python/tf/function for  more details.\n",
            "WARNING:tensorflow:5 out of the last 13 calls to <function Model.make_test_function.<locals>.test_function at 0x7fc5b48d8a70> triggered tf.function retracing. Tracing is expensive and the excessive number of tracings could be due to (1) creating @tf.function repeatedly in a loop, (2) passing tensors with different shapes, (3) passing Python objects instead of tensors. For (1), please define your @tf.function outside of the loop. For (2), @tf.function has experimental_relax_shapes=True option that relaxes argument shapes that can avoid unnecessary retracing. For (3), please refer to https://www.tensorflow.org/guide/function#controlling_retracing and https://www.tensorflow.org/api_docs/python/tf/function for  more details.\n",
            "time: 177.85200142860413 sec\n",
            "Best: 0.049107 using {'batch_size': 64}\n",
            "0.023810 (0.005568) with:{'batch_size': 16}\n",
            "0.031250 (0.003645) with:{'batch_size': 32}\n",
            "0.034226 (0.005568) with:{'batch_size': 50}\n",
            "0.049107 (0.022763) with:{'batch_size': 64}\n",
            "0.031250 (0.007290) with:{'batch_size': 80}\n",
            "0.037202 (0.014731) with:{'batch_size': 100}\n"
          ]
        }
      ]
    },
    {
      "cell_type": "markdown",
      "metadata": {
        "id": "xfQsiSAl43I2"
      },
      "source": [
        "### dropout"
      ],
      "id": "xfQsiSAl43I2"
    },
    {
      "cell_type": "code",
      "metadata": {
        "id": "GzLr5_9X6AIP",
        "colab": {
          "base_uri": "https://localhost:8080/"
        },
        "outputId": "fa787d1f-5aaa-4835-c061-6c790a619895"
      },
      "source": [
        "# find hyperparameter\n",
        "epochs = [30]\n",
        "batch_size = [64]\n",
        "dropout = [0.2,0.25,0.3,0.4]\n",
        "\n",
        "\n",
        "from sklearn.model_selection import GridSearchCV\n",
        "from keras.wrappers.scikit_learn import KerasClassifier\n",
        "\n",
        "model = KerasClassifier(build_fn=create_cnn_model,verbose=0)\n",
        "\n",
        "start = time()\n",
        "param_grid = dict(dropout=dropout,epochs=epochs,batch_size=batch_size)\n",
        "grid = GridSearchCV(estimator=model, param_grid=param_grid, cv=3).fit(X_train[:,:,:,None],y_train)\n",
        "end = time()\n",
        "\n",
        "print(f'time: {end-start} sec')\n",
        "\n",
        "print(\"Best: %f using %s\" % (grid.best_score_, grid.best_params_))\n",
        "rank = grid.cv_results_['rank_test_score']\n",
        "means = grid.cv_results_['mean_test_score']\n",
        "stds = grid.cv_results_['std_test_score']\n",
        "params = grid.cv_results_['params']  \n",
        "for mean, stdev, param in zip(means, stds, params):\n",
        "    print(\"%f (%f) with:%r\"%(mean, stdev, param))"
      ],
      "id": "GzLr5_9X6AIP",
      "execution_count": null,
      "outputs": [
        {
          "output_type": "stream",
          "name": "stdout",
          "text": [
            "time: 121.16583919525146 sec\n",
            "Best: 0.034226 using {'batch_size': 64, 'dropout': 0.2, 'epochs': 30}\n",
            "0.034226 (0.005568) with:{'batch_size': 64, 'dropout': 0.2, 'epochs': 30}\n",
            "0.031250 (0.006313) with:{'batch_size': 64, 'dropout': 0.25, 'epochs': 30}\n",
            "0.023810 (0.005568) with:{'batch_size': 64, 'dropout': 0.3, 'epochs': 30}\n",
            "0.011905 (0.011136) with:{'batch_size': 64, 'dropout': 0.4, 'epochs': 30}\n"
          ]
        }
      ]
    },
    {
      "cell_type": "markdown",
      "metadata": {
        "id": "rJVsxC7P6dwE"
      },
      "source": [
        "### activation"
      ],
      "id": "rJVsxC7P6dwE"
    },
    {
      "cell_type": "code",
      "metadata": {
        "id": "-mL5xc076gCq",
        "colab": {
          "base_uri": "https://localhost:8080/"
        },
        "outputId": "3f1600ea-e68d-4a86-a596-c290bf24e63f"
      },
      "source": [
        "# find hyperparameter\n",
        "epochs = [30]\n",
        "batch_size = [64]\n",
        "dropout = [0.2]\n",
        "activation = ['softmax', 'softplus', 'softsign', 'relu', 'tanh', 'sigmoid', 'hard_sigmoid', 'linear']\n",
        "\n",
        "\n",
        "from sklearn.model_selection import GridSearchCV\n",
        "from keras.wrappers.scikit_learn import KerasClassifier\n",
        "\n",
        "model = KerasClassifier(build_fn=create_cnn_model,verbose=0)\n",
        "\n",
        "start = time()\n",
        "param_grid = dict(dropout=dropout,epochs=epochs,batch_size=batch_size,activation=activation)\n",
        "grid = GridSearchCV(estimator=model, param_grid=param_grid, cv=3).fit(X_train[:,:,:,None],y_train)\n",
        "end = time()\n",
        "\n",
        "print(f'time: {end-start} sec')\n",
        "\n",
        "print(\"Best: %f using %s\" % (grid.best_score_, grid.best_params_))\n",
        "rank = grid.cv_results_['rank_test_score']\n",
        "means = grid.cv_results_['mean_test_score']\n",
        "stds = grid.cv_results_['std_test_score']\n",
        "params = grid.cv_results_['params']  \n",
        "for mean, stdev, param in zip(means, stds, params):\n",
        "    print(\"%f (%f) with:%r\"%(mean, stdev, param))"
      ],
      "id": "-mL5xc076gCq",
      "execution_count": null,
      "outputs": [
        {
          "output_type": "stream",
          "name": "stdout",
          "text": [
            "time: 236.39379286766052 sec\n",
            "Best: 0.032738 using {'activation': 'relu', 'batch_size': 64, 'dropout': 0.2, 'epochs': 30}\n",
            "0.000000 (0.000000) with:{'activation': 'softmax', 'batch_size': 64, 'dropout': 0.2, 'epochs': 30}\n",
            "0.002976 (0.002104) with:{'activation': 'softplus', 'batch_size': 64, 'dropout': 0.2, 'epochs': 30}\n",
            "0.019345 (0.012801) with:{'activation': 'softsign', 'batch_size': 64, 'dropout': 0.2, 'epochs': 30}\n",
            "0.032738 (0.004209) with:{'activation': 'relu', 'batch_size': 64, 'dropout': 0.2, 'epochs': 30}\n",
            "0.020833 (0.015176) with:{'activation': 'tanh', 'batch_size': 64, 'dropout': 0.2, 'epochs': 30}\n",
            "0.000000 (0.000000) with:{'activation': 'sigmoid', 'batch_size': 64, 'dropout': 0.2, 'epochs': 30}\n",
            "0.000000 (0.000000) with:{'activation': 'hard_sigmoid', 'batch_size': 64, 'dropout': 0.2, 'epochs': 30}\n",
            "0.025298 (0.011717) with:{'activation': 'linear', 'batch_size': 64, 'dropout': 0.2, 'epochs': 30}\n"
          ]
        }
      ]
    },
    {
      "cell_type": "markdown",
      "metadata": {
        "id": "IZcQCVNq9af0"
      },
      "source": [
        "### optimizer"
      ],
      "id": "IZcQCVNq9af0"
    },
    {
      "cell_type": "code",
      "metadata": {
        "id": "Em9LGSMJ9ZJ0",
        "colab": {
          "base_uri": "https://localhost:8080/"
        },
        "outputId": "bcfd9f67-1547-46a8-933f-14e8d6408391"
      },
      "source": [
        "# find hyperparameter\n",
        "epochs = [30]\n",
        "batch_size = [64]\n",
        "dropout = [0.2]\n",
        "activation = ['relu']\n",
        "optimizer = ['SGD', 'RMSprop', 'Adagrad', 'Adadelta', 'Adam', 'Adamax', 'Nadam']\n",
        "\n",
        "from sklearn.model_selection import GridSearchCV\n",
        "from keras.wrappers.scikit_learn import KerasClassifier\n",
        "\n",
        "model = KerasClassifier(build_fn=create_cnn_model,verbose=0)\n",
        "\n",
        "start = time()\n",
        "param_grid = dict(dropout=dropout,epochs=epochs,batch_size=batch_size,activation=activation,optimizer=optimizer)\n",
        "grid = GridSearchCV(estimator=model, param_grid=param_grid, cv=3).fit(X_train[:,:,:,None],y_train)\n",
        "end = time()\n",
        "\n",
        "print(f'time: {end-start} sec')\n",
        "\n",
        "print(\"Best: %f using %s\" % (grid.best_score_, grid.best_params_))\n",
        "rank = grid.cv_results_['rank_test_score']\n",
        "means = grid.cv_results_['mean_test_score']\n",
        "stds = grid.cv_results_['std_test_score']\n",
        "params = grid.cv_results_['params']  \n",
        "for mean, stdev, param in zip(means, stds, params):\n",
        "    print(\"%f (%f) with:%r\"%(mean, stdev, param))"
      ],
      "id": "Em9LGSMJ9ZJ0",
      "execution_count": null,
      "outputs": [
        {
          "output_type": "stream",
          "name": "stdout",
          "text": [
            "time: 202.20222973823547 sec\n",
            "Best: 0.037202 using {'activation': 'relu', 'batch_size': 64, 'dropout': 0.2, 'epochs': 30, 'optimizer': 'RMSprop'}\n",
            "0.016369 (0.011136) with:{'activation': 'relu', 'batch_size': 64, 'dropout': 0.2, 'epochs': 30, 'optimizer': 'SGD'}\n",
            "0.037202 (0.002104) with:{'activation': 'relu', 'batch_size': 64, 'dropout': 0.2, 'epochs': 30, 'optimizer': 'RMSprop'}\n",
            "0.000000 (0.000000) with:{'activation': 'relu', 'batch_size': 64, 'dropout': 0.2, 'epochs': 30, 'optimizer': 'Adagrad'}\n",
            "0.001488 (0.002104) with:{'activation': 'relu', 'batch_size': 64, 'dropout': 0.2, 'epochs': 30, 'optimizer': 'Adadelta'}\n",
            "0.026786 (0.013143) with:{'activation': 'relu', 'batch_size': 64, 'dropout': 0.2, 'epochs': 30, 'optimizer': 'Adam'}\n",
            "0.035714 (0.012627) with:{'activation': 'relu', 'batch_size': 64, 'dropout': 0.2, 'epochs': 30, 'optimizer': 'Adamax'}\n",
            "0.029762 (0.005568) with:{'activation': 'relu', 'batch_size': 64, 'dropout': 0.2, 'epochs': 30, 'optimizer': 'Nadam'}\n"
          ]
        }
      ]
    },
    {
      "cell_type": "markdown",
      "metadata": {
        "id": "y_KIFZ8m8LPP"
      },
      "source": [
        "### learning rate"
      ],
      "id": "y_KIFZ8m8LPP"
    },
    {
      "cell_type": "code",
      "metadata": {
        "id": "2iP4ZqcQ9Pna"
      },
      "source": [
        "def create_cnn_model(activation='relu',dropout=0.25,optimizer='adam',learn_rate=0.001):\n",
        "    np.random.seed(1)\n",
        "    tf.random.set_seed(1)\n",
        "    model = None\n",
        "    model = keras.Sequential()\n",
        "\n",
        "    model.add(keras.layers.Conv2D(128, 5, input_shape=(X_train.shape[1], X_train.shape[2], 1), activation=activation))\n",
        "    model.add(keras.layers.Dropout(dropout))\n",
        "    model.add(keras.layers.MaxPool2D())\n",
        "\n",
        "    model.add(keras.layers.Conv2D(64, 5, activation=activation,padding='same'))\n",
        "    model.add(keras.layers.Dropout(dropout))\n",
        "    model.add(keras.layers.MaxPool2D())\n",
        "\n",
        "    model.add(keras.layers.Conv2D(64, 5, activation=activation,padding='same'))\n",
        "    model.add(keras.layers.Dropout(dropout))\n",
        "    model.add(keras.layers.MaxPool2D())\n",
        "\n",
        "    model.add(keras.layers.Flatten())\n",
        "    model.add(keras.layers.Dense(128, activation=activation))\n",
        "    model.add(keras.layers.Dropout(dropout))\n",
        "\n",
        "    model.add(keras.layers.Dense(64, activation=activation))\n",
        "    model.add(keras.layers.Dropout(dropout))\n",
        "\n",
        "    model.add(keras.layers.Dense(len(np.unique(df['label'])), activation='softmax'))\n",
        "    \n",
        "    optimizer = tf.keras.optimizers.RMSprop(lr=learn_rate)\n",
        "    model.compile(optimizer=optimizer, loss='sparse_categorical_crossentropy', metrics=['accuracy'])\n",
        "\n",
        "    # model.summary()\n",
        "\n",
        "    return model"
      ],
      "id": "2iP4ZqcQ9Pna",
      "execution_count": null,
      "outputs": []
    },
    {
      "cell_type": "code",
      "metadata": {
        "id": "m2CU2Lkj8Ope",
        "colab": {
          "base_uri": "https://localhost:8080/"
        },
        "outputId": "42074c40-6426-4f8e-f049-9c006698346e"
      },
      "source": [
        "# find hyperparameter\n",
        "epochs = [30]\n",
        "batch_size = [64]\n",
        "dropout = [0.2]\n",
        "activation = ['relu']\n",
        "lr = [0.0001,0.001,0.002,0.003,0.01,0.1,0.2] \n",
        "\n",
        "from sklearn.model_selection import GridSearchCV\n",
        "from keras.wrappers.scikit_learn import KerasClassifier\n",
        "\n",
        "model = KerasClassifier(build_fn=create_cnn_model,verbose=0)\n",
        "\n",
        "start = time()\n",
        "param_grid = dict(dropout=dropout,epochs=epochs,batch_size=batch_size,activation=activation,learn_rate=lr)\n",
        "grid = GridSearchCV(estimator=model, param_grid=param_grid, cv=3).fit(X_train[:,:,:,None],y_train)\n",
        "end = time()\n",
        "\n",
        "print(f'time: {end-start} sec')\n",
        "\n",
        "print(\"Best: %f using %s\" % (grid.best_score_, grid.best_params_))\n",
        "rank = grid.cv_results_['rank_test_score']\n",
        "means = grid.cv_results_['mean_test_score']\n",
        "stds = grid.cv_results_['std_test_score']\n",
        "params = grid.cv_results_['params']  \n",
        "for mean, stdev, param in zip(means, stds, params):\n",
        "    print(\"%f (%f) with:%r\"%(mean, stdev, param))"
      ],
      "id": "m2CU2Lkj8Ope",
      "execution_count": null,
      "outputs": [
        {
          "output_type": "stream",
          "name": "stderr",
          "text": [
            "/usr/local/lib/python3.7/dist-packages/keras/optimizer_v2/optimizer_v2.py:356: UserWarning: The `lr` argument is deprecated, use `learning_rate` instead.\n",
            "  \"The `lr` argument is deprecated, use `learning_rate` instead.\")\n"
          ]
        },
        {
          "output_type": "stream",
          "name": "stdout",
          "text": [
            "time: 205.64114952087402 sec\n",
            "Best: 0.034226 using {'activation': 'relu', 'batch_size': 64, 'dropout': 0.2, 'epochs': 30, 'learn_rate': 0.002}\n",
            "0.019345 (0.013800) with:{'activation': 'relu', 'batch_size': 64, 'dropout': 0.2, 'epochs': 30, 'learn_rate': 0.0001}\n",
            "0.026786 (0.006313) with:{'activation': 'relu', 'batch_size': 64, 'dropout': 0.2, 'epochs': 30, 'learn_rate': 0.001}\n",
            "0.034226 (0.005568) with:{'activation': 'relu', 'batch_size': 64, 'dropout': 0.2, 'epochs': 30, 'learn_rate': 0.002}\n",
            "0.025298 (0.002104) with:{'activation': 'relu', 'batch_size': 64, 'dropout': 0.2, 'epochs': 30, 'learn_rate': 0.003}\n",
            "0.014881 (0.021045) with:{'activation': 'relu', 'batch_size': 64, 'dropout': 0.2, 'epochs': 30, 'learn_rate': 0.01}\n",
            "0.000000 (0.000000) with:{'activation': 'relu', 'batch_size': 64, 'dropout': 0.2, 'epochs': 30, 'learn_rate': 0.1}\n",
            "0.000000 (0.000000) with:{'activation': 'relu', 'batch_size': 64, 'dropout': 0.2, 'epochs': 30, 'learn_rate': 0.2}\n"
          ]
        }
      ]
    },
    {
      "cell_type": "markdown",
      "metadata": {
        "id": "L47Ld3Y4_MpH"
      },
      "source": [
        "### train"
      ],
      "id": "L47Ld3Y4_MpH"
    },
    {
      "cell_type": "code",
      "metadata": {
        "id": "Yirb66Us_IcT",
        "colab": {
          "base_uri": "https://localhost:8080/"
        },
        "outputId": "b0b35d69-9cf9-4af9-b07d-11adfd0685b9"
      },
      "source": [
        "def create_cnn_model(activation='relu',dropout=0.2,optimizer='RMSprop',learn_rate=0.002):\n",
        "    np.random.seed(1)\n",
        "    tf.random.set_seed(1)\n",
        "    model = None\n",
        "    model = keras.Sequential()\n",
        "\n",
        "    model.add(keras.layers.Conv2D(128, 5, input_shape=(X_train.shape[1], X_train.shape[2], 1), activation=activation))\n",
        "    model.add(keras.layers.Dropout(dropout))\n",
        "    model.add(keras.layers.MaxPool2D())\n",
        "\n",
        "    model.add(keras.layers.Conv2D(64, 5, activation=activation,padding='same'))\n",
        "    model.add(keras.layers.Dropout(dropout))\n",
        "    model.add(keras.layers.MaxPool2D())\n",
        "\n",
        "    model.add(keras.layers.Conv2D(64, 5, activation=activation,padding='same'))\n",
        "    model.add(keras.layers.Dropout(dropout))\n",
        "    model.add(keras.layers.MaxPool2D())\n",
        "\n",
        "    model.add(keras.layers.Flatten())\n",
        "    model.add(keras.layers.Dense(128, activation=activation))\n",
        "    model.add(keras.layers.Dropout(dropout))\n",
        "\n",
        "    model.add(keras.layers.Dense(64, activation=activation))\n",
        "    model.add(keras.layers.Dropout(dropout))\n",
        "\n",
        "    model.add(keras.layers.Dense(len(np.unique(df['label'])), activation='softmax'))\n",
        "    \n",
        "    optimizer = tf.keras.optimizers.RMSprop(lr=learn_rate)\n",
        "    model.compile(optimizer=optimizer, loss='sparse_categorical_crossentropy', metrics=['accuracy'])\n",
        "\n",
        "    # model.summary()\n",
        "\n",
        "    return model\n",
        "\n",
        "# Train model\n",
        "start = time()\n",
        "model_cnn = create_cnn_model(activation='relu',dropout=0.2,optimizer='RMSprop',learn_rate=0.002)\n",
        "history = model_cnn.fit(X_train[:,:,:,None], y_train, epochs=30, validation_data=(X_valid[:,:,:,None],y_valid),batch_size=64,verbose=1)\n",
        "end = time()\n",
        "print(f'time: {end-start} sec')"
      ],
      "id": "Yirb66Us_IcT",
      "execution_count": 25,
      "outputs": [
        {
          "output_type": "stream",
          "name": "stderr",
          "text": [
            "/usr/local/lib/python3.7/dist-packages/keras/optimizer_v2/optimizer_v2.py:356: UserWarning: The `lr` argument is deprecated, use `learning_rate` instead.\n",
            "  \"The `lr` argument is deprecated, use `learning_rate` instead.\")\n"
          ]
        },
        {
          "output_type": "stream",
          "name": "stdout",
          "text": [
            "Epoch 1/30\n",
            "11/11 [==============================] - 2s 56ms/step - loss: 12.8103 - accuracy: 0.0104 - val_loss: 4.0233 - val_accuracy: 0.0298\n",
            "Epoch 2/30\n",
            "11/11 [==============================] - 0s 42ms/step - loss: 4.0141 - accuracy: 0.0238 - val_loss: 3.9744 - val_accuracy: 0.0357\n",
            "Epoch 3/30\n",
            "11/11 [==============================] - 0s 42ms/step - loss: 3.9371 - accuracy: 0.0402 - val_loss: 3.8662 - val_accuracy: 0.0714\n",
            "Epoch 4/30\n",
            "11/11 [==============================] - 0s 43ms/step - loss: 3.7288 - accuracy: 0.0863 - val_loss: 3.7334 - val_accuracy: 0.1190\n",
            "Epoch 5/30\n",
            "11/11 [==============================] - 0s 43ms/step - loss: 3.3709 - accuracy: 0.1429 - val_loss: 3.1747 - val_accuracy: 0.2024\n",
            "Epoch 6/30\n",
            "11/11 [==============================] - 0s 43ms/step - loss: 3.0255 - accuracy: 0.1949 - val_loss: 2.8305 - val_accuracy: 0.3333\n",
            "Epoch 7/30\n",
            "11/11 [==============================] - 0s 43ms/step - loss: 2.5210 - accuracy: 0.3125 - val_loss: 2.2771 - val_accuracy: 0.4821\n",
            "Epoch 8/30\n",
            "11/11 [==============================] - 0s 42ms/step - loss: 2.1274 - accuracy: 0.4033 - val_loss: 1.6706 - val_accuracy: 0.6190\n",
            "Epoch 9/30\n",
            "11/11 [==============================] - 0s 42ms/step - loss: 1.7482 - accuracy: 0.4926 - val_loss: 1.6870 - val_accuracy: 0.6012\n",
            "Epoch 10/30\n",
            "11/11 [==============================] - 0s 42ms/step - loss: 1.5132 - accuracy: 0.5744 - val_loss: 1.2742 - val_accuracy: 0.7619\n",
            "Epoch 11/30\n",
            "11/11 [==============================] - 0s 42ms/step - loss: 1.2092 - accuracy: 0.6607 - val_loss: 1.1104 - val_accuracy: 0.7917\n",
            "Epoch 12/30\n",
            "11/11 [==============================] - 0s 42ms/step - loss: 0.9893 - accuracy: 0.7217 - val_loss: 0.8553 - val_accuracy: 0.7976\n",
            "Epoch 13/30\n",
            "11/11 [==============================] - 0s 42ms/step - loss: 0.8133 - accuracy: 0.7574 - val_loss: 0.8874 - val_accuracy: 0.8512\n",
            "Epoch 14/30\n",
            "11/11 [==============================] - 0s 42ms/step - loss: 0.5985 - accuracy: 0.8214 - val_loss: 0.9172 - val_accuracy: 0.7976\n",
            "Epoch 15/30\n",
            "11/11 [==============================] - 0s 42ms/step - loss: 0.7076 - accuracy: 0.7991 - val_loss: 0.6897 - val_accuracy: 0.8810\n",
            "Epoch 16/30\n",
            "11/11 [==============================] - 0s 42ms/step - loss: 0.5009 - accuracy: 0.8452 - val_loss: 0.6702 - val_accuracy: 0.8571\n",
            "Epoch 17/30\n",
            "11/11 [==============================] - 0s 42ms/step - loss: 0.3704 - accuracy: 0.8854 - val_loss: 0.4518 - val_accuracy: 0.8988\n",
            "Epoch 18/30\n",
            "11/11 [==============================] - 0s 42ms/step - loss: 0.4390 - accuracy: 0.8676 - val_loss: 0.9488 - val_accuracy: 0.7619\n",
            "Epoch 19/30\n",
            "11/11 [==============================] - 0s 42ms/step - loss: 0.4041 - accuracy: 0.8750 - val_loss: 0.4171 - val_accuracy: 0.9286\n",
            "Epoch 20/30\n",
            "11/11 [==============================] - 0s 42ms/step - loss: 0.4711 - accuracy: 0.8795 - val_loss: 0.5485 - val_accuracy: 0.8631\n",
            "Epoch 21/30\n",
            "11/11 [==============================] - 0s 42ms/step - loss: 0.2727 - accuracy: 0.9107 - val_loss: 0.4475 - val_accuracy: 0.8869\n",
            "Epoch 22/30\n",
            "11/11 [==============================] - 0s 42ms/step - loss: 0.3374 - accuracy: 0.9033 - val_loss: 0.5123 - val_accuracy: 0.8929\n",
            "Epoch 23/30\n",
            "11/11 [==============================] - 0s 42ms/step - loss: 0.2876 - accuracy: 0.9092 - val_loss: 0.6194 - val_accuracy: 0.8333\n",
            "Epoch 24/30\n",
            "11/11 [==============================] - 0s 42ms/step - loss: 0.2358 - accuracy: 0.9315 - val_loss: 0.3512 - val_accuracy: 0.9226\n",
            "Epoch 25/30\n",
            "11/11 [==============================] - 0s 42ms/step - loss: 0.2920 - accuracy: 0.9033 - val_loss: 0.5577 - val_accuracy: 0.8631\n",
            "Epoch 26/30\n",
            "11/11 [==============================] - 0s 42ms/step - loss: 0.1913 - accuracy: 0.9479 - val_loss: 0.3221 - val_accuracy: 0.9405\n",
            "Epoch 27/30\n",
            "11/11 [==============================] - 0s 42ms/step - loss: 0.1630 - accuracy: 0.9554 - val_loss: 0.3939 - val_accuracy: 0.8988\n",
            "Epoch 28/30\n",
            "11/11 [==============================] - 0s 42ms/step - loss: 0.2516 - accuracy: 0.9241 - val_loss: 0.3483 - val_accuracy: 0.9107\n",
            "Epoch 29/30\n",
            "11/11 [==============================] - 0s 42ms/step - loss: 0.2209 - accuracy: 0.9286 - val_loss: 0.6987 - val_accuracy: 0.8214\n",
            "Epoch 30/30\n",
            "11/11 [==============================] - 0s 42ms/step - loss: 0.2528 - accuracy: 0.9271 - val_loss: 0.3477 - val_accuracy: 0.9167\n",
            "time: 15.191506385803223 sec\n"
          ]
        }
      ]
    },
    {
      "cell_type": "code",
      "metadata": {
        "id": "sf4WWJV3__D7",
        "colab": {
          "base_uri": "https://localhost:8080/"
        },
        "outputId": "42a61ee6-faa3-42f5-ad71-e811dbef66da"
      },
      "source": [
        "# Evaluate model\n",
        "print(f'Test Accuracy: {model_cnn.evaluate(X_test[:,:,:,None],y_test,verbose=0)[1]}')"
      ],
      "id": "sf4WWJV3__D7",
      "execution_count": 26,
      "outputs": [
        {
          "output_type": "stream",
          "name": "stdout",
          "text": [
            "Test Accuracy: 0.9214285612106323\n"
          ]
        }
      ]
    },
    {
      "cell_type": "code",
      "metadata": {
        "id": "BXn8UvSpAOw4",
        "colab": {
          "base_uri": "https://localhost:8080/",
          "height": 608
        },
        "outputId": "a46f1649-167c-4629-9c30-c7014c78220d"
      },
      "source": [
        "# # Learning curve\n",
        "# # plot the accuracy and loss plots between training and validation data\n",
        "# # verify overfitting or underfit \n",
        "\n",
        "# model_cnn = create_cnn_model(activation='relu',dropout=0.2,optimizer='RMSprop',learn_rate=0.002)\n",
        "# history = model_cnn.fit(X_train[:,:,:,None], y_train, epochs=100, validation_data=(X_valid[:,:,:,None],y_valid),batch_size=64,verbose=0)\n",
        "\n",
        "# acc = history.history['accuracy']\n",
        "# val_acc = history.history['val_accuracy']\n",
        "# loss = history.history['loss']\n",
        "# val_loss = history.history['val_loss']\n",
        "# x = range(1,len(acc)+1)\n",
        "\n",
        "# plt.plot(x,acc,'b',label='Training accuracy')\n",
        "# plt.plot(x,val_acc,'r',label='Validation accuracy')\n",
        "# plt.title('Training and validation accuracy')\n",
        "# plt.xlabel('epochs')\n",
        "# plt.ylabel('accuracy')\n",
        "# plt.legend()\n",
        "# plt.figure()\n",
        "\n",
        "# plt.plot(x,loss,'b',label='Training loss')\n",
        "# plt.plot(x,val_loss,'r',label='Validation loss')\n",
        "# plt.title('Training and validation loss')\n",
        "# plt.xlabel('epochs')\n",
        "# plt.ylabel('loss')\n",
        "# plt.legend()\n",
        "# plt.show()"
      ],
      "id": "BXn8UvSpAOw4",
      "execution_count": 18,
      "outputs": [
        {
          "output_type": "stream",
          "name": "stderr",
          "text": [
            "/usr/local/lib/python3.7/dist-packages/keras/optimizer_v2/optimizer_v2.py:356: UserWarning: The `lr` argument is deprecated, use `learning_rate` instead.\n",
            "  \"The `lr` argument is deprecated, use `learning_rate` instead.\")\n"
          ]
        },
        {
          "output_type": "display_data",
          "data": {
            "image/png": "[encoded data removed]",
            "text/plain": [
              "<Figure size 432x288 with 1 Axes>"
            ]
          },
          "metadata": {
            "needs_background": "light"
          }
        },
        {
          "output_type": "display_data",
          "data": {
            "image/png": "[encoded data removed]",
            "text/plain": [
              "<Figure size 432x288 with 1 Axes>"
            ]
          },
          "metadata": {
            "needs_background": "light"
          }
        }
      ]
    },
    {
      "cell_type": "code",
      "metadata": {
        "id": "drxe7zX2AVxp",
        "colab": {
          "base_uri": "https://localhost:8080/"
        },
        "outputId": "1c0a1e26-c9d3-4b26-cc2d-8c5966a1db6a"
      },
      "source": [
        "# classification report\n",
        "predicted_classes = np.argmax(np.round(model_cnn.predict(X_test[:,:,:,None])),axis=1)\n",
        "correct = np.where(predicted_classes==y_test)[0]\n",
        "target_names = [f\"Class {label}\" for label in range(len(np.unique(df['label'])))]\n",
        "\n",
        "print(f\"From {len(y_test)} labels're founding {len(correct)} correct labels.\")\n",
        "print(f'Accuracy: {len(correct)/len(y_test)}')\n",
        "print('')\n",
        "print(classification_report(y_test, predicted_classes, target_names=target_names))"
      ],
      "id": "drxe7zX2AVxp",
      "execution_count": 27,
      "outputs": [
        {
          "output_type": "stream",
          "name": "stdout",
          "text": [
            "From 280 labels're founding 255 correct labels.\n",
            "Accuracy: 0.9107142857142857\n",
            "\n",
            "              precision    recall  f1-score   support\n",
            "\n",
            "     Class 0       0.33      1.00      0.50         5\n",
            "     Class 1       1.00      1.00      1.00         5\n",
            "     Class 2       1.00      1.00      1.00         5\n",
            "     Class 3       1.00      0.80      0.89         5\n",
            "     Class 4       1.00      0.80      0.89         5\n",
            "     Class 5       1.00      0.80      0.89         5\n",
            "     Class 6       1.00      1.00      1.00         5\n",
            "     Class 7       1.00      1.00      1.00         5\n",
            "     Class 8       1.00      0.40      0.57         5\n",
            "     Class 9       0.83      1.00      0.91         5\n",
            "    Class 10       1.00      1.00      1.00         5\n",
            "    Class 11       1.00      1.00      1.00         5\n",
            "    Class 12       1.00      0.80      0.89         5\n",
            "    Class 13       1.00      0.80      0.89         5\n",
            "    Class 14       1.00      1.00      1.00         5\n",
            "    Class 15       0.71      1.00      0.83         5\n",
            "    Class 16       1.00      1.00      1.00         5\n",
            "    Class 17       1.00      0.80      0.89         5\n",
            "    Class 18       1.00      1.00      1.00         5\n",
            "    Class 19       1.00      1.00      1.00         5\n",
            "    Class 20       1.00      1.00      1.00         5\n",
            "    Class 21       1.00      1.00      1.00         5\n",
            "    Class 22       1.00      1.00      1.00         5\n",
            "    Class 23       0.56      1.00      0.71         5\n",
            "    Class 24       1.00      0.80      0.89         5\n",
            "    Class 25       1.00      1.00      1.00         5\n",
            "    Class 26       1.00      1.00      1.00         5\n",
            "    Class 27       0.80      0.80      0.80         5\n",
            "    Class 28       1.00      0.80      0.89         5\n",
            "    Class 29       0.83      1.00      0.91         5\n",
            "    Class 30       0.83      1.00      0.91         5\n",
            "    Class 31       1.00      0.80      0.89         5\n",
            "    Class 32       1.00      1.00      1.00         5\n",
            "    Class 33       1.00      0.80      0.89         5\n",
            "    Class 34       1.00      1.00      1.00         5\n",
            "    Class 35       1.00      1.00      1.00         5\n",
            "    Class 36       0.80      0.80      0.80         5\n",
            "    Class 37       1.00      1.00      1.00         5\n",
            "    Class 38       1.00      0.60      0.75         5\n",
            "    Class 39       1.00      0.40      0.57         5\n",
            "    Class 40       1.00      1.00      1.00         5\n",
            "    Class 41       1.00      0.80      0.89         5\n",
            "    Class 42       1.00      1.00      1.00         5\n",
            "    Class 43       1.00      0.80      0.89         5\n",
            "    Class 44       1.00      1.00      1.00         5\n",
            "    Class 45       1.00      1.00      1.00         5\n",
            "    Class 46       0.83      1.00      0.91         5\n",
            "    Class 47       1.00      0.80      0.89         5\n",
            "    Class 48       1.00      1.00      1.00         5\n",
            "    Class 49       1.00      0.80      0.89         5\n",
            "    Class 50       1.00      1.00      1.00         5\n",
            "    Class 51       0.67      0.80      0.73         5\n",
            "    Class 52       0.83      1.00      0.91         5\n",
            "    Class 53       1.00      1.00      1.00         5\n",
            "    Class 54       1.00      1.00      1.00         5\n",
            "    Class 55       1.00      1.00      1.00         5\n",
            "\n",
            "    accuracy                           0.91       280\n",
            "   macro avg       0.95      0.91      0.92       280\n",
            "weighted avg       0.95      0.91      0.92       280\n",
            "\n"
          ]
        }
      ]
    },
    {
      "cell_type": "code",
      "metadata": {
        "id": "DmIchrjBeAV2",
        "outputId": "a48a2775-acda-4ee1-f20d-38a9a0f50cb3",
        "colab": {
          "base_uri": "https://localhost:8080/"
        }
      },
      "source": [
        "correct"
      ],
      "id": "DmIchrjBeAV2",
      "execution_count": 28,
      "outputs": [
        {
          "output_type": "execute_result",
          "data": {
            "text/plain": [
              "array([  0,   1,   2,   3,   4,   5,   6,   7,   8,   9,  10,  11,  12,\n",
              "        13,  14,  16,  17,  18,  19,  20,  21,  23,  24,  26,  27,  28,\n",
              "        29,  30,  31,  32,  33,  34,  35,  36,  37,  38,  39,  40,  41,\n",
              "        42,  43,  44,  45,  46,  47,  48,  49,  50,  51,  52,  53,  54,\n",
              "        55,  57,  58,  59,  60,  61,  63,  64,  65,  66,  67,  68,  69,\n",
              "        70,  71,  72,  73,  74,  75,  76,  77,  78,  79,  80,  81,  84,\n",
              "        86,  87,  88,  89,  90,  91,  92,  93,  94,  95,  96,  97,  98,\n",
              "        99, 100, 101, 102, 103, 104, 105, 106, 107, 108, 109, 110, 111,\n",
              "       112, 113, 114, 115, 116, 117, 118, 119, 120, 121, 122, 123, 124,\n",
              "       125, 126, 127, 128, 129, 130, 131, 132, 133, 134, 135, 136, 137,\n",
              "       138, 139, 140, 141, 142, 144, 145, 146, 147, 148, 149, 150, 151,\n",
              "       153, 154, 155, 156, 157, 158, 159, 160, 162, 163, 164, 165, 166,\n",
              "       167, 168, 169, 170, 171, 172, 173, 174, 175, 176, 177, 178, 180,\n",
              "       181, 182, 183, 184, 185, 187, 188, 189, 190, 191, 192, 193, 194,\n",
              "       196, 197, 198, 199, 200, 201, 202, 203, 204, 205, 206, 207, 208,\n",
              "       209, 210, 211, 213, 214, 215, 216, 217, 218, 219, 220, 221, 222,\n",
              "       223, 224, 225, 226, 227, 228, 229, 231, 232, 233, 234, 235, 236,\n",
              "       237, 238, 239, 240, 241, 242, 243, 244, 245, 246, 247, 248, 252,\n",
              "       253, 255, 256, 257, 258, 259, 260, 261, 262, 264, 265, 266, 267,\n",
              "       269, 270, 271, 272, 273, 274, 275, 279])"
            ]
          },
          "metadata": {},
          "execution_count": 28
        }
      ]
    },
    {
      "cell_type": "code",
      "metadata": {
        "id": "TcOE-8tFgar4"
      },
      "source": [
        "index=[]\n",
        "true = []\n",
        "for i in range(len(y_test)):\n",
        "    if y_test[i] == 0 or y_test[i] == 8 or y_test[i] == 39:\n",
        "        index.append(i)\n",
        "        true.append(y_test[i])"
      ],
      "id": "TcOE-8tFgar4",
      "execution_count": 44,
      "outputs": []
    },
    {
      "cell_type": "code",
      "metadata": {
        "id": "HrNjyX-UhHo_"
      },
      "source": [
        "pred=[]\n",
        "for i in index:\n",
        "    pred.append(predicted_classes[i])"
      ],
      "id": "HrNjyX-UhHo_",
      "execution_count": 47,
      "outputs": []
    },
    {
      "cell_type": "code",
      "metadata": {
        "id": "ti-czTiTigyG",
        "outputId": "1813387c-0c4e-44d7-f21b-b2a36dfb284e",
        "colab": {
          "base_uri": "https://localhost:8080/"
        }
      },
      "source": [
        "true"
      ],
      "id": "ti-czTiTigyG",
      "execution_count": 50,
      "outputs": [
        {
          "output_type": "execute_result",
          "data": {
            "text/plain": [
              "[0, 0, 0, 0, 0, 39, 39, 39, 39, 39, 8, 8, 8, 8, 8]"
            ]
          },
          "metadata": {},
          "execution_count": 50
        }
      ]
    },
    {
      "cell_type": "code",
      "metadata": {
        "id": "OuNS4xKoiqa2",
        "outputId": "9f87f61e-51b2-4614-e729-2658d0eb32e4",
        "colab": {
          "base_uri": "https://localhost:8080/"
        }
      },
      "source": [
        "pred"
      ],
      "id": "OuNS4xKoiqa2",
      "execution_count": 51,
      "outputs": [
        {
          "output_type": "execute_result",
          "data": {
            "text/plain": [
              "[0, 0, 0, 0, 0, 15, 23, 39, 39, 23, 8, 23, 23, 0, 8]"
            ]
          },
          "metadata": {},
          "execution_count": 51
        }
      ]
    },
    {
      "cell_type": "code",
      "metadata": {
        "id": "tOAcwqqTjWOt",
        "outputId": "9092bae9-2cbf-44fd-c3c1-47854bb31229",
        "colab": {
          "base_uri": "https://localhost:8080/"
        }
      },
      "source": [
        "df[df['label']==39]['description']"
      ],
      "id": "tOAcwqqTjWOt",
      "execution_count": 54,
      "outputs": [
        {
          "output_type": "execute_result",
          "data": {
            "text/plain": [
              "780    ใบชะพลู1\n",
              "781    ใบชะพลู1\n",
              "782    ใบชะพลู1\n",
              "783    ใบชะพลู1\n",
              "784    ใบชะพลู1\n",
              "785    ใบชะพลู1\n",
              "786    ใบชะพลู1\n",
              "787    ใบชะพลู1\n",
              "788    ใบชะพลู1\n",
              "789    ใบชะพลู1\n",
              "790    ใบชะพลู1\n",
              "791    ใบชะพลู1\n",
              "792    ใบชะพลู1\n",
              "793    ใบชะพลู1\n",
              "794    ใบชะพลู1\n",
              "795    ใบชะพลู1\n",
              "796    ใบชะพลู1\n",
              "797    ใบชะพลู1\n",
              "798    ใบชะพลู1\n",
              "799    ใบชะพลู1\n",
              "Name: description, dtype: object"
            ]
          },
          "metadata": {},
          "execution_count": 54
        }
      ]
    },
    {
      "cell_type": "code",
      "metadata": {
        "id": "GceVmGhxlIY_"
      },
      "source": [
        "!wget -q https://github.com/Phonbopit/sarabun-webfont/raw/master/fonts/thsarabunnew-webfont.ttf\n",
        "\n",
        "mpl.font_manager.fontManager.addfont('thsarabunnew-webfont.ttf')\n",
        "mpl.rc('font', family='TH Sarabun New', size=8)"
      ],
      "id": "GceVmGhxlIY_",
      "execution_count": 63,
      "outputs": []
    },
    {
      "cell_type": "code",
      "metadata": {
        "id": "vy2dlO9xhvT6",
        "outputId": "c2c2779a-ac1d-41d9-d146-f8108b7f5f2b",
        "colab": {
          "base_uri": "https://localhost:8080/",
          "height": 286
        }
      },
      "source": [
        "from sklearn.linear_model import LogisticRegression\n",
        "from sklearn.metrics import confusion_matrix\n",
        "\n",
        "cf_matrix = confusion_matrix(true, pred)\n",
        "\n",
        "import seaborn as sns\n",
        "sns.heatmap(cf_matrix, annot=True, xticklabels=['กระชาย','ไข่น้ำ','น้อยหน่า','ผักตำลึง','ใบชะพลู1'],yticklabels=['กระชาย','ไข่น้ำ','น้อยหน่า','ผักตำลึง','ใบชะพลู1'],cmap='Blues')"
      ],
      "id": "vy2dlO9xhvT6",
      "execution_count": 66,
      "outputs": [
        {
          "output_type": "execute_result",
          "data": {
            "text/plain": [
              "<matplotlib.axes._subplots.AxesSubplot at 0x7f41d21f2310>"
            ]
          },
          "metadata": {},
          "execution_count": 66
        },
        {
          "output_type": "display_data",
          "data": {
            "image/png": "[encoded data removed]",
            "text/plain": [
              "<Figure size 432x288 with 2 Axes>"
            ]
          },
          "metadata": {
            "needs_background": "light"
          }
        }
      ]
    },
    {
      "cell_type": "code",
      "metadata": {
        "id": "tMCE64NRfV_m",
        "outputId": "16724ff7-d2f3-4e4f-f69c-ebbc23c320c4",
        "colab": {
          "base_uri": "https://localhost:8080/"
        }
      },
      "source": [
        "y_test"
      ],
      "id": "tMCE64NRfV_m",
      "execution_count": 34,
      "outputs": [
        {
          "output_type": "execute_result",
          "data": {
            "text/plain": [
              "array([ 0,  0,  0,  0,  0,  1,  1,  1,  1,  1,  2,  2,  2,  2,  2,  3,  3,\n",
              "        3,  3,  3,  4,  4,  4,  4,  4,  5,  5,  5,  5,  5,  6,  6,  6,  6,\n",
              "        6,  7,  7,  7,  7,  7,  9,  9,  9,  9,  9, 10, 10, 10, 10, 10, 11,\n",
              "       11, 11, 11, 11, 12, 12, 12, 12, 12, 13, 13, 13, 13, 13, 14, 14, 14,\n",
              "       14, 14, 15, 15, 15, 15, 15, 16, 16, 16, 16, 16, 38, 38, 38, 38, 38,\n",
              "       17, 17, 17, 17, 17, 18, 18, 18, 18, 18, 19, 19, 19, 19, 19, 20, 20,\n",
              "       20, 20, 20, 21, 21, 21, 21, 21, 22, 22, 22, 22, 22, 23, 23, 23, 23,\n",
              "       23, 48, 48, 48, 48, 48, 44, 44, 44, 44, 44, 45, 45, 45, 45, 45, 46,\n",
              "       46, 46, 46, 46, 49, 49, 49, 49, 49, 50, 50, 50, 50, 50, 27, 27, 27,\n",
              "       27, 27, 32, 32, 32, 32, 32, 24, 24, 24, 24, 24, 25, 25, 25, 25, 25,\n",
              "       30, 30, 30, 30, 30, 31, 31, 31, 31, 31, 26, 26, 26, 26, 26, 28, 28,\n",
              "       28, 28, 28, 29, 29, 29, 29, 29, 36, 36, 36, 36, 36, 37, 37, 37, 37,\n",
              "       37, 35, 35, 35, 35, 35, 33, 33, 33, 33, 33, 34, 34, 34, 34, 34, 53,\n",
              "       53, 53, 53, 53, 52, 52, 52, 52, 52, 51, 51, 51, 51, 51, 54, 54, 54,\n",
              "       54, 54, 55, 55, 55, 55, 55, 47, 47, 47, 47, 47, 39, 39, 39, 39, 39,\n",
              "       40, 40, 40, 40, 40, 41, 41, 41, 41, 41, 43, 43, 43, 43, 43, 42, 42,\n",
              "       42, 42, 42,  8,  8,  8,  8,  8])"
            ]
          },
          "metadata": {},
          "execution_count": 34
        }
      ]
    },
    {
      "cell_type": "code",
      "metadata": {
        "id": "t-E275ieeEfW",
        "outputId": "43ad3397-39a7-4fd7-e779-56c939f59202",
        "colab": {
          "base_uri": "https://localhost:8080/"
        }
      },
      "source": [
        "predicted_classes"
      ],
      "id": "t-E275ieeEfW",
      "execution_count": 29,
      "outputs": [
        {
          "output_type": "execute_result",
          "data": {
            "text/plain": [
              "array([ 0,  0,  0,  0,  0,  1,  1,  1,  1,  1,  2,  2,  2,  2,  2, 52,  3,\n",
              "        3,  3,  3,  4,  4, 29,  4,  4,  9,  5,  5,  5,  5,  6,  6,  6,  6,\n",
              "        6,  7,  7,  7,  7,  7,  9,  9,  9,  9,  9, 10, 10, 10, 10, 10, 11,\n",
              "       11, 11, 11, 11, 12, 15, 12, 12, 12, 13, 13,  0, 13, 13, 14, 14, 14,\n",
              "       14, 14, 15, 15, 15, 15, 15, 16, 16, 16, 16, 16, 38, 38, 30,  0, 38,\n",
              "        0, 17, 17, 17, 17, 18, 18, 18, 18, 18, 19, 19, 19, 19, 19, 20, 20,\n",
              "       20, 20, 20, 21, 21, 21, 21, 21, 22, 22, 22, 22, 22, 23, 23, 23, 23,\n",
              "       23, 48, 48, 48, 48, 48, 44, 44, 44, 44, 44, 45, 45, 45, 45, 45, 46,\n",
              "       46, 46, 46, 46, 49, 49, 49,  0, 49, 50, 50, 50, 50, 50, 27, 27, 36,\n",
              "       27, 27, 32, 32, 32, 32, 32, 24, 51, 24, 24, 24, 25, 25, 25, 25, 25,\n",
              "       30, 30, 30, 30, 30, 31, 31, 31, 31,  0, 26, 26, 26, 26, 26, 28,  0,\n",
              "       28, 28, 28, 29, 29, 29, 29, 29, 27, 36, 36, 36, 36, 37, 37, 37, 37,\n",
              "       37, 35, 35, 35, 35, 35, 33, 33,  0, 33, 33, 34, 34, 34, 34, 34, 53,\n",
              "       53, 53, 53, 53, 52, 52, 52, 52, 52, 46, 51, 51, 51, 51, 54, 54, 54,\n",
              "       54, 54, 55, 55, 55, 55, 55, 47, 47, 47, 47,  0, 15, 23, 39, 39, 23,\n",
              "       40, 40, 40, 40, 40, 41, 41, 41,  0, 41, 43, 43, 43, 51, 43, 42, 42,\n",
              "       42, 42, 42,  8, 23, 23,  0,  8])"
            ]
          },
          "metadata": {},
          "execution_count": 29
        }
      ]
    },
    {
      "cell_type": "code",
      "metadata": {
        "id": "OuNN2zS0eiMu",
        "outputId": "904b39ff-f5bf-46df-f8cf-1668ecb54027",
        "colab": {
          "base_uri": "https://localhost:8080/"
        }
      },
      "source": [
        "for i in ('กระชาย','ไข่น้ำ','ใบชะพลู1'):\n",
        "    print(np.unique(df[df['description']==i]['label']))"
      ],
      "id": "OuNN2zS0eiMu",
      "execution_count": 33,
      "outputs": [
        {
          "output_type": "stream",
          "name": "stdout",
          "text": [
            "[0]\n",
            "[8]\n",
            "[39]\n"
          ]
        }
      ]
    },
    {
      "cell_type": "markdown",
      "metadata": {
        "id": "eb5Hbazg0m69"
      },
      "source": [
        "## Find best parameter"
      ],
      "id": "eb5Hbazg0m69"
    },
    {
      "cell_type": "code",
      "metadata": {
        "id": "6OfmpZHz2OeW"
      },
      "source": [
        "# find hyperparameter\n",
        "epochs = [20,30,50,100,150]\n",
        "batch_size = [16,32,50,64,80,100]\n",
        "dropout = [0.2,0.25,0.3,0.4]\n",
        "lr = [0.001,0.01,0.1,0.2] \n",
        "activation = ['softmax', 'softplus', 'softsign', 'relu', 'tanh', 'sigmoid', 'hard_sigmoid', 'linear']\n",
        "optimizer = ['SGD', 'RMSprop', 'Adagrad', 'Adadelta', 'Adam', 'Adamax', 'Nadam']"
      ],
      "id": "6OfmpZHz2OeW",
      "execution_count": null,
      "outputs": []
    },
    {
      "cell_type": "markdown",
      "metadata": {
        "id": "0tU7GkS21aBX"
      },
      "source": [
        "### find epochs and batch_size"
      ],
      "id": "0tU7GkS21aBX"
    },
    {
      "cell_type": "code",
      "metadata": {
        "id": "oXVQO4Hd-N8-"
      },
      "source": [
        "from sklearn.model_selection import GridSearchCV\n",
        "from keras.wrappers.scikit_learn import KerasClassifier\n",
        "\n",
        "model = KerasClassifier(build_fn=create_cnn_model,verbose=1)\n",
        "\n",
        "start = time()\n",
        "param_grid = dict(batch_size=batch_size, epochs=epochs)\n",
        "grid = GridSearchCV(estimator=model, param_grid=param_grid, cv=3).fit(X_train[:,:,:,None],y_train)\n",
        "end = time()\n",
        "\n",
        "print(f'time: {end-start} sec')"
      ],
      "id": "oXVQO4Hd-N8-",
      "execution_count": null,
      "outputs": []
    },
    {
      "cell_type": "code",
      "metadata": {
        "id": "N0d9nvdE48Zi",
        "colab": {
          "base_uri": "https://localhost:8080/"
        },
        "outputId": "b30ee2cc-e1a0-4b80-f4c9-305802b200b1"
      },
      "source": [
        "print(\"Best: %f using %s\" % (grid.best_score_, grid.best_params_))\n",
        "rank = grid.cv_results_['rank_test_score']\n",
        "means = grid.cv_results_['mean_test_score']\n",
        "stds = grid.cv_results_['std_test_score']\n",
        "params = grid.cv_results_['params']  \n",
        "for mean, stdev, param in zip(means, stds, params):\n",
        "    print(\"%f (%f) with:%r\"%(mean, stdev, param))"
      ],
      "id": "N0d9nvdE48Zi",
      "execution_count": null,
      "outputs": [
        {
          "output_type": "stream",
          "name": "stdout",
          "text": [
            "Best: 0.051190 using {'batch_size': 80, 'epochs': 20}\n",
            "0.029762 (0.004454) with:{'batch_size': 16, 'epochs': 20}\n",
            "0.034524 (0.009374) with:{'batch_size': 16, 'epochs': 30}\n",
            "0.040476 (0.006734) with:{'batch_size': 16, 'epochs': 50}\n",
            "0.034524 (0.004454) with:{'batch_size': 16, 'epochs': 100}\n",
            "0.033333 (0.006070) with:{'batch_size': 16, 'epochs': 150}\n",
            "0.046429 (0.016236) with:{'batch_size': 32, 'epochs': 20}\n",
            "0.035714 (0.007715) with:{'batch_size': 32, 'epochs': 30}\n",
            "0.039286 (0.022016) with:{'batch_size': 32, 'epochs': 50}\n",
            "0.028571 (0.010514) with:{'batch_size': 32, 'epochs': 100}\n",
            "0.046429 (0.022775) with:{'batch_size': 32, 'epochs': 150}\n",
            "0.036905 (0.001684) with:{'batch_size': 50, 'epochs': 20}\n",
            "0.034524 (0.004454) with:{'batch_size': 50, 'epochs': 30}\n",
            "0.038095 (0.008909) with:{'batch_size': 50, 'epochs': 50}\n",
            "0.036905 (0.016060) with:{'batch_size': 50, 'epochs': 100}\n",
            "0.036905 (0.001684) with:{'batch_size': 50, 'epochs': 150}\n",
            "0.034524 (0.001684) with:{'batch_size': 64, 'epochs': 20}\n",
            "0.038095 (0.004454) with:{'batch_size': 64, 'epochs': 30}\n",
            "0.034524 (0.001684) with:{'batch_size': 64, 'epochs': 50}\n",
            "0.032143 (0.013363) with:{'batch_size': 64, 'epochs': 100}\n",
            "0.035714 (0.000000) with:{'batch_size': 64, 'epochs': 150}\n",
            "0.051190 (0.039805) with:{'batch_size': 80, 'epochs': 20}\n",
            "0.038095 (0.008418) with:{'batch_size': 80, 'epochs': 30}\n",
            "0.039286 (0.005832) with:{'batch_size': 80, 'epochs': 50}\n",
            "0.038095 (0.003367) with:{'batch_size': 80, 'epochs': 100}\n",
            "0.045238 (0.008909) with:{'batch_size': 80, 'epochs': 150}\n",
            "0.042857 (0.017738) with:{'batch_size': 100, 'epochs': 20}\n",
            "0.027381 (0.011785) with:{'batch_size': 100, 'epochs': 30}\n",
            "0.029762 (0.004454) with:{'batch_size': 100, 'epochs': 50}\n",
            "0.035714 (0.002916) with:{'batch_size': 100, 'epochs': 100}\n",
            "0.030952 (0.004454) with:{'batch_size': 100, 'epochs': 150}\n"
          ]
        }
      ]
    },
    {
      "cell_type": "code",
      "metadata": {
        "colab": {
          "base_uri": "https://localhost:8080/"
        },
        "id": "Gy3Iucr8SxBZ",
        "outputId": "cf6b8c77-d438-47a5-c44b-176fe4248b38"
      },
      "source": [
        "rank"
      ],
      "id": "Gy3Iucr8SxBZ",
      "execution_count": null,
      "outputs": [
        {
          "output_type": "execute_result",
          "data": {
            "text/plain": [
              "array([27, 21,  6, 21, 24,  2, 18,  7, 29,  2, 13, 21, 12, 15, 13, 19,  9,\n",
              "       19, 25, 16,  1,  9,  8,  9,  4,  5, 30, 27, 16, 26], dtype=int32)"
            ]
          },
          "metadata": {},
          "execution_count": 47
        }
      ]
    },
    {
      "cell_type": "markdown",
      "metadata": {
        "id": "qaq7Y0qr16nT"
      },
      "source": [
        "### find dropout and learning rate"
      ],
      "id": "qaq7Y0qr16nT"
    },
    {
      "cell_type": "code",
      "metadata": {
        "id": "3ybc4NEu4DkX"
      },
      "source": [
        "from keras import optimizers\n",
        "\n",
        "def create_cnn_model(learn_rate=0.01,dropout_rate=0.0):\n",
        "    np.random.seed(1)\n",
        "    tf.random.set_seed(1)\n",
        "    model = None\n",
        "    model = keras.Sequential()\n",
        "\n",
        "    model.add(keras.layers.Conv2D(128, 5, input_shape=(X_train.shape[1], X_train.shape[2], 1), activation='relu'))\n",
        "    model.add(keras.layers.Dropout(dropout_rate))\n",
        "    model.add(keras.layers.MaxPool2D())\n",
        "\n",
        "    model.add(keras.layers.Conv2D(64, 5, activation='relu',padding='same'))\n",
        "    model.add(keras.layers.Dropout(dropout_rate))\n",
        "    model.add(keras.layers.MaxPool2D())\n",
        "\n",
        "    model.add(keras.layers.Conv2D(64, 5, activation='relu',padding='same'))\n",
        "    model.add(keras.layers.Dropout(dropout_rate))\n",
        "    model.add(keras.layers.MaxPool2D())\n",
        "\n",
        "    model.add(keras.layers.Flatten())\n",
        "    model.add(keras.layers.Dense(128, activation='relu'))\n",
        "    model.add(keras.layers.Dropout(dropout_rate))\n",
        "\n",
        "    model.add(keras.layers.Dense(64, activation='relu'))\n",
        "    model.add(keras.layers.Dropout(dropout_rate))\n",
        "\n",
        "    model.add(keras.layers.Dense(len(np.unique(df['label'])), activation='softmax'))\n",
        "\n",
        "    optimizer = tf.keras.optimizers.Adam(lr=learn_rate)\n",
        "    model.compile(optimizer=optimizer, loss='sparse_categorical_crossentropy', metrics=['accuracy'])\n",
        "\n",
        "    return model"
      ],
      "id": "3ybc4NEu4DkX",
      "execution_count": null,
      "outputs": []
    },
    {
      "cell_type": "code",
      "metadata": {
        "id": "WvSJeo3EThvi"
      },
      "source": [
        "# Use scikit-learn to grid search the batch size and epochs\n",
        "import numpy\n",
        "from sklearn.model_selection import GridSearchCV\n",
        "from keras.wrappers.scikit_learn import KerasClassifier\n",
        "\n",
        "# create model\n",
        "model = KerasClassifier(build_fn=create_cnn_model,verbose=1,epochs=20,batch_size=80)\n",
        "\n",
        "# define the grid search parameters\n",
        "param_grid = dict(learn_rate=lr, dropout_rate=dropout)\n",
        "grid = GridSearchCV(estimator=model, param_grid=param_grid, cv=5).fit(X_train[:,:,:,None],y_train)"
      ],
      "id": "WvSJeo3EThvi",
      "execution_count": null,
      "outputs": []
    },
    {
      "cell_type": "code",
      "metadata": {
        "id": "viRlsm4bV-lE",
        "colab": {
          "base_uri": "https://localhost:8080/"
        },
        "outputId": "091c1d31-dae3-4880-c380-1bdc5ee13443"
      },
      "source": [
        "print(\"Best: %f using %s\" % (grid.best_score_, grid.best_params_))\n",
        "means = grid.cv_results_['mean_test_score']\n",
        "stds = grid.cv_results_['std_test_score']\n",
        "params = grid.cv_results_['params']\n",
        "for mean, stdev, param in zip(means, stds, params):\n",
        "    print(\"%f (%f) with: %r\" % (mean, stdev, param))"
      ],
      "id": "viRlsm4bV-lE",
      "execution_count": null,
      "outputs": [
        {
          "output_type": "stream",
          "name": "stdout",
          "text": [
            "Best: 0.075000 using {'dropout_rate': 0.25, 'learn_rate': 0.001}\n",
            "0.067857 (0.045891) with: {'dropout_rate': 0.2, 'learn_rate': 0.001}\n",
            "0.030952 (0.027510) with: {'dropout_rate': 0.2, 'learn_rate': 0.01}\n",
            "0.000000 (0.000000) with: {'dropout_rate': 0.2, 'learn_rate': 0.1}\n",
            "0.000000 (0.000000) with: {'dropout_rate': 0.2, 'learn_rate': 0.2}\n",
            "0.000000 (0.000000) with: {'dropout_rate': 0.2, 'learn_rate': 0.3}\n",
            "0.075000 (0.043350) with: {'dropout_rate': 0.25, 'learn_rate': 0.001}\n",
            "0.007143 (0.008748) with: {'dropout_rate': 0.25, 'learn_rate': 0.01}\n",
            "0.000000 (0.000000) with: {'dropout_rate': 0.25, 'learn_rate': 0.1}\n",
            "0.000000 (0.000000) with: {'dropout_rate': 0.25, 'learn_rate': 0.2}\n",
            "0.000000 (0.000000) with: {'dropout_rate': 0.25, 'learn_rate': 0.3}\n",
            "0.073810 (0.050311) with: {'dropout_rate': 0.3, 'learn_rate': 0.001}\n",
            "0.002381 (0.004762) with: {'dropout_rate': 0.3, 'learn_rate': 0.01}\n",
            "0.000000 (0.000000) with: {'dropout_rate': 0.3, 'learn_rate': 0.1}\n",
            "0.000000 (0.000000) with: {'dropout_rate': 0.3, 'learn_rate': 0.2}\n",
            "0.000000 (0.000000) with: {'dropout_rate': 0.3, 'learn_rate': 0.3}\n",
            "0.044048 (0.027562) with: {'dropout_rate': 0.4, 'learn_rate': 0.001}\n",
            "0.000000 (0.000000) with: {'dropout_rate': 0.4, 'learn_rate': 0.01}\n",
            "0.000000 (0.000000) with: {'dropout_rate': 0.4, 'learn_rate': 0.1}\n",
            "0.000000 (0.000000) with: {'dropout_rate': 0.4, 'learn_rate': 0.2}\n",
            "0.000000 (0.000000) with: {'dropout_rate': 0.4, 'learn_rate': 0.3}\n",
            "0.010714 (0.014286) with: {'dropout_rate': 0.5, 'learn_rate': 0.001}\n",
            "0.000000 (0.000000) with: {'dropout_rate': 0.5, 'learn_rate': 0.01}\n",
            "0.000000 (0.000000) with: {'dropout_rate': 0.5, 'learn_rate': 0.1}\n",
            "0.000000 (0.000000) with: {'dropout_rate': 0.5, 'learn_rate': 0.2}\n",
            "0.000000 (0.000000) with: {'dropout_rate': 0.5, 'learn_rate': 0.3}\n"
          ]
        }
      ]
    },
    {
      "cell_type": "code",
      "metadata": {
        "colab": {
          "base_uri": "https://localhost:8080/"
        },
        "id": "4MxASGHEW7xZ",
        "outputId": "81507fdf-71f7-4c2e-8cfb-97304923fb14"
      },
      "source": [
        "rank = grid.cv_results_['rank_test_score']\n",
        "rank"
      ],
      "id": "4MxASGHEW7xZ",
      "execution_count": null,
      "outputs": [
        {
          "output_type": "execute_result",
          "data": {
            "text/plain": [
              "array([3, 5, 9, 9, 9, 1, 7, 9, 9, 9, 2, 8, 9, 9, 9, 4, 9, 9, 9, 9, 6, 9,\n",
              "       9, 9, 9], dtype=int32)"
            ]
          },
          "metadata": {},
          "execution_count": 62
        }
      ]
    },
    {
      "cell_type": "markdown",
      "metadata": {
        "id": "CVOY7u6d9UHu"
      },
      "source": [
        "### find activation and optimizer\n"
      ],
      "id": "CVOY7u6d9UHu"
    },
    {
      "cell_type": "code",
      "metadata": {
        "id": "GtWrJ6329kjO"
      },
      "source": [
        "def create_cnn_model(learn_rate=0.001,dropout_rate=0.25,activation='relu',optimizer='adam'):\n",
        "    np.random.seed(1)\n",
        "    tf.random.set_seed(1)\n",
        "    model = None\n",
        "    model = keras.Sequential()\n",
        "    \n",
        "    model.add(keras.layers.Conv2D(128, 5, input_shape=(X_train.shape[1], X_train.shape[2], 1), activation=activation))\n",
        "    model.add(keras.layers.Dropout(dropout_rate))\n",
        "    model.add(keras.layers.MaxPool2D())\n",
        "\n",
        "    model.add(keras.layers.Conv2D(64, 5, activation=activation,padding='same'))\n",
        "    model.add(keras.layers.Dropout(dropout_rate))\n",
        "    model.add(keras.layers.MaxPool2D())\n",
        "\n",
        "    model.add(keras.layers.Conv2D(64, 5, activation=activation,padding='same'))\n",
        "    model.add(keras.layers.Dropout(dropout_rate))\n",
        "    model.add(keras.layers.MaxPool2D())\n",
        "\n",
        "    model.add(keras.layers.Flatten())\n",
        "    model.add(keras.layers.Dense(128, activation=activation))\n",
        "    model.add(keras.layers.Dropout(dropout_rate))\n",
        "\n",
        "    model.add(keras.layers.Dense(64, activation=activation))\n",
        "    model.add(keras.layers.Dropout(dropout_rate))\n",
        "\n",
        "    model.add(keras.layers.Dense(len(np.unique(df['label'])), activation='softmax'))\n",
        "\n",
        "    model.compile(optimizer=optimizer, loss='sparse_categorical_crossentropy', metrics=['accuracy'])\n",
        "\n",
        "    return model"
      ],
      "id": "GtWrJ6329kjO",
      "execution_count": null,
      "outputs": []
    },
    {
      "cell_type": "code",
      "metadata": {
        "id": "UHgdGyYK9seO"
      },
      "source": [
        "# Use scikit-learn to grid search the batch size and epochs\n",
        "import numpy\n",
        "from sklearn.model_selection import GridSearchCV\n",
        "from keras.wrappers.scikit_learn import KerasClassifier\n",
        "\n",
        "# create model\n",
        "model = KerasClassifier(build_fn=create_cnn_model,verbose=1,epochs=20,batch_size=80)\n",
        "\n",
        "# define the grid search parameters\n",
        "param_grid = dict(activation=activation, optimizer=optimizer)\n",
        "grid = GridSearchCV(estimator=model, param_grid=param_grid, cv=3).fit(X_train[:,:,:,None],y_train)"
      ],
      "id": "UHgdGyYK9seO",
      "execution_count": null,
      "outputs": []
    },
    {
      "cell_type": "code",
      "metadata": {
        "colab": {
          "base_uri": "https://localhost:8080/"
        },
        "id": "dX8vfgxo9wHP",
        "outputId": "a55e1530-6b33-458d-fecf-f25b1444d402"
      },
      "source": [
        "print(\"Best: %f using %s\" % (grid.best_score_, grid.best_params_))\n",
        "means = grid.cv_results_['mean_test_score']\n",
        "stds = grid.cv_results_['std_test_score']\n",
        "params = grid.cv_results_['params']\n",
        "for mean, stdev, param in zip(means, stds, params):\n",
        "    print(\"%f (%f) with: %r\" % (mean, stdev, param))"
      ],
      "id": "dX8vfgxo9wHP",
      "execution_count": null,
      "outputs": [
        {
          "output_type": "stream",
          "name": "stdout",
          "text": [
            "Best: 0.042857 using {'activation': 'linear', 'optimizer': 'Nadam'}\n",
            "0.000000 (0.000000) with: {'activation': 'softmax', 'optimizer': 'SGD'}\n",
            "0.000000 (0.000000) with: {'activation': 'softmax', 'optimizer': 'RMSprop'}\n",
            "0.000000 (0.000000) with: {'activation': 'softmax', 'optimizer': 'Adagrad'}\n",
            "0.000000 (0.000000) with: {'activation': 'softmax', 'optimizer': 'Adadelta'}\n",
            "0.000000 (0.000000) with: {'activation': 'softmax', 'optimizer': 'Adam'}\n",
            "0.000000 (0.000000) with: {'activation': 'softmax', 'optimizer': 'Adamax'}\n",
            "0.000000 (0.000000) with: {'activation': 'softmax', 'optimizer': 'Nadam'}\n",
            "0.000000 (0.000000) with: {'activation': 'softplus', 'optimizer': 'SGD'}\n",
            "0.000000 (0.000000) with: {'activation': 'softplus', 'optimizer': 'RMSprop'}\n",
            "0.000000 (0.000000) with: {'activation': 'softplus', 'optimizer': 'Adagrad'}\n",
            "0.000000 (0.000000) with: {'activation': 'softplus', 'optimizer': 'Adadelta'}\n",
            "0.000000 (0.000000) with: {'activation': 'softplus', 'optimizer': 'Adam'}\n",
            "0.000000 (0.000000) with: {'activation': 'softplus', 'optimizer': 'Adamax'}\n",
            "0.007143 (0.007715) with: {'activation': 'softplus', 'optimizer': 'Nadam'}\n",
            "0.000000 (0.000000) with: {'activation': 'softsign', 'optimizer': 'SGD'}\n",
            "0.005952 (0.006070) with: {'activation': 'softsign', 'optimizer': 'RMSprop'}\n",
            "0.000000 (0.000000) with: {'activation': 'softsign', 'optimizer': 'Adagrad'}\n",
            "0.000000 (0.000000) with: {'activation': 'softsign', 'optimizer': 'Adadelta'}\n",
            "0.013095 (0.010241) with: {'activation': 'softsign', 'optimizer': 'Adam'}\n",
            "0.005952 (0.008418) with: {'activation': 'softsign', 'optimizer': 'Adamax'}\n",
            "0.017857 (0.012711) with: {'activation': 'softsign', 'optimizer': 'Nadam'}\n",
            "0.007143 (0.010102) with: {'activation': 'relu', 'optimizer': 'SGD'}\n",
            "0.025000 (0.005832) with: {'activation': 'relu', 'optimizer': 'RMSprop'}\n",
            "0.000000 (0.000000) with: {'activation': 'relu', 'optimizer': 'Adagrad'}\n",
            "0.001190 (0.001684) with: {'activation': 'relu', 'optimizer': 'Adadelta'}\n",
            "0.040476 (0.009374) with: {'activation': 'relu', 'optimizer': 'Adam'}\n",
            "0.022619 (0.029499) with: {'activation': 'relu', 'optimizer': 'Adamax'}\n",
            "0.028571 (0.008748) with: {'activation': 'relu', 'optimizer': 'Nadam'}\n",
            "0.004762 (0.006734) with: {'activation': 'tanh', 'optimizer': 'SGD'}\n",
            "0.000000 (0.000000) with: {'activation': 'tanh', 'optimizer': 'RMSprop'}\n",
            "0.000000 (0.000000) with: {'activation': 'tanh', 'optimizer': 'Adagrad'}\n",
            "0.000000 (0.000000) with: {'activation': 'tanh', 'optimizer': 'Adadelta'}\n",
            "0.000000 (0.000000) with: {'activation': 'tanh', 'optimizer': 'Adam'}\n",
            "0.004762 (0.006734) with: {'activation': 'tanh', 'optimizer': 'Adamax'}\n",
            "0.026190 (0.011040) with: {'activation': 'tanh', 'optimizer': 'Nadam'}\n",
            "0.000000 (0.000000) with: {'activation': 'sigmoid', 'optimizer': 'SGD'}\n",
            "0.000000 (0.000000) with: {'activation': 'sigmoid', 'optimizer': 'RMSprop'}\n",
            "0.000000 (0.000000) with: {'activation': 'sigmoid', 'optimizer': 'Adagrad'}\n",
            "0.000000 (0.000000) with: {'activation': 'sigmoid', 'optimizer': 'Adadelta'}\n",
            "0.000000 (0.000000) with: {'activation': 'sigmoid', 'optimizer': 'Adam'}\n",
            "0.000000 (0.000000) with: {'activation': 'sigmoid', 'optimizer': 'Adamax'}\n",
            "0.000000 (0.000000) with: {'activation': 'sigmoid', 'optimizer': 'Nadam'}\n",
            "0.000000 (0.000000) with: {'activation': 'hard_sigmoid', 'optimizer': 'SGD'}\n",
            "0.000000 (0.000000) with: {'activation': 'hard_sigmoid', 'optimizer': 'RMSprop'}\n",
            "0.000000 (0.000000) with: {'activation': 'hard_sigmoid', 'optimizer': 'Adagrad'}\n",
            "0.000000 (0.000000) with: {'activation': 'hard_sigmoid', 'optimizer': 'Adadelta'}\n",
            "0.000000 (0.000000) with: {'activation': 'hard_sigmoid', 'optimizer': 'Adam'}\n",
            "0.000000 (0.000000) with: {'activation': 'hard_sigmoid', 'optimizer': 'Adamax'}\n",
            "0.000000 (0.000000) with: {'activation': 'hard_sigmoid', 'optimizer': 'Nadam'}\n",
            "0.036905 (0.007339) with: {'activation': 'linear', 'optimizer': 'SGD'}\n",
            "0.039286 (0.018211) with: {'activation': 'linear', 'optimizer': 'RMSprop'}\n",
            "0.017857 (0.022775) with: {'activation': 'linear', 'optimizer': 'Adagrad'}\n",
            "0.000000 (0.000000) with: {'activation': 'linear', 'optimizer': 'Adadelta'}\n",
            "0.030952 (0.004454) with: {'activation': 'linear', 'optimizer': 'Adam'}\n",
            "0.030952 (0.012141) with: {'activation': 'linear', 'optimizer': 'Adamax'}\n",
            "0.042857 (0.010102) with: {'activation': 'linear', 'optimizer': 'Nadam'}\n"
          ]
        }
      ]
    },
    {
      "cell_type": "code",
      "metadata": {
        "colab": {
          "base_uri": "https://localhost:8080/"
        },
        "id": "4WbKBQJxb8ul",
        "outputId": "b90e752d-c616-4d76-b31b-efca3b27809b"
      },
      "source": [
        "rank = grid.cv_results_['rank_test_score']\n",
        "rank"
      ],
      "id": "4WbKBQJxb8ul",
      "execution_count": null,
      "outputs": [
        {
          "output_type": "execute_result",
          "data": {
            "text/plain": [
              "array([21, 21, 21, 21, 21, 21, 21, 21, 21, 21, 21, 21, 21, 14, 21, 17, 21,\n",
              "       21, 13, 16, 12, 15,  9, 21, 20,  2, 10,  7, 18, 21, 21, 21, 21, 18,\n",
              "        8, 21, 21, 21, 21, 21, 21, 21, 21, 21, 21, 21, 21, 21, 21,  4,  3,\n",
              "       11, 21,  5,  6,  1], dtype=int32)"
            ]
          },
          "metadata": {},
          "execution_count": 77
        }
      ]
    },
    {
      "cell_type": "markdown",
      "metadata": {
        "id": "N_EPqJGnS7ng"
      },
      "source": [
        "### Train model"
      ],
      "id": "N_EPqJGnS7ng"
    },
    {
      "cell_type": "code",
      "metadata": {
        "id": "5jY39pCDhbjW"
      },
      "source": [
        "def create_cnn_model(activation='linear',dropout=0.25,optimizer='Nadam',learn_rate=0.001):\n",
        "    np.random.seed(1)\n",
        "    tf.random.set_seed(1)\n",
        "    model = None\n",
        "    model = keras.Sequential()\n",
        "\n",
        "    model.add(keras.layers.Conv2D(128, 5, input_shape=(X_train.shape[1], X_train.shape[2], 1), activation=activation))\n",
        "    model.add(keras.layers.Dropout(dropout))\n",
        "    model.add(keras.layers.MaxPool2D())\n",
        "\n",
        "    model.add(keras.layers.Conv2D(64, 5, activation=activation,padding='same'))\n",
        "    model.add(keras.layers.Dropout(dropout))\n",
        "    model.add(keras.layers.MaxPool2D())\n",
        "\n",
        "    model.add(keras.layers.Conv2D(64, 5, activation=activation,padding='same'))\n",
        "    model.add(keras.layers.Dropout(dropout))\n",
        "    model.add(keras.layers.MaxPool2D())\n",
        "\n",
        "    model.add(keras.layers.Flatten())\n",
        "    model.add(keras.layers.Dense(128, activation=activation))\n",
        "    model.add(keras.layers.Dropout(dropout))\n",
        "\n",
        "    model.add(keras.layers.Dense(64, activation=activation))\n",
        "    model.add(keras.layers.Dropout(dropout))\n",
        "\n",
        "    model.add(keras.layers.Dense(len(np.unique(df['label'])), activation='softmax'))\n",
        "\n",
        "    optimizer = tf.keras.optimizers.Nadam(learning_rate=learn_rate)\n",
        "    model.compile(optimizer=optimizer, loss='sparse_categorical_crossentropy', metrics=['accuracy'])\n",
        "\n",
        "    model.summary()\n",
        "\n",
        "    return model"
      ],
      "id": "5jY39pCDhbjW",
      "execution_count": null,
      "outputs": []
    },
    {
      "cell_type": "code",
      "metadata": {
        "id": "ngmfDNcnGMC7",
        "colab": {
          "base_uri": "https://localhost:8080/"
        },
        "outputId": "d324a40a-bf72-4b51-dec4-b7e58d97926d"
      },
      "source": [
        "# Train model\n",
        "start = time()\n",
        "\n",
        "model_cnn = create_cnn_model(activation='linear',dropout=0.25,optimizer='Nadam',learn_rate=0.001)\n",
        "history = model_cnn.fit(X_train[:,:,:,None], y_train, epochs=20, validation_data=(X_valid[:,:,:,None],y_valid),batch_size=80,verbose=1)\n",
        "\n",
        "end = time()\n",
        "print(f'time: {end-start} sec')"
      ],
      "id": "ngmfDNcnGMC7",
      "execution_count": null,
      "outputs": [
        {
          "output_type": "stream",
          "name": "stdout",
          "text": [
            "Model: \"sequential_13\"\n",
            "_________________________________________________________________\n",
            "Layer (type)                 Output Shape              Param #   \n",
            "=================================================================\n",
            "conv2d_39 (Conv2D)           (None, 683, 9, 128)       3328      \n",
            "_________________________________________________________________\n",
            "dropout_65 (Dropout)         (None, 683, 9, 128)       0         \n",
            "_________________________________________________________________\n",
            "max_pooling2d_39 (MaxPooling (None, 341, 4, 128)       0         \n",
            "_________________________________________________________________\n",
            "conv2d_40 (Conv2D)           (None, 341, 4, 64)        204864    \n",
            "_________________________________________________________________\n",
            "dropout_66 (Dropout)         (None, 341, 4, 64)        0         \n",
            "_________________________________________________________________\n",
            "max_pooling2d_40 (MaxPooling (None, 170, 2, 64)        0         \n",
            "_________________________________________________________________\n",
            "conv2d_41 (Conv2D)           (None, 170, 2, 64)        102464    \n",
            "_________________________________________________________________\n",
            "dropout_67 (Dropout)         (None, 170, 2, 64)        0         \n",
            "_________________________________________________________________\n",
            "max_pooling2d_41 (MaxPooling (None, 85, 1, 64)         0         \n",
            "_________________________________________________________________\n",
            "flatten_13 (Flatten)         (None, 5440)              0         \n",
            "_________________________________________________________________\n",
            "dense_39 (Dense)             (None, 128)               696448    \n",
            "_________________________________________________________________\n",
            "dropout_68 (Dropout)         (None, 128)               0         \n",
            "_________________________________________________________________\n",
            "dense_40 (Dense)             (None, 64)                8256      \n",
            "_________________________________________________________________\n",
            "dropout_69 (Dropout)         (None, 64)                0         \n",
            "_________________________________________________________________\n",
            "dense_41 (Dense)             (None, 56)                3640      \n",
            "=================================================================\n",
            "Total params: 1,019,000\n",
            "Trainable params: 1,019,000\n",
            "Non-trainable params: 0\n",
            "_________________________________________________________________\n",
            "Epoch 1/20\n",
            "9/9 [==============================] - 2s 64ms/step - loss: 4.9933 - accuracy: 0.0312 - val_loss: 4.2715 - val_accuracy: 0.0179\n",
            "Epoch 2/20\n",
            "9/9 [==============================] - 0s 47ms/step - loss: 3.8430 - accuracy: 0.0610 - val_loss: 3.5920 - val_accuracy: 0.0774\n",
            "Epoch 3/20\n",
            "9/9 [==============================] - 0s 47ms/step - loss: 3.2748 - accuracy: 0.1860 - val_loss: 2.9049 - val_accuracy: 0.2440\n",
            "Epoch 4/20\n",
            "9/9 [==============================] - 0s 47ms/step - loss: 2.3417 - accuracy: 0.3765 - val_loss: 1.8562 - val_accuracy: 0.4881\n",
            "Epoch 5/20\n",
            "9/9 [==============================] - 0s 47ms/step - loss: 1.8501 - accuracy: 0.4881 - val_loss: 1.3884 - val_accuracy: 0.5595\n",
            "Epoch 6/20\n",
            "9/9 [==============================] - 0s 47ms/step - loss: 1.1698 - accuracy: 0.6801 - val_loss: 1.2060 - val_accuracy: 0.6667\n",
            "Epoch 7/20\n",
            "9/9 [==============================] - 0s 47ms/step - loss: 0.7883 - accuracy: 0.7530 - val_loss: 0.8168 - val_accuracy: 0.7798\n",
            "Epoch 8/20\n",
            "9/9 [==============================] - 0s 47ms/step - loss: 0.5898 - accuracy: 0.8155 - val_loss: 0.8427 - val_accuracy: 0.8274\n",
            "Epoch 9/20\n",
            "9/9 [==============================] - 0s 48ms/step - loss: 0.3990 - accuracy: 0.8750 - val_loss: 0.6242 - val_accuracy: 0.8690\n",
            "Epoch 10/20\n",
            "9/9 [==============================] - 0s 47ms/step - loss: 0.2891 - accuracy: 0.9092 - val_loss: 0.4588 - val_accuracy: 0.8929\n",
            "Epoch 11/20\n",
            "9/9 [==============================] - 0s 47ms/step - loss: 0.2809 - accuracy: 0.8929 - val_loss: 0.6203 - val_accuracy: 0.8929\n",
            "Epoch 12/20\n",
            "9/9 [==============================] - 0s 47ms/step - loss: 0.2287 - accuracy: 0.9301 - val_loss: 0.8284 - val_accuracy: 0.8393\n",
            "Epoch 13/20\n",
            "9/9 [==============================] - 0s 47ms/step - loss: 0.2540 - accuracy: 0.9152 - val_loss: 0.4756 - val_accuracy: 0.8929\n",
            "Epoch 14/20\n",
            "9/9 [==============================] - 0s 47ms/step - loss: 0.1400 - accuracy: 0.9524 - val_loss: 1.7965 - val_accuracy: 0.7381\n",
            "Epoch 15/20\n",
            "9/9 [==============================] - 0s 47ms/step - loss: 0.3241 - accuracy: 0.9033 - val_loss: 0.6536 - val_accuracy: 0.8512\n",
            "Epoch 16/20\n",
            "9/9 [==============================] - 0s 47ms/step - loss: 0.0956 - accuracy: 0.9747 - val_loss: 0.5325 - val_accuracy: 0.8869\n",
            "Epoch 17/20\n",
            "9/9 [==============================] - 0s 47ms/step - loss: 0.1425 - accuracy: 0.9509 - val_loss: 0.6095 - val_accuracy: 0.8571\n",
            "Epoch 18/20\n",
            "9/9 [==============================] - 0s 47ms/step - loss: 0.1441 - accuracy: 0.9464 - val_loss: 0.6046 - val_accuracy: 0.8988\n",
            "Epoch 19/20\n",
            "9/9 [==============================] - 0s 47ms/step - loss: 0.1441 - accuracy: 0.9583 - val_loss: 1.0524 - val_accuracy: 0.8214\n",
            "Epoch 20/20\n",
            "9/9 [==============================] - 0s 47ms/step - loss: 0.1519 - accuracy: 0.9524 - val_loss: 0.6667 - val_accuracy: 0.9048\n",
            "time: 9.771475791931152 sec\n"
          ]
        }
      ]
    },
    {
      "cell_type": "code",
      "metadata": {
        "colab": {
          "base_uri": "https://localhost:8080/",
          "height": 573
        },
        "id": "G7L6Z8WVolYd",
        "outputId": "671449a4-a28e-4f3a-f94f-7d826714b3a1"
      },
      "source": [
        "# Learning curve\n",
        "# plot the accuracy and loss plots between training and validation data\n",
        "# verify overfitting or underfit \n",
        "acc = history.history['accuracy']\n",
        "val_acc = history.history['val_accuracy']\n",
        "loss = history.history['loss']\n",
        "val_loss = history.history['val_loss']\n",
        "x = range(1,len(acc)+1)\n",
        "\n",
        "plt.plot(x,acc,'b',label='Training accuracy')\n",
        "plt.plot(x,val_acc,'r',label='Validation accuracy')\n",
        "plt.title('Training and validation accuracy')\n",
        "plt.xlabel('epochs')\n",
        "plt.ylabel('accuracy')\n",
        "plt.legend()\n",
        "plt.figure()\n",
        "\n",
        "plt.plot(x,loss,'b',label='Training loss')\n",
        "plt.plot(x,val_loss,'r',label='Validation loss')\n",
        "plt.title('Training and validation loss')\n",
        "plt.xlabel('epochs')\n",
        "plt.ylabel('loss')\n",
        "plt.legend()\n",
        "plt.show()"
      ],
      "id": "G7L6Z8WVolYd",
      "execution_count": null,
      "outputs": [
        {
          "output_type": "display_data",
          "data": {
            "image/png": "[encoded data removed]",
            "text/plain": [
              "<Figure size 432x288 with 1 Axes>"
            ]
          },
          "metadata": {
            "needs_background": "light"
          }
        },
        {
          "output_type": "display_data",
          "data": {
            "image/png": "[encoded data removed]",
            "text/plain": [
              "<Figure size 432x288 with 1 Axes>"
            ]
          },
          "metadata": {
            "needs_background": "light"
          }
        }
      ]
    },
    {
      "cell_type": "code",
      "metadata": {
        "colab": {
          "base_uri": "https://localhost:8080/"
        },
        "id": "kzMXuoQ2oi2J",
        "outputId": "07bd5b76-af2a-44f8-ab3c-242a35b9e9ea"
      },
      "source": [
        "print(f'Test Accuracy: {model_cnn.evaluate(X_test[:,:,:,None],y_test,verbose=0)[1]}')"
      ],
      "id": "kzMXuoQ2oi2J",
      "execution_count": null,
      "outputs": [
        {
          "output_type": "stream",
          "name": "stdout",
          "text": [
            "Test Accuracy: 0.9357143044471741\n"
          ]
        }
      ]
    },
    {
      "cell_type": "code",
      "metadata": {
        "colab": {
          "base_uri": "https://localhost:8080/"
        },
        "id": "-j3JfRj3otc4",
        "outputId": "b9d8e53c-cf98-499e-ffa8-7b0813d75b56"
      },
      "source": [
        "# classification report\n",
        "predicted_classes = np.argmax(np.round(model_cnn.predict(X_test[:,:,:,None])),axis=1)\n",
        "correct = np.where(predicted_classes==y_test)[0]\n",
        "target_names = [f\"Class {label}\" for label in range(len(np.unique(df['label'])))]\n",
        "\n",
        "print(f\"From {len(y_test)} labels're founding {len(correct)} correct labels.\")\n",
        "print(f'Accuracy: {len(correct)/len(y_test)}')\n",
        "print('')\n",
        "print(classification_report(y_test, predicted_classes, target_names=target_names))"
      ],
      "id": "-j3JfRj3otc4",
      "execution_count": null,
      "outputs": [
        {
          "output_type": "stream",
          "name": "stdout",
          "text": [
            "From 280 labels're founding 260 correct labels.\n",
            "Accuracy: 0.9285714285714286\n",
            "\n",
            "              precision    recall  f1-score   support\n",
            "\n",
            "     Class 0       0.33      0.80      0.47         5\n",
            "     Class 1       1.00      1.00      1.00         5\n",
            "     Class 2       0.83      1.00      0.91         5\n",
            "     Class 3       0.80      0.80      0.80         5\n",
            "     Class 4       0.83      1.00      0.91         5\n",
            "     Class 5       1.00      1.00      1.00         5\n",
            "     Class 6       1.00      0.80      0.89         5\n",
            "     Class 7       1.00      1.00      1.00         5\n",
            "     Class 8       1.00      0.60      0.75         5\n",
            "     Class 9       1.00      1.00      1.00         5\n",
            "    Class 10       1.00      0.80      0.89         5\n",
            "    Class 11       1.00      1.00      1.00         5\n",
            "    Class 12       1.00      0.80      0.89         5\n",
            "    Class 13       0.83      1.00      0.91         5\n",
            "    Class 14       1.00      1.00      1.00         5\n",
            "    Class 15       1.00      0.80      0.89         5\n",
            "    Class 16       1.00      0.80      0.89         5\n",
            "    Class 17       1.00      1.00      1.00         5\n",
            "    Class 18       1.00      1.00      1.00         5\n",
            "    Class 19       0.71      1.00      0.83         5\n",
            "    Class 20       1.00      0.80      0.89         5\n",
            "    Class 21       1.00      1.00      1.00         5\n",
            "    Class 22       1.00      1.00      1.00         5\n",
            "    Class 23       0.83      1.00      0.91         5\n",
            "    Class 24       1.00      0.80      0.89         5\n",
            "    Class 25       0.83      1.00      0.91         5\n",
            "    Class 26       0.83      1.00      0.91         5\n",
            "    Class 27       1.00      1.00      1.00         5\n",
            "    Class 28       1.00      1.00      1.00         5\n",
            "    Class 29       1.00      0.80      0.89         5\n",
            "    Class 30       1.00      1.00      1.00         5\n",
            "    Class 31       1.00      0.80      0.89         5\n",
            "    Class 32       1.00      1.00      1.00         5\n",
            "    Class 33       1.00      0.80      0.89         5\n",
            "    Class 34       1.00      1.00      1.00         5\n",
            "    Class 35       0.83      1.00      0.91         5\n",
            "    Class 36       0.83      1.00      0.91         5\n",
            "    Class 37       1.00      1.00      1.00         5\n",
            "    Class 38       1.00      1.00      1.00         5\n",
            "    Class 39       1.00      0.80      0.89         5\n",
            "    Class 40       1.00      0.80      0.89         5\n",
            "    Class 41       1.00      1.00      1.00         5\n",
            "    Class 42       1.00      1.00      1.00         5\n",
            "    Class 43       1.00      1.00      1.00         5\n",
            "    Class 44       1.00      1.00      1.00         5\n",
            "    Class 45       1.00      1.00      1.00         5\n",
            "    Class 46       1.00      0.80      0.89         5\n",
            "    Class 47       1.00      1.00      1.00         5\n",
            "    Class 48       1.00      0.80      0.89         5\n",
            "    Class 49       1.00      1.00      1.00         5\n",
            "    Class 50       1.00      1.00      1.00         5\n",
            "    Class 51       1.00      1.00      1.00         5\n",
            "    Class 52       1.00      1.00      1.00         5\n",
            "    Class 53       1.00      0.80      0.89         5\n",
            "    Class 54       0.80      0.80      0.80         5\n",
            "    Class 55       1.00      1.00      1.00         5\n",
            "\n",
            "    accuracy                           0.93       280\n",
            "   macro avg       0.95      0.93      0.93       280\n",
            "weighted avg       0.95      0.93      0.93       280\n",
            "\n"
          ]
        }
      ]
    },
    {
      "cell_type": "markdown",
      "metadata": {
        "id": "vW_w7K9dppAl"
      },
      "source": [
        "## Train model"
      ],
      "id": "vW_w7K9dppAl"
    },
    {
      "cell_type": "code",
      "metadata": {
        "id": "6INsun3DpsQV"
      },
      "source": [
        "def create_cnn_model(activation='linear',dropout=0.25,optimizer='Nadam',learn_rate=0.001):\n",
        "    np.random.seed(1)\n",
        "    tf.random.set_seed(1)\n",
        "    model = None\n",
        "    model = keras.Sequential()\n",
        "\n",
        "    model.add(keras.layers.Conv2D(128, 5, input_shape=(X_train.shape[1], X_train.shape[2], 1), activation=activation))\n",
        "    model.add(keras.layers.Dropout(dropout))\n",
        "    model.add(keras.layers.MaxPool2D())\n",
        "\n",
        "    model.add(keras.layers.Conv2D(64, 5, activation=activation,padding='same'))\n",
        "    model.add(keras.layers.Dropout(dropout))\n",
        "    model.add(keras.layers.MaxPool2D())\n",
        "\n",
        "    model.add(keras.layers.Conv2D(64, 5, activation=activation,padding='same'))\n",
        "    model.add(keras.layers.Dropout(dropout))\n",
        "    model.add(keras.layers.MaxPool2D())\n",
        "\n",
        "    model.add(keras.layers.Flatten())\n",
        "    model.add(keras.layers.Dense(128, activation=activation))\n",
        "    model.add(keras.layers.Dropout(dropout))\n",
        "\n",
        "    model.add(keras.layers.Dense(64, activation=activation))\n",
        "    model.add(keras.layers.Dropout(dropout))\n",
        "\n",
        "    model.add(keras.layers.Dense(len(np.unique(df['label'])), activation='softmax'))\n",
        "\n",
        "    optimizer = tf.keras.optimizers.Adam(learning_rate=learn_rate)\n",
        "    model.compile(optimizer=optimizer, loss='sparse_categorical_crossentropy', metrics=['accuracy'])\n",
        "\n",
        "    model.summary()\n",
        "\n",
        "    return model"
      ],
      "id": "6INsun3DpsQV",
      "execution_count": null,
      "outputs": []
    },
    {
      "cell_type": "code",
      "metadata": {
        "colab": {
          "base_uri": "https://localhost:8080/"
        },
        "id": "BqH-NOJJp8Nn",
        "outputId": "4ff9d575-cb55-4724-827c-e8da0238369d"
      },
      "source": [
        "# Train model\n",
        "start = time()\n",
        "\n",
        "model_cnn = create_cnn_model(activation='relu',dropout=0.25,optimizer='adam',learn_rate=0.001)\n",
        "history = model_cnn.fit(X_train[:,:,:,None], y_train, epochs=100, validation_data=(X_valid[:,:,:,None],y_valid),batch_size=80,verbose=0)\n",
        "\n",
        "end = time()\n",
        "print(f'time: {end-start} sec')"
      ],
      "id": "BqH-NOJJp8Nn",
      "execution_count": null,
      "outputs": [
        {
          "output_type": "stream",
          "name": "stdout",
          "text": [
            "Model: \"sequential\"\n",
            "_________________________________________________________________\n",
            "Layer (type)                 Output Shape              Param #   \n",
            "=================================================================\n",
            "conv2d (Conv2D)              (None, 683, 9, 128)       3328      \n",
            "_________________________________________________________________\n",
            "dropout (Dropout)            (None, 683, 9, 128)       0         \n",
            "_________________________________________________________________\n",
            "max_pooling2d (MaxPooling2D) (None, 341, 4, 128)       0         \n",
            "_________________________________________________________________\n",
            "conv2d_1 (Conv2D)            (None, 341, 4, 64)        204864    \n",
            "_________________________________________________________________\n",
            "dropout_1 (Dropout)          (None, 341, 4, 64)        0         \n",
            "_________________________________________________________________\n",
            "max_pooling2d_1 (MaxPooling2 (None, 170, 2, 64)        0         \n",
            "_________________________________________________________________\n",
            "conv2d_2 (Conv2D)            (None, 170, 2, 64)        102464    \n",
            "_________________________________________________________________\n",
            "dropout_2 (Dropout)          (None, 170, 2, 64)        0         \n",
            "_________________________________________________________________\n",
            "max_pooling2d_2 (MaxPooling2 (None, 85, 1, 64)         0         \n",
            "_________________________________________________________________\n",
            "flatten (Flatten)            (None, 5440)              0         \n",
            "_________________________________________________________________\n",
            "dense (Dense)                (None, 128)               696448    \n",
            "_________________________________________________________________\n",
            "dropout_3 (Dropout)          (None, 128)               0         \n",
            "_________________________________________________________________\n",
            "dense_1 (Dense)              (None, 64)                8256      \n",
            "_________________________________________________________________\n",
            "dropout_4 (Dropout)          (None, 64)                0         \n",
            "_________________________________________________________________\n",
            "dense_2 (Dense)              (None, 56)                3640      \n",
            "=================================================================\n",
            "Total params: 1,019,000\n",
            "Trainable params: 1,019,000\n",
            "Non-trainable params: 0\n",
            "_________________________________________________________________\n",
            "time: 63.739259481430054 sec\n"
          ]
        }
      ]
    },
    {
      "cell_type": "code",
      "metadata": {
        "colab": {
          "base_uri": "https://localhost:8080/"
        },
        "id": "QQgb5wJMqL_9",
        "outputId": "5a009512-47dc-4ba0-887b-4ba4996b9714"
      },
      "source": [
        "# Evaluate model\n",
        "print(f'Test Accuracy: {model_cnn.evaluate(X_test[:,:,:,None],y_test,verbose=0)[1]}')"
      ],
      "id": "QQgb5wJMqL_9",
      "execution_count": null,
      "outputs": [
        {
          "output_type": "stream",
          "name": "stdout",
          "text": [
            "Test Accuracy: 0.9714285731315613\n"
          ]
        }
      ]
    },
    {
      "cell_type": "code",
      "metadata": {
        "colab": {
          "base_uri": "https://localhost:8080/",
          "height": 573
        },
        "id": "GOvVYx0TqOeW",
        "outputId": "6d18b955-c81b-413c-b8e4-8a83c16180c2"
      },
      "source": [
        "# Learning curve\n",
        "# plot the accuracy and loss plots between training and validation data\n",
        "# verify overfitting or underfit \n",
        "acc = history.history['accuracy']\n",
        "val_acc = history.history['val_accuracy']\n",
        "loss = history.history['loss']\n",
        "val_loss = history.history['val_loss']\n",
        "x = range(1,len(acc)+1)\n",
        "\n",
        "plt.plot(x,acc,'b',label='Training accuracy')\n",
        "plt.plot(x,val_acc,'r',label='Validation accuracy')\n",
        "plt.title('Training and validation accuracy')\n",
        "plt.xlabel('epochs')\n",
        "plt.ylabel('accuracy')\n",
        "plt.legend()\n",
        "plt.figure()\n",
        "\n",
        "plt.plot(x,loss,'b',label='Training loss')\n",
        "plt.plot(x,val_loss,'r',label='Validation loss')\n",
        "plt.title('Training and validation loss')\n",
        "plt.xlabel('epochs')\n",
        "plt.ylabel('loss')\n",
        "plt.legend()\n",
        "plt.show()"
      ],
      "id": "GOvVYx0TqOeW",
      "execution_count": null,
      "outputs": [
        {
          "output_type": "display_data",
          "data": {
            "image/png": "[encoded data removed]",
            "text/plain": [
              "<Figure size 432x288 with 1 Axes>"
            ]
          },
          "metadata": {
            "needs_background": "light"
          }
        },
        {
          "output_type": "display_data",
          "data": {
            "image/png": "[encoded data removed]",
            "text/plain": [
              "<Figure size 432x288 with 1 Axes>"
            ]
          },
          "metadata": {
            "needs_background": "light"
          }
        }
      ]
    },
    {
      "cell_type": "code",
      "metadata": {
        "colab": {
          "base_uri": "https://localhost:8080/"
        },
        "id": "ZVmZq-9NqRIN",
        "outputId": "3b1605d6-dd18-4c80-d250-ffb1917a78a3"
      },
      "source": [
        "# classification report\n",
        "predicted_classes = np.argmax(np.round(model_cnn.predict(X_test[:,:,:,None])),axis=1)\n",
        "correct = np.where(predicted_classes==y_test)[0]\n",
        "target_names = [f\"Class {label}\" for label in range(len(np.unique(df['label'])))]\n",
        "\n",
        "print(f\"From {len(y_test)} labels're founding {len(correct)} correct labels.\")\n",
        "print(f'Accuracy: {len(correct)/len(y_test)}')\n",
        "print('')\n",
        "print(classification_report(y_test, predicted_classes, target_names=target_names))"
      ],
      "id": "ZVmZq-9NqRIN",
      "execution_count": null,
      "outputs": [
        {
          "output_type": "stream",
          "name": "stdout",
          "text": [
            "From 280 labels're founding 267 correct labels.\n",
            "Accuracy: 0.9535714285714286\n",
            "\n",
            "              precision    recall  f1-score   support\n",
            "\n",
            "     Class 0       0.33      1.00      0.50         5\n",
            "     Class 1       1.00      1.00      1.00         5\n",
            "     Class 2       1.00      1.00      1.00         5\n",
            "     Class 3       1.00      0.60      0.75         5\n",
            "     Class 4       1.00      1.00      1.00         5\n",
            "     Class 5       1.00      1.00      1.00         5\n",
            "     Class 6       1.00      0.80      0.89         5\n",
            "     Class 7       1.00      1.00      1.00         5\n",
            "     Class 8       1.00      0.80      0.89         5\n",
            "     Class 9       1.00      1.00      1.00         5\n",
            "    Class 10       1.00      1.00      1.00         5\n",
            "    Class 11       1.00      1.00      1.00         5\n",
            "    Class 12       1.00      0.60      0.75         5\n",
            "    Class 13       1.00      1.00      1.00         5\n",
            "    Class 14       1.00      1.00      1.00         5\n",
            "    Class 15       1.00      1.00      1.00         5\n",
            "    Class 16       1.00      1.00      1.00         5\n",
            "    Class 17       1.00      1.00      1.00         5\n",
            "    Class 18       1.00      1.00      1.00         5\n",
            "    Class 19       1.00      1.00      1.00         5\n",
            "    Class 20       1.00      0.80      0.89         5\n",
            "    Class 21       1.00      1.00      1.00         5\n",
            "    Class 22       1.00      1.00      1.00         5\n",
            "    Class 23       0.83      1.00      0.91         5\n",
            "    Class 24       1.00      1.00      1.00         5\n",
            "    Class 25       1.00      1.00      1.00         5\n",
            "    Class 26       1.00      1.00      1.00         5\n",
            "    Class 27       1.00      1.00      1.00         5\n",
            "    Class 28       1.00      1.00      1.00         5\n",
            "    Class 29       1.00      1.00      1.00         5\n",
            "    Class 30       1.00      1.00      1.00         5\n",
            "    Class 31       1.00      0.60      0.75         5\n",
            "    Class 32       1.00      1.00      1.00         5\n",
            "    Class 33       1.00      0.80      0.89         5\n",
            "    Class 34       1.00      1.00      1.00         5\n",
            "    Class 35       1.00      1.00      1.00         5\n",
            "    Class 36       1.00      1.00      1.00         5\n",
            "    Class 37       1.00      1.00      1.00         5\n",
            "    Class 38       1.00      1.00      1.00         5\n",
            "    Class 39       1.00      0.80      0.89         5\n",
            "    Class 40       1.00      1.00      1.00         5\n",
            "    Class 41       1.00      1.00      1.00         5\n",
            "    Class 42       0.83      1.00      0.91         5\n",
            "    Class 43       1.00      1.00      1.00         5\n",
            "    Class 44       1.00      1.00      1.00         5\n",
            "    Class 45       0.83      1.00      0.91         5\n",
            "    Class 46       1.00      1.00      1.00         5\n",
            "    Class 47       1.00      1.00      1.00         5\n",
            "    Class 48       1.00      1.00      1.00         5\n",
            "    Class 49       1.00      1.00      1.00         5\n",
            "    Class 50       1.00      0.60      0.75         5\n",
            "    Class 51       1.00      1.00      1.00         5\n",
            "    Class 52       1.00      1.00      1.00         5\n",
            "    Class 53       1.00      1.00      1.00         5\n",
            "    Class 54       1.00      1.00      1.00         5\n",
            "    Class 55       1.00      1.00      1.00         5\n",
            "\n",
            "    accuracy                           0.95       280\n",
            "   macro avg       0.98      0.95      0.96       280\n",
            "weighted avg       0.98      0.95      0.96       280\n",
            "\n"
          ]
        }
      ]
    },
    {
      "cell_type": "markdown",
      "metadata": {
        "id": "y_i70WoqTAxI"
      },
      "source": [
        "## Evaluate and predict test set"
      ],
      "id": "y_i70WoqTAxI"
    },
    {
      "cell_type": "code",
      "metadata": {
        "colab": {
          "base_uri": "https://localhost:8080/"
        },
        "id": "ZQ4n8wAmB9ZX",
        "outputId": "43d00ab2-a3bf-43ea-d43a-eec734a3fb2a"
      },
      "source": [
        "# Evaluate model\n",
        "print(f'Test Accuracy: {model_cnn.evaluate(X_test[:,:,:,None],y_test,verbose=0)[1]}')"
      ],
      "id": "ZQ4n8wAmB9ZX",
      "execution_count": null,
      "outputs": [
        {
          "output_type": "stream",
          "name": "stdout",
          "text": [
            "Test Accuracy: 0.9642857313156128\n"
          ]
        }
      ]
    },
    {
      "cell_type": "code",
      "metadata": {
        "id": "F62fEQaGFMqs",
        "colab": {
          "base_uri": "https://localhost:8080/",
          "height": 573
        },
        "outputId": "720173f8-2dd4-4b4b-aaea-4584e6a376f7"
      },
      "source": [
        "# Learning curve\n",
        "# plot the accuracy and loss plots between training and validation data\n",
        "# verify overfitting or underfit \n",
        "acc = history.history['accuracy']\n",
        "val_acc = history.history['val_accuracy']\n",
        "loss = history.history['loss']\n",
        "val_loss = history.history['val_loss']\n",
        "x = range(1,len(acc)+1)\n",
        "\n",
        "plt.plot(x,acc,'b',label='Training accuracy')\n",
        "plt.plot(x,val_acc,'r',label='Validation accuracy')\n",
        "plt.title('Training and validation accuracy')\n",
        "plt.xlabel('epochs')\n",
        "plt.ylabel('accuracy')\n",
        "plt.legend()\n",
        "plt.figure()\n",
        "\n",
        "plt.plot(x,loss,'b',label='Training loss')\n",
        "plt.plot(x,val_loss,'r',label='Validation loss')\n",
        "plt.title('Training and validation loss')\n",
        "plt.xlabel('epochs')\n",
        "plt.ylabel('loss')\n",
        "plt.legend()\n",
        "plt.show()"
      ],
      "id": "F62fEQaGFMqs",
      "execution_count": null,
      "outputs": [
        {
          "output_type": "display_data",
          "data": {
            "image/png": "[encoded data removed]",
            "text/plain": [
              "<Figure size 432x288 with 1 Axes>"
            ]
          },
          "metadata": {
            "needs_background": "light"
          }
        },
        {
          "output_type": "display_data",
          "data": {
            "image/png": "[encoded data removed]",
            "text/plain": [
              "<Figure size 432x288 with 1 Axes>"
            ]
          },
          "metadata": {
            "needs_background": "light"
          }
        }
      ]
    },
    {
      "cell_type": "code",
      "metadata": {
        "id": "wFbKdWsMkDuw",
        "colab": {
          "base_uri": "https://localhost:8080/"
        },
        "outputId": "c05ff58c-0d09-4be0-d81d-0210984ffd3e"
      },
      "source": [
        "# classification report\n",
        "predicted_classes = np.argmax(np.round(model_cnn.predict(X_test[:,:,:,None])),axis=1)\n",
        "correct = np.where(predicted_classes==y_test)[0]\n",
        "target_names = [f\"Class {label}\" for label in range(len(np.unique(df['label'])))]\n",
        "\n",
        "print(f\"From {len(y_test)} labels're founding {len(correct)} correct labels.\")\n",
        "print(f'Accuracy: {len(correct)/len(y_test)}')\n",
        "print('')\n",
        "print(classification_report(y_test, predicted_classes, target_names=target_names))"
      ],
      "id": "wFbKdWsMkDuw",
      "execution_count": null,
      "outputs": [
        {
          "output_type": "stream",
          "name": "stdout",
          "text": [
            "From 280 labels're founding 266 correct labels.\n",
            "Accuracy: 0.95\n",
            "\n",
            "              precision    recall  f1-score   support\n",
            "\n",
            "     Class 0       0.38      1.00      0.56         5\n",
            "     Class 1       1.00      1.00      1.00         5\n",
            "     Class 2       1.00      1.00      1.00         5\n",
            "     Class 3       1.00      0.40      0.57         5\n",
            "     Class 4       1.00      1.00      1.00         5\n",
            "     Class 5       1.00      1.00      1.00         5\n",
            "     Class 6       1.00      1.00      1.00         5\n",
            "     Class 7       0.71      1.00      0.83         5\n",
            "     Class 8       1.00      1.00      1.00         5\n",
            "     Class 9       1.00      1.00      1.00         5\n",
            "    Class 10       1.00      1.00      1.00         5\n",
            "    Class 11       1.00      1.00      1.00         5\n",
            "    Class 12       1.00      1.00      1.00         5\n",
            "    Class 13       1.00      1.00      1.00         5\n",
            "    Class 14       1.00      1.00      1.00         5\n",
            "    Class 15       1.00      1.00      1.00         5\n",
            "    Class 16       1.00      1.00      1.00         5\n",
            "    Class 17       1.00      1.00      1.00         5\n",
            "    Class 18       1.00      1.00      1.00         5\n",
            "    Class 19       1.00      1.00      1.00         5\n",
            "    Class 20       0.80      0.80      0.80         5\n",
            "    Class 21       1.00      1.00      1.00         5\n",
            "    Class 22       1.00      1.00      1.00         5\n",
            "    Class 23       1.00      1.00      1.00         5\n",
            "    Class 24       1.00      1.00      1.00         5\n",
            "    Class 25       1.00      0.80      0.89         5\n",
            "    Class 26       1.00      1.00      1.00         5\n",
            "    Class 27       1.00      1.00      1.00         5\n",
            "    Class 28       1.00      1.00      1.00         5\n",
            "    Class 29       1.00      1.00      1.00         5\n",
            "    Class 30       0.80      0.80      0.80         5\n",
            "    Class 31       1.00      1.00      1.00         5\n",
            "    Class 32       1.00      0.80      0.89         5\n",
            "    Class 33       1.00      1.00      1.00         5\n",
            "    Class 34       1.00      1.00      1.00         5\n",
            "    Class 35       1.00      1.00      1.00         5\n",
            "    Class 36       1.00      1.00      1.00         5\n",
            "    Class 37       1.00      1.00      1.00         5\n",
            "    Class 38       0.80      0.80      0.80         5\n",
            "    Class 39       1.00      1.00      1.00         5\n",
            "    Class 40       1.00      0.60      0.75         5\n",
            "    Class 41       1.00      1.00      1.00         5\n",
            "    Class 42       1.00      1.00      1.00         5\n",
            "    Class 43       0.83      1.00      0.91         5\n",
            "    Class 44       1.00      1.00      1.00         5\n",
            "    Class 45       1.00      1.00      1.00         5\n",
            "    Class 46       1.00      1.00      1.00         5\n",
            "    Class 47       1.00      1.00      1.00         5\n",
            "    Class 48       1.00      1.00      1.00         5\n",
            "    Class 49       1.00      1.00      1.00         5\n",
            "    Class 50       1.00      1.00      1.00         5\n",
            "    Class 51       1.00      0.80      0.89         5\n",
            "    Class 52       1.00      0.60      0.75         5\n",
            "    Class 53       1.00      1.00      1.00         5\n",
            "    Class 54       1.00      0.80      0.89         5\n",
            "    Class 55       1.00      1.00      1.00         5\n",
            "\n",
            "    accuracy                           0.95       280\n",
            "   macro avg       0.97      0.95      0.95       280\n",
            "weighted avg       0.97      0.95      0.95       280\n",
            "\n"
          ]
        }
      ]
    },
    {
      "cell_type": "markdown",
      "metadata": {
        "id": "ExkYoE9LXq6I"
      },
      "source": [
        "## Other people \n",
        "men and woman each 10 audio file."
      ],
      "id": "ExkYoE9LXq6I"
    },
    {
      "cell_type": "code",
      "metadata": {
        "colab": {
          "base_uri": "https://localhost:8080/"
        },
        "id": "AYxW624FZZdM",
        "outputId": "de05af18-c67f-4d6a-9b3e-1ccf71b1e7a7"
      },
      "source": [
        "import numpy as np\n",
        "np.random.seed(77)\n",
        "\n",
        "random_fruit_veget = np.random.choice(np.unique(df['description']),10,replace=False).tolist()\n",
        "print(random_fruit_veget)"
      ],
      "id": "AYxW624FZZdM",
      "execution_count": null,
      "outputs": [
        {
          "output_type": "stream",
          "name": "stdout",
          "text": [
            "['ผักกุยช่าย', 'ทับทิม', 'ใบชะพลู1', 'พริกขี้หนู', 'มันสำปะหลัง', 'ฟักทอง', 'มะพลับ', 'หัวหอม2', 'ใบชะพลู2', 'บวบ']\n"
          ]
        }
      ]
    },
    {
      "cell_type": "code",
      "metadata": {
        "id": "XTRoVzSzX3XM"
      },
      "source": [
        "import pandas as pd\n",
        "\n",
        "# Audio data source\n",
        "other_source = {'audio_time':[],\n",
        "                'sampling_rate':[],\n",
        "                'feature_extraction':[],\n",
        "                'label':[],\n",
        "                'description':[]}\n",
        "\n",
        "for types in random_fruit_veget:\n",
        "    audio_files = glob('/content/Project_499/Record_other_audio/' + str(types) + '/*.wav')\n",
        "\n",
        "    for audio in audio_files:\n",
        "        y,sr = librosa.load(audio,duration=5,offset=0)\n",
        "        other_source['description'].append(str(types))\n",
        "        other_source['audio_time'].append(y)\n",
        "        other_source['sampling_rate'].append(sr)\n",
        "        other_source['feature_extraction'].append(feature_mfcc(y,sr))\n",
        "\n",
        "other_source['label'] = [18,18,14,14,39,39,44,44,37,37,50,50,25,25,55,55,40,40,38,38]\n",
        "other_df = pd.DataFrame.from_dict(other_source)"
      ],
      "id": "XTRoVzSzX3XM",
      "execution_count": null,
      "outputs": []
    },
    {
      "cell_type": "code",
      "metadata": {
        "id": "rQ6EclMVZCeE"
      },
      "source": [
        "other_X_test = np.array(other_df['feature_extraction'].to_list())\n",
        "other_y_test = np.array(other_df['label'].to_list())"
      ],
      "id": "rQ6EclMVZCeE",
      "execution_count": null,
      "outputs": []
    },
    {
      "cell_type": "code",
      "metadata": {
        "id": "uG_isU-4c97L",
        "colab": {
          "base_uri": "https://localhost:8080/"
        },
        "outputId": "ce5e5ce2-49b4-426f-ae06-132d78ed414c"
      },
      "source": [
        "# classification report\n",
        "predicted_classes = np.argmax(np.round(model_cnn.predict(other_X_test[:,:,:,None])),axis=1)\n",
        "correct = np.where(predicted_classes==other_y_test)[0]\n",
        "target_names = [f\"Class {label}\" for label in np.unique(other_source['label'])]\n",
        "\n",
        "print(f\"From {len(other_y_test)} labels're founding {len(correct)} correct labels.\")\n",
        "print(f'Accuracy: {len(correct)/len(other_y_test)}')"
      ],
      "id": "uG_isU-4c97L",
      "execution_count": null,
      "outputs": [
        {
          "output_type": "stream",
          "name": "stdout",
          "text": [
            "From 20 labels're founding 6 correct labels.\n",
            "Accuracy: 0.3\n"
          ]
        }
      ]
    }
  ]
}