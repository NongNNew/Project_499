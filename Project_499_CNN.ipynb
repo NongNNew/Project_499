{
  "nbformat": 4,
  "nbformat_minor": 5,
  "metadata": {
    "colab": {
      "name": "Project_499_CNN.ipynb",
      "provenance": [],
      "collapsed_sections": [],
      "include_colab_link": true
    },
    "kernelspec": {
      "display_name": "Python 3",
      "language": "python",
      "name": "python3"
    },
    "language_info": {
      "codemirror_mode": {
        "name": "ipython",
        "version": 3
      },
      "file_extension": ".py",
      "mimetype": "text/x-python",
      "name": "python",
      "nbconvert_exporter": "python",
      "pygments_lexer": "ipython3",
      "version": "3.8.8"
    },
    "accelerator": "GPU"
  },
  "cells": [
    {
      "cell_type": "markdown",
      "metadata": {
        "id": "view-in-github",
        "colab_type": "text"
      },
      "source": [
        "<a href=\"https://colab.research.google.com/github/NongNNew/Project_499/blob/main/Project_499_CNN.ipynb\" target=\"_parent\"><img src=\"https://colab.research.google.com/assets/colab-badge.svg\" alt=\"Open In Colab\"/></a>"
      ]
    },
    {
      "cell_type": "markdown",
      "metadata": {
        "id": "hW4AHGmEVrk8"
      },
      "source": [
        "# CNN"
      ],
      "id": "hW4AHGmEVrk8"
    },
    {
      "cell_type": "code",
      "metadata": {
        "colab": {
          "base_uri": "https://localhost:8080/"
        },
        "id": "gJVdtdww87RO",
        "outputId": "0b118981-9371-4f77-8ddc-d92984f85a5f"
      },
      "source": [
        "!git clone https://github.com/NongNNew/Project_499.git"
      ],
      "id": "gJVdtdww87RO",
      "execution_count": 1,
      "outputs": [
        {
          "output_type": "stream",
          "text": [
            "Cloning into 'Project_499'...\n",
            "remote: Enumerating objects: 683, done.\u001b[K\n",
            "remote: Counting objects: 100% (235/235), done.\u001b[K\n",
            "remote: Compressing objects: 100% (232/232), done.\u001b[K\n",
            "remote: Total 683 (delta 15), reused 215 (delta 3), pack-reused 448\u001b[K\n",
            "Receiving objects: 100% (683/683), 118.10 MiB | 8.26 MiB/s, done.\n",
            "Resolving deltas: 100% (43/43), done.\n",
            "Checking out files: 100% (562/562), done.\n"
          ],
          "name": "stdout"
        }
      ]
    },
    {
      "cell_type": "code",
      "metadata": {
        "id": "kj43EsnPwnaw"
      },
      "source": [
        "import pandas as pd\n",
        "from glob import glob\n",
        "import librosa\n",
        "import librosa.display"
      ],
      "id": "kj43EsnPwnaw",
      "execution_count": 2,
      "outputs": []
    },
    {
      "cell_type": "code",
      "metadata": {
        "id": "EHnDUT5YejVV"
      },
      "source": [
        "fruit_veget = ['กระชาย','กระท้อน','กระเทียม1','กระเทียม2','กระเพรา','กล้วยน้ำว้า','กล้วยหอม',\n",
        "               'ข้าวโพด','ไข่น้ำ',\n",
        "               'ตะขบไทย','ตะไคร้',\n",
        "               'ถั่วฝักยาว','ถั่วลันเตา','ถั่วลิสง',\n",
        "               'ทับทิม',\n",
        "               'น้อยหน่า','น้ำเต้า',\n",
        "               'บวบ','ใบชะพลู1','ใบชะพลู2','ใบบัวบก','ใบแมงลัก',\n",
        "               'ฝรั่ง',\n",
        "               'พุทรา',\n",
        "               'มะปราง','มะพลับ','มะละกอ',\n",
        "               'สับปะรด']\n",
        "\n",
        "source = {'audio_time':[],\n",
        "          'sampling_rate':[],\n",
        "          'feature_extraction':[],\n",
        "          'label':[],\n",
        "          'description':[]}"
      ],
      "id": "EHnDUT5YejVV",
      "execution_count": 19,
      "outputs": []
    },
    {
      "cell_type": "code",
      "metadata": {
        "id": "tixApnAUy5tv"
      },
      "source": [
        "for types in fruit_veget:\n",
        "    audio_files = glob('/content/Project_499/Record_audio/' + str(types) + '/*.wav')\n",
        "\n",
        "    for audio in audio_files:\n",
        "        y,sr = librosa.load(audio,duration=6,offset=0)\n",
        "        source['description'].append(str(types))\n",
        "        source['audio_time'].append(y)\n",
        "        source['sampling_rate'].append(sr)\n",
        "        source['feature_extraction'].append(librosa.feature.mfcc(y,sr,n_mfcc=13))\n",
        "        source['label'].append(fruit_veget.index(types))"
      ],
      "id": "tixApnAUy5tv",
      "execution_count": 20,
      "outputs": []
    },
    {
      "cell_type": "code",
      "metadata": {
        "id": "353eCwDJUumP"
      },
      "source": [
        "import re\n",
        "\n",
        "for i in range(len(source['description'])):\n",
        "    source['description'][i] = re.findall('[\\u0E00-\\u0E7F]+',source['description'][i])[0]"
      ],
      "id": "353eCwDJUumP",
      "execution_count": 21,
      "outputs": []
    },
    {
      "cell_type": "code",
      "metadata": {
        "colab": {
          "base_uri": "https://localhost:8080/",
          "height": 415
        },
        "id": "8B6cSV4Ckude",
        "outputId": "e7741673-853b-4500-d358-8178726b8553"
      },
      "source": [
        "pd.DataFrame.from_dict(source)"
      ],
      "id": "8B6cSV4Ckude",
      "execution_count": 22,
      "outputs": [
        {
          "output_type": "execute_result",
          "data": {
            "text/html": [
              "<div>\n",
              "<style scoped>\n",
              "    .dataframe tbody tr th:only-of-type {\n",
              "        vertical-align: middle;\n",
              "    }\n",
              "\n",
              "    .dataframe tbody tr th {\n",
              "        vertical-align: top;\n",
              "    }\n",
              "\n",
              "    .dataframe thead th {\n",
              "        text-align: right;\n",
              "    }\n",
              "</style>\n",
              "<table border=\"1\" class=\"dataframe\">\n",
              "  <thead>\n",
              "    <tr style=\"text-align: right;\">\n",
              "      <th></th>\n",
              "      <th>audio_time</th>\n",
              "      <th>sampling_rate</th>\n",
              "      <th>feature_extraction</th>\n",
              "      <th>label</th>\n",
              "      <th>description</th>\n",
              "    </tr>\n",
              "  </thead>\n",
              "  <tbody>\n",
              "    <tr>\n",
              "      <th>0</th>\n",
              "      <td>[-0.0001373291, -0.00010681152, -0.0001373291,...</td>\n",
              "      <td>22050</td>\n",
              "      <td>[[-641.21436, -640.2155, -639.54114, -638.4883...</td>\n",
              "      <td>0</td>\n",
              "      <td>กระชาย</td>\n",
              "    </tr>\n",
              "    <tr>\n",
              "      <th>1</th>\n",
              "      <td>[0.0004119873, 0.00061035156, 0.0005340576, 0....</td>\n",
              "      <td>22050</td>\n",
              "      <td>[[-625.25085, -626.8685, -629.381, -632.6441, ...</td>\n",
              "      <td>0</td>\n",
              "      <td>กระชาย</td>\n",
              "    </tr>\n",
              "    <tr>\n",
              "      <th>2</th>\n",
              "      <td>[-9.1552734e-05, -0.00012207031, -0.0001373291...</td>\n",
              "      <td>22050</td>\n",
              "      <td>[[-644.627, -645.0809, -645.80524, -646.2903, ...</td>\n",
              "      <td>0</td>\n",
              "      <td>กระชาย</td>\n",
              "    </tr>\n",
              "    <tr>\n",
              "      <th>3</th>\n",
              "      <td>[-0.00010681152, -0.00010681152, -0.0001525878...</td>\n",
              "      <td>22050</td>\n",
              "      <td>[[-622.78125, -623.396, -623.63983, -623.7701,...</td>\n",
              "      <td>0</td>\n",
              "      <td>กระชาย</td>\n",
              "    </tr>\n",
              "    <tr>\n",
              "      <th>4</th>\n",
              "      <td>[-0.0002593994, -0.00022888184, -0.0002593994,...</td>\n",
              "      <td>22050</td>\n",
              "      <td>[[-639.25616, -639.47345, -640.0064, -640.5056...</td>\n",
              "      <td>0</td>\n",
              "      <td>กระชาย</td>\n",
              "    </tr>\n",
              "    <tr>\n",
              "      <th>...</th>\n",
              "      <td>...</td>\n",
              "      <td>...</td>\n",
              "      <td>...</td>\n",
              "      <td>...</td>\n",
              "      <td>...</td>\n",
              "    </tr>\n",
              "    <tr>\n",
              "      <th>555</th>\n",
              "      <td>[-0.00018310547, -0.00024414062, -0.0002288818...</td>\n",
              "      <td>22050</td>\n",
              "      <td>[[-622.7785, -621.6811, -618.9255, -619.49744,...</td>\n",
              "      <td>27</td>\n",
              "      <td>สับปะรด</td>\n",
              "    </tr>\n",
              "    <tr>\n",
              "      <th>556</th>\n",
              "      <td>[-0.00018310547, -0.0002593994, -0.00022888184...</td>\n",
              "      <td>22050</td>\n",
              "      <td>[[-666.57153, -663.4788, -662.98236, -663.7374...</td>\n",
              "      <td>27</td>\n",
              "      <td>สับปะรด</td>\n",
              "    </tr>\n",
              "    <tr>\n",
              "      <th>557</th>\n",
              "      <td>[0.0, 0.0, 0.0, 3.0517578e-05, -4.5776367e-05,...</td>\n",
              "      <td>22050</td>\n",
              "      <td>[[-644.81506, -644.89075, -644.7345, -643.6741...</td>\n",
              "      <td>27</td>\n",
              "      <td>สับปะรด</td>\n",
              "    </tr>\n",
              "    <tr>\n",
              "      <th>558</th>\n",
              "      <td>[-0.00010681152, -0.00019836426, -0.0002441406...</td>\n",
              "      <td>22050</td>\n",
              "      <td>[[-688.85156, -688.6841, -685.51434, -680.2233...</td>\n",
              "      <td>27</td>\n",
              "      <td>สับปะรด</td>\n",
              "    </tr>\n",
              "    <tr>\n",
              "      <th>559</th>\n",
              "      <td>[0.0, 0.0, 3.0517578e-05, -1.5258789e-05, 1.52...</td>\n",
              "      <td>22050</td>\n",
              "      <td>[[-667.3518, -667.19855, -668.4982, -668.1101,...</td>\n",
              "      <td>27</td>\n",
              "      <td>สับปะรด</td>\n",
              "    </tr>\n",
              "  </tbody>\n",
              "</table>\n",
              "<p>560 rows × 5 columns</p>\n",
              "</div>"
            ],
            "text/plain": [
              "                                            audio_time  ...  description\n",
              "0    [-0.0001373291, -0.00010681152, -0.0001373291,...  ...       กระชาย\n",
              "1    [0.0004119873, 0.00061035156, 0.0005340576, 0....  ...       กระชาย\n",
              "2    [-9.1552734e-05, -0.00012207031, -0.0001373291...  ...       กระชาย\n",
              "3    [-0.00010681152, -0.00010681152, -0.0001525878...  ...       กระชาย\n",
              "4    [-0.0002593994, -0.00022888184, -0.0002593994,...  ...       กระชาย\n",
              "..                                                 ...  ...          ...\n",
              "555  [-0.00018310547, -0.00024414062, -0.0002288818...  ...      สับปะรด\n",
              "556  [-0.00018310547, -0.0002593994, -0.00022888184...  ...      สับปะรด\n",
              "557  [0.0, 0.0, 0.0, 3.0517578e-05, -4.5776367e-05,...  ...      สับปะรด\n",
              "558  [-0.00010681152, -0.00019836426, -0.0002441406...  ...      สับปะรด\n",
              "559  [0.0, 0.0, 3.0517578e-05, -1.5258789e-05, 1.52...  ...      สับปะรด\n",
              "\n",
              "[560 rows x 5 columns]"
            ]
          },
          "metadata": {
            "tags": []
          },
          "execution_count": 22
        }
      ]
    },
    {
      "cell_type": "code",
      "metadata": {
        "id": "77wMVqve6W8f"
      },
      "source": [
        "import tensorflow as tf\n",
        "from tensorflow import keras \n",
        "import numpy as np\n",
        "from sklearn.model_selection import train_test_split\n",
        "\n",
        "X = np.array(source['feature_extraction'])\n",
        "y = np.array(source['label'])\n",
        "\n",
        "X_train, X_test, y_train, y_test = train_test_split(X,y,test_size=0.25)\n",
        "\n",
        "model = keras.Sequential()\n",
        "model.add(keras.layers.Conv2D(64, 5, input_shape=(13, 259, 1), activation='relu'))\n",
        "model.add(keras.layers.Dropout(0.25))\n",
        "model.add(keras.layers.MaxPool2D())\n",
        "model.add(keras.layers.Conv2D(64, 5, activation='relu',padding='same'))\n",
        "model.add(keras.layers.Dropout(0.25))\n",
        "model.add(keras.layers.MaxPool2D())\n",
        "model.add(keras.layers.Flatten())\n",
        "model.add(keras.layers.Dense(128, activation='relu'))\n",
        "model.add(keras.layers.Dropout(0.5))\n",
        "model.add(keras.layers.Dense(len(np.unique(source['label'])), activation='softmax'))\n",
        "model.compile(optimizer='adam', loss='sparse_categorical_crossentropy', metrics=['accuracy'])"
      ],
      "id": "77wMVqve6W8f",
      "execution_count": 28,
      "outputs": []
    },
    {
      "cell_type": "code",
      "metadata": {
        "colab": {
          "base_uri": "https://localhost:8080/"
        },
        "id": "J_fPsi8o62or",
        "outputId": "8d87a9f1-cd60-4453-82d6-40422b72b2aa"
      },
      "source": [
        "model.fit(X_train[:,:,:,None], y_train, epochs=100)"
      ],
      "id": "J_fPsi8o62or",
      "execution_count": 29,
      "outputs": [
        {
          "output_type": "stream",
          "text": [
            "Epoch 1/100\n",
            "14/14 [==============================] - 1s 23ms/step - loss: 44.6739 - accuracy: 0.0333\n",
            "Epoch 2/100\n",
            "14/14 [==============================] - 0s 20ms/step - loss: 3.3184 - accuracy: 0.0500\n",
            "Epoch 3/100\n",
            "14/14 [==============================] - 0s 19ms/step - loss: 3.3114 - accuracy: 0.0571\n",
            "Epoch 4/100\n",
            "14/14 [==============================] - 0s 18ms/step - loss: 3.3496 - accuracy: 0.0524\n",
            "Epoch 5/100\n",
            "14/14 [==============================] - 0s 18ms/step - loss: 3.3301 - accuracy: 0.0476\n",
            "Epoch 6/100\n",
            "14/14 [==============================] - 0s 18ms/step - loss: 3.3215 - accuracy: 0.0405\n",
            "Epoch 7/100\n",
            "14/14 [==============================] - 0s 18ms/step - loss: 3.3015 - accuracy: 0.0452\n",
            "Epoch 8/100\n",
            "14/14 [==============================] - 0s 19ms/step - loss: 3.3158 - accuracy: 0.0548\n",
            "Epoch 9/100\n",
            "14/14 [==============================] - 0s 18ms/step - loss: 3.2917 - accuracy: 0.0452\n",
            "Epoch 10/100\n",
            "14/14 [==============================] - 0s 19ms/step - loss: 3.2970 - accuracy: 0.0524\n",
            "Epoch 11/100\n",
            "14/14 [==============================] - 0s 18ms/step - loss: 3.3201 - accuracy: 0.0595\n",
            "Epoch 12/100\n",
            "14/14 [==============================] - 0s 19ms/step - loss: 3.3691 - accuracy: 0.0500\n",
            "Epoch 13/100\n",
            "14/14 [==============================] - 0s 18ms/step - loss: 3.3257 - accuracy: 0.0524\n",
            "Epoch 14/100\n",
            "14/14 [==============================] - 0s 19ms/step - loss: 3.3261 - accuracy: 0.0476\n",
            "Epoch 15/100\n",
            "14/14 [==============================] - 0s 18ms/step - loss: 3.3218 - accuracy: 0.0500\n",
            "Epoch 16/100\n",
            "14/14 [==============================] - 0s 18ms/step - loss: 3.2902 - accuracy: 0.0619\n",
            "Epoch 17/100\n",
            "14/14 [==============================] - 0s 19ms/step - loss: 3.2988 - accuracy: 0.0548\n",
            "Epoch 18/100\n",
            "14/14 [==============================] - 0s 18ms/step - loss: 3.3302 - accuracy: 0.0690\n",
            "Epoch 19/100\n",
            "14/14 [==============================] - 0s 19ms/step - loss: 3.2934 - accuracy: 0.0571\n",
            "Epoch 20/100\n",
            "14/14 [==============================] - 0s 19ms/step - loss: 3.2547 - accuracy: 0.0762\n",
            "Epoch 21/100\n",
            "14/14 [==============================] - 0s 18ms/step - loss: 3.1916 - accuracy: 0.0929\n",
            "Epoch 22/100\n",
            "14/14 [==============================] - 0s 18ms/step - loss: 3.2427 - accuracy: 0.0738\n",
            "Epoch 23/100\n",
            "14/14 [==============================] - 0s 18ms/step - loss: 3.1823 - accuracy: 0.0857\n",
            "Epoch 24/100\n",
            "14/14 [==============================] - 0s 18ms/step - loss: 3.2073 - accuracy: 0.0786\n",
            "Epoch 25/100\n",
            "14/14 [==============================] - 0s 19ms/step - loss: 3.1871 - accuracy: 0.0690\n",
            "Epoch 26/100\n",
            "14/14 [==============================] - 0s 18ms/step - loss: 3.1276 - accuracy: 0.1024\n",
            "Epoch 27/100\n",
            "14/14 [==============================] - 0s 18ms/step - loss: 2.9451 - accuracy: 0.1500\n",
            "Epoch 28/100\n",
            "14/14 [==============================] - 0s 18ms/step - loss: 2.8932 - accuracy: 0.1929\n",
            "Epoch 29/100\n",
            "14/14 [==============================] - 0s 19ms/step - loss: 2.5320 - accuracy: 0.2452\n",
            "Epoch 30/100\n",
            "14/14 [==============================] - 0s 18ms/step - loss: 2.3956 - accuracy: 0.2881\n",
            "Epoch 31/100\n",
            "14/14 [==============================] - 0s 18ms/step - loss: 1.9676 - accuracy: 0.4024\n",
            "Epoch 32/100\n",
            "14/14 [==============================] - 0s 18ms/step - loss: 1.5267 - accuracy: 0.5286\n",
            "Epoch 33/100\n",
            "14/14 [==============================] - 0s 18ms/step - loss: 1.4294 - accuracy: 0.5643\n",
            "Epoch 34/100\n",
            "14/14 [==============================] - 0s 18ms/step - loss: 1.1395 - accuracy: 0.6548\n",
            "Epoch 35/100\n",
            "14/14 [==============================] - 0s 18ms/step - loss: 1.2451 - accuracy: 0.6190\n",
            "Epoch 36/100\n",
            "14/14 [==============================] - 0s 18ms/step - loss: 1.0637 - accuracy: 0.6714\n",
            "Epoch 37/100\n",
            "14/14 [==============================] - 0s 18ms/step - loss: 0.8967 - accuracy: 0.6952\n",
            "Epoch 38/100\n",
            "14/14 [==============================] - 0s 18ms/step - loss: 0.8545 - accuracy: 0.7167\n",
            "Epoch 39/100\n",
            "14/14 [==============================] - 0s 18ms/step - loss: 0.8450 - accuracy: 0.7595\n",
            "Epoch 40/100\n",
            "14/14 [==============================] - 0s 19ms/step - loss: 0.7729 - accuracy: 0.7381\n",
            "Epoch 41/100\n",
            "14/14 [==============================] - 0s 19ms/step - loss: 0.8024 - accuracy: 0.7667\n",
            "Epoch 42/100\n",
            "14/14 [==============================] - 0s 18ms/step - loss: 0.6948 - accuracy: 0.7714\n",
            "Epoch 43/100\n",
            "14/14 [==============================] - 0s 18ms/step - loss: 0.6165 - accuracy: 0.8024\n",
            "Epoch 44/100\n",
            "14/14 [==============================] - 0s 19ms/step - loss: 0.7422 - accuracy: 0.7714\n",
            "Epoch 45/100\n",
            "14/14 [==============================] - 0s 18ms/step - loss: 0.5583 - accuracy: 0.8000\n",
            "Epoch 46/100\n",
            "14/14 [==============================] - 0s 18ms/step - loss: 0.5338 - accuracy: 0.8429\n",
            "Epoch 47/100\n",
            "14/14 [==============================] - 0s 18ms/step - loss: 0.5149 - accuracy: 0.8190\n",
            "Epoch 48/100\n",
            "14/14 [==============================] - 0s 18ms/step - loss: 0.4908 - accuracy: 0.8333\n",
            "Epoch 49/100\n",
            "14/14 [==============================] - 0s 18ms/step - loss: 0.4828 - accuracy: 0.8310\n",
            "Epoch 50/100\n",
            "14/14 [==============================] - 0s 18ms/step - loss: 0.4322 - accuracy: 0.8643\n",
            "Epoch 51/100\n",
            "14/14 [==============================] - 0s 18ms/step - loss: 0.5179 - accuracy: 0.8429\n",
            "Epoch 52/100\n",
            "14/14 [==============================] - 0s 18ms/step - loss: 0.4163 - accuracy: 0.8619\n",
            "Epoch 53/100\n",
            "14/14 [==============================] - 0s 18ms/step - loss: 0.4681 - accuracy: 0.8619\n",
            "Epoch 54/100\n",
            "14/14 [==============================] - 0s 18ms/step - loss: 0.3431 - accuracy: 0.8762\n",
            "Epoch 55/100\n",
            "14/14 [==============================] - 0s 18ms/step - loss: 0.5199 - accuracy: 0.8405\n",
            "Epoch 56/100\n",
            "14/14 [==============================] - 0s 19ms/step - loss: 0.5325 - accuracy: 0.8357\n",
            "Epoch 57/100\n",
            "14/14 [==============================] - 0s 18ms/step - loss: 0.4170 - accuracy: 0.8738\n",
            "Epoch 58/100\n",
            "14/14 [==============================] - 0s 20ms/step - loss: 0.4130 - accuracy: 0.8667\n",
            "Epoch 59/100\n",
            "14/14 [==============================] - 0s 18ms/step - loss: 0.3049 - accuracy: 0.8881\n",
            "Epoch 60/100\n",
            "14/14 [==============================] - 0s 19ms/step - loss: 0.2573 - accuracy: 0.9048\n",
            "Epoch 61/100\n",
            "14/14 [==============================] - 0s 18ms/step - loss: 0.2847 - accuracy: 0.8929\n",
            "Epoch 62/100\n",
            "14/14 [==============================] - 0s 19ms/step - loss: 0.2761 - accuracy: 0.9143\n",
            "Epoch 63/100\n",
            "14/14 [==============================] - 0s 18ms/step - loss: 0.3204 - accuracy: 0.9048\n",
            "Epoch 64/100\n",
            "14/14 [==============================] - 0s 18ms/step - loss: 0.3325 - accuracy: 0.8976\n",
            "Epoch 65/100\n",
            "14/14 [==============================] - 0s 18ms/step - loss: 0.2656 - accuracy: 0.9310\n",
            "Epoch 66/100\n",
            "14/14 [==============================] - 0s 18ms/step - loss: 0.2848 - accuracy: 0.9143\n",
            "Epoch 67/100\n",
            "14/14 [==============================] - 0s 18ms/step - loss: 0.2671 - accuracy: 0.9048\n",
            "Epoch 68/100\n",
            "14/14 [==============================] - 0s 18ms/step - loss: 0.1714 - accuracy: 0.9476\n",
            "Epoch 69/100\n",
            "14/14 [==============================] - 0s 18ms/step - loss: 0.2376 - accuracy: 0.9286\n",
            "Epoch 70/100\n",
            "14/14 [==============================] - 0s 18ms/step - loss: 0.3928 - accuracy: 0.9095\n",
            "Epoch 71/100\n",
            "14/14 [==============================] - 0s 19ms/step - loss: 0.2379 - accuracy: 0.9190\n",
            "Epoch 72/100\n",
            "14/14 [==============================] - 0s 19ms/step - loss: 0.2614 - accuracy: 0.9262\n",
            "Epoch 73/100\n",
            "14/14 [==============================] - 0s 18ms/step - loss: 0.2265 - accuracy: 0.9238\n",
            "Epoch 74/100\n",
            "14/14 [==============================] - 0s 18ms/step - loss: 0.1795 - accuracy: 0.9333\n",
            "Epoch 75/100\n",
            "14/14 [==============================] - 0s 19ms/step - loss: 0.2026 - accuracy: 0.9405\n",
            "Epoch 76/100\n",
            "14/14 [==============================] - 0s 19ms/step - loss: 0.2325 - accuracy: 0.9238\n",
            "Epoch 77/100\n",
            "14/14 [==============================] - 0s 18ms/step - loss: 0.2608 - accuracy: 0.9167\n",
            "Epoch 78/100\n",
            "14/14 [==============================] - 0s 18ms/step - loss: 0.4440 - accuracy: 0.8714\n",
            "Epoch 79/100\n",
            "14/14 [==============================] - 0s 18ms/step - loss: 0.3289 - accuracy: 0.9024\n",
            "Epoch 80/100\n",
            "14/14 [==============================] - 0s 18ms/step - loss: 0.3077 - accuracy: 0.9000\n",
            "Epoch 81/100\n",
            "14/14 [==============================] - 0s 18ms/step - loss: 0.2917 - accuracy: 0.9238\n",
            "Epoch 82/100\n",
            "14/14 [==============================] - 0s 18ms/step - loss: 0.2198 - accuracy: 0.9429\n",
            "Epoch 83/100\n",
            "14/14 [==============================] - 0s 18ms/step - loss: 0.2067 - accuracy: 0.9214\n",
            "Epoch 84/100\n",
            "14/14 [==============================] - 0s 18ms/step - loss: 0.1317 - accuracy: 0.9500\n",
            "Epoch 85/100\n",
            "14/14 [==============================] - 0s 19ms/step - loss: 0.1842 - accuracy: 0.9333\n",
            "Epoch 86/100\n",
            "14/14 [==============================] - 0s 18ms/step - loss: 0.1544 - accuracy: 0.9548\n",
            "Epoch 87/100\n",
            "14/14 [==============================] - 0s 18ms/step - loss: 0.1538 - accuracy: 0.9548\n",
            "Epoch 88/100\n",
            "14/14 [==============================] - 0s 18ms/step - loss: 0.1809 - accuracy: 0.9214\n",
            "Epoch 89/100\n",
            "14/14 [==============================] - 0s 19ms/step - loss: 0.1671 - accuracy: 0.9357\n",
            "Epoch 90/100\n",
            "14/14 [==============================] - 0s 18ms/step - loss: 0.1844 - accuracy: 0.9333\n",
            "Epoch 91/100\n",
            "14/14 [==============================] - 0s 19ms/step - loss: 0.1401 - accuracy: 0.9476\n",
            "Epoch 92/100\n",
            "14/14 [==============================] - 0s 18ms/step - loss: 0.1404 - accuracy: 0.9548\n",
            "Epoch 93/100\n",
            "14/14 [==============================] - 0s 18ms/step - loss: 0.1682 - accuracy: 0.9500\n",
            "Epoch 94/100\n",
            "14/14 [==============================] - 0s 18ms/step - loss: 0.1582 - accuracy: 0.9452\n",
            "Epoch 95/100\n",
            "14/14 [==============================] - 0s 18ms/step - loss: 0.1622 - accuracy: 0.9381\n",
            "Epoch 96/100\n",
            "14/14 [==============================] - 0s 19ms/step - loss: 0.1242 - accuracy: 0.9619\n",
            "Epoch 97/100\n",
            "14/14 [==============================] - 0s 18ms/step - loss: 0.2138 - accuracy: 0.9500\n",
            "Epoch 98/100\n",
            "14/14 [==============================] - 0s 18ms/step - loss: 0.2454 - accuracy: 0.9357\n",
            "Epoch 99/100\n",
            "14/14 [==============================] - 0s 18ms/step - loss: 0.1796 - accuracy: 0.9429\n",
            "Epoch 100/100\n",
            "14/14 [==============================] - 0s 19ms/step - loss: 0.1621 - accuracy: 0.9429\n"
          ],
          "name": "stdout"
        },
        {
          "output_type": "execute_result",
          "data": {
            "text/plain": [
              "<tensorflow.python.keras.callbacks.History at 0x7fcc4b269e10>"
            ]
          },
          "metadata": {
            "tags": []
          },
          "execution_count": 29
        }
      ]
    },
    {
      "cell_type": "code",
      "metadata": {
        "id": "S-z2fH0cHvVc",
        "colab": {
          "base_uri": "https://localhost:8080/"
        },
        "outputId": "d23fd530-8012-4fc1-c88b-2e83226fe38d"
      },
      "source": [
        "model.summary()"
      ],
      "id": "S-z2fH0cHvVc",
      "execution_count": 30,
      "outputs": [
        {
          "output_type": "stream",
          "text": [
            "Model: \"sequential_6\"\n",
            "_________________________________________________________________\n",
            "Layer (type)                 Output Shape              Param #   \n",
            "=================================================================\n",
            "conv2d_12 (Conv2D)           (None, 9, 255, 64)        1664      \n",
            "_________________________________________________________________\n",
            "dropout_18 (Dropout)         (None, 9, 255, 64)        0         \n",
            "_________________________________________________________________\n",
            "max_pooling2d_12 (MaxPooling (None, 4, 127, 64)        0         \n",
            "_________________________________________________________________\n",
            "conv2d_13 (Conv2D)           (None, 4, 127, 64)        102464    \n",
            "_________________________________________________________________\n",
            "dropout_19 (Dropout)         (None, 4, 127, 64)        0         \n",
            "_________________________________________________________________\n",
            "max_pooling2d_13 (MaxPooling (None, 2, 63, 64)         0         \n",
            "_________________________________________________________________\n",
            "flatten_6 (Flatten)          (None, 8064)              0         \n",
            "_________________________________________________________________\n",
            "dense_12 (Dense)             (None, 128)               1032320   \n",
            "_________________________________________________________________\n",
            "dropout_20 (Dropout)         (None, 128)               0         \n",
            "_________________________________________________________________\n",
            "dense_13 (Dense)             (None, 28)                3612      \n",
            "=================================================================\n",
            "Total params: 1,140,060\n",
            "Trainable params: 1,140,060\n",
            "Non-trainable params: 0\n",
            "_________________________________________________________________\n"
          ],
          "name": "stdout"
        }
      ]
    },
    {
      "cell_type": "code",
      "metadata": {
        "colab": {
          "base_uri": "https://localhost:8080/"
        },
        "id": "ZQ4n8wAmB9ZX",
        "outputId": "964dd690-d90b-4bf7-8f7d-ee541eb31a2f"
      },
      "source": [
        "model.evaluate(X_test[:,:,:,None],y_test)"
      ],
      "id": "ZQ4n8wAmB9ZX",
      "execution_count": 31,
      "outputs": [
        {
          "output_type": "stream",
          "text": [
            "5/5 [==============================] - 0s 9ms/step - loss: 0.4880 - accuracy: 0.9286\n"
          ],
          "name": "stdout"
        },
        {
          "output_type": "execute_result",
          "data": {
            "text/plain": [
              "[0.48796772956848145, 0.9285714030265808]"
            ]
          },
          "metadata": {
            "tags": []
          },
          "execution_count": 31
        }
      ]
    }
  ]
}