{
  "nbformat": 4,
  "nbformat_minor": 5,
  "metadata": {
    "colab": {
      "name": "Project_499_CNN.ipynb",
      "provenance": [],
      "collapsed_sections": [],
      "machine_shape": "hm",
      "include_colab_link": true
    },
    "kernelspec": {
      "display_name": "Python 3",
      "language": "python",
      "name": "python3"
    },
    "language_info": {
      "codemirror_mode": {
        "name": "ipython",
        "version": 3
      },
      "file_extension": ".py",
      "mimetype": "text/x-python",
      "name": "python",
      "nbconvert_exporter": "python",
      "pygments_lexer": "ipython3",
      "version": "3.8.8"
    },
    "accelerator": "GPU"
  },
  "cells": [
    {
      "cell_type": "markdown",
      "metadata": {
        "id": "view-in-github",
        "colab_type": "text"
      },
      "source": [
        "<a href=\"https://colab.research.google.com/github/NongNNew/Project_499/blob/main/Project_499_CNN.ipynb\" target=\"_parent\"><img src=\"https://colab.research.google.com/assets/colab-badge.svg\" alt=\"Open In Colab\"/></a>"
      ]
    },
    {
      "cell_type": "markdown",
      "metadata": {
        "id": "hW4AHGmEVrk8"
      },
      "source": [
        "# **CNN**"
      ],
      "id": "hW4AHGmEVrk8"
    },
    {
      "cell_type": "markdown",
      "metadata": {
        "id": "nkYRb02rScfH"
      },
      "source": [
        "## Setup"
      ],
      "id": "nkYRb02rScfH"
    },
    {
      "cell_type": "code",
      "metadata": {
        "colab": {
          "base_uri": "https://localhost:8080/"
        },
        "id": "Nq11bNFAbCci",
        "outputId": "86d437ba-7469-4bdd-b182-2595ace39594"
      },
      "source": [
        "!pip install python_speech_features"
      ],
      "id": "Nq11bNFAbCci",
      "execution_count": 1,
      "outputs": [
        {
          "output_type": "stream",
          "name": "stdout",
          "text": [
            "Collecting python_speech_features\n",
            "  Downloading python_speech_features-0.6.tar.gz (5.6 kB)\n",
            "Building wheels for collected packages: python-speech-features\n",
            "  Building wheel for python-speech-features (setup.py) ... \u001b[?25l\u001b[?25hdone\n",
            "  Created wheel for python-speech-features: filename=python_speech_features-0.6-py3-none-any.whl size=5888 sha256=346581bba475695ef18e5e5fc9b91da738665ff379297f35edfa36351bd929bf\n",
            "  Stored in directory: /root/.cache/pip/wheels/b0/0e/94/28cd6afa3cd5998a63eef99fe31777acd7d758f59cf24839eb\n",
            "Successfully built python-speech-features\n",
            "Installing collected packages: python-speech-features\n",
            "Successfully installed python-speech-features-0.6\n"
          ]
        }
      ]
    },
    {
      "cell_type": "code",
      "metadata": {
        "id": "fssuU2ucR1vy"
      },
      "source": [
        "import librosa\n",
        "import numpy as np\n",
        "import pandas as pd\n",
        "from time import time\n",
        "from glob import glob\n",
        "import tensorflow as tf\n",
        "from tensorflow import keras \n",
        "import python_speech_features\n",
        "import matplotlib.pyplot as plt\n",
        "from scipy.signal.windows import hamming\n",
        "from sklearn.metrics import classification_report,  plot_confusion_matrix"
      ],
      "id": "fssuU2ucR1vy",
      "execution_count": 2,
      "outputs": []
    },
    {
      "cell_type": "code",
      "metadata": {
        "id": "y1vuUlgJSKkC"
      },
      "source": [
        "np.random.seed(1)\n",
        "tf.random.set_seed(1)"
      ],
      "id": "y1vuUlgJSKkC",
      "execution_count": 3,
      "outputs": []
    },
    {
      "cell_type": "code",
      "metadata": {
        "colab": {
          "base_uri": "https://localhost:8080/"
        },
        "id": "gJVdtdww87RO",
        "outputId": "dea79c16-b76f-4875-c442-1f3f5ee94ea7"
      },
      "source": [
        "# Upload audio files from github\n",
        "!git clone https://github.com/NongNNew/Project_499.git"
      ],
      "id": "gJVdtdww87RO",
      "execution_count": 4,
      "outputs": [
        {
          "output_type": "stream",
          "name": "stdout",
          "text": [
            "Cloning into 'Project_499'...\n",
            "remote: Enumerating objects: 1568, done.\u001b[K\n",
            "remote: Counting objects: 100% (124/124), done.\u001b[K\n",
            "remote: Compressing objects: 100% (84/84), done.\u001b[K\n",
            "remote: Total 1568 (delta 52), reused 96 (delta 39), pack-reused 1444\u001b[K\n",
            "Receiving objects: 100% (1568/1568), 237.79 MiB | 29.36 MiB/s, done.\n",
            "Resolving deltas: 100% (200/200), done.\n",
            "Checking out files: 100% (1145/1145), done.\n"
          ]
        }
      ]
    },
    {
      "cell_type": "markdown",
      "metadata": {
        "id": "BRWP2IrOShCH"
      },
      "source": [
        "## Prepare dataset"
      ],
      "id": "BRWP2IrOShCH"
    },
    {
      "cell_type": "code",
      "metadata": {
        "id": "EHnDUT5YejVV"
      },
      "source": [
        "# Name of vegetables and fruits 52 types of 56 classes\n",
        "fruit_veget = ['กระชาย','กระท้อน','กระเทียม1','กระเทียม2','กระเพรา','กล้วยน้ำว้า','กล้วยหอม',\n",
        "               'ข้าวโพด','ไข่น้ำ',\n",
        "               'ตะขบไทย','ตะไคร้',\n",
        "               'ถั่วฝักยาว','ถั่วลันเตา','ถั่วลิสง',\n",
        "               'ทับทิม',\n",
        "               'น้อยหน่า','น้ำเต้า',\n",
        "               'ผักกระเฉด','ผักกุยช่าย','ผักขึ้นช่าย','ผักชะอม','ผักชี','ผักชีฝรั่ง','ผักตำลึง',\n",
        "               'มะปราง','มะพลับ','มะละกอ','มะกรูด','มะเขือพวง','มะเขือเทศ','มะระ','มะรุม','มะตูม','มันแกว1','มันแกว2','มันเทศ','มันฝรั่ง','มันสำปะหลัง',\n",
        "               'บวบ','ใบชะพลู1','ใบชะพลู2','ใบบัวบก','ใบแมงลัก','ใบยอ',\n",
        "               'พริกขี้หนู','พริกสด','พุทรา','เพกา',\n",
        "               'ฝรั่ง',\n",
        "               'ฟัก','ฟักทอง',\n",
        "               'สับปะรด','สะเดา','สะระแหน่',\n",
        "               'หัวหอม1','หัวหอม2']\n",
        "\n",
        "# Audio data source\n",
        "source = {'audio_time':[],\n",
        "          'sampling_rate':[],\n",
        "          'feature_extraction':[],\n",
        "          'label':[],\n",
        "          'description':[]}"
      ],
      "id": "EHnDUT5YejVV",
      "execution_count": 5,
      "outputs": []
    },
    {
      "cell_type": "code",
      "metadata": {
        "id": "_XRqKtGBeW_1"
      },
      "source": [
        "def feature_mfcc(y,sr):\n",
        "    return (python_speech_features.mfcc(signal=y, \n",
        "                                    samplerate=sr, \n",
        "                                    winlen= 512/sr, \n",
        "                                    winstep= 160/sr,\n",
        "                                    numcep= 13,\n",
        "                                    nfilt= 40, \n",
        "                                    nfft= 512,\n",
        "                                    lowfreq= 0,\n",
        "                                    highfreq= None,\n",
        "                                    preemph= 0.97, \n",
        "                                    ceplifter= 0,\n",
        "                                    winfunc= hamming))"
      ],
      "id": "_XRqKtGBeW_1",
      "execution_count": 6,
      "outputs": []
    },
    {
      "cell_type": "code",
      "metadata": {
        "id": "tixApnAUy5tv"
      },
      "source": [
        "for types in fruit_veget:\n",
        "    audio_files = glob('/content/Project_499/Record_audio/' + str(types) + '/*.wav')\n",
        "\n",
        "    for audio in audio_files:\n",
        "        y,sr = librosa.load(audio,duration=5,offset=0)\n",
        "        source['description'].append(str(types))\n",
        "        source['audio_time'].append(y)\n",
        "        source['sampling_rate'].append(sr)\n",
        "        source['feature_extraction'].append(feature_mfcc(y,sr))\n",
        "        source['label'].append(fruit_veget.index(types))"
      ],
      "id": "tixApnAUy5tv",
      "execution_count": 7,
      "outputs": []
    },
    {
      "cell_type": "code",
      "metadata": {
        "colab": {
          "base_uri": "https://localhost:8080/",
          "height": 417
        },
        "id": "8B6cSV4Ckude",
        "outputId": "d77dd21a-ffa2-480a-dec2-8486d5ec4fc2"
      },
      "source": [
        "# tranform dictionary to dataframe \n",
        "df = pd.DataFrame.from_dict(source)\n",
        "df"
      ],
      "id": "8B6cSV4Ckude",
      "execution_count": 8,
      "outputs": [
        {
          "output_type": "execute_result",
          "data": {
            "text/html": [
              "<div>\n",
              "<style scoped>\n",
              "    .dataframe tbody tr th:only-of-type {\n",
              "        vertical-align: middle;\n",
              "    }\n",
              "\n",
              "    .dataframe tbody tr th {\n",
              "        vertical-align: top;\n",
              "    }\n",
              "\n",
              "    .dataframe thead th {\n",
              "        text-align: right;\n",
              "    }\n",
              "</style>\n",
              "<table border=\"1\" class=\"dataframe\">\n",
              "  <thead>\n",
              "    <tr style=\"text-align: right;\">\n",
              "      <th></th>\n",
              "      <th>audio_time</th>\n",
              "      <th>sampling_rate</th>\n",
              "      <th>feature_extraction</th>\n",
              "      <th>label</th>\n",
              "      <th>description</th>\n",
              "    </tr>\n",
              "  </thead>\n",
              "  <tbody>\n",
              "    <tr>\n",
              "      <th>0</th>\n",
              "      <td>[-0.004928589, -0.0049591064, -0.0048980713, -...</td>\n",
              "      <td>22050</td>\n",
              "      <td>[[-12.959169471954294, -4.281586674957866, 6.4...</td>\n",
              "      <td>0</td>\n",
              "      <td>กระชาย</td>\n",
              "    </tr>\n",
              "    <tr>\n",
              "      <th>1</th>\n",
              "      <td>[-7.6293945e-05, -0.00015258789, -0.0001068115...</td>\n",
              "      <td>22050</td>\n",
              "      <td>[[-13.963624272836848, -10.834306371234895, 4....</td>\n",
              "      <td>0</td>\n",
              "      <td>กระชาย</td>\n",
              "    </tr>\n",
              "    <tr>\n",
              "      <th>2</th>\n",
              "      <td>[0.0004119873, 0.00061035156, 0.0005340576, 0....</td>\n",
              "      <td>22050</td>\n",
              "      <td>[[-14.031458292064183, -9.71991818216831, 3.08...</td>\n",
              "      <td>0</td>\n",
              "      <td>กระชาย</td>\n",
              "    </tr>\n",
              "    <tr>\n",
              "      <th>3</th>\n",
              "      <td>[-0.0009765625, -0.001449585, -0.001373291, -0...</td>\n",
              "      <td>22050</td>\n",
              "      <td>[[-13.841251857084886, -10.542052145166839, 1....</td>\n",
              "      <td>0</td>\n",
              "      <td>กระชาย</td>\n",
              "    </tr>\n",
              "    <tr>\n",
              "      <th>4</th>\n",
              "      <td>[1.5258789e-05, -3.0517578e-05, 4.5776367e-05,...</td>\n",
              "      <td>22050</td>\n",
              "      <td>[[-13.895163210723114, -10.534242113550562, 0....</td>\n",
              "      <td>0</td>\n",
              "      <td>กระชาย</td>\n",
              "    </tr>\n",
              "    <tr>\n",
              "      <th>...</th>\n",
              "      <td>...</td>\n",
              "      <td>...</td>\n",
              "      <td>...</td>\n",
              "      <td>...</td>\n",
              "      <td>...</td>\n",
              "    </tr>\n",
              "    <tr>\n",
              "      <th>1115</th>\n",
              "      <td>[-0.0001373291, -9.1552734e-05, -7.6293945e-05...</td>\n",
              "      <td>22050</td>\n",
              "      <td>[[-14.082713493333289, -12.10106746611324, -0....</td>\n",
              "      <td>55</td>\n",
              "      <td>หัวหอม2</td>\n",
              "    </tr>\n",
              "    <tr>\n",
              "      <th>1116</th>\n",
              "      <td>[-0.0001373291, -0.0001373291, -9.1552734e-05,...</td>\n",
              "      <td>22050</td>\n",
              "      <td>[[-13.96050509926212, -9.312697095263102, 1.11...</td>\n",
              "      <td>55</td>\n",
              "      <td>หัวหอม2</td>\n",
              "    </tr>\n",
              "    <tr>\n",
              "      <th>1117</th>\n",
              "      <td>[3.0517578e-05, -6.1035156e-05, 6.1035156e-05,...</td>\n",
              "      <td>22050</td>\n",
              "      <td>[[-14.050800633014068, -10.083539910076112, 2....</td>\n",
              "      <td>55</td>\n",
              "      <td>หัวหอม2</td>\n",
              "    </tr>\n",
              "    <tr>\n",
              "      <th>1118</th>\n",
              "      <td>[0.0, -1.5258789e-05, 3.0517578e-05, -3.051757...</td>\n",
              "      <td>22050</td>\n",
              "      <td>[[-14.18512183869517, -10.797166196952473, 3.3...</td>\n",
              "      <td>55</td>\n",
              "      <td>หัวหอม2</td>\n",
              "    </tr>\n",
              "    <tr>\n",
              "      <th>1119</th>\n",
              "      <td>[-0.00021362305, -0.00019836426, -0.0001678466...</td>\n",
              "      <td>22050</td>\n",
              "      <td>[[-13.600642153773194, -15.096089567076714, -0...</td>\n",
              "      <td>55</td>\n",
              "      <td>หัวหอม2</td>\n",
              "    </tr>\n",
              "  </tbody>\n",
              "</table>\n",
              "<p>1120 rows × 5 columns</p>\n",
              "</div>"
            ],
            "text/plain": [
              "                                             audio_time  ...  description\n",
              "0     [-0.004928589, -0.0049591064, -0.0048980713, -...  ...       กระชาย\n",
              "1     [-7.6293945e-05, -0.00015258789, -0.0001068115...  ...       กระชาย\n",
              "2     [0.0004119873, 0.00061035156, 0.0005340576, 0....  ...       กระชาย\n",
              "3     [-0.0009765625, -0.001449585, -0.001373291, -0...  ...       กระชาย\n",
              "4     [1.5258789e-05, -3.0517578e-05, 4.5776367e-05,...  ...       กระชาย\n",
              "...                                                 ...  ...          ...\n",
              "1115  [-0.0001373291, -9.1552734e-05, -7.6293945e-05...  ...      หัวหอม2\n",
              "1116  [-0.0001373291, -0.0001373291, -9.1552734e-05,...  ...      หัวหอม2\n",
              "1117  [3.0517578e-05, -6.1035156e-05, 6.1035156e-05,...  ...      หัวหอม2\n",
              "1118  [0.0, -1.5258789e-05, 3.0517578e-05, -3.051757...  ...      หัวหอม2\n",
              "1119  [-0.00021362305, -0.00019836426, -0.0001678466...  ...      หัวหอม2\n",
              "\n",
              "[1120 rows x 5 columns]"
            ]
          },
          "metadata": {},
          "execution_count": 8
        }
      ]
    },
    {
      "cell_type": "code",
      "metadata": {
        "id": "T7yzW3hnmuyB"
      },
      "source": [
        "Test = pd.DataFrame(columns=source.keys())\n",
        "\n",
        "# Create test data\n",
        "\n",
        "for description in np.unique(df['description']):\n",
        "    imp_test = df[df['description']==description].sample(5,random_state=1)\n",
        "    Test = pd.concat([Test,imp_test], axis=0)\n",
        "Train = df.drop(Test.index)\n",
        "\n",
        "X_train = np.array(Train['feature_extraction'].to_list())\n",
        "X_test = np.array(Test['feature_extraction'].to_list())\n",
        "y_train = np.array(Train['label'].to_list())\n",
        "y_test = np.array(Test['label'].to_list())"
      ],
      "id": "T7yzW3hnmuyB",
      "execution_count": 9,
      "outputs": []
    },
    {
      "cell_type": "code",
      "metadata": {
        "colab": {
          "base_uri": "https://localhost:8080/"
        },
        "id": "mSV3u9RmEU7h",
        "outputId": "fb680c67-5191-41ce-d439-2ec1720a4007"
      },
      "source": [
        "# Proportion of data\n",
        "y_train.shape, y_test.shape"
      ],
      "id": "mSV3u9RmEU7h",
      "execution_count": 10,
      "outputs": [
        {
          "output_type": "execute_result",
          "data": {
            "text/plain": [
              "((840,), (280,))"
            ]
          },
          "metadata": {},
          "execution_count": 10
        }
      ]
    },
    {
      "cell_type": "markdown",
      "metadata": {
        "id": "r7RGaVViSrwg"
      },
      "source": [
        "## Build cnn model"
      ],
      "id": "r7RGaVViSrwg"
    },
    {
      "cell_type": "code",
      "metadata": {
        "id": "77wMVqve6W8f"
      },
      "source": [
        "def create_cnn_model():\n",
        "    np.random.seed(1)\n",
        "    tf.random.set_seed(1)\n",
        "    model = None\n",
        "    model = keras.Sequential()\n",
        "\n",
        "    model.add(keras.layers.Conv2D(128, 5, input_shape=(X_train.shape[1], X_train.shape[2], 1), activation='relu'))\n",
        "    model.add(keras.layers.Dropout(0.25))\n",
        "    model.add(keras.layers.MaxPool2D())\n",
        "\n",
        "    model.add(keras.layers.Conv2D(64, 5, activation='relu',padding='same'))\n",
        "    model.add(keras.layers.Dropout(0.25))\n",
        "    model.add(keras.layers.MaxPool2D())\n",
        "\n",
        "    model.add(keras.layers.Conv2D(64, 5, activation='relu',padding='same'))\n",
        "    model.add(keras.layers.Dropout(0.25))\n",
        "    model.add(keras.layers.MaxPool2D())\n",
        "\n",
        "    model.add(keras.layers.Flatten())\n",
        "    model.add(keras.layers.Dense(128, activation='relu'))\n",
        "    model.add(keras.layers.Dropout(0.25))\n",
        "\n",
        "    model.add(keras.layers.Dense(64, activation='relu'))\n",
        "    model.add(keras.layers.Dropout(0.25))\n",
        "\n",
        "    model.add(keras.layers.Dense(len(np.unique(df['label'])), activation='softmax'))\n",
        "    \n",
        "    model.compile(optimizer='adam', loss='sparse_categorical_crossentropy', metrics=['accuracy'])\n",
        "\n",
        "    # model.summary()\n",
        "\n",
        "    return model"
      ],
      "id": "77wMVqve6W8f",
      "execution_count": 15,
      "outputs": []
    },
    {
      "cell_type": "markdown",
      "metadata": {
        "id": "eb5Hbazg0m69"
      },
      "source": [
        "## Find best parameter"
      ],
      "id": "eb5Hbazg0m69"
    },
    {
      "cell_type": "code",
      "metadata": {
        "id": "6OfmpZHz2OeW"
      },
      "source": [
        "# find hyperparameter\n",
        "epochs = [20,30,50,100,150]\n",
        "batch_size = [16,32,50,64,80,100]\n",
        "dropout = [0.2,0.25,0.3,0.4]\n",
        "lr = [0.001,0.01,0.1,0.2] \n",
        "activation = ['softmax', 'softplus', 'softsign', 'relu', 'tanh', 'sigmoid', 'hard_sigmoid', 'linear']\n",
        "optimizer = ['SGD', 'RMSprop', 'Adagrad', 'Adadelta', 'Adam', 'Adamax', 'Nadam']"
      ],
      "id": "6OfmpZHz2OeW",
      "execution_count": 66,
      "outputs": []
    },
    {
      "cell_type": "markdown",
      "metadata": {
        "id": "0tU7GkS21aBX"
      },
      "source": [
        "### find epochs and batch_size"
      ],
      "id": "0tU7GkS21aBX"
    },
    {
      "cell_type": "code",
      "metadata": {
        "id": "oXVQO4Hd-N8-"
      },
      "source": [
        "from sklearn.model_selection import GridSearchCV\n",
        "from keras.wrappers.scikit_learn import KerasClassifier\n",
        "\n",
        "model = KerasClassifier(build_fn=create_cnn_model,verbose=1)\n",
        "\n",
        "start = time()\n",
        "param_grid = dict(batch_size=batch_size, epochs=epochs)\n",
        "grid = GridSearchCV(estimator=model, param_grid=param_grid, cv=3).fit(X_train[:,:,:,None],y_train)\n",
        "end = time()\n",
        "\n",
        "print(f'time: {end-start} sec')"
      ],
      "id": "oXVQO4Hd-N8-",
      "execution_count": null,
      "outputs": []
    },
    {
      "cell_type": "code",
      "metadata": {
        "id": "N0d9nvdE48Zi",
        "colab": {
          "base_uri": "https://localhost:8080/"
        },
        "outputId": "b30ee2cc-e1a0-4b80-f4c9-305802b200b1"
      },
      "source": [
        "print(\"Best: %f using %s\" % (grid.best_score_, grid.best_params_))\n",
        "rank = grid.cv_results_['rank_test_score']\n",
        "means = grid.cv_results_['mean_test_score']\n",
        "stds = grid.cv_results_['std_test_score']\n",
        "params = grid.cv_results_['params']  \n",
        "for mean, stdev, param in zip(means, stds, params):\n",
        "    print(\"%f (%f) with:%r\"%(mean, stdev, param))"
      ],
      "id": "N0d9nvdE48Zi",
      "execution_count": 49,
      "outputs": [
        {
          "output_type": "stream",
          "name": "stdout",
          "text": [
            "Best: 0.051190 using {'batch_size': 80, 'epochs': 20}\n",
            "0.029762 (0.004454) with:{'batch_size': 16, 'epochs': 20}\n",
            "0.034524 (0.009374) with:{'batch_size': 16, 'epochs': 30}\n",
            "0.040476 (0.006734) with:{'batch_size': 16, 'epochs': 50}\n",
            "0.034524 (0.004454) with:{'batch_size': 16, 'epochs': 100}\n",
            "0.033333 (0.006070) with:{'batch_size': 16, 'epochs': 150}\n",
            "0.046429 (0.016236) with:{'batch_size': 32, 'epochs': 20}\n",
            "0.035714 (0.007715) with:{'batch_size': 32, 'epochs': 30}\n",
            "0.039286 (0.022016) with:{'batch_size': 32, 'epochs': 50}\n",
            "0.028571 (0.010514) with:{'batch_size': 32, 'epochs': 100}\n",
            "0.046429 (0.022775) with:{'batch_size': 32, 'epochs': 150}\n",
            "0.036905 (0.001684) with:{'batch_size': 50, 'epochs': 20}\n",
            "0.034524 (0.004454) with:{'batch_size': 50, 'epochs': 30}\n",
            "0.038095 (0.008909) with:{'batch_size': 50, 'epochs': 50}\n",
            "0.036905 (0.016060) with:{'batch_size': 50, 'epochs': 100}\n",
            "0.036905 (0.001684) with:{'batch_size': 50, 'epochs': 150}\n",
            "0.034524 (0.001684) with:{'batch_size': 64, 'epochs': 20}\n",
            "0.038095 (0.004454) with:{'batch_size': 64, 'epochs': 30}\n",
            "0.034524 (0.001684) with:{'batch_size': 64, 'epochs': 50}\n",
            "0.032143 (0.013363) with:{'batch_size': 64, 'epochs': 100}\n",
            "0.035714 (0.000000) with:{'batch_size': 64, 'epochs': 150}\n",
            "0.051190 (0.039805) with:{'batch_size': 80, 'epochs': 20}\n",
            "0.038095 (0.008418) with:{'batch_size': 80, 'epochs': 30}\n",
            "0.039286 (0.005832) with:{'batch_size': 80, 'epochs': 50}\n",
            "0.038095 (0.003367) with:{'batch_size': 80, 'epochs': 100}\n",
            "0.045238 (0.008909) with:{'batch_size': 80, 'epochs': 150}\n",
            "0.042857 (0.017738) with:{'batch_size': 100, 'epochs': 20}\n",
            "0.027381 (0.011785) with:{'batch_size': 100, 'epochs': 30}\n",
            "0.029762 (0.004454) with:{'batch_size': 100, 'epochs': 50}\n",
            "0.035714 (0.002916) with:{'batch_size': 100, 'epochs': 100}\n",
            "0.030952 (0.004454) with:{'batch_size': 100, 'epochs': 150}\n"
          ]
        }
      ]
    },
    {
      "cell_type": "code",
      "metadata": {
        "colab": {
          "base_uri": "https://localhost:8080/"
        },
        "id": "Gy3Iucr8SxBZ",
        "outputId": "cf6b8c77-d438-47a5-c44b-176fe4248b38"
      },
      "source": [
        "rank"
      ],
      "id": "Gy3Iucr8SxBZ",
      "execution_count": 47,
      "outputs": [
        {
          "output_type": "execute_result",
          "data": {
            "text/plain": [
              "array([27, 21,  6, 21, 24,  2, 18,  7, 29,  2, 13, 21, 12, 15, 13, 19,  9,\n",
              "       19, 25, 16,  1,  9,  8,  9,  4,  5, 30, 27, 16, 26], dtype=int32)"
            ]
          },
          "metadata": {},
          "execution_count": 47
        }
      ]
    },
    {
      "cell_type": "markdown",
      "metadata": {
        "id": "qaq7Y0qr16nT"
      },
      "source": [
        "### find dropout and learning rate"
      ],
      "id": "qaq7Y0qr16nT"
    },
    {
      "cell_type": "code",
      "metadata": {
        "id": "3ybc4NEu4DkX"
      },
      "source": [
        "from keras import optimizers\n",
        "\n",
        "def create_cnn_model(learn_rate=0.01,dropout_rate=0.0):\n",
        "    np.random.seed(1)\n",
        "    tf.random.set_seed(1)\n",
        "    model = None\n",
        "    model = keras.Sequential()\n",
        "\n",
        "    model.add(keras.layers.Conv2D(128, 5, input_shape=(X_train.shape[1], X_train.shape[2], 1), activation='relu'))\n",
        "    model.add(keras.layers.Dropout(dropout_rate))\n",
        "    model.add(keras.layers.MaxPool2D())\n",
        "\n",
        "    model.add(keras.layers.Conv2D(64, 5, activation='relu',padding='same'))\n",
        "    model.add(keras.layers.Dropout(dropout_rate))\n",
        "    model.add(keras.layers.MaxPool2D())\n",
        "\n",
        "    model.add(keras.layers.Conv2D(64, 5, activation='relu',padding='same'))\n",
        "    model.add(keras.layers.Dropout(dropout_rate))\n",
        "    model.add(keras.layers.MaxPool2D())\n",
        "\n",
        "    model.add(keras.layers.Flatten())\n",
        "    model.add(keras.layers.Dense(128, activation='relu'))\n",
        "    model.add(keras.layers.Dropout(dropout_rate))\n",
        "\n",
        "    model.add(keras.layers.Dense(64, activation='relu'))\n",
        "    model.add(keras.layers.Dropout(dropout_rate))\n",
        "\n",
        "    model.add(keras.layers.Dense(len(np.unique(df['label'])), activation='softmax'))\n",
        "\n",
        "    optimizer = tf.keras.optimizers.Adam(lr=learn_rate)\n",
        "    model.compile(optimizer=optimizer, loss='sparse_categorical_crossentropy', metrics=['accuracy'])\n",
        "\n",
        "    return model"
      ],
      "id": "3ybc4NEu4DkX",
      "execution_count": 58,
      "outputs": []
    },
    {
      "cell_type": "code",
      "metadata": {
        "id": "WvSJeo3EThvi"
      },
      "source": [
        "# Use scikit-learn to grid search the batch size and epochs\n",
        "import numpy\n",
        "from sklearn.model_selection import GridSearchCV\n",
        "from keras.wrappers.scikit_learn import KerasClassifier\n",
        "\n",
        "# create model\n",
        "model = KerasClassifier(build_fn=create_cnn_model,verbose=1,epochs=20,batch_size=80)\n",
        "\n",
        "# define the grid search parameters\n",
        "param_grid = dict(learn_rate=lr, dropout_rate=dropout)\n",
        "grid = GridSearchCV(estimator=model, param_grid=param_grid, cv=5).fit(X_train[:,:,:,None],y_train)"
      ],
      "id": "WvSJeo3EThvi",
      "execution_count": null,
      "outputs": []
    },
    {
      "cell_type": "code",
      "metadata": {
        "id": "viRlsm4bV-lE",
        "colab": {
          "base_uri": "https://localhost:8080/"
        },
        "outputId": "091c1d31-dae3-4880-c380-1bdc5ee13443"
      },
      "source": [
        "print(\"Best: %f using %s\" % (grid.best_score_, grid.best_params_))\n",
        "means = grid.cv_results_['mean_test_score']\n",
        "stds = grid.cv_results_['std_test_score']\n",
        "params = grid.cv_results_['params']\n",
        "for mean, stdev, param in zip(means, stds, params):\n",
        "    print(\"%f (%f) with: %r\" % (mean, stdev, param))"
      ],
      "id": "viRlsm4bV-lE",
      "execution_count": 60,
      "outputs": [
        {
          "output_type": "stream",
          "name": "stdout",
          "text": [
            "Best: 0.075000 using {'dropout_rate': 0.25, 'learn_rate': 0.001}\n",
            "0.067857 (0.045891) with: {'dropout_rate': 0.2, 'learn_rate': 0.001}\n",
            "0.030952 (0.027510) with: {'dropout_rate': 0.2, 'learn_rate': 0.01}\n",
            "0.000000 (0.000000) with: {'dropout_rate': 0.2, 'learn_rate': 0.1}\n",
            "0.000000 (0.000000) with: {'dropout_rate': 0.2, 'learn_rate': 0.2}\n",
            "0.000000 (0.000000) with: {'dropout_rate': 0.2, 'learn_rate': 0.3}\n",
            "0.075000 (0.043350) with: {'dropout_rate': 0.25, 'learn_rate': 0.001}\n",
            "0.007143 (0.008748) with: {'dropout_rate': 0.25, 'learn_rate': 0.01}\n",
            "0.000000 (0.000000) with: {'dropout_rate': 0.25, 'learn_rate': 0.1}\n",
            "0.000000 (0.000000) with: {'dropout_rate': 0.25, 'learn_rate': 0.2}\n",
            "0.000000 (0.000000) with: {'dropout_rate': 0.25, 'learn_rate': 0.3}\n",
            "0.073810 (0.050311) with: {'dropout_rate': 0.3, 'learn_rate': 0.001}\n",
            "0.002381 (0.004762) with: {'dropout_rate': 0.3, 'learn_rate': 0.01}\n",
            "0.000000 (0.000000) with: {'dropout_rate': 0.3, 'learn_rate': 0.1}\n",
            "0.000000 (0.000000) with: {'dropout_rate': 0.3, 'learn_rate': 0.2}\n",
            "0.000000 (0.000000) with: {'dropout_rate': 0.3, 'learn_rate': 0.3}\n",
            "0.044048 (0.027562) with: {'dropout_rate': 0.4, 'learn_rate': 0.001}\n",
            "0.000000 (0.000000) with: {'dropout_rate': 0.4, 'learn_rate': 0.01}\n",
            "0.000000 (0.000000) with: {'dropout_rate': 0.4, 'learn_rate': 0.1}\n",
            "0.000000 (0.000000) with: {'dropout_rate': 0.4, 'learn_rate': 0.2}\n",
            "0.000000 (0.000000) with: {'dropout_rate': 0.4, 'learn_rate': 0.3}\n",
            "0.010714 (0.014286) with: {'dropout_rate': 0.5, 'learn_rate': 0.001}\n",
            "0.000000 (0.000000) with: {'dropout_rate': 0.5, 'learn_rate': 0.01}\n",
            "0.000000 (0.000000) with: {'dropout_rate': 0.5, 'learn_rate': 0.1}\n",
            "0.000000 (0.000000) with: {'dropout_rate': 0.5, 'learn_rate': 0.2}\n",
            "0.000000 (0.000000) with: {'dropout_rate': 0.5, 'learn_rate': 0.3}\n"
          ]
        }
      ]
    },
    {
      "cell_type": "code",
      "metadata": {
        "colab": {
          "base_uri": "https://localhost:8080/"
        },
        "id": "4MxASGHEW7xZ",
        "outputId": "81507fdf-71f7-4c2e-8cfb-97304923fb14"
      },
      "source": [
        "rank = grid.cv_results_['rank_test_score']\n",
        "rank"
      ],
      "id": "4MxASGHEW7xZ",
      "execution_count": 62,
      "outputs": [
        {
          "output_type": "execute_result",
          "data": {
            "text/plain": [
              "array([3, 5, 9, 9, 9, 1, 7, 9, 9, 9, 2, 8, 9, 9, 9, 4, 9, 9, 9, 9, 6, 9,\n",
              "       9, 9, 9], dtype=int32)"
            ]
          },
          "metadata": {},
          "execution_count": 62
        }
      ]
    },
    {
      "cell_type": "markdown",
      "metadata": {
        "id": "CVOY7u6d9UHu"
      },
      "source": [
        "### find activation and optimizer\n"
      ],
      "id": "CVOY7u6d9UHu"
    },
    {
      "cell_type": "code",
      "metadata": {
        "id": "GtWrJ6329kjO"
      },
      "source": [
        "def create_cnn_model(learn_rate=0.001,dropout_rate=0.25,activation='relu',optimizer='adam'):\n",
        "    np.random.seed(1)\n",
        "    tf.random.set_seed(1)\n",
        "    model = None\n",
        "    model = keras.Sequential()\n",
        "    \n",
        "    model.add(keras.layers.Conv2D(128, 5, input_shape=(X_train.shape[1], X_train.shape[2], 1), activation=activation))\n",
        "    model.add(keras.layers.Dropout(dropout_rate))\n",
        "    model.add(keras.layers.MaxPool2D())\n",
        "\n",
        "    model.add(keras.layers.Conv2D(64, 5, activation=activation,padding='same'))\n",
        "    model.add(keras.layers.Dropout(dropout_rate))\n",
        "    model.add(keras.layers.MaxPool2D())\n",
        "\n",
        "    model.add(keras.layers.Conv2D(64, 5, activation=activation,padding='same'))\n",
        "    model.add(keras.layers.Dropout(dropout_rate))\n",
        "    model.add(keras.layers.MaxPool2D())\n",
        "\n",
        "    model.add(keras.layers.Flatten())\n",
        "    model.add(keras.layers.Dense(128, activation=activation))\n",
        "    model.add(keras.layers.Dropout(dropout_rate))\n",
        "\n",
        "    model.add(keras.layers.Dense(64, activation=activation))\n",
        "    model.add(keras.layers.Dropout(dropout_rate))\n",
        "\n",
        "    model.add(keras.layers.Dense(len(np.unique(df['label'])), activation='softmax'))\n",
        "\n",
        "    model.compile(optimizer=optimizer, loss='sparse_categorical_crossentropy', metrics=['accuracy'])\n",
        "\n",
        "    return model"
      ],
      "id": "GtWrJ6329kjO",
      "execution_count": 74,
      "outputs": []
    },
    {
      "cell_type": "code",
      "metadata": {
        "id": "UHgdGyYK9seO"
      },
      "source": [
        "# Use scikit-learn to grid search the batch size and epochs\n",
        "import numpy\n",
        "from sklearn.model_selection import GridSearchCV\n",
        "from keras.wrappers.scikit_learn import KerasClassifier\n",
        "\n",
        "# create model\n",
        "model = KerasClassifier(build_fn=create_cnn_model,verbose=1,epochs=20,batch_size=80)\n",
        "\n",
        "# define the grid search parameters\n",
        "param_grid = dict(activation=activation, optimizer=optimizer)\n",
        "grid = GridSearchCV(estimator=model, param_grid=param_grid, cv=3).fit(X_train[:,:,:,None],y_train)"
      ],
      "id": "UHgdGyYK9seO",
      "execution_count": null,
      "outputs": []
    },
    {
      "cell_type": "code",
      "metadata": {
        "colab": {
          "base_uri": "https://localhost:8080/"
        },
        "id": "dX8vfgxo9wHP",
        "outputId": "a55e1530-6b33-458d-fecf-f25b1444d402"
      },
      "source": [
        "print(\"Best: %f using %s\" % (grid.best_score_, grid.best_params_))\n",
        "means = grid.cv_results_['mean_test_score']\n",
        "stds = grid.cv_results_['std_test_score']\n",
        "params = grid.cv_results_['params']\n",
        "for mean, stdev, param in zip(means, stds, params):\n",
        "    print(\"%f (%f) with: %r\" % (mean, stdev, param))"
      ],
      "id": "dX8vfgxo9wHP",
      "execution_count": 76,
      "outputs": [
        {
          "output_type": "stream",
          "name": "stdout",
          "text": [
            "Best: 0.042857 using {'activation': 'linear', 'optimizer': 'Nadam'}\n",
            "0.000000 (0.000000) with: {'activation': 'softmax', 'optimizer': 'SGD'}\n",
            "0.000000 (0.000000) with: {'activation': 'softmax', 'optimizer': 'RMSprop'}\n",
            "0.000000 (0.000000) with: {'activation': 'softmax', 'optimizer': 'Adagrad'}\n",
            "0.000000 (0.000000) with: {'activation': 'softmax', 'optimizer': 'Adadelta'}\n",
            "0.000000 (0.000000) with: {'activation': 'softmax', 'optimizer': 'Adam'}\n",
            "0.000000 (0.000000) with: {'activation': 'softmax', 'optimizer': 'Adamax'}\n",
            "0.000000 (0.000000) with: {'activation': 'softmax', 'optimizer': 'Nadam'}\n",
            "0.000000 (0.000000) with: {'activation': 'softplus', 'optimizer': 'SGD'}\n",
            "0.000000 (0.000000) with: {'activation': 'softplus', 'optimizer': 'RMSprop'}\n",
            "0.000000 (0.000000) with: {'activation': 'softplus', 'optimizer': 'Adagrad'}\n",
            "0.000000 (0.000000) with: {'activation': 'softplus', 'optimizer': 'Adadelta'}\n",
            "0.000000 (0.000000) with: {'activation': 'softplus', 'optimizer': 'Adam'}\n",
            "0.000000 (0.000000) with: {'activation': 'softplus', 'optimizer': 'Adamax'}\n",
            "0.007143 (0.007715) with: {'activation': 'softplus', 'optimizer': 'Nadam'}\n",
            "0.000000 (0.000000) with: {'activation': 'softsign', 'optimizer': 'SGD'}\n",
            "0.005952 (0.006070) with: {'activation': 'softsign', 'optimizer': 'RMSprop'}\n",
            "0.000000 (0.000000) with: {'activation': 'softsign', 'optimizer': 'Adagrad'}\n",
            "0.000000 (0.000000) with: {'activation': 'softsign', 'optimizer': 'Adadelta'}\n",
            "0.013095 (0.010241) with: {'activation': 'softsign', 'optimizer': 'Adam'}\n",
            "0.005952 (0.008418) with: {'activation': 'softsign', 'optimizer': 'Adamax'}\n",
            "0.017857 (0.012711) with: {'activation': 'softsign', 'optimizer': 'Nadam'}\n",
            "0.007143 (0.010102) with: {'activation': 'relu', 'optimizer': 'SGD'}\n",
            "0.025000 (0.005832) with: {'activation': 'relu', 'optimizer': 'RMSprop'}\n",
            "0.000000 (0.000000) with: {'activation': 'relu', 'optimizer': 'Adagrad'}\n",
            "0.001190 (0.001684) with: {'activation': 'relu', 'optimizer': 'Adadelta'}\n",
            "0.040476 (0.009374) with: {'activation': 'relu', 'optimizer': 'Adam'}\n",
            "0.022619 (0.029499) with: {'activation': 'relu', 'optimizer': 'Adamax'}\n",
            "0.028571 (0.008748) with: {'activation': 'relu', 'optimizer': 'Nadam'}\n",
            "0.004762 (0.006734) with: {'activation': 'tanh', 'optimizer': 'SGD'}\n",
            "0.000000 (0.000000) with: {'activation': 'tanh', 'optimizer': 'RMSprop'}\n",
            "0.000000 (0.000000) with: {'activation': 'tanh', 'optimizer': 'Adagrad'}\n",
            "0.000000 (0.000000) with: {'activation': 'tanh', 'optimizer': 'Adadelta'}\n",
            "0.000000 (0.000000) with: {'activation': 'tanh', 'optimizer': 'Adam'}\n",
            "0.004762 (0.006734) with: {'activation': 'tanh', 'optimizer': 'Adamax'}\n",
            "0.026190 (0.011040) with: {'activation': 'tanh', 'optimizer': 'Nadam'}\n",
            "0.000000 (0.000000) with: {'activation': 'sigmoid', 'optimizer': 'SGD'}\n",
            "0.000000 (0.000000) with: {'activation': 'sigmoid', 'optimizer': 'RMSprop'}\n",
            "0.000000 (0.000000) with: {'activation': 'sigmoid', 'optimizer': 'Adagrad'}\n",
            "0.000000 (0.000000) with: {'activation': 'sigmoid', 'optimizer': 'Adadelta'}\n",
            "0.000000 (0.000000) with: {'activation': 'sigmoid', 'optimizer': 'Adam'}\n",
            "0.000000 (0.000000) with: {'activation': 'sigmoid', 'optimizer': 'Adamax'}\n",
            "0.000000 (0.000000) with: {'activation': 'sigmoid', 'optimizer': 'Nadam'}\n",
            "0.000000 (0.000000) with: {'activation': 'hard_sigmoid', 'optimizer': 'SGD'}\n",
            "0.000000 (0.000000) with: {'activation': 'hard_sigmoid', 'optimizer': 'RMSprop'}\n",
            "0.000000 (0.000000) with: {'activation': 'hard_sigmoid', 'optimizer': 'Adagrad'}\n",
            "0.000000 (0.000000) with: {'activation': 'hard_sigmoid', 'optimizer': 'Adadelta'}\n",
            "0.000000 (0.000000) with: {'activation': 'hard_sigmoid', 'optimizer': 'Adam'}\n",
            "0.000000 (0.000000) with: {'activation': 'hard_sigmoid', 'optimizer': 'Adamax'}\n",
            "0.000000 (0.000000) with: {'activation': 'hard_sigmoid', 'optimizer': 'Nadam'}\n",
            "0.036905 (0.007339) with: {'activation': 'linear', 'optimizer': 'SGD'}\n",
            "0.039286 (0.018211) with: {'activation': 'linear', 'optimizer': 'RMSprop'}\n",
            "0.017857 (0.022775) with: {'activation': 'linear', 'optimizer': 'Adagrad'}\n",
            "0.000000 (0.000000) with: {'activation': 'linear', 'optimizer': 'Adadelta'}\n",
            "0.030952 (0.004454) with: {'activation': 'linear', 'optimizer': 'Adam'}\n",
            "0.030952 (0.012141) with: {'activation': 'linear', 'optimizer': 'Adamax'}\n",
            "0.042857 (0.010102) with: {'activation': 'linear', 'optimizer': 'Nadam'}\n"
          ]
        }
      ]
    },
    {
      "cell_type": "code",
      "metadata": {
        "colab": {
          "base_uri": "https://localhost:8080/"
        },
        "id": "4WbKBQJxb8ul",
        "outputId": "b90e752d-c616-4d76-b31b-efca3b27809b"
      },
      "source": [
        "rank = grid.cv_results_['rank_test_score']\n",
        "rank"
      ],
      "id": "4WbKBQJxb8ul",
      "execution_count": 77,
      "outputs": [
        {
          "output_type": "execute_result",
          "data": {
            "text/plain": [
              "array([21, 21, 21, 21, 21, 21, 21, 21, 21, 21, 21, 21, 21, 14, 21, 17, 21,\n",
              "       21, 13, 16, 12, 15,  9, 21, 20,  2, 10,  7, 18, 21, 21, 21, 21, 18,\n",
              "        8, 21, 21, 21, 21, 21, 21, 21, 21, 21, 21, 21, 21, 21, 21,  4,  3,\n",
              "       11, 21,  5,  6,  1], dtype=int32)"
            ]
          },
          "metadata": {},
          "execution_count": 77
        }
      ]
    },
    {
      "cell_type": "markdown",
      "metadata": {
        "id": "N_EPqJGnS7ng"
      },
      "source": [
        "### Train model"
      ],
      "id": "N_EPqJGnS7ng"
    },
    {
      "cell_type": "code",
      "metadata": {
        "id": "5jY39pCDhbjW"
      },
      "source": [
        "def create_cnn_model():\n",
        "    np.random.seed(1)\n",
        "    tf.random.set_seed(1)\n",
        "    model = None\n",
        "    model = keras.Sequential()\n",
        "\n",
        "    model.add(keras.layers.Conv2D(128, 5, input_shape=(X_train.shape[1], X_train.shape[2], 1), activation='linear'))\n",
        "    model.add(keras.layers.Dropout(0.25))\n",
        "    model.add(keras.layers.MaxPool2D())\n",
        "\n",
        "    model.add(keras.layers.Conv2D(64, 5, activation='linear',padding='same'))\n",
        "    model.add(keras.layers.Dropout(0.25))\n",
        "    model.add(keras.layers.MaxPool2D())\n",
        "\n",
        "    model.add(keras.layers.Conv2D(64, 5, activation='linear',padding='same'))\n",
        "    model.add(keras.layers.Dropout(0.25))\n",
        "    model.add(keras.layers.MaxPool2D())\n",
        "\n",
        "    model.add(keras.layers.Flatten())\n",
        "    model.add(keras.layers.Dense(128, activation='linear'))\n",
        "    model.add(keras.layers.Dropout(0.25))\n",
        "\n",
        "    model.add(keras.layers.Dense(64, activation='linear'))\n",
        "    model.add(keras.layers.Dropout(0.25))\n",
        "\n",
        "    model.add(keras.layers.Dense(len(np.unique(df['label'])), activation='softmax'))\n",
        "    \n",
        "    model.compile(optimizer='Nadam', loss='sparse_categorical_crossentropy', metrics=['accuracy'])\n",
        "\n",
        "    model.summary()\n",
        "\n",
        "    return model"
      ],
      "id": "5jY39pCDhbjW",
      "execution_count": 95,
      "outputs": []
    },
    {
      "cell_type": "code",
      "metadata": {
        "id": "ngmfDNcnGMC7",
        "colab": {
          "base_uri": "https://localhost:8080/"
        },
        "outputId": "34fd1666-5c87-48c7-d24d-9cf9387864a1"
      },
      "source": [
        "# Train model\n",
        "start = time()\n",
        "\n",
        "model_cnn = create_cnn_model()\n",
        "history = model_cnn.fit(X_train[:,:,:,None], y_train, epochs=20, validation_data=(X_test[:,:,:,None],y_test),batch_size=80,verbose=1)\n",
        "\n",
        "end = time()\n",
        "print(f'time: {end-start} sec')"
      ],
      "id": "ngmfDNcnGMC7",
      "execution_count": 96,
      "outputs": [
        {
          "output_type": "stream",
          "name": "stdout",
          "text": [
            "Model: \"sequential_1132\"\n",
            "_________________________________________________________________\n",
            "Layer (type)                 Output Shape              Param #   \n",
            "=================================================================\n",
            "conv2d_3396 (Conv2D)         (None, 683, 9, 128)       3328      \n",
            "_________________________________________________________________\n",
            "dropout_5660 (Dropout)       (None, 683, 9, 128)       0         \n",
            "_________________________________________________________________\n",
            "max_pooling2d_3396 (MaxPooli (None, 341, 4, 128)       0         \n",
            "_________________________________________________________________\n",
            "conv2d_3397 (Conv2D)         (None, 341, 4, 64)        204864    \n",
            "_________________________________________________________________\n",
            "dropout_5661 (Dropout)       (None, 341, 4, 64)        0         \n",
            "_________________________________________________________________\n",
            "max_pooling2d_3397 (MaxPooli (None, 170, 2, 64)        0         \n",
            "_________________________________________________________________\n",
            "conv2d_3398 (Conv2D)         (None, 170, 2, 64)        102464    \n",
            "_________________________________________________________________\n",
            "dropout_5662 (Dropout)       (None, 170, 2, 64)        0         \n",
            "_________________________________________________________________\n",
            "max_pooling2d_3398 (MaxPooli (None, 85, 1, 64)         0         \n",
            "_________________________________________________________________\n",
            "flatten_1132 (Flatten)       (None, 5440)              0         \n",
            "_________________________________________________________________\n",
            "dense_3396 (Dense)           (None, 128)               696448    \n",
            "_________________________________________________________________\n",
            "dropout_5663 (Dropout)       (None, 128)               0         \n",
            "_________________________________________________________________\n",
            "dense_3397 (Dense)           (None, 64)                8256      \n",
            "_________________________________________________________________\n",
            "dropout_5664 (Dropout)       (None, 64)                0         \n",
            "_________________________________________________________________\n",
            "dense_3398 (Dense)           (None, 56)                3640      \n",
            "=================================================================\n",
            "Total params: 1,019,000\n",
            "Trainable params: 1,019,000\n",
            "Non-trainable params: 0\n",
            "_________________________________________________________________\n",
            "Epoch 1/20\n",
            "11/11 [==============================] - 2s 64ms/step - loss: 4.8963 - accuracy: 0.0238 - val_loss: 3.7593 - val_accuracy: 0.1536\n",
            "Epoch 2/20\n",
            "11/11 [==============================] - 1s 49ms/step - loss: 3.6895 - accuracy: 0.1048 - val_loss: 2.9507 - val_accuracy: 0.2679\n",
            "Epoch 3/20\n",
            "11/11 [==============================] - 1s 49ms/step - loss: 2.6740 - accuracy: 0.2952 - val_loss: 1.8817 - val_accuracy: 0.5464\n",
            "Epoch 4/20\n",
            "11/11 [==============================] - 1s 49ms/step - loss: 1.6311 - accuracy: 0.5381 - val_loss: 1.0343 - val_accuracy: 0.7286\n",
            "Epoch 5/20\n",
            "11/11 [==============================] - 1s 49ms/step - loss: 1.2252 - accuracy: 0.6583 - val_loss: 0.8340 - val_accuracy: 0.7607\n",
            "Epoch 6/20\n",
            "11/11 [==============================] - 1s 49ms/step - loss: 0.6801 - accuracy: 0.7929 - val_loss: 0.6190 - val_accuracy: 0.8464\n",
            "Epoch 7/20\n",
            "11/11 [==============================] - 1s 49ms/step - loss: 0.4311 - accuracy: 0.8679 - val_loss: 0.4538 - val_accuracy: 0.8821\n",
            "Epoch 8/20\n",
            "11/11 [==============================] - 1s 50ms/step - loss: 0.2895 - accuracy: 0.9119 - val_loss: 0.5246 - val_accuracy: 0.8750\n",
            "Epoch 9/20\n",
            "11/11 [==============================] - 1s 49ms/step - loss: 0.3370 - accuracy: 0.8976 - val_loss: 0.3239 - val_accuracy: 0.9179\n",
            "Epoch 10/20\n",
            "11/11 [==============================] - 1s 49ms/step - loss: 0.2294 - accuracy: 0.9333 - val_loss: 0.3374 - val_accuracy: 0.9143\n",
            "Epoch 11/20\n",
            "11/11 [==============================] - 1s 49ms/step - loss: 0.2191 - accuracy: 0.9238 - val_loss: 0.3827 - val_accuracy: 0.9143\n",
            "Epoch 12/20\n",
            "11/11 [==============================] - 1s 49ms/step - loss: 0.1725 - accuracy: 0.9524 - val_loss: 0.3326 - val_accuracy: 0.9321\n",
            "Epoch 13/20\n",
            "11/11 [==============================] - 1s 49ms/step - loss: 0.1775 - accuracy: 0.9500 - val_loss: 0.3763 - val_accuracy: 0.9214\n",
            "Epoch 14/20\n",
            "11/11 [==============================] - 1s 49ms/step - loss: 0.1533 - accuracy: 0.9500 - val_loss: 0.4368 - val_accuracy: 0.9143\n",
            "Epoch 15/20\n",
            "11/11 [==============================] - 1s 49ms/step - loss: 0.0811 - accuracy: 0.9798 - val_loss: 0.3579 - val_accuracy: 0.9429\n",
            "Epoch 16/20\n",
            "11/11 [==============================] - 1s 49ms/step - loss: 0.1038 - accuracy: 0.9679 - val_loss: 0.6218 - val_accuracy: 0.8821\n",
            "Epoch 17/20\n",
            "11/11 [==============================] - 1s 49ms/step - loss: 0.1779 - accuracy: 0.9440 - val_loss: 0.4049 - val_accuracy: 0.9214\n",
            "Epoch 18/20\n",
            "11/11 [==============================] - 1s 49ms/step - loss: 0.0884 - accuracy: 0.9667 - val_loss: 0.4918 - val_accuracy: 0.9107\n",
            "Epoch 19/20\n",
            "11/11 [==============================] - 1s 49ms/step - loss: 0.0861 - accuracy: 0.9750 - val_loss: 0.4450 - val_accuracy: 0.9286\n",
            "Epoch 20/20\n",
            "11/11 [==============================] - 1s 49ms/step - loss: 0.0975 - accuracy: 0.9702 - val_loss: 0.3807 - val_accuracy: 0.9357\n",
            "time: 12.133676528930664 sec\n"
          ]
        }
      ]
    },
    {
      "cell_type": "code",
      "metadata": {
        "colab": {
          "base_uri": "https://localhost:8080/",
          "height": 573
        },
        "id": "G7L6Z8WVolYd",
        "outputId": "1ca1f7c4-47e7-4ea4-fc7d-ae59e358764d"
      },
      "source": [
        "# Learning curve\n",
        "# plot the accuracy and loss plots between training and validation data\n",
        "# verify overfitting or underfit \n",
        "acc = history.history['accuracy']\n",
        "val_acc = history.history['val_accuracy']\n",
        "loss = history.history['loss']\n",
        "val_loss = history.history['val_loss']\n",
        "x = range(1,len(acc)+1)\n",
        "\n",
        "plt.plot(x,acc,'b',label='Training accuracy')\n",
        "plt.plot(x,val_acc,'r',label='Validation accuracy')\n",
        "plt.title('Training and validation accuracy')\n",
        "plt.xlabel('epochs')\n",
        "plt.ylabel('accuracy')\n",
        "plt.legend()\n",
        "plt.figure()\n",
        "\n",
        "plt.plot(x,loss,'b',label='Training loss')\n",
        "plt.plot(x,val_loss,'r',label='Validation loss')\n",
        "plt.title('Training and validation loss')\n",
        "plt.xlabel('epochs')\n",
        "plt.ylabel('loss')\n",
        "plt.legend()\n",
        "plt.show()"
      ],
      "id": "G7L6Z8WVolYd",
      "execution_count": 97,
      "outputs": [
        {
          "output_type": "display_data",
          "data": {
            "image/png": "[encoded data removed]",
            "text/plain": [
              "<Figure size 432x288 with 1 Axes>"
            ]
          },
          "metadata": {
            "needs_background": "light"
          }
        },
        {
          "output_type": "display_data",
          "data": {
            "image/png": "[encoded data removed]",
            "text/plain": [
              "<Figure size 432x288 with 1 Axes>"
            ]
          },
          "metadata": {
            "needs_background": "light"
          }
        }
      ]
    },
    {
      "cell_type": "code",
      "metadata": {
        "colab": {
          "base_uri": "https://localhost:8080/"
        },
        "id": "kzMXuoQ2oi2J",
        "outputId": "6b60df64-57d0-44f6-b7da-cbdc9fe07aca"
      },
      "source": [
        "print(f'Test Accuracy: {model_cnn.evaluate(X_test[:,:,:,None],y_test,verbose=0)[1]}')"
      ],
      "id": "kzMXuoQ2oi2J",
      "execution_count": 98,
      "outputs": [
        {
          "output_type": "stream",
          "name": "stdout",
          "text": [
            "Test Accuracy: 0.9357143044471741\n"
          ]
        }
      ]
    },
    {
      "cell_type": "code",
      "metadata": {
        "colab": {
          "base_uri": "https://localhost:8080/"
        },
        "id": "-j3JfRj3otc4",
        "outputId": "c090af98-c52d-44fa-d0f0-54cfbeda3baf"
      },
      "source": [
        "# classification report\n",
        "predicted_classes = np.argmax(np.round(model_cnn.predict(X_test[:,:,:,None])),axis=1)\n",
        "correct = np.where(predicted_classes==y_test)[0]\n",
        "target_names = [f\"Class {label}\" for label in range(len(np.unique(df['label'])))]\n",
        "\n",
        "print(f\"From {len(y_test)} labels're founding {len(correct)} correct labels.\")\n",
        "print(f'Accuracy: {len(correct)/len(y_test)}')\n",
        "print('')\n",
        "print(classification_report(y_test, predicted_classes, target_names=target_names))"
      ],
      "id": "-j3JfRj3otc4",
      "execution_count": 99,
      "outputs": [
        {
          "output_type": "stream",
          "name": "stdout",
          "text": [
            "From 280 labels're founding 260 correct labels.\n",
            "Accuracy: 0.9285714285714286\n",
            "\n",
            "              precision    recall  f1-score   support\n",
            "\n",
            "     Class 0       0.56      1.00      0.71         5\n",
            "     Class 1       1.00      1.00      1.00         5\n",
            "     Class 2       1.00      1.00      1.00         5\n",
            "     Class 3       1.00      0.60      0.75         5\n",
            "     Class 4       1.00      1.00      1.00         5\n",
            "     Class 5       0.83      1.00      0.91         5\n",
            "     Class 6       1.00      1.00      1.00         5\n",
            "     Class 7       1.00      0.80      0.89         5\n",
            "     Class 8       0.83      1.00      0.91         5\n",
            "     Class 9       1.00      1.00      1.00         5\n",
            "    Class 10       1.00      1.00      1.00         5\n",
            "    Class 11       1.00      1.00      1.00         5\n",
            "    Class 12       1.00      1.00      1.00         5\n",
            "    Class 13       1.00      1.00      1.00         5\n",
            "    Class 14       0.83      1.00      0.91         5\n",
            "    Class 15       1.00      1.00      1.00         5\n",
            "    Class 16       1.00      1.00      1.00         5\n",
            "    Class 17       1.00      1.00      1.00         5\n",
            "    Class 18       1.00      0.80      0.89         5\n",
            "    Class 19       0.62      1.00      0.77         5\n",
            "    Class 20       1.00      0.60      0.75         5\n",
            "    Class 21       1.00      1.00      1.00         5\n",
            "    Class 22       0.83      1.00      0.91         5\n",
            "    Class 23       1.00      1.00      1.00         5\n",
            "    Class 24       1.00      1.00      1.00         5\n",
            "    Class 25       1.00      0.60      0.75         5\n",
            "    Class 26       0.83      1.00      0.91         5\n",
            "    Class 27       1.00      1.00      1.00         5\n",
            "    Class 28       1.00      1.00      1.00         5\n",
            "    Class 29       0.83      1.00      0.91         5\n",
            "    Class 30       0.80      0.80      0.80         5\n",
            "    Class 31       1.00      1.00      1.00         5\n",
            "    Class 32       1.00      0.80      0.89         5\n",
            "    Class 33       1.00      1.00      1.00         5\n",
            "    Class 34       0.80      0.80      0.80         5\n",
            "    Class 35       1.00      1.00      1.00         5\n",
            "    Class 36       1.00      1.00      1.00         5\n",
            "    Class 37       1.00      1.00      1.00         5\n",
            "    Class 38       0.75      0.60      0.67         5\n",
            "    Class 39       1.00      1.00      1.00         5\n",
            "    Class 40       1.00      0.80      0.89         5\n",
            "    Class 41       1.00      1.00      1.00         5\n",
            "    Class 42       0.83      1.00      0.91         5\n",
            "    Class 43       1.00      1.00      1.00         5\n",
            "    Class 44       1.00      1.00      1.00         5\n",
            "    Class 45       0.71      1.00      0.83         5\n",
            "    Class 46       1.00      0.80      0.89         5\n",
            "    Class 47       1.00      1.00      1.00         5\n",
            "    Class 48       0.80      0.80      0.80         5\n",
            "    Class 49       1.00      1.00      1.00         5\n",
            "    Class 50       1.00      1.00      1.00         5\n",
            "    Class 51       1.00      0.80      0.89         5\n",
            "    Class 52       1.00      0.60      0.75         5\n",
            "    Class 53       1.00      1.00      1.00         5\n",
            "    Class 54       1.00      0.80      0.89         5\n",
            "    Class 55       1.00      1.00      1.00         5\n",
            "\n",
            "    accuracy                           0.93       280\n",
            "   macro avg       0.94      0.93      0.93       280\n",
            "weighted avg       0.94      0.93      0.93       280\n",
            "\n"
          ]
        }
      ]
    },
    {
      "cell_type": "markdown",
      "metadata": {
        "id": "vW_w7K9dppAl"
      },
      "source": [
        "## Train model"
      ],
      "id": "vW_w7K9dppAl"
    },
    {
      "cell_type": "code",
      "metadata": {
        "id": "6INsun3DpsQV"
      },
      "source": [
        "def create_cnn_model():\n",
        "    np.random.seed(1)\n",
        "    tf.random.set_seed(1)\n",
        "    model = None\n",
        "    model = keras.Sequential()\n",
        "\n",
        "    model.add(keras.layers.Conv2D(128, 5, input_shape=(X_train.shape[1], X_train.shape[2], 1), activation='relu'))\n",
        "    model.add(keras.layers.Dropout(0.25))\n",
        "    model.add(keras.layers.MaxPool2D())\n",
        "\n",
        "    model.add(keras.layers.Conv2D(64, 5, activation='relu',padding='same'))\n",
        "    model.add(keras.layers.Dropout(0.25))\n",
        "    model.add(keras.layers.MaxPool2D())\n",
        "\n",
        "    model.add(keras.layers.Conv2D(64, 5, activation='relu',padding='same'))\n",
        "    model.add(keras.layers.Dropout(0.25))\n",
        "    model.add(keras.layers.MaxPool2D())\n",
        "\n",
        "    model.add(keras.layers.Flatten())\n",
        "    model.add(keras.layers.Dense(128, activation='relu'))\n",
        "    model.add(keras.layers.Dropout(0.25))\n",
        "\n",
        "    model.add(keras.layers.Dense(64, activation='relu'))\n",
        "    model.add(keras.layers.Dropout(0.25))\n",
        "\n",
        "    model.add(keras.layers.Dense(len(np.unique(df['label'])), activation='softmax'))\n",
        "    \n",
        "    model.compile(optimizer='Adam', loss='sparse_categorical_crossentropy', metrics=['accuracy'])\n",
        "\n",
        "    model.summary()\n",
        "\n",
        "    return model"
      ],
      "id": "6INsun3DpsQV",
      "execution_count": 100,
      "outputs": []
    },
    {
      "cell_type": "code",
      "metadata": {
        "colab": {
          "base_uri": "https://localhost:8080/"
        },
        "id": "BqH-NOJJp8Nn",
        "outputId": "23cbefe7-00f5-454a-9b90-0b5b9c5f4ac3"
      },
      "source": [
        "# Train model\n",
        "start = time()\n",
        "\n",
        "model_cnn = create_cnn_model()\n",
        "history = model_cnn.fit(X_train[:,:,:,None], y_train, epochs=100, validation_data=(X_test[:,:,:,None],y_test),batch_size=80,verbose=0)\n",
        "\n",
        "end = time()\n",
        "print(f'time: {end-start} sec')"
      ],
      "id": "BqH-NOJJp8Nn",
      "execution_count": 102,
      "outputs": [
        {
          "output_type": "stream",
          "name": "stdout",
          "text": [
            "Model: \"sequential_1134\"\n",
            "_________________________________________________________________\n",
            "Layer (type)                 Output Shape              Param #   \n",
            "=================================================================\n",
            "conv2d_3402 (Conv2D)         (None, 683, 9, 128)       3328      \n",
            "_________________________________________________________________\n",
            "dropout_5670 (Dropout)       (None, 683, 9, 128)       0         \n",
            "_________________________________________________________________\n",
            "max_pooling2d_3402 (MaxPooli (None, 341, 4, 128)       0         \n",
            "_________________________________________________________________\n",
            "conv2d_3403 (Conv2D)         (None, 341, 4, 64)        204864    \n",
            "_________________________________________________________________\n",
            "dropout_5671 (Dropout)       (None, 341, 4, 64)        0         \n",
            "_________________________________________________________________\n",
            "max_pooling2d_3403 (MaxPooli (None, 170, 2, 64)        0         \n",
            "_________________________________________________________________\n",
            "conv2d_3404 (Conv2D)         (None, 170, 2, 64)        102464    \n",
            "_________________________________________________________________\n",
            "dropout_5672 (Dropout)       (None, 170, 2, 64)        0         \n",
            "_________________________________________________________________\n",
            "max_pooling2d_3404 (MaxPooli (None, 85, 1, 64)         0         \n",
            "_________________________________________________________________\n",
            "flatten_1134 (Flatten)       (None, 5440)              0         \n",
            "_________________________________________________________________\n",
            "dense_3402 (Dense)           (None, 128)               696448    \n",
            "_________________________________________________________________\n",
            "dropout_5673 (Dropout)       (None, 128)               0         \n",
            "_________________________________________________________________\n",
            "dense_3403 (Dense)           (None, 64)                8256      \n",
            "_________________________________________________________________\n",
            "dropout_5674 (Dropout)       (None, 64)                0         \n",
            "_________________________________________________________________\n",
            "dense_3404 (Dense)           (None, 56)                3640      \n",
            "=================================================================\n",
            "Total params: 1,019,000\n",
            "Trainable params: 1,019,000\n",
            "Non-trainable params: 0\n",
            "_________________________________________________________________\n",
            "time: 53.72556519508362 sec\n"
          ]
        }
      ]
    },
    {
      "cell_type": "code",
      "metadata": {
        "colab": {
          "base_uri": "https://localhost:8080/"
        },
        "id": "QQgb5wJMqL_9",
        "outputId": "521d8623-93a8-4e87-d28c-ee625c389bfa"
      },
      "source": [
        "# Evaluate model\n",
        "print(f'Test Accuracy: {model_cnn.evaluate(X_test[:,:,:,None],y_test,verbose=0)[1]}')"
      ],
      "id": "QQgb5wJMqL_9",
      "execution_count": 103,
      "outputs": [
        {
          "output_type": "stream",
          "name": "stdout",
          "text": [
            "Test Accuracy: 0.9750000238418579\n"
          ]
        }
      ]
    },
    {
      "cell_type": "code",
      "metadata": {
        "colab": {
          "base_uri": "https://localhost:8080/",
          "height": 573
        },
        "id": "GOvVYx0TqOeW",
        "outputId": "de09fce2-f005-454c-fdab-c6a0e41184c4"
      },
      "source": [
        "# Learning curve\n",
        "# plot the accuracy and loss plots between training and validation data\n",
        "# verify overfitting or underfit \n",
        "acc = history.history['accuracy']\n",
        "val_acc = history.history['val_accuracy']\n",
        "loss = history.history['loss']\n",
        "val_loss = history.history['val_loss']\n",
        "x = range(1,len(acc)+1)\n",
        "\n",
        "plt.plot(x,acc,'b',label='Training accuracy')\n",
        "plt.plot(x,val_acc,'r',label='Validation accuracy')\n",
        "plt.title('Training and validation accuracy')\n",
        "plt.xlabel('epochs')\n",
        "plt.ylabel('accuracy')\n",
        "plt.legend()\n",
        "plt.figure()\n",
        "\n",
        "plt.plot(x,loss,'b',label='Training loss')\n",
        "plt.plot(x,val_loss,'r',label='Validation loss')\n",
        "plt.title('Training and validation loss')\n",
        "plt.xlabel('epochs')\n",
        "plt.ylabel('loss')\n",
        "plt.legend()\n",
        "plt.show()"
      ],
      "id": "GOvVYx0TqOeW",
      "execution_count": 104,
      "outputs": [
        {
          "output_type": "display_data",
          "data": {
            "image/png": "[encoded data removed]",
            "text/plain": [
              "<Figure size 432x288 with 1 Axes>"
            ]
          },
          "metadata": {
            "needs_background": "light"
          }
        },
        {
          "output_type": "display_data",
          "data": {
            "image/png": "[encoded data removed]",
            "text/plain": [
              "<Figure size 432x288 with 1 Axes>"
            ]
          },
          "metadata": {
            "needs_background": "light"
          }
        }
      ]
    },
    {
      "cell_type": "code",
      "metadata": {
        "colab": {
          "base_uri": "https://localhost:8080/"
        },
        "id": "ZVmZq-9NqRIN",
        "outputId": "31b33d3e-50cb-4b00-a52b-cf8b7f06b891"
      },
      "source": [
        "# classification report\n",
        "predicted_classes = np.argmax(np.round(model_cnn.predict(X_test[:,:,:,None])),axis=1)\n",
        "correct = np.where(predicted_classes==y_test)[0]\n",
        "target_names = [f\"Class {label}\" for label in range(len(np.unique(df['label'])))]\n",
        "\n",
        "print(f\"From {len(y_test)} labels're founding {len(correct)} correct labels.\")\n",
        "print(f'Accuracy: {len(correct)/len(y_test)}')\n",
        "print('')\n",
        "print(classification_report(y_test, predicted_classes, target_names=target_names))"
      ],
      "id": "ZVmZq-9NqRIN",
      "execution_count": 105,
      "outputs": [
        {
          "output_type": "stream",
          "name": "stdout",
          "text": [
            "From 280 labels're founding 267 correct labels.\n",
            "Accuracy: 0.9535714285714286\n",
            "\n",
            "              precision    recall  f1-score   support\n",
            "\n",
            "     Class 0       0.36      1.00      0.53         5\n",
            "     Class 1       1.00      1.00      1.00         5\n",
            "     Class 2       1.00      1.00      1.00         5\n",
            "     Class 3       1.00      0.60      0.75         5\n",
            "     Class 4       1.00      1.00      1.00         5\n",
            "     Class 5       1.00      1.00      1.00         5\n",
            "     Class 6       1.00      1.00      1.00         5\n",
            "     Class 7       1.00      1.00      1.00         5\n",
            "     Class 8       1.00      1.00      1.00         5\n",
            "     Class 9       1.00      1.00      1.00         5\n",
            "    Class 10       1.00      1.00      1.00         5\n",
            "    Class 11       1.00      1.00      1.00         5\n",
            "    Class 12       1.00      1.00      1.00         5\n",
            "    Class 13       1.00      1.00      1.00         5\n",
            "    Class 14       0.83      1.00      0.91         5\n",
            "    Class 15       1.00      1.00      1.00         5\n",
            "    Class 16       1.00      1.00      1.00         5\n",
            "    Class 17       1.00      1.00      1.00         5\n",
            "    Class 18       1.00      1.00      1.00         5\n",
            "    Class 19       0.75      0.60      0.67         5\n",
            "    Class 20       1.00      1.00      1.00         5\n",
            "    Class 21       1.00      1.00      1.00         5\n",
            "    Class 22       1.00      1.00      1.00         5\n",
            "    Class 23       1.00      1.00      1.00         5\n",
            "    Class 24       1.00      1.00      1.00         5\n",
            "    Class 25       1.00      0.80      0.89         5\n",
            "    Class 26       1.00      1.00      1.00         5\n",
            "    Class 27       1.00      1.00      1.00         5\n",
            "    Class 28       1.00      1.00      1.00         5\n",
            "    Class 29       0.83      1.00      0.91         5\n",
            "    Class 30       0.80      0.80      0.80         5\n",
            "    Class 31       1.00      1.00      1.00         5\n",
            "    Class 32       1.00      0.80      0.89         5\n",
            "    Class 33       1.00      1.00      1.00         5\n",
            "    Class 34       1.00      1.00      1.00         5\n",
            "    Class 35       1.00      1.00      1.00         5\n",
            "    Class 36       1.00      1.00      1.00         5\n",
            "    Class 37       1.00      1.00      1.00         5\n",
            "    Class 38       1.00      0.80      0.89         5\n",
            "    Class 39       1.00      1.00      1.00         5\n",
            "    Class 40       1.00      1.00      1.00         5\n",
            "    Class 41       1.00      1.00      1.00         5\n",
            "    Class 42       1.00      1.00      1.00         5\n",
            "    Class 43       1.00      1.00      1.00         5\n",
            "    Class 44       1.00      1.00      1.00         5\n",
            "    Class 45       1.00      1.00      1.00         5\n",
            "    Class 46       1.00      0.80      0.89         5\n",
            "    Class 47       1.00      1.00      1.00         5\n",
            "    Class 48       1.00      0.80      0.89         5\n",
            "    Class 49       1.00      1.00      1.00         5\n",
            "    Class 50       1.00      1.00      1.00         5\n",
            "    Class 51       1.00      0.80      0.89         5\n",
            "    Class 52       1.00      0.60      0.75         5\n",
            "    Class 53       1.00      1.00      1.00         5\n",
            "    Class 54       1.00      1.00      1.00         5\n",
            "    Class 55       1.00      1.00      1.00         5\n",
            "\n",
            "    accuracy                           0.95       280\n",
            "   macro avg       0.97      0.95      0.96       280\n",
            "weighted avg       0.97      0.95      0.96       280\n",
            "\n"
          ]
        }
      ]
    },
    {
      "cell_type": "markdown",
      "metadata": {
        "id": "y_i70WoqTAxI"
      },
      "source": [
        "## Evaluate and predict test set"
      ],
      "id": "y_i70WoqTAxI"
    },
    {
      "cell_type": "code",
      "metadata": {
        "colab": {
          "base_uri": "https://localhost:8080/"
        },
        "id": "ZQ4n8wAmB9ZX",
        "outputId": "43d00ab2-a3bf-43ea-d43a-eec734a3fb2a"
      },
      "source": [
        "# Evaluate model\n",
        "print(f'Test Accuracy: {model_cnn.evaluate(X_test[:,:,:,None],y_test,verbose=0)[1]}')"
      ],
      "id": "ZQ4n8wAmB9ZX",
      "execution_count": null,
      "outputs": [
        {
          "output_type": "stream",
          "name": "stdout",
          "text": [
            "Test Accuracy: 0.9642857313156128\n"
          ]
        }
      ]
    },
    {
      "cell_type": "code",
      "metadata": {
        "id": "F62fEQaGFMqs",
        "colab": {
          "base_uri": "https://localhost:8080/",
          "height": 573
        },
        "outputId": "720173f8-2dd4-4b4b-aaea-4584e6a376f7"
      },
      "source": [
        "# Learning curve\n",
        "# plot the accuracy and loss plots between training and validation data\n",
        "# verify overfitting or underfit \n",
        "acc = history.history['accuracy']\n",
        "val_acc = history.history['val_accuracy']\n",
        "loss = history.history['loss']\n",
        "val_loss = history.history['val_loss']\n",
        "x = range(1,len(acc)+1)\n",
        "\n",
        "plt.plot(x,acc,'b',label='Training accuracy')\n",
        "plt.plot(x,val_acc,'r',label='Validation accuracy')\n",
        "plt.title('Training and validation accuracy')\n",
        "plt.xlabel('epochs')\n",
        "plt.ylabel('accuracy')\n",
        "plt.legend()\n",
        "plt.figure()\n",
        "\n",
        "plt.plot(x,loss,'b',label='Training loss')\n",
        "plt.plot(x,val_loss,'r',label='Validation loss')\n",
        "plt.title('Training and validation loss')\n",
        "plt.xlabel('epochs')\n",
        "plt.ylabel('loss')\n",
        "plt.legend()\n",
        "plt.show()"
      ],
      "id": "F62fEQaGFMqs",
      "execution_count": null,
      "outputs": [
        {
          "output_type": "display_data",
          "data": {
            "image/png": "[encoded data removed]",
            "text/plain": [
              "<Figure size 432x288 with 1 Axes>"
            ]
          },
          "metadata": {
            "needs_background": "light"
          }
        },
        {
          "output_type": "display_data",
          "data": {
            "image/png": "[encoded data removed]",
            "text/plain": [
              "<Figure size 432x288 with 1 Axes>"
            ]
          },
          "metadata": {
            "needs_background": "light"
          }
        }
      ]
    },
    {
      "cell_type": "code",
      "metadata": {
        "id": "wFbKdWsMkDuw",
        "colab": {
          "base_uri": "https://localhost:8080/"
        },
        "outputId": "c05ff58c-0d09-4be0-d81d-0210984ffd3e"
      },
      "source": [
        "# classification report\n",
        "predicted_classes = np.argmax(np.round(model_cnn.predict(X_test[:,:,:,None])),axis=1)\n",
        "correct = np.where(predicted_classes==y_test)[0]\n",
        "target_names = [f\"Class {label}\" for label in range(len(np.unique(df['label'])))]\n",
        "\n",
        "print(f\"From {len(y_test)} labels're founding {len(correct)} correct labels.\")\n",
        "print(f'Accuracy: {len(correct)/len(y_test)}')\n",
        "print('')\n",
        "print(classification_report(y_test, predicted_classes, target_names=target_names))"
      ],
      "id": "wFbKdWsMkDuw",
      "execution_count": null,
      "outputs": [
        {
          "output_type": "stream",
          "name": "stdout",
          "text": [
            "From 280 labels're founding 266 correct labels.\n",
            "Accuracy: 0.95\n",
            "\n",
            "              precision    recall  f1-score   support\n",
            "\n",
            "     Class 0       0.38      1.00      0.56         5\n",
            "     Class 1       1.00      1.00      1.00         5\n",
            "     Class 2       1.00      1.00      1.00         5\n",
            "     Class 3       1.00      0.40      0.57         5\n",
            "     Class 4       1.00      1.00      1.00         5\n",
            "     Class 5       1.00      1.00      1.00         5\n",
            "     Class 6       1.00      1.00      1.00         5\n",
            "     Class 7       0.71      1.00      0.83         5\n",
            "     Class 8       1.00      1.00      1.00         5\n",
            "     Class 9       1.00      1.00      1.00         5\n",
            "    Class 10       1.00      1.00      1.00         5\n",
            "    Class 11       1.00      1.00      1.00         5\n",
            "    Class 12       1.00      1.00      1.00         5\n",
            "    Class 13       1.00      1.00      1.00         5\n",
            "    Class 14       1.00      1.00      1.00         5\n",
            "    Class 15       1.00      1.00      1.00         5\n",
            "    Class 16       1.00      1.00      1.00         5\n",
            "    Class 17       1.00      1.00      1.00         5\n",
            "    Class 18       1.00      1.00      1.00         5\n",
            "    Class 19       1.00      1.00      1.00         5\n",
            "    Class 20       0.80      0.80      0.80         5\n",
            "    Class 21       1.00      1.00      1.00         5\n",
            "    Class 22       1.00      1.00      1.00         5\n",
            "    Class 23       1.00      1.00      1.00         5\n",
            "    Class 24       1.00      1.00      1.00         5\n",
            "    Class 25       1.00      0.80      0.89         5\n",
            "    Class 26       1.00      1.00      1.00         5\n",
            "    Class 27       1.00      1.00      1.00         5\n",
            "    Class 28       1.00      1.00      1.00         5\n",
            "    Class 29       1.00      1.00      1.00         5\n",
            "    Class 30       0.80      0.80      0.80         5\n",
            "    Class 31       1.00      1.00      1.00         5\n",
            "    Class 32       1.00      0.80      0.89         5\n",
            "    Class 33       1.00      1.00      1.00         5\n",
            "    Class 34       1.00      1.00      1.00         5\n",
            "    Class 35       1.00      1.00      1.00         5\n",
            "    Class 36       1.00      1.00      1.00         5\n",
            "    Class 37       1.00      1.00      1.00         5\n",
            "    Class 38       0.80      0.80      0.80         5\n",
            "    Class 39       1.00      1.00      1.00         5\n",
            "    Class 40       1.00      0.60      0.75         5\n",
            "    Class 41       1.00      1.00      1.00         5\n",
            "    Class 42       1.00      1.00      1.00         5\n",
            "    Class 43       0.83      1.00      0.91         5\n",
            "    Class 44       1.00      1.00      1.00         5\n",
            "    Class 45       1.00      1.00      1.00         5\n",
            "    Class 46       1.00      1.00      1.00         5\n",
            "    Class 47       1.00      1.00      1.00         5\n",
            "    Class 48       1.00      1.00      1.00         5\n",
            "    Class 49       1.00      1.00      1.00         5\n",
            "    Class 50       1.00      1.00      1.00         5\n",
            "    Class 51       1.00      0.80      0.89         5\n",
            "    Class 52       1.00      0.60      0.75         5\n",
            "    Class 53       1.00      1.00      1.00         5\n",
            "    Class 54       1.00      0.80      0.89         5\n",
            "    Class 55       1.00      1.00      1.00         5\n",
            "\n",
            "    accuracy                           0.95       280\n",
            "   macro avg       0.97      0.95      0.95       280\n",
            "weighted avg       0.97      0.95      0.95       280\n",
            "\n"
          ]
        }
      ]
    },
    {
      "cell_type": "markdown",
      "metadata": {
        "id": "ExkYoE9LXq6I"
      },
      "source": [
        "## Other people \n",
        "men and woman each 10 audio file."
      ],
      "id": "ExkYoE9LXq6I"
    },
    {
      "cell_type": "code",
      "metadata": {
        "colab": {
          "base_uri": "https://localhost:8080/"
        },
        "id": "AYxW624FZZdM",
        "outputId": "de05af18-c67f-4d6a-9b3e-1ccf71b1e7a7"
      },
      "source": [
        "import numpy as np\n",
        "np.random.seed(77)\n",
        "\n",
        "random_fruit_veget = np.random.choice(np.unique(df['description']),10,replace=False).tolist()\n",
        "print(random_fruit_veget)"
      ],
      "id": "AYxW624FZZdM",
      "execution_count": null,
      "outputs": [
        {
          "output_type": "stream",
          "name": "stdout",
          "text": [
            "['ผักกุยช่าย', 'ทับทิม', 'ใบชะพลู1', 'พริกขี้หนู', 'มันสำปะหลัง', 'ฟักทอง', 'มะพลับ', 'หัวหอม2', 'ใบชะพลู2', 'บวบ']\n"
          ]
        }
      ]
    },
    {
      "cell_type": "code",
      "metadata": {
        "id": "XTRoVzSzX3XM"
      },
      "source": [
        "import pandas as pd\n",
        "\n",
        "# Audio data source\n",
        "other_source = {'audio_time':[],\n",
        "                'sampling_rate':[],\n",
        "                'feature_extraction':[],\n",
        "                'label':[],\n",
        "                'description':[]}\n",
        "\n",
        "for types in random_fruit_veget:\n",
        "    audio_files = glob('/content/Project_499/Record_other_audio/' + str(types) + '/*.wav')\n",
        "\n",
        "    for audio in audio_files:\n",
        "        y,sr = librosa.load(audio,duration=5,offset=0)\n",
        "        other_source['description'].append(str(types))\n",
        "        other_source['audio_time'].append(y)\n",
        "        other_source['sampling_rate'].append(sr)\n",
        "        other_source['feature_extraction'].append(feature_mfcc(y,sr))\n",
        "\n",
        "other_source['label'] = [18,18,14,14,39,39,44,44,37,37,50,50,25,25,55,55,40,40,38,38]\n",
        "other_df = pd.DataFrame.from_dict(other_source)"
      ],
      "id": "XTRoVzSzX3XM",
      "execution_count": null,
      "outputs": []
    },
    {
      "cell_type": "code",
      "metadata": {
        "id": "rQ6EclMVZCeE"
      },
      "source": [
        "other_X_test = np.array(other_df['feature_extraction'].to_list())\n",
        "other_y_test = np.array(other_df['label'].to_list())"
      ],
      "id": "rQ6EclMVZCeE",
      "execution_count": null,
      "outputs": []
    },
    {
      "cell_type": "code",
      "metadata": {
        "id": "uG_isU-4c97L",
        "colab": {
          "base_uri": "https://localhost:8080/"
        },
        "outputId": "ce5e5ce2-49b4-426f-ae06-132d78ed414c"
      },
      "source": [
        "# classification report\n",
        "predicted_classes = np.argmax(np.round(model_cnn.predict(other_X_test[:,:,:,None])),axis=1)\n",
        "correct = np.where(predicted_classes==other_y_test)[0]\n",
        "target_names = [f\"Class {label}\" for label in np.unique(other_source['label'])]\n",
        "\n",
        "print(f\"From {len(other_y_test)} labels're founding {len(correct)} correct labels.\")\n",
        "print(f'Accuracy: {len(correct)/len(other_y_test)}')"
      ],
      "id": "uG_isU-4c97L",
      "execution_count": null,
      "outputs": [
        {
          "output_type": "stream",
          "name": "stdout",
          "text": [
            "From 20 labels're founding 6 correct labels.\n",
            "Accuracy: 0.3\n"
          ]
        }
      ]
    }
  ]
}