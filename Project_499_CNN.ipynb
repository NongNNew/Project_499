{
  "nbformat": 4,
  "nbformat_minor": 5,
  "metadata": {
    "colab": {
      "name": "Project_499_CNN.ipynb",
      "provenance": [],
      "collapsed_sections": [],
      "machine_shape": "hm",
      "include_colab_link": true
    },
    "kernelspec": {
      "display_name": "Python 3",
      "language": "python",
      "name": "python3"
    },
    "language_info": {
      "codemirror_mode": {
        "name": "ipython",
        "version": 3
      },
      "file_extension": ".py",
      "mimetype": "text/x-python",
      "name": "python",
      "nbconvert_exporter": "python",
      "pygments_lexer": "ipython3",
      "version": "3.8.8"
    },
    "accelerator": "GPU"
  },
  "cells": [
    {
      "cell_type": "markdown",
      "metadata": {
        "id": "view-in-github",
        "colab_type": "text"
      },
      "source": [
        "<a href=\"https://colab.research.google.com/github/NongNNew/Project_499/blob/main/Project_499_CNN.ipynb\" target=\"_parent\"><img src=\"https://colab.research.google.com/assets/colab-badge.svg\" alt=\"Open In Colab\"/></a>"
      ]
    },
    {
      "cell_type": "markdown",
      "metadata": {
        "id": "hW4AHGmEVrk8"
      },
      "source": [
        "# **CNN**"
      ],
      "id": "hW4AHGmEVrk8"
    },
    {
      "cell_type": "markdown",
      "metadata": {
        "id": "nkYRb02rScfH"
      },
      "source": [
        "## Setup"
      ],
      "id": "nkYRb02rScfH"
    },
    {
      "cell_type": "code",
      "metadata": {
        "colab": {
          "base_uri": "https://localhost:8080/"
        },
        "id": "Nq11bNFAbCci",
        "outputId": "9f1ab2bb-23e9-4356-a403-9c5df8a0882c"
      },
      "source": [
        "!pip install python_speech_features"
      ],
      "id": "Nq11bNFAbCci",
      "execution_count": 1,
      "outputs": [
        {
          "output_type": "stream",
          "name": "stdout",
          "text": [
            "Collecting python_speech_features\n",
            "  Downloading python_speech_features-0.6.tar.gz (5.6 kB)\n",
            "Building wheels for collected packages: python-speech-features\n",
            "  Building wheel for python-speech-features (setup.py) ... \u001b[?25l\u001b[?25hdone\n",
            "  Created wheel for python-speech-features: filename=python_speech_features-0.6-py3-none-any.whl size=5888 sha256=fc894b35edae3dcca25211910604338e95f35079f0e9af7fde4b658c33bb4b2c\n",
            "  Stored in directory: /root/.cache/pip/wheels/b0/0e/94/28cd6afa3cd5998a63eef99fe31777acd7d758f59cf24839eb\n",
            "Successfully built python-speech-features\n",
            "Installing collected packages: python-speech-features\n",
            "Successfully installed python-speech-features-0.6\n"
          ]
        }
      ]
    },
    {
      "cell_type": "code",
      "metadata": {
        "id": "fssuU2ucR1vy"
      },
      "source": [
        "import librosa\n",
        "import numpy as np\n",
        "import pandas as pd\n",
        "from glob import glob\n",
        "import tensorflow as tf\n",
        "from tensorflow import keras \n",
        "import python_speech_features\n",
        "import matplotlib.pyplot as plt\n",
        "from scipy.signal.windows import hamming\n",
        "from sklearn.metrics import classification_report"
      ],
      "id": "fssuU2ucR1vy",
      "execution_count": 2,
      "outputs": []
    },
    {
      "cell_type": "code",
      "metadata": {
        "id": "y1vuUlgJSKkC"
      },
      "source": [
        "np.random.seed(1)\n",
        "tf.random.set_seed(1)"
      ],
      "id": "y1vuUlgJSKkC",
      "execution_count": 3,
      "outputs": []
    },
    {
      "cell_type": "markdown",
      "metadata": {
        "id": "BRWP2IrOShCH"
      },
      "source": [
        "## Prepare dataset"
      ],
      "id": "BRWP2IrOShCH"
    },
    {
      "cell_type": "code",
      "metadata": {
        "colab": {
          "base_uri": "https://localhost:8080/"
        },
        "id": "gJVdtdww87RO",
        "outputId": "c4a9073f-04d1-497f-9bdd-1feda6d56553"
      },
      "source": [
        "# Upload audio files from github\n",
        "!git clone https://github.com/NongNNew/Project_499.git"
      ],
      "id": "gJVdtdww87RO",
      "execution_count": 4,
      "outputs": [
        {
          "output_type": "stream",
          "name": "stdout",
          "text": [
            "Cloning into 'Project_499'...\n",
            "remote: Enumerating objects: 1459, done.\u001b[K\n",
            "remote: Counting objects: 100% (15/15), done.\u001b[K\n",
            "remote: Compressing objects: 100% (15/15), done.\u001b[K\n",
            "remote: Total 1459 (delta 8), reused 0 (delta 0), pack-reused 1444\u001b[K\n",
            "Receiving objects: 100% (1459/1459), 233.35 MiB | 28.48 MiB/s, done.\n",
            "Resolving deltas: 100% (156/156), done.\n",
            "Checking out files: 100% (1122/1122), done.\n"
          ]
        }
      ]
    },
    {
      "cell_type": "code",
      "metadata": {
        "id": "EHnDUT5YejVV"
      },
      "source": [
        "# Name of vegetables and fruits 52 types of 56 classes\n",
        "fruit_veget = ['กระชาย','กระท้อน','กระเทียม1','กระเทียม2','กระเพรา','กล้วยน้ำว้า','กล้วยหอม',\n",
        "               'ข้าวโพด','ไข่น้ำ',\n",
        "               'ตะขบไทย','ตะไคร้',\n",
        "               'ถั่วฝักยาว','ถั่วลันเตา','ถั่วลิสง',\n",
        "               'ทับทิม',\n",
        "               'น้อยหน่า','น้ำเต้า',\n",
        "               'ผักกระเฉด','ผักกุยช่าย','ผักขึ้นช่าย','ผักชะอม','ผักชี','ผักชีฝรั่ง','ผักตำลึง',\n",
        "               'มะปราง','มะพลับ','มะละกอ','มะกรูด','มะเขือพวง','มะเขือเทศ','มะระ','มะรุม','มะตูม','มันแกว1','มันแกว2','มันเทศ','มันฝรั่ง','มันสำปะหลัง',\n",
        "               'บวบ','ใบชะพลู1','ใบชะพลู2','ใบบัวบก','ใบแมงลัก','ใบยอ',\n",
        "               'พริกขี้หนู','พริกสด','พุทรา','เพกา',\n",
        "               'ฝรั่ง',\n",
        "               'ฟัก','ฟักทอง',\n",
        "               'สับปะรด','สะเดา','สะระแหน่',\n",
        "               'หัวหอม1','หัวหอม2']\n",
        "\n",
        "# Audio data source\n",
        "source = {'audio_time':[],\n",
        "          'sampling_rate':[],\n",
        "          'feature_extraction':[],\n",
        "          'label':[],\n",
        "          'description':[]}"
      ],
      "id": "EHnDUT5YejVV",
      "execution_count": 5,
      "outputs": []
    },
    {
      "cell_type": "code",
      "metadata": {
        "id": "_XRqKtGBeW_1"
      },
      "source": [
        "def feature_mfcc(y,sr):\n",
        "    return (python_speech_features.mfcc(signal=y, \n",
        "                                    samplerate=sr, \n",
        "                                    winlen= 512/sr, \n",
        "                                    winstep= 160/sr,\n",
        "                                    numcep= 13,\n",
        "                                    nfilt= 40, \n",
        "                                    nfft= 512,\n",
        "                                    lowfreq= 0,\n",
        "                                    highfreq= None,\n",
        "                                    preemph= 0.97, \n",
        "                                    ceplifter= 0,\n",
        "                                    winfunc= hamming))"
      ],
      "id": "_XRqKtGBeW_1",
      "execution_count": 6,
      "outputs": []
    },
    {
      "cell_type": "code",
      "metadata": {
        "id": "tixApnAUy5tv"
      },
      "source": [
        "for types in fruit_veget:\n",
        "    audio_files = glob('/content/Project_499/Record_audio/' + str(types) + '/*.wav')\n",
        "\n",
        "    for audio in audio_files:\n",
        "        y,sr = librosa.load(audio,duration=5,offset=0)\n",
        "        source['description'].append(str(types))\n",
        "        source['audio_time'].append(y)\n",
        "        source['sampling_rate'].append(sr)\n",
        "        source['feature_extraction'].append(feature_mfcc(y,sr))\n",
        "        source['label'].append(fruit_veget.index(types))"
      ],
      "id": "tixApnAUy5tv",
      "execution_count": 7,
      "outputs": []
    },
    {
      "cell_type": "code",
      "metadata": {
        "colab": {
          "base_uri": "https://localhost:8080/",
          "height": 417
        },
        "id": "8B6cSV4Ckude",
        "outputId": "02a1118a-5068-41cf-d3ce-617dee5788cc"
      },
      "source": [
        "# tranform dictionary to dataframe \n",
        "df = pd.DataFrame.from_dict(source)\n",
        "df"
      ],
      "id": "8B6cSV4Ckude",
      "execution_count": 8,
      "outputs": [
        {
          "output_type": "execute_result",
          "data": {
            "text/html": [
              "<div>\n",
              "<style scoped>\n",
              "    .dataframe tbody tr th:only-of-type {\n",
              "        vertical-align: middle;\n",
              "    }\n",
              "\n",
              "    .dataframe tbody tr th {\n",
              "        vertical-align: top;\n",
              "    }\n",
              "\n",
              "    .dataframe thead th {\n",
              "        text-align: right;\n",
              "    }\n",
              "</style>\n",
              "<table border=\"1\" class=\"dataframe\">\n",
              "  <thead>\n",
              "    <tr style=\"text-align: right;\">\n",
              "      <th></th>\n",
              "      <th>audio_time</th>\n",
              "      <th>sampling_rate</th>\n",
              "      <th>feature_extraction</th>\n",
              "      <th>label</th>\n",
              "      <th>description</th>\n",
              "    </tr>\n",
              "  </thead>\n",
              "  <tbody>\n",
              "    <tr>\n",
              "      <th>0</th>\n",
              "      <td>[-0.004928589, -0.0049591064, -0.0048980713, -...</td>\n",
              "      <td>22050</td>\n",
              "      <td>[[-12.959169471954294, -4.281586674957866, 6.4...</td>\n",
              "      <td>0</td>\n",
              "      <td>กระชาย</td>\n",
              "    </tr>\n",
              "    <tr>\n",
              "      <th>1</th>\n",
              "      <td>[-0.0009765625, -0.001449585, -0.001373291, -0...</td>\n",
              "      <td>22050</td>\n",
              "      <td>[[-13.841251857084886, -10.542052145166839, 1....</td>\n",
              "      <td>0</td>\n",
              "      <td>กระชาย</td>\n",
              "    </tr>\n",
              "    <tr>\n",
              "      <th>2</th>\n",
              "      <td>[-1.5258789e-05, 1.5258789e-05, -1.5258789e-05...</td>\n",
              "      <td>22050</td>\n",
              "      <td>[[-13.834222688815137, -11.278032760622157, -1...</td>\n",
              "      <td>0</td>\n",
              "      <td>กระชาย</td>\n",
              "    </tr>\n",
              "    <tr>\n",
              "      <th>3</th>\n",
              "      <td>[0.0, 0.0, 0.0, 3.0517578e-05, -3.0517578e-05,...</td>\n",
              "      <td>22050</td>\n",
              "      <td>[[-14.175309888089249, -10.723428500252963, 1....</td>\n",
              "      <td>0</td>\n",
              "      <td>กระชาย</td>\n",
              "    </tr>\n",
              "    <tr>\n",
              "      <th>4</th>\n",
              "      <td>[-0.0002593994, -0.00022888184, -0.0002593994,...</td>\n",
              "      <td>22050</td>\n",
              "      <td>[[-13.816295557200156, -10.348956209871943, 3....</td>\n",
              "      <td>0</td>\n",
              "      <td>กระชาย</td>\n",
              "    </tr>\n",
              "    <tr>\n",
              "      <th>...</th>\n",
              "      <td>...</td>\n",
              "      <td>...</td>\n",
              "      <td>...</td>\n",
              "      <td>...</td>\n",
              "      <td>...</td>\n",
              "    </tr>\n",
              "    <tr>\n",
              "      <th>1115</th>\n",
              "      <td>[-0.00018310547, -0.00019836426, -0.0002288818...</td>\n",
              "      <td>22050</td>\n",
              "      <td>[[-13.811710436355032, -12.034727613545233, 0....</td>\n",
              "      <td>55</td>\n",
              "      <td>หัวหอม2</td>\n",
              "    </tr>\n",
              "    <tr>\n",
              "      <th>1116</th>\n",
              "      <td>[-0.00018310547, -0.0002593994, -0.00021362305...</td>\n",
              "      <td>22050</td>\n",
              "      <td>[[-14.051788496188221, -10.373070308117178, 4....</td>\n",
              "      <td>55</td>\n",
              "      <td>หัวหอม2</td>\n",
              "    </tr>\n",
              "    <tr>\n",
              "      <th>1117</th>\n",
              "      <td>[-0.00024414062, -0.0002593994, -0.00022888184...</td>\n",
              "      <td>22050</td>\n",
              "      <td>[[-14.003234060711906, -11.759421272003904, -1...</td>\n",
              "      <td>55</td>\n",
              "      <td>หัวหอม2</td>\n",
              "    </tr>\n",
              "    <tr>\n",
              "      <th>1118</th>\n",
              "      <td>[-0.00010681152, -0.00010681152, -0.0002136230...</td>\n",
              "      <td>22050</td>\n",
              "      <td>[[-13.965644315403711, -9.922440291030709, 1.8...</td>\n",
              "      <td>55</td>\n",
              "      <td>หัวหอม2</td>\n",
              "    </tr>\n",
              "    <tr>\n",
              "      <th>1119</th>\n",
              "      <td>[-0.00021362305, -0.00019836426, -0.0001678466...</td>\n",
              "      <td>22050</td>\n",
              "      <td>[[-13.600642153773194, -15.096089567076714, -0...</td>\n",
              "      <td>55</td>\n",
              "      <td>หัวหอม2</td>\n",
              "    </tr>\n",
              "  </tbody>\n",
              "</table>\n",
              "<p>1120 rows × 5 columns</p>\n",
              "</div>"
            ],
            "text/plain": [
              "                                             audio_time  ...  description\n",
              "0     [-0.004928589, -0.0049591064, -0.0048980713, -...  ...       กระชาย\n",
              "1     [-0.0009765625, -0.001449585, -0.001373291, -0...  ...       กระชาย\n",
              "2     [-1.5258789e-05, 1.5258789e-05, -1.5258789e-05...  ...       กระชาย\n",
              "3     [0.0, 0.0, 0.0, 3.0517578e-05, -3.0517578e-05,...  ...       กระชาย\n",
              "4     [-0.0002593994, -0.00022888184, -0.0002593994,...  ...       กระชาย\n",
              "...                                                 ...  ...          ...\n",
              "1115  [-0.00018310547, -0.00019836426, -0.0002288818...  ...      หัวหอม2\n",
              "1116  [-0.00018310547, -0.0002593994, -0.00021362305...  ...      หัวหอม2\n",
              "1117  [-0.00024414062, -0.0002593994, -0.00022888184...  ...      หัวหอม2\n",
              "1118  [-0.00010681152, -0.00010681152, -0.0002136230...  ...      หัวหอม2\n",
              "1119  [-0.00021362305, -0.00019836426, -0.0001678466...  ...      หัวหอม2\n",
              "\n",
              "[1120 rows x 5 columns]"
            ]
          },
          "metadata": {},
          "execution_count": 8
        }
      ]
    },
    {
      "cell_type": "code",
      "metadata": {
        "id": "T7yzW3hnmuyB"
      },
      "source": [
        "Test = pd.DataFrame(columns=source.keys())\n",
        "\n",
        "# Create test data\n",
        "\n",
        "for description in np.unique(df['description']):\n",
        "    imp_test = df[df['description']==description].sample(5,random_state=1)\n",
        "    Test = pd.concat([Test,imp_test], axis=0)\n",
        "Train = df.drop(Test.index)\n",
        "\n",
        "X_train = np.array(Train['feature_extraction'].to_list())\n",
        "X_test = np.array(Test['feature_extraction'].to_list())\n",
        "y_train = np.array(Train['label'].to_list())\n",
        "y_test = np.array(Test['label'].to_list())"
      ],
      "id": "T7yzW3hnmuyB",
      "execution_count": 9,
      "outputs": []
    },
    {
      "cell_type": "code",
      "metadata": {
        "colab": {
          "base_uri": "https://localhost:8080/"
        },
        "id": "mSV3u9RmEU7h",
        "outputId": "a008c0f3-1678-4e79-9a07-c2b2a2cf5f77"
      },
      "source": [
        "# Proportion of data\n",
        "y_train.shape, y_test.shape"
      ],
      "id": "mSV3u9RmEU7h",
      "execution_count": 10,
      "outputs": [
        {
          "output_type": "execute_result",
          "data": {
            "text/plain": [
              "((840,), (280,))"
            ]
          },
          "metadata": {},
          "execution_count": 10
        }
      ]
    },
    {
      "cell_type": "markdown",
      "metadata": {
        "id": "r7RGaVViSrwg"
      },
      "source": [
        "## Build cnn model"
      ],
      "id": "r7RGaVViSrwg"
    },
    {
      "cell_type": "code",
      "metadata": {
        "id": "77wMVqve6W8f"
      },
      "source": [
        "def create_cnn_model(X_train):\n",
        "    model = None\n",
        "    model = keras.Sequential()\n",
        "    model.add(keras.layers.Conv2D(128, 5, input_shape=(X_train.shape[1], X_train.shape[2], 1), activation='relu'))\n",
        "    model.add(keras.layers.Dropout(0.25))\n",
        "    model.add(keras.layers.MaxPool2D())\n",
        "    model.add(keras.layers.Conv2D(64, 5, activation='relu',padding='same'))\n",
        "    model.add(keras.layers.Dropout(0.25))\n",
        "    model.add(keras.layers.MaxPool2D())\n",
        "    model.add(keras.layers.Conv2D(64, 5, activation='relu',padding='same'))\n",
        "    model.add(keras.layers.Dropout(0.25))\n",
        "    model.add(keras.layers.MaxPool2D())\n",
        "    model.add(keras.layers.Flatten())\n",
        "    model.add(keras.layers.Dense(128, activation='relu'))\n",
        "    model.add(keras.layers.Dropout(0.25))\n",
        "    model.add(keras.layers.Dense(64, activation='relu'))\n",
        "    model.add(keras.layers.Dropout(0.25))\n",
        "    model.add(keras.layers.Dense(len(np.unique(df['label'])), activation='softmax'))\n",
        "    model.compile(optimizer='adam', loss='sparse_categorical_crossentropy', metrics=['accuracy'])\n",
        "\n",
        "    model.summary()\n",
        "\n",
        "    return model"
      ],
      "id": "77wMVqve6W8f",
      "execution_count": 11,
      "outputs": []
    },
    {
      "cell_type": "markdown",
      "metadata": {
        "id": "N_EPqJGnS7ng"
      },
      "source": [
        "## Train model"
      ],
      "id": "N_EPqJGnS7ng"
    },
    {
      "cell_type": "code",
      "metadata": {
        "id": "ngmfDNcnGMC7",
        "colab": {
          "base_uri": "https://localhost:8080/"
        },
        "outputId": "976cd86b-cfca-4f75-f308-aa441f4f8dff"
      },
      "source": [
        "# Train model\n",
        "model_cnn = create_cnn_model(X_train)\n",
        "history = model_cnn.fit(X_train[:,:,:,None], y_train, epochs=100, validation_data=(X_test[:,:,:,None],y_test),batch_size=80)"
      ],
      "id": "ngmfDNcnGMC7",
      "execution_count": 12,
      "outputs": [
        {
          "output_type": "stream",
          "name": "stdout",
          "text": [
            "Model: \"sequential\"\n",
            "_________________________________________________________________\n",
            "Layer (type)                 Output Shape              Param #   \n",
            "=================================================================\n",
            "conv2d (Conv2D)              (None, 683, 9, 128)       3328      \n",
            "_________________________________________________________________\n",
            "dropout (Dropout)            (None, 683, 9, 128)       0         \n",
            "_________________________________________________________________\n",
            "max_pooling2d (MaxPooling2D) (None, 341, 4, 128)       0         \n",
            "_________________________________________________________________\n",
            "conv2d_1 (Conv2D)            (None, 341, 4, 64)        204864    \n",
            "_________________________________________________________________\n",
            "dropout_1 (Dropout)          (None, 341, 4, 64)        0         \n",
            "_________________________________________________________________\n",
            "max_pooling2d_1 (MaxPooling2 (None, 170, 2, 64)        0         \n",
            "_________________________________________________________________\n",
            "conv2d_2 (Conv2D)            (None, 170, 2, 64)        102464    \n",
            "_________________________________________________________________\n",
            "dropout_2 (Dropout)          (None, 170, 2, 64)        0         \n",
            "_________________________________________________________________\n",
            "max_pooling2d_2 (MaxPooling2 (None, 85, 1, 64)         0         \n",
            "_________________________________________________________________\n",
            "flatten (Flatten)            (None, 5440)              0         \n",
            "_________________________________________________________________\n",
            "dense (Dense)                (None, 128)               696448    \n",
            "_________________________________________________________________\n",
            "dropout_3 (Dropout)          (None, 128)               0         \n",
            "_________________________________________________________________\n",
            "dense_1 (Dense)              (None, 64)                8256      \n",
            "_________________________________________________________________\n",
            "dropout_4 (Dropout)          (None, 64)                0         \n",
            "_________________________________________________________________\n",
            "dense_2 (Dense)              (None, 56)                3640      \n",
            "=================================================================\n",
            "Total params: 1,019,000\n",
            "Trainable params: 1,019,000\n",
            "Non-trainable params: 0\n",
            "_________________________________________________________________\n",
            "Epoch 1/100\n",
            "11/11 [==============================] - 17s 101ms/step - loss: 4.1039 - accuracy: 0.0238 - val_loss: 4.0172 - val_accuracy: 0.0464\n",
            "Epoch 2/100\n",
            "11/11 [==============================] - 1s 53ms/step - loss: 3.9900 - accuracy: 0.0274 - val_loss: 3.9461 - val_accuracy: 0.0536\n",
            "Epoch 3/100\n",
            "11/11 [==============================] - 1s 52ms/step - loss: 3.8217 - accuracy: 0.0631 - val_loss: 3.7108 - val_accuracy: 0.1143\n",
            "Epoch 4/100\n",
            "11/11 [==============================] - 1s 53ms/step - loss: 3.5697 - accuracy: 0.0881 - val_loss: 3.5248 - val_accuracy: 0.1536\n",
            "Epoch 5/100\n",
            "11/11 [==============================] - 1s 52ms/step - loss: 3.3203 - accuracy: 0.1405 - val_loss: 3.1651 - val_accuracy: 0.2893\n",
            "Epoch 6/100\n",
            "11/11 [==============================] - 1s 53ms/step - loss: 2.9219 - accuracy: 0.2143 - val_loss: 2.7178 - val_accuracy: 0.4714\n",
            "Epoch 7/100\n",
            "11/11 [==============================] - 1s 52ms/step - loss: 2.4373 - accuracy: 0.3286 - val_loss: 2.4146 - val_accuracy: 0.5893\n",
            "Epoch 8/100\n",
            "11/11 [==============================] - 1s 52ms/step - loss: 2.1856 - accuracy: 0.3929 - val_loss: 1.9741 - val_accuracy: 0.7143\n",
            "Epoch 9/100\n",
            "11/11 [==============================] - 1s 53ms/step - loss: 1.8365 - accuracy: 0.4976 - val_loss: 1.7451 - val_accuracy: 0.7750\n",
            "Epoch 10/100\n",
            "11/11 [==============================] - 1s 52ms/step - loss: 1.5635 - accuracy: 0.5512 - val_loss: 1.3472 - val_accuracy: 0.8393\n",
            "Epoch 11/100\n",
            "11/11 [==============================] - 1s 53ms/step - loss: 1.2343 - accuracy: 0.6357 - val_loss: 1.0918 - val_accuracy: 0.8893\n",
            "Epoch 12/100\n",
            "11/11 [==============================] - 1s 52ms/step - loss: 1.0538 - accuracy: 0.6905 - val_loss: 0.9533 - val_accuracy: 0.9036\n",
            "Epoch 13/100\n",
            "11/11 [==============================] - 1s 52ms/step - loss: 1.0022 - accuracy: 0.6988 - val_loss: 0.8799 - val_accuracy: 0.9000\n",
            "Epoch 14/100\n",
            "11/11 [==============================] - 1s 53ms/step - loss: 0.8593 - accuracy: 0.7262 - val_loss: 0.7960 - val_accuracy: 0.9071\n",
            "Epoch 15/100\n",
            "11/11 [==============================] - 1s 53ms/step - loss: 0.7434 - accuracy: 0.7750 - val_loss: 0.6557 - val_accuracy: 0.9179\n",
            "Epoch 16/100\n",
            "11/11 [==============================] - 1s 53ms/step - loss: 0.6771 - accuracy: 0.7988 - val_loss: 0.5667 - val_accuracy: 0.9464\n",
            "Epoch 17/100\n",
            "11/11 [==============================] - 1s 52ms/step - loss: 0.5368 - accuracy: 0.8357 - val_loss: 0.4306 - val_accuracy: 0.9464\n",
            "Epoch 18/100\n",
            "11/11 [==============================] - 1s 53ms/step - loss: 0.5425 - accuracy: 0.8250 - val_loss: 0.4271 - val_accuracy: 0.9429\n",
            "Epoch 19/100\n",
            "11/11 [==============================] - 1s 52ms/step - loss: 0.5322 - accuracy: 0.8417 - val_loss: 0.4574 - val_accuracy: 0.9464\n",
            "Epoch 20/100\n",
            "11/11 [==============================] - 1s 52ms/step - loss: 0.5246 - accuracy: 0.8440 - val_loss: 0.4531 - val_accuracy: 0.9464\n",
            "Epoch 21/100\n",
            "11/11 [==============================] - 1s 52ms/step - loss: 0.4871 - accuracy: 0.8607 - val_loss: 0.3673 - val_accuracy: 0.9464\n",
            "Epoch 22/100\n",
            "11/11 [==============================] - 1s 52ms/step - loss: 0.3796 - accuracy: 0.8714 - val_loss: 0.3342 - val_accuracy: 0.9429\n",
            "Epoch 23/100\n",
            "11/11 [==============================] - 1s 52ms/step - loss: 0.4374 - accuracy: 0.8667 - val_loss: 0.3257 - val_accuracy: 0.9464\n",
            "Epoch 24/100\n",
            "11/11 [==============================] - 1s 53ms/step - loss: 0.3681 - accuracy: 0.8798 - val_loss: 0.3249 - val_accuracy: 0.9571\n",
            "Epoch 25/100\n",
            "11/11 [==============================] - 1s 53ms/step - loss: 0.3470 - accuracy: 0.8905 - val_loss: 0.3380 - val_accuracy: 0.9571\n",
            "Epoch 26/100\n",
            "11/11 [==============================] - 1s 53ms/step - loss: 0.3801 - accuracy: 0.8845 - val_loss: 0.2894 - val_accuracy: 0.9607\n",
            "Epoch 27/100\n",
            "11/11 [==============================] - 1s 52ms/step - loss: 0.2623 - accuracy: 0.9298 - val_loss: 0.2307 - val_accuracy: 0.9679\n",
            "Epoch 28/100\n",
            "11/11 [==============================] - 1s 52ms/step - loss: 0.3594 - accuracy: 0.8905 - val_loss: 0.2655 - val_accuracy: 0.9643\n",
            "Epoch 29/100\n",
            "11/11 [==============================] - 1s 52ms/step - loss: 0.2621 - accuracy: 0.9167 - val_loss: 0.2675 - val_accuracy: 0.9607\n",
            "Epoch 30/100\n",
            "11/11 [==============================] - 1s 52ms/step - loss: 0.3078 - accuracy: 0.9071 - val_loss: 0.2331 - val_accuracy: 0.9679\n",
            "Epoch 31/100\n",
            "11/11 [==============================] - 1s 52ms/step - loss: 0.2658 - accuracy: 0.9179 - val_loss: 0.1970 - val_accuracy: 0.9750\n",
            "Epoch 32/100\n",
            "11/11 [==============================] - 1s 53ms/step - loss: 0.2105 - accuracy: 0.9310 - val_loss: 0.2208 - val_accuracy: 0.9607\n",
            "Epoch 33/100\n",
            "11/11 [==============================] - 1s 53ms/step - loss: 0.2409 - accuracy: 0.9238 - val_loss: 0.1754 - val_accuracy: 0.9750\n",
            "Epoch 34/100\n",
            "11/11 [==============================] - 1s 53ms/step - loss: 0.2234 - accuracy: 0.9262 - val_loss: 0.1998 - val_accuracy: 0.9607\n",
            "Epoch 35/100\n",
            "11/11 [==============================] - 1s 52ms/step - loss: 0.2257 - accuracy: 0.9357 - val_loss: 0.2068 - val_accuracy: 0.9607\n",
            "Epoch 36/100\n",
            "11/11 [==============================] - 1s 52ms/step - loss: 0.2096 - accuracy: 0.9369 - val_loss: 0.1849 - val_accuracy: 0.9571\n",
            "Epoch 37/100\n",
            "11/11 [==============================] - 1s 53ms/step - loss: 0.2499 - accuracy: 0.9345 - val_loss: 0.1889 - val_accuracy: 0.9714\n",
            "Epoch 38/100\n",
            "11/11 [==============================] - 1s 52ms/step - loss: 0.2265 - accuracy: 0.9298 - val_loss: 0.1769 - val_accuracy: 0.9679\n",
            "Epoch 39/100\n",
            "11/11 [==============================] - 1s 52ms/step - loss: 0.1739 - accuracy: 0.9417 - val_loss: 0.1665 - val_accuracy: 0.9750\n",
            "Epoch 40/100\n",
            "11/11 [==============================] - 1s 52ms/step - loss: 0.1448 - accuracy: 0.9560 - val_loss: 0.1525 - val_accuracy: 0.9679\n",
            "Epoch 41/100\n",
            "11/11 [==============================] - 1s 52ms/step - loss: 0.2161 - accuracy: 0.9381 - val_loss: 0.1677 - val_accuracy: 0.9643\n",
            "Epoch 42/100\n",
            "11/11 [==============================] - 1s 52ms/step - loss: 0.2058 - accuracy: 0.9417 - val_loss: 0.1954 - val_accuracy: 0.9679\n",
            "Epoch 43/100\n",
            "11/11 [==============================] - 1s 53ms/step - loss: 0.1972 - accuracy: 0.9381 - val_loss: 0.1976 - val_accuracy: 0.9643\n",
            "Epoch 44/100\n",
            "11/11 [==============================] - 1s 52ms/step - loss: 0.2135 - accuracy: 0.9321 - val_loss: 0.1892 - val_accuracy: 0.9571\n",
            "Epoch 45/100\n",
            "11/11 [==============================] - 1s 53ms/step - loss: 0.1973 - accuracy: 0.9369 - val_loss: 0.1819 - val_accuracy: 0.9607\n",
            "Epoch 46/100\n",
            "11/11 [==============================] - 1s 53ms/step - loss: 0.1664 - accuracy: 0.9440 - val_loss: 0.1609 - val_accuracy: 0.9607\n",
            "Epoch 47/100\n",
            "11/11 [==============================] - 1s 53ms/step - loss: 0.1869 - accuracy: 0.9405 - val_loss: 0.1570 - val_accuracy: 0.9571\n",
            "Epoch 48/100\n",
            "11/11 [==============================] - 1s 53ms/step - loss: 0.1572 - accuracy: 0.9512 - val_loss: 0.1418 - val_accuracy: 0.9607\n",
            "Epoch 49/100\n",
            "11/11 [==============================] - 1s 52ms/step - loss: 0.1289 - accuracy: 0.9524 - val_loss: 0.1927 - val_accuracy: 0.9571\n",
            "Epoch 50/100\n",
            "11/11 [==============================] - 1s 52ms/step - loss: 0.1745 - accuracy: 0.9500 - val_loss: 0.1480 - val_accuracy: 0.9679\n",
            "Epoch 51/100\n",
            "11/11 [==============================] - 1s 52ms/step - loss: 0.1933 - accuracy: 0.9488 - val_loss: 0.1415 - val_accuracy: 0.9714\n",
            "Epoch 52/100\n",
            "11/11 [==============================] - 1s 53ms/step - loss: 0.1382 - accuracy: 0.9571 - val_loss: 0.1206 - val_accuracy: 0.9786\n",
            "Epoch 53/100\n",
            "11/11 [==============================] - 1s 52ms/step - loss: 0.1440 - accuracy: 0.9500 - val_loss: 0.1415 - val_accuracy: 0.9643\n",
            "Epoch 54/100\n",
            "11/11 [==============================] - 1s 53ms/step - loss: 0.1884 - accuracy: 0.9429 - val_loss: 0.1270 - val_accuracy: 0.9643\n",
            "Epoch 55/100\n",
            "11/11 [==============================] - 1s 52ms/step - loss: 0.1584 - accuracy: 0.9512 - val_loss: 0.1505 - val_accuracy: 0.9643\n",
            "Epoch 56/100\n",
            "11/11 [==============================] - 1s 52ms/step - loss: 0.1282 - accuracy: 0.9607 - val_loss: 0.1500 - val_accuracy: 0.9643\n",
            "Epoch 57/100\n",
            "11/11 [==============================] - 1s 52ms/step - loss: 0.1749 - accuracy: 0.9429 - val_loss: 0.1634 - val_accuracy: 0.9679\n",
            "Epoch 58/100\n",
            "11/11 [==============================] - 1s 53ms/step - loss: 0.1593 - accuracy: 0.9417 - val_loss: 0.1429 - val_accuracy: 0.9750\n",
            "Epoch 59/100\n",
            "11/11 [==============================] - 1s 52ms/step - loss: 0.1480 - accuracy: 0.9524 - val_loss: 0.1306 - val_accuracy: 0.9679\n",
            "Epoch 60/100\n",
            "11/11 [==============================] - 1s 53ms/step - loss: 0.1322 - accuracy: 0.9524 - val_loss: 0.1204 - val_accuracy: 0.9679\n",
            "Epoch 61/100\n",
            "11/11 [==============================] - 1s 53ms/step - loss: 0.0925 - accuracy: 0.9690 - val_loss: 0.1366 - val_accuracy: 0.9643\n",
            "Epoch 62/100\n",
            "11/11 [==============================] - 1s 52ms/step - loss: 0.1124 - accuracy: 0.9583 - val_loss: 0.1315 - val_accuracy: 0.9643\n",
            "Epoch 63/100\n",
            "11/11 [==============================] - 1s 53ms/step - loss: 0.1288 - accuracy: 0.9643 - val_loss: 0.1301 - val_accuracy: 0.9679\n",
            "Epoch 64/100\n",
            "11/11 [==============================] - 1s 53ms/step - loss: 0.0929 - accuracy: 0.9690 - val_loss: 0.1289 - val_accuracy: 0.9714\n",
            "Epoch 65/100\n",
            "11/11 [==============================] - 1s 52ms/step - loss: 0.1346 - accuracy: 0.9619 - val_loss: 0.1268 - val_accuracy: 0.9643\n",
            "Epoch 66/100\n",
            "11/11 [==============================] - 1s 52ms/step - loss: 0.0915 - accuracy: 0.9679 - val_loss: 0.1189 - val_accuracy: 0.9714\n",
            "Epoch 67/100\n",
            "11/11 [==============================] - 1s 52ms/step - loss: 0.0859 - accuracy: 0.9714 - val_loss: 0.1399 - val_accuracy: 0.9536\n",
            "Epoch 68/100\n",
            "11/11 [==============================] - 1s 52ms/step - loss: 0.1541 - accuracy: 0.9512 - val_loss: 0.1204 - val_accuracy: 0.9679\n",
            "Epoch 69/100\n",
            "11/11 [==============================] - 1s 53ms/step - loss: 0.1702 - accuracy: 0.9488 - val_loss: 0.1314 - val_accuracy: 0.9714\n",
            "Epoch 70/100\n",
            "11/11 [==============================] - 1s 52ms/step - loss: 0.1393 - accuracy: 0.9595 - val_loss: 0.1577 - val_accuracy: 0.9643\n",
            "Epoch 71/100\n",
            "11/11 [==============================] - 1s 52ms/step - loss: 0.1070 - accuracy: 0.9667 - val_loss: 0.1280 - val_accuracy: 0.9679\n",
            "Epoch 72/100\n",
            "11/11 [==============================] - 1s 52ms/step - loss: 0.1080 - accuracy: 0.9738 - val_loss: 0.1146 - val_accuracy: 0.9679\n",
            "Epoch 73/100\n",
            "11/11 [==============================] - 1s 53ms/step - loss: 0.1397 - accuracy: 0.9655 - val_loss: 0.0935 - val_accuracy: 0.9750\n",
            "Epoch 74/100\n",
            "11/11 [==============================] - 1s 53ms/step - loss: 0.0976 - accuracy: 0.9655 - val_loss: 0.1297 - val_accuracy: 0.9607\n",
            "Epoch 75/100\n",
            "11/11 [==============================] - 1s 53ms/step - loss: 0.1040 - accuracy: 0.9643 - val_loss: 0.1038 - val_accuracy: 0.9643\n",
            "Epoch 76/100\n",
            "11/11 [==============================] - 1s 52ms/step - loss: 0.1258 - accuracy: 0.9560 - val_loss: 0.0891 - val_accuracy: 0.9750\n",
            "Epoch 77/100\n",
            "11/11 [==============================] - 1s 53ms/step - loss: 0.1156 - accuracy: 0.9655 - val_loss: 0.0815 - val_accuracy: 0.9857\n",
            "Epoch 78/100\n",
            "11/11 [==============================] - 1s 53ms/step - loss: 0.1014 - accuracy: 0.9690 - val_loss: 0.0966 - val_accuracy: 0.9821\n",
            "Epoch 79/100\n",
            "11/11 [==============================] - 1s 52ms/step - loss: 0.1279 - accuracy: 0.9655 - val_loss: 0.1064 - val_accuracy: 0.9750\n",
            "Epoch 80/100\n",
            "11/11 [==============================] - 1s 52ms/step - loss: 0.0903 - accuracy: 0.9667 - val_loss: 0.1407 - val_accuracy: 0.9714\n",
            "Epoch 81/100\n",
            "11/11 [==============================] - 1s 52ms/step - loss: 0.1267 - accuracy: 0.9571 - val_loss: 0.1136 - val_accuracy: 0.9750\n",
            "Epoch 82/100\n",
            "11/11 [==============================] - 1s 52ms/step - loss: 0.0806 - accuracy: 0.9702 - val_loss: 0.0697 - val_accuracy: 0.9929\n",
            "Epoch 83/100\n",
            "11/11 [==============================] - 1s 52ms/step - loss: 0.1402 - accuracy: 0.9667 - val_loss: 0.0840 - val_accuracy: 0.9857\n",
            "Epoch 84/100\n",
            "11/11 [==============================] - 1s 53ms/step - loss: 0.1028 - accuracy: 0.9655 - val_loss: 0.0832 - val_accuracy: 0.9679\n",
            "Epoch 85/100\n",
            "11/11 [==============================] - 1s 52ms/step - loss: 0.1165 - accuracy: 0.9679 - val_loss: 0.0790 - val_accuracy: 0.9893\n",
            "Epoch 86/100\n",
            "11/11 [==============================] - 1s 52ms/step - loss: 0.1052 - accuracy: 0.9643 - val_loss: 0.1023 - val_accuracy: 0.9750\n",
            "Epoch 87/100\n",
            "11/11 [==============================] - 1s 53ms/step - loss: 0.0907 - accuracy: 0.9643 - val_loss: 0.1316 - val_accuracy: 0.9607\n",
            "Epoch 88/100\n",
            "11/11 [==============================] - 1s 52ms/step - loss: 0.0954 - accuracy: 0.9631 - val_loss: 0.0752 - val_accuracy: 0.9750\n",
            "Epoch 89/100\n",
            "11/11 [==============================] - 1s 52ms/step - loss: 0.0985 - accuracy: 0.9738 - val_loss: 0.1140 - val_accuracy: 0.9750\n",
            "Epoch 90/100\n",
            "11/11 [==============================] - 1s 53ms/step - loss: 0.0938 - accuracy: 0.9679 - val_loss: 0.0952 - val_accuracy: 0.9821\n",
            "Epoch 91/100\n",
            "11/11 [==============================] - 1s 52ms/step - loss: 0.0881 - accuracy: 0.9702 - val_loss: 0.1333 - val_accuracy: 0.9607\n",
            "Epoch 92/100\n",
            "11/11 [==============================] - 1s 53ms/step - loss: 0.1070 - accuracy: 0.9667 - val_loss: 0.0873 - val_accuracy: 0.9750\n",
            "Epoch 93/100\n",
            "11/11 [==============================] - 1s 52ms/step - loss: 0.0921 - accuracy: 0.9690 - val_loss: 0.0701 - val_accuracy: 0.9857\n",
            "Epoch 94/100\n",
            "11/11 [==============================] - 1s 53ms/step - loss: 0.0727 - accuracy: 0.9679 - val_loss: 0.0862 - val_accuracy: 0.9786\n",
            "Epoch 95/100\n",
            "11/11 [==============================] - 1s 53ms/step - loss: 0.0718 - accuracy: 0.9738 - val_loss: 0.1149 - val_accuracy: 0.9679\n",
            "Epoch 96/100\n",
            "11/11 [==============================] - 1s 52ms/step - loss: 0.0850 - accuracy: 0.9738 - val_loss: 0.0865 - val_accuracy: 0.9821\n",
            "Epoch 97/100\n",
            "11/11 [==============================] - 1s 52ms/step - loss: 0.1118 - accuracy: 0.9667 - val_loss: 0.0861 - val_accuracy: 0.9714\n",
            "Epoch 98/100\n",
            "11/11 [==============================] - 1s 52ms/step - loss: 0.1251 - accuracy: 0.9548 - val_loss: 0.1572 - val_accuracy: 0.9643\n",
            "Epoch 99/100\n",
            "11/11 [==============================] - 1s 53ms/step - loss: 0.1019 - accuracy: 0.9679 - val_loss: 0.1099 - val_accuracy: 0.9750\n",
            "Epoch 100/100\n",
            "11/11 [==============================] - 1s 52ms/step - loss: 0.1317 - accuracy: 0.9560 - val_loss: 0.1217 - val_accuracy: 0.9679\n"
          ]
        }
      ]
    },
    {
      "cell_type": "markdown",
      "metadata": {
        "id": "y_i70WoqTAxI"
      },
      "source": [
        "## Evaluate and predict test set"
      ],
      "id": "y_i70WoqTAxI"
    },
    {
      "cell_type": "code",
      "metadata": {
        "colab": {
          "base_uri": "https://localhost:8080/"
        },
        "id": "ZQ4n8wAmB9ZX",
        "outputId": "afd3b264-4cd7-4240-938f-c8de7517233b"
      },
      "source": [
        "# Evaluate model\n",
        "print(f'Test Accuracy: {model_cnn.evaluate(X_test[:,:,:,None],y_test,verbose=0)[1]}')"
      ],
      "id": "ZQ4n8wAmB9ZX",
      "execution_count": 13,
      "outputs": [
        {
          "output_type": "stream",
          "name": "stdout",
          "text": [
            "Test Accuracy: 0.9678571224212646\n"
          ]
        }
      ]
    },
    {
      "cell_type": "code",
      "metadata": {
        "id": "F62fEQaGFMqs",
        "colab": {
          "base_uri": "https://localhost:8080/",
          "height": 313
        },
        "outputId": "6abe34bc-d137-440e-ac98-297f794c082c"
      },
      "source": [
        "# Learning curve\n",
        "# plot the accuracy and loss plots between training and validation data\n",
        "# verify overfitting or underfit \n",
        "acc = history.history['accuracy']\n",
        "val_acc = history.history['val_accuracy']\n",
        "loss = history.history['loss']\n",
        "val_loss = history.history['val_loss']\n",
        "x = range(1,len(acc)+1)\n",
        "\n",
        "plt.plot(x,loss,'b',label='Training loss')\n",
        "plt.plot(x,val_loss,'r',label='Validation loss')\n",
        "plt.title('Training and validation loss')\n",
        "plt.xlabel('epochs')\n",
        "plt.ylabel('loss')\n",
        "plt.legend()"
      ],
      "id": "F62fEQaGFMqs",
      "execution_count": 14,
      "outputs": [
        {
          "output_type": "execute_result",
          "data": {
            "text/plain": [
              "<matplotlib.legend.Legend at 0x7f8c8f0636d0>"
            ]
          },
          "metadata": {},
          "execution_count": 14
        },
        {
          "output_type": "display_data",
          "data": {
            "image/png": "[encoded data removed]",
            "text/plain": [
              "<Figure size 432x288 with 1 Axes>"
            ]
          },
          "metadata": {
            "needs_background": "light"
          }
        }
      ]
    },
    {
      "cell_type": "code",
      "metadata": {
        "id": "wFbKdWsMkDuw",
        "colab": {
          "base_uri": "https://localhost:8080/"
        },
        "outputId": "f43f96a8-ba1d-401a-ab25-af3edbfdd5ae"
      },
      "source": [
        "# classification report\n",
        "predicted_classes = np.argmax(np.round(model_cnn.predict(X_test[:,:,:,None])),axis=1)\n",
        "correct = np.where(predicted_classes==y_test)[0]\n",
        "target_names = [f\"Class {label}\" for label in range(len(np.unique(df['label'])))]\n",
        "\n",
        "print(f\"From {len(y_test)} labels're founding {len(correct)} correct labels.\")\n",
        "print(f'Accuracy: {len(correct)/len(y_test)}')\n",
        "print('')\n",
        "print(classification_report(y_test, predicted_classes, target_names=target_names))"
      ],
      "id": "wFbKdWsMkDuw",
      "execution_count": 15,
      "outputs": [
        {
          "output_type": "stream",
          "name": "stdout",
          "text": [
            "From 280 labels're founding 268 correct labels.\n",
            "Accuracy: 0.9571428571428572\n",
            "\n",
            "              precision    recall  f1-score   support\n",
            "\n",
            "     Class 0       0.33      1.00      0.50         5\n",
            "     Class 1       1.00      1.00      1.00         5\n",
            "     Class 2       1.00      1.00      1.00         5\n",
            "     Class 3       1.00      1.00      1.00         5\n",
            "     Class 4       1.00      1.00      1.00         5\n",
            "     Class 5       1.00      1.00      1.00         5\n",
            "     Class 6       1.00      1.00      1.00         5\n",
            "     Class 7       0.83      1.00      0.91         5\n",
            "     Class 8       1.00      1.00      1.00         5\n",
            "     Class 9       1.00      1.00      1.00         5\n",
            "    Class 10       1.00      0.60      0.75         5\n",
            "    Class 11       1.00      1.00      1.00         5\n",
            "    Class 12       1.00      1.00      1.00         5\n",
            "    Class 13       1.00      1.00      1.00         5\n",
            "    Class 14       1.00      1.00      1.00         5\n",
            "    Class 15       1.00      0.80      0.89         5\n",
            "    Class 16       1.00      0.80      0.89         5\n",
            "    Class 17       1.00      0.80      0.89         5\n",
            "    Class 18       1.00      1.00      1.00         5\n",
            "    Class 19       1.00      1.00      1.00         5\n",
            "    Class 20       1.00      1.00      1.00         5\n",
            "    Class 21       1.00      1.00      1.00         5\n",
            "    Class 22       1.00      1.00      1.00         5\n",
            "    Class 23       1.00      0.80      0.89         5\n",
            "    Class 24       1.00      1.00      1.00         5\n",
            "    Class 25       1.00      1.00      1.00         5\n",
            "    Class 26       1.00      1.00      1.00         5\n",
            "    Class 27       1.00      1.00      1.00         5\n",
            "    Class 28       1.00      1.00      1.00         5\n",
            "    Class 29       1.00      1.00      1.00         5\n",
            "    Class 30       1.00      1.00      1.00         5\n",
            "    Class 31       1.00      0.80      0.89         5\n",
            "    Class 32       1.00      1.00      1.00         5\n",
            "    Class 33       1.00      0.60      0.75         5\n",
            "    Class 34       1.00      1.00      1.00         5\n",
            "    Class 35       1.00      1.00      1.00         5\n",
            "    Class 36       1.00      1.00      1.00         5\n",
            "    Class 37       0.83      1.00      0.91         5\n",
            "    Class 38       1.00      0.80      0.89         5\n",
            "    Class 39       1.00      1.00      1.00         5\n",
            "    Class 40       1.00      1.00      1.00         5\n",
            "    Class 41       1.00      1.00      1.00         5\n",
            "    Class 42       1.00      1.00      1.00         5\n",
            "    Class 43       1.00      1.00      1.00         5\n",
            "    Class 44       1.00      1.00      1.00         5\n",
            "    Class 45       1.00      1.00      1.00         5\n",
            "    Class 46       1.00      1.00      1.00         5\n",
            "    Class 47       1.00      1.00      1.00         5\n",
            "    Class 48       1.00      0.80      0.89         5\n",
            "    Class 49       1.00      1.00      1.00         5\n",
            "    Class 50       1.00      0.80      0.89         5\n",
            "    Class 51       1.00      1.00      1.00         5\n",
            "    Class 52       1.00      1.00      1.00         5\n",
            "    Class 53       1.00      1.00      1.00         5\n",
            "    Class 54       1.00      1.00      1.00         5\n",
            "    Class 55       1.00      1.00      1.00         5\n",
            "\n",
            "    accuracy                           0.96       280\n",
            "   macro avg       0.98      0.96      0.96       280\n",
            "weighted avg       0.98      0.96      0.96       280\n",
            "\n"
          ]
        }
      ]
    }
  ]
}