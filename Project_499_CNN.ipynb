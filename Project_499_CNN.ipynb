{
  "nbformat": 4,
  "nbformat_minor": 5,
  "metadata": {
    "colab": {
      "name": "Project_499_CNN.ipynb",
      "provenance": [],
      "collapsed_sections": [],
      "machine_shape": "hm",
      "include_colab_link": true
    },
    "kernelspec": {
      "display_name": "Python 3",
      "language": "python",
      "name": "python3"
    },
    "language_info": {
      "codemirror_mode": {
        "name": "ipython",
        "version": 3
      },
      "file_extension": ".py",
      "mimetype": "text/x-python",
      "name": "python",
      "nbconvert_exporter": "python",
      "pygments_lexer": "ipython3",
      "version": "3.8.8"
    },
    "accelerator": "GPU"
  },
  "cells": [
    {
      "cell_type": "markdown",
      "metadata": {
        "id": "view-in-github",
        "colab_type": "text"
      },
      "source": [
        "<a href=\"https://colab.research.google.com/github/NongNNew/Project_499/blob/main/Project_499_CNN.ipynb\" target=\"_parent\"><img src=\"https://colab.research.google.com/assets/colab-badge.svg\" alt=\"Open In Colab\"/></a>"
      ]
    },
    {
      "cell_type": "markdown",
      "metadata": {
        "id": "hW4AHGmEVrk8"
      },
      "source": [
        "# CNN"
      ],
      "id": "hW4AHGmEVrk8"
    },
    {
      "cell_type": "code",
      "metadata": {
        "colab": {
          "base_uri": "https://localhost:8080/"
        },
        "id": "gJVdtdww87RO",
        "outputId": "b19acb2f-2ae9-47e9-d88e-e43f3bafbf58"
      },
      "source": [
        "# Upload audio files from github\n",
        "!git clone https://github.com/NongNNew/Project_499.git"
      ],
      "id": "gJVdtdww87RO",
      "execution_count": 13,
      "outputs": [
        {
          "output_type": "stream",
          "text": [
            "fatal: destination path 'Project_499' already exists and is not an empty directory.\n"
          ],
          "name": "stdout"
        }
      ]
    },
    {
      "cell_type": "code",
      "metadata": {
        "id": "EHnDUT5YejVV"
      },
      "source": [
        "# Name of vegetables and fruits 52 types of 56 classes\n",
        "fruit_veget = ['กระชาย','กระท้อน','กระเทียม1','กระเทียม2','กระเพรา','กล้วยน้ำว้า','กล้วยหอม',\n",
        "               'ข้าวโพด','ไข่น้ำ',\n",
        "               'ตะขบไทย','ตะไคร้',\n",
        "               'ถั่วฝักยาว','ถั่วลันเตา','ถั่วลิสง',\n",
        "               'ทับทิม',\n",
        "               'น้อยหน่า','น้ำเต้า',\n",
        "               'ผักกระเฉด','ผักกุยช่าย','ผักขึ้นช่าย','ผักชะอม','ผักชี','ผักชีฝรั่ง','ผักตำลึง',\n",
        "               'มะปราง','มะพลับ','มะละกอ','มะกรูด','มะเขือพวง','มะเขือเทศ','มะระ','มะรุม','มะตูม','มันแกว1','มันแกว2','มันเทศ','มันฝรั่ง','มันสำปะหลัง',\n",
        "               'บวบ','ใบชะพลู1','ใบชะพลู2','ใบบัวบก','ใบแมงลัก','ใบยอ',\n",
        "               'พริกขี้หนู','พริกสด','พุทรา','เพกา',\n",
        "               'ฝรั่ง',\n",
        "               'ฟัก','ฟักทอง',\n",
        "               'สับปะรด','สะเดา','สะระแหน่',\n",
        "               'หัวหอม1','หัวหอม2']\n",
        "\n",
        "# Audio data source\n",
        "source = {'audio_time':[],\n",
        "          'sampling_rate':[],\n",
        "          'feature_extraction':[],\n",
        "          'label':[],\n",
        "          'description':[]}"
      ],
      "id": "EHnDUT5YejVV",
      "execution_count": 14,
      "outputs": []
    },
    {
      "cell_type": "code",
      "metadata": {
        "colab": {
          "base_uri": "https://localhost:8080/"
        },
        "id": "_XRqKtGBeW_1",
        "outputId": "53a7bcab-5629-4c1e-91aa-7af9e4319b65"
      },
      "source": [
        "!pip install python_speech_features\n",
        "import python_speech_features\n",
        "from scipy.signal.windows import hamming\n",
        "\n",
        "def feature_mfcc(y,sr):\n",
        "    return (python_speech_features.mfcc(signal=y, \n",
        "                                    samplerate=sr, \n",
        "                                    winlen= 512/sr, \n",
        "                                    winstep= 160/sr,\n",
        "                                    numcep= 13,\n",
        "                                    nfilt= 40, \n",
        "                                    nfft= 512,\n",
        "                                    lowfreq= 0,\n",
        "                                    highfreq= None,\n",
        "                                    preemph= 0.97, \n",
        "                                    ceplifter= 0,\n",
        "                                    winfunc= hamming))"
      ],
      "id": "_XRqKtGBeW_1",
      "execution_count": 15,
      "outputs": [
        {
          "output_type": "stream",
          "text": [
            "Requirement already satisfied: python_speech_features in /usr/local/lib/python3.7/dist-packages (0.6)\n"
          ],
          "name": "stdout"
        }
      ]
    },
    {
      "cell_type": "code",
      "metadata": {
        "id": "tixApnAUy5tv"
      },
      "source": [
        "import pandas as pd\n",
        "from glob import glob\n",
        "import librosa\n",
        "\n",
        "for types in fruit_veget:\n",
        "    audio_files = glob('/content/Project_499/Record_audio/' + str(types) + '/*.wav')\n",
        "\n",
        "    for audio in audio_files:\n",
        "        y,sr = librosa.load(audio,duration=5,offset=0)\n",
        "        source['description'].append(str(types))\n",
        "        source['audio_time'].append(y)\n",
        "        source['sampling_rate'].append(sr)\n",
        "        source['feature_extraction'].append(feature_mfcc(y,sr))\n",
        "        source['label'].append(fruit_veget.index(types))"
      ],
      "id": "tixApnAUy5tv",
      "execution_count": 16,
      "outputs": []
    },
    {
      "cell_type": "code",
      "metadata": {
        "colab": {
          "base_uri": "https://localhost:8080/",
          "height": 417
        },
        "id": "8B6cSV4Ckude",
        "outputId": "54ae7db2-9318-466a-e25d-067e4c02f459"
      },
      "source": [
        "# tranform dictionary to dataframe \n",
        "df = pd.DataFrame.from_dict(source)\n",
        "df"
      ],
      "id": "8B6cSV4Ckude",
      "execution_count": 17,
      "outputs": [
        {
          "output_type": "execute_result",
          "data": {
            "text/html": [
              "<div>\n",
              "<style scoped>\n",
              "    .dataframe tbody tr th:only-of-type {\n",
              "        vertical-align: middle;\n",
              "    }\n",
              "\n",
              "    .dataframe tbody tr th {\n",
              "        vertical-align: top;\n",
              "    }\n",
              "\n",
              "    .dataframe thead th {\n",
              "        text-align: right;\n",
              "    }\n",
              "</style>\n",
              "<table border=\"1\" class=\"dataframe\">\n",
              "  <thead>\n",
              "    <tr style=\"text-align: right;\">\n",
              "      <th></th>\n",
              "      <th>audio_time</th>\n",
              "      <th>sampling_rate</th>\n",
              "      <th>feature_extraction</th>\n",
              "      <th>label</th>\n",
              "      <th>description</th>\n",
              "    </tr>\n",
              "  </thead>\n",
              "  <tbody>\n",
              "    <tr>\n",
              "      <th>0</th>\n",
              "      <td>[0.0004119873, 0.00061035156, 0.0005340576, 0....</td>\n",
              "      <td>22050</td>\n",
              "      <td>[[-14.031458292064183, -9.71991818216831, 3.08...</td>\n",
              "      <td>0</td>\n",
              "      <td>กระชาย</td>\n",
              "    </tr>\n",
              "    <tr>\n",
              "      <th>1</th>\n",
              "      <td>[1.5258789e-05, -3.0517578e-05, 4.5776367e-05,...</td>\n",
              "      <td>22050</td>\n",
              "      <td>[[-13.895163210723114, -10.534242113550562, 0....</td>\n",
              "      <td>0</td>\n",
              "      <td>กระชาย</td>\n",
              "    </tr>\n",
              "    <tr>\n",
              "      <th>2</th>\n",
              "      <td>[-0.00010681152, -0.00010681152, -0.0001525878...</td>\n",
              "      <td>22050</td>\n",
              "      <td>[[-14.047682378884087, -10.559749338871004, 1....</td>\n",
              "      <td>0</td>\n",
              "      <td>กระชาย</td>\n",
              "    </tr>\n",
              "    <tr>\n",
              "      <th>3</th>\n",
              "      <td>[-0.00012207031, -0.00018310547, -6.1035156e-0...</td>\n",
              "      <td>22050</td>\n",
              "      <td>[[-13.937838344743476, -10.52677763983171, 0.7...</td>\n",
              "      <td>0</td>\n",
              "      <td>กระชาย</td>\n",
              "    </tr>\n",
              "    <tr>\n",
              "      <th>4</th>\n",
              "      <td>[-1.5258789e-05, 1.5258789e-05, -1.5258789e-05...</td>\n",
              "      <td>22050</td>\n",
              "      <td>[[-13.834222688815137, -11.278032760622157, -1...</td>\n",
              "      <td>0</td>\n",
              "      <td>กระชาย</td>\n",
              "    </tr>\n",
              "    <tr>\n",
              "      <th>...</th>\n",
              "      <td>...</td>\n",
              "      <td>...</td>\n",
              "      <td>...</td>\n",
              "      <td>...</td>\n",
              "      <td>...</td>\n",
              "    </tr>\n",
              "    <tr>\n",
              "      <th>1115</th>\n",
              "      <td>[-0.00021362305, -0.00019836426, -0.0001678466...</td>\n",
              "      <td>22050</td>\n",
              "      <td>[[-13.600642153773194, -15.096089567076714, -0...</td>\n",
              "      <td>55</td>\n",
              "      <td>หัวหอม2</td>\n",
              "    </tr>\n",
              "    <tr>\n",
              "      <th>1116</th>\n",
              "      <td>[-7.6293945e-05, -9.1552734e-05, 0.0, 1.525878...</td>\n",
              "      <td>22050</td>\n",
              "      <td>[[-13.93405270581039, -11.744337964457122, 1.2...</td>\n",
              "      <td>55</td>\n",
              "      <td>หัวหอม2</td>\n",
              "    </tr>\n",
              "    <tr>\n",
              "      <th>1117</th>\n",
              "      <td>[-7.6293945e-05, -3.0517578e-05, 4.5776367e-05...</td>\n",
              "      <td>22050</td>\n",
              "      <td>[[-14.064456461828245, -10.13023715669734, 2.2...</td>\n",
              "      <td>55</td>\n",
              "      <td>หัวหอม2</td>\n",
              "    </tr>\n",
              "    <tr>\n",
              "      <th>1118</th>\n",
              "      <td>[1.5258789e-05, -4.5776367e-05, 4.5776367e-05,...</td>\n",
              "      <td>22050</td>\n",
              "      <td>[[-13.862199697176345, -10.033334893928362, 0....</td>\n",
              "      <td>55</td>\n",
              "      <td>หัวหอม2</td>\n",
              "    </tr>\n",
              "    <tr>\n",
              "      <th>1119</th>\n",
              "      <td>[1.5258789e-05, -3.0517578e-05, 3.0517578e-05,...</td>\n",
              "      <td>22050</td>\n",
              "      <td>[[-14.084828314988476, -10.714037501901071, -1...</td>\n",
              "      <td>55</td>\n",
              "      <td>หัวหอม2</td>\n",
              "    </tr>\n",
              "  </tbody>\n",
              "</table>\n",
              "<p>1120 rows × 5 columns</p>\n",
              "</div>"
            ],
            "text/plain": [
              "                                             audio_time  ...  description\n",
              "0     [0.0004119873, 0.00061035156, 0.0005340576, 0....  ...       กระชาย\n",
              "1     [1.5258789e-05, -3.0517578e-05, 4.5776367e-05,...  ...       กระชาย\n",
              "2     [-0.00010681152, -0.00010681152, -0.0001525878...  ...       กระชาย\n",
              "3     [-0.00012207031, -0.00018310547, -6.1035156e-0...  ...       กระชาย\n",
              "4     [-1.5258789e-05, 1.5258789e-05, -1.5258789e-05...  ...       กระชาย\n",
              "...                                                 ...  ...          ...\n",
              "1115  [-0.00021362305, -0.00019836426, -0.0001678466...  ...      หัวหอม2\n",
              "1116  [-7.6293945e-05, -9.1552734e-05, 0.0, 1.525878...  ...      หัวหอม2\n",
              "1117  [-7.6293945e-05, -3.0517578e-05, 4.5776367e-05...  ...      หัวหอม2\n",
              "1118  [1.5258789e-05, -4.5776367e-05, 4.5776367e-05,...  ...      หัวหอม2\n",
              "1119  [1.5258789e-05, -3.0517578e-05, 3.0517578e-05,...  ...      หัวหอม2\n",
              "\n",
              "[1120 rows x 5 columns]"
            ]
          },
          "metadata": {},
          "execution_count": 17
        }
      ]
    },
    {
      "cell_type": "code",
      "metadata": {
        "id": "T7yzW3hnmuyB"
      },
      "source": [
        "# Prepare data \n",
        "import numpy as np\n",
        "import pandas as pd\n",
        "\n",
        "\n",
        "Test = pd.DataFrame(columns=source.keys())\n",
        "Validation = pd.DataFrame(columns=source.keys())\n",
        "\n",
        "# Create test data\n",
        "for description in np.unique(df['description']):\n",
        "    imp_test = df[df['description']==description].sample(3,random_state=1)\n",
        "    Test = pd.concat([Test,imp_test], axis=0)\n",
        "\n",
        "# Create train and validation data\n",
        "Train = df.drop(Test.index)\n",
        "for description in np.unique(Train['description']):\n",
        "    imp_val = Train[Train['description']==description].sample(3,random_state=1)\n",
        "    Validation = pd.concat([Validation,imp_val], axis=0)\n",
        "Train = Train.drop(Validation.index)\n",
        "\n",
        "X_train = np.array(Train['feature_extraction'].to_list())\n",
        "X_valid = np.array(Validation['feature_extraction'].to_list())\n",
        "X_test = np.array(Test['feature_extraction'].to_list())\n",
        "y_train = np.array(Train['label'].to_list())\n",
        "y_valid = np.array(Validation['label'].to_list())\n",
        "y_test = np.array(Test['label'].to_list())"
      ],
      "id": "T7yzW3hnmuyB",
      "execution_count": 18,
      "outputs": []
    },
    {
      "cell_type": "code",
      "metadata": {
        "colab": {
          "base_uri": "https://localhost:8080/"
        },
        "id": "mSV3u9RmEU7h",
        "outputId": "e9183e58-4b91-463e-f29f-9764f20d6440"
      },
      "source": [
        "# Proportion of data\n",
        "y_train.shape, y_test.shape, y_valid.shape"
      ],
      "id": "mSV3u9RmEU7h",
      "execution_count": 19,
      "outputs": [
        {
          "output_type": "execute_result",
          "data": {
            "text/plain": [
              "((784,), (168,), (168,))"
            ]
          },
          "metadata": {},
          "execution_count": 19
        }
      ]
    },
    {
      "cell_type": "code",
      "metadata": {
        "id": "77wMVqve6W8f",
        "colab": {
          "base_uri": "https://localhost:8080/"
        },
        "outputId": "1891bf54-b0ae-4243-eaf0-95e70c0669f4"
      },
      "source": [
        "import tensorflow as tf\n",
        "from tensorflow import keras \n",
        "\n",
        "np.random.seed(1)\n",
        "tf.random.set_seed(1)\n",
        "\n",
        "# Create model\n",
        "# Convolutional Neural Networks\n",
        "model = keras.Sequential()\n",
        "model.add(keras.layers.Conv2D(128, 5, input_shape=(X_train.shape[1], X_train.shape[2], 1), activation='relu'))\n",
        "model.add(keras.layers.Dropout(0.25))\n",
        "model.add(keras.layers.MaxPool2D())\n",
        "model.add(keras.layers.Conv2D(64, 5, activation='relu',padding='same'))\n",
        "model.add(keras.layers.Dropout(0.25))\n",
        "model.add(keras.layers.MaxPool2D())\n",
        "model.add(keras.layers.Conv2D(128, 5, activation='relu',padding='same'))\n",
        "model.add(keras.layers.Dropout(0.25))\n",
        "model.add(keras.layers.MaxPool2D())\n",
        "model.add(keras.layers.Flatten())\n",
        "model.add(keras.layers.Dense(128, activation='relu'))\n",
        "model.add(keras.layers.Dropout(0.25))\n",
        "model.add(keras.layers.Dense(64, activation='relu'))\n",
        "model.add(keras.layers.Dropout(0.25))\n",
        "model.add(keras.layers.Dense(len(np.unique(df['label'])), activation='softmax'))\n",
        "model.compile(optimizer='adam', loss='sparse_categorical_crossentropy', metrics=['accuracy'])\n",
        "\n",
        "model.summary()"
      ],
      "id": "77wMVqve6W8f",
      "execution_count": 20,
      "outputs": [
        {
          "output_type": "stream",
          "text": [
            "Model: \"sequential_1\"\n",
            "_________________________________________________________________\n",
            "Layer (type)                 Output Shape              Param #   \n",
            "=================================================================\n",
            "conv2d_3 (Conv2D)            (None, 683, 9, 128)       3328      \n",
            "_________________________________________________________________\n",
            "dropout_5 (Dropout)          (None, 683, 9, 128)       0         \n",
            "_________________________________________________________________\n",
            "max_pooling2d_3 (MaxPooling2 (None, 341, 4, 128)       0         \n",
            "_________________________________________________________________\n",
            "conv2d_4 (Conv2D)            (None, 341, 4, 64)        204864    \n",
            "_________________________________________________________________\n",
            "dropout_6 (Dropout)          (None, 341, 4, 64)        0         \n",
            "_________________________________________________________________\n",
            "max_pooling2d_4 (MaxPooling2 (None, 170, 2, 64)        0         \n",
            "_________________________________________________________________\n",
            "conv2d_5 (Conv2D)            (None, 170, 2, 128)       204928    \n",
            "_________________________________________________________________\n",
            "dropout_7 (Dropout)          (None, 170, 2, 128)       0         \n",
            "_________________________________________________________________\n",
            "max_pooling2d_5 (MaxPooling2 (None, 85, 1, 128)        0         \n",
            "_________________________________________________________________\n",
            "flatten_1 (Flatten)          (None, 10880)             0         \n",
            "_________________________________________________________________\n",
            "dense_3 (Dense)              (None, 128)               1392768   \n",
            "_________________________________________________________________\n",
            "dropout_8 (Dropout)          (None, 128)               0         \n",
            "_________________________________________________________________\n",
            "dense_4 (Dense)              (None, 64)                8256      \n",
            "_________________________________________________________________\n",
            "dropout_9 (Dropout)          (None, 64)                0         \n",
            "_________________________________________________________________\n",
            "dense_5 (Dense)              (None, 56)                3640      \n",
            "=================================================================\n",
            "Total params: 1,817,784\n",
            "Trainable params: 1,817,784\n",
            "Non-trainable params: 0\n",
            "_________________________________________________________________\n"
          ],
          "name": "stdout"
        }
      ]
    },
    {
      "cell_type": "code",
      "metadata": {
        "id": "ngmfDNcnGMC7",
        "colab": {
          "base_uri": "https://localhost:8080/"
        },
        "outputId": "1411c6f9-1971-4f17-edeb-d598a07f4151"
      },
      "source": [
        "# Train model\n",
        "history = model.fit(X_train[:,:,:,None], y_train, epochs=100, validation_data=(X_valid[:,:,:,None],y_valid),batch_size=80)"
      ],
      "id": "ngmfDNcnGMC7",
      "execution_count": 21,
      "outputs": [
        {
          "output_type": "stream",
          "text": [
            "Epoch 1/100\n",
            "10/10 [==============================] - 1s 79ms/step - loss: 4.2432 - accuracy: 0.0153 - val_loss: 4.0232 - val_accuracy: 0.0179\n",
            "Epoch 2/100\n",
            "10/10 [==============================] - 1s 57ms/step - loss: 4.0221 - accuracy: 0.0217 - val_loss: 4.0200 - val_accuracy: 0.0179\n",
            "Epoch 3/100\n",
            "10/10 [==============================] - 1s 58ms/step - loss: 3.9853 - accuracy: 0.0306 - val_loss: 3.9476 - val_accuracy: 0.0774\n",
            "Epoch 4/100\n",
            "10/10 [==============================] - 1s 57ms/step - loss: 3.8775 - accuracy: 0.0472 - val_loss: 3.8101 - val_accuracy: 0.0833\n",
            "Epoch 5/100\n",
            "10/10 [==============================] - 1s 57ms/step - loss: 3.6722 - accuracy: 0.0855 - val_loss: 3.6198 - val_accuracy: 0.1786\n",
            "Epoch 6/100\n",
            "10/10 [==============================] - 1s 57ms/step - loss: 3.5241 - accuracy: 0.1097 - val_loss: 3.4278 - val_accuracy: 0.2381\n",
            "Epoch 7/100\n",
            "10/10 [==============================] - 1s 57ms/step - loss: 3.2097 - accuracy: 0.1607 - val_loss: 3.0503 - val_accuracy: 0.3571\n",
            "Epoch 8/100\n",
            "10/10 [==============================] - 1s 57ms/step - loss: 2.8701 - accuracy: 0.2321 - val_loss: 2.7404 - val_accuracy: 0.4345\n",
            "Epoch 9/100\n",
            "10/10 [==============================] - 1s 57ms/step - loss: 2.5381 - accuracy: 0.2870 - val_loss: 2.4935 - val_accuracy: 0.5417\n",
            "Epoch 10/100\n",
            "10/10 [==============================] - 1s 57ms/step - loss: 2.2918 - accuracy: 0.3686 - val_loss: 2.2157 - val_accuracy: 0.5655\n",
            "Epoch 11/100\n",
            "10/10 [==============================] - 1s 57ms/step - loss: 2.0443 - accuracy: 0.4171 - val_loss: 2.0486 - val_accuracy: 0.7143\n",
            "Epoch 12/100\n",
            "10/10 [==============================] - 1s 57ms/step - loss: 1.7953 - accuracy: 0.4783 - val_loss: 1.7788 - val_accuracy: 0.7440\n",
            "Epoch 13/100\n",
            "10/10 [==============================] - 1s 57ms/step - loss: 1.5656 - accuracy: 0.5230 - val_loss: 1.5270 - val_accuracy: 0.8274\n",
            "Epoch 14/100\n",
            "10/10 [==============================] - 1s 58ms/step - loss: 1.4725 - accuracy: 0.5434 - val_loss: 1.3845 - val_accuracy: 0.8036\n",
            "Epoch 15/100\n",
            "10/10 [==============================] - 1s 57ms/step - loss: 1.3413 - accuracy: 0.5855 - val_loss: 1.3732 - val_accuracy: 0.8274\n",
            "Epoch 16/100\n",
            "10/10 [==============================] - 1s 57ms/step - loss: 1.2082 - accuracy: 0.6429 - val_loss: 1.1188 - val_accuracy: 0.8512\n",
            "Epoch 17/100\n",
            "10/10 [==============================] - 1s 58ms/step - loss: 1.1206 - accuracy: 0.6492 - val_loss: 1.0435 - val_accuracy: 0.8512\n",
            "Epoch 18/100\n",
            "10/10 [==============================] - 1s 57ms/step - loss: 1.0068 - accuracy: 0.6977 - val_loss: 1.0152 - val_accuracy: 0.8690\n",
            "Epoch 19/100\n",
            "10/10 [==============================] - 1s 57ms/step - loss: 0.9975 - accuracy: 0.7079 - val_loss: 1.0470 - val_accuracy: 0.8810\n",
            "Epoch 20/100\n",
            "10/10 [==============================] - 1s 57ms/step - loss: 0.8981 - accuracy: 0.7105 - val_loss: 0.8119 - val_accuracy: 0.8988\n",
            "Epoch 21/100\n",
            "10/10 [==============================] - 1s 57ms/step - loss: 0.8336 - accuracy: 0.7551 - val_loss: 0.7653 - val_accuracy: 0.9226\n",
            "Epoch 22/100\n",
            "10/10 [==============================] - 1s 57ms/step - loss: 0.7992 - accuracy: 0.7755 - val_loss: 0.7734 - val_accuracy: 0.9107\n",
            "Epoch 23/100\n",
            "10/10 [==============================] - 1s 58ms/step - loss: 0.8192 - accuracy: 0.7602 - val_loss: 0.8641 - val_accuracy: 0.9107\n",
            "Epoch 24/100\n",
            "10/10 [==============================] - 1s 57ms/step - loss: 0.8162 - accuracy: 0.7640 - val_loss: 0.7172 - val_accuracy: 0.9107\n",
            "Epoch 25/100\n",
            "10/10 [==============================] - 1s 57ms/step - loss: 0.6934 - accuracy: 0.7806 - val_loss: 0.6686 - val_accuracy: 0.9048\n",
            "Epoch 26/100\n",
            "10/10 [==============================] - 1s 58ms/step - loss: 0.6376 - accuracy: 0.8125 - val_loss: 0.6822 - val_accuracy: 0.9048\n",
            "Epoch 27/100\n",
            "10/10 [==============================] - 1s 57ms/step - loss: 0.5847 - accuracy: 0.8278 - val_loss: 0.5729 - val_accuracy: 0.9405\n",
            "Epoch 28/100\n",
            "10/10 [==============================] - 1s 57ms/step - loss: 0.6016 - accuracy: 0.8010 - val_loss: 0.5256 - val_accuracy: 0.9286\n",
            "Epoch 29/100\n",
            "10/10 [==============================] - 1s 57ms/step - loss: 0.5385 - accuracy: 0.8316 - val_loss: 0.5067 - val_accuracy: 0.9286\n",
            "Epoch 30/100\n",
            "10/10 [==============================] - 1s 57ms/step - loss: 0.5263 - accuracy: 0.8265 - val_loss: 0.5055 - val_accuracy: 0.9226\n",
            "Epoch 31/100\n",
            "10/10 [==============================] - 1s 57ms/step - loss: 0.5588 - accuracy: 0.8125 - val_loss: 0.5417 - val_accuracy: 0.9286\n",
            "Epoch 32/100\n",
            "10/10 [==============================] - 1s 56ms/step - loss: 0.4812 - accuracy: 0.8469 - val_loss: 0.4750 - val_accuracy: 0.9405\n",
            "Epoch 33/100\n",
            "10/10 [==============================] - 1s 57ms/step - loss: 0.4579 - accuracy: 0.8520 - val_loss: 0.4980 - val_accuracy: 0.9345\n",
            "Epoch 34/100\n",
            "10/10 [==============================] - 1s 57ms/step - loss: 0.5368 - accuracy: 0.8457 - val_loss: 0.4862 - val_accuracy: 0.9405\n",
            "Epoch 35/100\n",
            "10/10 [==============================] - 1s 57ms/step - loss: 0.4353 - accuracy: 0.8673 - val_loss: 0.4163 - val_accuracy: 0.9286\n",
            "Epoch 36/100\n",
            "10/10 [==============================] - 1s 57ms/step - loss: 0.4178 - accuracy: 0.8737 - val_loss: 0.3788 - val_accuracy: 0.9583\n",
            "Epoch 37/100\n",
            "10/10 [==============================] - 1s 57ms/step - loss: 0.4225 - accuracy: 0.8686 - val_loss: 0.3396 - val_accuracy: 0.9583\n",
            "Epoch 38/100\n",
            "10/10 [==============================] - 1s 57ms/step - loss: 0.2960 - accuracy: 0.9094 - val_loss: 0.3052 - val_accuracy: 0.9583\n",
            "Epoch 39/100\n",
            "10/10 [==============================] - 1s 57ms/step - loss: 0.4388 - accuracy: 0.8622 - val_loss: 0.3448 - val_accuracy: 0.9405\n",
            "Epoch 40/100\n",
            "10/10 [==============================] - 1s 57ms/step - loss: 0.3615 - accuracy: 0.8852 - val_loss: 0.3457 - val_accuracy: 0.9524\n",
            "Epoch 41/100\n",
            "10/10 [==============================] - 1s 57ms/step - loss: 0.3764 - accuracy: 0.8865 - val_loss: 0.3609 - val_accuracy: 0.9405\n",
            "Epoch 42/100\n",
            "10/10 [==============================] - 1s 57ms/step - loss: 0.3293 - accuracy: 0.9005 - val_loss: 0.3634 - val_accuracy: 0.9464\n",
            "Epoch 43/100\n",
            "10/10 [==============================] - 1s 57ms/step - loss: 0.3566 - accuracy: 0.8852 - val_loss: 0.3762 - val_accuracy: 0.9583\n",
            "Epoch 44/100\n",
            "10/10 [==============================] - 1s 57ms/step - loss: 0.3482 - accuracy: 0.9005 - val_loss: 0.3213 - val_accuracy: 0.9464\n",
            "Epoch 45/100\n",
            "10/10 [==============================] - 1s 57ms/step - loss: 0.3872 - accuracy: 0.8839 - val_loss: 0.3467 - val_accuracy: 0.9702\n",
            "Epoch 46/100\n",
            "10/10 [==============================] - 1s 57ms/step - loss: 0.3682 - accuracy: 0.8827 - val_loss: 0.3341 - val_accuracy: 0.9464\n",
            "Epoch 47/100\n",
            "10/10 [==============================] - 1s 57ms/step - loss: 0.3415 - accuracy: 0.8878 - val_loss: 0.3176 - val_accuracy: 0.9524\n",
            "Epoch 48/100\n",
            "10/10 [==============================] - 1s 57ms/step - loss: 0.3123 - accuracy: 0.9133 - val_loss: 0.2857 - val_accuracy: 0.9464\n",
            "Epoch 49/100\n",
            "10/10 [==============================] - 1s 58ms/step - loss: 0.3142 - accuracy: 0.8967 - val_loss: 0.3259 - val_accuracy: 0.9345\n",
            "Epoch 50/100\n",
            "10/10 [==============================] - 1s 57ms/step - loss: 0.2529 - accuracy: 0.9120 - val_loss: 0.2534 - val_accuracy: 0.9643\n",
            "Epoch 51/100\n",
            "10/10 [==============================] - 1s 57ms/step - loss: 0.2779 - accuracy: 0.9043 - val_loss: 0.2428 - val_accuracy: 0.9583\n",
            "Epoch 52/100\n",
            "10/10 [==============================] - 1s 57ms/step - loss: 0.2910 - accuracy: 0.8980 - val_loss: 0.3005 - val_accuracy: 0.9643\n",
            "Epoch 53/100\n",
            "10/10 [==============================] - 1s 57ms/step - loss: 0.3109 - accuracy: 0.9056 - val_loss: 0.2778 - val_accuracy: 0.9583\n",
            "Epoch 54/100\n",
            "10/10 [==============================] - 1s 57ms/step - loss: 0.3129 - accuracy: 0.8967 - val_loss: 0.2893 - val_accuracy: 0.9464\n",
            "Epoch 55/100\n",
            "10/10 [==============================] - 1s 57ms/step - loss: 0.2473 - accuracy: 0.9273 - val_loss: 0.2840 - val_accuracy: 0.9524\n",
            "Epoch 56/100\n",
            "10/10 [==============================] - 1s 58ms/step - loss: 0.2342 - accuracy: 0.9247 - val_loss: 0.2762 - val_accuracy: 0.9524\n",
            "Epoch 57/100\n",
            "10/10 [==============================] - 1s 57ms/step - loss: 0.2413 - accuracy: 0.9235 - val_loss: 0.2815 - val_accuracy: 0.9524\n",
            "Epoch 58/100\n",
            "10/10 [==============================] - 1s 57ms/step - loss: 0.2737 - accuracy: 0.9184 - val_loss: 0.2904 - val_accuracy: 0.9464\n",
            "Epoch 59/100\n",
            "10/10 [==============================] - 1s 56ms/step - loss: 0.2753 - accuracy: 0.9158 - val_loss: 0.2645 - val_accuracy: 0.9464\n",
            "Epoch 60/100\n",
            "10/10 [==============================] - 1s 58ms/step - loss: 0.2325 - accuracy: 0.9311 - val_loss: 0.2545 - val_accuracy: 0.9405\n",
            "Epoch 61/100\n",
            "10/10 [==============================] - 1s 57ms/step - loss: 0.2673 - accuracy: 0.9171 - val_loss: 0.2894 - val_accuracy: 0.9464\n",
            "Epoch 62/100\n",
            "10/10 [==============================] - 1s 57ms/step - loss: 0.2451 - accuracy: 0.9158 - val_loss: 0.2845 - val_accuracy: 0.9583\n",
            "Epoch 63/100\n",
            "10/10 [==============================] - 1s 58ms/step - loss: 0.2809 - accuracy: 0.9069 - val_loss: 0.2747 - val_accuracy: 0.9583\n",
            "Epoch 64/100\n",
            "10/10 [==============================] - 1s 57ms/step - loss: 0.3056 - accuracy: 0.9043 - val_loss: 0.3002 - val_accuracy: 0.9524\n",
            "Epoch 65/100\n",
            "10/10 [==============================] - 1s 57ms/step - loss: 0.2414 - accuracy: 0.9260 - val_loss: 0.2817 - val_accuracy: 0.9583\n",
            "Epoch 66/100\n",
            "10/10 [==============================] - 1s 57ms/step - loss: 0.2789 - accuracy: 0.9145 - val_loss: 0.2557 - val_accuracy: 0.9524\n",
            "Epoch 67/100\n",
            "10/10 [==============================] - 1s 57ms/step - loss: 0.2115 - accuracy: 0.9311 - val_loss: 0.2446 - val_accuracy: 0.9464\n",
            "Epoch 68/100\n",
            "10/10 [==============================] - 1s 57ms/step - loss: 0.2084 - accuracy: 0.9401 - val_loss: 0.2506 - val_accuracy: 0.9524\n",
            "Epoch 69/100\n",
            "10/10 [==============================] - 1s 58ms/step - loss: 0.2398 - accuracy: 0.9273 - val_loss: 0.2446 - val_accuracy: 0.9405\n",
            "Epoch 70/100\n",
            "10/10 [==============================] - 1s 57ms/step - loss: 0.2084 - accuracy: 0.9401 - val_loss: 0.2582 - val_accuracy: 0.9464\n",
            "Epoch 71/100\n",
            "10/10 [==============================] - 1s 57ms/step - loss: 0.2302 - accuracy: 0.9311 - val_loss: 0.2399 - val_accuracy: 0.9524\n",
            "Epoch 72/100\n",
            "10/10 [==============================] - 1s 57ms/step - loss: 0.2443 - accuracy: 0.9311 - val_loss: 0.2166 - val_accuracy: 0.9762\n",
            "Epoch 73/100\n",
            "10/10 [==============================] - 1s 57ms/step - loss: 0.1845 - accuracy: 0.9324 - val_loss: 0.2311 - val_accuracy: 0.9643\n",
            "Epoch 74/100\n",
            "10/10 [==============================] - 1s 57ms/step - loss: 0.2120 - accuracy: 0.9286 - val_loss: 0.2717 - val_accuracy: 0.9464\n",
            "Epoch 75/100\n",
            "10/10 [==============================] - 1s 57ms/step - loss: 0.1926 - accuracy: 0.9452 - val_loss: 0.2396 - val_accuracy: 0.9405\n",
            "Epoch 76/100\n",
            "10/10 [==============================] - 1s 57ms/step - loss: 0.1939 - accuracy: 0.9324 - val_loss: 0.2194 - val_accuracy: 0.9524\n",
            "Epoch 77/100\n",
            "10/10 [==============================] - 1s 57ms/step - loss: 0.2045 - accuracy: 0.9401 - val_loss: 0.1946 - val_accuracy: 0.9524\n",
            "Epoch 78/100\n",
            "10/10 [==============================] - 1s 57ms/step - loss: 0.2043 - accuracy: 0.9247 - val_loss: 0.2466 - val_accuracy: 0.9524\n",
            "Epoch 79/100\n",
            "10/10 [==============================] - 1s 57ms/step - loss: 0.2545 - accuracy: 0.9362 - val_loss: 0.2289 - val_accuracy: 0.9524\n",
            "Epoch 80/100\n",
            "10/10 [==============================] - 1s 57ms/step - loss: 0.2357 - accuracy: 0.9273 - val_loss: 0.2462 - val_accuracy: 0.9583\n",
            "Epoch 81/100\n",
            "10/10 [==============================] - 1s 57ms/step - loss: 0.1851 - accuracy: 0.9413 - val_loss: 0.2390 - val_accuracy: 0.9524\n",
            "Epoch 82/100\n",
            "10/10 [==============================] - 1s 57ms/step - loss: 0.1931 - accuracy: 0.9311 - val_loss: 0.2124 - val_accuracy: 0.9643\n",
            "Epoch 83/100\n",
            "10/10 [==============================] - 1s 57ms/step - loss: 0.2202 - accuracy: 0.9324 - val_loss: 0.2373 - val_accuracy: 0.9702\n",
            "Epoch 84/100\n",
            "10/10 [==============================] - 1s 56ms/step - loss: 0.1990 - accuracy: 0.9413 - val_loss: 0.2417 - val_accuracy: 0.9702\n",
            "Epoch 85/100\n",
            "10/10 [==============================] - 1s 57ms/step - loss: 0.1534 - accuracy: 0.9490 - val_loss: 0.2250 - val_accuracy: 0.9524\n",
            "Epoch 86/100\n",
            "10/10 [==============================] - 1s 57ms/step - loss: 0.1639 - accuracy: 0.9439 - val_loss: 0.2197 - val_accuracy: 0.9464\n",
            "Epoch 87/100\n",
            "10/10 [==============================] - 1s 57ms/step - loss: 0.1879 - accuracy: 0.9388 - val_loss: 0.2103 - val_accuracy: 0.9524\n",
            "Epoch 88/100\n",
            "10/10 [==============================] - 1s 57ms/step - loss: 0.2007 - accuracy: 0.9349 - val_loss: 0.2368 - val_accuracy: 0.9524\n",
            "Epoch 89/100\n",
            "10/10 [==============================] - 1s 57ms/step - loss: 0.2031 - accuracy: 0.9337 - val_loss: 0.2092 - val_accuracy: 0.9643\n",
            "Epoch 90/100\n",
            "10/10 [==============================] - 1s 58ms/step - loss: 0.1550 - accuracy: 0.9477 - val_loss: 0.2357 - val_accuracy: 0.9643\n",
            "Epoch 91/100\n",
            "10/10 [==============================] - 1s 57ms/step - loss: 0.1837 - accuracy: 0.9464 - val_loss: 0.2074 - val_accuracy: 0.9524\n",
            "Epoch 92/100\n",
            "10/10 [==============================] - 1s 57ms/step - loss: 0.1586 - accuracy: 0.9490 - val_loss: 0.2211 - val_accuracy: 0.9524\n",
            "Epoch 93/100\n",
            "10/10 [==============================] - 1s 57ms/step - loss: 0.1450 - accuracy: 0.9503 - val_loss: 0.1902 - val_accuracy: 0.9583\n",
            "Epoch 94/100\n",
            "10/10 [==============================] - 1s 58ms/step - loss: 0.1958 - accuracy: 0.9388 - val_loss: 0.2138 - val_accuracy: 0.9464\n",
            "Epoch 95/100\n",
            "10/10 [==============================] - 1s 58ms/step - loss: 0.1821 - accuracy: 0.9337 - val_loss: 0.2183 - val_accuracy: 0.9583\n",
            "Epoch 96/100\n",
            "10/10 [==============================] - 1s 57ms/step - loss: 0.1740 - accuracy: 0.9477 - val_loss: 0.2250 - val_accuracy: 0.9583\n",
            "Epoch 97/100\n",
            "10/10 [==============================] - 1s 57ms/step - loss: 0.2016 - accuracy: 0.9401 - val_loss: 0.2534 - val_accuracy: 0.9464\n",
            "Epoch 98/100\n",
            "10/10 [==============================] - 1s 58ms/step - loss: 0.1830 - accuracy: 0.9439 - val_loss: 0.2496 - val_accuracy: 0.9583\n",
            "Epoch 99/100\n",
            "10/10 [==============================] - 1s 58ms/step - loss: 0.1733 - accuracy: 0.9528 - val_loss: 0.2304 - val_accuracy: 0.9524\n",
            "Epoch 100/100\n",
            "10/10 [==============================] - 1s 57ms/step - loss: 0.1872 - accuracy: 0.9413 - val_loss: 0.2262 - val_accuracy: 0.9464\n"
          ],
          "name": "stdout"
        }
      ]
    },
    {
      "cell_type": "code",
      "metadata": {
        "colab": {
          "base_uri": "https://localhost:8080/"
        },
        "id": "ZQ4n8wAmB9ZX",
        "outputId": "02c5ceb3-25ce-48e3-d8db-feca178425e6"
      },
      "source": [
        "# Evaluate model\n",
        "print(f'Train Accuracy: { model.evaluate(X_train[:,:,:,None],y_train)[1]}')\n",
        "print(f'Test Accuracy: {model.evaluate(X_test[:,:,:,None],y_test)[1]}')"
      ],
      "id": "ZQ4n8wAmB9ZX",
      "execution_count": 22,
      "outputs": [
        {
          "output_type": "stream",
          "text": [
            "25/25 [==============================] - 0s 8ms/step - loss: 0.0123 - accuracy: 1.0000\n",
            "Train Accuracy: 1.0\n",
            "6/6 [==============================] - 0s 7ms/step - loss: 0.2124 - accuracy: 0.9643\n",
            "Test Accuracy: 0.9642857313156128\n"
          ],
          "name": "stdout"
        }
      ]
    },
    {
      "cell_type": "code",
      "metadata": {
        "id": "F62fEQaGFMqs",
        "colab": {
          "base_uri": "https://localhost:8080/",
          "height": 368
        },
        "outputId": "7837da79-fa56-404b-e28c-8c17cb086bb2"
      },
      "source": [
        "import matplotlib.pyplot as plt\n",
        "\n",
        "# Learning curve\n",
        "# plot the accuracy and loss plots between training and validation data\n",
        "# verify overfitting or underfit \n",
        "acc = history.history['accuracy']\n",
        "val_acc = history.history['val_accuracy']\n",
        "loss = history.history['loss']\n",
        "val_loss = history.history['val_loss']\n",
        "x = range(1,len(acc)+1)\n",
        "\n",
        "plt.figure(figsize=(12,5))\n",
        "plt.subplot(1,2,1)\n",
        "plt.plot(x,acc,'b',label='Training acc')\n",
        "plt.plot(x,val_acc,'r',label='Validation acc')\n",
        "plt.title('Training and validation accuracy')\n",
        "plt.xlabel('epochs')\n",
        "plt.ylabel('accuracy')\n",
        "plt.legend()\n",
        "\n",
        "plt.subplot(1,2,2)\n",
        "plt.plot(x,loss,'b',label='Training loss')\n",
        "plt.plot(x,val_loss,'r',label='Validation loss')\n",
        "plt.title('Training and validation loss')\n",
        "plt.xlabel('epochs')\n",
        "plt.ylabel('loss')\n",
        "plt.legend()"
      ],
      "id": "F62fEQaGFMqs",
      "execution_count": 23,
      "outputs": [
        {
          "output_type": "execute_result",
          "data": {
            "text/plain": [
              "<matplotlib.legend.Legend at 0x7f6728f87f10>"
            ]
          },
          "metadata": {},
          "execution_count": 23
        },
        {
          "output_type": "display_data",
          "data": {
            "image/png": "[encoded data removed]",
            "text/plain": [
              "<Figure size 864x360 with 2 Axes>"
            ]
          },
          "metadata": {
            "needs_background": "light"
          }
        }
      ]
    },
    {
      "cell_type": "code",
      "metadata": {
        "id": "wFbKdWsMkDuw",
        "colab": {
          "base_uri": "https://localhost:8080/"
        },
        "outputId": "92634402-96e4-49ed-dddd-8a6d0d992c08"
      },
      "source": [
        "from sklearn.metrics import classification_report\n",
        "\n",
        "# classification report\n",
        "predicted_classes = np.argmax(np.round(model.predict(X_test[:,:,:,None])),axis=1)\n",
        "correct = np.where(predicted_classes==y_test)[0]\n",
        "target_names = [f\"Class {label}\" for label in range(len(np.unique(df['label'])))]\n",
        "\n",
        "print(f\"From {len(y_test)} labels're founding {len(correct)} correct labels.\")\n",
        "print('')\n",
        "print(classification_report(y_test, predicted_classes, target_names=target_names))"
      ],
      "id": "wFbKdWsMkDuw",
      "execution_count": 24,
      "outputs": [
        {
          "output_type": "stream",
          "text": [
            "From 168 labels're founding 156 correct labels.\n",
            "\n",
            "              precision    recall  f1-score   support\n",
            "\n",
            "     Class 0       0.23      1.00      0.38         3\n",
            "     Class 1       1.00      1.00      1.00         3\n",
            "     Class 2       1.00      0.67      0.80         3\n",
            "     Class 3       1.00      0.67      0.80         3\n",
            "     Class 4       1.00      0.67      0.80         3\n",
            "     Class 5       1.00      1.00      1.00         3\n",
            "     Class 6       1.00      1.00      1.00         3\n",
            "     Class 7       1.00      1.00      1.00         3\n",
            "     Class 8       1.00      1.00      1.00         3\n",
            "     Class 9       1.00      0.67      0.80         3\n",
            "    Class 10       1.00      1.00      1.00         3\n",
            "    Class 11       1.00      1.00      1.00         3\n",
            "    Class 12       1.00      1.00      1.00         3\n",
            "    Class 13       1.00      1.00      1.00         3\n",
            "    Class 14       1.00      1.00      1.00         3\n",
            "    Class 15       1.00      1.00      1.00         3\n",
            "    Class 16       1.00      1.00      1.00         3\n",
            "    Class 17       1.00      1.00      1.00         3\n",
            "    Class 18       1.00      1.00      1.00         3\n",
            "    Class 19       1.00      1.00      1.00         3\n",
            "    Class 20       1.00      1.00      1.00         3\n",
            "    Class 21       0.75      1.00      0.86         3\n",
            "    Class 22       1.00      0.67      0.80         3\n",
            "    Class 23       1.00      1.00      1.00         3\n",
            "    Class 24       1.00      0.67      0.80         3\n",
            "    Class 25       1.00      1.00      1.00         3\n",
            "    Class 26       1.00      1.00      1.00         3\n",
            "    Class 27       1.00      1.00      1.00         3\n",
            "    Class 28       1.00      1.00      1.00         3\n",
            "    Class 29       1.00      0.33      0.50         3\n",
            "    Class 30       1.00      1.00      1.00         3\n",
            "    Class 31       1.00      1.00      1.00         3\n",
            "    Class 32       1.00      1.00      1.00         3\n",
            "    Class 33       1.00      0.67      0.80         3\n",
            "    Class 34       1.00      1.00      1.00         3\n",
            "    Class 35       1.00      1.00      1.00         3\n",
            "    Class 36       1.00      1.00      1.00         3\n",
            "    Class 37       1.00      1.00      1.00         3\n",
            "    Class 38       1.00      0.67      0.80         3\n",
            "    Class 39       1.00      1.00      1.00         3\n",
            "    Class 40       1.00      1.00      1.00         3\n",
            "    Class 41       1.00      1.00      1.00         3\n",
            "    Class 42       0.75      1.00      0.86         3\n",
            "    Class 43       1.00      1.00      1.00         3\n",
            "    Class 44       1.00      1.00      1.00         3\n",
            "    Class 45       1.00      1.00      1.00         3\n",
            "    Class 46       1.00      1.00      1.00         3\n",
            "    Class 47       1.00      1.00      1.00         3\n",
            "    Class 48       1.00      1.00      1.00         3\n",
            "    Class 49       1.00      0.67      0.80         3\n",
            "    Class 50       1.00      1.00      1.00         3\n",
            "    Class 51       1.00      1.00      1.00         3\n",
            "    Class 52       1.00      0.67      0.80         3\n",
            "    Class 53       1.00      1.00      1.00         3\n",
            "    Class 54       1.00      1.00      1.00         3\n",
            "    Class 55       1.00      1.00      1.00         3\n",
            "\n",
            "    accuracy                           0.93       168\n",
            "   macro avg       0.98      0.93      0.94       168\n",
            "weighted avg       0.98      0.93      0.94       168\n",
            "\n"
          ],
          "name": "stdout"
        }
      ]
    }
  ]
}