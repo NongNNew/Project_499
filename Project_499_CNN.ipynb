{
  "nbformat": 4,
  "nbformat_minor": 5,
  "metadata": {
    "colab": {
      "name": "Project_499_CNN.ipynb",
      "provenance": [],
      "collapsed_sections": [],
      "machine_shape": "hm",
      "include_colab_link": true
    },
    "kernelspec": {
      "display_name": "Python 3",
      "language": "python",
      "name": "python3"
    },
    "language_info": {
      "codemirror_mode": {
        "name": "ipython",
        "version": 3
      },
      "file_extension": ".py",
      "mimetype": "text/x-python",
      "name": "python",
      "nbconvert_exporter": "python",
      "pygments_lexer": "ipython3",
      "version": "3.8.8"
    },
    "accelerator": "GPU"
  },
  "cells": [
    {
      "cell_type": "markdown",
      "metadata": {
        "id": "view-in-github",
        "colab_type": "text"
      },
      "source": [
        "<a href=\"https://colab.research.google.com/github/NongNNew/Project_499/blob/main/Project_499_CNN.ipynb\" target=\"_parent\"><img src=\"https://colab.research.google.com/assets/colab-badge.svg\" alt=\"Open In Colab\"/></a>"
      ]
    },
    {
      "cell_type": "markdown",
      "metadata": {
        "id": "hW4AHGmEVrk8"
      },
      "source": [
        "# CNN"
      ],
      "id": "hW4AHGmEVrk8"
    },
    {
      "cell_type": "code",
      "metadata": {
        "colab": {
          "base_uri": "https://localhost:8080/"
        },
        "id": "gJVdtdww87RO",
        "outputId": "e4187a15-35c0-408e-f6fb-c61e302176d0"
      },
      "source": [
        "# Upload audio files from github\n",
        "!git clone https://github.com/NongNNew/Project_499.git"
      ],
      "id": "gJVdtdww87RO",
      "execution_count": 28,
      "outputs": [
        {
          "output_type": "stream",
          "text": [
            "fatal: destination path 'Project_499' already exists and is not an empty directory.\n"
          ],
          "name": "stdout"
        }
      ]
    },
    {
      "cell_type": "code",
      "metadata": {
        "id": "EHnDUT5YejVV"
      },
      "source": [
        "fruit_veget = ['กระชาย','กระท้อน','กระเทียม1','กระเทียม2','กระเพรา','กล้วยน้ำว้า','กล้วยหอม',\n",
        "               'ข้าวโพด','ไข่น้ำ',\n",
        "               'ตะขบไทย','ตะไคร้',\n",
        "               'ถั่วฝักยาว','ถั่วลันเตา','ถั่วลิสง',\n",
        "               'ทับทิม',\n",
        "               'น้อยหน่า','น้ำเต้า',\n",
        "               'ผักกระเฉด','ผักกุยช่าย','ผักขึ้นช่าย','ผักชะอม','ผักชี','ผักชีฝรั่ง','ผักตำลึง',\n",
        "               'มะปราง','มะพลับ','มะละกอ','มะกรูด','มะเขือพวง','มะเขือเทศ','มะระ','มะรุม','มะตูม','มันแกว1','มันแกว2','มันเทศ','มันฝรั่ง','มันสำปะหลัง',\n",
        "               'บวบ','ใบชะพลู1','ใบชะพลู2','ใบบัวบก','ใบแมงลัก','ใบยอ',\n",
        "               'พริกขี้หนู','พริกสด','พุทรา','เพกา',\n",
        "               'ฝรั่ง',\n",
        "               'ฟัก','ฟักทอง',\n",
        "               'สับปะรด','สะเดา','สะระแหน่',\n",
        "               'หัวหอม1','หัวหอม2']\n",
        "\n",
        "source = {'audio_time':[],\n",
        "          'sampling_rate':[],\n",
        "          'feature_extraction':[],\n",
        "          'label':[],\n",
        "          'description':[]}"
      ],
      "id": "EHnDUT5YejVV",
      "execution_count": 29,
      "outputs": []
    },
    {
      "cell_type": "code",
      "metadata": {
        "colab": {
          "base_uri": "https://localhost:8080/"
        },
        "id": "_XRqKtGBeW_1",
        "outputId": "d3098ddd-66ed-41e5-fff1-d0c725b889c7"
      },
      "source": [
        "!pip install python_speech_features\n",
        "import python_speech_features\n",
        "from scipy.signal.windows import hamming\n",
        "\n",
        "def feature_mfcc(y,sr):\n",
        "    return (python_speech_features.mfcc(signal=y, \n",
        "                                    samplerate=sr, \n",
        "                                    winlen= 512/sr, \n",
        "                                    winstep= 160/sr,\n",
        "                                    numcep= 13,\n",
        "                                    nfilt= 40, \n",
        "                                    nfft= 512,\n",
        "                                    lowfreq= 0,\n",
        "                                    highfreq= None,\n",
        "                                    preemph= 0.97, \n",
        "                                    ceplifter= 0,\n",
        "                                    winfunc= hamming))"
      ],
      "id": "_XRqKtGBeW_1",
      "execution_count": 38,
      "outputs": [
        {
          "output_type": "stream",
          "text": [
            "Requirement already satisfied: python_speech_features in /usr/local/lib/python3.7/dist-packages (0.6)\n"
          ],
          "name": "stdout"
        }
      ]
    },
    {
      "cell_type": "code",
      "metadata": {
        "id": "tixApnAUy5tv"
      },
      "source": [
        "import pandas as pd\n",
        "from glob import glob\n",
        "import librosa\n",
        "\n",
        "for types in fruit_veget:\n",
        "    audio_files = glob('/content/Project_499/Record_audio/' + str(types) + '/*.wav')\n",
        "\n",
        "    for audio in audio_files:\n",
        "        y,sr = librosa.load(audio,duration=5,offset=0)\n",
        "        source['description'].append(str(types))\n",
        "        source['audio_time'].append(y)\n",
        "        source['sampling_rate'].append(sr)\n",
        "        source['feature_extraction'].append(feature_mfcc(y,sr))\n",
        "        source['label'].append(fruit_veget.index(types))"
      ],
      "id": "tixApnAUy5tv",
      "execution_count": 39,
      "outputs": []
    },
    {
      "cell_type": "code",
      "metadata": {
        "colab": {
          "base_uri": "https://localhost:8080/",
          "height": 417
        },
        "id": "8B6cSV4Ckude",
        "outputId": "b67f8839-0ec3-4a68-ce34-53bd37216bd1"
      },
      "source": [
        "df = pd.DataFrame.from_dict(source)\n",
        "df"
      ],
      "id": "8B6cSV4Ckude",
      "execution_count": 40,
      "outputs": [
        {
          "output_type": "execute_result",
          "data": {
            "text/html": [
              "<div>\n",
              "<style scoped>\n",
              "    .dataframe tbody tr th:only-of-type {\n",
              "        vertical-align: middle;\n",
              "    }\n",
              "\n",
              "    .dataframe tbody tr th {\n",
              "        vertical-align: top;\n",
              "    }\n",
              "\n",
              "    .dataframe thead th {\n",
              "        text-align: right;\n",
              "    }\n",
              "</style>\n",
              "<table border=\"1\" class=\"dataframe\">\n",
              "  <thead>\n",
              "    <tr style=\"text-align: right;\">\n",
              "      <th></th>\n",
              "      <th>audio_time</th>\n",
              "      <th>sampling_rate</th>\n",
              "      <th>feature_extraction</th>\n",
              "      <th>label</th>\n",
              "      <th>description</th>\n",
              "    </tr>\n",
              "  </thead>\n",
              "  <tbody>\n",
              "    <tr>\n",
              "      <th>0</th>\n",
              "      <td>[0.0004119873, 0.00061035156, 0.0005340576, 0....</td>\n",
              "      <td>22050</td>\n",
              "      <td>[[-14.031458292064183, -9.71991818216831, 3.08...</td>\n",
              "      <td>0</td>\n",
              "      <td>กระชาย</td>\n",
              "    </tr>\n",
              "    <tr>\n",
              "      <th>1</th>\n",
              "      <td>[1.5258789e-05, -3.0517578e-05, 4.5776367e-05,...</td>\n",
              "      <td>22050</td>\n",
              "      <td>[[-13.895163210723114, -10.534242113550562, 0....</td>\n",
              "      <td>0</td>\n",
              "      <td>กระชาย</td>\n",
              "    </tr>\n",
              "    <tr>\n",
              "      <th>2</th>\n",
              "      <td>[-0.00010681152, -0.00010681152, -0.0001525878...</td>\n",
              "      <td>22050</td>\n",
              "      <td>[[-14.047682378884087, -10.559749338871004, 1....</td>\n",
              "      <td>0</td>\n",
              "      <td>กระชาย</td>\n",
              "    </tr>\n",
              "    <tr>\n",
              "      <th>3</th>\n",
              "      <td>[-0.00012207031, -0.00018310547, -6.1035156e-0...</td>\n",
              "      <td>22050</td>\n",
              "      <td>[[-13.937838344743476, -10.52677763983171, 0.7...</td>\n",
              "      <td>0</td>\n",
              "      <td>กระชาย</td>\n",
              "    </tr>\n",
              "    <tr>\n",
              "      <th>4</th>\n",
              "      <td>[-1.5258789e-05, 1.5258789e-05, -1.5258789e-05...</td>\n",
              "      <td>22050</td>\n",
              "      <td>[[-13.834222688815137, -11.278032760622157, -1...</td>\n",
              "      <td>0</td>\n",
              "      <td>กระชาย</td>\n",
              "    </tr>\n",
              "    <tr>\n",
              "      <th>...</th>\n",
              "      <td>...</td>\n",
              "      <td>...</td>\n",
              "      <td>...</td>\n",
              "      <td>...</td>\n",
              "      <td>...</td>\n",
              "    </tr>\n",
              "    <tr>\n",
              "      <th>2235</th>\n",
              "      <td>[-0.00021362305, -0.00019836426, -0.0001678466...</td>\n",
              "      <td>22050</td>\n",
              "      <td>[[-13.600642153773194, -15.096089567076714, -0...</td>\n",
              "      <td>55</td>\n",
              "      <td>หัวหอม2</td>\n",
              "    </tr>\n",
              "    <tr>\n",
              "      <th>2236</th>\n",
              "      <td>[-7.6293945e-05, -9.1552734e-05, 0.0, 1.525878...</td>\n",
              "      <td>22050</td>\n",
              "      <td>[[-13.93405270581039, -11.744337964457122, 1.2...</td>\n",
              "      <td>55</td>\n",
              "      <td>หัวหอม2</td>\n",
              "    </tr>\n",
              "    <tr>\n",
              "      <th>2237</th>\n",
              "      <td>[-7.6293945e-05, -3.0517578e-05, 4.5776367e-05...</td>\n",
              "      <td>22050</td>\n",
              "      <td>[[-14.064456461828245, -10.13023715669734, 2.2...</td>\n",
              "      <td>55</td>\n",
              "      <td>หัวหอม2</td>\n",
              "    </tr>\n",
              "    <tr>\n",
              "      <th>2238</th>\n",
              "      <td>[1.5258789e-05, -4.5776367e-05, 4.5776367e-05,...</td>\n",
              "      <td>22050</td>\n",
              "      <td>[[-13.862199697176345, -10.033334893928362, 0....</td>\n",
              "      <td>55</td>\n",
              "      <td>หัวหอม2</td>\n",
              "    </tr>\n",
              "    <tr>\n",
              "      <th>2239</th>\n",
              "      <td>[1.5258789e-05, -3.0517578e-05, 3.0517578e-05,...</td>\n",
              "      <td>22050</td>\n",
              "      <td>[[-14.084828314988476, -10.714037501901071, -1...</td>\n",
              "      <td>55</td>\n",
              "      <td>หัวหอม2</td>\n",
              "    </tr>\n",
              "  </tbody>\n",
              "</table>\n",
              "<p>2240 rows × 5 columns</p>\n",
              "</div>"
            ],
            "text/plain": [
              "                                             audio_time  ...  description\n",
              "0     [0.0004119873, 0.00061035156, 0.0005340576, 0....  ...       กระชาย\n",
              "1     [1.5258789e-05, -3.0517578e-05, 4.5776367e-05,...  ...       กระชาย\n",
              "2     [-0.00010681152, -0.00010681152, -0.0001525878...  ...       กระชาย\n",
              "3     [-0.00012207031, -0.00018310547, -6.1035156e-0...  ...       กระชาย\n",
              "4     [-1.5258789e-05, 1.5258789e-05, -1.5258789e-05...  ...       กระชาย\n",
              "...                                                 ...  ...          ...\n",
              "2235  [-0.00021362305, -0.00019836426, -0.0001678466...  ...      หัวหอม2\n",
              "2236  [-7.6293945e-05, -9.1552734e-05, 0.0, 1.525878...  ...      หัวหอม2\n",
              "2237  [-7.6293945e-05, -3.0517578e-05, 4.5776367e-05...  ...      หัวหอม2\n",
              "2238  [1.5258789e-05, -4.5776367e-05, 4.5776367e-05,...  ...      หัวหอม2\n",
              "2239  [1.5258789e-05, -3.0517578e-05, 3.0517578e-05,...  ...      หัวหอม2\n",
              "\n",
              "[2240 rows x 5 columns]"
            ]
          },
          "metadata": {},
          "execution_count": 40
        }
      ]
    },
    {
      "cell_type": "code",
      "metadata": {
        "id": "T7yzW3hnmuyB"
      },
      "source": [
        "import numpy as np\n",
        "import pandas as pd\n",
        "\n",
        "Test = pd.DataFrame(columns=source.keys())\n",
        "\n",
        "# Create test data\n",
        "for description in np.unique(df['description']):\n",
        "    imp = df[df['description']==description].sample(5,random_state=1)\n",
        "    Test = pd.concat([Test,imp], axis=0)\n",
        "\n",
        "# Create train and validation data\n",
        "Train = df.drop(Test.index)\n",
        "\n",
        "X_train, X_test = np.array(Train['feature_extraction'].to_list()), np.array(Test['feature_extraction'].to_list())\n",
        "y_train, y_test = np.array(Train['label'].to_list()), np.array(Test['label'].to_list())\n",
        "\n",
        "from sklearn.model_selection import train_test_split\n",
        "X_train,X_valid,y_train,y_valid = train_test_split(X_train, y_train, test_size=0.25, random_state=1)"
      ],
      "id": "T7yzW3hnmuyB",
      "execution_count": 41,
      "outputs": []
    },
    {
      "cell_type": "code",
      "metadata": {
        "id": "77wMVqve6W8f",
        "colab": {
          "base_uri": "https://localhost:8080/"
        },
        "outputId": "27355e83-86b9-4c1d-e11d-f16154f70415"
      },
      "source": [
        "import tensorflow as tf\n",
        "from tensorflow import keras \n",
        "np.random.seed(1)\n",
        "tf.random.set_seed(1)\n",
        "\n",
        "# Convolutional Neural Networks\n",
        "model = keras.Sequential()\n",
        "model.add(keras.layers.Conv2D(64, 5, input_shape=(X_train.shape[1], X_train.shape[2], 1), activation='relu'))\n",
        "model.add(keras.layers.Dropout(0.25))\n",
        "model.add(keras.layers.MaxPool2D())\n",
        "model.add(keras.layers.Conv2D(64, 5, activation='relu',padding='same'))\n",
        "model.add(keras.layers.Dropout(0.25))\n",
        "model.add(keras.layers.MaxPool2D())\n",
        "model.add(keras.layers.Conv2D(128, 5, activation='relu',padding='same'))\n",
        "model.add(keras.layers.Dropout(0.25))\n",
        "model.add(keras.layers.MaxPool2D())\n",
        "model.add(keras.layers.Flatten())\n",
        "model.add(keras.layers.Dense(128, activation='relu'))\n",
        "model.add(keras.layers.Dropout(0.25))\n",
        "model.add(keras.layers.Dense(len(np.unique(df['label'])), activation='softmax'))\n",
        "model.compile(optimizer='adam', loss='sparse_categorical_crossentropy', metrics=['accuracy'])\n",
        "\n",
        "model.summary()"
      ],
      "id": "77wMVqve6W8f",
      "execution_count": 42,
      "outputs": [
        {
          "output_type": "stream",
          "text": [
            "Model: \"sequential_60\"\n",
            "_________________________________________________________________\n",
            "Layer (type)                 Output Shape              Param #   \n",
            "=================================================================\n",
            "conv2d_180 (Conv2D)          (None, 683, 9, 64)        1664      \n",
            "_________________________________________________________________\n",
            "dropout_300 (Dropout)        (None, 683, 9, 64)        0         \n",
            "_________________________________________________________________\n",
            "max_pooling2d_180 (MaxPoolin (None, 341, 4, 64)        0         \n",
            "_________________________________________________________________\n",
            "conv2d_181 (Conv2D)          (None, 341, 4, 64)        102464    \n",
            "_________________________________________________________________\n",
            "dropout_301 (Dropout)        (None, 341, 4, 64)        0         \n",
            "_________________________________________________________________\n",
            "max_pooling2d_181 (MaxPoolin (None, 170, 2, 64)        0         \n",
            "_________________________________________________________________\n",
            "conv2d_182 (Conv2D)          (None, 170, 2, 128)       204928    \n",
            "_________________________________________________________________\n",
            "dropout_302 (Dropout)        (None, 170, 2, 128)       0         \n",
            "_________________________________________________________________\n",
            "max_pooling2d_182 (MaxPoolin (None, 85, 1, 128)        0         \n",
            "_________________________________________________________________\n",
            "flatten_60 (Flatten)         (None, 10880)             0         \n",
            "_________________________________________________________________\n",
            "dense_180 (Dense)            (None, 128)               1392768   \n",
            "_________________________________________________________________\n",
            "dropout_303 (Dropout)        (None, 128)               0         \n",
            "_________________________________________________________________\n",
            "dense_181 (Dense)            (None, 56)                7224      \n",
            "=================================================================\n",
            "Total params: 1,709,048\n",
            "Trainable params: 1,709,048\n",
            "Non-trainable params: 0\n",
            "_________________________________________________________________\n"
          ],
          "name": "stdout"
        }
      ]
    },
    {
      "cell_type": "code",
      "metadata": {
        "id": "ngmfDNcnGMC7",
        "colab": {
          "base_uri": "https://localhost:8080/"
        },
        "outputId": "4ec7d511-ef37-4f60-a7c5-b0d695bd5fc0"
      },
      "source": [
        "# Fitting model\n",
        "history = model.fit(X_train[:,:,:,None], y_train, epochs=100, validation_data=(X_valid[:,:,:,None],y_valid),batch_size=80)"
      ],
      "id": "ngmfDNcnGMC7",
      "execution_count": 43,
      "outputs": [
        {
          "output_type": "stream",
          "text": [
            "Epoch 1/100\n",
            "19/19 [==============================] - 2s 50ms/step - loss: 4.0958 - accuracy: 0.0320 - val_loss: 3.9780 - val_accuracy: 0.0469\n",
            "Epoch 2/100\n",
            "19/19 [==============================] - 1s 37ms/step - loss: 3.6552 - accuracy: 0.0918 - val_loss: 3.4613 - val_accuracy: 0.2306\n",
            "Epoch 3/100\n",
            "19/19 [==============================] - 1s 37ms/step - loss: 2.8400 - accuracy: 0.2782 - val_loss: 2.5075 - val_accuracy: 0.5531\n",
            "Epoch 4/100\n",
            "19/19 [==============================] - 1s 37ms/step - loss: 1.7419 - accuracy: 0.5422 - val_loss: 1.5491 - val_accuracy: 0.7204\n",
            "Epoch 5/100\n",
            "19/19 [==============================] - 1s 37ms/step - loss: 1.1315 - accuracy: 0.6707 - val_loss: 1.0816 - val_accuracy: 0.8531\n",
            "Epoch 6/100\n",
            "19/19 [==============================] - 1s 37ms/step - loss: 0.7924 - accuracy: 0.7694 - val_loss: 0.6500 - val_accuracy: 0.9041\n",
            "Epoch 7/100\n",
            "19/19 [==============================] - 1s 37ms/step - loss: 0.5595 - accuracy: 0.8299 - val_loss: 0.5803 - val_accuracy: 0.9122\n",
            "Epoch 8/100\n",
            "19/19 [==============================] - 1s 37ms/step - loss: 0.4358 - accuracy: 0.8680 - val_loss: 0.4628 - val_accuracy: 0.9469\n",
            "Epoch 9/100\n",
            "19/19 [==============================] - 1s 37ms/step - loss: 0.3184 - accuracy: 0.9007 - val_loss: 0.2947 - val_accuracy: 0.9510\n",
            "Epoch 10/100\n",
            "19/19 [==============================] - 1s 36ms/step - loss: 0.2867 - accuracy: 0.9054 - val_loss: 0.2703 - val_accuracy: 0.9633\n",
            "Epoch 11/100\n",
            "19/19 [==============================] - 1s 37ms/step - loss: 0.2299 - accuracy: 0.9163 - val_loss: 0.2159 - val_accuracy: 0.9633\n",
            "Epoch 12/100\n",
            "19/19 [==============================] - 1s 37ms/step - loss: 0.2308 - accuracy: 0.9306 - val_loss: 0.1877 - val_accuracy: 0.9735\n",
            "Epoch 13/100\n",
            "19/19 [==============================] - 1s 37ms/step - loss: 0.2169 - accuracy: 0.9306 - val_loss: 0.1716 - val_accuracy: 0.9735\n",
            "Epoch 14/100\n",
            "19/19 [==============================] - 1s 37ms/step - loss: 0.1492 - accuracy: 0.9483 - val_loss: 0.1572 - val_accuracy: 0.9735\n",
            "Epoch 15/100\n",
            "19/19 [==============================] - 1s 37ms/step - loss: 0.1671 - accuracy: 0.9503 - val_loss: 0.1458 - val_accuracy: 0.9796\n",
            "Epoch 16/100\n",
            "19/19 [==============================] - 1s 37ms/step - loss: 0.1371 - accuracy: 0.9558 - val_loss: 0.1391 - val_accuracy: 0.9837\n",
            "Epoch 17/100\n",
            "19/19 [==============================] - 1s 37ms/step - loss: 0.1697 - accuracy: 0.9503 - val_loss: 0.1934 - val_accuracy: 0.9735\n",
            "Epoch 18/100\n",
            "19/19 [==============================] - 1s 37ms/step - loss: 0.1533 - accuracy: 0.9544 - val_loss: 0.1344 - val_accuracy: 0.9673\n",
            "Epoch 19/100\n",
            "19/19 [==============================] - 1s 37ms/step - loss: 0.1359 - accuracy: 0.9551 - val_loss: 0.1324 - val_accuracy: 0.9714\n",
            "Epoch 20/100\n",
            "19/19 [==============================] - 1s 37ms/step - loss: 0.1804 - accuracy: 0.9422 - val_loss: 0.1187 - val_accuracy: 0.9837\n",
            "Epoch 21/100\n",
            "19/19 [==============================] - 1s 37ms/step - loss: 0.1236 - accuracy: 0.9544 - val_loss: 0.1292 - val_accuracy: 0.9776\n",
            "Epoch 22/100\n",
            "19/19 [==============================] - 1s 37ms/step - loss: 0.1144 - accuracy: 0.9673 - val_loss: 0.1163 - val_accuracy: 0.9816\n",
            "Epoch 23/100\n",
            "19/19 [==============================] - 1s 37ms/step - loss: 0.1208 - accuracy: 0.9599 - val_loss: 0.1106 - val_accuracy: 0.9755\n",
            "Epoch 24/100\n",
            "19/19 [==============================] - 1s 37ms/step - loss: 0.0866 - accuracy: 0.9680 - val_loss: 0.1071 - val_accuracy: 0.9796\n",
            "Epoch 25/100\n",
            "19/19 [==============================] - 1s 37ms/step - loss: 0.0914 - accuracy: 0.9694 - val_loss: 0.1080 - val_accuracy: 0.9735\n",
            "Epoch 26/100\n",
            "19/19 [==============================] - 1s 37ms/step - loss: 0.0920 - accuracy: 0.9667 - val_loss: 0.0891 - val_accuracy: 0.9816\n",
            "Epoch 27/100\n",
            "19/19 [==============================] - 1s 37ms/step - loss: 0.0983 - accuracy: 0.9680 - val_loss: 0.0826 - val_accuracy: 0.9735\n",
            "Epoch 28/100\n",
            "19/19 [==============================] - 1s 37ms/step - loss: 0.0893 - accuracy: 0.9707 - val_loss: 0.0992 - val_accuracy: 0.9735\n",
            "Epoch 29/100\n",
            "19/19 [==============================] - 1s 37ms/step - loss: 0.0985 - accuracy: 0.9660 - val_loss: 0.0885 - val_accuracy: 0.9816\n",
            "Epoch 30/100\n",
            "19/19 [==============================] - 1s 37ms/step - loss: 0.0801 - accuracy: 0.9701 - val_loss: 0.1015 - val_accuracy: 0.9796\n",
            "Epoch 31/100\n",
            "19/19 [==============================] - 1s 37ms/step - loss: 0.0795 - accuracy: 0.9714 - val_loss: 0.1293 - val_accuracy: 0.9673\n",
            "Epoch 32/100\n",
            "19/19 [==============================] - 1s 37ms/step - loss: 0.0951 - accuracy: 0.9707 - val_loss: 0.0949 - val_accuracy: 0.9673\n",
            "Epoch 33/100\n",
            "19/19 [==============================] - 1s 37ms/step - loss: 0.0600 - accuracy: 0.9796 - val_loss: 0.0997 - val_accuracy: 0.9673\n",
            "Epoch 34/100\n",
            "19/19 [==============================] - 1s 37ms/step - loss: 0.0731 - accuracy: 0.9762 - val_loss: 0.0824 - val_accuracy: 0.9694\n",
            "Epoch 35/100\n",
            "19/19 [==============================] - 1s 37ms/step - loss: 0.1083 - accuracy: 0.9605 - val_loss: 0.0813 - val_accuracy: 0.9796\n",
            "Epoch 36/100\n",
            "19/19 [==============================] - 1s 37ms/step - loss: 0.0645 - accuracy: 0.9762 - val_loss: 0.0902 - val_accuracy: 0.9796\n",
            "Epoch 37/100\n",
            "19/19 [==============================] - 1s 37ms/step - loss: 0.0621 - accuracy: 0.9769 - val_loss: 0.1004 - val_accuracy: 0.9653\n",
            "Epoch 38/100\n",
            "19/19 [==============================] - 1s 37ms/step - loss: 0.0704 - accuracy: 0.9769 - val_loss: 0.0826 - val_accuracy: 0.9796\n",
            "Epoch 39/100\n",
            "19/19 [==============================] - 1s 37ms/step - loss: 0.0634 - accuracy: 0.9803 - val_loss: 0.0795 - val_accuracy: 0.9796\n",
            "Epoch 40/100\n",
            "19/19 [==============================] - 1s 37ms/step - loss: 0.0453 - accuracy: 0.9823 - val_loss: 0.0676 - val_accuracy: 0.9898\n",
            "Epoch 41/100\n",
            "19/19 [==============================] - 1s 37ms/step - loss: 0.0629 - accuracy: 0.9796 - val_loss: 0.0763 - val_accuracy: 0.9857\n",
            "Epoch 42/100\n",
            "19/19 [==============================] - 1s 37ms/step - loss: 0.0883 - accuracy: 0.9687 - val_loss: 0.0846 - val_accuracy: 0.9776\n",
            "Epoch 43/100\n",
            "19/19 [==============================] - 1s 37ms/step - loss: 0.0671 - accuracy: 0.9782 - val_loss: 0.0632 - val_accuracy: 0.9898\n",
            "Epoch 44/100\n",
            "19/19 [==============================] - 1s 37ms/step - loss: 0.0528 - accuracy: 0.9823 - val_loss: 0.0772 - val_accuracy: 0.9837\n",
            "Epoch 45/100\n",
            "19/19 [==============================] - 1s 37ms/step - loss: 0.0968 - accuracy: 0.9714 - val_loss: 0.0773 - val_accuracy: 0.9857\n",
            "Epoch 46/100\n",
            "19/19 [==============================] - 1s 37ms/step - loss: 0.0636 - accuracy: 0.9796 - val_loss: 0.0759 - val_accuracy: 0.9837\n",
            "Epoch 47/100\n",
            "19/19 [==============================] - 1s 37ms/step - loss: 0.0745 - accuracy: 0.9769 - val_loss: 0.0821 - val_accuracy: 0.9837\n",
            "Epoch 48/100\n",
            "19/19 [==============================] - 1s 37ms/step - loss: 0.0461 - accuracy: 0.9830 - val_loss: 0.0712 - val_accuracy: 0.9918\n",
            "Epoch 49/100\n",
            "19/19 [==============================] - 1s 37ms/step - loss: 0.0563 - accuracy: 0.9823 - val_loss: 0.0646 - val_accuracy: 0.9816\n",
            "Epoch 50/100\n",
            "19/19 [==============================] - 1s 37ms/step - loss: 0.0390 - accuracy: 0.9884 - val_loss: 0.0530 - val_accuracy: 0.9939\n",
            "Epoch 51/100\n",
            "19/19 [==============================] - 1s 37ms/step - loss: 0.0408 - accuracy: 0.9857 - val_loss: 0.0629 - val_accuracy: 0.9878\n",
            "Epoch 52/100\n",
            "19/19 [==============================] - 1s 37ms/step - loss: 0.0521 - accuracy: 0.9816 - val_loss: 0.0719 - val_accuracy: 0.9837\n",
            "Epoch 53/100\n",
            "19/19 [==============================] - 1s 37ms/step - loss: 0.0611 - accuracy: 0.9796 - val_loss: 0.0703 - val_accuracy: 0.9776\n",
            "Epoch 54/100\n",
            "19/19 [==============================] - 1s 37ms/step - loss: 0.0613 - accuracy: 0.9776 - val_loss: 0.0600 - val_accuracy: 0.9878\n",
            "Epoch 55/100\n",
            "19/19 [==============================] - 1s 37ms/step - loss: 0.0597 - accuracy: 0.9776 - val_loss: 0.0666 - val_accuracy: 0.9857\n",
            "Epoch 56/100\n",
            "19/19 [==============================] - 1s 37ms/step - loss: 0.0758 - accuracy: 0.9782 - val_loss: 0.0529 - val_accuracy: 0.9898\n",
            "Epoch 57/100\n",
            "19/19 [==============================] - 1s 37ms/step - loss: 0.0689 - accuracy: 0.9776 - val_loss: 0.1176 - val_accuracy: 0.9776\n",
            "Epoch 58/100\n",
            "19/19 [==============================] - 1s 37ms/step - loss: 0.0553 - accuracy: 0.9810 - val_loss: 0.0542 - val_accuracy: 0.9837\n",
            "Epoch 59/100\n",
            "19/19 [==============================] - 1s 37ms/step - loss: 0.0481 - accuracy: 0.9837 - val_loss: 0.0456 - val_accuracy: 0.9898\n",
            "Epoch 60/100\n",
            "19/19 [==============================] - 1s 37ms/step - loss: 0.0687 - accuracy: 0.9789 - val_loss: 0.0638 - val_accuracy: 0.9857\n",
            "Epoch 61/100\n",
            "19/19 [==============================] - 1s 37ms/step - loss: 0.0718 - accuracy: 0.9755 - val_loss: 0.0499 - val_accuracy: 0.9857\n",
            "Epoch 62/100\n",
            "19/19 [==============================] - 1s 37ms/step - loss: 0.0405 - accuracy: 0.9850 - val_loss: 0.0600 - val_accuracy: 0.9796\n",
            "Epoch 63/100\n",
            "19/19 [==============================] - 1s 37ms/step - loss: 0.0571 - accuracy: 0.9816 - val_loss: 0.0400 - val_accuracy: 0.9939\n",
            "Epoch 64/100\n",
            "19/19 [==============================] - 1s 37ms/step - loss: 0.0427 - accuracy: 0.9864 - val_loss: 0.0482 - val_accuracy: 0.9878\n",
            "Epoch 65/100\n",
            "19/19 [==============================] - 1s 37ms/step - loss: 0.0515 - accuracy: 0.9789 - val_loss: 0.0418 - val_accuracy: 0.9918\n",
            "Epoch 66/100\n",
            "19/19 [==============================] - 1s 37ms/step - loss: 0.0542 - accuracy: 0.9823 - val_loss: 0.0423 - val_accuracy: 0.9918\n",
            "Epoch 67/100\n",
            "19/19 [==============================] - 1s 37ms/step - loss: 0.0388 - accuracy: 0.9884 - val_loss: 0.0505 - val_accuracy: 0.9918\n",
            "Epoch 68/100\n",
            "19/19 [==============================] - 1s 37ms/step - loss: 0.0534 - accuracy: 0.9810 - val_loss: 0.0632 - val_accuracy: 0.9837\n",
            "Epoch 69/100\n",
            "19/19 [==============================] - 1s 37ms/step - loss: 0.0470 - accuracy: 0.9837 - val_loss: 0.0656 - val_accuracy: 0.9939\n",
            "Epoch 70/100\n",
            "19/19 [==============================] - 1s 37ms/step - loss: 0.0563 - accuracy: 0.9823 - val_loss: 0.0632 - val_accuracy: 0.9898\n",
            "Epoch 71/100\n",
            "19/19 [==============================] - 1s 37ms/step - loss: 0.0454 - accuracy: 0.9857 - val_loss: 0.0737 - val_accuracy: 0.9776\n",
            "Epoch 72/100\n",
            "19/19 [==============================] - 1s 37ms/step - loss: 0.0418 - accuracy: 0.9850 - val_loss: 0.0605 - val_accuracy: 0.9878\n",
            "Epoch 73/100\n",
            "19/19 [==============================] - 1s 37ms/step - loss: 0.0389 - accuracy: 0.9850 - val_loss: 0.0592 - val_accuracy: 0.9878\n",
            "Epoch 74/100\n",
            "19/19 [==============================] - 1s 37ms/step - loss: 0.0418 - accuracy: 0.9844 - val_loss: 0.0506 - val_accuracy: 0.9918\n",
            "Epoch 75/100\n",
            "19/19 [==============================] - 1s 36ms/step - loss: 0.0443 - accuracy: 0.9837 - val_loss: 0.0551 - val_accuracy: 0.9918\n",
            "Epoch 76/100\n",
            "19/19 [==============================] - 1s 37ms/step - loss: 0.0381 - accuracy: 0.9878 - val_loss: 0.0517 - val_accuracy: 0.9878\n",
            "Epoch 77/100\n",
            "19/19 [==============================] - 1s 37ms/step - loss: 0.0350 - accuracy: 0.9871 - val_loss: 0.0954 - val_accuracy: 0.9796\n",
            "Epoch 78/100\n",
            "19/19 [==============================] - 1s 37ms/step - loss: 0.0646 - accuracy: 0.9769 - val_loss: 0.0601 - val_accuracy: 0.9878\n",
            "Epoch 79/100\n",
            "19/19 [==============================] - 1s 37ms/step - loss: 0.0364 - accuracy: 0.9871 - val_loss: 0.0459 - val_accuracy: 0.9918\n",
            "Epoch 80/100\n",
            "19/19 [==============================] - 1s 37ms/step - loss: 0.0512 - accuracy: 0.9830 - val_loss: 0.0486 - val_accuracy: 0.9898\n",
            "Epoch 81/100\n",
            "19/19 [==============================] - 1s 37ms/step - loss: 0.0463 - accuracy: 0.9850 - val_loss: 0.0337 - val_accuracy: 0.9918\n",
            "Epoch 82/100\n",
            "19/19 [==============================] - 1s 37ms/step - loss: 0.0722 - accuracy: 0.9850 - val_loss: 0.0541 - val_accuracy: 0.9878\n",
            "Epoch 83/100\n",
            "19/19 [==============================] - 1s 37ms/step - loss: 0.0602 - accuracy: 0.9782 - val_loss: 0.0673 - val_accuracy: 0.9878\n",
            "Epoch 84/100\n",
            "19/19 [==============================] - 1s 37ms/step - loss: 0.0352 - accuracy: 0.9871 - val_loss: 0.0640 - val_accuracy: 0.9857\n",
            "Epoch 85/100\n",
            "19/19 [==============================] - 1s 37ms/step - loss: 0.0499 - accuracy: 0.9837 - val_loss: 0.0610 - val_accuracy: 0.9878\n",
            "Epoch 86/100\n",
            "19/19 [==============================] - 1s 37ms/step - loss: 0.0506 - accuracy: 0.9810 - val_loss: 0.0496 - val_accuracy: 0.9878\n",
            "Epoch 87/100\n",
            "19/19 [==============================] - 1s 37ms/step - loss: 0.0408 - accuracy: 0.9864 - val_loss: 0.0526 - val_accuracy: 0.9898\n",
            "Epoch 88/100\n",
            "19/19 [==============================] - 1s 37ms/step - loss: 0.0533 - accuracy: 0.9837 - val_loss: 0.0498 - val_accuracy: 0.9878\n",
            "Epoch 89/100\n",
            "19/19 [==============================] - 1s 37ms/step - loss: 0.0246 - accuracy: 0.9898 - val_loss: 0.0429 - val_accuracy: 0.9918\n",
            "Epoch 90/100\n",
            "19/19 [==============================] - 1s 37ms/step - loss: 0.0355 - accuracy: 0.9891 - val_loss: 0.0462 - val_accuracy: 0.9939\n",
            "Epoch 91/100\n",
            "19/19 [==============================] - 1s 36ms/step - loss: 0.0374 - accuracy: 0.9864 - val_loss: 0.0635 - val_accuracy: 0.9878\n",
            "Epoch 92/100\n",
            "19/19 [==============================] - 1s 37ms/step - loss: 0.0267 - accuracy: 0.9918 - val_loss: 0.0837 - val_accuracy: 0.9878\n",
            "Epoch 93/100\n",
            "19/19 [==============================] - 1s 37ms/step - loss: 0.0484 - accuracy: 0.9844 - val_loss: 0.0368 - val_accuracy: 0.9939\n",
            "Epoch 94/100\n",
            "19/19 [==============================] - 1s 37ms/step - loss: 0.0302 - accuracy: 0.9871 - val_loss: 0.0540 - val_accuracy: 0.9898\n",
            "Epoch 95/100\n",
            "19/19 [==============================] - 1s 37ms/step - loss: 0.0281 - accuracy: 0.9891 - val_loss: 0.0418 - val_accuracy: 0.9918\n",
            "Epoch 96/100\n",
            "19/19 [==============================] - 1s 37ms/step - loss: 0.0447 - accuracy: 0.9884 - val_loss: 0.0592 - val_accuracy: 0.9878\n",
            "Epoch 97/100\n",
            "19/19 [==============================] - 1s 37ms/step - loss: 0.0350 - accuracy: 0.9884 - val_loss: 0.0826 - val_accuracy: 0.9837\n",
            "Epoch 98/100\n",
            "19/19 [==============================] - 1s 37ms/step - loss: 0.0498 - accuracy: 0.9864 - val_loss: 0.0824 - val_accuracy: 0.9776\n",
            "Epoch 99/100\n",
            "19/19 [==============================] - 1s 37ms/step - loss: 0.0386 - accuracy: 0.9891 - val_loss: 0.0499 - val_accuracy: 0.9898\n",
            "Epoch 100/100\n",
            "19/19 [==============================] - 1s 37ms/step - loss: 0.0411 - accuracy: 0.9857 - val_loss: 0.0377 - val_accuracy: 0.9939\n"
          ],
          "name": "stdout"
        }
      ]
    },
    {
      "cell_type": "code",
      "metadata": {
        "colab": {
          "base_uri": "https://localhost:8080/"
        },
        "id": "ZQ4n8wAmB9ZX",
        "outputId": "395144e5-fd43-4ed1-8e7b-6734f2926b5c"
      },
      "source": [
        "# Evaluate model\n",
        "print(f'Train Accuracy: { model.evaluate(X_train[:,:,:,None],y_train)[1]}')\n",
        "print(f'Test Accuracy: {model.evaluate(X_test[:,:,:,None],y_test)[1]}')"
      ],
      "id": "ZQ4n8wAmB9ZX",
      "execution_count": 46,
      "outputs": [
        {
          "output_type": "stream",
          "text": [
            "46/46 [==============================] - 0s 6ms/step - loss: 0.0014 - accuracy: 1.0000\n",
            "Train Accuracy: 1.0\n",
            "9/9 [==============================] - 0s 6ms/step - loss: 0.0459 - accuracy: 0.9964\n",
            "Test Accuracy: 0.9964285492897034\n"
          ],
          "name": "stdout"
        }
      ]
    },
    {
      "cell_type": "code",
      "metadata": {
        "id": "wFbKdWsMkDuw",
        "colab": {
          "base_uri": "https://localhost:8080/"
        },
        "outputId": "508d28b4-0f32-4a7f-d0db-c67be55a7387"
      },
      "source": [
        "from sklearn.metrics import classification_report\n",
        "\n",
        "# classification report\n",
        "predicted_classes = np.argmax(np.round(model.predict(X_test[:,:,:,None])),axis=1)\n",
        "correct = np.where(predicted_classes==y_test)[0]\n",
        "target_names = [f\"Class {label}\" for label in range(len(np.unique(df['label'])))]\n",
        "\n",
        "print(f\"From {len(y_test)} labels're founding {len(correct)} correct labels.\")\n",
        "print('')\n",
        "print(classification_report(y_test, predicted_classes, target_names=target_names))"
      ],
      "id": "wFbKdWsMkDuw",
      "execution_count": 47,
      "outputs": [
        {
          "output_type": "stream",
          "text": [
            "From 280 labels're founding 277 correct labels.\n",
            "\n",
            "              precision    recall  f1-score   support\n",
            "\n",
            "     Class 0       0.71      1.00      0.83         5\n",
            "     Class 1       1.00      1.00      1.00         5\n",
            "     Class 2       1.00      1.00      1.00         5\n",
            "     Class 3       1.00      1.00      1.00         5\n",
            "     Class 4       1.00      1.00      1.00         5\n",
            "     Class 5       1.00      1.00      1.00         5\n",
            "     Class 6       1.00      1.00      1.00         5\n",
            "     Class 7       1.00      1.00      1.00         5\n",
            "     Class 8       1.00      1.00      1.00         5\n",
            "     Class 9       1.00      0.80      0.89         5\n",
            "    Class 10       0.83      1.00      0.91         5\n",
            "    Class 11       1.00      1.00      1.00         5\n",
            "    Class 12       1.00      1.00      1.00         5\n",
            "    Class 13       1.00      1.00      1.00         5\n",
            "    Class 14       1.00      1.00      1.00         5\n",
            "    Class 15       1.00      1.00      1.00         5\n",
            "    Class 16       1.00      0.80      0.89         5\n",
            "    Class 17       1.00      1.00      1.00         5\n",
            "    Class 18       1.00      1.00      1.00         5\n",
            "    Class 19       1.00      1.00      1.00         5\n",
            "    Class 20       1.00      1.00      1.00         5\n",
            "    Class 21       1.00      1.00      1.00         5\n",
            "    Class 22       1.00      1.00      1.00         5\n",
            "    Class 23       1.00      1.00      1.00         5\n",
            "    Class 24       1.00      1.00      1.00         5\n",
            "    Class 25       1.00      1.00      1.00         5\n",
            "    Class 26       1.00      1.00      1.00         5\n",
            "    Class 27       1.00      1.00      1.00         5\n",
            "    Class 28       1.00      1.00      1.00         5\n",
            "    Class 29       1.00      1.00      1.00         5\n",
            "    Class 30       1.00      0.80      0.89         5\n",
            "    Class 31       1.00      1.00      1.00         5\n",
            "    Class 32       1.00      1.00      1.00         5\n",
            "    Class 33       1.00      1.00      1.00         5\n",
            "    Class 34       1.00      1.00      1.00         5\n",
            "    Class 35       1.00      1.00      1.00         5\n",
            "    Class 36       1.00      1.00      1.00         5\n",
            "    Class 37       1.00      1.00      1.00         5\n",
            "    Class 38       1.00      1.00      1.00         5\n",
            "    Class 39       1.00      1.00      1.00         5\n",
            "    Class 40       1.00      1.00      1.00         5\n",
            "    Class 41       1.00      1.00      1.00         5\n",
            "    Class 42       1.00      1.00      1.00         5\n",
            "    Class 43       1.00      1.00      1.00         5\n",
            "    Class 44       1.00      1.00      1.00         5\n",
            "    Class 45       1.00      1.00      1.00         5\n",
            "    Class 46       1.00      1.00      1.00         5\n",
            "    Class 47       1.00      1.00      1.00         5\n",
            "    Class 48       1.00      1.00      1.00         5\n",
            "    Class 49       1.00      1.00      1.00         5\n",
            "    Class 50       1.00      1.00      1.00         5\n",
            "    Class 51       1.00      1.00      1.00         5\n",
            "    Class 52       1.00      1.00      1.00         5\n",
            "    Class 53       1.00      1.00      1.00         5\n",
            "    Class 54       1.00      1.00      1.00         5\n",
            "    Class 55       1.00      1.00      1.00         5\n",
            "\n",
            "    accuracy                           0.99       280\n",
            "   macro avg       0.99      0.99      0.99       280\n",
            "weighted avg       0.99      0.99      0.99       280\n",
            "\n"
          ],
          "name": "stdout"
        }
      ]
    },
    {
      "cell_type": "code",
      "metadata": {
        "id": "F62fEQaGFMqs",
        "colab": {
          "base_uri": "https://localhost:8080/",
          "height": 354
        },
        "outputId": "11af9c16-0655-4234-e7f0-bf310fe73f23"
      },
      "source": [
        "import matplotlib.pyplot as plt\n",
        "\n",
        "# plot the accuracy and loss plots between training and validation data\n",
        "# verlify overfitting\n",
        "acc = history.history['accuracy']\n",
        "val_acc = history.history['val_accuracy']\n",
        "loss = history.history['loss']\n",
        "val_loss = history.history['val_loss']\n",
        "x = range(1,len(acc)+1)\n",
        "\n",
        "plt.figure(figsize=(12,5))\n",
        "plt.subplot(1,2,1)\n",
        "plt.plot(x,acc,'b',label='Training acc')\n",
        "plt.plot(x,val_acc,'r',label='Validation acc')\n",
        "plt.title('Training and validation accuracy')\n",
        "plt.legend()\n",
        "plt.subplot(1,2,2)\n",
        "plt.plot(x,loss,'b',label='Training loss')\n",
        "plt.plot(x,val_loss,'r',label='Validation loss')\n",
        "plt.title('Training and validation loss')\n",
        "plt.legend()"
      ],
      "id": "F62fEQaGFMqs",
      "execution_count": 48,
      "outputs": [
        {
          "output_type": "execute_result",
          "data": {
            "text/plain": [
              "<matplotlib.legend.Legend at 0x7ffad56a1650>"
            ]
          },
          "metadata": {},
          "execution_count": 48
        },
        {
          "output_type": "display_data",
          "data": {
            "image/png": "[encoded data removed]",
            "text/plain": [
              "<Figure size 864x360 with 2 Axes>"
            ]
          },
          "metadata": {
            "needs_background": "light"
          }
        }
      ]
    }
  ]
}