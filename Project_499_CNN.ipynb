{
  "nbformat": 4,
  "nbformat_minor": 5,
  "metadata": {
    "colab": {
      "name": "Project_499_CNN.ipynb",
      "provenance": [],
      "collapsed_sections": [],
      "machine_shape": "hm",
      "include_colab_link": true
    },
    "kernelspec": {
      "display_name": "Python 3",
      "language": "python",
      "name": "python3"
    },
    "language_info": {
      "codemirror_mode": {
        "name": "ipython",
        "version": 3
      },
      "file_extension": ".py",
      "mimetype": "text/x-python",
      "name": "python",
      "nbconvert_exporter": "python",
      "pygments_lexer": "ipython3",
      "version": "3.8.8"
    },
    "accelerator": "GPU"
  },
  "cells": [
    {
      "cell_type": "markdown",
      "metadata": {
        "id": "view-in-github",
        "colab_type": "text"
      },
      "source": [
        "<a href=\"https://colab.research.google.com/github/NongNNew/Project_499/blob/main/Project_499_CNN.ipynb\" target=\"_parent\"><img src=\"https://colab.research.google.com/assets/colab-badge.svg\" alt=\"Open In Colab\"/></a>"
      ]
    },
    {
      "cell_type": "markdown",
      "metadata": {
        "id": "hW4AHGmEVrk8"
      },
      "source": [
        "# **CNN**"
      ],
      "id": "hW4AHGmEVrk8"
    },
    {
      "cell_type": "markdown",
      "metadata": {
        "id": "nkYRb02rScfH"
      },
      "source": [
        "## setup"
      ],
      "id": "nkYRb02rScfH"
    },
    {
      "cell_type": "code",
      "metadata": {
        "colab": {
          "base_uri": "https://localhost:8080/"
        },
        "id": "Nq11bNFAbCci",
        "outputId": "55074234-c791-4b72-a539-7b5619109cbc"
      },
      "source": [
        "!pip install python_speech_features"
      ],
      "id": "Nq11bNFAbCci",
      "execution_count": null,
      "outputs": [
        {
          "output_type": "stream",
          "text": [
            "Collecting python_speech_features\n",
            "  Downloading python_speech_features-0.6.tar.gz (5.6 kB)\n",
            "Building wheels for collected packages: python-speech-features\n",
            "  Building wheel for python-speech-features (setup.py) ... \u001b[?25l\u001b[?25hdone\n",
            "  Created wheel for python-speech-features: filename=python_speech_features-0.6-py3-none-any.whl size=5888 sha256=3cafd1e835f51033a12f3461b1c4e9113501e02de945f9fc7e867e138b1a7cde\n",
            "  Stored in directory: /root/.cache/pip/wheels/b0/0e/94/28cd6afa3cd5998a63eef99fe31777acd7d758f59cf24839eb\n",
            "Successfully built python-speech-features\n",
            "Installing collected packages: python-speech-features\n",
            "Successfully installed python-speech-features-0.6\n"
          ],
          "name": "stdout"
        }
      ]
    },
    {
      "cell_type": "code",
      "metadata": {
        "id": "fssuU2ucR1vy"
      },
      "source": [
        "import tensorflow as tf\n",
        "from tensorflow import keras \n",
        "import python_speech_features\n",
        "from scipy.signal.windows import hamming\n",
        "import pandas as pd\n",
        "from glob import glob\n",
        "import librosa\n",
        "import numpy as np\n",
        "from sklearn.metrics import classification_report\n",
        "import matplotlib.pyplot as plt"
      ],
      "id": "fssuU2ucR1vy",
      "execution_count": null,
      "outputs": []
    },
    {
      "cell_type": "code",
      "metadata": {
        "id": "y1vuUlgJSKkC"
      },
      "source": [
        "np.random.seed(1)\n",
        "tf.random.set_seed(1)"
      ],
      "id": "y1vuUlgJSKkC",
      "execution_count": null,
      "outputs": []
    },
    {
      "cell_type": "markdown",
      "metadata": {
        "id": "BRWP2IrOShCH"
      },
      "source": [
        "## prepare dataset"
      ],
      "id": "BRWP2IrOShCH"
    },
    {
      "cell_type": "code",
      "metadata": {
        "colab": {
          "base_uri": "https://localhost:8080/"
        },
        "id": "gJVdtdww87RO",
        "outputId": "28858e15-290f-4dcd-ed1f-89647e4f848f"
      },
      "source": [
        "# Upload audio files from github\n",
        "!git clone https://github.com/NongNNew/Project_499.git"
      ],
      "id": "gJVdtdww87RO",
      "execution_count": null,
      "outputs": [
        {
          "output_type": "stream",
          "text": [
            "Cloning into 'Project_499'...\n",
            "remote: Enumerating objects: 1447, done.\u001b[K\n",
            "remote: Counting objects: 100% (3/3), done.\u001b[K\n",
            "remote: Compressing objects: 100% (3/3), done.\u001b[K\n",
            "remote: Total 1447 (delta 0), reused 0 (delta 0), pack-reused 1444\u001b[K\n",
            "Receiving objects: 100% (1447/1447), 233.31 MiB | 23.64 MiB/s, done.\n",
            "Resolving deltas: 100% (148/148), done.\n",
            "Checking out files: 100% (1122/1122), done.\n"
          ],
          "name": "stdout"
        }
      ]
    },
    {
      "cell_type": "code",
      "metadata": {
        "id": "EHnDUT5YejVV"
      },
      "source": [
        "# Name of vegetables and fruits 52 types of 56 classes\n",
        "fruit_veget = ['กระชาย','กระท้อน','กระเทียม1','กระเทียม2','กระเพรา','กล้วยน้ำว้า','กล้วยหอม',\n",
        "               'ข้าวโพด','ไข่น้ำ',\n",
        "               'ตะขบไทย','ตะไคร้',\n",
        "               'ถั่วฝักยาว','ถั่วลันเตา','ถั่วลิสง',\n",
        "               'ทับทิม',\n",
        "               'น้อยหน่า','น้ำเต้า',\n",
        "               'ผักกระเฉด','ผักกุยช่าย','ผักขึ้นช่าย','ผักชะอม','ผักชี','ผักชีฝรั่ง','ผักตำลึง',\n",
        "               'มะปราง','มะพลับ','มะละกอ','มะกรูด','มะเขือพวง','มะเขือเทศ','มะระ','มะรุม','มะตูม','มันแกว1','มันแกว2','มันเทศ','มันฝรั่ง','มันสำปะหลัง',\n",
        "               'บวบ','ใบชะพลู1','ใบชะพลู2','ใบบัวบก','ใบแมงลัก','ใบยอ',\n",
        "               'พริกขี้หนู','พริกสด','พุทรา','เพกา',\n",
        "               'ฝรั่ง',\n",
        "               'ฟัก','ฟักทอง',\n",
        "               'สับปะรด','สะเดา','สะระแหน่',\n",
        "               'หัวหอม1','หัวหอม2']\n",
        "\n",
        "# Audio data source\n",
        "source = {'audio_time':[],\n",
        "          'sampling_rate':[],\n",
        "          'feature_extraction':[],\n",
        "          'label':[],\n",
        "          'description':[]}"
      ],
      "id": "EHnDUT5YejVV",
      "execution_count": null,
      "outputs": []
    },
    {
      "cell_type": "code",
      "metadata": {
        "id": "_XRqKtGBeW_1"
      },
      "source": [
        "def feature_mfcc(y,sr):\n",
        "    return (python_speech_features.mfcc(signal=y, \n",
        "                                    samplerate=sr, \n",
        "                                    winlen= 512/sr, \n",
        "                                    winstep= 160/sr,\n",
        "                                    numcep= 13,\n",
        "                                    nfilt= 40, \n",
        "                                    nfft= 512,\n",
        "                                    lowfreq= 0,\n",
        "                                    highfreq= None,\n",
        "                                    preemph= 0.97, \n",
        "                                    ceplifter= 0,\n",
        "                                    winfunc= hamming))"
      ],
      "id": "_XRqKtGBeW_1",
      "execution_count": null,
      "outputs": []
    },
    {
      "cell_type": "code",
      "metadata": {
        "id": "tixApnAUy5tv"
      },
      "source": [
        "for types in fruit_veget:\n",
        "    audio_files = glob('/content/Project_499/Record_audio/' + str(types) + '/*.wav')\n",
        "\n",
        "    for audio in audio_files:\n",
        "        y,sr = librosa.load(audio,duration=5,offset=0)\n",
        "        source['description'].append(str(types))\n",
        "        source['audio_time'].append(y)\n",
        "        source['sampling_rate'].append(sr)\n",
        "        source['feature_extraction'].append(feature_mfcc(y,sr))\n",
        "        source['label'].append(fruit_veget.index(types))"
      ],
      "id": "tixApnAUy5tv",
      "execution_count": null,
      "outputs": []
    },
    {
      "cell_type": "code",
      "metadata": {
        "colab": {
          "base_uri": "https://localhost:8080/",
          "height": 417
        },
        "id": "8B6cSV4Ckude",
        "outputId": "843af0b1-f926-472a-8a43-133a2a99bf0a"
      },
      "source": [
        "# tranform dictionary to dataframe \n",
        "df = pd.DataFrame.from_dict(source)\n",
        "df"
      ],
      "id": "8B6cSV4Ckude",
      "execution_count": null,
      "outputs": [
        {
          "output_type": "execute_result",
          "data": {
            "text/html": [
              "<div>\n",
              "<style scoped>\n",
              "    .dataframe tbody tr th:only-of-type {\n",
              "        vertical-align: middle;\n",
              "    }\n",
              "\n",
              "    .dataframe tbody tr th {\n",
              "        vertical-align: top;\n",
              "    }\n",
              "\n",
              "    .dataframe thead th {\n",
              "        text-align: right;\n",
              "    }\n",
              "</style>\n",
              "<table border=\"1\" class=\"dataframe\">\n",
              "  <thead>\n",
              "    <tr style=\"text-align: right;\">\n",
              "      <th></th>\n",
              "      <th>audio_time</th>\n",
              "      <th>sampling_rate</th>\n",
              "      <th>feature_extraction</th>\n",
              "      <th>label</th>\n",
              "      <th>description</th>\n",
              "    </tr>\n",
              "  </thead>\n",
              "  <tbody>\n",
              "    <tr>\n",
              "      <th>0</th>\n",
              "      <td>[-0.0009765625, -0.001449585, -0.001373291, -0...</td>\n",
              "      <td>22050</td>\n",
              "      <td>[[-13.841251857084886, -10.542052145166839, 1....</td>\n",
              "      <td>0</td>\n",
              "      <td>กระชาย</td>\n",
              "    </tr>\n",
              "    <tr>\n",
              "      <th>1</th>\n",
              "      <td>[1.5258789e-05, -3.0517578e-05, 4.5776367e-05,...</td>\n",
              "      <td>22050</td>\n",
              "      <td>[[-13.895163210723114, -10.534242113550562, 0....</td>\n",
              "      <td>0</td>\n",
              "      <td>กระชาย</td>\n",
              "    </tr>\n",
              "    <tr>\n",
              "      <th>2</th>\n",
              "      <td>[1.5258789e-05, -3.0517578e-05, 6.1035156e-05,...</td>\n",
              "      <td>22050</td>\n",
              "      <td>[[-14.225420647550473, -11.767209141048717, 0....</td>\n",
              "      <td>0</td>\n",
              "      <td>กระชาย</td>\n",
              "    </tr>\n",
              "    <tr>\n",
              "      <th>3</th>\n",
              "      <td>[-1.5258789e-05, 1.5258789e-05, -1.5258789e-05...</td>\n",
              "      <td>22050</td>\n",
              "      <td>[[-13.834222688815137, -11.278032760622157, -1...</td>\n",
              "      <td>0</td>\n",
              "      <td>กระชาย</td>\n",
              "    </tr>\n",
              "    <tr>\n",
              "      <th>4</th>\n",
              "      <td>[-0.00024414062, -0.0002593994, -0.00022888184...</td>\n",
              "      <td>22050</td>\n",
              "      <td>[[-13.849791727695862, -11.588470019049367, -0...</td>\n",
              "      <td>0</td>\n",
              "      <td>กระชาย</td>\n",
              "    </tr>\n",
              "    <tr>\n",
              "      <th>...</th>\n",
              "      <td>...</td>\n",
              "      <td>...</td>\n",
              "      <td>...</td>\n",
              "      <td>...</td>\n",
              "      <td>...</td>\n",
              "    </tr>\n",
              "    <tr>\n",
              "      <th>1115</th>\n",
              "      <td>[-7.6293945e-05, -3.0517578e-05, 4.5776367e-05...</td>\n",
              "      <td>22050</td>\n",
              "      <td>[[-14.064456461828245, -10.130237156697339, 2....</td>\n",
              "      <td>55</td>\n",
              "      <td>หัวหอม2</td>\n",
              "    </tr>\n",
              "    <tr>\n",
              "      <th>1116</th>\n",
              "      <td>[-0.00018310547, -0.00019836426, -0.0002288818...</td>\n",
              "      <td>22050</td>\n",
              "      <td>[[-13.811710436355032, -12.034727613545229, 0....</td>\n",
              "      <td>55</td>\n",
              "      <td>หัวหอม2</td>\n",
              "    </tr>\n",
              "    <tr>\n",
              "      <th>1117</th>\n",
              "      <td>[0.0, -1.5258789e-05, 3.0517578e-05, -3.051757...</td>\n",
              "      <td>22050</td>\n",
              "      <td>[[-14.18512183869517, -10.797166196952473, 3.3...</td>\n",
              "      <td>55</td>\n",
              "      <td>หัวหอม2</td>\n",
              "    </tr>\n",
              "    <tr>\n",
              "      <th>1118</th>\n",
              "      <td>[-1.5258789e-05, -3.0517578e-05, -0.0001525878...</td>\n",
              "      <td>22050</td>\n",
              "      <td>[[-13.975110034884988, -11.68691907136182, -0....</td>\n",
              "      <td>55</td>\n",
              "      <td>หัวหอม2</td>\n",
              "    </tr>\n",
              "    <tr>\n",
              "      <th>1119</th>\n",
              "      <td>[-0.0001373291, -0.0001373291, -9.1552734e-05,...</td>\n",
              "      <td>22050</td>\n",
              "      <td>[[-13.96050509926212, -9.312697095263102, 1.11...</td>\n",
              "      <td>55</td>\n",
              "      <td>หัวหอม2</td>\n",
              "    </tr>\n",
              "  </tbody>\n",
              "</table>\n",
              "<p>1120 rows × 5 columns</p>\n",
              "</div>"
            ],
            "text/plain": [
              "                                             audio_time  ...  description\n",
              "0     [-0.0009765625, -0.001449585, -0.001373291, -0...  ...       กระชาย\n",
              "1     [1.5258789e-05, -3.0517578e-05, 4.5776367e-05,...  ...       กระชาย\n",
              "2     [1.5258789e-05, -3.0517578e-05, 6.1035156e-05,...  ...       กระชาย\n",
              "3     [-1.5258789e-05, 1.5258789e-05, -1.5258789e-05...  ...       กระชาย\n",
              "4     [-0.00024414062, -0.0002593994, -0.00022888184...  ...       กระชาย\n",
              "...                                                 ...  ...          ...\n",
              "1115  [-7.6293945e-05, -3.0517578e-05, 4.5776367e-05...  ...      หัวหอม2\n",
              "1116  [-0.00018310547, -0.00019836426, -0.0002288818...  ...      หัวหอม2\n",
              "1117  [0.0, -1.5258789e-05, 3.0517578e-05, -3.051757...  ...      หัวหอม2\n",
              "1118  [-1.5258789e-05, -3.0517578e-05, -0.0001525878...  ...      หัวหอม2\n",
              "1119  [-0.0001373291, -0.0001373291, -9.1552734e-05,...  ...      หัวหอม2\n",
              "\n",
              "[1120 rows x 5 columns]"
            ]
          },
          "metadata": {},
          "execution_count": 8
        }
      ]
    },
    {
      "cell_type": "code",
      "metadata": {
        "id": "T7yzW3hnmuyB"
      },
      "source": [
        "Test = pd.DataFrame(columns=source.keys())\n",
        "\n",
        "# Create test data\n",
        "for description in np.unique(df['description']):\n",
        "    imp_test = df[df['description']==description].sample(5,random_state=1)\n",
        "    Test = pd.concat([Test,imp_test], axis=0)\n",
        "Train = df.drop(Test.index)\n",
        "\n",
        "\n",
        "X_train = np.array(Train['feature_extraction'].to_list())\n",
        "X_test = np.array(Test['feature_extraction'].to_list())\n",
        "y_train = np.array(Train['label'].to_list())\n",
        "y_test = np.array(Test['label'].to_list())"
      ],
      "id": "T7yzW3hnmuyB",
      "execution_count": null,
      "outputs": []
    },
    {
      "cell_type": "code",
      "metadata": {
        "colab": {
          "base_uri": "https://localhost:8080/"
        },
        "id": "mSV3u9RmEU7h",
        "outputId": "81652810-18ac-49a0-d1ff-d28cbfd0e9e8"
      },
      "source": [
        "# Proportion of data\n",
        "X_train.shape,X_test.shape,y_train.shape, y_test.shape"
      ],
      "id": "mSV3u9RmEU7h",
      "execution_count": null,
      "outputs": [
        {
          "output_type": "execute_result",
          "data": {
            "text/plain": [
              "((840, 687, 13), (280, 687, 13), (840,), (280,))"
            ]
          },
          "metadata": {},
          "execution_count": 10
        }
      ]
    },
    {
      "cell_type": "markdown",
      "metadata": {
        "id": "r7RGaVViSrwg"
      },
      "source": [
        "## build cnn model"
      ],
      "id": "r7RGaVViSrwg"
    },
    {
      "cell_type": "code",
      "metadata": {
        "id": "77wMVqve6W8f"
      },
      "source": [
        "def create_cnn_model(X_train):\n",
        "    model = None\n",
        "    model = keras.Sequential()\n",
        "    model.add(keras.layers.Conv2D(128, 5, input_shape=(X_train.shape[1], X_train.shape[2], 1), activation='relu'))\n",
        "    model.add(keras.layers.Dropout(0.25))\n",
        "    model.add(keras.layers.MaxPool2D())\n",
        "    model.add(keras.layers.Conv2D(64, 5, activation='relu',padding='same'))\n",
        "    model.add(keras.layers.Dropout(0.25))\n",
        "    model.add(keras.layers.MaxPool2D())\n",
        "    model.add(keras.layers.Conv2D(128, 5, activation='relu',padding='same'))\n",
        "    model.add(keras.layers.Dropout(0.25))\n",
        "    model.add(keras.layers.MaxPool2D())\n",
        "    model.add(keras.layers.Flatten())\n",
        "    model.add(keras.layers.Dense(128, activation='relu'))\n",
        "    model.add(keras.layers.Dropout(0.25))\n",
        "    model.add(keras.layers.Dense(64, activation='relu'))\n",
        "    model.add(keras.layers.Dropout(0.25))\n",
        "    model.add(keras.layers.Dense(len(np.unique(df['label'])), activation='softmax'))\n",
        "    model.compile(optimizer='adam', loss='sparse_categorical_crossentropy', metrics=['accuracy'])\n",
        "\n",
        "    model.summary()\n",
        "\n",
        "    return model"
      ],
      "id": "77wMVqve6W8f",
      "execution_count": null,
      "outputs": []
    },
    {
      "cell_type": "markdown",
      "metadata": {
        "id": "N_EPqJGnS7ng"
      },
      "source": [
        "## train model"
      ],
      "id": "N_EPqJGnS7ng"
    },
    {
      "cell_type": "code",
      "metadata": {
        "id": "ngmfDNcnGMC7",
        "colab": {
          "base_uri": "https://localhost:8080/"
        },
        "outputId": "245746f0-0295-4871-a72d-bd294960ea09"
      },
      "source": [
        "# Train model\n",
        "model_cnn = create_cnn_model(X_train)\n",
        "history = model_cnn.fit(X_train[:,:,:,None], y_train, epochs=100, validation_data=(X_test[:,:,:,None],y_test),batch_size=80)"
      ],
      "id": "ngmfDNcnGMC7",
      "execution_count": null,
      "outputs": [
        {
          "output_type": "stream",
          "text": [
            "Model: \"sequential\"\n",
            "_________________________________________________________________\n",
            "Layer (type)                 Output Shape              Param #   \n",
            "=================================================================\n",
            "conv2d (Conv2D)              (None, 683, 9, 128)       3328      \n",
            "_________________________________________________________________\n",
            "dropout (Dropout)            (None, 683, 9, 128)       0         \n",
            "_________________________________________________________________\n",
            "max_pooling2d (MaxPooling2D) (None, 341, 4, 128)       0         \n",
            "_________________________________________________________________\n",
            "conv2d_1 (Conv2D)            (None, 341, 4, 64)        204864    \n",
            "_________________________________________________________________\n",
            "dropout_1 (Dropout)          (None, 341, 4, 64)        0         \n",
            "_________________________________________________________________\n",
            "max_pooling2d_1 (MaxPooling2 (None, 170, 2, 64)        0         \n",
            "_________________________________________________________________\n",
            "conv2d_2 (Conv2D)            (None, 170, 2, 128)       204928    \n",
            "_________________________________________________________________\n",
            "dropout_2 (Dropout)          (None, 170, 2, 128)       0         \n",
            "_________________________________________________________________\n",
            "max_pooling2d_2 (MaxPooling2 (None, 85, 1, 128)        0         \n",
            "_________________________________________________________________\n",
            "flatten (Flatten)            (None, 10880)             0         \n",
            "_________________________________________________________________\n",
            "dense (Dense)                (None, 128)               1392768   \n",
            "_________________________________________________________________\n",
            "dropout_3 (Dropout)          (None, 128)               0         \n",
            "_________________________________________________________________\n",
            "dense_1 (Dense)              (None, 64)                8256      \n",
            "_________________________________________________________________\n",
            "dropout_4 (Dropout)          (None, 64)                0         \n",
            "_________________________________________________________________\n",
            "dense_2 (Dense)              (None, 56)                3640      \n",
            "=================================================================\n",
            "Total params: 1,817,784\n",
            "Trainable params: 1,817,784\n",
            "Non-trainable params: 0\n",
            "_________________________________________________________________\n",
            "Epoch 1/100\n",
            "11/11 [==============================] - 19s 158ms/step - loss: 4.2192 - accuracy: 0.0143 - val_loss: 4.0244 - val_accuracy: 0.0286\n",
            "Epoch 2/100\n",
            "11/11 [==============================] - 1s 81ms/step - loss: 4.0168 - accuracy: 0.0262 - val_loss: 4.0024 - val_accuracy: 0.0357\n",
            "Epoch 3/100\n",
            "11/11 [==============================] - 1s 81ms/step - loss: 3.9336 - accuracy: 0.0464 - val_loss: 3.8870 - val_accuracy: 0.0464\n",
            "Epoch 4/100\n",
            "11/11 [==============================] - 1s 81ms/step - loss: 3.7575 - accuracy: 0.0667 - val_loss: 3.7690 - val_accuracy: 0.0893\n",
            "Epoch 5/100\n",
            "11/11 [==============================] - 1s 81ms/step - loss: 3.6063 - accuracy: 0.0869 - val_loss: 3.5250 - val_accuracy: 0.1393\n",
            "Epoch 6/100\n",
            "11/11 [==============================] - 1s 81ms/step - loss: 3.3112 - accuracy: 0.1476 - val_loss: 3.3591 - val_accuracy: 0.2821\n",
            "Epoch 7/100\n",
            "11/11 [==============================] - 1s 82ms/step - loss: 2.9776 - accuracy: 0.2119 - val_loss: 3.0405 - val_accuracy: 0.3750\n",
            "Epoch 8/100\n",
            "11/11 [==============================] - 1s 81ms/step - loss: 2.7159 - accuracy: 0.2631 - val_loss: 2.6923 - val_accuracy: 0.4821\n",
            "Epoch 9/100\n",
            "11/11 [==============================] - 1s 81ms/step - loss: 2.4077 - accuracy: 0.3417 - val_loss: 2.3737 - val_accuracy: 0.6464\n",
            "Epoch 10/100\n",
            "11/11 [==============================] - 1s 82ms/step - loss: 2.0705 - accuracy: 0.4167 - val_loss: 2.0241 - val_accuracy: 0.7143\n",
            "Epoch 11/100\n",
            "11/11 [==============================] - 1s 82ms/step - loss: 1.8800 - accuracy: 0.4583 - val_loss: 1.7661 - val_accuracy: 0.7821\n",
            "Epoch 12/100\n",
            "11/11 [==============================] - 1s 81ms/step - loss: 1.6435 - accuracy: 0.5274 - val_loss: 1.5582 - val_accuracy: 0.8429\n",
            "Epoch 13/100\n",
            "11/11 [==============================] - 1s 82ms/step - loss: 1.3867 - accuracy: 0.5881 - val_loss: 1.3054 - val_accuracy: 0.8607\n",
            "Epoch 14/100\n",
            "11/11 [==============================] - 1s 81ms/step - loss: 1.2811 - accuracy: 0.6214 - val_loss: 1.2400 - val_accuracy: 0.8714\n",
            "Epoch 15/100\n",
            "11/11 [==============================] - 1s 81ms/step - loss: 1.0150 - accuracy: 0.6857 - val_loss: 0.9798 - val_accuracy: 0.8821\n",
            "Epoch 16/100\n",
            "11/11 [==============================] - 1s 82ms/step - loss: 1.0338 - accuracy: 0.6738 - val_loss: 0.9456 - val_accuracy: 0.8857\n",
            "Epoch 17/100\n",
            "11/11 [==============================] - 1s 81ms/step - loss: 0.9079 - accuracy: 0.7298 - val_loss: 0.8340 - val_accuracy: 0.9071\n",
            "Epoch 18/100\n",
            "11/11 [==============================] - 1s 81ms/step - loss: 0.8402 - accuracy: 0.7464 - val_loss: 0.7996 - val_accuracy: 0.9071\n",
            "Epoch 19/100\n",
            "11/11 [==============================] - 1s 82ms/step - loss: 0.8817 - accuracy: 0.7345 - val_loss: 0.7707 - val_accuracy: 0.8964\n",
            "Epoch 20/100\n",
            "11/11 [==============================] - 1s 82ms/step - loss: 0.8662 - accuracy: 0.7405 - val_loss: 0.7884 - val_accuracy: 0.9036\n",
            "Epoch 21/100\n",
            "11/11 [==============================] - 1s 81ms/step - loss: 0.7239 - accuracy: 0.7726 - val_loss: 0.6488 - val_accuracy: 0.9214\n",
            "Epoch 22/100\n",
            "11/11 [==============================] - 1s 82ms/step - loss: 0.6469 - accuracy: 0.8048 - val_loss: 0.5619 - val_accuracy: 0.9071\n",
            "Epoch 23/100\n",
            "11/11 [==============================] - 1s 82ms/step - loss: 0.6697 - accuracy: 0.7964 - val_loss: 0.6394 - val_accuracy: 0.9107\n",
            "Epoch 24/100\n",
            "11/11 [==============================] - 1s 81ms/step - loss: 0.6403 - accuracy: 0.7905 - val_loss: 0.5479 - val_accuracy: 0.9321\n",
            "Epoch 25/100\n",
            "11/11 [==============================] - 1s 83ms/step - loss: 0.5297 - accuracy: 0.8405 - val_loss: 0.5180 - val_accuracy: 0.9179\n",
            "Epoch 26/100\n",
            "11/11 [==============================] - 1s 82ms/step - loss: 0.5211 - accuracy: 0.8310 - val_loss: 0.4719 - val_accuracy: 0.9321\n",
            "Epoch 27/100\n",
            "11/11 [==============================] - 1s 82ms/step - loss: 0.4969 - accuracy: 0.8619 - val_loss: 0.3982 - val_accuracy: 0.9429\n",
            "Epoch 28/100\n",
            "11/11 [==============================] - 1s 82ms/step - loss: 0.4830 - accuracy: 0.8548 - val_loss: 0.4246 - val_accuracy: 0.9321\n",
            "Epoch 29/100\n",
            "11/11 [==============================] - 1s 82ms/step - loss: 0.4717 - accuracy: 0.8667 - val_loss: 0.3924 - val_accuracy: 0.9357\n",
            "Epoch 30/100\n",
            "11/11 [==============================] - 1s 82ms/step - loss: 0.3995 - accuracy: 0.8738 - val_loss: 0.4078 - val_accuracy: 0.9143\n",
            "Epoch 31/100\n",
            "11/11 [==============================] - 1s 82ms/step - loss: 0.4533 - accuracy: 0.8750 - val_loss: 0.3442 - val_accuracy: 0.9500\n",
            "Epoch 32/100\n",
            "11/11 [==============================] - 1s 82ms/step - loss: 0.3816 - accuracy: 0.8893 - val_loss: 0.4120 - val_accuracy: 0.9464\n",
            "Epoch 33/100\n",
            "11/11 [==============================] - 1s 82ms/step - loss: 0.3933 - accuracy: 0.8774 - val_loss: 0.2919 - val_accuracy: 0.9571\n",
            "Epoch 34/100\n",
            "11/11 [==============================] - 1s 83ms/step - loss: 0.4039 - accuracy: 0.8762 - val_loss: 0.3360 - val_accuracy: 0.9429\n",
            "Epoch 35/100\n",
            "11/11 [==============================] - 1s 82ms/step - loss: 0.3461 - accuracy: 0.8857 - val_loss: 0.3395 - val_accuracy: 0.9464\n",
            "Epoch 36/100\n",
            "11/11 [==============================] - 1s 82ms/step - loss: 0.3686 - accuracy: 0.8845 - val_loss: 0.3056 - val_accuracy: 0.9571\n",
            "Epoch 37/100\n",
            "11/11 [==============================] - 1s 83ms/step - loss: 0.3954 - accuracy: 0.8833 - val_loss: 0.3144 - val_accuracy: 0.9571\n",
            "Epoch 38/100\n",
            "11/11 [==============================] - 1s 82ms/step - loss: 0.3121 - accuracy: 0.8964 - val_loss: 0.2910 - val_accuracy: 0.9429\n",
            "Epoch 39/100\n",
            "11/11 [==============================] - 1s 82ms/step - loss: 0.3386 - accuracy: 0.8964 - val_loss: 0.3017 - val_accuracy: 0.9679\n",
            "Epoch 40/100\n",
            "11/11 [==============================] - 1s 83ms/step - loss: 0.3474 - accuracy: 0.8917 - val_loss: 0.3103 - val_accuracy: 0.9607\n",
            "Epoch 41/100\n",
            "11/11 [==============================] - 1s 82ms/step - loss: 0.3755 - accuracy: 0.8786 - val_loss: 0.2893 - val_accuracy: 0.9786\n",
            "Epoch 42/100\n",
            "11/11 [==============================] - 1s 82ms/step - loss: 0.2678 - accuracy: 0.9083 - val_loss: 0.3102 - val_accuracy: 0.9464\n",
            "Epoch 43/100\n",
            "11/11 [==============================] - 1s 82ms/step - loss: 0.3244 - accuracy: 0.8905 - val_loss: 0.2843 - val_accuracy: 0.9536\n",
            "Epoch 44/100\n",
            "11/11 [==============================] - 1s 82ms/step - loss: 0.2977 - accuracy: 0.9012 - val_loss: 0.2498 - val_accuracy: 0.9607\n",
            "Epoch 45/100\n",
            "11/11 [==============================] - 1s 83ms/step - loss: 0.3051 - accuracy: 0.8976 - val_loss: 0.2714 - val_accuracy: 0.9393\n",
            "Epoch 46/100\n",
            "11/11 [==============================] - 1s 83ms/step - loss: 0.2876 - accuracy: 0.9179 - val_loss: 0.2896 - val_accuracy: 0.9464\n",
            "Epoch 47/100\n",
            "11/11 [==============================] - 1s 82ms/step - loss: 0.2981 - accuracy: 0.9143 - val_loss: 0.3156 - val_accuracy: 0.9357\n",
            "Epoch 48/100\n",
            "11/11 [==============================] - 1s 83ms/step - loss: 0.2691 - accuracy: 0.9095 - val_loss: 0.2620 - val_accuracy: 0.9536\n",
            "Epoch 49/100\n",
            "11/11 [==============================] - 1s 83ms/step - loss: 0.1766 - accuracy: 0.9393 - val_loss: 0.2539 - val_accuracy: 0.9500\n",
            "Epoch 50/100\n",
            "11/11 [==============================] - 1s 82ms/step - loss: 0.2485 - accuracy: 0.9274 - val_loss: 0.2365 - val_accuracy: 0.9571\n",
            "Epoch 51/100\n",
            "11/11 [==============================] - 1s 83ms/step - loss: 0.2487 - accuracy: 0.9262 - val_loss: 0.2424 - val_accuracy: 0.9429\n",
            "Epoch 52/100\n",
            "11/11 [==============================] - 1s 82ms/step - loss: 0.2219 - accuracy: 0.9321 - val_loss: 0.2529 - val_accuracy: 0.9500\n",
            "Epoch 53/100\n",
            "11/11 [==============================] - 1s 82ms/step - loss: 0.2312 - accuracy: 0.9226 - val_loss: 0.2538 - val_accuracy: 0.9464\n",
            "Epoch 54/100\n",
            "11/11 [==============================] - 1s 83ms/step - loss: 0.2846 - accuracy: 0.8940 - val_loss: 0.2471 - val_accuracy: 0.9607\n",
            "Epoch 55/100\n",
            "11/11 [==============================] - 1s 83ms/step - loss: 0.2347 - accuracy: 0.9321 - val_loss: 0.2620 - val_accuracy: 0.9536\n",
            "Epoch 56/100\n",
            "11/11 [==============================] - 1s 86ms/step - loss: 0.3004 - accuracy: 0.9060 - val_loss: 0.2704 - val_accuracy: 0.9500\n",
            "Epoch 57/100\n",
            "11/11 [==============================] - 1s 83ms/step - loss: 0.2762 - accuracy: 0.9155 - val_loss: 0.2703 - val_accuracy: 0.9536\n",
            "Epoch 58/100\n",
            "11/11 [==============================] - 1s 83ms/step - loss: 0.2337 - accuracy: 0.9214 - val_loss: 0.2631 - val_accuracy: 0.9607\n",
            "Epoch 59/100\n",
            "11/11 [==============================] - 1s 82ms/step - loss: 0.2129 - accuracy: 0.9369 - val_loss: 0.2110 - val_accuracy: 0.9607\n",
            "Epoch 60/100\n",
            "11/11 [==============================] - 1s 83ms/step - loss: 0.2462 - accuracy: 0.9238 - val_loss: 0.2728 - val_accuracy: 0.9571\n",
            "Epoch 61/100\n",
            "11/11 [==============================] - 1s 83ms/step - loss: 0.2043 - accuracy: 0.9381 - val_loss: 0.2308 - val_accuracy: 0.9571\n",
            "Epoch 62/100\n",
            "11/11 [==============================] - 1s 82ms/step - loss: 0.2296 - accuracy: 0.9262 - val_loss: 0.2280 - val_accuracy: 0.9571\n",
            "Epoch 63/100\n",
            "11/11 [==============================] - 1s 83ms/step - loss: 0.2409 - accuracy: 0.9345 - val_loss: 0.2164 - val_accuracy: 0.9571\n",
            "Epoch 64/100\n",
            "11/11 [==============================] - 1s 82ms/step - loss: 0.2078 - accuracy: 0.9357 - val_loss: 0.2148 - val_accuracy: 0.9464\n",
            "Epoch 65/100\n",
            "11/11 [==============================] - 1s 82ms/step - loss: 0.2115 - accuracy: 0.9369 - val_loss: 0.2182 - val_accuracy: 0.9571\n",
            "Epoch 66/100\n",
            "11/11 [==============================] - 1s 83ms/step - loss: 0.2143 - accuracy: 0.9381 - val_loss: 0.2014 - val_accuracy: 0.9643\n",
            "Epoch 67/100\n",
            "11/11 [==============================] - 1s 82ms/step - loss: 0.2243 - accuracy: 0.9345 - val_loss: 0.2211 - val_accuracy: 0.9679\n",
            "Epoch 68/100\n",
            "11/11 [==============================] - 1s 82ms/step - loss: 0.2022 - accuracy: 0.9333 - val_loss: 0.2152 - val_accuracy: 0.9679\n",
            "Epoch 69/100\n",
            "11/11 [==============================] - 1s 83ms/step - loss: 0.1504 - accuracy: 0.9488 - val_loss: 0.2311 - val_accuracy: 0.9643\n",
            "Epoch 70/100\n",
            "11/11 [==============================] - 1s 83ms/step - loss: 0.2368 - accuracy: 0.9333 - val_loss: 0.2365 - val_accuracy: 0.9679\n",
            "Epoch 71/100\n",
            "11/11 [==============================] - 1s 82ms/step - loss: 0.2038 - accuracy: 0.9369 - val_loss: 0.2391 - val_accuracy: 0.9679\n",
            "Epoch 72/100\n",
            "11/11 [==============================] - 1s 84ms/step - loss: 0.1539 - accuracy: 0.9512 - val_loss: 0.1960 - val_accuracy: 0.9714\n",
            "Epoch 73/100\n",
            "11/11 [==============================] - 1s 83ms/step - loss: 0.1436 - accuracy: 0.9536 - val_loss: 0.1970 - val_accuracy: 0.9536\n",
            "Epoch 74/100\n",
            "11/11 [==============================] - 1s 82ms/step - loss: 0.1673 - accuracy: 0.9548 - val_loss: 0.1788 - val_accuracy: 0.9607\n",
            "Epoch 75/100\n",
            "11/11 [==============================] - 1s 83ms/step - loss: 0.1616 - accuracy: 0.9393 - val_loss: 0.1944 - val_accuracy: 0.9607\n",
            "Epoch 76/100\n",
            "11/11 [==============================] - 1s 83ms/step - loss: 0.1484 - accuracy: 0.9500 - val_loss: 0.1598 - val_accuracy: 0.9714\n",
            "Epoch 77/100\n",
            "11/11 [==============================] - 1s 83ms/step - loss: 0.2194 - accuracy: 0.9345 - val_loss: 0.2308 - val_accuracy: 0.9500\n",
            "Epoch 78/100\n",
            "11/11 [==============================] - 1s 83ms/step - loss: 0.1614 - accuracy: 0.9440 - val_loss: 0.1941 - val_accuracy: 0.9607\n",
            "Epoch 79/100\n",
            "11/11 [==============================] - 1s 83ms/step - loss: 0.1691 - accuracy: 0.9512 - val_loss: 0.1911 - val_accuracy: 0.9679\n",
            "Epoch 80/100\n",
            "11/11 [==============================] - 1s 83ms/step - loss: 0.1538 - accuracy: 0.9548 - val_loss: 0.1808 - val_accuracy: 0.9643\n",
            "Epoch 81/100\n",
            "11/11 [==============================] - 1s 84ms/step - loss: 0.1466 - accuracy: 0.9452 - val_loss: 0.1635 - val_accuracy: 0.9643\n",
            "Epoch 82/100\n",
            "11/11 [==============================] - 1s 83ms/step - loss: 0.1477 - accuracy: 0.9476 - val_loss: 0.1978 - val_accuracy: 0.9464\n",
            "Epoch 83/100\n",
            "11/11 [==============================] - 1s 83ms/step - loss: 0.1932 - accuracy: 0.9417 - val_loss: 0.1676 - val_accuracy: 0.9750\n",
            "Epoch 84/100\n",
            "11/11 [==============================] - 1s 84ms/step - loss: 0.1832 - accuracy: 0.9405 - val_loss: 0.2315 - val_accuracy: 0.9500\n",
            "Epoch 85/100\n",
            "11/11 [==============================] - 1s 83ms/step - loss: 0.2039 - accuracy: 0.9345 - val_loss: 0.2131 - val_accuracy: 0.9643\n",
            "Epoch 86/100\n",
            "11/11 [==============================] - 1s 83ms/step - loss: 0.2103 - accuracy: 0.9381 - val_loss: 0.2236 - val_accuracy: 0.9643\n",
            "Epoch 87/100\n",
            "11/11 [==============================] - 1s 83ms/step - loss: 0.1433 - accuracy: 0.9560 - val_loss: 0.2058 - val_accuracy: 0.9607\n",
            "Epoch 88/100\n",
            "11/11 [==============================] - 1s 83ms/step - loss: 0.1357 - accuracy: 0.9536 - val_loss: 0.1946 - val_accuracy: 0.9679\n",
            "Epoch 89/100\n",
            "11/11 [==============================] - 1s 84ms/step - loss: 0.1609 - accuracy: 0.9512 - val_loss: 0.1778 - val_accuracy: 0.9607\n",
            "Epoch 90/100\n",
            "11/11 [==============================] - 1s 84ms/step - loss: 0.1536 - accuracy: 0.9536 - val_loss: 0.2011 - val_accuracy: 0.9571\n",
            "Epoch 91/100\n",
            "11/11 [==============================] - 1s 83ms/step - loss: 0.1687 - accuracy: 0.9488 - val_loss: 0.1918 - val_accuracy: 0.9643\n",
            "Epoch 92/100\n",
            "11/11 [==============================] - 1s 83ms/step - loss: 0.1548 - accuracy: 0.9524 - val_loss: 0.1934 - val_accuracy: 0.9607\n",
            "Epoch 93/100\n",
            "11/11 [==============================] - 1s 83ms/step - loss: 0.1760 - accuracy: 0.9464 - val_loss: 0.1643 - val_accuracy: 0.9679\n",
            "Epoch 94/100\n",
            "11/11 [==============================] - 1s 83ms/step - loss: 0.1323 - accuracy: 0.9536 - val_loss: 0.1877 - val_accuracy: 0.9500\n",
            "Epoch 95/100\n",
            "11/11 [==============================] - 1s 84ms/step - loss: 0.1647 - accuracy: 0.9512 - val_loss: 0.1817 - val_accuracy: 0.9500\n",
            "Epoch 96/100\n",
            "11/11 [==============================] - 1s 84ms/step - loss: 0.1301 - accuracy: 0.9536 - val_loss: 0.2000 - val_accuracy: 0.9571\n",
            "Epoch 97/100\n",
            "11/11 [==============================] - 1s 83ms/step - loss: 0.1694 - accuracy: 0.9440 - val_loss: 0.1997 - val_accuracy: 0.9500\n",
            "Epoch 98/100\n",
            "11/11 [==============================] - 1s 84ms/step - loss: 0.1454 - accuracy: 0.9452 - val_loss: 0.1792 - val_accuracy: 0.9607\n",
            "Epoch 99/100\n",
            "11/11 [==============================] - 1s 84ms/step - loss: 0.1235 - accuracy: 0.9607 - val_loss: 0.2185 - val_accuracy: 0.9393\n",
            "Epoch 100/100\n",
            "11/11 [==============================] - 1s 83ms/step - loss: 0.1254 - accuracy: 0.9571 - val_loss: 0.1687 - val_accuracy: 0.9679\n"
          ],
          "name": "stdout"
        }
      ]
    },
    {
      "cell_type": "markdown",
      "metadata": {
        "id": "y_i70WoqTAxI"
      },
      "source": [
        "## Evaluate and predict test set"
      ],
      "id": "y_i70WoqTAxI"
    },
    {
      "cell_type": "code",
      "metadata": {
        "colab": {
          "base_uri": "https://localhost:8080/"
        },
        "id": "ZQ4n8wAmB9ZX",
        "outputId": "fb1ae9ad-36bb-475d-dc8f-39f832f7d569"
      },
      "source": [
        "# Evaluate model\n",
        "print(f'Test Accuracy: {model_cnn.evaluate(X_test[:,:,:,None],y_test)[1]}')"
      ],
      "id": "ZQ4n8wAmB9ZX",
      "execution_count": null,
      "outputs": [
        {
          "output_type": "stream",
          "text": [
            "9/9 [==============================] - 0s 30ms/step - loss: 0.1687 - accuracy: 0.9679\n",
            "Test Accuracy: 0.9678571224212646\n"
          ],
          "name": "stdout"
        }
      ]
    },
    {
      "cell_type": "code",
      "metadata": {
        "id": "F62fEQaGFMqs",
        "colab": {
          "base_uri": "https://localhost:8080/",
          "height": 313
        },
        "outputId": "6df4c25e-f7b8-430a-f98b-44ed4c373b17"
      },
      "source": [
        "# Learning curve\n",
        "# plot the accuracy and loss plots between training and validation data\n",
        "# verify overfitting or underfit \n",
        "acc = history.history['accuracy']\n",
        "val_acc = history.history['val_accuracy']\n",
        "loss = history.history['loss']\n",
        "val_loss = history.history['val_loss']\n",
        "x = range(1,len(acc)+1)\n",
        "\n",
        "plt.plot(x,loss,'b',label='Training loss')\n",
        "plt.plot(x,val_loss,'r',label='Validation loss')\n",
        "plt.title('Training and validation loss')\n",
        "plt.xlabel('epochs')\n",
        "plt.ylabel('loss')\n",
        "plt.legend()"
      ],
      "id": "F62fEQaGFMqs",
      "execution_count": null,
      "outputs": [
        {
          "output_type": "execute_result",
          "data": {
            "text/plain": [
              "<matplotlib.legend.Legend at 0x7fcbb640b290>"
            ]
          },
          "metadata": {},
          "execution_count": 14
        },
        {
          "output_type": "display_data",
          "data": {
            "image/png": "[encoded data removed]",
            "text/plain": [
              "<Figure size 432x288 with 1 Axes>"
            ]
          },
          "metadata": {
            "needs_background": "light"
          }
        }
      ]
    },
    {
      "cell_type": "code",
      "metadata": {
        "id": "wFbKdWsMkDuw",
        "colab": {
          "base_uri": "https://localhost:8080/"
        },
        "outputId": "97e1e64d-9309-41c7-db49-94b750c5d484"
      },
      "source": [
        "# classification report\n",
        "predicted_classes = np.argmax(np.round(model_cnn.predict(X_test[:,:,:,None])),axis=1)\n",
        "correct = np.where(predicted_classes==y_test)[0]\n",
        "target_names = [f\"Class {label}\" for label in range(len(np.unique(df['label'])))]\n",
        "\n",
        "print(f\"From {len(y_test)} labels're founding {len(correct)} correct labels.\")\n",
        "print(f'Accuracy: {len(correct)/len(y_test)}')\n",
        "print('')\n",
        "print(classification_report(y_test, predicted_classes, target_names=target_names))"
      ],
      "id": "wFbKdWsMkDuw",
      "execution_count": null,
      "outputs": [
        {
          "output_type": "stream",
          "text": [
            "From 280 labels're founding 263 correct labels.\n",
            "Accuracy: 0.9392857142857143\n",
            "\n",
            "              precision    recall  f1-score   support\n",
            "\n",
            "     Class 0       0.26      1.00      0.42         5\n",
            "     Class 1       1.00      0.80      0.89         5\n",
            "     Class 2       1.00      1.00      1.00         5\n",
            "     Class 3       1.00      0.80      0.89         5\n",
            "     Class 4       1.00      0.80      0.89         5\n",
            "     Class 5       1.00      1.00      1.00         5\n",
            "     Class 6       1.00      1.00      1.00         5\n",
            "     Class 7       1.00      1.00      1.00         5\n",
            "     Class 8       1.00      0.80      0.89         5\n",
            "     Class 9       1.00      1.00      1.00         5\n",
            "    Class 10       1.00      1.00      1.00         5\n",
            "    Class 11       1.00      1.00      1.00         5\n",
            "    Class 12       1.00      0.40      0.57         5\n",
            "    Class 13       1.00      0.80      0.89         5\n",
            "    Class 14       1.00      1.00      1.00         5\n",
            "    Class 15       1.00      1.00      1.00         5\n",
            "    Class 16       1.00      0.80      0.89         5\n",
            "    Class 17       1.00      1.00      1.00         5\n",
            "    Class 18       1.00      1.00      1.00         5\n",
            "    Class 19       1.00      1.00      1.00         5\n",
            "    Class 20       1.00      0.80      0.89         5\n",
            "    Class 21       1.00      1.00      1.00         5\n",
            "    Class 22       1.00      1.00      1.00         5\n",
            "    Class 23       1.00      0.80      0.89         5\n",
            "    Class 24       1.00      1.00      1.00         5\n",
            "    Class 25       1.00      1.00      1.00         5\n",
            "    Class 26       1.00      1.00      1.00         5\n",
            "    Class 27       1.00      1.00      1.00         5\n",
            "    Class 28       1.00      1.00      1.00         5\n",
            "    Class 29       1.00      0.80      0.89         5\n",
            "    Class 30       1.00      0.80      0.89         5\n",
            "    Class 31       0.83      1.00      0.91         5\n",
            "    Class 32       1.00      1.00      1.00         5\n",
            "    Class 33       1.00      1.00      1.00         5\n",
            "    Class 34       1.00      1.00      1.00         5\n",
            "    Class 35       1.00      0.80      0.89         5\n",
            "    Class 36       1.00      1.00      1.00         5\n",
            "    Class 37       0.83      1.00      0.91         5\n",
            "    Class 38       1.00      0.80      0.89         5\n",
            "    Class 39       1.00      1.00      1.00         5\n",
            "    Class 40       1.00      1.00      1.00         5\n",
            "    Class 41       1.00      1.00      1.00         5\n",
            "    Class 42       1.00      1.00      1.00         5\n",
            "    Class 43       1.00      1.00      1.00         5\n",
            "    Class 44       1.00      1.00      1.00         5\n",
            "    Class 45       0.83      1.00      0.91         5\n",
            "    Class 46       1.00      1.00      1.00         5\n",
            "    Class 47       1.00      1.00      1.00         5\n",
            "    Class 48       1.00      1.00      1.00         5\n",
            "    Class 49       1.00      1.00      1.00         5\n",
            "    Class 50       1.00      1.00      1.00         5\n",
            "    Class 51       1.00      0.80      0.89         5\n",
            "    Class 52       1.00      1.00      1.00         5\n",
            "    Class 53       1.00      1.00      1.00         5\n",
            "    Class 54       1.00      1.00      1.00         5\n",
            "    Class 55       1.00      0.80      0.89         5\n",
            "\n",
            "    accuracy                           0.94       280\n",
            "   macro avg       0.98      0.94      0.95       280\n",
            "weighted avg       0.98      0.94      0.95       280\n",
            "\n"
          ],
          "name": "stdout"
        }
      ]
    }
  ]
}