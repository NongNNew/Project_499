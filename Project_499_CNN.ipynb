{
  "nbformat": 4,
  "nbformat_minor": 5,
  "metadata": {
    "colab": {
      "name": "Project_499_CNN.ipynb",
      "provenance": [],
      "collapsed_sections": [],
      "include_colab_link": true
    },
    "kernelspec": {
      "display_name": "Python 3",
      "language": "python",
      "name": "python3"
    },
    "language_info": {
      "codemirror_mode": {
        "name": "ipython",
        "version": 3
      },
      "file_extension": ".py",
      "mimetype": "text/x-python",
      "name": "python",
      "nbconvert_exporter": "python",
      "pygments_lexer": "ipython3",
      "version": "3.8.8"
    },
    "accelerator": "GPU"
  },
  "cells": [
    {
      "cell_type": "markdown",
      "metadata": {
        "id": "view-in-github",
        "colab_type": "text"
      },
      "source": [
        "<a href=\"https://colab.research.google.com/github/NongNNew/Project_499/blob/main/Project_499_CNN.ipynb\" target=\"_parent\"><img src=\"https://colab.research.google.com/assets/colab-badge.svg\" alt=\"Open In Colab\"/></a>"
      ]
    },
    {
      "cell_type": "markdown",
      "metadata": {
        "id": "hW4AHGmEVrk8"
      },
      "source": [
        "# CNN"
      ],
      "id": "hW4AHGmEVrk8"
    },
    {
      "cell_type": "code",
      "metadata": {
        "colab": {
          "base_uri": "https://localhost:8080/"
        },
        "id": "gJVdtdww87RO",
        "outputId": "fb75fb89-15e2-4bad-e01e-bfcf8b182ff6"
      },
      "source": [
        "!git clone https://github.com/NongNNew/Project_499.git"
      ],
      "id": "gJVdtdww87RO",
      "execution_count": null,
      "outputs": [
        {
          "output_type": "stream",
          "text": [
            "Cloning into 'Project_499'...\n",
            "remote: Enumerating objects: 823, done.\u001b[K\n",
            "remote: Counting objects: 100% (375/375), done.\u001b[K\n",
            "remote: Compressing objects: 100% (366/366), done.\u001b[K\n",
            "remote: Total 823 (delta 34), reused 334 (delta 9), pack-reused 448\u001b[K\n",
            "Receiving objects: 100% (823/823), 139.08 MiB | 6.71 MiB/s, done.\n",
            "Resolving deltas: 100% (62/62), done.\n",
            "Checking out files: 100% (662/662), done.\n"
          ],
          "name": "stdout"
        }
      ]
    },
    {
      "cell_type": "code",
      "metadata": {
        "id": "EHnDUT5YejVV"
      },
      "source": [
        "fruit_veget = ['กระชาย','กระท้อน','กระเทียม1','กระเทียม2','กระเพรา','กล้วยน้ำว้า','กล้วยหอม',\n",
        "               'ข้าวโพด','ไข่น้ำ',\n",
        "               'ตะขบไทย','ตะไคร้',\n",
        "               'ถั่วฝักยาว','ถั่วลันเตา','ถั่วลิสง',\n",
        "               'ทับทิม',\n",
        "               'น้อยหน่า','น้ำเต้า',\n",
        "               'ผักกระเฉด','ผักกุยช่าย',\n",
        "               'บวบ','ใบชะพลู1','ใบชะพลู2','ใบบัวบก','ใบแมงลัก','ใบยอ',\n",
        "               'พริกขี้หนู','พริกสด',\n",
        "               'ฝรั่ง',\n",
        "               'พุทรา',\n",
        "               'มะปราง','มะพลับ','มะละกอ',\n",
        "               'สับปะรด']\n",
        "\n",
        "source = {'audio_time':[],\n",
        "          'sampling_rate':[],\n",
        "          'feature_extraction':[],\n",
        "          'label':[],\n",
        "          'description':[]}"
      ],
      "id": "EHnDUT5YejVV",
      "execution_count": null,
      "outputs": []
    },
    {
      "cell_type": "code",
      "metadata": {
        "id": "tixApnAUy5tv"
      },
      "source": [
        "import pandas as pd\n",
        "from glob import glob\n",
        "import librosa\n",
        "\n",
        "for types in fruit_veget:\n",
        "    audio_files = glob('/content/Project_499/Record_audio/' + str(types) + '/*.wav')\n",
        "\n",
        "    for audio in audio_files:\n",
        "        y,sr = librosa.load(audio,duration=6,offset=0)\n",
        "        source['description'].append(str(types))\n",
        "        source['audio_time'].append(y)\n",
        "        source['sampling_rate'].append(sr)\n",
        "        source['feature_extraction'].append(librosa.feature.mfcc(y,sr,n_mfcc=13))\n",
        "        source['label'].append(fruit_veget.index(types))"
      ],
      "id": "tixApnAUy5tv",
      "execution_count": null,
      "outputs": []
    },
    {
      "cell_type": "code",
      "metadata": {
        "colab": {
          "base_uri": "https://localhost:8080/",
          "height": 417
        },
        "id": "8B6cSV4Ckude",
        "outputId": "e3512a89-1ae7-4490-ed22-8c2039b7ac2d"
      },
      "source": [
        "df = pd.DataFrame.from_dict(source)\n",
        "df"
      ],
      "id": "8B6cSV4Ckude",
      "execution_count": null,
      "outputs": [
        {
          "output_type": "execute_result",
          "data": {
            "text/html": [
              "<div>\n",
              "<style scoped>\n",
              "    .dataframe tbody tr th:only-of-type {\n",
              "        vertical-align: middle;\n",
              "    }\n",
              "\n",
              "    .dataframe tbody tr th {\n",
              "        vertical-align: top;\n",
              "    }\n",
              "\n",
              "    .dataframe thead th {\n",
              "        text-align: right;\n",
              "    }\n",
              "</style>\n",
              "<table border=\"1\" class=\"dataframe\">\n",
              "  <thead>\n",
              "    <tr style=\"text-align: right;\">\n",
              "      <th></th>\n",
              "      <th>audio_time</th>\n",
              "      <th>sampling_rate</th>\n",
              "      <th>feature_extraction</th>\n",
              "      <th>label</th>\n",
              "      <th>description</th>\n",
              "    </tr>\n",
              "  </thead>\n",
              "  <tbody>\n",
              "    <tr>\n",
              "      <th>0</th>\n",
              "      <td>[-0.0001373291, -0.00010681152, -0.0001373291,...</td>\n",
              "      <td>22050</td>\n",
              "      <td>[[-641.21436, -640.2155, -639.54114, -638.4883...</td>\n",
              "      <td>0</td>\n",
              "      <td>กระชาย</td>\n",
              "    </tr>\n",
              "    <tr>\n",
              "      <th>1</th>\n",
              "      <td>[0.00015258789, 0.00022888184, 0.00022888184, ...</td>\n",
              "      <td>22050</td>\n",
              "      <td>[[-638.9144, -641.23175, -641.37787, -636.0402...</td>\n",
              "      <td>0</td>\n",
              "      <td>กระชาย</td>\n",
              "    </tr>\n",
              "    <tr>\n",
              "      <th>2</th>\n",
              "      <td>[-7.6293945e-05, -0.00015258789, -0.0001068115...</td>\n",
              "      <td>22050</td>\n",
              "      <td>[[-670.6008, -670.93756, -673.4263, -673.5513,...</td>\n",
              "      <td>0</td>\n",
              "      <td>กระชาย</td>\n",
              "    </tr>\n",
              "    <tr>\n",
              "      <th>3</th>\n",
              "      <td>[1.5258789e-05, -3.0517578e-05, 6.1035156e-05,...</td>\n",
              "      <td>22050</td>\n",
              "      <td>[[-635.4628, -636.8742, -637.42847, -636.0504,...</td>\n",
              "      <td>0</td>\n",
              "      <td>กระชาย</td>\n",
              "    </tr>\n",
              "    <tr>\n",
              "      <th>4</th>\n",
              "      <td>[-0.0002593994, -0.00021362305, -0.0002593994,...</td>\n",
              "      <td>22050</td>\n",
              "      <td>[[-677.20435, -674.49866, -673.315, -679.4692,...</td>\n",
              "      <td>0</td>\n",
              "      <td>กระชาย</td>\n",
              "    </tr>\n",
              "    <tr>\n",
              "      <th>...</th>\n",
              "      <td>...</td>\n",
              "      <td>...</td>\n",
              "      <td>...</td>\n",
              "      <td>...</td>\n",
              "      <td>...</td>\n",
              "    </tr>\n",
              "    <tr>\n",
              "      <th>655</th>\n",
              "      <td>[-4.5776367e-05, -6.1035156e-05, -0.0001525878...</td>\n",
              "      <td>22050</td>\n",
              "      <td>[[-616.3849, -615.21027, -615.2758, -615.1418,...</td>\n",
              "      <td>32</td>\n",
              "      <td>สับปะรด</td>\n",
              "    </tr>\n",
              "    <tr>\n",
              "      <th>656</th>\n",
              "      <td>[-3.0517578e-05, -1.5258789e-05, -0.0001983642...</td>\n",
              "      <td>22050</td>\n",
              "      <td>[[-664.07837, -662.51434, -660.61566, -660.430...</td>\n",
              "      <td>32</td>\n",
              "      <td>สับปะรด</td>\n",
              "    </tr>\n",
              "    <tr>\n",
              "      <th>657</th>\n",
              "      <td>[0.0, 0.0, 0.0, 3.0517578e-05, -4.5776367e-05,...</td>\n",
              "      <td>22050</td>\n",
              "      <td>[[-644.81506, -644.89075, -644.7345, -643.6741...</td>\n",
              "      <td>32</td>\n",
              "      <td>สับปะรด</td>\n",
              "    </tr>\n",
              "    <tr>\n",
              "      <th>658</th>\n",
              "      <td>[-7.6293945e-05, -3.0517578e-05, -1.5258789e-0...</td>\n",
              "      <td>22050</td>\n",
              "      <td>[[-620.5951, -621.67816, -622.1715, -620.5547,...</td>\n",
              "      <td>32</td>\n",
              "      <td>สับปะรด</td>\n",
              "    </tr>\n",
              "    <tr>\n",
              "      <th>659</th>\n",
              "      <td>[-4.5776367e-05, -7.6293945e-05, -0.0001525878...</td>\n",
              "      <td>22050</td>\n",
              "      <td>[[-642.5843, -642.5421, -642.17224, -642.6295,...</td>\n",
              "      <td>32</td>\n",
              "      <td>สับปะรด</td>\n",
              "    </tr>\n",
              "  </tbody>\n",
              "</table>\n",
              "<p>660 rows × 5 columns</p>\n",
              "</div>"
            ],
            "text/plain": [
              "                                            audio_time  ...  description\n",
              "0    [-0.0001373291, -0.00010681152, -0.0001373291,...  ...       กระชาย\n",
              "1    [0.00015258789, 0.00022888184, 0.00022888184, ...  ...       กระชาย\n",
              "2    [-7.6293945e-05, -0.00015258789, -0.0001068115...  ...       กระชาย\n",
              "3    [1.5258789e-05, -3.0517578e-05, 6.1035156e-05,...  ...       กระชาย\n",
              "4    [-0.0002593994, -0.00021362305, -0.0002593994,...  ...       กระชาย\n",
              "..                                                 ...  ...          ...\n",
              "655  [-4.5776367e-05, -6.1035156e-05, -0.0001525878...  ...      สับปะรด\n",
              "656  [-3.0517578e-05, -1.5258789e-05, -0.0001983642...  ...      สับปะรด\n",
              "657  [0.0, 0.0, 0.0, 3.0517578e-05, -4.5776367e-05,...  ...      สับปะรด\n",
              "658  [-7.6293945e-05, -3.0517578e-05, -1.5258789e-0...  ...      สับปะรด\n",
              "659  [-4.5776367e-05, -7.6293945e-05, -0.0001525878...  ...      สับปะรด\n",
              "\n",
              "[660 rows x 5 columns]"
            ]
          },
          "metadata": {
            "tags": []
          },
          "execution_count": 4
        }
      ]
    },
    {
      "cell_type": "code",
      "metadata": {
        "id": "T7yzW3hnmuyB"
      },
      "source": [
        "import numpy as np\n",
        "import pandas as pd\n",
        "\n",
        "Test = pd.DataFrame(columns=source.keys())\n",
        "\n",
        "# create Test model\n",
        "for description in np.unique(df['description']):\n",
        "    imp = df[df['description']==description].sample(5,random_state=1)\n",
        "    Test = pd.concat([Test,imp], axis=0)\n",
        "\n",
        "# create Train model\n",
        "Train = df.drop(Test.index)\n",
        "\n",
        "X_train, X_test = np.array(Train['feature_extraction'].to_list()), np.array(Test['feature_extraction'].to_list())\n",
        "y_train, y_test = np.array(Train['label'].to_list()), np.array(Test['label'].to_list())"
      ],
      "id": "T7yzW3hnmuyB",
      "execution_count": null,
      "outputs": []
    },
    {
      "cell_type": "code",
      "metadata": {
        "id": "77wMVqve6W8f",
        "colab": {
          "base_uri": "https://localhost:8080/"
        },
        "outputId": "3f23bf54-f35a-4402-9a90-b1e40b28305f"
      },
      "source": [
        "import tensorflow as tf\n",
        "from tensorflow import keras \n",
        "np.random.seed(42)\n",
        "tf.random.set_seed(42)\n",
        "\n",
        "model = keras.Sequential()\n",
        "model.add(keras.layers.Conv2D(128, 5, input_shape=(13, 259, 1), activation='relu'))\n",
        "model.add(keras.layers.Dropout(0.25))\n",
        "model.add(keras.layers.MaxPool2D())\n",
        "model.add(keras.layers.Conv2D(128, 5, activation='relu',padding='same'))\n",
        "model.add(keras.layers.Dropout(0.25))\n",
        "model.add(keras.layers.MaxPool2D())\n",
        "model.add(keras.layers.Flatten())\n",
        "model.add(keras.layers.Dense(128, activation='relu'))\n",
        "model.add(keras.layers.Dropout(0.5))\n",
        "model.add(keras.layers.Dense(len(np.unique(source['label'])), activation='softmax'))\n",
        "model.compile(optimizer='adam', loss='sparse_categorical_crossentropy', metrics=['accuracy'])\n",
        "\n",
        "model.fit(X_train[:,:,:,None], y_train, epochs=100)"
      ],
      "id": "77wMVqve6W8f",
      "execution_count": 109,
      "outputs": [
        {
          "output_type": "stream",
          "text": [
            "Epoch 1/100\n",
            "16/16 [==============================] - 1s 19ms/step - loss: 34.1658 - accuracy: 0.0283\n",
            "Epoch 2/100\n",
            "16/16 [==============================] - 0s 14ms/step - loss: 3.3212 - accuracy: 0.1030\n",
            "Epoch 3/100\n",
            "16/16 [==============================] - 0s 14ms/step - loss: 3.0526 - accuracy: 0.1354\n",
            "Epoch 4/100\n",
            "16/16 [==============================] - 0s 14ms/step - loss: 2.5364 - accuracy: 0.3071\n",
            "Epoch 5/100\n",
            "16/16 [==============================] - 0s 14ms/step - loss: 2.1539 - accuracy: 0.3899\n",
            "Epoch 6/100\n",
            "16/16 [==============================] - 0s 14ms/step - loss: 1.9333 - accuracy: 0.4101\n",
            "Epoch 7/100\n",
            "16/16 [==============================] - 0s 14ms/step - loss: 1.7259 - accuracy: 0.4808\n",
            "Epoch 8/100\n",
            "16/16 [==============================] - 0s 14ms/step - loss: 1.2946 - accuracy: 0.5899\n",
            "Epoch 9/100\n",
            "16/16 [==============================] - 0s 14ms/step - loss: 1.1954 - accuracy: 0.6485\n",
            "Epoch 10/100\n",
            "16/16 [==============================] - 0s 14ms/step - loss: 1.0065 - accuracy: 0.6869\n",
            "Epoch 11/100\n",
            "16/16 [==============================] - 0s 14ms/step - loss: 0.8412 - accuracy: 0.7232\n",
            "Epoch 12/100\n",
            "16/16 [==============================] - 0s 14ms/step - loss: 0.7869 - accuracy: 0.7394\n",
            "Epoch 13/100\n",
            "16/16 [==============================] - 0s 14ms/step - loss: 0.6191 - accuracy: 0.8303\n",
            "Epoch 14/100\n",
            "16/16 [==============================] - 0s 14ms/step - loss: 0.7366 - accuracy: 0.7717\n",
            "Epoch 15/100\n",
            "16/16 [==============================] - 0s 14ms/step - loss: 0.6651 - accuracy: 0.7859\n",
            "Epoch 16/100\n",
            "16/16 [==============================] - 0s 14ms/step - loss: 0.6617 - accuracy: 0.7859\n",
            "Epoch 17/100\n",
            "16/16 [==============================] - 0s 14ms/step - loss: 0.5072 - accuracy: 0.8444\n",
            "Epoch 18/100\n",
            "16/16 [==============================] - 0s 14ms/step - loss: 0.4580 - accuracy: 0.8606\n",
            "Epoch 19/100\n",
            "16/16 [==============================] - 0s 14ms/step - loss: 0.4517 - accuracy: 0.8545\n",
            "Epoch 20/100\n",
            "16/16 [==============================] - 0s 14ms/step - loss: 0.4503 - accuracy: 0.8586\n",
            "Epoch 21/100\n",
            "16/16 [==============================] - 0s 14ms/step - loss: 0.4783 - accuracy: 0.8606\n",
            "Epoch 22/100\n",
            "16/16 [==============================] - 0s 14ms/step - loss: 0.4275 - accuracy: 0.8586\n",
            "Epoch 23/100\n",
            "16/16 [==============================] - 0s 14ms/step - loss: 0.4225 - accuracy: 0.8667\n",
            "Epoch 24/100\n",
            "16/16 [==============================] - 0s 14ms/step - loss: 0.4597 - accuracy: 0.8606\n",
            "Epoch 25/100\n",
            "16/16 [==============================] - 0s 14ms/step - loss: 0.3755 - accuracy: 0.8848\n",
            "Epoch 26/100\n",
            "16/16 [==============================] - 0s 14ms/step - loss: 0.3116 - accuracy: 0.9071\n",
            "Epoch 27/100\n",
            "16/16 [==============================] - 0s 14ms/step - loss: 0.2600 - accuracy: 0.9172\n",
            "Epoch 28/100\n",
            "16/16 [==============================] - 0s 14ms/step - loss: 0.2949 - accuracy: 0.9071\n",
            "Epoch 29/100\n",
            "16/16 [==============================] - 0s 14ms/step - loss: 0.3007 - accuracy: 0.9010\n",
            "Epoch 30/100\n",
            "16/16 [==============================] - 0s 14ms/step - loss: 0.3772 - accuracy: 0.8828\n",
            "Epoch 31/100\n",
            "16/16 [==============================] - 0s 14ms/step - loss: 0.3309 - accuracy: 0.8828\n",
            "Epoch 32/100\n",
            "16/16 [==============================] - 0s 14ms/step - loss: 0.3897 - accuracy: 0.8909\n",
            "Epoch 33/100\n",
            "16/16 [==============================] - 0s 14ms/step - loss: 0.2198 - accuracy: 0.9293\n",
            "Epoch 34/100\n",
            "16/16 [==============================] - 0s 14ms/step - loss: 0.2843 - accuracy: 0.9111\n",
            "Epoch 35/100\n",
            "16/16 [==============================] - 0s 14ms/step - loss: 0.4093 - accuracy: 0.8747\n",
            "Epoch 36/100\n",
            "16/16 [==============================] - 0s 14ms/step - loss: 0.3014 - accuracy: 0.8990\n",
            "Epoch 37/100\n",
            "16/16 [==============================] - 0s 14ms/step - loss: 0.2040 - accuracy: 0.9414\n",
            "Epoch 38/100\n",
            "16/16 [==============================] - 0s 14ms/step - loss: 0.2035 - accuracy: 0.9253\n",
            "Epoch 39/100\n",
            "16/16 [==============================] - 0s 14ms/step - loss: 0.1866 - accuracy: 0.9354\n",
            "Epoch 40/100\n",
            "16/16 [==============================] - 0s 14ms/step - loss: 0.1896 - accuracy: 0.9394\n",
            "Epoch 41/100\n",
            "16/16 [==============================] - 0s 14ms/step - loss: 0.1839 - accuracy: 0.9434\n",
            "Epoch 42/100\n",
            "16/16 [==============================] - 0s 14ms/step - loss: 0.2834 - accuracy: 0.9394\n",
            "Epoch 43/100\n",
            "16/16 [==============================] - 0s 14ms/step - loss: 0.3216 - accuracy: 0.9192\n",
            "Epoch 44/100\n",
            "16/16 [==============================] - 0s 14ms/step - loss: 0.1952 - accuracy: 0.9414\n",
            "Epoch 45/100\n",
            "16/16 [==============================] - 0s 14ms/step - loss: 0.2632 - accuracy: 0.9192\n",
            "Epoch 46/100\n",
            "16/16 [==============================] - 0s 14ms/step - loss: 0.2066 - accuracy: 0.9273\n",
            "Epoch 47/100\n",
            "16/16 [==============================] - 0s 14ms/step - loss: 0.2482 - accuracy: 0.9354\n",
            "Epoch 48/100\n",
            "16/16 [==============================] - 0s 14ms/step - loss: 0.1936 - accuracy: 0.9475\n",
            "Epoch 49/100\n",
            "16/16 [==============================] - 0s 14ms/step - loss: 0.2813 - accuracy: 0.9091\n",
            "Epoch 50/100\n",
            "16/16 [==============================] - 0s 14ms/step - loss: 0.2125 - accuracy: 0.9313\n",
            "Epoch 51/100\n",
            "16/16 [==============================] - 0s 14ms/step - loss: 0.2363 - accuracy: 0.9172\n",
            "Epoch 52/100\n",
            "16/16 [==============================] - 0s 14ms/step - loss: 0.3050 - accuracy: 0.9111\n",
            "Epoch 53/100\n",
            "16/16 [==============================] - 0s 14ms/step - loss: 0.2010 - accuracy: 0.9354\n",
            "Epoch 54/100\n",
            "16/16 [==============================] - 0s 14ms/step - loss: 0.2465 - accuracy: 0.9293\n",
            "Epoch 55/100\n",
            "16/16 [==============================] - 0s 14ms/step - loss: 0.1287 - accuracy: 0.9596\n",
            "Epoch 56/100\n",
            "16/16 [==============================] - 0s 14ms/step - loss: 0.2653 - accuracy: 0.9313\n",
            "Epoch 57/100\n",
            "16/16 [==============================] - 0s 14ms/step - loss: 0.2286 - accuracy: 0.9374\n",
            "Epoch 58/100\n",
            "16/16 [==============================] - 0s 14ms/step - loss: 0.1887 - accuracy: 0.9313\n",
            "Epoch 59/100\n",
            "16/16 [==============================] - 0s 14ms/step - loss: 0.1880 - accuracy: 0.9354\n",
            "Epoch 60/100\n",
            "16/16 [==============================] - 0s 14ms/step - loss: 0.1726 - accuracy: 0.9495\n",
            "Epoch 61/100\n",
            "16/16 [==============================] - 0s 14ms/step - loss: 0.1804 - accuracy: 0.9434\n",
            "Epoch 62/100\n",
            "16/16 [==============================] - 0s 14ms/step - loss: 0.1205 - accuracy: 0.9596\n",
            "Epoch 63/100\n",
            "16/16 [==============================] - 0s 14ms/step - loss: 0.1283 - accuracy: 0.9657\n",
            "Epoch 64/100\n",
            "16/16 [==============================] - 0s 14ms/step - loss: 0.1690 - accuracy: 0.9576\n",
            "Epoch 65/100\n",
            "16/16 [==============================] - 0s 14ms/step - loss: 0.2264 - accuracy: 0.9253\n",
            "Epoch 66/100\n",
            "16/16 [==============================] - 0s 14ms/step - loss: 0.2095 - accuracy: 0.9354\n",
            "Epoch 67/100\n",
            "16/16 [==============================] - 0s 14ms/step - loss: 0.1528 - accuracy: 0.9455\n",
            "Epoch 68/100\n",
            "16/16 [==============================] - 0s 14ms/step - loss: 0.1709 - accuracy: 0.9374\n",
            "Epoch 69/100\n",
            "16/16 [==============================] - 0s 14ms/step - loss: 0.1948 - accuracy: 0.9354\n",
            "Epoch 70/100\n",
            "16/16 [==============================] - 0s 14ms/step - loss: 0.1829 - accuracy: 0.9394\n",
            "Epoch 71/100\n",
            "16/16 [==============================] - 0s 14ms/step - loss: 0.1702 - accuracy: 0.9535\n",
            "Epoch 72/100\n",
            "16/16 [==============================] - 0s 14ms/step - loss: 0.1222 - accuracy: 0.9535\n",
            "Epoch 73/100\n",
            "16/16 [==============================] - 0s 14ms/step - loss: 0.1235 - accuracy: 0.9576\n",
            "Epoch 74/100\n",
            "16/16 [==============================] - 0s 14ms/step - loss: 0.1069 - accuracy: 0.9737\n",
            "Epoch 75/100\n",
            "16/16 [==============================] - 0s 14ms/step - loss: 0.1553 - accuracy: 0.9556\n",
            "Epoch 76/100\n",
            "16/16 [==============================] - 0s 14ms/step - loss: 0.1564 - accuracy: 0.9515\n",
            "Epoch 77/100\n",
            "16/16 [==============================] - 0s 14ms/step - loss: 0.1069 - accuracy: 0.9596\n",
            "Epoch 78/100\n",
            "16/16 [==============================] - 0s 14ms/step - loss: 0.1126 - accuracy: 0.9556\n",
            "Epoch 79/100\n",
            "16/16 [==============================] - 0s 14ms/step - loss: 0.0849 - accuracy: 0.9636\n",
            "Epoch 80/100\n",
            "16/16 [==============================] - 0s 14ms/step - loss: 0.1560 - accuracy: 0.9475\n",
            "Epoch 81/100\n",
            "16/16 [==============================] - 0s 14ms/step - loss: 0.1516 - accuracy: 0.9434\n",
            "Epoch 82/100\n",
            "16/16 [==============================] - 0s 14ms/step - loss: 0.1529 - accuracy: 0.9455\n",
            "Epoch 83/100\n",
            "16/16 [==============================] - 0s 14ms/step - loss: 0.1744 - accuracy: 0.9616\n",
            "Epoch 84/100\n",
            "16/16 [==============================] - 0s 15ms/step - loss: 0.3129 - accuracy: 0.9232\n",
            "Epoch 85/100\n",
            "16/16 [==============================] - 0s 14ms/step - loss: 0.3056 - accuracy: 0.9152\n",
            "Epoch 86/100\n",
            "16/16 [==============================] - 0s 14ms/step - loss: 0.2100 - accuracy: 0.9293\n",
            "Epoch 87/100\n",
            "16/16 [==============================] - 0s 14ms/step - loss: 0.1854 - accuracy: 0.9354\n",
            "Epoch 88/100\n",
            "16/16 [==============================] - 0s 14ms/step - loss: 0.2699 - accuracy: 0.9313\n",
            "Epoch 89/100\n",
            "16/16 [==============================] - 0s 14ms/step - loss: 0.2069 - accuracy: 0.9434\n",
            "Epoch 90/100\n",
            "16/16 [==============================] - 0s 14ms/step - loss: 0.1863 - accuracy: 0.9414\n",
            "Epoch 91/100\n",
            "16/16 [==============================] - 0s 14ms/step - loss: 0.1760 - accuracy: 0.9556\n",
            "Epoch 92/100\n",
            "16/16 [==============================] - 0s 14ms/step - loss: 0.1712 - accuracy: 0.9434\n",
            "Epoch 93/100\n",
            "16/16 [==============================] - 0s 14ms/step - loss: 0.3094 - accuracy: 0.9313\n",
            "Epoch 94/100\n",
            "16/16 [==============================] - 0s 14ms/step - loss: 0.1658 - accuracy: 0.9434\n",
            "Epoch 95/100\n",
            "16/16 [==============================] - 0s 14ms/step - loss: 0.1295 - accuracy: 0.9515\n",
            "Epoch 96/100\n",
            "16/16 [==============================] - 0s 14ms/step - loss: 0.1192 - accuracy: 0.9596\n",
            "Epoch 97/100\n",
            "16/16 [==============================] - 0s 14ms/step - loss: 0.2106 - accuracy: 0.9414\n",
            "Epoch 98/100\n",
            "16/16 [==============================] - 0s 14ms/step - loss: 0.1575 - accuracy: 0.9535\n",
            "Epoch 99/100\n",
            "16/16 [==============================] - 0s 14ms/step - loss: 0.1524 - accuracy: 0.9616\n",
            "Epoch 100/100\n",
            "16/16 [==============================] - 0s 15ms/step - loss: 0.1881 - accuracy: 0.9394\n"
          ],
          "name": "stdout"
        },
        {
          "output_type": "execute_result",
          "data": {
            "text/plain": [
              "<tensorflow.python.keras.callbacks.History at 0x7f9791a07050>"
            ]
          },
          "metadata": {
            "tags": []
          },
          "execution_count": 109
        }
      ]
    },
    {
      "cell_type": "code",
      "metadata": {
        "id": "S-z2fH0cHvVc",
        "colab": {
          "base_uri": "https://localhost:8080/"
        },
        "outputId": "37d3e859-d1b5-4d0f-f9db-b5d224744296"
      },
      "source": [
        "model.summary()"
      ],
      "id": "S-z2fH0cHvVc",
      "execution_count": null,
      "outputs": [
        {
          "output_type": "stream",
          "text": [
            "Model: \"sequential\"\n",
            "_________________________________________________________________\n",
            "Layer (type)                 Output Shape              Param #   \n",
            "=================================================================\n",
            "conv2d (Conv2D)              (None, 9, 255, 64)        1664      \n",
            "_________________________________________________________________\n",
            "dropout (Dropout)            (None, 9, 255, 64)        0         \n",
            "_________________________________________________________________\n",
            "max_pooling2d (MaxPooling2D) (None, 4, 127, 64)        0         \n",
            "_________________________________________________________________\n",
            "conv2d_1 (Conv2D)            (None, 4, 127, 64)        102464    \n",
            "_________________________________________________________________\n",
            "dropout_1 (Dropout)          (None, 4, 127, 64)        0         \n",
            "_________________________________________________________________\n",
            "max_pooling2d_1 (MaxPooling2 (None, 2, 63, 64)         0         \n",
            "_________________________________________________________________\n",
            "flatten (Flatten)            (None, 8064)              0         \n",
            "_________________________________________________________________\n",
            "dense (Dense)                (None, 128)               1032320   \n",
            "_________________________________________________________________\n",
            "dropout_2 (Dropout)          (None, 128)               0         \n",
            "_________________________________________________________________\n",
            "dense_1 (Dense)              (None, 33)                4257      \n",
            "=================================================================\n",
            "Total params: 1,140,705\n",
            "Trainable params: 1,140,705\n",
            "Non-trainable params: 0\n",
            "_________________________________________________________________\n"
          ],
          "name": "stdout"
        }
      ]
    },
    {
      "cell_type": "code",
      "metadata": {
        "colab": {
          "base_uri": "https://localhost:8080/"
        },
        "id": "ZQ4n8wAmB9ZX",
        "outputId": "2ac0f185-4e0c-4fda-9e18-582c442b0cdb"
      },
      "source": [
        "model.evaluate(X_test[:,:,:,None],y_test)"
      ],
      "id": "ZQ4n8wAmB9ZX",
      "execution_count": 110,
      "outputs": [
        {
          "output_type": "stream",
          "text": [
            "6/6 [==============================] - 0s 5ms/step - loss: 0.3898 - accuracy: 0.9576\n"
          ],
          "name": "stdout"
        },
        {
          "output_type": "execute_result",
          "data": {
            "text/plain": [
              "[0.3898232579231262, 0.9575757384300232]"
            ]
          },
          "metadata": {
            "tags": []
          },
          "execution_count": 110
        }
      ]
    },
    {
      "cell_type": "code",
      "metadata": {
        "id": "wFbKdWsMkDuw",
        "colab": {
          "base_uri": "https://localhost:8080/"
        },
        "outputId": "ddb213fa-5763-4876-a79d-3c18b833d676"
      },
      "source": [
        "from sklearn.metrics import classification_report\n",
        "\n",
        "predicted_classes = np.argmax(np.round(model.predict(X_test[:,:,:,None])),axis=1)\n",
        "target_names = [f\"Class {label}\" for label in range(len(np.unique(source['label'])))]\n",
        "print(classification_report(y_test, predicted_classes, target_names=target_names))"
      ],
      "id": "wFbKdWsMkDuw",
      "execution_count": 111,
      "outputs": [
        {
          "output_type": "stream",
          "text": [
            "              precision    recall  f1-score   support\n",
            "\n",
            "     Class 0       0.83      1.00      0.91         5\n",
            "     Class 1       1.00      1.00      1.00         5\n",
            "     Class 2       1.00      1.00      1.00         5\n",
            "     Class 3       1.00      0.60      0.75         5\n",
            "     Class 4       1.00      1.00      1.00         5\n",
            "     Class 5       1.00      1.00      1.00         5\n",
            "     Class 6       1.00      1.00      1.00         5\n",
            "     Class 7       0.83      1.00      0.91         5\n",
            "     Class 8       1.00      1.00      1.00         5\n",
            "     Class 9       1.00      0.60      0.75         5\n",
            "    Class 10       0.83      1.00      0.91         5\n",
            "    Class 11       1.00      1.00      1.00         5\n",
            "    Class 12       1.00      0.80      0.89         5\n",
            "    Class 13       1.00      1.00      1.00         5\n",
            "    Class 14       1.00      1.00      1.00         5\n",
            "    Class 15       0.83      1.00      0.91         5\n",
            "    Class 16       1.00      1.00      1.00         5\n",
            "    Class 17       0.83      1.00      0.91         5\n",
            "    Class 18       1.00      1.00      1.00         5\n",
            "    Class 19       1.00      0.80      0.89         5\n",
            "    Class 20       1.00      1.00      1.00         5\n",
            "    Class 21       1.00      1.00      1.00         5\n",
            "    Class 22       1.00      1.00      1.00         5\n",
            "    Class 23       1.00      1.00      1.00         5\n",
            "    Class 24       1.00      1.00      1.00         5\n",
            "    Class 25       1.00      1.00      1.00         5\n",
            "    Class 26       0.83      1.00      0.91         5\n",
            "    Class 27       1.00      1.00      1.00         5\n",
            "    Class 28       1.00      1.00      1.00         5\n",
            "    Class 29       1.00      0.80      0.89         5\n",
            "    Class 30       1.00      1.00      1.00         5\n",
            "    Class 31       1.00      1.00      1.00         5\n",
            "    Class 32       0.83      1.00      0.91         5\n",
            "\n",
            "    accuracy                           0.96       165\n",
            "   macro avg       0.96      0.96      0.96       165\n",
            "weighted avg       0.96      0.96      0.96       165\n",
            "\n"
          ],
          "name": "stdout"
        }
      ]
    }
  ]
}