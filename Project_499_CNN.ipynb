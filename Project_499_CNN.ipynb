{
  "nbformat": 4,
  "nbformat_minor": 5,
  "metadata": {
    "colab": {
      "name": "Project_499_CNN.ipynb",
      "provenance": [],
      "collapsed_sections": [],
      "include_colab_link": true
    },
    "kernelspec": {
      "display_name": "Python 3",
      "language": "python",
      "name": "python3"
    },
    "language_info": {
      "codemirror_mode": {
        "name": "ipython",
        "version": 3
      },
      "file_extension": ".py",
      "mimetype": "text/x-python",
      "name": "python",
      "nbconvert_exporter": "python",
      "pygments_lexer": "ipython3",
      "version": "3.8.8"
    },
    "accelerator": "GPU"
  },
  "cells": [
    {
      "cell_type": "markdown",
      "metadata": {
        "id": "view-in-github",
        "colab_type": "text"
      },
      "source": [
        "<a href=\"https://colab.research.google.com/github/NongNNew/Project_499/blob/main/Project_499_CNN.ipynb\" target=\"_parent\"><img src=\"https://colab.research.google.com/assets/colab-badge.svg\" alt=\"Open In Colab\"/></a>"
      ]
    },
    {
      "cell_type": "markdown",
      "metadata": {
        "id": "hW4AHGmEVrk8"
      },
      "source": [
        "# CNN"
      ],
      "id": "hW4AHGmEVrk8"
    },
    {
      "cell_type": "code",
      "metadata": {
        "colab": {
          "base_uri": "https://localhost:8080/"
        },
        "id": "gJVdtdww87RO",
        "outputId": "b144620d-4f6a-45ce-c02b-f7d5f4cf9b1f"
      },
      "source": [
        "!git clone https://github.com/NongNNew/Project_499.git"
      ],
      "id": "gJVdtdww87RO",
      "execution_count": 1,
      "outputs": [
        {
          "output_type": "stream",
          "text": [
            "Cloning into 'Project_499'...\n",
            "remote: Enumerating objects: 820, done.\u001b[K\n",
            "remote: Counting objects: 100% (372/372), done.\u001b[K\n",
            "remote: Compressing objects: 100% (363/363), done.\u001b[K\n",
            "remote: Total 820 (delta 33), reused 334 (delta 9), pack-reused 448\u001b[K\n",
            "Receiving objects: 100% (820/820), 139.08 MiB | 19.87 MiB/s, done.\n",
            "Resolving deltas: 100% (61/61), done.\n",
            "Checking out files: 100% (662/662), done.\n"
          ],
          "name": "stdout"
        }
      ]
    },
    {
      "cell_type": "code",
      "metadata": {
        "id": "EHnDUT5YejVV"
      },
      "source": [
        "fruit_veget = ['กระชาย','กระท้อน','กระเทียม1','กระเทียม2','กระเพรา','กล้วยน้ำว้า','กล้วยหอม',\n",
        "               'ข้าวโพด','ไข่น้ำ',\n",
        "               'ตะขบไทย','ตะไคร้',\n",
        "               'ถั่วฝักยาว','ถั่วลันเตา','ถั่วลิสง',\n",
        "               'ทับทิม',\n",
        "               'น้อยหน่า','น้ำเต้า',\n",
        "               'ผักกระเฉด','ผักกุยช่าย',\n",
        "               'บวบ','ใบชะพลู1','ใบชะพลู2','ใบบัวบก','ใบแมงลัก','ใบยอ',\n",
        "               'พริกขี้หนู','พริกสด',\n",
        "               'ฝรั่ง',\n",
        "               'พุทรา',\n",
        "               'มะปราง','มะพลับ','มะละกอ',\n",
        "               'สับปะรด']\n",
        "\n",
        "source = {'audio_time':[],\n",
        "          'sampling_rate':[],\n",
        "          'feature_extraction':[],\n",
        "          'label':[],\n",
        "          'description':[]}"
      ],
      "id": "EHnDUT5YejVV",
      "execution_count": 113,
      "outputs": []
    },
    {
      "cell_type": "code",
      "metadata": {
        "id": "tixApnAUy5tv"
      },
      "source": [
        "import pandas as pd\n",
        "from glob import glob\n",
        "import librosa\n",
        "\n",
        "for types in fruit_veget:\n",
        "    audio_files = glob('/content/Project_499/Record_audio/' + str(types) + '/*.wav')\n",
        "\n",
        "    for audio in audio_files:\n",
        "        y,sr = librosa.load(audio,duration=6,offset=0)\n",
        "        source['description'].append(str(types))\n",
        "        source['audio_time'].append(y)\n",
        "        source['sampling_rate'].append(sr)\n",
        "        source['feature_extraction'].append(librosa.feature.mfcc(y,sr,n_mfcc=13))\n",
        "        source['label'].append(fruit_veget.index(types))"
      ],
      "id": "tixApnAUy5tv",
      "execution_count": 114,
      "outputs": []
    },
    {
      "cell_type": "code",
      "metadata": {
        "colab": {
          "base_uri": "https://localhost:8080/",
          "height": 417
        },
        "id": "8B6cSV4Ckude",
        "outputId": "d03b0384-4d51-4349-da1a-86c3aada9d8f"
      },
      "source": [
        "df = pd.DataFrame.from_dict(source)\n",
        "df"
      ],
      "id": "8B6cSV4Ckude",
      "execution_count": 116,
      "outputs": [
        {
          "output_type": "execute_result",
          "data": {
            "text/html": [
              "<div>\n",
              "<style scoped>\n",
              "    .dataframe tbody tr th:only-of-type {\n",
              "        vertical-align: middle;\n",
              "    }\n",
              "\n",
              "    .dataframe tbody tr th {\n",
              "        vertical-align: top;\n",
              "    }\n",
              "\n",
              "    .dataframe thead th {\n",
              "        text-align: right;\n",
              "    }\n",
              "</style>\n",
              "<table border=\"1\" class=\"dataframe\">\n",
              "  <thead>\n",
              "    <tr style=\"text-align: right;\">\n",
              "      <th></th>\n",
              "      <th>audio_time</th>\n",
              "      <th>sampling_rate</th>\n",
              "      <th>feature_extraction</th>\n",
              "      <th>label</th>\n",
              "      <th>description</th>\n",
              "    </tr>\n",
              "  </thead>\n",
              "  <tbody>\n",
              "    <tr>\n",
              "      <th>0</th>\n",
              "      <td>[-0.0002593994, -0.00022888184, -0.0002593994,...</td>\n",
              "      <td>22050</td>\n",
              "      <td>[[-639.25616, -639.47345, -640.0064, -640.5056...</td>\n",
              "      <td>0</td>\n",
              "      <td>กระชาย</td>\n",
              "    </tr>\n",
              "    <tr>\n",
              "      <th>1</th>\n",
              "      <td>[1.5258789e-05, -3.0517578e-05, 4.5776367e-05,...</td>\n",
              "      <td>22050</td>\n",
              "      <td>[[-624.1429, -624.4267, -624.8286, -624.58374,...</td>\n",
              "      <td>0</td>\n",
              "      <td>กระชาย</td>\n",
              "    </tr>\n",
              "    <tr>\n",
              "      <th>2</th>\n",
              "      <td>[-0.004928589, -0.0049591064, -0.0048980713, -...</td>\n",
              "      <td>22050</td>\n",
              "      <td>[[-634.622, -639.0867, -654.00525, -659.99115,...</td>\n",
              "      <td>0</td>\n",
              "      <td>กระชาย</td>\n",
              "    </tr>\n",
              "    <tr>\n",
              "      <th>3</th>\n",
              "      <td>[1.5258789e-05, -3.0517578e-05, 6.1035156e-05,...</td>\n",
              "      <td>22050</td>\n",
              "      <td>[[-635.4628, -636.8742, -637.42847, -636.0504,...</td>\n",
              "      <td>0</td>\n",
              "      <td>กระชาย</td>\n",
              "    </tr>\n",
              "    <tr>\n",
              "      <th>4</th>\n",
              "      <td>[-0.0001373291, -0.00018310547, -4.5776367e-05...</td>\n",
              "      <td>22050</td>\n",
              "      <td>[[-655.651, -653.5817, -654.66907, -655.0482, ...</td>\n",
              "      <td>0</td>\n",
              "      <td>กระชาย</td>\n",
              "    </tr>\n",
              "    <tr>\n",
              "      <th>...</th>\n",
              "      <td>...</td>\n",
              "      <td>...</td>\n",
              "      <td>...</td>\n",
              "      <td>...</td>\n",
              "      <td>...</td>\n",
              "    </tr>\n",
              "    <tr>\n",
              "      <th>655</th>\n",
              "      <td>[-0.00018310547, -0.0002593994, -0.00022888184...</td>\n",
              "      <td>22050</td>\n",
              "      <td>[[-662.2502, -662.54706, -661.8858, -660.38995...</td>\n",
              "      <td>32</td>\n",
              "      <td>สับปะรด</td>\n",
              "    </tr>\n",
              "    <tr>\n",
              "      <th>656</th>\n",
              "      <td>[-0.00019836426, -0.0002593994, -7.6293945e-05...</td>\n",
              "      <td>22050</td>\n",
              "      <td>[[-655.92065, -656.85034, -655.4548, -653.7831...</td>\n",
              "      <td>32</td>\n",
              "      <td>สับปะรด</td>\n",
              "    </tr>\n",
              "    <tr>\n",
              "      <th>657</th>\n",
              "      <td>[-0.00016784668, -0.00015258789, -0.0001983642...</td>\n",
              "      <td>22050</td>\n",
              "      <td>[[-668.4974, -670.4946, -672.10724, -671.17737...</td>\n",
              "      <td>32</td>\n",
              "      <td>สับปะรด</td>\n",
              "    </tr>\n",
              "    <tr>\n",
              "      <th>658</th>\n",
              "      <td>[-0.00018310547, -0.0002593994, -0.00021362305...</td>\n",
              "      <td>22050</td>\n",
              "      <td>[[-670.37274, -672.4899, -674.93616, -677.3624...</td>\n",
              "      <td>32</td>\n",
              "      <td>สับปะรด</td>\n",
              "    </tr>\n",
              "    <tr>\n",
              "      <th>659</th>\n",
              "      <td>[0.0, 0.0, 1.5258789e-05, 0.0, 3.0517578e-05, ...</td>\n",
              "      <td>22050</td>\n",
              "      <td>[[-665.2395, -667.56616, -666.0286, -661.08685...</td>\n",
              "      <td>32</td>\n",
              "      <td>สับปะรด</td>\n",
              "    </tr>\n",
              "  </tbody>\n",
              "</table>\n",
              "<p>660 rows × 5 columns</p>\n",
              "</div>"
            ],
            "text/plain": [
              "                                            audio_time  ...  description\n",
              "0    [-0.0002593994, -0.00022888184, -0.0002593994,...  ...       กระชาย\n",
              "1    [1.5258789e-05, -3.0517578e-05, 4.5776367e-05,...  ...       กระชาย\n",
              "2    [-0.004928589, -0.0049591064, -0.0048980713, -...  ...       กระชาย\n",
              "3    [1.5258789e-05, -3.0517578e-05, 6.1035156e-05,...  ...       กระชาย\n",
              "4    [-0.0001373291, -0.00018310547, -4.5776367e-05...  ...       กระชาย\n",
              "..                                                 ...  ...          ...\n",
              "655  [-0.00018310547, -0.0002593994, -0.00022888184...  ...      สับปะรด\n",
              "656  [-0.00019836426, -0.0002593994, -7.6293945e-05...  ...      สับปะรด\n",
              "657  [-0.00016784668, -0.00015258789, -0.0001983642...  ...      สับปะรด\n",
              "658  [-0.00018310547, -0.0002593994, -0.00021362305...  ...      สับปะรด\n",
              "659  [0.0, 0.0, 1.5258789e-05, 0.0, 3.0517578e-05, ...  ...      สับปะรด\n",
              "\n",
              "[660 rows x 5 columns]"
            ]
          },
          "metadata": {
            "tags": []
          },
          "execution_count": 116
        }
      ]
    },
    {
      "cell_type": "code",
      "metadata": {
        "id": "T7yzW3hnmuyB"
      },
      "source": [
        "import numpy as np\n",
        "import pandas as pd\n",
        "\n",
        "Test = pd.DataFrame(columns=source.keys())\n",
        "\n",
        "# create Test model\n",
        "for description in np.unique(df['description']):\n",
        "    imp = df[df['description']==description].sample(5,random_state=1)\n",
        "    Test = pd.concat([Test,imp], axis=0)\n",
        "\n",
        "# create Train model\n",
        "Train = df.drop(Test.index)\n",
        "\n",
        "X_train, X_test = np.array(Train['feature_extraction'].to_list()), np.array(Test['feature_extraction'].to_list())\n",
        "y_train, y_test = np.array(Train['label'].to_list()), np.array(Test['label'].to_list())"
      ],
      "id": "T7yzW3hnmuyB",
      "execution_count": 134,
      "outputs": []
    },
    {
      "cell_type": "code",
      "metadata": {
        "id": "77wMVqve6W8f",
        "outputId": "af7d0e26-3cb6-4fcc-ce29-74eb593301e2",
        "colab": {
          "base_uri": "https://localhost:8080/"
        }
      },
      "source": [
        "import tensorflow as tf\n",
        "from tensorflow import keras \n",
        "\n",
        "model = keras.Sequential()\n",
        "model.add(keras.layers.Conv2D(64, 5, input_shape=(13, 259, 1), activation='relu'))\n",
        "model.add(keras.layers.Dropout(0.25))\n",
        "model.add(keras.layers.MaxPool2D())\n",
        "model.add(keras.layers.Conv2D(64, 5, activation='relu',padding='same'))\n",
        "model.add(keras.layers.Dropout(0.25))\n",
        "model.add(keras.layers.MaxPool2D())\n",
        "model.add(keras.layers.Flatten())\n",
        "model.add(keras.layers.Dense(128, activation='relu'))\n",
        "model.add(keras.layers.Dropout(0.5))\n",
        "model.add(keras.layers.Dense(len(np.unique(source['label'])), activation='softmax'))\n",
        "model.compile(optimizer='adam', loss='sparse_categorical_crossentropy', metrics=['accuracy'])\n",
        "\n",
        "model.fit(X_train[:,:,:,None], y_train, epochs=100)"
      ],
      "id": "77wMVqve6W8f",
      "execution_count": 135,
      "outputs": [
        {
          "output_type": "stream",
          "text": [
            "Epoch 1/100\n",
            "16/16 [==============================] - 1s 23ms/step - loss: 28.6359 - accuracy: 0.0263\n",
            "Epoch 2/100\n",
            "16/16 [==============================] - 0s 20ms/step - loss: 3.4892 - accuracy: 0.0485\n",
            "Epoch 3/100\n",
            "16/16 [==============================] - 0s 18ms/step - loss: 3.4722 - accuracy: 0.0444\n",
            "Epoch 4/100\n",
            "16/16 [==============================] - 0s 18ms/step - loss: 3.4521 - accuracy: 0.0384\n",
            "Epoch 5/100\n",
            "16/16 [==============================] - 0s 18ms/step - loss: 3.4206 - accuracy: 0.0404\n",
            "Epoch 6/100\n",
            "16/16 [==============================] - 0s 17ms/step - loss: 3.3786 - accuracy: 0.0505\n",
            "Epoch 7/100\n",
            "16/16 [==============================] - 0s 17ms/step - loss: 3.4074 - accuracy: 0.0404\n",
            "Epoch 8/100\n",
            "16/16 [==============================] - 0s 19ms/step - loss: 3.3794 - accuracy: 0.0404\n",
            "Epoch 9/100\n",
            "16/16 [==============================] - 0s 18ms/step - loss: 3.3550 - accuracy: 0.0465\n",
            "Epoch 10/100\n",
            "16/16 [==============================] - 0s 18ms/step - loss: 3.3076 - accuracy: 0.0566\n",
            "Epoch 11/100\n",
            "16/16 [==============================] - 0s 17ms/step - loss: 3.3300 - accuracy: 0.0465\n",
            "Epoch 12/100\n",
            "16/16 [==============================] - 0s 18ms/step - loss: 3.2964 - accuracy: 0.0525\n",
            "Epoch 13/100\n",
            "16/16 [==============================] - 0s 18ms/step - loss: 3.3225 - accuracy: 0.0485\n",
            "Epoch 14/100\n",
            "16/16 [==============================] - 0s 18ms/step - loss: 3.2376 - accuracy: 0.0626\n",
            "Epoch 15/100\n",
            "16/16 [==============================] - 0s 17ms/step - loss: 3.2777 - accuracy: 0.0525\n",
            "Epoch 16/100\n",
            "16/16 [==============================] - 0s 17ms/step - loss: 3.2336 - accuracy: 0.0606\n",
            "Epoch 17/100\n",
            "16/16 [==============================] - 0s 18ms/step - loss: 3.2845 - accuracy: 0.0364\n",
            "Epoch 18/100\n",
            "16/16 [==============================] - 0s 18ms/step - loss: 3.2838 - accuracy: 0.0444\n",
            "Epoch 19/100\n",
            "16/16 [==============================] - 0s 17ms/step - loss: 3.2238 - accuracy: 0.0586\n",
            "Epoch 20/100\n",
            "16/16 [==============================] - 0s 17ms/step - loss: 3.2044 - accuracy: 0.0949\n",
            "Epoch 21/100\n",
            "16/16 [==============================] - 0s 18ms/step - loss: 3.1512 - accuracy: 0.1030\n",
            "Epoch 22/100\n",
            "16/16 [==============================] - 0s 18ms/step - loss: 3.1370 - accuracy: 0.1030\n",
            "Epoch 23/100\n",
            "16/16 [==============================] - 0s 17ms/step - loss: 3.1747 - accuracy: 0.0808\n",
            "Epoch 24/100\n",
            "16/16 [==============================] - 0s 18ms/step - loss: 3.1374 - accuracy: 0.0869\n",
            "Epoch 25/100\n",
            "16/16 [==============================] - 0s 18ms/step - loss: 3.0849 - accuracy: 0.1030\n",
            "Epoch 26/100\n",
            "16/16 [==============================] - 0s 18ms/step - loss: 3.0855 - accuracy: 0.1071\n",
            "Epoch 27/100\n",
            "16/16 [==============================] - 0s 18ms/step - loss: 3.0778 - accuracy: 0.1091\n",
            "Epoch 28/100\n",
            "16/16 [==============================] - 0s 17ms/step - loss: 3.1832 - accuracy: 0.0848\n",
            "Epoch 29/100\n",
            "16/16 [==============================] - 0s 17ms/step - loss: 3.0762 - accuracy: 0.0929\n",
            "Epoch 30/100\n",
            "16/16 [==============================] - 0s 18ms/step - loss: 3.0551 - accuracy: 0.1131\n",
            "Epoch 31/100\n",
            "16/16 [==============================] - 0s 17ms/step - loss: 2.9829 - accuracy: 0.1273\n",
            "Epoch 32/100\n",
            "16/16 [==============================] - 0s 17ms/step - loss: 2.9669 - accuracy: 0.1273\n",
            "Epoch 33/100\n",
            "16/16 [==============================] - 0s 18ms/step - loss: 3.0627 - accuracy: 0.1071\n",
            "Epoch 34/100\n",
            "16/16 [==============================] - 0s 17ms/step - loss: 3.0671 - accuracy: 0.1111\n",
            "Epoch 35/100\n",
            "16/16 [==============================] - 0s 17ms/step - loss: 2.9291 - accuracy: 0.1515\n",
            "Epoch 36/100\n",
            "16/16 [==============================] - 0s 18ms/step - loss: 2.8602 - accuracy: 0.1798\n",
            "Epoch 37/100\n",
            "16/16 [==============================] - 0s 18ms/step - loss: 2.8007 - accuracy: 0.1596\n",
            "Epoch 38/100\n",
            "16/16 [==============================] - 0s 18ms/step - loss: 2.8219 - accuracy: 0.1798\n",
            "Epoch 39/100\n",
            "16/16 [==============================] - 0s 17ms/step - loss: 2.7569 - accuracy: 0.1859\n",
            "Epoch 40/100\n",
            "16/16 [==============================] - 0s 18ms/step - loss: 2.6647 - accuracy: 0.1879\n",
            "Epoch 41/100\n",
            "16/16 [==============================] - 0s 18ms/step - loss: 2.6852 - accuracy: 0.1899\n",
            "Epoch 42/100\n",
            "16/16 [==============================] - 0s 18ms/step - loss: 2.4973 - accuracy: 0.2586\n",
            "Epoch 43/100\n",
            "16/16 [==============================] - 0s 17ms/step - loss: 2.5150 - accuracy: 0.2586\n",
            "Epoch 44/100\n",
            "16/16 [==============================] - 0s 17ms/step - loss: 2.5876 - accuracy: 0.2545\n",
            "Epoch 45/100\n",
            "16/16 [==============================] - 0s 17ms/step - loss: 2.4725 - accuracy: 0.2727\n",
            "Epoch 46/100\n",
            "16/16 [==============================] - 0s 18ms/step - loss: 2.2531 - accuracy: 0.3293\n",
            "Epoch 47/100\n",
            "16/16 [==============================] - 0s 18ms/step - loss: 2.2124 - accuracy: 0.3616\n",
            "Epoch 48/100\n",
            "16/16 [==============================] - 0s 17ms/step - loss: 2.1588 - accuracy: 0.3414\n",
            "Epoch 49/100\n",
            "16/16 [==============================] - 0s 17ms/step - loss: 1.9816 - accuracy: 0.4020\n",
            "Epoch 50/100\n",
            "16/16 [==============================] - 0s 18ms/step - loss: 1.7527 - accuracy: 0.4808\n",
            "Epoch 51/100\n",
            "16/16 [==============================] - 0s 18ms/step - loss: 1.8121 - accuracy: 0.4747\n",
            "Epoch 52/100\n",
            "16/16 [==============================] - 0s 17ms/step - loss: 1.6418 - accuracy: 0.4828\n",
            "Epoch 53/100\n",
            "16/16 [==============================] - 0s 17ms/step - loss: 1.8677 - accuracy: 0.4707\n",
            "Epoch 54/100\n",
            "16/16 [==============================] - 0s 17ms/step - loss: 1.4531 - accuracy: 0.5677\n",
            "Epoch 55/100\n",
            "16/16 [==============================] - 0s 17ms/step - loss: 1.4507 - accuracy: 0.5596\n",
            "Epoch 56/100\n",
            "16/16 [==============================] - 0s 17ms/step - loss: 1.5204 - accuracy: 0.5455\n",
            "Epoch 57/100\n",
            "16/16 [==============================] - 0s 17ms/step - loss: 1.4446 - accuracy: 0.5556\n",
            "Epoch 58/100\n",
            "16/16 [==============================] - 0s 18ms/step - loss: 1.2467 - accuracy: 0.6303\n",
            "Epoch 59/100\n",
            "16/16 [==============================] - 0s 17ms/step - loss: 1.2503 - accuracy: 0.6020\n",
            "Epoch 60/100\n",
            "16/16 [==============================] - 0s 18ms/step - loss: 1.2367 - accuracy: 0.6081\n",
            "Epoch 61/100\n",
            "16/16 [==============================] - 0s 18ms/step - loss: 1.1980 - accuracy: 0.6323\n",
            "Epoch 62/100\n",
            "16/16 [==============================] - 0s 17ms/step - loss: 1.1770 - accuracy: 0.6283\n",
            "Epoch 63/100\n",
            "16/16 [==============================] - 0s 17ms/step - loss: 1.1172 - accuracy: 0.6505\n",
            "Epoch 64/100\n",
            "16/16 [==============================] - 0s 18ms/step - loss: 1.0812 - accuracy: 0.6586\n",
            "Epoch 65/100\n",
            "16/16 [==============================] - 0s 18ms/step - loss: 0.9335 - accuracy: 0.7091\n",
            "Epoch 66/100\n",
            "16/16 [==============================] - 0s 17ms/step - loss: 1.0149 - accuracy: 0.6909\n",
            "Epoch 67/100\n",
            "16/16 [==============================] - 0s 18ms/step - loss: 0.9925 - accuracy: 0.6970\n",
            "Epoch 68/100\n",
            "16/16 [==============================] - 0s 18ms/step - loss: 0.9099 - accuracy: 0.7152\n",
            "Epoch 69/100\n",
            "16/16 [==============================] - 0s 18ms/step - loss: 0.8331 - accuracy: 0.7576\n",
            "Epoch 70/100\n",
            "16/16 [==============================] - 0s 17ms/step - loss: 0.7849 - accuracy: 0.7434\n",
            "Epoch 71/100\n",
            "16/16 [==============================] - 0s 19ms/step - loss: 0.8384 - accuracy: 0.7333\n",
            "Epoch 72/100\n",
            "16/16 [==============================] - 0s 18ms/step - loss: 0.7660 - accuracy: 0.7556\n",
            "Epoch 73/100\n",
            "16/16 [==============================] - 0s 18ms/step - loss: 0.7478 - accuracy: 0.7596\n",
            "Epoch 74/100\n",
            "16/16 [==============================] - 0s 18ms/step - loss: 0.6985 - accuracy: 0.7838\n",
            "Epoch 75/100\n",
            "16/16 [==============================] - 0s 18ms/step - loss: 0.7027 - accuracy: 0.7798\n",
            "Epoch 76/100\n",
            "16/16 [==============================] - 0s 17ms/step - loss: 0.5957 - accuracy: 0.8061\n",
            "Epoch 77/100\n",
            "16/16 [==============================] - 0s 17ms/step - loss: 0.7219 - accuracy: 0.7838\n",
            "Epoch 78/100\n",
            "16/16 [==============================] - 0s 17ms/step - loss: 0.7196 - accuracy: 0.7636\n",
            "Epoch 79/100\n",
            "16/16 [==============================] - 0s 18ms/step - loss: 0.6305 - accuracy: 0.7960\n",
            "Epoch 80/100\n",
            "16/16 [==============================] - 0s 18ms/step - loss: 0.5905 - accuracy: 0.8101\n",
            "Epoch 81/100\n",
            "16/16 [==============================] - 0s 18ms/step - loss: 0.6159 - accuracy: 0.8162\n",
            "Epoch 82/100\n",
            "16/16 [==============================] - 0s 17ms/step - loss: 0.5338 - accuracy: 0.8364\n",
            "Epoch 83/100\n",
            "16/16 [==============================] - 0s 18ms/step - loss: 0.6456 - accuracy: 0.8061\n",
            "Epoch 84/100\n",
            "16/16 [==============================] - 0s 18ms/step - loss: 0.5104 - accuracy: 0.8263\n",
            "Epoch 85/100\n",
            "16/16 [==============================] - 0s 17ms/step - loss: 0.5530 - accuracy: 0.8323\n",
            "Epoch 86/100\n",
            "16/16 [==============================] - 0s 18ms/step - loss: 0.5670 - accuracy: 0.8040\n",
            "Epoch 87/100\n",
            "16/16 [==============================] - 0s 17ms/step - loss: 0.5824 - accuracy: 0.8182\n",
            "Epoch 88/100\n",
            "16/16 [==============================] - 0s 18ms/step - loss: 0.6035 - accuracy: 0.8081\n",
            "Epoch 89/100\n",
            "16/16 [==============================] - 0s 17ms/step - loss: 0.5010 - accuracy: 0.8465\n",
            "Epoch 90/100\n",
            "16/16 [==============================] - 0s 17ms/step - loss: 0.5059 - accuracy: 0.8283\n",
            "Epoch 91/100\n",
            "16/16 [==============================] - 0s 18ms/step - loss: 0.4794 - accuracy: 0.8444\n",
            "Epoch 92/100\n",
            "16/16 [==============================] - 0s 17ms/step - loss: 0.6030 - accuracy: 0.8222\n",
            "Epoch 93/100\n",
            "16/16 [==============================] - 0s 17ms/step - loss: 0.4977 - accuracy: 0.8323\n",
            "Epoch 94/100\n",
            "16/16 [==============================] - 0s 17ms/step - loss: 0.4789 - accuracy: 0.8545\n",
            "Epoch 95/100\n",
            "16/16 [==============================] - 0s 19ms/step - loss: 0.5608 - accuracy: 0.7939\n",
            "Epoch 96/100\n",
            "16/16 [==============================] - 0s 18ms/step - loss: 0.4224 - accuracy: 0.8626\n",
            "Epoch 97/100\n",
            "16/16 [==============================] - 0s 18ms/step - loss: 0.5248 - accuracy: 0.8283\n",
            "Epoch 98/100\n",
            "16/16 [==============================] - 0s 18ms/step - loss: 0.4800 - accuracy: 0.8384\n",
            "Epoch 99/100\n",
            "16/16 [==============================] - 0s 18ms/step - loss: 0.4170 - accuracy: 0.8485\n",
            "Epoch 100/100\n",
            "16/16 [==============================] - 0s 18ms/step - loss: 0.5389 - accuracy: 0.8202\n"
          ],
          "name": "stdout"
        },
        {
          "output_type": "execute_result",
          "data": {
            "text/plain": [
              "<tensorflow.python.keras.callbacks.History at 0x7fb896716f90>"
            ]
          },
          "metadata": {
            "tags": []
          },
          "execution_count": 135
        }
      ]
    },
    {
      "cell_type": "code",
      "metadata": {
        "id": "S-z2fH0cHvVc",
        "colab": {
          "base_uri": "https://localhost:8080/"
        },
        "outputId": "8a8318b8-9b32-48cc-cc10-91377c78eec6"
      },
      "source": [
        "model.summary()"
      ],
      "id": "S-z2fH0cHvVc",
      "execution_count": 136,
      "outputs": [
        {
          "output_type": "stream",
          "text": [
            "Model: \"sequential_25\"\n",
            "_________________________________________________________________\n",
            "Layer (type)                 Output Shape              Param #   \n",
            "=================================================================\n",
            "conv2d_50 (Conv2D)           (None, 9, 255, 64)        1664      \n",
            "_________________________________________________________________\n",
            "dropout_67 (Dropout)         (None, 9, 255, 64)        0         \n",
            "_________________________________________________________________\n",
            "max_pooling2d_50 (MaxPooling (None, 4, 127, 64)        0         \n",
            "_________________________________________________________________\n",
            "conv2d_51 (Conv2D)           (None, 4, 127, 64)        102464    \n",
            "_________________________________________________________________\n",
            "dropout_68 (Dropout)         (None, 4, 127, 64)        0         \n",
            "_________________________________________________________________\n",
            "max_pooling2d_51 (MaxPooling (None, 2, 63, 64)         0         \n",
            "_________________________________________________________________\n",
            "flatten_25 (Flatten)         (None, 8064)              0         \n",
            "_________________________________________________________________\n",
            "dense_50 (Dense)             (None, 128)               1032320   \n",
            "_________________________________________________________________\n",
            "dropout_69 (Dropout)         (None, 128)               0         \n",
            "_________________________________________________________________\n",
            "dense_51 (Dense)             (None, 33)                4257      \n",
            "=================================================================\n",
            "Total params: 1,140,705\n",
            "Trainable params: 1,140,705\n",
            "Non-trainable params: 0\n",
            "_________________________________________________________________\n"
          ],
          "name": "stdout"
        }
      ]
    },
    {
      "cell_type": "code",
      "metadata": {
        "colab": {
          "base_uri": "https://localhost:8080/"
        },
        "id": "ZQ4n8wAmB9ZX",
        "outputId": "aba04e63-2dc0-4eab-898a-e422af7bea85"
      },
      "source": [
        "model.evaluate(X_test[:,:,:,None],y_test)"
      ],
      "id": "ZQ4n8wAmB9ZX",
      "execution_count": 137,
      "outputs": [
        {
          "output_type": "stream",
          "text": [
            "6/6 [==============================] - 0s 9ms/step - loss: 0.3254 - accuracy: 0.9515\n"
          ],
          "name": "stdout"
        },
        {
          "output_type": "execute_result",
          "data": {
            "text/plain": [
              "[0.32544514536857605, 0.9515151381492615]"
            ]
          },
          "metadata": {
            "tags": []
          },
          "execution_count": 137
        }
      ]
    },
    {
      "cell_type": "code",
      "metadata": {
        "id": "wFbKdWsMkDuw",
        "colab": {
          "base_uri": "https://localhost:8080/"
        },
        "outputId": "b93a2330-fef7-4f15-de5a-fef52be05a74"
      },
      "source": [
        "from sklearn.metrics import classification_report\n",
        "\n",
        "predicted_classes = np.argmax(np.round(model.predict(X_test[:,:,:,None])),axis=1)\n",
        "target_names = [\"Class {}\".format(i) for i in range(len(np.unique(source['label'])))]\n",
        "print(classification_report(y_test, predicted_classes, target_names=target_names))"
      ],
      "id": "wFbKdWsMkDuw",
      "execution_count": 138,
      "outputs": [
        {
          "output_type": "stream",
          "text": [
            "              precision    recall  f1-score   support\n",
            "\n",
            "     Class 0       0.62      1.00      0.77         5\n",
            "     Class 1       1.00      1.00      1.00         5\n",
            "     Class 2       1.00      1.00      1.00         5\n",
            "     Class 3       1.00      0.80      0.89         5\n",
            "     Class 4       1.00      1.00      1.00         5\n",
            "     Class 5       1.00      1.00      1.00         5\n",
            "     Class 6       1.00      1.00      1.00         5\n",
            "     Class 7       1.00      1.00      1.00         5\n",
            "     Class 8       1.00      1.00      1.00         5\n",
            "     Class 9       1.00      1.00      1.00         5\n",
            "    Class 10       1.00      1.00      1.00         5\n",
            "    Class 11       1.00      1.00      1.00         5\n",
            "    Class 12       1.00      1.00      1.00         5\n",
            "    Class 13       1.00      0.80      0.89         5\n",
            "    Class 14       1.00      1.00      1.00         5\n",
            "    Class 15       0.75      0.60      0.67         5\n",
            "    Class 16       0.83      1.00      0.91         5\n",
            "    Class 17       0.83      1.00      0.91         5\n",
            "    Class 18       1.00      1.00      1.00         5\n",
            "    Class 19       0.75      0.60      0.67         5\n",
            "    Class 20       0.83      1.00      0.91         5\n",
            "    Class 21       1.00      1.00      1.00         5\n",
            "    Class 22       1.00      0.80      0.89         5\n",
            "    Class 23       1.00      1.00      1.00         5\n",
            "    Class 24       1.00      1.00      1.00         5\n",
            "    Class 25       1.00      0.60      0.75         5\n",
            "    Class 26       0.83      1.00      0.91         5\n",
            "    Class 27       1.00      1.00      1.00         5\n",
            "    Class 28       1.00      1.00      1.00         5\n",
            "    Class 29       1.00      1.00      1.00         5\n",
            "    Class 30       1.00      1.00      1.00         5\n",
            "    Class 31       1.00      1.00      1.00         5\n",
            "    Class 32       1.00      1.00      1.00         5\n",
            "\n",
            "    accuracy                           0.95       165\n",
            "   macro avg       0.95      0.95      0.94       165\n",
            "weighted avg       0.95      0.95      0.94       165\n",
            "\n"
          ],
          "name": "stdout"
        }
      ]
    }
  ]
}