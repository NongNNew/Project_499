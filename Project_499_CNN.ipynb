{
  "nbformat": 4,
  "nbformat_minor": 5,
  "metadata": {
    "colab": {
      "name": "Project_499_CNN.ipynb",
      "provenance": [],
      "collapsed_sections": [],
      "machine_shape": "hm",
      "include_colab_link": true
    },
    "kernelspec": {
      "display_name": "Python 3",
      "language": "python",
      "name": "python3"
    },
    "language_info": {
      "codemirror_mode": {
        "name": "ipython",
        "version": 3
      },
      "file_extension": ".py",
      "mimetype": "text/x-python",
      "name": "python",
      "nbconvert_exporter": "python",
      "pygments_lexer": "ipython3",
      "version": "3.8.8"
    },
    "accelerator": "GPU"
  },
  "cells": [
    {
      "cell_type": "markdown",
      "metadata": {
        "id": "view-in-github",
        "colab_type": "text"
      },
      "source": [
        "<a href=\"https://colab.research.google.com/github/NongNNew/Project_499/blob/main/Project_499_CNN.ipynb\" target=\"_parent\"><img src=\"https://colab.research.google.com/assets/colab-badge.svg\" alt=\"Open In Colab\"/></a>"
      ]
    },
    {
      "cell_type": "markdown",
      "metadata": {
        "id": "hW4AHGmEVrk8"
      },
      "source": [
        "# **CNN**"
      ],
      "id": "hW4AHGmEVrk8"
    },
    {
      "cell_type": "markdown",
      "metadata": {
        "id": "nkYRb02rScfH"
      },
      "source": [
        "## Setup"
      ],
      "id": "nkYRb02rScfH"
    },
    {
      "cell_type": "code",
      "metadata": {
        "colab": {
          "base_uri": "https://localhost:8080/"
        },
        "id": "Nq11bNFAbCci",
        "outputId": "af459c23-632c-478f-fefa-ec301cc7bb77"
      },
      "source": [
        "!pip install python_speech_features"
      ],
      "id": "Nq11bNFAbCci",
      "execution_count": 43,
      "outputs": [
        {
          "output_type": "stream",
          "name": "stdout",
          "text": [
            "Requirement already satisfied: python_speech_features in /usr/local/lib/python3.7/dist-packages (0.6)\n"
          ]
        }
      ]
    },
    {
      "cell_type": "code",
      "metadata": {
        "id": "fssuU2ucR1vy"
      },
      "source": [
        "import librosa\n",
        "import numpy as np\n",
        "import pandas as pd\n",
        "from glob import glob\n",
        "import tensorflow as tf\n",
        "from tensorflow import keras \n",
        "import python_speech_features\n",
        "import matplotlib.pyplot as plt\n",
        "from scipy.signal.windows import hamming\n",
        "from sklearn.metrics import classification_report"
      ],
      "id": "fssuU2ucR1vy",
      "execution_count": 44,
      "outputs": []
    },
    {
      "cell_type": "code",
      "metadata": {
        "id": "y1vuUlgJSKkC"
      },
      "source": [
        "np.random.seed(1)\n",
        "tf.random.set_seed(1)"
      ],
      "id": "y1vuUlgJSKkC",
      "execution_count": 45,
      "outputs": []
    },
    {
      "cell_type": "code",
      "metadata": {
        "colab": {
          "base_uri": "https://localhost:8080/"
        },
        "id": "gJVdtdww87RO",
        "outputId": "5099c68b-0506-44b6-efa4-04b638f16184"
      },
      "source": [
        "# Upload audio files from github\n",
        "!git clone https://github.com/NongNNew/Project_499.git"
      ],
      "id": "gJVdtdww87RO",
      "execution_count": 46,
      "outputs": [
        {
          "output_type": "stream",
          "name": "stdout",
          "text": [
            "fatal: destination path 'Project_499' already exists and is not an empty directory.\n"
          ]
        }
      ]
    },
    {
      "cell_type": "markdown",
      "metadata": {
        "id": "BRWP2IrOShCH"
      },
      "source": [
        "## Prepare dataset"
      ],
      "id": "BRWP2IrOShCH"
    },
    {
      "cell_type": "code",
      "metadata": {
        "id": "EHnDUT5YejVV"
      },
      "source": [
        "# Name of vegetables and fruits 52 types of 56 classes\n",
        "fruit_veget = ['กระชาย','กระท้อน','กระเทียม1','กระเทียม2','กระเพรา','กล้วยน้ำว้า','กล้วยหอม',\n",
        "               'ข้าวโพด','ไข่น้ำ',\n",
        "               'ตะขบไทย','ตะไคร้',\n",
        "               'ถั่วฝักยาว','ถั่วลันเตา','ถั่วลิสง',\n",
        "               'ทับทิม',\n",
        "               'น้อยหน่า','น้ำเต้า',\n",
        "               'ผักกระเฉด','ผักกุยช่าย','ผักขึ้นช่าย','ผักชะอม','ผักชี','ผักชีฝรั่ง','ผักตำลึง',\n",
        "               'มะปราง','มะพลับ','มะละกอ','มะกรูด','มะเขือพวง','มะเขือเทศ','มะระ','มะรุม','มะตูม','มันแกว1','มันแกว2','มันเทศ','มันฝรั่ง','มันสำปะหลัง',\n",
        "               'บวบ','ใบชะพลู1','ใบชะพลู2','ใบบัวบก','ใบแมงลัก','ใบยอ',\n",
        "               'พริกขี้หนู','พริกสด','พุทรา','เพกา',\n",
        "               'ฝรั่ง',\n",
        "               'ฟัก','ฟักทอง',\n",
        "               'สับปะรด','สะเดา','สะระแหน่',\n",
        "               'หัวหอม1','หัวหอม2']\n",
        "\n",
        "# Audio data source\n",
        "source = {'audio_time':[],\n",
        "          'sampling_rate':[],\n",
        "          'feature_extraction':[],\n",
        "          'label':[],\n",
        "          'description':[]}"
      ],
      "id": "EHnDUT5YejVV",
      "execution_count": 47,
      "outputs": []
    },
    {
      "cell_type": "code",
      "metadata": {
        "id": "_XRqKtGBeW_1"
      },
      "source": [
        "def feature_mfcc(y,sr):\n",
        "    return (python_speech_features.mfcc(signal=y, \n",
        "                                    samplerate=sr, \n",
        "                                    winlen= 512/sr, \n",
        "                                    winstep= 160/sr,\n",
        "                                    numcep= 13,\n",
        "                                    nfilt= 40, \n",
        "                                    nfft= 512,\n",
        "                                    lowfreq= 0,\n",
        "                                    highfreq= None,\n",
        "                                    preemph= 0.97, \n",
        "                                    ceplifter= 0,\n",
        "                                    winfunc= hamming))"
      ],
      "id": "_XRqKtGBeW_1",
      "execution_count": 48,
      "outputs": []
    },
    {
      "cell_type": "code",
      "metadata": {
        "id": "tixApnAUy5tv"
      },
      "source": [
        "for types in fruit_veget:\n",
        "    audio_files = glob('/content/Project_499/Record_audio/' + str(types) + '/*.wav')\n",
        "\n",
        "    for audio in audio_files:\n",
        "        y,sr = librosa.load(audio,duration=5,offset=0)\n",
        "        source['description'].append(str(types))\n",
        "        source['audio_time'].append(y)\n",
        "        source['sampling_rate'].append(sr)\n",
        "        source['feature_extraction'].append(feature_mfcc(y,sr))\n",
        "        source['label'].append(fruit_veget.index(types))"
      ],
      "id": "tixApnAUy5tv",
      "execution_count": 49,
      "outputs": []
    },
    {
      "cell_type": "code",
      "metadata": {
        "colab": {
          "base_uri": "https://localhost:8080/",
          "height": 759
        },
        "id": "8B6cSV4Ckude",
        "outputId": "36e90f9e-171c-49fd-cad0-e5155b9dd072"
      },
      "source": [
        "# tranform dictionary to dataframe \n",
        "df = pd.DataFrame.from_dict(source)\n",
        "df"
      ],
      "id": "8B6cSV4Ckude",
      "execution_count": 50,
      "outputs": [
        {
          "output_type": "execute_result",
          "data": {
            "text/html": [
              "<div>\n",
              "<style scoped>\n",
              "    .dataframe tbody tr th:only-of-type {\n",
              "        vertical-align: middle;\n",
              "    }\n",
              "\n",
              "    .dataframe tbody tr th {\n",
              "        vertical-align: top;\n",
              "    }\n",
              "\n",
              "    .dataframe thead th {\n",
              "        text-align: right;\n",
              "    }\n",
              "</style>\n",
              "<table border=\"1\" class=\"dataframe\">\n",
              "  <thead>\n",
              "    <tr style=\"text-align: right;\">\n",
              "      <th></th>\n",
              "      <th>audio_time</th>\n",
              "      <th>sampling_rate</th>\n",
              "      <th>feature_extraction</th>\n",
              "      <th>label</th>\n",
              "      <th>description</th>\n",
              "    </tr>\n",
              "  </thead>\n",
              "  <tbody>\n",
              "    <tr>\n",
              "      <th>0</th>\n",
              "      <td>[-0.00024414062, -0.0002593994, -0.00022888184...</td>\n",
              "      <td>22050</td>\n",
              "      <td>[[-13.849791727695862, -11.588470019049367, -0...</td>\n",
              "      <td>0</td>\n",
              "      <td>กระชาย</td>\n",
              "    </tr>\n",
              "    <tr>\n",
              "      <th>1</th>\n",
              "      <td>[1.5258789e-05, -3.0517578e-05, 6.1035156e-05,...</td>\n",
              "      <td>22050</td>\n",
              "      <td>[[-14.225420647550473, -11.767209141048717, 0....</td>\n",
              "      <td>0</td>\n",
              "      <td>กระชาย</td>\n",
              "    </tr>\n",
              "    <tr>\n",
              "      <th>2</th>\n",
              "      <td>[1.5258789e-05, -4.5776367e-05, 0.0, 1.5258789...</td>\n",
              "      <td>22050</td>\n",
              "      <td>[[-13.973324319319042, -9.651651413346334, 0.8...</td>\n",
              "      <td>0</td>\n",
              "      <td>กระชาย</td>\n",
              "    </tr>\n",
              "    <tr>\n",
              "      <th>3</th>\n",
              "      <td>[-0.00021362305, -0.00024414062, -0.0002593994...</td>\n",
              "      <td>22050</td>\n",
              "      <td>[[-14.389836672385517, -10.023800010987056, 0....</td>\n",
              "      <td>0</td>\n",
              "      <td>กระชาย</td>\n",
              "    </tr>\n",
              "    <tr>\n",
              "      <th>4</th>\n",
              "      <td>[-0.004928589, -0.0049591064, -0.0048980713, -...</td>\n",
              "      <td>22050</td>\n",
              "      <td>[[-12.959169471954294, -4.281586674957866, 6.4...</td>\n",
              "      <td>0</td>\n",
              "      <td>กระชาย</td>\n",
              "    </tr>\n",
              "    <tr>\n",
              "      <th>...</th>\n",
              "      <td>...</td>\n",
              "      <td>...</td>\n",
              "      <td>...</td>\n",
              "      <td>...</td>\n",
              "      <td>...</td>\n",
              "    </tr>\n",
              "    <tr>\n",
              "      <th>1115</th>\n",
              "      <td>[-0.00024414062, -0.0002593994, -0.00022888184...</td>\n",
              "      <td>22050</td>\n",
              "      <td>[[-14.003234060711906, -11.759421272003904, -1...</td>\n",
              "      <td>55</td>\n",
              "      <td>หัวหอม2</td>\n",
              "    </tr>\n",
              "    <tr>\n",
              "      <th>1116</th>\n",
              "      <td>[-0.00010681152, -0.00010681152, -0.0002136230...</td>\n",
              "      <td>22050</td>\n",
              "      <td>[[-13.965644315403711, -9.922440291030709, 1.8...</td>\n",
              "      <td>55</td>\n",
              "      <td>หัวหอม2</td>\n",
              "    </tr>\n",
              "    <tr>\n",
              "      <th>1117</th>\n",
              "      <td>[-0.00024414062, -0.0002746582, -0.00019836426...</td>\n",
              "      <td>22050</td>\n",
              "      <td>[[-14.30657814127106, -8.777075651980645, 2.11...</td>\n",
              "      <td>55</td>\n",
              "      <td>หัวหอม2</td>\n",
              "    </tr>\n",
              "    <tr>\n",
              "      <th>1118</th>\n",
              "      <td>[-0.00021362305, -0.00019836426, -0.0001678466...</td>\n",
              "      <td>22050</td>\n",
              "      <td>[[-13.600642153773194, -15.096089567076714, -0...</td>\n",
              "      <td>55</td>\n",
              "      <td>หัวหอม2</td>\n",
              "    </tr>\n",
              "    <tr>\n",
              "      <th>1119</th>\n",
              "      <td>[-0.0001373291, -0.00010681152, -0.00015258789...</td>\n",
              "      <td>22050</td>\n",
              "      <td>[[-13.96668688965529, -12.52580923566588, -1.6...</td>\n",
              "      <td>55</td>\n",
              "      <td>หัวหอม2</td>\n",
              "    </tr>\n",
              "  </tbody>\n",
              "</table>\n",
              "<p>1120 rows × 5 columns</p>\n",
              "</div>"
            ],
            "text/plain": [
              "                                             audio_time  ...  description\n",
              "0     [-0.00024414062, -0.0002593994, -0.00022888184...  ...       กระชาย\n",
              "1     [1.5258789e-05, -3.0517578e-05, 6.1035156e-05,...  ...       กระชาย\n",
              "2     [1.5258789e-05, -4.5776367e-05, 0.0, 1.5258789...  ...       กระชาย\n",
              "3     [-0.00021362305, -0.00024414062, -0.0002593994...  ...       กระชาย\n",
              "4     [-0.004928589, -0.0049591064, -0.0048980713, -...  ...       กระชาย\n",
              "...                                                 ...  ...          ...\n",
              "1115  [-0.00024414062, -0.0002593994, -0.00022888184...  ...      หัวหอม2\n",
              "1116  [-0.00010681152, -0.00010681152, -0.0002136230...  ...      หัวหอม2\n",
              "1117  [-0.00024414062, -0.0002746582, -0.00019836426...  ...      หัวหอม2\n",
              "1118  [-0.00021362305, -0.00019836426, -0.0001678466...  ...      หัวหอม2\n",
              "1119  [-0.0001373291, -0.00010681152, -0.00015258789...  ...      หัวหอม2\n",
              "\n",
              "[1120 rows x 5 columns]"
            ]
          },
          "metadata": {},
          "execution_count": 50
        }
      ]
    },
    {
      "cell_type": "code",
      "metadata": {
        "id": "T7yzW3hnmuyB"
      },
      "source": [
        "Test = pd.DataFrame(columns=source.keys())\n",
        "\n",
        "# Create test data\n",
        "\n",
        "for description in np.unique(df['description']):\n",
        "    imp_test = df[df['description']==description].sample(5,random_state=1)\n",
        "    Test = pd.concat([Test,imp_test], axis=0)\n",
        "Train = df.drop(Test.index)\n",
        "\n",
        "X_train = np.array(Train['feature_extraction'].to_list())\n",
        "X_test = np.array(Test['feature_extraction'].to_list())\n",
        "y_train = np.array(Train['label'].to_list())\n",
        "y_test = np.array(Test['label'].to_list())"
      ],
      "id": "T7yzW3hnmuyB",
      "execution_count": 51,
      "outputs": []
    },
    {
      "cell_type": "code",
      "metadata": {
        "colab": {
          "base_uri": "https://localhost:8080/"
        },
        "id": "mSV3u9RmEU7h",
        "outputId": "a314c2b7-d386-4513-e93a-f567a7bd2470"
      },
      "source": [
        "# Proportion of data\n",
        "y_train.shape, y_test.shape"
      ],
      "id": "mSV3u9RmEU7h",
      "execution_count": 52,
      "outputs": [
        {
          "output_type": "execute_result",
          "data": {
            "text/plain": [
              "((840,), (280,))"
            ]
          },
          "metadata": {},
          "execution_count": 52
        }
      ]
    },
    {
      "cell_type": "markdown",
      "metadata": {
        "id": "r7RGaVViSrwg"
      },
      "source": [
        "## Build cnn model"
      ],
      "id": "r7RGaVViSrwg"
    },
    {
      "cell_type": "code",
      "metadata": {
        "id": "77wMVqve6W8f"
      },
      "source": [
        "def create_cnn_model(X_train):\n",
        "    np.random.seed(1)\n",
        "    tf.random.set_seed(1)\n",
        "    model = None\n",
        "    model = keras.Sequential()\n",
        "    model.add(keras.layers.Conv2D(128, 5, input_shape=(X_train.shape[1], X_train.shape[2], 1), activation='relu'))\n",
        "    model.add(keras.layers.Dropout(0.25))\n",
        "    model.add(keras.layers.MaxPool2D())\n",
        "    model.add(keras.layers.Conv2D(64, 5, activation='relu',padding='same'))\n",
        "    model.add(keras.layers.Dropout(0.25))\n",
        "    model.add(keras.layers.MaxPool2D())\n",
        "    model.add(keras.layers.Conv2D(64, 5, activation='relu',padding='same'))\n",
        "    model.add(keras.layers.Dropout(0.25))\n",
        "    model.add(keras.layers.MaxPool2D())\n",
        "    model.add(keras.layers.Flatten())\n",
        "    model.add(keras.layers.Dense(128, activation='relu'))\n",
        "    model.add(keras.layers.Dropout(0.25))\n",
        "    model.add(keras.layers.Dense(64, activation='relu'))\n",
        "    model.add(keras.layers.Dropout(0.25))\n",
        "    model.add(keras.layers.Dense(len(np.unique(df['label'])), activation='softmax'))\n",
        "    model.compile(optimizer='adam', loss='sparse_categorical_crossentropy', metrics=['accuracy'])\n",
        "\n",
        "    model.summary()\n",
        "\n",
        "    return model"
      ],
      "id": "77wMVqve6W8f",
      "execution_count": 53,
      "outputs": []
    },
    {
      "cell_type": "markdown",
      "metadata": {
        "id": "N_EPqJGnS7ng"
      },
      "source": [
        "## Train model"
      ],
      "id": "N_EPqJGnS7ng"
    },
    {
      "cell_type": "code",
      "metadata": {
        "id": "ngmfDNcnGMC7",
        "colab": {
          "base_uri": "https://localhost:8080/"
        },
        "outputId": "db44a1f7-e658-4330-9249-8a20ee5c402a"
      },
      "source": [
        "# Train model\n",
        "model_cnn = create_cnn_model(X_train)\n",
        "history = model_cnn.fit(X_train[:,:,:,None], y_train, epochs=100, validation_data=(X_test[:,:,:,None],y_test),batch_size=80)"
      ],
      "id": "ngmfDNcnGMC7",
      "execution_count": 54,
      "outputs": [
        {
          "output_type": "stream",
          "name": "stdout",
          "text": [
            "Model: \"sequential_2\"\n",
            "_________________________________________________________________\n",
            "Layer (type)                 Output Shape              Param #   \n",
            "=================================================================\n",
            "conv2d_6 (Conv2D)            (None, 683, 9, 128)       3328      \n",
            "_________________________________________________________________\n",
            "dropout_10 (Dropout)         (None, 683, 9, 128)       0         \n",
            "_________________________________________________________________\n",
            "max_pooling2d_6 (MaxPooling2 (None, 341, 4, 128)       0         \n",
            "_________________________________________________________________\n",
            "conv2d_7 (Conv2D)            (None, 341, 4, 64)        204864    \n",
            "_________________________________________________________________\n",
            "dropout_11 (Dropout)         (None, 341, 4, 64)        0         \n",
            "_________________________________________________________________\n",
            "max_pooling2d_7 (MaxPooling2 (None, 170, 2, 64)        0         \n",
            "_________________________________________________________________\n",
            "conv2d_8 (Conv2D)            (None, 170, 2, 64)        102464    \n",
            "_________________________________________________________________\n",
            "dropout_12 (Dropout)         (None, 170, 2, 64)        0         \n",
            "_________________________________________________________________\n",
            "max_pooling2d_8 (MaxPooling2 (None, 85, 1, 64)         0         \n",
            "_________________________________________________________________\n",
            "flatten_2 (Flatten)          (None, 5440)              0         \n",
            "_________________________________________________________________\n",
            "dense_6 (Dense)              (None, 128)               696448    \n",
            "_________________________________________________________________\n",
            "dropout_13 (Dropout)         (None, 128)               0         \n",
            "_________________________________________________________________\n",
            "dense_7 (Dense)              (None, 64)                8256      \n",
            "_________________________________________________________________\n",
            "dropout_14 (Dropout)         (None, 64)                0         \n",
            "_________________________________________________________________\n",
            "dense_8 (Dense)              (None, 56)                3640      \n",
            "=================================================================\n",
            "Total params: 1,019,000\n",
            "Trainable params: 1,019,000\n",
            "Non-trainable params: 0\n",
            "_________________________________________________________________\n",
            "Epoch 1/100\n",
            "11/11 [==============================] - 1s 75ms/step - loss: 4.0868 - accuracy: 0.0155 - val_loss: 4.0028 - val_accuracy: 0.0607\n",
            "Epoch 2/100\n",
            "11/11 [==============================] - 1s 54ms/step - loss: 3.9361 - accuracy: 0.0429 - val_loss: 3.8737 - val_accuracy: 0.0857\n",
            "Epoch 3/100\n",
            "11/11 [==============================] - 1s 53ms/step - loss: 3.7690 - accuracy: 0.0607 - val_loss: 3.6263 - val_accuracy: 0.1179\n",
            "Epoch 4/100\n",
            "11/11 [==============================] - 1s 54ms/step - loss: 3.5727 - accuracy: 0.1024 - val_loss: 3.5276 - val_accuracy: 0.2000\n",
            "Epoch 5/100\n",
            "11/11 [==============================] - 1s 53ms/step - loss: 3.2710 - accuracy: 0.1500 - val_loss: 3.1696 - val_accuracy: 0.3179\n",
            "Epoch 6/100\n",
            "11/11 [==============================] - 1s 54ms/step - loss: 2.9570 - accuracy: 0.2036 - val_loss: 2.8005 - val_accuracy: 0.4357\n",
            "Epoch 7/100\n",
            "11/11 [==============================] - 1s 53ms/step - loss: 2.4338 - accuracy: 0.3476 - val_loss: 2.3461 - val_accuracy: 0.6821\n",
            "Epoch 8/100\n",
            "11/11 [==============================] - 1s 53ms/step - loss: 2.0069 - accuracy: 0.4321 - val_loss: 1.8735 - val_accuracy: 0.7643\n",
            "Epoch 9/100\n",
            "11/11 [==============================] - 1s 53ms/step - loss: 1.6945 - accuracy: 0.5214 - val_loss: 1.5610 - val_accuracy: 0.8286\n",
            "Epoch 10/100\n",
            "11/11 [==============================] - 1s 53ms/step - loss: 1.4714 - accuracy: 0.5774 - val_loss: 1.2817 - val_accuracy: 0.8929\n",
            "Epoch 11/100\n",
            "11/11 [==============================] - 1s 53ms/step - loss: 1.1809 - accuracy: 0.6595 - val_loss: 0.9755 - val_accuracy: 0.9000\n",
            "Epoch 12/100\n",
            "11/11 [==============================] - 1s 54ms/step - loss: 1.0893 - accuracy: 0.6810 - val_loss: 0.9320 - val_accuracy: 0.9071\n",
            "Epoch 13/100\n",
            "11/11 [==============================] - 1s 53ms/step - loss: 0.9497 - accuracy: 0.7036 - val_loss: 0.7972 - val_accuracy: 0.9393\n",
            "Epoch 14/100\n",
            "11/11 [==============================] - 1s 54ms/step - loss: 0.8994 - accuracy: 0.7310 - val_loss: 0.7977 - val_accuracy: 0.9464\n",
            "Epoch 15/100\n",
            "11/11 [==============================] - 1s 53ms/step - loss: 0.7106 - accuracy: 0.7869 - val_loss: 0.5939 - val_accuracy: 0.9429\n",
            "Epoch 16/100\n",
            "11/11 [==============================] - 1s 53ms/step - loss: 0.7445 - accuracy: 0.7655 - val_loss: 0.6222 - val_accuracy: 0.9429\n",
            "Epoch 17/100\n",
            "11/11 [==============================] - 1s 53ms/step - loss: 0.6045 - accuracy: 0.8226 - val_loss: 0.5842 - val_accuracy: 0.9571\n",
            "Epoch 18/100\n",
            "11/11 [==============================] - 1s 53ms/step - loss: 0.5833 - accuracy: 0.8190 - val_loss: 0.5352 - val_accuracy: 0.9464\n",
            "Epoch 19/100\n",
            "11/11 [==============================] - 1s 53ms/step - loss: 0.6158 - accuracy: 0.8274 - val_loss: 0.5769 - val_accuracy: 0.9321\n",
            "Epoch 20/100\n",
            "11/11 [==============================] - 1s 54ms/step - loss: 0.5251 - accuracy: 0.8464 - val_loss: 0.4573 - val_accuracy: 0.9536\n",
            "Epoch 21/100\n",
            "11/11 [==============================] - 1s 54ms/step - loss: 0.4488 - accuracy: 0.8667 - val_loss: 0.3838 - val_accuracy: 0.9607\n",
            "Epoch 22/100\n",
            "11/11 [==============================] - 1s 53ms/step - loss: 0.4299 - accuracy: 0.8690 - val_loss: 0.3915 - val_accuracy: 0.9464\n",
            "Epoch 23/100\n",
            "11/11 [==============================] - 1s 53ms/step - loss: 0.3986 - accuracy: 0.8774 - val_loss: 0.3783 - val_accuracy: 0.9750\n",
            "Epoch 24/100\n",
            "11/11 [==============================] - 1s 53ms/step - loss: 0.3603 - accuracy: 0.8881 - val_loss: 0.3403 - val_accuracy: 0.9464\n",
            "Epoch 25/100\n",
            "11/11 [==============================] - 1s 54ms/step - loss: 0.3846 - accuracy: 0.8940 - val_loss: 0.3658 - val_accuracy: 0.9429\n",
            "Epoch 26/100\n",
            "11/11 [==============================] - 1s 53ms/step - loss: 0.3735 - accuracy: 0.8881 - val_loss: 0.3504 - val_accuracy: 0.9714\n",
            "Epoch 27/100\n",
            "11/11 [==============================] - 1s 54ms/step - loss: 0.2647 - accuracy: 0.9238 - val_loss: 0.2941 - val_accuracy: 0.9679\n",
            "Epoch 28/100\n",
            "11/11 [==============================] - 1s 53ms/step - loss: 0.3110 - accuracy: 0.9012 - val_loss: 0.2941 - val_accuracy: 0.9750\n",
            "Epoch 29/100\n",
            "11/11 [==============================] - 1s 53ms/step - loss: 0.2860 - accuracy: 0.9048 - val_loss: 0.2773 - val_accuracy: 0.9679\n",
            "Epoch 30/100\n",
            "11/11 [==============================] - 1s 53ms/step - loss: 0.2827 - accuracy: 0.9095 - val_loss: 0.2600 - val_accuracy: 0.9643\n",
            "Epoch 31/100\n",
            "11/11 [==============================] - 1s 53ms/step - loss: 0.2875 - accuracy: 0.9071 - val_loss: 0.2496 - val_accuracy: 0.9821\n",
            "Epoch 32/100\n",
            "11/11 [==============================] - 1s 53ms/step - loss: 0.2659 - accuracy: 0.9155 - val_loss: 0.2553 - val_accuracy: 0.9714\n",
            "Epoch 33/100\n",
            "11/11 [==============================] - 1s 53ms/step - loss: 0.2524 - accuracy: 0.9179 - val_loss: 0.2738 - val_accuracy: 0.9643\n",
            "Epoch 34/100\n",
            "11/11 [==============================] - 1s 53ms/step - loss: 0.2444 - accuracy: 0.9250 - val_loss: 0.2543 - val_accuracy: 0.9714\n",
            "Epoch 35/100\n",
            "11/11 [==============================] - 1s 53ms/step - loss: 0.2630 - accuracy: 0.9274 - val_loss: 0.2848 - val_accuracy: 0.9643\n",
            "Epoch 36/100\n",
            "11/11 [==============================] - 1s 54ms/step - loss: 0.2358 - accuracy: 0.9226 - val_loss: 0.2653 - val_accuracy: 0.9643\n",
            "Epoch 37/100\n",
            "11/11 [==============================] - 1s 54ms/step - loss: 0.2217 - accuracy: 0.9369 - val_loss: 0.2624 - val_accuracy: 0.9536\n",
            "Epoch 38/100\n",
            "11/11 [==============================] - 1s 53ms/step - loss: 0.2239 - accuracy: 0.9202 - val_loss: 0.2374 - val_accuracy: 0.9643\n",
            "Epoch 39/100\n",
            "11/11 [==============================] - 1s 54ms/step - loss: 0.2360 - accuracy: 0.9310 - val_loss: 0.2613 - val_accuracy: 0.9750\n",
            "Epoch 40/100\n",
            "11/11 [==============================] - 1s 54ms/step - loss: 0.1996 - accuracy: 0.9429 - val_loss: 0.2084 - val_accuracy: 0.9786\n",
            "Epoch 41/100\n",
            "11/11 [==============================] - 1s 54ms/step - loss: 0.2150 - accuracy: 0.9333 - val_loss: 0.1921 - val_accuracy: 0.9786\n",
            "Epoch 42/100\n",
            "11/11 [==============================] - 1s 53ms/step - loss: 0.1995 - accuracy: 0.9417 - val_loss: 0.2366 - val_accuracy: 0.9643\n",
            "Epoch 43/100\n",
            "11/11 [==============================] - 1s 53ms/step - loss: 0.1766 - accuracy: 0.9500 - val_loss: 0.2385 - val_accuracy: 0.9679\n",
            "Epoch 44/100\n",
            "11/11 [==============================] - 1s 53ms/step - loss: 0.1953 - accuracy: 0.9321 - val_loss: 0.2315 - val_accuracy: 0.9679\n",
            "Epoch 45/100\n",
            "11/11 [==============================] - 1s 53ms/step - loss: 0.1558 - accuracy: 0.9429 - val_loss: 0.1781 - val_accuracy: 0.9714\n",
            "Epoch 46/100\n",
            "11/11 [==============================] - 1s 53ms/step - loss: 0.1379 - accuracy: 0.9583 - val_loss: 0.1789 - val_accuracy: 0.9643\n",
            "Epoch 47/100\n",
            "11/11 [==============================] - 1s 53ms/step - loss: 0.2039 - accuracy: 0.9357 - val_loss: 0.1899 - val_accuracy: 0.9714\n",
            "Epoch 48/100\n",
            "11/11 [==============================] - 1s 53ms/step - loss: 0.1281 - accuracy: 0.9524 - val_loss: 0.1903 - val_accuracy: 0.9750\n",
            "Epoch 49/100\n",
            "11/11 [==============================] - 1s 53ms/step - loss: 0.1686 - accuracy: 0.9452 - val_loss: 0.2270 - val_accuracy: 0.9607\n",
            "Epoch 50/100\n",
            "11/11 [==============================] - 1s 53ms/step - loss: 0.1994 - accuracy: 0.9429 - val_loss: 0.2188 - val_accuracy: 0.9679\n",
            "Epoch 51/100\n",
            "11/11 [==============================] - 1s 53ms/step - loss: 0.1475 - accuracy: 0.9571 - val_loss: 0.2155 - val_accuracy: 0.9607\n",
            "Epoch 52/100\n",
            "11/11 [==============================] - 1s 53ms/step - loss: 0.1398 - accuracy: 0.9548 - val_loss: 0.2142 - val_accuracy: 0.9679\n",
            "Epoch 53/100\n",
            "11/11 [==============================] - 1s 53ms/step - loss: 0.1336 - accuracy: 0.9619 - val_loss: 0.1926 - val_accuracy: 0.9643\n",
            "Epoch 54/100\n",
            "11/11 [==============================] - 1s 53ms/step - loss: 0.1754 - accuracy: 0.9369 - val_loss: 0.1893 - val_accuracy: 0.9714\n",
            "Epoch 55/100\n",
            "11/11 [==============================] - 1s 53ms/step - loss: 0.1733 - accuracy: 0.9536 - val_loss: 0.1949 - val_accuracy: 0.9571\n",
            "Epoch 56/100\n",
            "11/11 [==============================] - 1s 54ms/step - loss: 0.1375 - accuracy: 0.9560 - val_loss: 0.2072 - val_accuracy: 0.9714\n",
            "Epoch 57/100\n",
            "11/11 [==============================] - 1s 54ms/step - loss: 0.1178 - accuracy: 0.9631 - val_loss: 0.2241 - val_accuracy: 0.9464\n",
            "Epoch 58/100\n",
            "11/11 [==============================] - 1s 53ms/step - loss: 0.1025 - accuracy: 0.9643 - val_loss: 0.1619 - val_accuracy: 0.9750\n",
            "Epoch 59/100\n",
            "11/11 [==============================] - 1s 53ms/step - loss: 0.1237 - accuracy: 0.9607 - val_loss: 0.1820 - val_accuracy: 0.9643\n",
            "Epoch 60/100\n",
            "11/11 [==============================] - 1s 53ms/step - loss: 0.0993 - accuracy: 0.9702 - val_loss: 0.1816 - val_accuracy: 0.9714\n",
            "Epoch 61/100\n",
            "11/11 [==============================] - 1s 53ms/step - loss: 0.1033 - accuracy: 0.9655 - val_loss: 0.1811 - val_accuracy: 0.9643\n",
            "Epoch 62/100\n",
            "11/11 [==============================] - 1s 53ms/step - loss: 0.1223 - accuracy: 0.9548 - val_loss: 0.1830 - val_accuracy: 0.9714\n",
            "Epoch 63/100\n",
            "11/11 [==============================] - 1s 53ms/step - loss: 0.1398 - accuracy: 0.9560 - val_loss: 0.1823 - val_accuracy: 0.9643\n",
            "Epoch 64/100\n",
            "11/11 [==============================] - 1s 53ms/step - loss: 0.1325 - accuracy: 0.9583 - val_loss: 0.2059 - val_accuracy: 0.9607\n",
            "Epoch 65/100\n",
            "11/11 [==============================] - 1s 53ms/step - loss: 0.1543 - accuracy: 0.9583 - val_loss: 0.1806 - val_accuracy: 0.9679\n",
            "Epoch 66/100\n",
            "11/11 [==============================] - 1s 53ms/step - loss: 0.1225 - accuracy: 0.9595 - val_loss: 0.1853 - val_accuracy: 0.9643\n",
            "Epoch 67/100\n",
            "11/11 [==============================] - 1s 53ms/step - loss: 0.1328 - accuracy: 0.9619 - val_loss: 0.2138 - val_accuracy: 0.9536\n",
            "Epoch 68/100\n",
            "11/11 [==============================] - 1s 53ms/step - loss: 0.1220 - accuracy: 0.9583 - val_loss: 0.2016 - val_accuracy: 0.9607\n",
            "Epoch 69/100\n",
            "11/11 [==============================] - 1s 53ms/step - loss: 0.1391 - accuracy: 0.9524 - val_loss: 0.2001 - val_accuracy: 0.9607\n",
            "Epoch 70/100\n",
            "11/11 [==============================] - 1s 54ms/step - loss: 0.1265 - accuracy: 0.9524 - val_loss: 0.1765 - val_accuracy: 0.9571\n",
            "Epoch 71/100\n",
            "11/11 [==============================] - 1s 53ms/step - loss: 0.1404 - accuracy: 0.9464 - val_loss: 0.1853 - val_accuracy: 0.9607\n",
            "Epoch 72/100\n",
            "11/11 [==============================] - 1s 53ms/step - loss: 0.0982 - accuracy: 0.9655 - val_loss: 0.2210 - val_accuracy: 0.9464\n",
            "Epoch 73/100\n",
            "11/11 [==============================] - 1s 53ms/step - loss: 0.1481 - accuracy: 0.9500 - val_loss: 0.1672 - val_accuracy: 0.9714\n",
            "Epoch 74/100\n",
            "11/11 [==============================] - 1s 53ms/step - loss: 0.1299 - accuracy: 0.9595 - val_loss: 0.1699 - val_accuracy: 0.9571\n",
            "Epoch 75/100\n",
            "11/11 [==============================] - 1s 53ms/step - loss: 0.1368 - accuracy: 0.9500 - val_loss: 0.1600 - val_accuracy: 0.9786\n",
            "Epoch 76/100\n",
            "11/11 [==============================] - 1s 53ms/step - loss: 0.1107 - accuracy: 0.9631 - val_loss: 0.1789 - val_accuracy: 0.9679\n",
            "Epoch 77/100\n",
            "11/11 [==============================] - 1s 53ms/step - loss: 0.1464 - accuracy: 0.9548 - val_loss: 0.1992 - val_accuracy: 0.9571\n",
            "Epoch 78/100\n",
            "11/11 [==============================] - 1s 53ms/step - loss: 0.1090 - accuracy: 0.9631 - val_loss: 0.1959 - val_accuracy: 0.9643\n",
            "Epoch 79/100\n",
            "11/11 [==============================] - 1s 53ms/step - loss: 0.0946 - accuracy: 0.9702 - val_loss: 0.1980 - val_accuracy: 0.9607\n",
            "Epoch 80/100\n",
            "11/11 [==============================] - 1s 53ms/step - loss: 0.0906 - accuracy: 0.9690 - val_loss: 0.1686 - val_accuracy: 0.9643\n",
            "Epoch 81/100\n",
            "11/11 [==============================] - 1s 53ms/step - loss: 0.0942 - accuracy: 0.9750 - val_loss: 0.1377 - val_accuracy: 0.9786\n",
            "Epoch 82/100\n",
            "11/11 [==============================] - 1s 53ms/step - loss: 0.0944 - accuracy: 0.9738 - val_loss: 0.1579 - val_accuracy: 0.9643\n",
            "Epoch 83/100\n",
            "11/11 [==============================] - 1s 53ms/step - loss: 0.0857 - accuracy: 0.9714 - val_loss: 0.1796 - val_accuracy: 0.9643\n",
            "Epoch 84/100\n",
            "11/11 [==============================] - 1s 53ms/step - loss: 0.0820 - accuracy: 0.9702 - val_loss: 0.1642 - val_accuracy: 0.9714\n",
            "Epoch 85/100\n",
            "11/11 [==============================] - 1s 53ms/step - loss: 0.0915 - accuracy: 0.9726 - val_loss: 0.1573 - val_accuracy: 0.9679\n",
            "Epoch 86/100\n",
            "11/11 [==============================] - 1s 53ms/step - loss: 0.0615 - accuracy: 0.9762 - val_loss: 0.1393 - val_accuracy: 0.9786\n",
            "Epoch 87/100\n",
            "11/11 [==============================] - 1s 53ms/step - loss: 0.0890 - accuracy: 0.9726 - val_loss: 0.1823 - val_accuracy: 0.9679\n",
            "Epoch 88/100\n",
            "11/11 [==============================] - 1s 53ms/step - loss: 0.1303 - accuracy: 0.9476 - val_loss: 0.2022 - val_accuracy: 0.9571\n",
            "Epoch 89/100\n",
            "11/11 [==============================] - 1s 54ms/step - loss: 0.1167 - accuracy: 0.9631 - val_loss: 0.1518 - val_accuracy: 0.9750\n",
            "Epoch 90/100\n",
            "11/11 [==============================] - 1s 53ms/step - loss: 0.0858 - accuracy: 0.9714 - val_loss: 0.1624 - val_accuracy: 0.9607\n",
            "Epoch 91/100\n",
            "11/11 [==============================] - 1s 53ms/step - loss: 0.0903 - accuracy: 0.9690 - val_loss: 0.1827 - val_accuracy: 0.9679\n",
            "Epoch 92/100\n",
            "11/11 [==============================] - 1s 53ms/step - loss: 0.0901 - accuracy: 0.9702 - val_loss: 0.1667 - val_accuracy: 0.9714\n",
            "Epoch 93/100\n",
            "11/11 [==============================] - 1s 53ms/step - loss: 0.1147 - accuracy: 0.9702 - val_loss: 0.1489 - val_accuracy: 0.9750\n",
            "Epoch 94/100\n",
            "11/11 [==============================] - 1s 53ms/step - loss: 0.0903 - accuracy: 0.9690 - val_loss: 0.1599 - val_accuracy: 0.9714\n",
            "Epoch 95/100\n",
            "11/11 [==============================] - 1s 53ms/step - loss: 0.1093 - accuracy: 0.9667 - val_loss: 0.2051 - val_accuracy: 0.9607\n",
            "Epoch 96/100\n",
            "11/11 [==============================] - 1s 53ms/step - loss: 0.0972 - accuracy: 0.9726 - val_loss: 0.1541 - val_accuracy: 0.9714\n",
            "Epoch 97/100\n",
            "11/11 [==============================] - 1s 53ms/step - loss: 0.0906 - accuracy: 0.9762 - val_loss: 0.1714 - val_accuracy: 0.9679\n",
            "Epoch 98/100\n",
            "11/11 [==============================] - 1s 53ms/step - loss: 0.0965 - accuracy: 0.9655 - val_loss: 0.1689 - val_accuracy: 0.9714\n",
            "Epoch 99/100\n",
            "11/11 [==============================] - 1s 53ms/step - loss: 0.0837 - accuracy: 0.9738 - val_loss: 0.1556 - val_accuracy: 0.9679\n",
            "Epoch 100/100\n",
            "11/11 [==============================] - 1s 53ms/step - loss: 0.1007 - accuracy: 0.9690 - val_loss: 0.1463 - val_accuracy: 0.9750\n"
          ]
        }
      ]
    },
    {
      "cell_type": "markdown",
      "metadata": {
        "id": "y_i70WoqTAxI"
      },
      "source": [
        "## Evaluate and predict test set"
      ],
      "id": "y_i70WoqTAxI"
    },
    {
      "cell_type": "code",
      "metadata": {
        "colab": {
          "base_uri": "https://localhost:8080/"
        },
        "id": "ZQ4n8wAmB9ZX",
        "outputId": "582cce4f-937c-41e1-9276-ab7044c40fdf"
      },
      "source": [
        "# Evaluate model\n",
        "print(f'Test Accuracy: {model_cnn.evaluate(X_test[:,:,:,None],y_test,verbose=0)[1]}')"
      ],
      "id": "ZQ4n8wAmB9ZX",
      "execution_count": 55,
      "outputs": [
        {
          "output_type": "stream",
          "name": "stdout",
          "text": [
            "Test Accuracy: 0.9750000238418579\n"
          ]
        }
      ]
    },
    {
      "cell_type": "code",
      "metadata": {
        "id": "F62fEQaGFMqs",
        "colab": {
          "base_uri": "https://localhost:8080/",
          "height": 313
        },
        "outputId": "1aa86a88-f8cd-4362-bfa4-90b9286192aa"
      },
      "source": [
        "# Learning curve\n",
        "# plot the accuracy and loss plots between training and validation data\n",
        "# verify overfitting or underfit \n",
        "acc = history.history['accuracy']\n",
        "val_acc = history.history['val_accuracy']\n",
        "loss = history.history['loss']\n",
        "val_loss = history.history['val_loss']\n",
        "x = range(1,len(acc)+1)\n",
        "\n",
        "plt.plot(x,loss,'b',label='Training loss')\n",
        "plt.plot(x,val_loss,'r',label='Validation loss')\n",
        "plt.title('Training and validation loss')\n",
        "plt.xlabel('epochs')\n",
        "plt.ylabel('loss')\n",
        "plt.legend()"
      ],
      "id": "F62fEQaGFMqs",
      "execution_count": 56,
      "outputs": [
        {
          "output_type": "execute_result",
          "data": {
            "text/plain": [
              "<matplotlib.legend.Legend at 0x7ff038141fd0>"
            ]
          },
          "metadata": {},
          "execution_count": 56
        },
        {
          "output_type": "display_data",
          "data": {
            "image/png": "[encoded data removed]",
            "text/plain": [
              "<Figure size 432x288 with 1 Axes>"
            ]
          },
          "metadata": {
            "needs_background": "light"
          }
        }
      ]
    },
    {
      "cell_type": "code",
      "metadata": {
        "id": "wFbKdWsMkDuw",
        "colab": {
          "base_uri": "https://localhost:8080/"
        },
        "outputId": "74814188-4dbd-4a84-c5ea-1570275f46e9"
      },
      "source": [
        "# classification report\n",
        "predicted_classes = np.argmax(np.round(model_cnn.predict(X_test[:,:,:,None])),axis=1)\n",
        "correct = np.where(predicted_classes==y_test)[0]\n",
        "target_names = [f\"Class {label}\" for label in range(len(np.unique(df['label'])))]\n",
        "\n",
        "print(f\"From {len(y_test)} labels're founding {len(correct)} correct labels.\")\n",
        "print(f'Accuracy: {len(correct)/len(y_test)}')\n",
        "print('')\n",
        "print(classification_report(y_test, predicted_classes, target_names=target_names))"
      ],
      "id": "wFbKdWsMkDuw",
      "execution_count": 57,
      "outputs": [
        {
          "output_type": "stream",
          "name": "stdout",
          "text": [
            "From 280 labels're founding 268 correct labels.\n",
            "Accuracy: 0.9571428571428572\n",
            "\n",
            "              precision    recall  f1-score   support\n",
            "\n",
            "     Class 0       0.29      1.00      0.45         5\n",
            "     Class 1       1.00      1.00      1.00         5\n",
            "     Class 2       1.00      1.00      1.00         5\n",
            "     Class 3       1.00      0.80      0.89         5\n",
            "     Class 4       1.00      1.00      1.00         5\n",
            "     Class 5       1.00      1.00      1.00         5\n",
            "     Class 6       1.00      1.00      1.00         5\n",
            "     Class 7       1.00      1.00      1.00         5\n",
            "     Class 8       1.00      1.00      1.00         5\n",
            "     Class 9       1.00      0.80      0.89         5\n",
            "    Class 10       1.00      1.00      1.00         5\n",
            "    Class 11       1.00      1.00      1.00         5\n",
            "    Class 12       1.00      1.00      1.00         5\n",
            "    Class 13       1.00      1.00      1.00         5\n",
            "    Class 14       1.00      1.00      1.00         5\n",
            "    Class 15       1.00      1.00      1.00         5\n",
            "    Class 16       1.00      1.00      1.00         5\n",
            "    Class 17       1.00      1.00      1.00         5\n",
            "    Class 18       1.00      1.00      1.00         5\n",
            "    Class 19       1.00      1.00      1.00         5\n",
            "    Class 20       1.00      1.00      1.00         5\n",
            "    Class 21       1.00      1.00      1.00         5\n",
            "    Class 22       1.00      1.00      1.00         5\n",
            "    Class 23       1.00      1.00      1.00         5\n",
            "    Class 24       1.00      0.80      0.89         5\n",
            "    Class 25       1.00      1.00      1.00         5\n",
            "    Class 26       1.00      1.00      1.00         5\n",
            "    Class 27       1.00      1.00      1.00         5\n",
            "    Class 28       1.00      1.00      1.00         5\n",
            "    Class 29       1.00      1.00      1.00         5\n",
            "    Class 30       1.00      0.60      0.75         5\n",
            "    Class 31       1.00      0.60      0.75         5\n",
            "    Class 32       1.00      1.00      1.00         5\n",
            "    Class 33       1.00      0.80      0.89         5\n",
            "    Class 34       1.00      1.00      1.00         5\n",
            "    Class 35       1.00      1.00      1.00         5\n",
            "    Class 36       1.00      1.00      1.00         5\n",
            "    Class 37       1.00      1.00      1.00         5\n",
            "    Class 38       1.00      1.00      1.00         5\n",
            "    Class 39       1.00      1.00      1.00         5\n",
            "    Class 40       1.00      1.00      1.00         5\n",
            "    Class 41       1.00      1.00      1.00         5\n",
            "    Class 42       1.00      1.00      1.00         5\n",
            "    Class 43       1.00      1.00      1.00         5\n",
            "    Class 44       1.00      1.00      1.00         5\n",
            "    Class 45       1.00      1.00      1.00         5\n",
            "    Class 46       1.00      1.00      1.00         5\n",
            "    Class 47       1.00      1.00      1.00         5\n",
            "    Class 48       1.00      1.00      1.00         5\n",
            "    Class 49       1.00      0.80      0.89         5\n",
            "    Class 50       1.00      0.80      0.89         5\n",
            "    Class 51       1.00      0.80      0.89         5\n",
            "    Class 52       1.00      0.80      0.89         5\n",
            "    Class 53       1.00      1.00      1.00         5\n",
            "    Class 54       1.00      1.00      1.00         5\n",
            "    Class 55       1.00      1.00      1.00         5\n",
            "\n",
            "    accuracy                           0.96       280\n",
            "   macro avg       0.99      0.96      0.97       280\n",
            "weighted avg       0.99      0.96      0.97       280\n",
            "\n"
          ]
        }
      ]
    },
    {
      "cell_type": "markdown",
      "metadata": {
        "id": "ExkYoE9LXq6I"
      },
      "source": [
        "## Other people \n",
        "men and woman each 10 audio file."
      ],
      "id": "ExkYoE9LXq6I"
    },
    {
      "cell_type": "code",
      "metadata": {
        "colab": {
          "base_uri": "https://localhost:8080/"
        },
        "id": "AYxW624FZZdM",
        "outputId": "7427dbff-0734-43d2-ee93-6594ea8b2245"
      },
      "source": [
        "import numpy as np\n",
        "np.random.seed(77)\n",
        "\n",
        "random_fruit_veget = np.random.choice(np.unique(df['description']),10,replace=False).tolist()\n",
        "print(random_fruit_veget)"
      ],
      "id": "AYxW624FZZdM",
      "execution_count": 58,
      "outputs": [
        {
          "output_type": "stream",
          "name": "stdout",
          "text": [
            "['ผักกุยช่าย', 'ทับทิม', 'ใบชะพลู1', 'พริกขี้หนู', 'มันสำปะหลัง', 'ฟักทอง', 'มะพลับ', 'หัวหอม2', 'ใบชะพลู2', 'บวบ']\n"
          ]
        }
      ]
    },
    {
      "cell_type": "code",
      "metadata": {
        "id": "XTRoVzSzX3XM"
      },
      "source": [
        "import pandas as pd\n",
        "\n",
        "# Audio data source\n",
        "other_source = {'audio_time':[],\n",
        "                'sampling_rate':[],\n",
        "                'feature_extraction':[],\n",
        "                'label':[],\n",
        "                'description':[]}\n",
        "\n",
        "for types in random_fruit_veget:\n",
        "    audio_files = glob('/content/Project_499/Record_other_audio/' + str(types) + '/*.wav')\n",
        "\n",
        "    for audio in audio_files:\n",
        "        y,sr = librosa.load(audio,duration=5,offset=0)\n",
        "        other_source['description'].append(str(types))\n",
        "        other_source['audio_time'].append(y)\n",
        "        other_source['sampling_rate'].append(sr)\n",
        "        other_source['feature_extraction'].append(feature_mfcc(y,sr))\n",
        "\n",
        "other_source['label'] = [18,18,14,14,39,39,44,44,37,37,50,50,25,25,55,55,40,40,38,38]\n",
        "other_df = pd.DataFrame.from_dict(other_source)"
      ],
      "id": "XTRoVzSzX3XM",
      "execution_count": 59,
      "outputs": []
    },
    {
      "cell_type": "code",
      "metadata": {
        "id": "rQ6EclMVZCeE"
      },
      "source": [
        "other_X_test = np.array(other_df['feature_extraction'].to_list())\n",
        "other_y_test = np.array(other_df['label'].to_list())"
      ],
      "id": "rQ6EclMVZCeE",
      "execution_count": 60,
      "outputs": []
    },
    {
      "cell_type": "code",
      "metadata": {
        "id": "uG_isU-4c97L",
        "colab": {
          "base_uri": "https://localhost:8080/"
        },
        "outputId": "fa1f2be6-1aed-4696-b41c-fbff6d4c9452"
      },
      "source": [
        "# classification report\n",
        "predicted_classes = np.argmax(np.round(model_cnn.predict(other_X_test[:,:,:,None])),axis=1)\n",
        "correct = np.where(predicted_classes==other_y_test)[0]\n",
        "target_names = [f\"Class {label}\" for label in np.unique(other_source['label'])]\n",
        "\n",
        "print(f\"From {len(other_y_test)} labels're founding {len(correct)} correct labels.\")\n",
        "print(f'Accuracy: {len(correct)/len(other_y_test)}')"
      ],
      "id": "uG_isU-4c97L",
      "execution_count": 61,
      "outputs": [
        {
          "output_type": "stream",
          "name": "stdout",
          "text": [
            "From 20 labels're founding 9 correct labels.\n",
            "Accuracy: 0.45\n"
          ]
        }
      ]
    }
  ]
}