{
  "nbformat": 4,
  "nbformat_minor": 5,
  "metadata": {
    "colab": {
      "name": "Project_499_CNN.ipynb",
      "provenance": [],
      "collapsed_sections": [],
      "include_colab_link": true
    },
    "kernelspec": {
      "display_name": "Python 3",
      "language": "python",
      "name": "python3"
    },
    "language_info": {
      "codemirror_mode": {
        "name": "ipython",
        "version": 3
      },
      "file_extension": ".py",
      "mimetype": "text/x-python",
      "name": "python",
      "nbconvert_exporter": "python",
      "pygments_lexer": "ipython3",
      "version": "3.8.8"
    },
    "accelerator": "GPU"
  },
  "cells": [
    {
      "cell_type": "markdown",
      "metadata": {
        "id": "view-in-github",
        "colab_type": "text"
      },
      "source": [
        "<a href=\"https://colab.research.google.com/github/NongNNew/Project_499/blob/main/Project_499_CNN.ipynb\" target=\"_parent\"><img src=\"https://colab.research.google.com/assets/colab-badge.svg\" alt=\"Open In Colab\"/></a>"
      ]
    },
    {
      "cell_type": "markdown",
      "metadata": {
        "id": "hW4AHGmEVrk8"
      },
      "source": [
        "# CNN"
      ],
      "id": "hW4AHGmEVrk8"
    },
    {
      "cell_type": "code",
      "metadata": {
        "colab": {
          "base_uri": "https://localhost:8080/"
        },
        "id": "gJVdtdww87RO",
        "outputId": "17a5461f-7337-4ef3-8307-b83e71f18c93"
      },
      "source": [
        "!git clone https://github.com/NongNNew/Project_499.git"
      ],
      "id": "gJVdtdww87RO",
      "execution_count": null,
      "outputs": [
        {
          "output_type": "stream",
          "text": [
            "fatal: destination path 'Project_499' already exists and is not an empty directory.\n"
          ],
          "name": "stdout"
        }
      ]
    },
    {
      "cell_type": "code",
      "metadata": {
        "id": "kj43EsnPwnaw"
      },
      "source": [
        "import pandas as pd\n",
        "from glob import glob\n",
        "import librosa\n",
        "import librosa.display"
      ],
      "id": "kj43EsnPwnaw",
      "execution_count": null,
      "outputs": []
    },
    {
      "cell_type": "code",
      "metadata": {
        "id": "EHnDUT5YejVV"
      },
      "source": [
        "fruit_veget = ['กระชาย','กระท้อน','กระเทียม1','กระเทียม2','กระเพรา','กล้วยน้ำว้า','กล้วยหอม',\n",
        "               'ข้าวโพด',\n",
        "               'ตะขบไทย',\n",
        "               'ทับทิม',\n",
        "               'น้อยหน่า',\n",
        "               'ฝรั่ง',\n",
        "               'พุทรา',\n",
        "               'มะปราง','มะพลับ','มะละกอ',\n",
        "               'สับปะรด']\n",
        "\n",
        "source = {'audio_time':[],\n",
        "          'sampling_rate':[],\n",
        "          'feature_extraction':[],\n",
        "          'label':[],\n",
        "          'description':[]}"
      ],
      "id": "EHnDUT5YejVV",
      "execution_count": null,
      "outputs": []
    },
    {
      "cell_type": "code",
      "metadata": {
        "id": "tixApnAUy5tv"
      },
      "source": [
        "for types in fruit_veget:\n",
        "    audio_files = glob('/content/Project_499/Record_audio/' + str(types) + '/*.wav')\n",
        "\n",
        "    for audio in audio_files:\n",
        "        y,sr = librosa.load(audio,duration=6,offset=0)\n",
        "        source['description'].append(str(types))\n",
        "        source['audio_time'].append(y)\n",
        "        source['sampling_rate'].append(sr)\n",
        "        source['feature_extraction'].append(librosa.feature.mfcc(y,sr,n_mfcc=13))\n",
        "        source['label'].append(fruit_veget.index(types))"
      ],
      "id": "tixApnAUy5tv",
      "execution_count": null,
      "outputs": []
    },
    {
      "cell_type": "code",
      "metadata": {
        "id": "353eCwDJUumP"
      },
      "source": [
        "import re\n",
        "\n",
        "for i in range(len(source['description'])):\n",
        "    source['description'][i] = re.findall('[\\u0E00-\\u0E7F]+',source['description'][i])[0]"
      ],
      "id": "353eCwDJUumP",
      "execution_count": null,
      "outputs": []
    },
    {
      "cell_type": "code",
      "metadata": {
        "colab": {
          "base_uri": "https://localhost:8080/",
          "height": 415
        },
        "id": "8B6cSV4Ckude",
        "outputId": "1a6c2830-0512-48da-ec08-635f9c39ec60"
      },
      "source": [
        "pd.DataFrame.from_dict(source)"
      ],
      "id": "8B6cSV4Ckude",
      "execution_count": null,
      "outputs": [
        {
          "output_type": "execute_result",
          "data": {
            "text/html": [
              "<div>\n",
              "<style scoped>\n",
              "    .dataframe tbody tr th:only-of-type {\n",
              "        vertical-align: middle;\n",
              "    }\n",
              "\n",
              "    .dataframe tbody tr th {\n",
              "        vertical-align: top;\n",
              "    }\n",
              "\n",
              "    .dataframe thead th {\n",
              "        text-align: right;\n",
              "    }\n",
              "</style>\n",
              "<table border=\"1\" class=\"dataframe\">\n",
              "  <thead>\n",
              "    <tr style=\"text-align: right;\">\n",
              "      <th></th>\n",
              "      <th>audio_time</th>\n",
              "      <th>sampling_rate</th>\n",
              "      <th>feature_extraction</th>\n",
              "      <th>label</th>\n",
              "      <th>description</th>\n",
              "    </tr>\n",
              "  </thead>\n",
              "  <tbody>\n",
              "    <tr>\n",
              "      <th>0</th>\n",
              "      <td>[-0.00021362305, -0.00024414062, -0.0002593994...</td>\n",
              "      <td>22050</td>\n",
              "      <td>[[-662.2338, -663.28766, -665.21606, -668.8302...</td>\n",
              "      <td>0</td>\n",
              "      <td>กระชาย</td>\n",
              "    </tr>\n",
              "    <tr>\n",
              "      <th>1</th>\n",
              "      <td>[1.5258789e-05, -4.5776367e-05, 0.0, 1.5258789...</td>\n",
              "      <td>22050</td>\n",
              "      <td>[[-671.40265, -672.8409, -673.3839, -673.3374,...</td>\n",
              "      <td>0</td>\n",
              "      <td>กระชาย</td>\n",
              "    </tr>\n",
              "    <tr>\n",
              "      <th>2</th>\n",
              "      <td>[-0.00010681152, -0.00010681152, -0.0001525878...</td>\n",
              "      <td>22050</td>\n",
              "      <td>[[-622.78125, -623.396, -623.63983, -623.7701,...</td>\n",
              "      <td>0</td>\n",
              "      <td>กระชาย</td>\n",
              "    </tr>\n",
              "    <tr>\n",
              "      <th>3</th>\n",
              "      <td>[-0.0002593994, -0.00022888184, -0.0002593994,...</td>\n",
              "      <td>22050</td>\n",
              "      <td>[[-639.25616, -639.47345, -640.0064, -640.5056...</td>\n",
              "      <td>0</td>\n",
              "      <td>กระชาย</td>\n",
              "    </tr>\n",
              "    <tr>\n",
              "      <th>4</th>\n",
              "      <td>[-0.004928589, -0.0049591064, -0.0048980713, -...</td>\n",
              "      <td>22050</td>\n",
              "      <td>[[-634.622, -639.0867, -654.00525, -659.99115,...</td>\n",
              "      <td>0</td>\n",
              "      <td>กระชาย</td>\n",
              "    </tr>\n",
              "    <tr>\n",
              "      <th>...</th>\n",
              "      <td>...</td>\n",
              "      <td>...</td>\n",
              "      <td>...</td>\n",
              "      <td>...</td>\n",
              "      <td>...</td>\n",
              "    </tr>\n",
              "    <tr>\n",
              "      <th>335</th>\n",
              "      <td>[-0.00010681152, -0.00019836426, -0.0002441406...</td>\n",
              "      <td>22050</td>\n",
              "      <td>[[-688.85156, -688.6841, -685.51434, -680.2233...</td>\n",
              "      <td>16</td>\n",
              "      <td>สับปะรด</td>\n",
              "    </tr>\n",
              "    <tr>\n",
              "      <th>336</th>\n",
              "      <td>[-0.00015258789, -0.00032043457, -0.0001678466...</td>\n",
              "      <td>22050</td>\n",
              "      <td>[[-608.5522, -608.0134, -608.0346, -608.9745, ...</td>\n",
              "      <td>16</td>\n",
              "      <td>สับปะรด</td>\n",
              "    </tr>\n",
              "    <tr>\n",
              "      <th>337</th>\n",
              "      <td>[-7.6293945e-05, -3.0517578e-05, -1.5258789e-0...</td>\n",
              "      <td>22050</td>\n",
              "      <td>[[-620.5951, -621.67816, -622.1715, -620.5547,...</td>\n",
              "      <td>16</td>\n",
              "      <td>สับปะรด</td>\n",
              "    </tr>\n",
              "    <tr>\n",
              "      <th>338</th>\n",
              "      <td>[-7.6293945e-05, -0.00016784668, -4.5776367e-0...</td>\n",
              "      <td>22050</td>\n",
              "      <td>[[-636.96967, -637.10645, -638.38525, -638.639...</td>\n",
              "      <td>16</td>\n",
              "      <td>สับปะรด</td>\n",
              "    </tr>\n",
              "    <tr>\n",
              "      <th>339</th>\n",
              "      <td>[0.0, 0.0, 3.0517578e-05, -1.5258789e-05, 1.52...</td>\n",
              "      <td>22050</td>\n",
              "      <td>[[-667.35175, -667.19855, -668.4982, -668.1101...</td>\n",
              "      <td>16</td>\n",
              "      <td>สับปะรด</td>\n",
              "    </tr>\n",
              "  </tbody>\n",
              "</table>\n",
              "<p>340 rows × 5 columns</p>\n",
              "</div>"
            ],
            "text/plain": [
              "                                            audio_time  ...  description\n",
              "0    [-0.00021362305, -0.00024414062, -0.0002593994...  ...       กระชาย\n",
              "1    [1.5258789e-05, -4.5776367e-05, 0.0, 1.5258789...  ...       กระชาย\n",
              "2    [-0.00010681152, -0.00010681152, -0.0001525878...  ...       กระชาย\n",
              "3    [-0.0002593994, -0.00022888184, -0.0002593994,...  ...       กระชาย\n",
              "4    [-0.004928589, -0.0049591064, -0.0048980713, -...  ...       กระชาย\n",
              "..                                                 ...  ...          ...\n",
              "335  [-0.00010681152, -0.00019836426, -0.0002441406...  ...      สับปะรด\n",
              "336  [-0.00015258789, -0.00032043457, -0.0001678466...  ...      สับปะรด\n",
              "337  [-7.6293945e-05, -3.0517578e-05, -1.5258789e-0...  ...      สับปะรด\n",
              "338  [-7.6293945e-05, -0.00016784668, -4.5776367e-0...  ...      สับปะรด\n",
              "339  [0.0, 0.0, 3.0517578e-05, -1.5258789e-05, 1.52...  ...      สับปะรด\n",
              "\n",
              "[340 rows x 5 columns]"
            ]
          },
          "metadata": {
            "tags": []
          },
          "execution_count": 9
        }
      ]
    },
    {
      "cell_type": "code",
      "metadata": {
        "id": "77wMVqve6W8f"
      },
      "source": [
        "import tensorflow as tf\n",
        "from tensorflow import keras \n",
        "import numpy as np\n",
        "from sklearn.model_selection import train_test_split\n",
        "\n",
        "X = np.array(source['feature_extraction'])\n",
        "y = np.array(source['label'])\n",
        "\n",
        "X_train, X_test, y_train, y_test = train_test_split(X,y,test_size=0.25,random_state=99)\n",
        "\n",
        "model = keras.Sequential()\n",
        "model.add(keras.layers.Conv2D(64, 5, input_shape=(13, 259, 1), activation='relu'))\n",
        "model.add(keras.layers.Dropout(0.5))\n",
        "model.add(keras.layers.MaxPool2D())\n",
        "model.add(keras.layers.Conv2D(64, 5, activation='relu',padding='same'))\n",
        "model.add(keras.layers.Dropout(0.5))\n",
        "model.add(keras.layers.MaxPool2D())\n",
        "model.add(keras.layers.Flatten())\n",
        "model.add(keras.layers.Dense(128, activation='relu'))\n",
        "model.add(keras.layers.Dropout(0.5))\n",
        "model.add(keras.layers.Dense(len(np.unique(source['label'])), activation='softmax'))\n",
        "model.compile(optimizer='adam', loss='sparse_categorical_crossentropy', metrics=['accuracy'])"
      ],
      "id": "77wMVqve6W8f",
      "execution_count": null,
      "outputs": []
    },
    {
      "cell_type": "code",
      "metadata": {
        "colab": {
          "base_uri": "https://localhost:8080/"
        },
        "id": "J_fPsi8o62or",
        "outputId": "b2688624-0fc8-42ed-bf91-20cec953ec66"
      },
      "source": [
        "model.fit(X_train[:,:,:,None], y_train, epochs=100)"
      ],
      "id": "J_fPsi8o62or",
      "execution_count": null,
      "outputs": [
        {
          "output_type": "stream",
          "text": [
            "Epoch 1/100\n",
            "8/8 [==============================] - 0s 11ms/step - loss: 104.8634 - accuracy: 0.0667\n",
            "Epoch 2/100\n",
            "8/8 [==============================] - 0s 10ms/step - loss: 3.8038 - accuracy: 0.0745\n",
            "Epoch 3/100\n",
            "8/8 [==============================] - 0s 10ms/step - loss: 2.8887 - accuracy: 0.0706\n",
            "Epoch 4/100\n",
            "8/8 [==============================] - 0s 9ms/step - loss: 2.8675 - accuracy: 0.0667\n",
            "Epoch 5/100\n",
            "8/8 [==============================] - 0s 8ms/step - loss: 2.8472 - accuracy: 0.0627\n",
            "Epoch 6/100\n",
            "8/8 [==============================] - 0s 8ms/step - loss: 2.8293 - accuracy: 0.0745\n",
            "Epoch 7/100\n",
            "8/8 [==============================] - 0s 7ms/step - loss: 2.8314 - accuracy: 0.0706\n",
            "Epoch 8/100\n",
            "8/8 [==============================] - 0s 8ms/step - loss: 2.8325 - accuracy: 0.0706\n",
            "Epoch 9/100\n",
            "8/8 [==============================] - 0s 7ms/step - loss: 2.8334 - accuracy: 0.0706\n",
            "Epoch 10/100\n",
            "8/8 [==============================] - 0s 8ms/step - loss: 2.8193 - accuracy: 0.0902\n",
            "Epoch 11/100\n",
            "8/8 [==============================] - 0s 8ms/step - loss: 2.8342 - accuracy: 0.0667\n",
            "Epoch 12/100\n",
            "8/8 [==============================] - 0s 8ms/step - loss: 2.8198 - accuracy: 0.0784\n",
            "Epoch 13/100\n",
            "8/8 [==============================] - 0s 8ms/step - loss: 2.7876 - accuracy: 0.0941\n",
            "Epoch 14/100\n",
            "8/8 [==============================] - 0s 8ms/step - loss: 2.7920 - accuracy: 0.1059\n",
            "Epoch 15/100\n",
            "8/8 [==============================] - 0s 8ms/step - loss: 2.7930 - accuracy: 0.0980\n",
            "Epoch 16/100\n",
            "8/8 [==============================] - 0s 8ms/step - loss: 2.7672 - accuracy: 0.0941\n",
            "Epoch 17/100\n",
            "8/8 [==============================] - 0s 8ms/step - loss: 2.7634 - accuracy: 0.0902\n",
            "Epoch 18/100\n",
            "8/8 [==============================] - 0s 8ms/step - loss: 2.7446 - accuracy: 0.1059\n",
            "Epoch 19/100\n",
            "8/8 [==============================] - 0s 9ms/step - loss: 2.7498 - accuracy: 0.1059\n",
            "Epoch 20/100\n",
            "8/8 [==============================] - 0s 8ms/step - loss: 2.7269 - accuracy: 0.1176\n",
            "Epoch 21/100\n",
            "8/8 [==============================] - 0s 8ms/step - loss: 2.7860 - accuracy: 0.0941\n",
            "Epoch 22/100\n",
            "8/8 [==============================] - 0s 8ms/step - loss: 2.7542 - accuracy: 0.1098\n",
            "Epoch 23/100\n",
            "8/8 [==============================] - 0s 8ms/step - loss: 2.7100 - accuracy: 0.1137\n",
            "Epoch 24/100\n",
            "8/8 [==============================] - 0s 8ms/step - loss: 2.7678 - accuracy: 0.0902\n",
            "Epoch 25/100\n",
            "8/8 [==============================] - 0s 9ms/step - loss: 2.7381 - accuracy: 0.0902\n",
            "Epoch 26/100\n",
            "8/8 [==============================] - 0s 8ms/step - loss: 2.7288 - accuracy: 0.0980\n",
            "Epoch 27/100\n",
            "8/8 [==============================] - 0s 7ms/step - loss: 2.7461 - accuracy: 0.0941\n",
            "Epoch 28/100\n",
            "8/8 [==============================] - 0s 8ms/step - loss: 2.7159 - accuracy: 0.1020\n",
            "Epoch 29/100\n",
            "8/8 [==============================] - 0s 8ms/step - loss: 2.6786 - accuracy: 0.1020\n",
            "Epoch 30/100\n",
            "8/8 [==============================] - 0s 8ms/step - loss: 2.6627 - accuracy: 0.1137\n",
            "Epoch 31/100\n",
            "8/8 [==============================] - 0s 8ms/step - loss: 2.6738 - accuracy: 0.1255\n",
            "Epoch 32/100\n",
            "8/8 [==============================] - 0s 8ms/step - loss: 2.6800 - accuracy: 0.1098\n",
            "Epoch 33/100\n",
            "8/8 [==============================] - 0s 8ms/step - loss: 2.6873 - accuracy: 0.1137\n",
            "Epoch 34/100\n",
            "8/8 [==============================] - 0s 8ms/step - loss: 2.6815 - accuracy: 0.1137\n",
            "Epoch 35/100\n",
            "8/8 [==============================] - 0s 8ms/step - loss: 2.6324 - accuracy: 0.1333\n",
            "Epoch 36/100\n",
            "8/8 [==============================] - 0s 9ms/step - loss: 2.5845 - accuracy: 0.1451\n",
            "Epoch 37/100\n",
            "8/8 [==============================] - 0s 8ms/step - loss: 2.5888 - accuracy: 0.1608\n",
            "Epoch 38/100\n",
            "8/8 [==============================] - 0s 8ms/step - loss: 2.5480 - accuracy: 0.1843\n",
            "Epoch 39/100\n",
            "8/8 [==============================] - 0s 8ms/step - loss: 2.5167 - accuracy: 0.1804\n",
            "Epoch 40/100\n",
            "8/8 [==============================] - 0s 8ms/step - loss: 2.4577 - accuracy: 0.1647\n",
            "Epoch 41/100\n",
            "8/8 [==============================] - 0s 8ms/step - loss: 2.5250 - accuracy: 0.1451\n",
            "Epoch 42/100\n",
            "8/8 [==============================] - 0s 8ms/step - loss: 2.4509 - accuracy: 0.1922\n",
            "Epoch 43/100\n",
            "8/8 [==============================] - 0s 8ms/step - loss: 2.5009 - accuracy: 0.1765\n",
            "Epoch 44/100\n",
            "8/8 [==============================] - 0s 8ms/step - loss: 2.3870 - accuracy: 0.2157\n",
            "Epoch 45/100\n",
            "8/8 [==============================] - 0s 9ms/step - loss: 2.4259 - accuracy: 0.2078\n",
            "Epoch 46/100\n",
            "8/8 [==============================] - 0s 8ms/step - loss: 2.2088 - accuracy: 0.2863\n",
            "Epoch 47/100\n",
            "8/8 [==============================] - 0s 7ms/step - loss: 2.2790 - accuracy: 0.2902\n",
            "Epoch 48/100\n",
            "8/8 [==============================] - 0s 8ms/step - loss: 2.2442 - accuracy: 0.2745\n",
            "Epoch 49/100\n",
            "8/8 [==============================] - 0s 8ms/step - loss: 2.0545 - accuracy: 0.3373\n",
            "Epoch 50/100\n",
            "8/8 [==============================] - 0s 8ms/step - loss: 1.9975 - accuracy: 0.3412\n",
            "Epoch 51/100\n",
            "8/8 [==============================] - 0s 8ms/step - loss: 1.8844 - accuracy: 0.3686\n",
            "Epoch 52/100\n",
            "8/8 [==============================] - 0s 8ms/step - loss: 1.7084 - accuracy: 0.4000\n",
            "Epoch 53/100\n",
            "8/8 [==============================] - 0s 8ms/step - loss: 1.7035 - accuracy: 0.4471\n",
            "Epoch 54/100\n",
            "8/8 [==============================] - 0s 8ms/step - loss: 1.4472 - accuracy: 0.4902\n",
            "Epoch 55/100\n",
            "8/8 [==============================] - 0s 8ms/step - loss: 1.3879 - accuracy: 0.5020\n",
            "Epoch 56/100\n",
            "8/8 [==============================] - 0s 8ms/step - loss: 1.3926 - accuracy: 0.5333\n",
            "Epoch 57/100\n",
            "8/8 [==============================] - 0s 8ms/step - loss: 1.2212 - accuracy: 0.6078\n",
            "Epoch 58/100\n",
            "8/8 [==============================] - 0s 8ms/step - loss: 1.0599 - accuracy: 0.6314\n",
            "Epoch 59/100\n",
            "8/8 [==============================] - 0s 8ms/step - loss: 1.1150 - accuracy: 0.6667\n",
            "Epoch 60/100\n",
            "8/8 [==============================] - 0s 8ms/step - loss: 0.9633 - accuracy: 0.6941\n",
            "Epoch 61/100\n",
            "8/8 [==============================] - 0s 8ms/step - loss: 0.8551 - accuracy: 0.7294\n",
            "Epoch 62/100\n",
            "8/8 [==============================] - 0s 8ms/step - loss: 0.8052 - accuracy: 0.7608\n",
            "Epoch 63/100\n",
            "8/8 [==============================] - 0s 8ms/step - loss: 0.6482 - accuracy: 0.7843\n",
            "Epoch 64/100\n",
            "8/8 [==============================] - 0s 8ms/step - loss: 0.6674 - accuracy: 0.7725\n",
            "Epoch 65/100\n",
            "8/8 [==============================] - 0s 8ms/step - loss: 0.5460 - accuracy: 0.8118\n",
            "Epoch 66/100\n",
            "8/8 [==============================] - 0s 9ms/step - loss: 0.5808 - accuracy: 0.7843\n",
            "Epoch 67/100\n",
            "8/8 [==============================] - 0s 8ms/step - loss: 0.5787 - accuracy: 0.8078\n",
            "Epoch 68/100\n",
            "8/8 [==============================] - 0s 8ms/step - loss: 0.4501 - accuracy: 0.8588\n",
            "Epoch 69/100\n",
            "8/8 [==============================] - 0s 8ms/step - loss: 0.5510 - accuracy: 0.8471\n",
            "Epoch 70/100\n",
            "8/8 [==============================] - 0s 8ms/step - loss: 0.5388 - accuracy: 0.8196\n",
            "Epoch 71/100\n",
            "8/8 [==============================] - 0s 8ms/step - loss: 0.5674 - accuracy: 0.8235\n",
            "Epoch 72/100\n",
            "8/8 [==============================] - 0s 8ms/step - loss: 0.4000 - accuracy: 0.8980\n",
            "Epoch 73/100\n",
            "8/8 [==============================] - 0s 8ms/step - loss: 0.3165 - accuracy: 0.8706\n",
            "Epoch 74/100\n",
            "8/8 [==============================] - 0s 9ms/step - loss: 0.3442 - accuracy: 0.8706\n",
            "Epoch 75/100\n",
            "8/8 [==============================] - 0s 8ms/step - loss: 0.3322 - accuracy: 0.8941\n",
            "Epoch 76/100\n",
            "8/8 [==============================] - 0s 8ms/step - loss: 0.3351 - accuracy: 0.9020\n",
            "Epoch 77/100\n",
            "8/8 [==============================] - 0s 8ms/step - loss: 0.3957 - accuracy: 0.8392\n",
            "Epoch 78/100\n",
            "8/8 [==============================] - 0s 8ms/step - loss: 0.2823 - accuracy: 0.9020\n",
            "Epoch 79/100\n",
            "8/8 [==============================] - 0s 8ms/step - loss: 0.3016 - accuracy: 0.9137\n",
            "Epoch 80/100\n",
            "8/8 [==============================] - 0s 8ms/step - loss: 0.4030 - accuracy: 0.8706\n",
            "Epoch 81/100\n",
            "8/8 [==============================] - 0s 8ms/step - loss: 0.2702 - accuracy: 0.9020\n",
            "Epoch 82/100\n",
            "8/8 [==============================] - 0s 8ms/step - loss: 0.2259 - accuracy: 0.9294\n",
            "Epoch 83/100\n",
            "8/8 [==============================] - 0s 8ms/step - loss: 0.2178 - accuracy: 0.9333\n",
            "Epoch 84/100\n",
            "8/8 [==============================] - 0s 8ms/step - loss: 0.2267 - accuracy: 0.9059\n",
            "Epoch 85/100\n",
            "8/8 [==============================] - 0s 8ms/step - loss: 0.2459 - accuracy: 0.9216\n",
            "Epoch 86/100\n",
            "8/8 [==============================] - 0s 8ms/step - loss: 0.2042 - accuracy: 0.9176\n",
            "Epoch 87/100\n",
            "8/8 [==============================] - 0s 8ms/step - loss: 0.3483 - accuracy: 0.8941\n",
            "Epoch 88/100\n",
            "8/8 [==============================] - 0s 8ms/step - loss: 0.2393 - accuracy: 0.9294\n",
            "Epoch 89/100\n",
            "8/8 [==============================] - 0s 8ms/step - loss: 0.2158 - accuracy: 0.9294\n",
            "Epoch 90/100\n",
            "8/8 [==============================] - 0s 8ms/step - loss: 0.2656 - accuracy: 0.9216\n",
            "Epoch 91/100\n",
            "8/8 [==============================] - 0s 8ms/step - loss: 0.2515 - accuracy: 0.9216\n",
            "Epoch 92/100\n",
            "8/8 [==============================] - 0s 8ms/step - loss: 0.2105 - accuracy: 0.9294\n",
            "Epoch 93/100\n",
            "8/8 [==============================] - 0s 8ms/step - loss: 0.2012 - accuracy: 0.9216\n",
            "Epoch 94/100\n",
            "8/8 [==============================] - 0s 7ms/step - loss: 0.2728 - accuracy: 0.9098\n",
            "Epoch 95/100\n",
            "8/8 [==============================] - 0s 8ms/step - loss: 0.2080 - accuracy: 0.9137\n",
            "Epoch 96/100\n",
            "8/8 [==============================] - 0s 8ms/step - loss: 0.1785 - accuracy: 0.9412\n",
            "Epoch 97/100\n",
            "8/8 [==============================] - 0s 8ms/step - loss: 0.2224 - accuracy: 0.9333\n",
            "Epoch 98/100\n",
            "8/8 [==============================] - 0s 8ms/step - loss: 0.1289 - accuracy: 0.9647\n",
            "Epoch 99/100\n",
            "8/8 [==============================] - 0s 8ms/step - loss: 0.2317 - accuracy: 0.9373\n",
            "Epoch 100/100\n",
            "8/8 [==============================] - 0s 8ms/step - loss: 0.1027 - accuracy: 0.9686\n"
          ],
          "name": "stdout"
        },
        {
          "output_type": "execute_result",
          "data": {
            "text/plain": [
              "<tensorflow.python.keras.callbacks.History at 0x7fb0984c1410>"
            ]
          },
          "metadata": {
            "tags": []
          },
          "execution_count": 16
        }
      ]
    },
    {
      "cell_type": "code",
      "metadata": {
        "id": "S-z2fH0cHvVc",
        "colab": {
          "base_uri": "https://localhost:8080/"
        },
        "outputId": "2376f9a3-2244-4114-babd-5894d527e86e"
      },
      "source": [
        "model.summary()"
      ],
      "id": "S-z2fH0cHvVc",
      "execution_count": null,
      "outputs": [
        {
          "output_type": "stream",
          "text": [
            "Model: \"sequential_101\"\n",
            "_________________________________________________________________\n",
            "Layer (type)                 Output Shape              Param #   \n",
            "=================================================================\n",
            "conv2d_202 (Conv2D)          (None, 9, 255, 64)        1664      \n",
            "_________________________________________________________________\n",
            "dropout_303 (Dropout)        (None, 9, 255, 64)        0         \n",
            "_________________________________________________________________\n",
            "max_pooling2d_202 (MaxPoolin (None, 4, 127, 64)        0         \n",
            "_________________________________________________________________\n",
            "conv2d_203 (Conv2D)          (None, 4, 127, 64)        102464    \n",
            "_________________________________________________________________\n",
            "dropout_304 (Dropout)        (None, 4, 127, 64)        0         \n",
            "_________________________________________________________________\n",
            "max_pooling2d_203 (MaxPoolin (None, 2, 63, 64)         0         \n",
            "_________________________________________________________________\n",
            "flatten_101 (Flatten)        (None, 8064)              0         \n",
            "_________________________________________________________________\n",
            "dense_202 (Dense)            (None, 128)               1032320   \n",
            "_________________________________________________________________\n",
            "dropout_305 (Dropout)        (None, 128)               0         \n",
            "_________________________________________________________________\n",
            "dense_203 (Dense)            (None, 17)                2193      \n",
            "=================================================================\n",
            "Total params: 1,138,641\n",
            "Trainable params: 1,138,641\n",
            "Non-trainable params: 0\n",
            "_________________________________________________________________\n"
          ],
          "name": "stdout"
        }
      ]
    },
    {
      "cell_type": "code",
      "metadata": {
        "colab": {
          "base_uri": "https://localhost:8080/"
        },
        "id": "ZQ4n8wAmB9ZX",
        "outputId": "a7fdf25c-2189-45fc-d837-c466d0806864"
      },
      "source": [
        "model.evaluate(X_test[:,:,:,None],y_test)"
      ],
      "id": "ZQ4n8wAmB9ZX",
      "execution_count": null,
      "outputs": [
        {
          "output_type": "stream",
          "text": [
            "3/3 [==============================] - 0s 6ms/step - loss: 0.0963 - accuracy: 0.9765\n"
          ],
          "name": "stdout"
        },
        {
          "output_type": "execute_result",
          "data": {
            "text/plain": [
              "[0.09628892689943314, 0.9764705896377563]"
            ]
          },
          "metadata": {
            "tags": []
          },
          "execution_count": 18
        }
      ]
    }
  ]
}