{
  "nbformat": 4,
  "nbformat_minor": 5,
  "metadata": {
    "colab": {
      "name": "Project_499_CNN.ipynb",
      "provenance": [],
      "collapsed_sections": [],
      "machine_shape": "hm",
      "include_colab_link": true
    },
    "kernelspec": {
      "display_name": "Python 3",
      "language": "python",
      "name": "python3"
    },
    "language_info": {
      "codemirror_mode": {
        "name": "ipython",
        "version": 3
      },
      "file_extension": ".py",
      "mimetype": "text/x-python",
      "name": "python",
      "nbconvert_exporter": "python",
      "pygments_lexer": "ipython3",
      "version": "3.8.8"
    },
    "accelerator": "GPU"
  },
  "cells": [
    {
      "cell_type": "markdown",
      "metadata": {
        "id": "view-in-github",
        "colab_type": "text"
      },
      "source": [
        "<a href=\"https://colab.research.google.com/github/NongNNew/Project_499/blob/main/Project_499_CNN.ipynb\" target=\"_parent\"><img src=\"https://colab.research.google.com/assets/colab-badge.svg\" alt=\"Open In Colab\"/></a>"
      ]
    },
    {
      "cell_type": "markdown",
      "metadata": {
        "id": "hW4AHGmEVrk8"
      },
      "source": [
        "# **CNN**"
      ],
      "id": "hW4AHGmEVrk8"
    },
    {
      "cell_type": "markdown",
      "metadata": {
        "id": "nkYRb02rScfH"
      },
      "source": [
        "## Setup"
      ],
      "id": "nkYRb02rScfH"
    },
    {
      "cell_type": "code",
      "metadata": {
        "colab": {
          "base_uri": "https://localhost:8080/"
        },
        "id": "Nq11bNFAbCci",
        "outputId": "d7a68c67-cad8-4c2e-fb78-d01b91f75ce4"
      },
      "source": [
        "!pip install python_speech_features"
      ],
      "id": "Nq11bNFAbCci",
      "execution_count": 1,
      "outputs": [
        {
          "output_type": "stream",
          "text": [
            "Collecting python_speech_features\n",
            "  Downloading python_speech_features-0.6.tar.gz (5.6 kB)\n",
            "Building wheels for collected packages: python-speech-features\n",
            "  Building wheel for python-speech-features (setup.py) ... \u001b[?25l\u001b[?25hdone\n",
            "  Created wheel for python-speech-features: filename=python_speech_features-0.6-py3-none-any.whl size=5888 sha256=38e1421c2db3e621f9f6590f87718bc9458ca19efaa869f32f73906a953198e5\n",
            "  Stored in directory: /root/.cache/pip/wheels/b0/0e/94/28cd6afa3cd5998a63eef99fe31777acd7d758f59cf24839eb\n",
            "Successfully built python-speech-features\n",
            "Installing collected packages: python-speech-features\n",
            "Successfully installed python-speech-features-0.6\n"
          ],
          "name": "stdout"
        }
      ]
    },
    {
      "cell_type": "code",
      "metadata": {
        "id": "fssuU2ucR1vy"
      },
      "source": [
        "import librosa\n",
        "import numpy as np\n",
        "import pandas as pd\n",
        "from glob import glob\n",
        "import tensorflow as tf\n",
        "from tensorflow import keras \n",
        "import python_speech_features\n",
        "import matplotlib.pyplot as plt\n",
        "from scipy.signal.windows import hamming\n",
        "from sklearn.metrics import classification_report"
      ],
      "id": "fssuU2ucR1vy",
      "execution_count": 2,
      "outputs": []
    },
    {
      "cell_type": "code",
      "metadata": {
        "id": "y1vuUlgJSKkC"
      },
      "source": [
        "np.random.seed(1)\n",
        "tf.random.set_seed(1)"
      ],
      "id": "y1vuUlgJSKkC",
      "execution_count": 3,
      "outputs": []
    },
    {
      "cell_type": "markdown",
      "metadata": {
        "id": "BRWP2IrOShCH"
      },
      "source": [
        "## Prepare dataset"
      ],
      "id": "BRWP2IrOShCH"
    },
    {
      "cell_type": "code",
      "metadata": {
        "colab": {
          "base_uri": "https://localhost:8080/"
        },
        "id": "gJVdtdww87RO",
        "outputId": "0020aa76-cb42-433f-c5f3-b2f701cec6c3"
      },
      "source": [
        "# Upload audio files from github\n",
        "!git clone https://github.com/NongNNew/Project_499.git"
      ],
      "id": "gJVdtdww87RO",
      "execution_count": 4,
      "outputs": [
        {
          "output_type": "stream",
          "text": [
            "Cloning into 'Project_499'...\n",
            "remote: Enumerating objects: 1456, done.\u001b[K\n",
            "remote: Counting objects: 100% (12/12), done.\u001b[K\n",
            "remote: Compressing objects: 100% (12/12), done.\u001b[K\n",
            "remote: Total 1456 (delta 6), reused 0 (delta 0), pack-reused 1444\u001b[K\n",
            "Receiving objects: 100% (1456/1456), 233.33 MiB | 22.33 MiB/s, done.\n",
            "Resolving deltas: 100% (154/154), done.\n",
            "Checking out files: 100% (1122/1122), done.\n"
          ],
          "name": "stdout"
        }
      ]
    },
    {
      "cell_type": "code",
      "metadata": {
        "id": "EHnDUT5YejVV"
      },
      "source": [
        "# Name of vegetables and fruits 52 types of 56 classes\n",
        "fruit_veget = ['กระชาย','กระท้อน','กระเทียม1','กระเทียม2','กระเพรา','กล้วยน้ำว้า','กล้วยหอม',\n",
        "               'ข้าวโพด','ไข่น้ำ',\n",
        "               'ตะขบไทย','ตะไคร้',\n",
        "               'ถั่วฝักยาว','ถั่วลันเตา','ถั่วลิสง',\n",
        "               'ทับทิม',\n",
        "               'น้อยหน่า','น้ำเต้า',\n",
        "               'ผักกระเฉด','ผักกุยช่าย','ผักขึ้นช่าย','ผักชะอม','ผักชี','ผักชีฝรั่ง','ผักตำลึง',\n",
        "               'มะปราง','มะพลับ','มะละกอ','มะกรูด','มะเขือพวง','มะเขือเทศ','มะระ','มะรุม','มะตูม','มันแกว1','มันแกว2','มันเทศ','มันฝรั่ง','มันสำปะหลัง',\n",
        "               'บวบ','ใบชะพลู1','ใบชะพลู2','ใบบัวบก','ใบแมงลัก','ใบยอ',\n",
        "               'พริกขี้หนู','พริกสด','พุทรา','เพกา',\n",
        "               'ฝรั่ง',\n",
        "               'ฟัก','ฟักทอง',\n",
        "               'สับปะรด','สะเดา','สะระแหน่',\n",
        "               'หัวหอม1','หัวหอม2']\n",
        "\n",
        "# Audio data source\n",
        "source = {'audio_time':[],\n",
        "          'sampling_rate':[],\n",
        "          'feature_extraction':[],\n",
        "          'label':[],\n",
        "          'description':[]}"
      ],
      "id": "EHnDUT5YejVV",
      "execution_count": 5,
      "outputs": []
    },
    {
      "cell_type": "code",
      "metadata": {
        "id": "_XRqKtGBeW_1"
      },
      "source": [
        "def feature_mfcc(y,sr):\n",
        "    return (python_speech_features.mfcc(signal=y, \n",
        "                                    samplerate=sr, \n",
        "                                    winlen= 512/sr, \n",
        "                                    winstep= 160/sr,\n",
        "                                    numcep= 13,\n",
        "                                    nfilt= 40, \n",
        "                                    nfft= 512,\n",
        "                                    lowfreq= 0,\n",
        "                                    highfreq= None,\n",
        "                                    preemph= 0.97, \n",
        "                                    ceplifter= 0,\n",
        "                                    winfunc= hamming))"
      ],
      "id": "_XRqKtGBeW_1",
      "execution_count": 6,
      "outputs": []
    },
    {
      "cell_type": "code",
      "metadata": {
        "id": "tixApnAUy5tv"
      },
      "source": [
        "for types in fruit_veget:\n",
        "    audio_files = glob('/content/Project_499/Record_audio/' + str(types) + '/*.wav')\n",
        "\n",
        "    for audio in audio_files:\n",
        "        y,sr = librosa.load(audio,duration=5,offset=0)\n",
        "        source['description'].append(str(types))\n",
        "        source['audio_time'].append(y)\n",
        "        source['sampling_rate'].append(sr)\n",
        "        source['feature_extraction'].append(feature_mfcc(y,sr))\n",
        "        source['label'].append(fruit_veget.index(types))"
      ],
      "id": "tixApnAUy5tv",
      "execution_count": 7,
      "outputs": []
    },
    {
      "cell_type": "code",
      "metadata": {
        "colab": {
          "base_uri": "https://localhost:8080/",
          "height": 417
        },
        "id": "8B6cSV4Ckude",
        "outputId": "a72d46ed-20c0-4a51-824e-6567bef8a890"
      },
      "source": [
        "# tranform dictionary to dataframe \n",
        "df = pd.DataFrame.from_dict(source)\n",
        "df"
      ],
      "id": "8B6cSV4Ckude",
      "execution_count": 8,
      "outputs": [
        {
          "output_type": "execute_result",
          "data": {
            "text/html": [
              "<div>\n",
              "<style scoped>\n",
              "    .dataframe tbody tr th:only-of-type {\n",
              "        vertical-align: middle;\n",
              "    }\n",
              "\n",
              "    .dataframe tbody tr th {\n",
              "        vertical-align: top;\n",
              "    }\n",
              "\n",
              "    .dataframe thead th {\n",
              "        text-align: right;\n",
              "    }\n",
              "</style>\n",
              "<table border=\"1\" class=\"dataframe\">\n",
              "  <thead>\n",
              "    <tr style=\"text-align: right;\">\n",
              "      <th></th>\n",
              "      <th>audio_time</th>\n",
              "      <th>sampling_rate</th>\n",
              "      <th>feature_extraction</th>\n",
              "      <th>label</th>\n",
              "      <th>description</th>\n",
              "    </tr>\n",
              "  </thead>\n",
              "  <tbody>\n",
              "    <tr>\n",
              "      <th>0</th>\n",
              "      <td>[-9.1552734e-05, -0.00012207031, -0.0001373291...</td>\n",
              "      <td>22050</td>\n",
              "      <td>[[-13.95247445826829, -10.97996817242975, 1.84...</td>\n",
              "      <td>0</td>\n",
              "      <td>กระชาย</td>\n",
              "    </tr>\n",
              "    <tr>\n",
              "      <th>1</th>\n",
              "      <td>[-0.0002593994, -0.00022888184, -0.0002593994,...</td>\n",
              "      <td>22050</td>\n",
              "      <td>[[-13.816295557200156, -10.348956209871943, 3....</td>\n",
              "      <td>0</td>\n",
              "      <td>กระชาย</td>\n",
              "    </tr>\n",
              "    <tr>\n",
              "      <th>2</th>\n",
              "      <td>[0.00022888184, 0.00022888184, 0.00032043457, ...</td>\n",
              "      <td>22050</td>\n",
              "      <td>[[-14.045999540666703, -10.287139120802372, -0...</td>\n",
              "      <td>0</td>\n",
              "      <td>กระชาย</td>\n",
              "    </tr>\n",
              "    <tr>\n",
              "      <th>3</th>\n",
              "      <td>[1.5258789e-05, -3.0517578e-05, 4.5776367e-05,...</td>\n",
              "      <td>22050</td>\n",
              "      <td>[[-13.895163210723114, -10.534242113550562, 0....</td>\n",
              "      <td>0</td>\n",
              "      <td>กระชาย</td>\n",
              "    </tr>\n",
              "    <tr>\n",
              "      <th>4</th>\n",
              "      <td>[-0.0001373291, -0.00010681152, -0.0001373291,...</td>\n",
              "      <td>22050</td>\n",
              "      <td>[[-14.29427199922967, -12.51993808804879, 2.45...</td>\n",
              "      <td>0</td>\n",
              "      <td>กระชาย</td>\n",
              "    </tr>\n",
              "    <tr>\n",
              "      <th>...</th>\n",
              "      <td>...</td>\n",
              "      <td>...</td>\n",
              "      <td>...</td>\n",
              "      <td>...</td>\n",
              "      <td>...</td>\n",
              "    </tr>\n",
              "    <tr>\n",
              "      <th>1115</th>\n",
              "      <td>[1.5258789e-05, -4.5776367e-05, 4.5776367e-05,...</td>\n",
              "      <td>22050</td>\n",
              "      <td>[[-13.862199697176345, -10.033334893928362, 0....</td>\n",
              "      <td>55</td>\n",
              "      <td>หัวหอม2</td>\n",
              "    </tr>\n",
              "    <tr>\n",
              "      <th>1116</th>\n",
              "      <td>[-0.00018310547, -0.0002593994, -0.00021362305...</td>\n",
              "      <td>22050</td>\n",
              "      <td>[[-14.051788496188221, -10.373070308117175, 4....</td>\n",
              "      <td>55</td>\n",
              "      <td>หัวหอม2</td>\n",
              "    </tr>\n",
              "    <tr>\n",
              "      <th>1117</th>\n",
              "      <td>[0.0, -3.0517578e-05, -9.1552734e-05, -9.15527...</td>\n",
              "      <td>22050</td>\n",
              "      <td>[[-14.21864909518731, -10.539366597477237, 2.1...</td>\n",
              "      <td>55</td>\n",
              "      <td>หัวหอม2</td>\n",
              "    </tr>\n",
              "    <tr>\n",
              "      <th>1118</th>\n",
              "      <td>[-7.6293945e-05, -9.1552734e-05, 0.0, 1.525878...</td>\n",
              "      <td>22050</td>\n",
              "      <td>[[-13.93405270581039, -11.744337964457122, 1.2...</td>\n",
              "      <td>55</td>\n",
              "      <td>หัวหอม2</td>\n",
              "    </tr>\n",
              "    <tr>\n",
              "      <th>1119</th>\n",
              "      <td>[0.0, -1.5258789e-05, 3.0517578e-05, -3.051757...</td>\n",
              "      <td>22050</td>\n",
              "      <td>[[-14.18512183869517, -10.797166196952473, 3.3...</td>\n",
              "      <td>55</td>\n",
              "      <td>หัวหอม2</td>\n",
              "    </tr>\n",
              "  </tbody>\n",
              "</table>\n",
              "<p>1120 rows × 5 columns</p>\n",
              "</div>"
            ],
            "text/plain": [
              "                                             audio_time  ...  description\n",
              "0     [-9.1552734e-05, -0.00012207031, -0.0001373291...  ...       กระชาย\n",
              "1     [-0.0002593994, -0.00022888184, -0.0002593994,...  ...       กระชาย\n",
              "2     [0.00022888184, 0.00022888184, 0.00032043457, ...  ...       กระชาย\n",
              "3     [1.5258789e-05, -3.0517578e-05, 4.5776367e-05,...  ...       กระชาย\n",
              "4     [-0.0001373291, -0.00010681152, -0.0001373291,...  ...       กระชาย\n",
              "...                                                 ...  ...          ...\n",
              "1115  [1.5258789e-05, -4.5776367e-05, 4.5776367e-05,...  ...      หัวหอม2\n",
              "1116  [-0.00018310547, -0.0002593994, -0.00021362305...  ...      หัวหอม2\n",
              "1117  [0.0, -3.0517578e-05, -9.1552734e-05, -9.15527...  ...      หัวหอม2\n",
              "1118  [-7.6293945e-05, -9.1552734e-05, 0.0, 1.525878...  ...      หัวหอม2\n",
              "1119  [0.0, -1.5258789e-05, 3.0517578e-05, -3.051757...  ...      หัวหอม2\n",
              "\n",
              "[1120 rows x 5 columns]"
            ]
          },
          "metadata": {},
          "execution_count": 8
        }
      ]
    },
    {
      "cell_type": "code",
      "metadata": {
        "id": "T7yzW3hnmuyB"
      },
      "source": [
        "Test = pd.DataFrame(columns=source.keys())\n",
        "\n",
        "# Create test data\n",
        "for description in np.unique(df['description']):\n",
        "    imp_test = df[df['description']==description].sample(5)\n",
        "    Test = pd.concat([Test,imp_test], axis=0)\n",
        "Train = df.drop(Test.index)\n",
        "\n",
        "\n",
        "X_train = np.array(Train['feature_extraction'].to_list())\n",
        "X_test = np.array(Test['feature_extraction'].to_list())\n",
        "y_train = np.array(Train['label'].to_list())\n",
        "y_test = np.array(Test['label'].to_list())"
      ],
      "id": "T7yzW3hnmuyB",
      "execution_count": 9,
      "outputs": []
    },
    {
      "cell_type": "code",
      "metadata": {
        "colab": {
          "base_uri": "https://localhost:8080/"
        },
        "id": "mSV3u9RmEU7h",
        "outputId": "5bf50459-c164-43f5-b830-6c2da0becac9"
      },
      "source": [
        "# Proportion of data\n",
        "y_train.shape, y_test.shape"
      ],
      "id": "mSV3u9RmEU7h",
      "execution_count": 10,
      "outputs": [
        {
          "output_type": "execute_result",
          "data": {
            "text/plain": [
              "((840,), (280,))"
            ]
          },
          "metadata": {},
          "execution_count": 10
        }
      ]
    },
    {
      "cell_type": "markdown",
      "metadata": {
        "id": "r7RGaVViSrwg"
      },
      "source": [
        "## Build cnn model"
      ],
      "id": "r7RGaVViSrwg"
    },
    {
      "cell_type": "code",
      "metadata": {
        "id": "77wMVqve6W8f"
      },
      "source": [
        "def create_cnn_model(X_train):\n",
        "    model = None\n",
        "    model = keras.Sequential()\n",
        "    model.add(keras.layers.Conv2D(128, 5, input_shape=(X_train.shape[1], X_train.shape[2], 1), activation='relu'))\n",
        "    model.add(keras.layers.Dropout(0.25))\n",
        "    model.add(keras.layers.MaxPool2D())\n",
        "    model.add(keras.layers.Conv2D(64, 5, activation='relu',padding='same'))\n",
        "    model.add(keras.layers.Dropout(0.25))\n",
        "    model.add(keras.layers.MaxPool2D())\n",
        "    model.add(keras.layers.Conv2D(64, 5, activation='relu',padding='same'))\n",
        "    model.add(keras.layers.Dropout(0.25))\n",
        "    model.add(keras.layers.MaxPool2D())\n",
        "    model.add(keras.layers.Flatten())\n",
        "    model.add(keras.layers.Dense(128, activation='relu'))\n",
        "    model.add(keras.layers.Dropout(0.25))\n",
        "    model.add(keras.layers.Dense(64, activation='relu'))\n",
        "    model.add(keras.layers.Dropout(0.25))\n",
        "    model.add(keras.layers.Dense(len(np.unique(df['label'])), activation='softmax'))\n",
        "    model.compile(optimizer='adam', loss='sparse_categorical_crossentropy', metrics=['accuracy'])\n",
        "\n",
        "    model.summary()\n",
        "\n",
        "    return model"
      ],
      "id": "77wMVqve6W8f",
      "execution_count": 11,
      "outputs": []
    },
    {
      "cell_type": "markdown",
      "metadata": {
        "id": "N_EPqJGnS7ng"
      },
      "source": [
        "## Train model"
      ],
      "id": "N_EPqJGnS7ng"
    },
    {
      "cell_type": "code",
      "metadata": {
        "id": "ngmfDNcnGMC7",
        "colab": {
          "base_uri": "https://localhost:8080/"
        },
        "outputId": "85ffbc0b-681c-4b77-d128-5a2a77361a3b"
      },
      "source": [
        "# Train model\n",
        "model_cnn = create_cnn_model(X_train)\n",
        "history = model_cnn.fit(X_train[:,:,:,None], y_train, epochs=100, validation_data=(X_test[:,:,:,None],y_test),batch_size=80)"
      ],
      "id": "ngmfDNcnGMC7",
      "execution_count": 12,
      "outputs": [
        {
          "output_type": "stream",
          "text": [
            "Model: \"sequential\"\n",
            "_________________________________________________________________\n",
            "Layer (type)                 Output Shape              Param #   \n",
            "=================================================================\n",
            "conv2d (Conv2D)              (None, 683, 9, 128)       3328      \n",
            "_________________________________________________________________\n",
            "dropout (Dropout)            (None, 683, 9, 128)       0         \n",
            "_________________________________________________________________\n",
            "max_pooling2d (MaxPooling2D) (None, 341, 4, 128)       0         \n",
            "_________________________________________________________________\n",
            "conv2d_1 (Conv2D)            (None, 341, 4, 64)        204864    \n",
            "_________________________________________________________________\n",
            "dropout_1 (Dropout)          (None, 341, 4, 64)        0         \n",
            "_________________________________________________________________\n",
            "max_pooling2d_1 (MaxPooling2 (None, 170, 2, 64)        0         \n",
            "_________________________________________________________________\n",
            "conv2d_2 (Conv2D)            (None, 170, 2, 64)        102464    \n",
            "_________________________________________________________________\n",
            "dropout_2 (Dropout)          (None, 170, 2, 64)        0         \n",
            "_________________________________________________________________\n",
            "max_pooling2d_2 (MaxPooling2 (None, 85, 1, 64)         0         \n",
            "_________________________________________________________________\n",
            "flatten (Flatten)            (None, 5440)              0         \n",
            "_________________________________________________________________\n",
            "dense (Dense)                (None, 128)               696448    \n",
            "_________________________________________________________________\n",
            "dropout_3 (Dropout)          (None, 128)               0         \n",
            "_________________________________________________________________\n",
            "dense_1 (Dense)              (None, 64)                8256      \n",
            "_________________________________________________________________\n",
            "dropout_4 (Dropout)          (None, 64)                0         \n",
            "_________________________________________________________________\n",
            "dense_2 (Dense)              (None, 56)                3640      \n",
            "=================================================================\n",
            "Total params: 1,019,000\n",
            "Trainable params: 1,019,000\n",
            "Non-trainable params: 0\n",
            "_________________________________________________________________\n",
            "Epoch 1/100\n",
            "11/11 [==============================] - 19s 176ms/step - loss: 4.1190 - accuracy: 0.0143 - val_loss: 4.0205 - val_accuracy: 0.0429\n",
            "Epoch 2/100\n",
            "11/11 [==============================] - 1s 78ms/step - loss: 4.0076 - accuracy: 0.0250 - val_loss: 3.9798 - val_accuracy: 0.0464\n",
            "Epoch 3/100\n",
            "11/11 [==============================] - 1s 78ms/step - loss: 3.8777 - accuracy: 0.0548 - val_loss: 3.8082 - val_accuracy: 0.1107\n",
            "Epoch 4/100\n",
            "11/11 [==============================] - 1s 78ms/step - loss: 3.6495 - accuracy: 0.1000 - val_loss: 3.5849 - val_accuracy: 0.1786\n",
            "Epoch 5/100\n",
            "11/11 [==============================] - 1s 78ms/step - loss: 3.3624 - accuracy: 0.1429 - val_loss: 3.1738 - val_accuracy: 0.3179\n",
            "Epoch 6/100\n",
            "11/11 [==============================] - 1s 78ms/step - loss: 3.0146 - accuracy: 0.2060 - val_loss: 2.8815 - val_accuracy: 0.4500\n",
            "Epoch 7/100\n",
            "11/11 [==============================] - 1s 78ms/step - loss: 2.4861 - accuracy: 0.3107 - val_loss: 2.6017 - val_accuracy: 0.5679\n",
            "Epoch 8/100\n",
            "11/11 [==============================] - 1s 78ms/step - loss: 2.0208 - accuracy: 0.4369 - val_loss: 1.8890 - val_accuracy: 0.7143\n",
            "Epoch 9/100\n",
            "11/11 [==============================] - 1s 78ms/step - loss: 1.7837 - accuracy: 0.5024 - val_loss: 1.7731 - val_accuracy: 0.7714\n",
            "Epoch 10/100\n",
            "11/11 [==============================] - 1s 79ms/step - loss: 1.4928 - accuracy: 0.5762 - val_loss: 1.4581 - val_accuracy: 0.8071\n",
            "Epoch 11/100\n",
            "11/11 [==============================] - 1s 79ms/step - loss: 1.2735 - accuracy: 0.6190 - val_loss: 1.2376 - val_accuracy: 0.8714\n",
            "Epoch 12/100\n",
            "11/11 [==============================] - 1s 78ms/step - loss: 1.1763 - accuracy: 0.6548 - val_loss: 1.0956 - val_accuracy: 0.8821\n",
            "Epoch 13/100\n",
            "11/11 [==============================] - 1s 79ms/step - loss: 0.9812 - accuracy: 0.7071 - val_loss: 1.0670 - val_accuracy: 0.9071\n",
            "Epoch 14/100\n",
            "11/11 [==============================] - 1s 78ms/step - loss: 0.7879 - accuracy: 0.7595 - val_loss: 0.7643 - val_accuracy: 0.8929\n",
            "Epoch 15/100\n",
            "11/11 [==============================] - 1s 79ms/step - loss: 0.7841 - accuracy: 0.7417 - val_loss: 0.7737 - val_accuracy: 0.9036\n",
            "Epoch 16/100\n",
            "11/11 [==============================] - 1s 79ms/step - loss: 0.7332 - accuracy: 0.7440 - val_loss: 0.7243 - val_accuracy: 0.9179\n",
            "Epoch 17/100\n",
            "11/11 [==============================] - 1s 78ms/step - loss: 0.6224 - accuracy: 0.8012 - val_loss: 0.5936 - val_accuracy: 0.9357\n",
            "Epoch 18/100\n",
            "11/11 [==============================] - 1s 79ms/step - loss: 0.6012 - accuracy: 0.8274 - val_loss: 0.5058 - val_accuracy: 0.9286\n",
            "Epoch 19/100\n",
            "11/11 [==============================] - 1s 79ms/step - loss: 0.5700 - accuracy: 0.8274 - val_loss: 0.5909 - val_accuracy: 0.9250\n",
            "Epoch 20/100\n",
            "11/11 [==============================] - 1s 79ms/step - loss: 0.5850 - accuracy: 0.8155 - val_loss: 0.5422 - val_accuracy: 0.9107\n",
            "Epoch 21/100\n",
            "11/11 [==============================] - 1s 78ms/step - loss: 0.5165 - accuracy: 0.8298 - val_loss: 0.4796 - val_accuracy: 0.9393\n",
            "Epoch 22/100\n",
            "11/11 [==============================] - 1s 79ms/step - loss: 0.4503 - accuracy: 0.8524 - val_loss: 0.3927 - val_accuracy: 0.9500\n",
            "Epoch 23/100\n",
            "11/11 [==============================] - 1s 79ms/step - loss: 0.3828 - accuracy: 0.8667 - val_loss: 0.3823 - val_accuracy: 0.9286\n",
            "Epoch 24/100\n",
            "11/11 [==============================] - 1s 79ms/step - loss: 0.4475 - accuracy: 0.8500 - val_loss: 0.3691 - val_accuracy: 0.9429\n",
            "Epoch 25/100\n",
            "11/11 [==============================] - 1s 79ms/step - loss: 0.3704 - accuracy: 0.8893 - val_loss: 0.3671 - val_accuracy: 0.9464\n",
            "Epoch 26/100\n",
            "11/11 [==============================] - 1s 78ms/step - loss: 0.3427 - accuracy: 0.8786 - val_loss: 0.3157 - val_accuracy: 0.9500\n",
            "Epoch 27/100\n",
            "11/11 [==============================] - 1s 78ms/step - loss: 0.3306 - accuracy: 0.8833 - val_loss: 0.2942 - val_accuracy: 0.9321\n",
            "Epoch 28/100\n",
            "11/11 [==============================] - 1s 79ms/step - loss: 0.3328 - accuracy: 0.8881 - val_loss: 0.2875 - val_accuracy: 0.9607\n",
            "Epoch 29/100\n",
            "11/11 [==============================] - 1s 79ms/step - loss: 0.3323 - accuracy: 0.8976 - val_loss: 0.3275 - val_accuracy: 0.9357\n",
            "Epoch 30/100\n",
            "11/11 [==============================] - 1s 79ms/step - loss: 0.2758 - accuracy: 0.9095 - val_loss: 0.3017 - val_accuracy: 0.9393\n",
            "Epoch 31/100\n",
            "11/11 [==============================] - 1s 79ms/step - loss: 0.3169 - accuracy: 0.9071 - val_loss: 0.3110 - val_accuracy: 0.9429\n",
            "Epoch 32/100\n",
            "11/11 [==============================] - 1s 79ms/step - loss: 0.3458 - accuracy: 0.8940 - val_loss: 0.3107 - val_accuracy: 0.9500\n",
            "Epoch 33/100\n",
            "11/11 [==============================] - 1s 79ms/step - loss: 0.3064 - accuracy: 0.8976 - val_loss: 0.2489 - val_accuracy: 0.9643\n",
            "Epoch 34/100\n",
            "11/11 [==============================] - 1s 79ms/step - loss: 0.2385 - accuracy: 0.9262 - val_loss: 0.2341 - val_accuracy: 0.9464\n",
            "Epoch 35/100\n",
            "11/11 [==============================] - 1s 79ms/step - loss: 0.2298 - accuracy: 0.9226 - val_loss: 0.2364 - val_accuracy: 0.9571\n",
            "Epoch 36/100\n",
            "11/11 [==============================] - 1s 79ms/step - loss: 0.2624 - accuracy: 0.9143 - val_loss: 0.2445 - val_accuracy: 0.9679\n",
            "Epoch 37/100\n",
            "11/11 [==============================] - 1s 79ms/step - loss: 0.2225 - accuracy: 0.9274 - val_loss: 0.2321 - val_accuracy: 0.9643\n",
            "Epoch 38/100\n",
            "11/11 [==============================] - 1s 79ms/step - loss: 0.2516 - accuracy: 0.9179 - val_loss: 0.2338 - val_accuracy: 0.9571\n",
            "Epoch 39/100\n",
            "11/11 [==============================] - 1s 79ms/step - loss: 0.2628 - accuracy: 0.9131 - val_loss: 0.2301 - val_accuracy: 0.9679\n",
            "Epoch 40/100\n",
            "11/11 [==============================] - 1s 79ms/step - loss: 0.2218 - accuracy: 0.9238 - val_loss: 0.1888 - val_accuracy: 0.9714\n",
            "Epoch 41/100\n",
            "11/11 [==============================] - 1s 79ms/step - loss: 0.2218 - accuracy: 0.9321 - val_loss: 0.2113 - val_accuracy: 0.9679\n",
            "Epoch 42/100\n",
            "11/11 [==============================] - 1s 79ms/step - loss: 0.2330 - accuracy: 0.9155 - val_loss: 0.2141 - val_accuracy: 0.9607\n",
            "Epoch 43/100\n",
            "11/11 [==============================] - 1s 79ms/step - loss: 0.2023 - accuracy: 0.9405 - val_loss: 0.1938 - val_accuracy: 0.9679\n",
            "Epoch 44/100\n",
            "11/11 [==============================] - 1s 79ms/step - loss: 0.2182 - accuracy: 0.9310 - val_loss: 0.2121 - val_accuracy: 0.9679\n",
            "Epoch 45/100\n",
            "11/11 [==============================] - 1s 79ms/step - loss: 0.2504 - accuracy: 0.9226 - val_loss: 0.2060 - val_accuracy: 0.9679\n",
            "Epoch 46/100\n",
            "11/11 [==============================] - 1s 79ms/step - loss: 0.1723 - accuracy: 0.9560 - val_loss: 0.1943 - val_accuracy: 0.9786\n",
            "Epoch 47/100\n",
            "11/11 [==============================] - 1s 79ms/step - loss: 0.2011 - accuracy: 0.9345 - val_loss: 0.1772 - val_accuracy: 0.9714\n",
            "Epoch 48/100\n",
            "11/11 [==============================] - 1s 80ms/step - loss: 0.2239 - accuracy: 0.9202 - val_loss: 0.1897 - val_accuracy: 0.9714\n",
            "Epoch 49/100\n",
            "11/11 [==============================] - 1s 80ms/step - loss: 0.2457 - accuracy: 0.9202 - val_loss: 0.2071 - val_accuracy: 0.9679\n",
            "Epoch 50/100\n",
            "11/11 [==============================] - 1s 79ms/step - loss: 0.1595 - accuracy: 0.9524 - val_loss: 0.1805 - val_accuracy: 0.9714\n",
            "Epoch 51/100\n",
            "11/11 [==============================] - 1s 79ms/step - loss: 0.1981 - accuracy: 0.9488 - val_loss: 0.1831 - val_accuracy: 0.9714\n",
            "Epoch 52/100\n",
            "11/11 [==============================] - 1s 79ms/step - loss: 0.2060 - accuracy: 0.9357 - val_loss: 0.1717 - val_accuracy: 0.9714\n",
            "Epoch 53/100\n",
            "11/11 [==============================] - 1s 82ms/step - loss: 0.1655 - accuracy: 0.9405 - val_loss: 0.1604 - val_accuracy: 0.9750\n",
            "Epoch 54/100\n",
            "11/11 [==============================] - 1s 79ms/step - loss: 0.2021 - accuracy: 0.9381 - val_loss: 0.1547 - val_accuracy: 0.9750\n",
            "Epoch 55/100\n",
            "11/11 [==============================] - 1s 79ms/step - loss: 0.1522 - accuracy: 0.9500 - val_loss: 0.2028 - val_accuracy: 0.9643\n",
            "Epoch 56/100\n",
            "11/11 [==============================] - 1s 79ms/step - loss: 0.1751 - accuracy: 0.9464 - val_loss: 0.1567 - val_accuracy: 0.9714\n",
            "Epoch 57/100\n",
            "11/11 [==============================] - 1s 79ms/step - loss: 0.1670 - accuracy: 0.9548 - val_loss: 0.1418 - val_accuracy: 0.9750\n",
            "Epoch 58/100\n",
            "11/11 [==============================] - 1s 80ms/step - loss: 0.1373 - accuracy: 0.9560 - val_loss: 0.1532 - val_accuracy: 0.9786\n",
            "Epoch 59/100\n",
            "11/11 [==============================] - 1s 79ms/step - loss: 0.1685 - accuracy: 0.9405 - val_loss: 0.1591 - val_accuracy: 0.9679\n",
            "Epoch 60/100\n",
            "11/11 [==============================] - 1s 80ms/step - loss: 0.1491 - accuracy: 0.9548 - val_loss: 0.1765 - val_accuracy: 0.9607\n",
            "Epoch 61/100\n",
            "11/11 [==============================] - 1s 79ms/step - loss: 0.1707 - accuracy: 0.9464 - val_loss: 0.1832 - val_accuracy: 0.9607\n",
            "Epoch 62/100\n",
            "11/11 [==============================] - 1s 80ms/step - loss: 0.1189 - accuracy: 0.9583 - val_loss: 0.1557 - val_accuracy: 0.9607\n",
            "Epoch 63/100\n",
            "11/11 [==============================] - 1s 79ms/step - loss: 0.1613 - accuracy: 0.9524 - val_loss: 0.1594 - val_accuracy: 0.9750\n",
            "Epoch 64/100\n",
            "11/11 [==============================] - 1s 79ms/step - loss: 0.1211 - accuracy: 0.9643 - val_loss: 0.1618 - val_accuracy: 0.9750\n",
            "Epoch 65/100\n",
            "11/11 [==============================] - 1s 79ms/step - loss: 0.1082 - accuracy: 0.9536 - val_loss: 0.1439 - val_accuracy: 0.9643\n",
            "Epoch 66/100\n",
            "11/11 [==============================] - 1s 79ms/step - loss: 0.1366 - accuracy: 0.9619 - val_loss: 0.1608 - val_accuracy: 0.9643\n",
            "Epoch 67/100\n",
            "11/11 [==============================] - 1s 79ms/step - loss: 0.1317 - accuracy: 0.9619 - val_loss: 0.1313 - val_accuracy: 0.9714\n",
            "Epoch 68/100\n",
            "11/11 [==============================] - 1s 80ms/step - loss: 0.1175 - accuracy: 0.9655 - val_loss: 0.1053 - val_accuracy: 0.9750\n",
            "Epoch 69/100\n",
            "11/11 [==============================] - 1s 79ms/step - loss: 0.0788 - accuracy: 0.9786 - val_loss: 0.1201 - val_accuracy: 0.9714\n",
            "Epoch 70/100\n",
            "11/11 [==============================] - 1s 79ms/step - loss: 0.0824 - accuracy: 0.9762 - val_loss: 0.1471 - val_accuracy: 0.9643\n",
            "Epoch 71/100\n",
            "11/11 [==============================] - 1s 79ms/step - loss: 0.0873 - accuracy: 0.9714 - val_loss: 0.1240 - val_accuracy: 0.9750\n",
            "Epoch 72/100\n",
            "11/11 [==============================] - 1s 80ms/step - loss: 0.1342 - accuracy: 0.9560 - val_loss: 0.1112 - val_accuracy: 0.9821\n",
            "Epoch 73/100\n",
            "11/11 [==============================] - 1s 79ms/step - loss: 0.1266 - accuracy: 0.9643 - val_loss: 0.1490 - val_accuracy: 0.9786\n",
            "Epoch 74/100\n",
            "11/11 [==============================] - 1s 79ms/step - loss: 0.1128 - accuracy: 0.9631 - val_loss: 0.1100 - val_accuracy: 0.9857\n",
            "Epoch 75/100\n",
            "11/11 [==============================] - 1s 79ms/step - loss: 0.1155 - accuracy: 0.9631 - val_loss: 0.1467 - val_accuracy: 0.9714\n",
            "Epoch 76/100\n",
            "11/11 [==============================] - 1s 80ms/step - loss: 0.0924 - accuracy: 0.9655 - val_loss: 0.1215 - val_accuracy: 0.9679\n",
            "Epoch 77/100\n",
            "11/11 [==============================] - 1s 80ms/step - loss: 0.1037 - accuracy: 0.9667 - val_loss: 0.1265 - val_accuracy: 0.9786\n",
            "Epoch 78/100\n",
            "11/11 [==============================] - 1s 79ms/step - loss: 0.0864 - accuracy: 0.9690 - val_loss: 0.1295 - val_accuracy: 0.9607\n",
            "Epoch 79/100\n",
            "11/11 [==============================] - 1s 79ms/step - loss: 0.1365 - accuracy: 0.9631 - val_loss: 0.1143 - val_accuracy: 0.9714\n",
            "Epoch 80/100\n",
            "11/11 [==============================] - 1s 80ms/step - loss: 0.1069 - accuracy: 0.9643 - val_loss: 0.1345 - val_accuracy: 0.9607\n",
            "Epoch 81/100\n",
            "11/11 [==============================] - 1s 80ms/step - loss: 0.1367 - accuracy: 0.9500 - val_loss: 0.1500 - val_accuracy: 0.9679\n",
            "Epoch 82/100\n",
            "11/11 [==============================] - 1s 80ms/step - loss: 0.1459 - accuracy: 0.9512 - val_loss: 0.1273 - val_accuracy: 0.9750\n",
            "Epoch 83/100\n",
            "11/11 [==============================] - 1s 80ms/step - loss: 0.1002 - accuracy: 0.9726 - val_loss: 0.1573 - val_accuracy: 0.9643\n",
            "Epoch 84/100\n",
            "11/11 [==============================] - 1s 79ms/step - loss: 0.1318 - accuracy: 0.9560 - val_loss: 0.1317 - val_accuracy: 0.9643\n",
            "Epoch 85/100\n",
            "11/11 [==============================] - 1s 80ms/step - loss: 0.0891 - accuracy: 0.9750 - val_loss: 0.1552 - val_accuracy: 0.9571\n",
            "Epoch 86/100\n",
            "11/11 [==============================] - 1s 80ms/step - loss: 0.0899 - accuracy: 0.9774 - val_loss: 0.1115 - val_accuracy: 0.9714\n",
            "Epoch 87/100\n",
            "11/11 [==============================] - 1s 80ms/step - loss: 0.0793 - accuracy: 0.9762 - val_loss: 0.1301 - val_accuracy: 0.9750\n",
            "Epoch 88/100\n",
            "11/11 [==============================] - 1s 80ms/step - loss: 0.1037 - accuracy: 0.9702 - val_loss: 0.1649 - val_accuracy: 0.9607\n",
            "Epoch 89/100\n",
            "11/11 [==============================] - 1s 80ms/step - loss: 0.0994 - accuracy: 0.9667 - val_loss: 0.1311 - val_accuracy: 0.9679\n",
            "Epoch 90/100\n",
            "11/11 [==============================] - 1s 80ms/step - loss: 0.1392 - accuracy: 0.9690 - val_loss: 0.1324 - val_accuracy: 0.9679\n",
            "Epoch 91/100\n",
            "11/11 [==============================] - 1s 80ms/step - loss: 0.0995 - accuracy: 0.9714 - val_loss: 0.1387 - val_accuracy: 0.9679\n",
            "Epoch 92/100\n",
            "11/11 [==============================] - 1s 80ms/step - loss: 0.1271 - accuracy: 0.9560 - val_loss: 0.1293 - val_accuracy: 0.9679\n",
            "Epoch 93/100\n",
            "11/11 [==============================] - 1s 80ms/step - loss: 0.0829 - accuracy: 0.9762 - val_loss: 0.1361 - val_accuracy: 0.9714\n",
            "Epoch 94/100\n",
            "11/11 [==============================] - 1s 80ms/step - loss: 0.1025 - accuracy: 0.9655 - val_loss: 0.1035 - val_accuracy: 0.9786\n",
            "Epoch 95/100\n",
            "11/11 [==============================] - 1s 80ms/step - loss: 0.1096 - accuracy: 0.9690 - val_loss: 0.1018 - val_accuracy: 0.9821\n",
            "Epoch 96/100\n",
            "11/11 [==============================] - 1s 80ms/step - loss: 0.0908 - accuracy: 0.9714 - val_loss: 0.0956 - val_accuracy: 0.9821\n",
            "Epoch 97/100\n",
            "11/11 [==============================] - 1s 80ms/step - loss: 0.0671 - accuracy: 0.9798 - val_loss: 0.1176 - val_accuracy: 0.9714\n",
            "Epoch 98/100\n",
            "11/11 [==============================] - 1s 80ms/step - loss: 0.0997 - accuracy: 0.9690 - val_loss: 0.1438 - val_accuracy: 0.9643\n",
            "Epoch 99/100\n",
            "11/11 [==============================] - 1s 80ms/step - loss: 0.1011 - accuracy: 0.9667 - val_loss: 0.1191 - val_accuracy: 0.9679\n",
            "Epoch 100/100\n",
            "11/11 [==============================] - 1s 80ms/step - loss: 0.0654 - accuracy: 0.9810 - val_loss: 0.1004 - val_accuracy: 0.9714\n"
          ],
          "name": "stdout"
        }
      ]
    },
    {
      "cell_type": "markdown",
      "metadata": {
        "id": "y_i70WoqTAxI"
      },
      "source": [
        "## Evaluate and predict test set"
      ],
      "id": "y_i70WoqTAxI"
    },
    {
      "cell_type": "code",
      "metadata": {
        "colab": {
          "base_uri": "https://localhost:8080/"
        },
        "id": "ZQ4n8wAmB9ZX",
        "outputId": "a80f1202-b4a3-4bd5-93bc-e1be8c9b0b89"
      },
      "source": [
        "# Evaluate model\n",
        "print(f'Test Accuracy: {model_cnn.evaluate(X_test[:,:,:,None],y_test,verbose=0)[1]}')"
      ],
      "id": "ZQ4n8wAmB9ZX",
      "execution_count": 13,
      "outputs": [
        {
          "output_type": "stream",
          "text": [
            "Test Accuracy: 0.9714285731315613\n"
          ],
          "name": "stdout"
        }
      ]
    },
    {
      "cell_type": "code",
      "metadata": {
        "id": "F62fEQaGFMqs",
        "colab": {
          "base_uri": "https://localhost:8080/",
          "height": 313
        },
        "outputId": "fa85ea86-c29d-4484-9a51-9596f5f8cda8"
      },
      "source": [
        "# Learning curve\n",
        "# plot the accuracy and loss plots between training and validation data\n",
        "# verify overfitting or underfit \n",
        "acc = history.history['accuracy']\n",
        "val_acc = history.history['val_accuracy']\n",
        "loss = history.history['loss']\n",
        "val_loss = history.history['val_loss']\n",
        "x = range(1,len(acc)+1)\n",
        "\n",
        "plt.plot(x,loss,'b',label='Training loss')\n",
        "plt.plot(x,val_loss,'r',label='Validation loss')\n",
        "plt.title('Training and validation loss')\n",
        "plt.xlabel('epochs')\n",
        "plt.ylabel('loss')\n",
        "plt.legend()"
      ],
      "id": "F62fEQaGFMqs",
      "execution_count": 14,
      "outputs": [
        {
          "output_type": "execute_result",
          "data": {
            "text/plain": [
              "<matplotlib.legend.Legend at 0x7f4f100859d0>"
            ]
          },
          "metadata": {},
          "execution_count": 14
        },
        {
          "output_type": "display_data",
          "data": {
            "image/png": "[encoded data removed]",
            "text/plain": [
              "<Figure size 432x288 with 1 Axes>"
            ]
          },
          "metadata": {
            "needs_background": "light"
          }
        }
      ]
    },
    {
      "cell_type": "code",
      "metadata": {
        "id": "wFbKdWsMkDuw",
        "colab": {
          "base_uri": "https://localhost:8080/"
        },
        "outputId": "6ef7e62c-3287-4b11-b92d-d22099f234bd"
      },
      "source": [
        "# classification report\n",
        "predicted_classes = np.argmax(np.round(model_cnn.predict(X_test[:,:,:,None])),axis=1)\n",
        "correct = np.where(predicted_classes==y_test)[0]\n",
        "target_names = [f\"Class {label}\" for label in range(len(np.unique(df['label'])))]\n",
        "\n",
        "print(f\"From {len(y_test)} labels're founding {len(correct)} correct labels.\")\n",
        "print(f'Accuracy: {len(correct)/len(y_test)}')\n",
        "print('')\n",
        "print(classification_report(y_test, predicted_classes, target_names=target_names))"
      ],
      "id": "wFbKdWsMkDuw",
      "execution_count": 15,
      "outputs": [
        {
          "output_type": "stream",
          "text": [
            "From 280 labels're founding 269 correct labels.\n",
            "Accuracy: 0.9607142857142857\n",
            "\n",
            "              precision    recall  f1-score   support\n",
            "\n",
            "     Class 0       0.50      1.00      0.67         5\n",
            "     Class 1       1.00      1.00      1.00         5\n",
            "     Class 2       1.00      1.00      1.00         5\n",
            "     Class 3       1.00      0.80      0.89         5\n",
            "     Class 4       0.83      1.00      0.91         5\n",
            "     Class 5       1.00      0.80      0.89         5\n",
            "     Class 6       1.00      0.80      0.89         5\n",
            "     Class 7       1.00      1.00      1.00         5\n",
            "     Class 8       1.00      1.00      1.00         5\n",
            "     Class 9       0.83      1.00      0.91         5\n",
            "    Class 10       1.00      1.00      1.00         5\n",
            "    Class 11       1.00      1.00      1.00         5\n",
            "    Class 12       1.00      1.00      1.00         5\n",
            "    Class 13       0.83      1.00      0.91         5\n",
            "    Class 14       1.00      1.00      1.00         5\n",
            "    Class 15       1.00      0.80      0.89         5\n",
            "    Class 16       1.00      1.00      1.00         5\n",
            "    Class 17       1.00      1.00      1.00         5\n",
            "    Class 18       1.00      1.00      1.00         5\n",
            "    Class 19       1.00      1.00      1.00         5\n",
            "    Class 20       1.00      1.00      1.00         5\n",
            "    Class 21       1.00      1.00      1.00         5\n",
            "    Class 22       1.00      1.00      1.00         5\n",
            "    Class 23       0.83      1.00      0.91         5\n",
            "    Class 24       1.00      1.00      1.00         5\n",
            "    Class 25       1.00      0.80      0.89         5\n",
            "    Class 26       0.83      1.00      0.91         5\n",
            "    Class 27       1.00      1.00      1.00         5\n",
            "    Class 28       1.00      1.00      1.00         5\n",
            "    Class 29       1.00      1.00      1.00         5\n",
            "    Class 30       1.00      0.80      0.89         5\n",
            "    Class 31       1.00      0.80      0.89         5\n",
            "    Class 32       1.00      1.00      1.00         5\n",
            "    Class 33       1.00      1.00      1.00         5\n",
            "    Class 34       1.00      1.00      1.00         5\n",
            "    Class 35       1.00      1.00      1.00         5\n",
            "    Class 36       1.00      1.00      1.00         5\n",
            "    Class 37       1.00      1.00      1.00         5\n",
            "    Class 38       1.00      0.80      0.89         5\n",
            "    Class 39       1.00      0.80      0.89         5\n",
            "    Class 40       1.00      1.00      1.00         5\n",
            "    Class 41       1.00      1.00      1.00         5\n",
            "    Class 42       0.83      1.00      0.91         5\n",
            "    Class 43       1.00      1.00      1.00         5\n",
            "    Class 44       1.00      1.00      1.00         5\n",
            "    Class 45       1.00      1.00      1.00         5\n",
            "    Class 46       1.00      1.00      1.00         5\n",
            "    Class 47       1.00      1.00      1.00         5\n",
            "    Class 48       1.00      0.80      0.89         5\n",
            "    Class 49       1.00      1.00      1.00         5\n",
            "    Class 50       1.00      1.00      1.00         5\n",
            "    Class 51       1.00      1.00      1.00         5\n",
            "    Class 52       1.00      0.80      0.89         5\n",
            "    Class 53       1.00      1.00      1.00         5\n",
            "    Class 54       1.00      1.00      1.00         5\n",
            "    Class 55       1.00      1.00      1.00         5\n",
            "\n",
            "    accuracy                           0.96       280\n",
            "   macro avg       0.97      0.96      0.96       280\n",
            "weighted avg       0.97      0.96      0.96       280\n",
            "\n"
          ],
          "name": "stdout"
        }
      ]
    }
  ]
}