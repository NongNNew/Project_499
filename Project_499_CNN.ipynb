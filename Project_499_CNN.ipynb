{
  "nbformat": 4,
  "nbformat_minor": 5,
  "metadata": {
    "colab": {
      "name": "Project_499_CNN.ipynb",
      "provenance": [],
      "collapsed_sections": [],
      "include_colab_link": true
    },
    "kernelspec": {
      "display_name": "Python 3",
      "language": "python",
      "name": "python3"
    },
    "language_info": {
      "codemirror_mode": {
        "name": "ipython",
        "version": 3
      },
      "file_extension": ".py",
      "mimetype": "text/x-python",
      "name": "python",
      "nbconvert_exporter": "python",
      "pygments_lexer": "ipython3",
      "version": "3.8.8"
    },
    "accelerator": "GPU"
  },
  "cells": [
    {
      "cell_type": "markdown",
      "metadata": {
        "id": "view-in-github",
        "colab_type": "text"
      },
      "source": [
        "<a href=\"https://colab.research.google.com/github/NongNNew/Project_499/blob/main/Project_499_CNN.ipynb\" target=\"_parent\"><img src=\"https://colab.research.google.com/assets/colab-badge.svg\" alt=\"Open In Colab\"/></a>"
      ]
    },
    {
      "cell_type": "markdown",
      "metadata": {
        "id": "hW4AHGmEVrk8"
      },
      "source": [
        "# CNN"
      ],
      "id": "hW4AHGmEVrk8"
    },
    {
      "cell_type": "code",
      "metadata": {
        "colab": {
          "base_uri": "https://localhost:8080/"
        },
        "id": "gJVdtdww87RO",
        "outputId": "a395a1bd-63df-442a-cc22-574f631954cf"
      },
      "source": [
        "!git clone https://github.com/NongNNew/Project_499.git"
      ],
      "id": "gJVdtdww87RO",
      "execution_count": 33,
      "outputs": [
        {
          "output_type": "stream",
          "text": [
            "fatal: destination path 'Project_499' already exists and is not an empty directory.\n"
          ],
          "name": "stdout"
        }
      ]
    },
    {
      "cell_type": "code",
      "metadata": {
        "id": "kj43EsnPwnaw"
      },
      "source": [
        "import pandas as pd\n",
        "from glob import glob\n",
        "import librosa\n",
        "import librosa.display"
      ],
      "id": "kj43EsnPwnaw",
      "execution_count": 34,
      "outputs": []
    },
    {
      "cell_type": "code",
      "metadata": {
        "id": "EHnDUT5YejVV"
      },
      "source": [
        "fruit_veget = ['กระชาย','กระท้อน','กระเทียม1','กระเทียม2','กระเพรา','กล้วยน้ำว้า','กล้วยหอม',\n",
        "               'ข้าวโพด','ไข่น้ำ',\n",
        "               'ตะขบไทย','ตะไคร้',\n",
        "               'ถั่วฝักยาว','ถั่วลันเตา','ถั่วลิสง',\n",
        "               'ทับทิม',\n",
        "               'น้อยหน่า','น้ำเต้า',\n",
        "               'ผักกระเฉด','ผักกุยช่าย',\n",
        "               'บวบ','ใบชะพลู1','ใบชะพลู2','ใบบัวบก','ใบแมงลัก','ใบยอ',\n",
        "               'พริกขี้หนู','พริกสด',\n",
        "               'ฝรั่ง',\n",
        "               'พุทรา',\n",
        "               'มะปราง','มะพลับ','มะละกอ',\n",
        "               'สับปะรด']\n",
        "\n",
        "source = {'audio_time':[],\n",
        "          'sampling_rate':[],\n",
        "          'feature_extraction':[],\n",
        "          'label':[],\n",
        "          'description':[]}"
      ],
      "id": "EHnDUT5YejVV",
      "execution_count": 35,
      "outputs": []
    },
    {
      "cell_type": "code",
      "metadata": {
        "id": "tixApnAUy5tv"
      },
      "source": [
        "for types in fruit_veget:\n",
        "    audio_files = glob('/content/Project_499/Record_audio/' + str(types) + '/*.wav')\n",
        "\n",
        "    for audio in audio_files:\n",
        "        y,sr = librosa.load(audio,duration=6,offset=0)\n",
        "        source['description'].append(str(types))\n",
        "        source['audio_time'].append(y)\n",
        "        source['sampling_rate'].append(sr)\n",
        "        source['feature_extraction'].append(librosa.feature.mfcc(y,sr,n_mfcc=13))\n",
        "        source['label'].append(fruit_veget.index(types))"
      ],
      "id": "tixApnAUy5tv",
      "execution_count": 36,
      "outputs": []
    },
    {
      "cell_type": "code",
      "metadata": {
        "id": "353eCwDJUumP"
      },
      "source": [
        "import re\n",
        "\n",
        "for i in range(len(source['description'])):\n",
        "    source['description'][i] = re.findall('[\\u0E00-\\u0E7F]+',source['description'][i])[0]"
      ],
      "id": "353eCwDJUumP",
      "execution_count": 37,
      "outputs": []
    },
    {
      "cell_type": "code",
      "metadata": {
        "colab": {
          "base_uri": "https://localhost:8080/",
          "height": 417
        },
        "id": "8B6cSV4Ckude",
        "outputId": "1d5f6661-cef7-42b5-bd47-cd32cb5756d7"
      },
      "source": [
        "pd.DataFrame.from_dict(source)"
      ],
      "id": "8B6cSV4Ckude",
      "execution_count": 38,
      "outputs": [
        {
          "output_type": "execute_result",
          "data": {
            "text/html": [
              "<div>\n",
              "<style scoped>\n",
              "    .dataframe tbody tr th:only-of-type {\n",
              "        vertical-align: middle;\n",
              "    }\n",
              "\n",
              "    .dataframe tbody tr th {\n",
              "        vertical-align: top;\n",
              "    }\n",
              "\n",
              "    .dataframe thead th {\n",
              "        text-align: right;\n",
              "    }\n",
              "</style>\n",
              "<table border=\"1\" class=\"dataframe\">\n",
              "  <thead>\n",
              "    <tr style=\"text-align: right;\">\n",
              "      <th></th>\n",
              "      <th>audio_time</th>\n",
              "      <th>sampling_rate</th>\n",
              "      <th>feature_extraction</th>\n",
              "      <th>label</th>\n",
              "      <th>description</th>\n",
              "    </tr>\n",
              "  </thead>\n",
              "  <tbody>\n",
              "    <tr>\n",
              "      <th>0</th>\n",
              "      <td>[-0.0002593994, -0.00022888184, -0.0002593994,...</td>\n",
              "      <td>22050</td>\n",
              "      <td>[[-639.25616, -639.47345, -640.0064, -640.5056...</td>\n",
              "      <td>0</td>\n",
              "      <td>กระชาย</td>\n",
              "    </tr>\n",
              "    <tr>\n",
              "      <th>1</th>\n",
              "      <td>[1.5258789e-05, -3.0517578e-05, 4.5776367e-05,...</td>\n",
              "      <td>22050</td>\n",
              "      <td>[[-624.1429, -624.4267, -624.8286, -624.58374,...</td>\n",
              "      <td>0</td>\n",
              "      <td>กระชาย</td>\n",
              "    </tr>\n",
              "    <tr>\n",
              "      <th>2</th>\n",
              "      <td>[-0.004928589, -0.0049591064, -0.0048980713, -...</td>\n",
              "      <td>22050</td>\n",
              "      <td>[[-634.622, -639.0867, -654.00525, -659.99115,...</td>\n",
              "      <td>0</td>\n",
              "      <td>กระชาย</td>\n",
              "    </tr>\n",
              "    <tr>\n",
              "      <th>3</th>\n",
              "      <td>[1.5258789e-05, -3.0517578e-05, 6.1035156e-05,...</td>\n",
              "      <td>22050</td>\n",
              "      <td>[[-635.46277, -636.8741, -637.42834, -636.0504...</td>\n",
              "      <td>0</td>\n",
              "      <td>กระชาย</td>\n",
              "    </tr>\n",
              "    <tr>\n",
              "      <th>4</th>\n",
              "      <td>[-0.0001373291, -0.00018310547, -4.5776367e-05...</td>\n",
              "      <td>22050</td>\n",
              "      <td>[[-655.651, -653.5817, -654.66907, -655.0482, ...</td>\n",
              "      <td>0</td>\n",
              "      <td>กระชาย</td>\n",
              "    </tr>\n",
              "    <tr>\n",
              "      <th>...</th>\n",
              "      <td>...</td>\n",
              "      <td>...</td>\n",
              "      <td>...</td>\n",
              "      <td>...</td>\n",
              "      <td>...</td>\n",
              "    </tr>\n",
              "    <tr>\n",
              "      <th>654</th>\n",
              "      <td>[-0.00018310547, -0.0002593994, -0.00022888184...</td>\n",
              "      <td>22050</td>\n",
              "      <td>[[-662.2502, -662.54706, -661.8858, -660.38995...</td>\n",
              "      <td>32</td>\n",
              "      <td>สับปะรด</td>\n",
              "    </tr>\n",
              "    <tr>\n",
              "      <th>655</th>\n",
              "      <td>[-0.00019836426, -0.0002593994, -7.6293945e-05...</td>\n",
              "      <td>22050</td>\n",
              "      <td>[[-655.92065, -656.85034, -655.4548, -653.7831...</td>\n",
              "      <td>32</td>\n",
              "      <td>สับปะรด</td>\n",
              "    </tr>\n",
              "    <tr>\n",
              "      <th>656</th>\n",
              "      <td>[-0.00016784668, -0.00015258789, -0.0001983642...</td>\n",
              "      <td>22050</td>\n",
              "      <td>[[-668.4974, -670.4946, -672.10724, -671.17737...</td>\n",
              "      <td>32</td>\n",
              "      <td>สับปะรด</td>\n",
              "    </tr>\n",
              "    <tr>\n",
              "      <th>657</th>\n",
              "      <td>[-0.00018310547, -0.0002593994, -0.00021362305...</td>\n",
              "      <td>22050</td>\n",
              "      <td>[[-670.37274, -672.49, -674.93616, -677.3624, ...</td>\n",
              "      <td>32</td>\n",
              "      <td>สับปะรด</td>\n",
              "    </tr>\n",
              "    <tr>\n",
              "      <th>658</th>\n",
              "      <td>[0.0, 0.0, 1.5258789e-05, 0.0, 3.0517578e-05, ...</td>\n",
              "      <td>22050</td>\n",
              "      <td>[[-665.2395, -667.56616, -666.0286, -661.08685...</td>\n",
              "      <td>32</td>\n",
              "      <td>สับปะรด</td>\n",
              "    </tr>\n",
              "  </tbody>\n",
              "</table>\n",
              "<p>659 rows × 5 columns</p>\n",
              "</div>"
            ],
            "text/plain": [
              "                                            audio_time  ...  description\n",
              "0    [-0.0002593994, -0.00022888184, -0.0002593994,...  ...       กระชาย\n",
              "1    [1.5258789e-05, -3.0517578e-05, 4.5776367e-05,...  ...       กระชาย\n",
              "2    [-0.004928589, -0.0049591064, -0.0048980713, -...  ...       กระชาย\n",
              "3    [1.5258789e-05, -3.0517578e-05, 6.1035156e-05,...  ...       กระชาย\n",
              "4    [-0.0001373291, -0.00018310547, -4.5776367e-05...  ...       กระชาย\n",
              "..                                                 ...  ...          ...\n",
              "654  [-0.00018310547, -0.0002593994, -0.00022888184...  ...      สับปะรด\n",
              "655  [-0.00019836426, -0.0002593994, -7.6293945e-05...  ...      สับปะรด\n",
              "656  [-0.00016784668, -0.00015258789, -0.0001983642...  ...      สับปะรด\n",
              "657  [-0.00018310547, -0.0002593994, -0.00021362305...  ...      สับปะรด\n",
              "658  [0.0, 0.0, 1.5258789e-05, 0.0, 3.0517578e-05, ...  ...      สับปะรด\n",
              "\n",
              "[659 rows x 5 columns]"
            ]
          },
          "metadata": {
            "tags": []
          },
          "execution_count": 38
        }
      ]
    },
    {
      "cell_type": "code",
      "metadata": {
        "id": "77wMVqve6W8f"
      },
      "source": [
        "import tensorflow as tf\n",
        "from tensorflow import keras \n",
        "import numpy as np\n",
        "from sklearn.model_selection import train_test_split\n",
        "\n",
        "X = np.array(source['feature_extraction'])\n",
        "y = np.array(source['label'])\n",
        "\n",
        "X_train, X_test, y_train, y_test = train_test_split(X,y,test_size=0.25)\n",
        "\n",
        "model = keras.Sequential()\n",
        "model.add(keras.layers.Conv2D(64, 5, input_shape=(13, 259, 1), activation='relu'))\n",
        "model.add(keras.layers.Dropout(0.25))\n",
        "model.add(keras.layers.MaxPool2D())\n",
        "model.add(keras.layers.Conv2D(64, 5, activation='relu',padding='same'))\n",
        "model.add(keras.layers.Dropout(0.25))\n",
        "model.add(keras.layers.MaxPool2D())\n",
        "model.add(keras.layers.Flatten())\n",
        "model.add(keras.layers.Dense(128, activation='relu'))\n",
        "model.add(keras.layers.Dropout(0.5))\n",
        "model.add(keras.layers.Dense(len(np.unique(source['label'])), activation='softmax'))\n",
        "model.compile(optimizer='adam', loss='sparse_categorical_crossentropy', metrics=['accuracy'])"
      ],
      "id": "77wMVqve6W8f",
      "execution_count": 39,
      "outputs": []
    },
    {
      "cell_type": "code",
      "metadata": {
        "id": "DrzsDngAedYi",
        "colab": {
          "base_uri": "https://localhost:8080/"
        },
        "outputId": "07c6f0d2-83e0-4786-a436-099d47c707a9"
      },
      "source": [
        "# # Cumulative Frequency of label y_test\n",
        "# from collections import Counter\n",
        "# Counter(y_test)\n",
        "\n",
        "# Showing label are used in testing model. \n",
        "np.unique(y_test)"
      ],
      "id": "DrzsDngAedYi",
      "execution_count": 40,
      "outputs": [
        {
          "output_type": "execute_result",
          "data": {
            "text/plain": [
              "array([ 0,  1,  2,  3,  4,  5,  6,  7,  8,  9, 10, 11, 12, 13, 14, 15, 16,\n",
              "       17, 18, 19, 20, 21, 22, 23, 24, 25, 26, 27, 28, 29, 30, 31, 32])"
            ]
          },
          "metadata": {
            "tags": []
          },
          "execution_count": 40
        }
      ]
    },
    {
      "cell_type": "code",
      "metadata": {
        "colab": {
          "base_uri": "https://localhost:8080/"
        },
        "id": "J_fPsi8o62or",
        "outputId": "af583ef0-3a32-4b8b-8a2c-6f67371c68a3"
      },
      "source": [
        "model.fit(X_train[:,:,:,None], y_train, epochs=100)"
      ],
      "id": "J_fPsi8o62or",
      "execution_count": 41,
      "outputs": [
        {
          "output_type": "stream",
          "text": [
            "Epoch 1/100\n",
            "16/16 [==============================] - 1s 10ms/step - loss: 30.3935 - accuracy: 0.0344\n",
            "Epoch 2/100\n",
            "16/16 [==============================] - 0s 10ms/step - loss: 3.4526 - accuracy: 0.0405\n",
            "Epoch 3/100\n",
            "16/16 [==============================] - 0s 8ms/step - loss: 3.2684 - accuracy: 0.0769\n",
            "Epoch 4/100\n",
            "16/16 [==============================] - 0s 8ms/step - loss: 2.7816 - accuracy: 0.2267\n",
            "Epoch 5/100\n",
            "16/16 [==============================] - 0s 8ms/step - loss: 2.2942 - accuracy: 0.3644\n",
            "Epoch 6/100\n",
            "16/16 [==============================] - 0s 8ms/step - loss: 1.8968 - accuracy: 0.4332\n",
            "Epoch 7/100\n",
            "16/16 [==============================] - 0s 8ms/step - loss: 1.6806 - accuracy: 0.5202\n",
            "Epoch 8/100\n",
            "16/16 [==============================] - 0s 8ms/step - loss: 1.3753 - accuracy: 0.5789\n",
            "Epoch 9/100\n",
            "16/16 [==============================] - 0s 8ms/step - loss: 1.1587 - accuracy: 0.6700\n",
            "Epoch 10/100\n",
            "16/16 [==============================] - 0s 8ms/step - loss: 0.9482 - accuracy: 0.7065\n",
            "Epoch 11/100\n",
            "16/16 [==============================] - 0s 8ms/step - loss: 0.7980 - accuracy: 0.7490\n",
            "Epoch 12/100\n",
            "16/16 [==============================] - 0s 8ms/step - loss: 0.6691 - accuracy: 0.7753\n",
            "Epoch 13/100\n",
            "16/16 [==============================] - 0s 8ms/step - loss: 0.5313 - accuracy: 0.8381\n",
            "Epoch 14/100\n",
            "16/16 [==============================] - 0s 8ms/step - loss: 0.5011 - accuracy: 0.8441\n",
            "Epoch 15/100\n",
            "16/16 [==============================] - 0s 8ms/step - loss: 0.4538 - accuracy: 0.8502\n",
            "Epoch 16/100\n",
            "16/16 [==============================] - 0s 8ms/step - loss: 0.4885 - accuracy: 0.8522\n",
            "Epoch 17/100\n",
            "16/16 [==============================] - 0s 8ms/step - loss: 0.4817 - accuracy: 0.8381\n",
            "Epoch 18/100\n",
            "16/16 [==============================] - 0s 8ms/step - loss: 0.3334 - accuracy: 0.8947\n",
            "Epoch 19/100\n",
            "16/16 [==============================] - 0s 8ms/step - loss: 0.3920 - accuracy: 0.8563\n",
            "Epoch 20/100\n",
            "16/16 [==============================] - 0s 8ms/step - loss: 0.4204 - accuracy: 0.8684\n",
            "Epoch 21/100\n",
            "16/16 [==============================] - 0s 8ms/step - loss: 0.4225 - accuracy: 0.8765\n",
            "Epoch 22/100\n",
            "16/16 [==============================] - 0s 8ms/step - loss: 0.3630 - accuracy: 0.8725\n",
            "Epoch 23/100\n",
            "16/16 [==============================] - 0s 8ms/step - loss: 0.3067 - accuracy: 0.9028\n",
            "Epoch 24/100\n",
            "16/16 [==============================] - 0s 8ms/step - loss: 0.1979 - accuracy: 0.9312\n",
            "Epoch 25/100\n",
            "16/16 [==============================] - 0s 8ms/step - loss: 0.1676 - accuracy: 0.9494\n",
            "Epoch 26/100\n",
            "16/16 [==============================] - 0s 8ms/step - loss: 0.1652 - accuracy: 0.9555\n",
            "Epoch 27/100\n",
            "16/16 [==============================] - 0s 8ms/step - loss: 0.1691 - accuracy: 0.9433\n",
            "Epoch 28/100\n",
            "16/16 [==============================] - 0s 8ms/step - loss: 0.2077 - accuracy: 0.9332\n",
            "Epoch 29/100\n",
            "16/16 [==============================] - 0s 8ms/step - loss: 0.2292 - accuracy: 0.9312\n",
            "Epoch 30/100\n",
            "16/16 [==============================] - 0s 8ms/step - loss: 0.2191 - accuracy: 0.9332\n",
            "Epoch 31/100\n",
            "16/16 [==============================] - 0s 8ms/step - loss: 0.1686 - accuracy: 0.9453\n",
            "Epoch 32/100\n",
            "16/16 [==============================] - 0s 8ms/step - loss: 0.2210 - accuracy: 0.9332\n",
            "Epoch 33/100\n",
            "16/16 [==============================] - 0s 8ms/step - loss: 0.1404 - accuracy: 0.9453\n",
            "Epoch 34/100\n",
            "16/16 [==============================] - 0s 8ms/step - loss: 0.1865 - accuracy: 0.9433\n",
            "Epoch 35/100\n",
            "16/16 [==============================] - 0s 8ms/step - loss: 0.1925 - accuracy: 0.9372\n",
            "Epoch 36/100\n",
            "16/16 [==============================] - 0s 9ms/step - loss: 0.1729 - accuracy: 0.9534\n",
            "Epoch 37/100\n",
            "16/16 [==============================] - 0s 8ms/step - loss: 0.1677 - accuracy: 0.9393\n",
            "Epoch 38/100\n",
            "16/16 [==============================] - 0s 8ms/step - loss: 0.1963 - accuracy: 0.9271\n",
            "Epoch 39/100\n",
            "16/16 [==============================] - 0s 8ms/step - loss: 0.1972 - accuracy: 0.9413\n",
            "Epoch 40/100\n",
            "16/16 [==============================] - 0s 8ms/step - loss: 0.1532 - accuracy: 0.9494\n",
            "Epoch 41/100\n",
            "16/16 [==============================] - 0s 8ms/step - loss: 0.1859 - accuracy: 0.9332\n",
            "Epoch 42/100\n",
            "16/16 [==============================] - 0s 8ms/step - loss: 0.1681 - accuracy: 0.9453\n",
            "Epoch 43/100\n",
            "16/16 [==============================] - 0s 8ms/step - loss: 0.1711 - accuracy: 0.9413\n",
            "Epoch 44/100\n",
            "16/16 [==============================] - 0s 8ms/step - loss: 0.1112 - accuracy: 0.9676\n",
            "Epoch 45/100\n",
            "16/16 [==============================] - 0s 8ms/step - loss: 0.1607 - accuracy: 0.9534\n",
            "Epoch 46/100\n",
            "16/16 [==============================] - 0s 8ms/step - loss: 0.0970 - accuracy: 0.9696\n",
            "Epoch 47/100\n",
            "16/16 [==============================] - 0s 8ms/step - loss: 0.1041 - accuracy: 0.9636\n",
            "Epoch 48/100\n",
            "16/16 [==============================] - 0s 8ms/step - loss: 0.1562 - accuracy: 0.9615\n",
            "Epoch 49/100\n",
            "16/16 [==============================] - 0s 8ms/step - loss: 0.1370 - accuracy: 0.9514\n",
            "Epoch 50/100\n",
            "16/16 [==============================] - 0s 8ms/step - loss: 0.1242 - accuracy: 0.9494\n",
            "Epoch 51/100\n",
            "16/16 [==============================] - 0s 8ms/step - loss: 0.2086 - accuracy: 0.9474\n",
            "Epoch 52/100\n",
            "16/16 [==============================] - 0s 8ms/step - loss: 0.2097 - accuracy: 0.9433\n",
            "Epoch 53/100\n",
            "16/16 [==============================] - 0s 8ms/step - loss: 0.1610 - accuracy: 0.9433\n",
            "Epoch 54/100\n",
            "16/16 [==============================] - 0s 8ms/step - loss: 0.1435 - accuracy: 0.9494\n",
            "Epoch 55/100\n",
            "16/16 [==============================] - 0s 8ms/step - loss: 0.2150 - accuracy: 0.9453\n",
            "Epoch 56/100\n",
            "16/16 [==============================] - 0s 8ms/step - loss: 0.1798 - accuracy: 0.9474\n",
            "Epoch 57/100\n",
            "16/16 [==============================] - 0s 8ms/step - loss: 0.2623 - accuracy: 0.9352\n",
            "Epoch 58/100\n",
            "16/16 [==============================] - 0s 8ms/step - loss: 0.1841 - accuracy: 0.9474\n",
            "Epoch 59/100\n",
            "16/16 [==============================] - 0s 8ms/step - loss: 0.2560 - accuracy: 0.9312\n",
            "Epoch 60/100\n",
            "16/16 [==============================] - 0s 8ms/step - loss: 0.1855 - accuracy: 0.9312\n",
            "Epoch 61/100\n",
            "16/16 [==============================] - 0s 8ms/step - loss: 0.1381 - accuracy: 0.9615\n",
            "Epoch 62/100\n",
            "16/16 [==============================] - 0s 9ms/step - loss: 0.2015 - accuracy: 0.9413\n",
            "Epoch 63/100\n",
            "16/16 [==============================] - 0s 8ms/step - loss: 0.1904 - accuracy: 0.9514\n",
            "Epoch 64/100\n",
            "16/16 [==============================] - 0s 8ms/step - loss: 0.1592 - accuracy: 0.9595\n",
            "Epoch 65/100\n",
            "16/16 [==============================] - 0s 8ms/step - loss: 0.1303 - accuracy: 0.9595\n",
            "Epoch 66/100\n",
            "16/16 [==============================] - 0s 8ms/step - loss: 0.1181 - accuracy: 0.9636\n",
            "Epoch 67/100\n",
            "16/16 [==============================] - 0s 8ms/step - loss: 0.0743 - accuracy: 0.9777\n",
            "Epoch 68/100\n",
            "16/16 [==============================] - 0s 8ms/step - loss: 0.0694 - accuracy: 0.9757\n",
            "Epoch 69/100\n",
            "16/16 [==============================] - 0s 8ms/step - loss: 0.1046 - accuracy: 0.9676\n",
            "Epoch 70/100\n",
            "16/16 [==============================] - 0s 8ms/step - loss: 0.1027 - accuracy: 0.9696\n",
            "Epoch 71/100\n",
            "16/16 [==============================] - 0s 8ms/step - loss: 0.0883 - accuracy: 0.9737\n",
            "Epoch 72/100\n",
            "16/16 [==============================] - 0s 8ms/step - loss: 0.0805 - accuracy: 0.9656\n",
            "Epoch 73/100\n",
            "16/16 [==============================] - 0s 8ms/step - loss: 0.0571 - accuracy: 0.9757\n",
            "Epoch 74/100\n",
            "16/16 [==============================] - 0s 8ms/step - loss: 0.0687 - accuracy: 0.9737\n",
            "Epoch 75/100\n",
            "16/16 [==============================] - 0s 8ms/step - loss: 0.0813 - accuracy: 0.9757\n",
            "Epoch 76/100\n",
            "16/16 [==============================] - 0s 8ms/step - loss: 0.0847 - accuracy: 0.9798\n",
            "Epoch 77/100\n",
            "16/16 [==============================] - 0s 8ms/step - loss: 0.0480 - accuracy: 0.9818\n",
            "Epoch 78/100\n",
            "16/16 [==============================] - 0s 7ms/step - loss: 0.1058 - accuracy: 0.9676\n",
            "Epoch 79/100\n",
            "16/16 [==============================] - 0s 8ms/step - loss: 0.1607 - accuracy: 0.9636\n",
            "Epoch 80/100\n",
            "16/16 [==============================] - 0s 9ms/step - loss: 0.1538 - accuracy: 0.9555\n",
            "Epoch 81/100\n",
            "16/16 [==============================] - 0s 8ms/step - loss: 0.1484 - accuracy: 0.9514\n",
            "Epoch 82/100\n",
            "16/16 [==============================] - 0s 8ms/step - loss: 0.1432 - accuracy: 0.9615\n",
            "Epoch 83/100\n",
            "16/16 [==============================] - 0s 8ms/step - loss: 0.1455 - accuracy: 0.9676\n",
            "Epoch 84/100\n",
            "16/16 [==============================] - 0s 8ms/step - loss: 0.0993 - accuracy: 0.9595\n",
            "Epoch 85/100\n",
            "16/16 [==============================] - 0s 8ms/step - loss: 0.0827 - accuracy: 0.9676\n",
            "Epoch 86/100\n",
            "16/16 [==============================] - 0s 8ms/step - loss: 0.1142 - accuracy: 0.9676\n",
            "Epoch 87/100\n",
            "16/16 [==============================] - 0s 8ms/step - loss: 0.1207 - accuracy: 0.9636\n",
            "Epoch 88/100\n",
            "16/16 [==============================] - 0s 8ms/step - loss: 0.0881 - accuracy: 0.9777\n",
            "Epoch 89/100\n",
            "16/16 [==============================] - 0s 8ms/step - loss: 0.0664 - accuracy: 0.9737\n",
            "Epoch 90/100\n",
            "16/16 [==============================] - 0s 8ms/step - loss: 0.1281 - accuracy: 0.9555\n",
            "Epoch 91/100\n",
            "16/16 [==============================] - 0s 8ms/step - loss: 0.1235 - accuracy: 0.9696\n",
            "Epoch 92/100\n",
            "16/16 [==============================] - 0s 8ms/step - loss: 0.1079 - accuracy: 0.9656\n",
            "Epoch 93/100\n",
            "16/16 [==============================] - 0s 8ms/step - loss: 0.1132 - accuracy: 0.9656\n",
            "Epoch 94/100\n",
            "16/16 [==============================] - 0s 8ms/step - loss: 0.2491 - accuracy: 0.9332\n",
            "Epoch 95/100\n",
            "16/16 [==============================] - 0s 8ms/step - loss: 0.2232 - accuracy: 0.9474\n",
            "Epoch 96/100\n",
            "16/16 [==============================] - 0s 8ms/step - loss: 0.1636 - accuracy: 0.9514\n",
            "Epoch 97/100\n",
            "16/16 [==============================] - 0s 8ms/step - loss: 0.1747 - accuracy: 0.9453\n",
            "Epoch 98/100\n",
            "16/16 [==============================] - 0s 8ms/step - loss: 0.1834 - accuracy: 0.9555\n",
            "Epoch 99/100\n",
            "16/16 [==============================] - 0s 8ms/step - loss: 0.1915 - accuracy: 0.9433\n",
            "Epoch 100/100\n",
            "16/16 [==============================] - 0s 8ms/step - loss: 0.1581 - accuracy: 0.9696\n"
          ],
          "name": "stdout"
        },
        {
          "output_type": "execute_result",
          "data": {
            "text/plain": [
              "<tensorflow.python.keras.callbacks.History at 0x7f4d780fd9d0>"
            ]
          },
          "metadata": {
            "tags": []
          },
          "execution_count": 41
        }
      ]
    },
    {
      "cell_type": "code",
      "metadata": {
        "id": "S-z2fH0cHvVc",
        "colab": {
          "base_uri": "https://localhost:8080/"
        },
        "outputId": "db3a2f92-04c1-45e7-f56f-21083a522816"
      },
      "source": [
        "model.summary()"
      ],
      "id": "S-z2fH0cHvVc",
      "execution_count": 42,
      "outputs": [
        {
          "output_type": "stream",
          "text": [
            "Model: \"sequential_4\"\n",
            "_________________________________________________________________\n",
            "Layer (type)                 Output Shape              Param #   \n",
            "=================================================================\n",
            "conv2d_8 (Conv2D)            (None, 9, 255, 64)        1664      \n",
            "_________________________________________________________________\n",
            "dropout_12 (Dropout)         (None, 9, 255, 64)        0         \n",
            "_________________________________________________________________\n",
            "max_pooling2d_8 (MaxPooling2 (None, 4, 127, 64)        0         \n",
            "_________________________________________________________________\n",
            "conv2d_9 (Conv2D)            (None, 4, 127, 64)        102464    \n",
            "_________________________________________________________________\n",
            "dropout_13 (Dropout)         (None, 4, 127, 64)        0         \n",
            "_________________________________________________________________\n",
            "max_pooling2d_9 (MaxPooling2 (None, 2, 63, 64)         0         \n",
            "_________________________________________________________________\n",
            "flatten_4 (Flatten)          (None, 8064)              0         \n",
            "_________________________________________________________________\n",
            "dense_8 (Dense)              (None, 128)               1032320   \n",
            "_________________________________________________________________\n",
            "dropout_14 (Dropout)         (None, 128)               0         \n",
            "_________________________________________________________________\n",
            "dense_9 (Dense)              (None, 33)                4257      \n",
            "=================================================================\n",
            "Total params: 1,140,705\n",
            "Trainable params: 1,140,705\n",
            "Non-trainable params: 0\n",
            "_________________________________________________________________\n"
          ],
          "name": "stdout"
        }
      ]
    },
    {
      "cell_type": "code",
      "metadata": {
        "colab": {
          "base_uri": "https://localhost:8080/"
        },
        "id": "ZQ4n8wAmB9ZX",
        "outputId": "add53389-9013-4207-bf3f-b70c74f2c545"
      },
      "source": [
        "model.evaluate(X_test[:,:,:,None],y_test)"
      ],
      "id": "ZQ4n8wAmB9ZX",
      "execution_count": 43,
      "outputs": [
        {
          "output_type": "stream",
          "text": [
            "6/6 [==============================] - 0s 4ms/step - loss: 0.2086 - accuracy: 0.9636\n"
          ],
          "name": "stdout"
        },
        {
          "output_type": "execute_result",
          "data": {
            "text/plain": [
              "[0.2085624635219574, 0.9636363387107849]"
            ]
          },
          "metadata": {
            "tags": []
          },
          "execution_count": 43
        }
      ]
    },
    {
      "cell_type": "code",
      "metadata": {
        "id": "wFbKdWsMkDuw",
        "colab": {
          "base_uri": "https://localhost:8080/"
        },
        "outputId": "cb85b3a0-e6a7-4572-8460-92fde765f902"
      },
      "source": [
        "from sklearn.metrics import classification_report\n",
        "\n",
        "predicted_classes = np.argmax(np.round(model.predict(X_test[:,:,:,None])),axis=1)\n",
        "target_names = [\"Class {}\".format(i) for i in range(len(np.unique(source['label'])))]\n",
        "print(classification_report(y_test, predicted_classes, target_names=target_names))"
      ],
      "id": "wFbKdWsMkDuw",
      "execution_count": 44,
      "outputs": [
        {
          "output_type": "stream",
          "text": [
            "              precision    recall  f1-score   support\n",
            "\n",
            "     Class 0       0.86      1.00      0.92         6\n",
            "     Class 1       1.00      1.00      1.00         3\n",
            "     Class 2       1.00      1.00      1.00         2\n",
            "     Class 3       0.89      0.89      0.89         9\n",
            "     Class 4       1.00      1.00      1.00         8\n",
            "     Class 5       1.00      1.00      1.00         3\n",
            "     Class 6       0.86      1.00      0.92         6\n",
            "     Class 7       0.86      1.00      0.92         6\n",
            "     Class 8       1.00      1.00      1.00         8\n",
            "     Class 9       1.00      1.00      1.00         4\n",
            "    Class 10       1.00      1.00      1.00         3\n",
            "    Class 11       1.00      1.00      1.00         6\n",
            "    Class 12       1.00      1.00      1.00         4\n",
            "    Class 13       0.75      1.00      0.86         3\n",
            "    Class 14       1.00      1.00      1.00         4\n",
            "    Class 15       1.00      1.00      1.00         4\n",
            "    Class 16       0.80      1.00      0.89         4\n",
            "    Class 17       1.00      1.00      1.00         2\n",
            "    Class 18       1.00      1.00      1.00         6\n",
            "    Class 19       1.00      0.50      0.67         4\n",
            "    Class 20       1.00      1.00      1.00         4\n",
            "    Class 21       1.00      0.91      0.95        11\n",
            "    Class 22       1.00      1.00      1.00         2\n",
            "    Class 23       1.00      1.00      1.00         4\n",
            "    Class 24       1.00      1.00      1.00         5\n",
            "    Class 25       1.00      0.88      0.93         8\n",
            "    Class 26       1.00      1.00      1.00         2\n",
            "    Class 27       1.00      1.00      1.00         6\n",
            "    Class 28       1.00      1.00      1.00         6\n",
            "    Class 29       1.00      0.89      0.94         9\n",
            "    Class 30       1.00      1.00      1.00         4\n",
            "    Class 31       1.00      1.00      1.00         3\n",
            "    Class 32       1.00      1.00      1.00         6\n",
            "\n",
            "    accuracy                           0.96       165\n",
            "   macro avg       0.97      0.97      0.97       165\n",
            "weighted avg       0.97      0.96      0.96       165\n",
            "\n"
          ],
          "name": "stdout"
        }
      ]
    }
  ]
}