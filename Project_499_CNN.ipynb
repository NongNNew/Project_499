{
  "nbformat": 4,
  "nbformat_minor": 5,
  "metadata": {
    "colab": {
      "name": "Project_499_CNN.ipynb",
      "provenance": [],
      "collapsed_sections": [],
      "machine_shape": "hm",
      "include_colab_link": true
    },
    "kernelspec": {
      "display_name": "Python 3",
      "language": "python",
      "name": "python3"
    },
    "language_info": {
      "codemirror_mode": {
        "name": "ipython",
        "version": 3
      },
      "file_extension": ".py",
      "mimetype": "text/x-python",
      "name": "python",
      "nbconvert_exporter": "python",
      "pygments_lexer": "ipython3",
      "version": "3.8.8"
    },
    "accelerator": "GPU"
  },
  "cells": [
    {
      "cell_type": "markdown",
      "metadata": {
        "id": "view-in-github",
        "colab_type": "text"
      },
      "source": [
        "<a href=\"https://colab.research.google.com/github/NongNNew/Project_499/blob/main/Project_499_CNN.ipynb\" target=\"_parent\"><img src=\"https://colab.research.google.com/assets/colab-badge.svg\" alt=\"Open In Colab\"/></a>"
      ]
    },
    {
      "cell_type": "markdown",
      "metadata": {
        "id": "hW4AHGmEVrk8"
      },
      "source": [
        "# **CNN**"
      ],
      "id": "hW4AHGmEVrk8"
    },
    {
      "cell_type": "markdown",
      "metadata": {
        "id": "nkYRb02rScfH"
      },
      "source": [
        "## Setup"
      ],
      "id": "nkYRb02rScfH"
    },
    {
      "cell_type": "code",
      "metadata": {
        "colab": {
          "base_uri": "https://localhost:8080/"
        },
        "id": "Nq11bNFAbCci",
        "outputId": "5825a72d-a4d2-4f10-eb9c-8aa1e7577b0e"
      },
      "source": [
        "!pip install python_speech_features"
      ],
      "id": "Nq11bNFAbCci",
      "execution_count": 97,
      "outputs": [
        {
          "output_type": "stream",
          "name": "stdout",
          "text": [
            "Requirement already satisfied: python_speech_features in /usr/local/lib/python3.7/dist-packages (0.6)\n"
          ]
        }
      ]
    },
    {
      "cell_type": "code",
      "metadata": {
        "id": "fssuU2ucR1vy"
      },
      "source": [
        "import librosa\n",
        "import numpy as np\n",
        "import pandas as pd\n",
        "from glob import glob\n",
        "import tensorflow as tf\n",
        "from tensorflow import keras \n",
        "import python_speech_features\n",
        "import matplotlib.pyplot as plt\n",
        "from scipy.signal.windows import hamming\n",
        "from sklearn.metrics import classification_report"
      ],
      "id": "fssuU2ucR1vy",
      "execution_count": 98,
      "outputs": []
    },
    {
      "cell_type": "code",
      "metadata": {
        "id": "y1vuUlgJSKkC"
      },
      "source": [
        "np.random.seed(1)\n",
        "tf.random.set_seed(1)"
      ],
      "id": "y1vuUlgJSKkC",
      "execution_count": 99,
      "outputs": []
    },
    {
      "cell_type": "code",
      "metadata": {
        "colab": {
          "base_uri": "https://localhost:8080/"
        },
        "id": "gJVdtdww87RO",
        "outputId": "b3d54d01-63a8-4242-b027-15e8e5ac0d1c"
      },
      "source": [
        "# Upload audio files from github\n",
        "!git clone https://github.com/NongNNew/Project_499.git"
      ],
      "id": "gJVdtdww87RO",
      "execution_count": 100,
      "outputs": [
        {
          "output_type": "stream",
          "name": "stdout",
          "text": [
            "fatal: destination path 'Project_499' already exists and is not an empty directory.\n"
          ]
        }
      ]
    },
    {
      "cell_type": "markdown",
      "metadata": {
        "id": "BRWP2IrOShCH"
      },
      "source": [
        "## Prepare dataset"
      ],
      "id": "BRWP2IrOShCH"
    },
    {
      "cell_type": "code",
      "metadata": {
        "id": "EHnDUT5YejVV"
      },
      "source": [
        "# Name of vegetables and fruits 52 types of 56 classes\n",
        "fruit_veget = ['กระชาย','กระท้อน','กระเทียม1','กระเทียม2','กระเพรา','กล้วยน้ำว้า','กล้วยหอม',\n",
        "               'ข้าวโพด','ไข่น้ำ',\n",
        "               'ตะขบไทย','ตะไคร้',\n",
        "               'ถั่วฝักยาว','ถั่วลันเตา','ถั่วลิสง',\n",
        "               'ทับทิม',\n",
        "               'น้อยหน่า','น้ำเต้า',\n",
        "               'ผักกระเฉด','ผักกุยช่าย','ผักขึ้นช่าย','ผักชะอม','ผักชี','ผักชีฝรั่ง','ผักตำลึง',\n",
        "               'มะปราง','มะพลับ','มะละกอ','มะกรูด','มะเขือพวง','มะเขือเทศ','มะระ','มะรุม','มะตูม','มันแกว1','มันแกว2','มันเทศ','มันฝรั่ง','มันสำปะหลัง',\n",
        "               'บวบ','ใบชะพลู1','ใบชะพลู2','ใบบัวบก','ใบแมงลัก','ใบยอ',\n",
        "               'พริกขี้หนู','พริกสด','พุทรา','เพกา',\n",
        "               'ฝรั่ง',\n",
        "               'ฟัก','ฟักทอง',\n",
        "               'สับปะรด','สะเดา','สะระแหน่',\n",
        "               'หัวหอม1','หัวหอม2']\n",
        "\n",
        "# Audio data source\n",
        "source = {'audio_time':[],\n",
        "          'sampling_rate':[],\n",
        "          'feature_extraction':[],\n",
        "          'label':[],\n",
        "          'description':[]}"
      ],
      "id": "EHnDUT5YejVV",
      "execution_count": 101,
      "outputs": []
    },
    {
      "cell_type": "code",
      "metadata": {
        "id": "_XRqKtGBeW_1"
      },
      "source": [
        "def feature_mfcc(y,sr):\n",
        "    return (python_speech_features.mfcc(signal=y, \n",
        "                                    samplerate=sr, \n",
        "                                    winlen= 512/sr, \n",
        "                                    winstep= 160/sr,\n",
        "                                    numcep= 13,\n",
        "                                    nfilt= 40, \n",
        "                                    nfft= 512,\n",
        "                                    lowfreq= 0,\n",
        "                                    highfreq= None,\n",
        "                                    preemph= 0.97, \n",
        "                                    ceplifter= 0,\n",
        "                                    winfunc= hamming))"
      ],
      "id": "_XRqKtGBeW_1",
      "execution_count": 102,
      "outputs": []
    },
    {
      "cell_type": "code",
      "metadata": {
        "id": "tixApnAUy5tv"
      },
      "source": [
        "for types in fruit_veget:\n",
        "    audio_files = glob('/content/Project_499/Record_audio/' + str(types) + '/*.wav')\n",
        "\n",
        "    for audio in audio_files:\n",
        "        y,sr = librosa.load(audio,duration=5,offset=0)\n",
        "        source['description'].append(str(types))\n",
        "        source['audio_time'].append(y)\n",
        "        source['sampling_rate'].append(sr)\n",
        "        source['feature_extraction'].append(feature_mfcc(y,sr))\n",
        "        source['label'].append(fruit_veget.index(types))"
      ],
      "id": "tixApnAUy5tv",
      "execution_count": 103,
      "outputs": []
    },
    {
      "cell_type": "code",
      "metadata": {
        "colab": {
          "base_uri": "https://localhost:8080/",
          "height": 417
        },
        "id": "8B6cSV4Ckude",
        "outputId": "9239344f-ec01-4441-bfa5-aec9ad7ae1dc"
      },
      "source": [
        "# tranform dictionary to dataframe \n",
        "df = pd.DataFrame.from_dict(source)\n",
        "df"
      ],
      "id": "8B6cSV4Ckude",
      "execution_count": 104,
      "outputs": [
        {
          "output_type": "execute_result",
          "data": {
            "text/html": [
              "<div>\n",
              "<style scoped>\n",
              "    .dataframe tbody tr th:only-of-type {\n",
              "        vertical-align: middle;\n",
              "    }\n",
              "\n",
              "    .dataframe tbody tr th {\n",
              "        vertical-align: top;\n",
              "    }\n",
              "\n",
              "    .dataframe thead th {\n",
              "        text-align: right;\n",
              "    }\n",
              "</style>\n",
              "<table border=\"1\" class=\"dataframe\">\n",
              "  <thead>\n",
              "    <tr style=\"text-align: right;\">\n",
              "      <th></th>\n",
              "      <th>audio_time</th>\n",
              "      <th>sampling_rate</th>\n",
              "      <th>feature_extraction</th>\n",
              "      <th>label</th>\n",
              "      <th>description</th>\n",
              "    </tr>\n",
              "  </thead>\n",
              "  <tbody>\n",
              "    <tr>\n",
              "      <th>0</th>\n",
              "      <td>[1.5258789e-05, -3.0517578e-05, 6.1035156e-05,...</td>\n",
              "      <td>22050</td>\n",
              "      <td>[[-14.225420647550473, -11.767209141048717, 0....</td>\n",
              "      <td>0</td>\n",
              "      <td>กระชาย</td>\n",
              "    </tr>\n",
              "    <tr>\n",
              "      <th>1</th>\n",
              "      <td>[-0.0002593994, -0.00021362305, -0.0002593994,...</td>\n",
              "      <td>22050</td>\n",
              "      <td>[[-13.887572338003839, -11.509363999125966, 0....</td>\n",
              "      <td>0</td>\n",
              "      <td>กระชาย</td>\n",
              "    </tr>\n",
              "    <tr>\n",
              "      <th>2</th>\n",
              "      <td>[0.0004119873, 0.00061035156, 0.0005340576, 0....</td>\n",
              "      <td>22050</td>\n",
              "      <td>[[-14.031458292064183, -9.719918182168303, 3.0...</td>\n",
              "      <td>0</td>\n",
              "      <td>กระชาย</td>\n",
              "    </tr>\n",
              "    <tr>\n",
              "      <th>3</th>\n",
              "      <td>[-7.6293945e-05, -0.00015258789, -0.0001068115...</td>\n",
              "      <td>22050</td>\n",
              "      <td>[[-13.963624272836848, -10.834306371234895, 4....</td>\n",
              "      <td>0</td>\n",
              "      <td>กระชาย</td>\n",
              "    </tr>\n",
              "    <tr>\n",
              "      <th>4</th>\n",
              "      <td>[0.00015258789, 0.00022888184, 0.00022888184, ...</td>\n",
              "      <td>22050</td>\n",
              "      <td>[[-14.047573650001652, -9.968297959506053, 3.3...</td>\n",
              "      <td>0</td>\n",
              "      <td>กระชาย</td>\n",
              "    </tr>\n",
              "    <tr>\n",
              "      <th>...</th>\n",
              "      <td>...</td>\n",
              "      <td>...</td>\n",
              "      <td>...</td>\n",
              "      <td>...</td>\n",
              "      <td>...</td>\n",
              "    </tr>\n",
              "    <tr>\n",
              "      <th>1115</th>\n",
              "      <td>[-0.0001373291, -0.00010681152, -0.00015258789...</td>\n",
              "      <td>22050</td>\n",
              "      <td>[[-13.96668688965529, -12.525809235665879, -1....</td>\n",
              "      <td>55</td>\n",
              "      <td>หัวหอม2</td>\n",
              "    </tr>\n",
              "    <tr>\n",
              "      <th>1116</th>\n",
              "      <td>[-0.00024414062, -0.0002746582, -0.00019836426...</td>\n",
              "      <td>22050</td>\n",
              "      <td>[[-14.30657814127106, -8.777075651980645, 2.11...</td>\n",
              "      <td>55</td>\n",
              "      <td>หัวหอม2</td>\n",
              "    </tr>\n",
              "    <tr>\n",
              "      <th>1117</th>\n",
              "      <td>[-7.6293945e-05, -9.1552734e-05, 0.0, 1.525878...</td>\n",
              "      <td>22050</td>\n",
              "      <td>[[-13.93405270581039, -11.744337964457122, 1.2...</td>\n",
              "      <td>55</td>\n",
              "      <td>หัวหอม2</td>\n",
              "    </tr>\n",
              "    <tr>\n",
              "      <th>1118</th>\n",
              "      <td>[1.5258789e-05, -3.0517578e-05, 3.0517578e-05,...</td>\n",
              "      <td>22050</td>\n",
              "      <td>[[-14.084828314988476, -10.714037501901071, -1...</td>\n",
              "      <td>55</td>\n",
              "      <td>หัวหอม2</td>\n",
              "    </tr>\n",
              "    <tr>\n",
              "      <th>1119</th>\n",
              "      <td>[-7.6293945e-05, -3.0517578e-05, 4.5776367e-05...</td>\n",
              "      <td>22050</td>\n",
              "      <td>[[-14.064456461828245, -10.130237156697339, 2....</td>\n",
              "      <td>55</td>\n",
              "      <td>หัวหอม2</td>\n",
              "    </tr>\n",
              "  </tbody>\n",
              "</table>\n",
              "<p>1120 rows × 5 columns</p>\n",
              "</div>"
            ],
            "text/plain": [
              "                                             audio_time  ...  description\n",
              "0     [1.5258789e-05, -3.0517578e-05, 6.1035156e-05,...  ...       กระชาย\n",
              "1     [-0.0002593994, -0.00021362305, -0.0002593994,...  ...       กระชาย\n",
              "2     [0.0004119873, 0.00061035156, 0.0005340576, 0....  ...       กระชาย\n",
              "3     [-7.6293945e-05, -0.00015258789, -0.0001068115...  ...       กระชาย\n",
              "4     [0.00015258789, 0.00022888184, 0.00022888184, ...  ...       กระชาย\n",
              "...                                                 ...  ...          ...\n",
              "1115  [-0.0001373291, -0.00010681152, -0.00015258789...  ...      หัวหอม2\n",
              "1116  [-0.00024414062, -0.0002746582, -0.00019836426...  ...      หัวหอม2\n",
              "1117  [-7.6293945e-05, -9.1552734e-05, 0.0, 1.525878...  ...      หัวหอม2\n",
              "1118  [1.5258789e-05, -3.0517578e-05, 3.0517578e-05,...  ...      หัวหอม2\n",
              "1119  [-7.6293945e-05, -3.0517578e-05, 4.5776367e-05...  ...      หัวหอม2\n",
              "\n",
              "[1120 rows x 5 columns]"
            ]
          },
          "metadata": {},
          "execution_count": 104
        }
      ]
    },
    {
      "cell_type": "code",
      "metadata": {
        "id": "T7yzW3hnmuyB"
      },
      "source": [
        "Test = pd.DataFrame(columns=source.keys())\n",
        "\n",
        "# Create test data\n",
        "\n",
        "for description in np.unique(df['description']):\n",
        "    imp_test = df[df['description']==description].sample(5,random_state=1)\n",
        "    Test = pd.concat([Test,imp_test], axis=0)\n",
        "Train = df.drop(Test.index)\n",
        "\n",
        "X_train = np.array(Train['feature_extraction'].to_list())\n",
        "X_test = np.array(Test['feature_extraction'].to_list())\n",
        "y_train = np.array(Train['label'].to_list())\n",
        "y_test = np.array(Test['label'].to_list())"
      ],
      "id": "T7yzW3hnmuyB",
      "execution_count": 105,
      "outputs": []
    },
    {
      "cell_type": "code",
      "metadata": {
        "colab": {
          "base_uri": "https://localhost:8080/"
        },
        "id": "mSV3u9RmEU7h",
        "outputId": "ce13d38b-d2ba-44d6-85ca-9379621d48db"
      },
      "source": [
        "# Proportion of data\n",
        "y_train.shape, y_test.shape"
      ],
      "id": "mSV3u9RmEU7h",
      "execution_count": 106,
      "outputs": [
        {
          "output_type": "execute_result",
          "data": {
            "text/plain": [
              "((840,), (280,))"
            ]
          },
          "metadata": {},
          "execution_count": 106
        }
      ]
    },
    {
      "cell_type": "markdown",
      "metadata": {
        "id": "r7RGaVViSrwg"
      },
      "source": [
        "## Build cnn model"
      ],
      "id": "r7RGaVViSrwg"
    },
    {
      "cell_type": "code",
      "metadata": {
        "id": "77wMVqve6W8f"
      },
      "source": [
        "def create_cnn_model(X_train):\n",
        "    np.random.seed(1)\n",
        "    tf.random.set_seed(1)\n",
        "    model = None\n",
        "    model = keras.Sequential()\n",
        "    model.add(keras.layers.Conv2D(128, 5, input_shape=(X_train.shape[1], X_train.shape[2], 1), activation='relu'))\n",
        "    model.add(keras.layers.Dropout(0.25))\n",
        "    model.add(keras.layers.MaxPool2D())\n",
        "    model.add(keras.layers.Conv2D(64, 5, activation='relu',padding='same'))\n",
        "    model.add(keras.layers.Dropout(0.25))\n",
        "    model.add(keras.layers.MaxPool2D())\n",
        "    model.add(keras.layers.Conv2D(64, 5, activation='relu',padding='same'))\n",
        "    model.add(keras.layers.Dropout(0.25))\n",
        "    model.add(keras.layers.MaxPool2D())\n",
        "    model.add(keras.layers.Flatten())\n",
        "    model.add(keras.layers.Dense(128, activation='relu'))\n",
        "    model.add(keras.layers.Dropout(0.25))\n",
        "    model.add(keras.layers.Dense(64, activation='relu'))\n",
        "    model.add(keras.layers.Dropout(0.25))\n",
        "    model.add(keras.layers.Dense(len(np.unique(df['label'])), activation='softmax'))\n",
        "    model.compile(optimizer='adam', loss='sparse_categorical_crossentropy', metrics=['accuracy'])\n",
        "\n",
        "    model.summary()\n",
        "\n",
        "    return model"
      ],
      "id": "77wMVqve6W8f",
      "execution_count": 132,
      "outputs": []
    },
    {
      "cell_type": "markdown",
      "metadata": {
        "id": "N_EPqJGnS7ng"
      },
      "source": [
        "## Train model"
      ],
      "id": "N_EPqJGnS7ng"
    },
    {
      "cell_type": "code",
      "metadata": {
        "id": "ngmfDNcnGMC7",
        "colab": {
          "base_uri": "https://localhost:8080/"
        },
        "outputId": "58427868-2921-44fe-acd4-a6e59fb9086d"
      },
      "source": [
        "# Train model\n",
        "model_cnn = create_cnn_model(X_train)\n",
        "history = model_cnn.fit(X_train[:,:,:,None], y_train, epochs=100, validation_data=(X_test[:,:,:,None],y_test),batch_size=80,verbose=0)"
      ],
      "id": "ngmfDNcnGMC7",
      "execution_count": 196,
      "outputs": [
        {
          "output_type": "stream",
          "name": "stdout",
          "text": [
            "Model: \"sequential_24\"\n",
            "_________________________________________________________________\n",
            "Layer (type)                 Output Shape              Param #   \n",
            "=================================================================\n",
            "conv2d_72 (Conv2D)           (None, 683, 9, 128)       3328      \n",
            "_________________________________________________________________\n",
            "dropout_120 (Dropout)        (None, 683, 9, 128)       0         \n",
            "_________________________________________________________________\n",
            "max_pooling2d_72 (MaxPooling (None, 341, 4, 128)       0         \n",
            "_________________________________________________________________\n",
            "conv2d_73 (Conv2D)           (None, 341, 4, 64)        204864    \n",
            "_________________________________________________________________\n",
            "dropout_121 (Dropout)        (None, 341, 4, 64)        0         \n",
            "_________________________________________________________________\n",
            "max_pooling2d_73 (MaxPooling (None, 170, 2, 64)        0         \n",
            "_________________________________________________________________\n",
            "conv2d_74 (Conv2D)           (None, 170, 2, 64)        102464    \n",
            "_________________________________________________________________\n",
            "dropout_122 (Dropout)        (None, 170, 2, 64)        0         \n",
            "_________________________________________________________________\n",
            "max_pooling2d_74 (MaxPooling (None, 85, 1, 64)         0         \n",
            "_________________________________________________________________\n",
            "flatten_24 (Flatten)         (None, 5440)              0         \n",
            "_________________________________________________________________\n",
            "dense_72 (Dense)             (None, 128)               696448    \n",
            "_________________________________________________________________\n",
            "dropout_123 (Dropout)        (None, 128)               0         \n",
            "_________________________________________________________________\n",
            "dense_73 (Dense)             (None, 64)                8256      \n",
            "_________________________________________________________________\n",
            "dropout_124 (Dropout)        (None, 64)                0         \n",
            "_________________________________________________________________\n",
            "dense_74 (Dense)             (None, 56)                3640      \n",
            "=================================================================\n",
            "Total params: 1,019,000\n",
            "Trainable params: 1,019,000\n",
            "Non-trainable params: 0\n",
            "_________________________________________________________________\n"
          ]
        }
      ]
    },
    {
      "cell_type": "markdown",
      "metadata": {
        "id": "y_i70WoqTAxI"
      },
      "source": [
        "## Evaluate and predict test set"
      ],
      "id": "y_i70WoqTAxI"
    },
    {
      "cell_type": "code",
      "metadata": {
        "colab": {
          "base_uri": "https://localhost:8080/"
        },
        "id": "ZQ4n8wAmB9ZX",
        "outputId": "23185301-8b62-4f9d-affb-a05b35d2901b"
      },
      "source": [
        "# Evaluate model\n",
        "print(f'Test Accuracy: {model_cnn.evaluate(X_test[:,:,:,None],y_test,verbose=0)[1]}')"
      ],
      "id": "ZQ4n8wAmB9ZX",
      "execution_count": 197,
      "outputs": [
        {
          "output_type": "stream",
          "name": "stdout",
          "text": [
            "Test Accuracy: 0.9714285731315613\n"
          ]
        }
      ]
    },
    {
      "cell_type": "code",
      "metadata": {
        "id": "F62fEQaGFMqs",
        "colab": {
          "base_uri": "https://localhost:8080/",
          "height": 313
        },
        "outputId": "9aea2e7e-d58f-450c-d504-b44b6ff9eadb"
      },
      "source": [
        "# Learning curve\n",
        "# plot the accuracy and loss plots between training and validation data\n",
        "# verify overfitting or underfit \n",
        "acc = history.history['accuracy']\n",
        "val_acc = history.history['val_accuracy']\n",
        "loss = history.history['loss']\n",
        "val_loss = history.history['val_loss']\n",
        "x = range(1,len(acc)+1)\n",
        "\n",
        "plt.plot(x,loss,'b',label='Training loss')\n",
        "plt.plot(x,val_loss,'r',label='Validation loss')\n",
        "plt.title('Training and validation loss')\n",
        "plt.xlabel('epochs')\n",
        "plt.ylabel('loss')\n",
        "plt.legend()"
      ],
      "id": "F62fEQaGFMqs",
      "execution_count": 198,
      "outputs": [
        {
          "output_type": "execute_result",
          "data": {
            "text/plain": [
              "<matplotlib.legend.Legend at 0x7f0d15111e50>"
            ]
          },
          "metadata": {},
          "execution_count": 198
        },
        {
          "output_type": "display_data",
          "data": {
            "image/png": "[encoded data removed]",
            "text/plain": [
              "<Figure size 432x288 with 1 Axes>"
            ]
          },
          "metadata": {
            "needs_background": "light"
          }
        }
      ]
    },
    {
      "cell_type": "code",
      "metadata": {
        "id": "SoOTOKEQb2WJ",
        "outputId": "104e78ff-b82a-44e8-c3d7-d75d67930286",
        "colab": {
          "base_uri": "https://localhost:8080/",
          "height": 313
        }
      },
      "source": [
        "plt.plot(x,acc,'b',label='Training accuracy')\n",
        "plt.plot(x,val_acc,'r',label='Validation accuracy')\n",
        "plt.title('Training and validation accuracy')\n",
        "plt.xlabel('epochs')\n",
        "plt.ylabel('accuracy')\n",
        "plt.legend()"
      ],
      "id": "SoOTOKEQb2WJ",
      "execution_count": 199,
      "outputs": [
        {
          "output_type": "execute_result",
          "data": {
            "text/plain": [
              "<matplotlib.legend.Legend at 0x7f0d150d6990>"
            ]
          },
          "metadata": {},
          "execution_count": 199
        },
        {
          "output_type": "display_data",
          "data": {
            "image/png": "[encoded data removed]",
            "text/plain": [
              "<Figure size 432x288 with 1 Axes>"
            ]
          },
          "metadata": {
            "needs_background": "light"
          }
        }
      ]
    },
    {
      "cell_type": "code",
      "metadata": {
        "id": "wFbKdWsMkDuw",
        "colab": {
          "base_uri": "https://localhost:8080/"
        },
        "outputId": "03e135f8-0642-4d9e-d301-24983470dad8"
      },
      "source": [
        "# classification report\n",
        "predicted_classes = np.argmax(np.round(model_cnn.predict(X_test[:,:,:,None])),axis=1)\n",
        "correct = np.where(predicted_classes==y_test)[0]\n",
        "target_names = [f\"Class {label}\" for label in range(len(np.unique(df['label'])))]\n",
        "\n",
        "print(f\"From {len(y_test)} labels're founding {len(correct)} correct labels.\")\n",
        "print(f'Accuracy: {len(correct)/len(y_test)}')\n",
        "print('')\n",
        "print(classification_report(y_test, predicted_classes, target_names=target_names))"
      ],
      "id": "wFbKdWsMkDuw",
      "execution_count": 200,
      "outputs": [
        {
          "output_type": "stream",
          "name": "stdout",
          "text": [
            "From 280 labels're founding 267 correct labels.\n",
            "Accuracy: 0.9535714285714286\n",
            "\n",
            "              precision    recall  f1-score   support\n",
            "\n",
            "     Class 0       0.38      1.00      0.56         5\n",
            "     Class 1       1.00      1.00      1.00         5\n",
            "     Class 2       1.00      1.00      1.00         5\n",
            "     Class 3       1.00      0.60      0.75         5\n",
            "     Class 4       1.00      1.00      1.00         5\n",
            "     Class 5       1.00      0.60      0.75         5\n",
            "     Class 6       1.00      0.80      0.89         5\n",
            "     Class 7       1.00      1.00      1.00         5\n",
            "     Class 8       1.00      0.80      0.89         5\n",
            "     Class 9       1.00      1.00      1.00         5\n",
            "    Class 10       0.83      1.00      0.91         5\n",
            "    Class 11       1.00      1.00      1.00         5\n",
            "    Class 12       1.00      0.80      0.89         5\n",
            "    Class 13       1.00      1.00      1.00         5\n",
            "    Class 14       1.00      1.00      1.00         5\n",
            "    Class 15       1.00      1.00      1.00         5\n",
            "    Class 16       1.00      1.00      1.00         5\n",
            "    Class 17       1.00      1.00      1.00         5\n",
            "    Class 18       1.00      1.00      1.00         5\n",
            "    Class 19       1.00      1.00      1.00         5\n",
            "    Class 20       1.00      1.00      1.00         5\n",
            "    Class 21       1.00      1.00      1.00         5\n",
            "    Class 22       1.00      1.00      1.00         5\n",
            "    Class 23       0.83      1.00      0.91         5\n",
            "    Class 24       1.00      0.40      0.57         5\n",
            "    Class 25       1.00      1.00      1.00         5\n",
            "    Class 26       1.00      1.00      1.00         5\n",
            "    Class 27       1.00      1.00      1.00         5\n",
            "    Class 28       1.00      1.00      1.00         5\n",
            "    Class 29       1.00      1.00      1.00         5\n",
            "    Class 30       1.00      1.00      1.00         5\n",
            "    Class 31       1.00      1.00      1.00         5\n",
            "    Class 32       1.00      0.80      0.89         5\n",
            "    Class 33       1.00      1.00      1.00         5\n",
            "    Class 34       1.00      1.00      1.00         5\n",
            "    Class 35       1.00      1.00      1.00         5\n",
            "    Class 36       1.00      1.00      1.00         5\n",
            "    Class 37       1.00      1.00      1.00         5\n",
            "    Class 38       1.00      1.00      1.00         5\n",
            "    Class 39       1.00      0.80      0.89         5\n",
            "    Class 40       1.00      1.00      1.00         5\n",
            "    Class 41       1.00      1.00      1.00         5\n",
            "    Class 42       0.83      1.00      0.91         5\n",
            "    Class 43       1.00      1.00      1.00         5\n",
            "    Class 44       1.00      1.00      1.00         5\n",
            "    Class 45       0.83      1.00      0.91         5\n",
            "    Class 46       1.00      1.00      1.00         5\n",
            "    Class 47       1.00      0.80      0.89         5\n",
            "    Class 48       1.00      1.00      1.00         5\n",
            "    Class 49       1.00      1.00      1.00         5\n",
            "    Class 50       1.00      1.00      1.00         5\n",
            "    Class 51       0.83      1.00      0.91         5\n",
            "    Class 52       1.00      1.00      1.00         5\n",
            "    Class 53       1.00      1.00      1.00         5\n",
            "    Class 54       1.00      1.00      1.00         5\n",
            "    Class 55       1.00      1.00      1.00         5\n",
            "\n",
            "    accuracy                           0.95       280\n",
            "   macro avg       0.97      0.95      0.96       280\n",
            "weighted avg       0.97      0.95      0.96       280\n",
            "\n"
          ]
        }
      ]
    },
    {
      "cell_type": "markdown",
      "metadata": {
        "id": "ExkYoE9LXq6I"
      },
      "source": [
        "## Other people \n",
        "men and woman each 10 audio file."
      ],
      "id": "ExkYoE9LXq6I"
    },
    {
      "cell_type": "code",
      "metadata": {
        "colab": {
          "base_uri": "https://localhost:8080/"
        },
        "id": "AYxW624FZZdM",
        "outputId": "0c15aead-9642-4146-d4c3-037851032922"
      },
      "source": [
        "import numpy as np\n",
        "np.random.seed(77)\n",
        "\n",
        "random_fruit_veget = np.random.choice(np.unique(df['description']),10,replace=False).tolist()\n",
        "print(random_fruit_veget)"
      ],
      "id": "AYxW624FZZdM",
      "execution_count": 201,
      "outputs": [
        {
          "output_type": "stream",
          "name": "stdout",
          "text": [
            "['ผักกุยช่าย', 'ทับทิม', 'ใบชะพลู1', 'พริกขี้หนู', 'มันสำปะหลัง', 'ฟักทอง', 'มะพลับ', 'หัวหอม2', 'ใบชะพลู2', 'บวบ']\n"
          ]
        }
      ]
    },
    {
      "cell_type": "code",
      "metadata": {
        "id": "XTRoVzSzX3XM"
      },
      "source": [
        "import pandas as pd\n",
        "\n",
        "# Audio data source\n",
        "other_source = {'audio_time':[],\n",
        "                'sampling_rate':[],\n",
        "                'feature_extraction':[],\n",
        "                'label':[],\n",
        "                'description':[]}\n",
        "\n",
        "for types in random_fruit_veget:\n",
        "    audio_files = glob('/content/Project_499/Record_other_audio/' + str(types) + '/*.wav')\n",
        "\n",
        "    for audio in audio_files:\n",
        "        y,sr = librosa.load(audio,duration=5,offset=0)\n",
        "        other_source['description'].append(str(types))\n",
        "        other_source['audio_time'].append(y)\n",
        "        other_source['sampling_rate'].append(sr)\n",
        "        other_source['feature_extraction'].append(feature_mfcc(y,sr))\n",
        "\n",
        "other_source['label'] = [18,18,14,14,39,39,44,44,37,37,50,50,25,25,55,55,40,40,38,38]\n",
        "other_df = pd.DataFrame.from_dict(other_source)"
      ],
      "id": "XTRoVzSzX3XM",
      "execution_count": 202,
      "outputs": []
    },
    {
      "cell_type": "code",
      "metadata": {
        "id": "rQ6EclMVZCeE"
      },
      "source": [
        "other_X_test = np.array(other_df['feature_extraction'].to_list())\n",
        "other_y_test = np.array(other_df['label'].to_list())"
      ],
      "id": "rQ6EclMVZCeE",
      "execution_count": 203,
      "outputs": []
    },
    {
      "cell_type": "code",
      "metadata": {
        "id": "uG_isU-4c97L",
        "colab": {
          "base_uri": "https://localhost:8080/"
        },
        "outputId": "faf7e6ea-e0a8-4a3b-cb03-247fe81e83df"
      },
      "source": [
        "# classification report\n",
        "predicted_classes = np.argmax(np.round(model_cnn.predict(other_X_test[:,:,:,None])),axis=1)\n",
        "correct = np.where(predicted_classes==other_y_test)[0]\n",
        "target_names = [f\"Class {label}\" for label in np.unique(other_source['label'])]\n",
        "\n",
        "print(f\"From {len(other_y_test)} labels're founding {len(correct)} correct labels.\")\n",
        "print(f'Accuracy: {len(correct)/len(other_y_test)}')"
      ],
      "id": "uG_isU-4c97L",
      "execution_count": 204,
      "outputs": [
        {
          "output_type": "stream",
          "name": "stdout",
          "text": [
            "From 20 labels're founding 6 correct labels.\n",
            "Accuracy: 0.3\n"
          ]
        }
      ]
    }
  ]
}