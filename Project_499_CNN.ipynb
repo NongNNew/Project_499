{
  "nbformat": 4,
  "nbformat_minor": 5,
  "metadata": {
    "colab": {
      "name": "Project_499_CNN.ipynb",
      "provenance": [],
      "collapsed_sections": [],
      "include_colab_link": true
    },
    "kernelspec": {
      "display_name": "Python 3",
      "language": "python",
      "name": "python3"
    },
    "language_info": {
      "codemirror_mode": {
        "name": "ipython",
        "version": 3
      },
      "file_extension": ".py",
      "mimetype": "text/x-python",
      "name": "python",
      "nbconvert_exporter": "python",
      "pygments_lexer": "ipython3",
      "version": "3.8.8"
    },
    "accelerator": "GPU"
  },
  "cells": [
    {
      "cell_type": "markdown",
      "metadata": {
        "id": "view-in-github",
        "colab_type": "text"
      },
      "source": [
        "<a href=\"https://colab.research.google.com/github/NongNNew/Project_499/blob/main/Project_499_CNN.ipynb\" target=\"_parent\"><img src=\"https://colab.research.google.com/assets/colab-badge.svg\" alt=\"Open In Colab\"/></a>"
      ]
    },
    {
      "cell_type": "markdown",
      "metadata": {
        "id": "hW4AHGmEVrk8"
      },
      "source": [
        "# CNN"
      ],
      "id": "hW4AHGmEVrk8"
    },
    {
      "cell_type": "code",
      "metadata": {
        "colab": {
          "base_uri": "https://localhost:8080/"
        },
        "id": "gJVdtdww87RO",
        "outputId": "411c35a8-f080-4d29-c210-1e24c6abaa26"
      },
      "source": [
        "!git clone https://github.com/NongNNew/Project_499.git"
      ],
      "id": "gJVdtdww87RO",
      "execution_count": 1,
      "outputs": [
        {
          "output_type": "stream",
          "text": [
            "Cloning into 'Project_499'...\n",
            "remote: Enumerating objects: 751, done.\u001b[K\n",
            "remote: Counting objects: 100% (303/303), done.\u001b[K\n",
            "remote: Compressing objects: 100% (299/299), done.\u001b[K\n",
            "remote: Total 751 (delta 18), reused 280 (delta 4), pack-reused 448\u001b[K\n",
            "Receiving objects: 100% (751/751), 130.45 MiB | 19.53 MiB/s, done.\n",
            "Resolving deltas: 100% (46/46), done.\n",
            "Checking out files: 100% (621/621), done.\n"
          ],
          "name": "stdout"
        }
      ]
    },
    {
      "cell_type": "code",
      "metadata": {
        "id": "kj43EsnPwnaw"
      },
      "source": [
        "import pandas as pd\n",
        "from glob import glob\n",
        "import librosa\n",
        "import librosa.display"
      ],
      "id": "kj43EsnPwnaw",
      "execution_count": 2,
      "outputs": []
    },
    {
      "cell_type": "code",
      "metadata": {
        "id": "EHnDUT5YejVV"
      },
      "source": [
        "fruit_veget = ['กระชาย','กระท้อน','กระเทียม1','กระเทียม2','กระเพรา','กล้วยน้ำว้า','กล้วยหอม',\n",
        "               'ข้าวโพด','ไข่น้ำ',\n",
        "               'ตะขบไทย','ตะไคร้',\n",
        "               'ถั่วฝักยาว','ถั่วลันเตา','ถั่วลิสง',\n",
        "               'ทับทิม',\n",
        "               'น้อยหน่า','น้ำเต้า',\n",
        "               'บวบ','ใบชะพลู1','ใบชะพลู2','ใบบัวบก','ใบแมงลัก','ใบยอ',\n",
        "               'พริกขี้หนู','พริกสด',\n",
        "               'ฝรั่ง',\n",
        "               'พุทรา',\n",
        "               'มะปราง','มะพลับ','มะละกอ',\n",
        "               'สับปะรด']\n",
        "\n",
        "source = {'audio_time':[],\n",
        "          'sampling_rate':[],\n",
        "          'feature_extraction':[],\n",
        "          'label':[],\n",
        "          'description':[]}"
      ],
      "id": "EHnDUT5YejVV",
      "execution_count": 7,
      "outputs": []
    },
    {
      "cell_type": "code",
      "metadata": {
        "id": "tixApnAUy5tv"
      },
      "source": [
        "for types in fruit_veget:\n",
        "    audio_files = glob('/content/Project_499/Record_audio/' + str(types) + '/*.wav')\n",
        "\n",
        "    for audio in audio_files:\n",
        "        y,sr = librosa.load(audio,duration=6,offset=0)\n",
        "        source['description'].append(str(types))\n",
        "        source['audio_time'].append(y)\n",
        "        source['sampling_rate'].append(sr)\n",
        "        source['feature_extraction'].append(librosa.feature.mfcc(y,sr,n_mfcc=13))\n",
        "        source['label'].append(fruit_veget.index(types))"
      ],
      "id": "tixApnAUy5tv",
      "execution_count": 8,
      "outputs": []
    },
    {
      "cell_type": "code",
      "metadata": {
        "id": "353eCwDJUumP"
      },
      "source": [
        "import re\n",
        "\n",
        "for i in range(len(source['description'])):\n",
        "    source['description'][i] = re.findall('[\\u0E00-\\u0E7F]+',source['description'][i])[0]"
      ],
      "id": "353eCwDJUumP",
      "execution_count": 9,
      "outputs": []
    },
    {
      "cell_type": "code",
      "metadata": {
        "colab": {
          "base_uri": "https://localhost:8080/",
          "height": 415
        },
        "id": "8B6cSV4Ckude",
        "outputId": "af8f9072-dfb8-4cf9-e49f-19c165b1e3f2"
      },
      "source": [
        "pd.DataFrame.from_dict(source)"
      ],
      "id": "8B6cSV4Ckude",
      "execution_count": 10,
      "outputs": [
        {
          "output_type": "execute_result",
          "data": {
            "text/html": [
              "<div>\n",
              "<style scoped>\n",
              "    .dataframe tbody tr th:only-of-type {\n",
              "        vertical-align: middle;\n",
              "    }\n",
              "\n",
              "    .dataframe tbody tr th {\n",
              "        vertical-align: top;\n",
              "    }\n",
              "\n",
              "    .dataframe thead th {\n",
              "        text-align: right;\n",
              "    }\n",
              "</style>\n",
              "<table border=\"1\" class=\"dataframe\">\n",
              "  <thead>\n",
              "    <tr style=\"text-align: right;\">\n",
              "      <th></th>\n",
              "      <th>audio_time</th>\n",
              "      <th>sampling_rate</th>\n",
              "      <th>feature_extraction</th>\n",
              "      <th>label</th>\n",
              "      <th>description</th>\n",
              "    </tr>\n",
              "  </thead>\n",
              "  <tbody>\n",
              "    <tr>\n",
              "      <th>0</th>\n",
              "      <td>[-0.0001373291, -0.00010681152, -0.0001373291,...</td>\n",
              "      <td>22050</td>\n",
              "      <td>[[-641.21436, -640.2155, -639.54114, -638.4883...</td>\n",
              "      <td>0</td>\n",
              "      <td>กระชาย</td>\n",
              "    </tr>\n",
              "    <tr>\n",
              "      <th>1</th>\n",
              "      <td>[0.0004119873, 0.00061035156, 0.0005340576, 0....</td>\n",
              "      <td>22050</td>\n",
              "      <td>[[-625.25085, -626.8685, -629.381, -632.6441, ...</td>\n",
              "      <td>0</td>\n",
              "      <td>กระชาย</td>\n",
              "    </tr>\n",
              "    <tr>\n",
              "      <th>2</th>\n",
              "      <td>[-9.1552734e-05, -0.00012207031, -0.0001373291...</td>\n",
              "      <td>22050</td>\n",
              "      <td>[[-644.627, -645.0809, -645.80524, -646.2903, ...</td>\n",
              "      <td>0</td>\n",
              "      <td>กระชาย</td>\n",
              "    </tr>\n",
              "    <tr>\n",
              "      <th>3</th>\n",
              "      <td>[-0.00010681152, -0.00010681152, -0.0001525878...</td>\n",
              "      <td>22050</td>\n",
              "      <td>[[-622.78125, -623.396, -623.63983, -623.7701,...</td>\n",
              "      <td>0</td>\n",
              "      <td>กระชาย</td>\n",
              "    </tr>\n",
              "    <tr>\n",
              "      <th>4</th>\n",
              "      <td>[-0.0002593994, -0.00022888184, -0.0002593994,...</td>\n",
              "      <td>22050</td>\n",
              "      <td>[[-639.25616, -639.47345, -640.0064, -640.5056...</td>\n",
              "      <td>0</td>\n",
              "      <td>กระชาย</td>\n",
              "    </tr>\n",
              "    <tr>\n",
              "      <th>...</th>\n",
              "      <td>...</td>\n",
              "      <td>...</td>\n",
              "      <td>...</td>\n",
              "      <td>...</td>\n",
              "      <td>...</td>\n",
              "    </tr>\n",
              "    <tr>\n",
              "      <th>614</th>\n",
              "      <td>[-0.00018310547, -0.00024414062, -0.0002288818...</td>\n",
              "      <td>22050</td>\n",
              "      <td>[[-622.7785, -621.6811, -618.9255, -619.49744,...</td>\n",
              "      <td>30</td>\n",
              "      <td>สับปะรด</td>\n",
              "    </tr>\n",
              "    <tr>\n",
              "      <th>615</th>\n",
              "      <td>[-0.00018310547, -0.0002593994, -0.00022888184...</td>\n",
              "      <td>22050</td>\n",
              "      <td>[[-666.57153, -663.4788, -662.98236, -663.7374...</td>\n",
              "      <td>30</td>\n",
              "      <td>สับปะรด</td>\n",
              "    </tr>\n",
              "    <tr>\n",
              "      <th>616</th>\n",
              "      <td>[0.0, 0.0, 0.0, 3.0517578e-05, -4.5776367e-05,...</td>\n",
              "      <td>22050</td>\n",
              "      <td>[[-644.81506, -644.89075, -644.7345, -643.6741...</td>\n",
              "      <td>30</td>\n",
              "      <td>สับปะรด</td>\n",
              "    </tr>\n",
              "    <tr>\n",
              "      <th>617</th>\n",
              "      <td>[-0.00010681152, -0.00019836426, -0.0002441406...</td>\n",
              "      <td>22050</td>\n",
              "      <td>[[-688.85156, -688.6841, -685.51434, -680.2233...</td>\n",
              "      <td>30</td>\n",
              "      <td>สับปะรด</td>\n",
              "    </tr>\n",
              "    <tr>\n",
              "      <th>618</th>\n",
              "      <td>[0.0, 0.0, 3.0517578e-05, -1.5258789e-05, 1.52...</td>\n",
              "      <td>22050</td>\n",
              "      <td>[[-667.3518, -667.19855, -668.4982, -668.1101,...</td>\n",
              "      <td>30</td>\n",
              "      <td>สับปะรด</td>\n",
              "    </tr>\n",
              "  </tbody>\n",
              "</table>\n",
              "<p>619 rows × 5 columns</p>\n",
              "</div>"
            ],
            "text/plain": [
              "                                            audio_time  ...  description\n",
              "0    [-0.0001373291, -0.00010681152, -0.0001373291,...  ...       กระชาย\n",
              "1    [0.0004119873, 0.00061035156, 0.0005340576, 0....  ...       กระชาย\n",
              "2    [-9.1552734e-05, -0.00012207031, -0.0001373291...  ...       กระชาย\n",
              "3    [-0.00010681152, -0.00010681152, -0.0001525878...  ...       กระชาย\n",
              "4    [-0.0002593994, -0.00022888184, -0.0002593994,...  ...       กระชาย\n",
              "..                                                 ...  ...          ...\n",
              "614  [-0.00018310547, -0.00024414062, -0.0002288818...  ...      สับปะรด\n",
              "615  [-0.00018310547, -0.0002593994, -0.00022888184...  ...      สับปะรด\n",
              "616  [0.0, 0.0, 0.0, 3.0517578e-05, -4.5776367e-05,...  ...      สับปะรด\n",
              "617  [-0.00010681152, -0.00019836426, -0.0002441406...  ...      สับปะรด\n",
              "618  [0.0, 0.0, 3.0517578e-05, -1.5258789e-05, 1.52...  ...      สับปะรด\n",
              "\n",
              "[619 rows x 5 columns]"
            ]
          },
          "metadata": {
            "tags": []
          },
          "execution_count": 10
        }
      ]
    },
    {
      "cell_type": "code",
      "metadata": {
        "id": "77wMVqve6W8f"
      },
      "source": [
        "import tensorflow as tf\n",
        "from tensorflow import keras \n",
        "import numpy as np\n",
        "from sklearn.model_selection import train_test_split\n",
        "\n",
        "X = np.array(source['feature_extraction'])\n",
        "y = np.array(source['label'])\n",
        "\n",
        "X_train, X_test, y_train, y_test = train_test_split(X,y,test_size=0.25)\n",
        "\n",
        "model = keras.Sequential()\n",
        "model.add(keras.layers.Conv2D(64, 5, input_shape=(13, 259, 1), activation='relu'))\n",
        "model.add(keras.layers.Dropout(0.25))\n",
        "model.add(keras.layers.MaxPool2D())\n",
        "model.add(keras.layers.Conv2D(64, 5, activation='relu',padding='same'))\n",
        "model.add(keras.layers.Dropout(0.25))\n",
        "model.add(keras.layers.MaxPool2D())\n",
        "model.add(keras.layers.Flatten())\n",
        "model.add(keras.layers.Dense(128, activation='relu'))\n",
        "model.add(keras.layers.Dropout(0.5))\n",
        "model.add(keras.layers.Dense(len(np.unique(source['label'])), activation='softmax'))\n",
        "model.compile(optimizer='adam', loss='sparse_categorical_crossentropy', metrics=['accuracy'])"
      ],
      "id": "77wMVqve6W8f",
      "execution_count": 11,
      "outputs": []
    },
    {
      "cell_type": "code",
      "metadata": {
        "colab": {
          "base_uri": "https://localhost:8080/"
        },
        "id": "J_fPsi8o62or",
        "outputId": "a079fe30-9eee-4dcd-9501-52280607adf7"
      },
      "source": [
        "model.fit(X_train[:,:,:,None], y_train, epochs=100)"
      ],
      "id": "J_fPsi8o62or",
      "execution_count": 12,
      "outputs": [
        {
          "output_type": "stream",
          "text": [
            "Epoch 1/100\n",
            "15/15 [==============================] - 30s 43ms/step - loss: 23.3215 - accuracy: 0.0345\n",
            "Epoch 2/100\n",
            "15/15 [==============================] - 0s 19ms/step - loss: 3.4445 - accuracy: 0.0302\n",
            "Epoch 3/100\n",
            "15/15 [==============================] - 0s 18ms/step - loss: 3.4320 - accuracy: 0.0388\n",
            "Epoch 4/100\n",
            "15/15 [==============================] - 0s 18ms/step - loss: 3.4312 - accuracy: 0.0453\n",
            "Epoch 5/100\n",
            "15/15 [==============================] - 0s 18ms/step - loss: 3.4288 - accuracy: 0.0625\n",
            "Epoch 6/100\n",
            "15/15 [==============================] - 0s 18ms/step - loss: 3.4082 - accuracy: 0.0560\n",
            "Epoch 7/100\n",
            "15/15 [==============================] - 0s 18ms/step - loss: 3.3805 - accuracy: 0.0560\n",
            "Epoch 8/100\n",
            "15/15 [==============================] - 0s 18ms/step - loss: 3.1674 - accuracy: 0.0970\n",
            "Epoch 9/100\n",
            "15/15 [==============================] - 0s 18ms/step - loss: 2.8825 - accuracy: 0.1703\n",
            "Epoch 10/100\n",
            "15/15 [==============================] - 0s 18ms/step - loss: 2.3626 - accuracy: 0.3254\n",
            "Epoch 11/100\n",
            "15/15 [==============================] - 0s 18ms/step - loss: 1.9203 - accuracy: 0.4203\n",
            "Epoch 12/100\n",
            "15/15 [==============================] - 0s 18ms/step - loss: 1.5608 - accuracy: 0.5151\n",
            "Epoch 13/100\n",
            "15/15 [==============================] - 0s 18ms/step - loss: 1.3943 - accuracy: 0.5582\n",
            "Epoch 14/100\n",
            "15/15 [==============================] - 0s 18ms/step - loss: 1.2025 - accuracy: 0.6401\n",
            "Epoch 15/100\n",
            "15/15 [==============================] - 0s 18ms/step - loss: 0.9634 - accuracy: 0.6897\n",
            "Epoch 16/100\n",
            "15/15 [==============================] - 0s 18ms/step - loss: 0.6824 - accuracy: 0.7845\n",
            "Epoch 17/100\n",
            "15/15 [==============================] - 0s 18ms/step - loss: 0.5768 - accuracy: 0.8168\n",
            "Epoch 18/100\n",
            "15/15 [==============================] - 0s 18ms/step - loss: 0.6940 - accuracy: 0.7953\n",
            "Epoch 19/100\n",
            "15/15 [==============================] - 0s 18ms/step - loss: 0.5716 - accuracy: 0.8017\n",
            "Epoch 20/100\n",
            "15/15 [==============================] - 0s 18ms/step - loss: 0.5300 - accuracy: 0.8384\n",
            "Epoch 21/100\n",
            "15/15 [==============================] - 0s 18ms/step - loss: 0.4401 - accuracy: 0.8621\n",
            "Epoch 22/100\n",
            "15/15 [==============================] - 0s 18ms/step - loss: 0.5137 - accuracy: 0.8168\n",
            "Epoch 23/100\n",
            "15/15 [==============================] - 0s 18ms/step - loss: 0.3626 - accuracy: 0.8879\n",
            "Epoch 24/100\n",
            "15/15 [==============================] - 0s 18ms/step - loss: 0.3695 - accuracy: 0.8858\n",
            "Epoch 25/100\n",
            "15/15 [==============================] - 0s 17ms/step - loss: 0.2798 - accuracy: 0.9138\n",
            "Epoch 26/100\n",
            "15/15 [==============================] - 0s 18ms/step - loss: 0.3150 - accuracy: 0.8966\n",
            "Epoch 27/100\n",
            "15/15 [==============================] - 0s 18ms/step - loss: 0.3678 - accuracy: 0.8772\n",
            "Epoch 28/100\n",
            "15/15 [==============================] - 0s 18ms/step - loss: 0.2596 - accuracy: 0.9159\n",
            "Epoch 29/100\n",
            "15/15 [==============================] - 0s 18ms/step - loss: 0.2976 - accuracy: 0.9052\n",
            "Epoch 30/100\n",
            "15/15 [==============================] - 0s 18ms/step - loss: 0.2705 - accuracy: 0.8966\n",
            "Epoch 31/100\n",
            "15/15 [==============================] - 0s 18ms/step - loss: 0.2332 - accuracy: 0.9246\n",
            "Epoch 32/100\n",
            "15/15 [==============================] - 0s 18ms/step - loss: 0.3412 - accuracy: 0.8879\n",
            "Epoch 33/100\n",
            "15/15 [==============================] - 0s 18ms/step - loss: 0.2308 - accuracy: 0.9224\n",
            "Epoch 34/100\n",
            "15/15 [==============================] - 0s 18ms/step - loss: 0.1763 - accuracy: 0.9224\n",
            "Epoch 35/100\n",
            "15/15 [==============================] - 0s 18ms/step - loss: 0.2571 - accuracy: 0.9052\n",
            "Epoch 36/100\n",
            "15/15 [==============================] - 0s 18ms/step - loss: 0.2120 - accuracy: 0.9353\n",
            "Epoch 37/100\n",
            "15/15 [==============================] - 0s 18ms/step - loss: 0.1730 - accuracy: 0.9353\n",
            "Epoch 38/100\n",
            "15/15 [==============================] - 0s 18ms/step - loss: 0.2722 - accuracy: 0.9203\n",
            "Epoch 39/100\n",
            "15/15 [==============================] - 0s 18ms/step - loss: 0.1713 - accuracy: 0.9353\n",
            "Epoch 40/100\n",
            "15/15 [==============================] - 0s 18ms/step - loss: 0.1600 - accuracy: 0.9483\n",
            "Epoch 41/100\n",
            "15/15 [==============================] - 0s 18ms/step - loss: 0.1695 - accuracy: 0.9440\n",
            "Epoch 42/100\n",
            "15/15 [==============================] - 0s 18ms/step - loss: 0.1543 - accuracy: 0.9483\n",
            "Epoch 43/100\n",
            "15/15 [==============================] - 0s 18ms/step - loss: 0.1406 - accuracy: 0.9483\n",
            "Epoch 44/100\n",
            "15/15 [==============================] - 0s 18ms/step - loss: 0.1473 - accuracy: 0.9375\n",
            "Epoch 45/100\n",
            "15/15 [==============================] - 0s 18ms/step - loss: 0.1558 - accuracy: 0.9483\n",
            "Epoch 46/100\n",
            "15/15 [==============================] - 0s 17ms/step - loss: 0.1225 - accuracy: 0.9547\n",
            "Epoch 47/100\n",
            "15/15 [==============================] - 0s 18ms/step - loss: 0.0954 - accuracy: 0.9720\n",
            "Epoch 48/100\n",
            "15/15 [==============================] - 0s 18ms/step - loss: 0.1326 - accuracy: 0.9591\n",
            "Epoch 49/100\n",
            "15/15 [==============================] - 0s 18ms/step - loss: 0.1505 - accuracy: 0.9483\n",
            "Epoch 50/100\n",
            "15/15 [==============================] - 0s 18ms/step - loss: 0.1558 - accuracy: 0.9504\n",
            "Epoch 51/100\n",
            "15/15 [==============================] - 0s 18ms/step - loss: 0.1068 - accuracy: 0.9698\n",
            "Epoch 52/100\n",
            "15/15 [==============================] - 0s 18ms/step - loss: 0.1244 - accuracy: 0.9634\n",
            "Epoch 53/100\n",
            "15/15 [==============================] - 0s 18ms/step - loss: 0.1317 - accuracy: 0.9569\n",
            "Epoch 54/100\n",
            "15/15 [==============================] - 0s 18ms/step - loss: 0.1299 - accuracy: 0.9547\n",
            "Epoch 55/100\n",
            "15/15 [==============================] - 0s 18ms/step - loss: 0.1316 - accuracy: 0.9591\n",
            "Epoch 56/100\n",
            "15/15 [==============================] - 0s 18ms/step - loss: 0.1376 - accuracy: 0.9634\n",
            "Epoch 57/100\n",
            "15/15 [==============================] - 0s 18ms/step - loss: 0.0905 - accuracy: 0.9720\n",
            "Epoch 58/100\n",
            "15/15 [==============================] - 0s 18ms/step - loss: 0.0802 - accuracy: 0.9741\n",
            "Epoch 59/100\n",
            "15/15 [==============================] - 0s 18ms/step - loss: 0.0913 - accuracy: 0.9655\n",
            "Epoch 60/100\n",
            "15/15 [==============================] - 0s 18ms/step - loss: 0.1179 - accuracy: 0.9547\n",
            "Epoch 61/100\n",
            "15/15 [==============================] - 0s 17ms/step - loss: 0.0854 - accuracy: 0.9741\n",
            "Epoch 62/100\n",
            "15/15 [==============================] - 0s 18ms/step - loss: 0.1070 - accuracy: 0.9677\n",
            "Epoch 63/100\n",
            "15/15 [==============================] - 0s 18ms/step - loss: 0.1007 - accuracy: 0.9634\n",
            "Epoch 64/100\n",
            "15/15 [==============================] - 0s 18ms/step - loss: 0.1331 - accuracy: 0.9504\n",
            "Epoch 65/100\n",
            "15/15 [==============================] - 0s 18ms/step - loss: 0.1184 - accuracy: 0.9612\n",
            "Epoch 66/100\n",
            "15/15 [==============================] - 0s 18ms/step - loss: 0.0817 - accuracy: 0.9720\n",
            "Epoch 67/100\n",
            "15/15 [==============================] - 0s 19ms/step - loss: 0.0955 - accuracy: 0.9591\n",
            "Epoch 68/100\n",
            "15/15 [==============================] - 0s 18ms/step - loss: 0.0633 - accuracy: 0.9806\n",
            "Epoch 69/100\n",
            "15/15 [==============================] - 0s 18ms/step - loss: 0.1225 - accuracy: 0.9655\n",
            "Epoch 70/100\n",
            "15/15 [==============================] - 0s 18ms/step - loss: 0.1064 - accuracy: 0.9634\n",
            "Epoch 71/100\n",
            "15/15 [==============================] - 0s 18ms/step - loss: 0.1323 - accuracy: 0.9569\n",
            "Epoch 72/100\n",
            "15/15 [==============================] - 0s 19ms/step - loss: 0.1318 - accuracy: 0.9591\n",
            "Epoch 73/100\n",
            "15/15 [==============================] - 0s 18ms/step - loss: 0.2086 - accuracy: 0.9332\n",
            "Epoch 74/100\n",
            "15/15 [==============================] - 0s 18ms/step - loss: 0.0774 - accuracy: 0.9698\n",
            "Epoch 75/100\n",
            "15/15 [==============================] - 0s 18ms/step - loss: 0.1071 - accuracy: 0.9655\n",
            "Epoch 76/100\n",
            "15/15 [==============================] - 0s 18ms/step - loss: 0.1274 - accuracy: 0.9547\n",
            "Epoch 77/100\n",
            "15/15 [==============================] - 0s 18ms/step - loss: 0.1453 - accuracy: 0.9526\n",
            "Epoch 78/100\n",
            "15/15 [==============================] - 0s 18ms/step - loss: 0.1343 - accuracy: 0.9440\n",
            "Epoch 79/100\n",
            "15/15 [==============================] - 0s 18ms/step - loss: 0.1839 - accuracy: 0.9504\n",
            "Epoch 80/100\n",
            "15/15 [==============================] - 0s 17ms/step - loss: 0.1838 - accuracy: 0.9397\n",
            "Epoch 81/100\n",
            "15/15 [==============================] - 0s 18ms/step - loss: 0.1476 - accuracy: 0.9440\n",
            "Epoch 82/100\n",
            "15/15 [==============================] - 0s 18ms/step - loss: 0.1383 - accuracy: 0.9655\n",
            "Epoch 83/100\n",
            "15/15 [==============================] - 0s 18ms/step - loss: 0.1260 - accuracy: 0.9698\n",
            "Epoch 84/100\n",
            "15/15 [==============================] - 0s 18ms/step - loss: 0.0907 - accuracy: 0.9698\n",
            "Epoch 85/100\n",
            "15/15 [==============================] - 0s 18ms/step - loss: 0.1310 - accuracy: 0.9720\n",
            "Epoch 86/100\n",
            "15/15 [==============================] - 0s 18ms/step - loss: 0.1053 - accuracy: 0.9655\n",
            "Epoch 87/100\n",
            "15/15 [==============================] - 0s 18ms/step - loss: 0.1126 - accuracy: 0.9612\n",
            "Epoch 88/100\n",
            "15/15 [==============================] - 0s 19ms/step - loss: 0.1152 - accuracy: 0.9591\n",
            "Epoch 89/100\n",
            "15/15 [==============================] - 0s 18ms/step - loss: 0.1623 - accuracy: 0.9504\n",
            "Epoch 90/100\n",
            "15/15 [==============================] - 0s 19ms/step - loss: 0.1597 - accuracy: 0.9547\n",
            "Epoch 91/100\n",
            "15/15 [==============================] - 0s 18ms/step - loss: 0.1379 - accuracy: 0.9504\n",
            "Epoch 92/100\n",
            "15/15 [==============================] - 0s 18ms/step - loss: 0.1607 - accuracy: 0.9591\n",
            "Epoch 93/100\n",
            "15/15 [==============================] - 0s 18ms/step - loss: 0.1381 - accuracy: 0.9612\n",
            "Epoch 94/100\n",
            "15/15 [==============================] - 0s 18ms/step - loss: 0.1052 - accuracy: 0.9547\n",
            "Epoch 95/100\n",
            "15/15 [==============================] - 0s 18ms/step - loss: 0.1228 - accuracy: 0.9698\n",
            "Epoch 96/100\n",
            "15/15 [==============================] - 0s 18ms/step - loss: 0.1187 - accuracy: 0.9655\n",
            "Epoch 97/100\n",
            "15/15 [==============================] - 0s 19ms/step - loss: 0.0929 - accuracy: 0.9741\n",
            "Epoch 98/100\n",
            "15/15 [==============================] - 0s 19ms/step - loss: 0.0913 - accuracy: 0.9698\n",
            "Epoch 99/100\n",
            "15/15 [==============================] - 0s 18ms/step - loss: 0.0790 - accuracy: 0.9763\n",
            "Epoch 100/100\n",
            "15/15 [==============================] - 0s 18ms/step - loss: 0.1039 - accuracy: 0.9655\n"
          ],
          "name": "stdout"
        },
        {
          "output_type": "execute_result",
          "data": {
            "text/plain": [
              "<tensorflow.python.keras.callbacks.History at 0x7f0fc056fe10>"
            ]
          },
          "metadata": {
            "tags": []
          },
          "execution_count": 12
        }
      ]
    },
    {
      "cell_type": "code",
      "metadata": {
        "id": "S-z2fH0cHvVc",
        "colab": {
          "base_uri": "https://localhost:8080/"
        },
        "outputId": "dff3e2e3-593b-4435-8fa2-673ae5a90291"
      },
      "source": [
        "model.summary()"
      ],
      "id": "S-z2fH0cHvVc",
      "execution_count": 14,
      "outputs": [
        {
          "output_type": "stream",
          "text": [
            "Model: \"sequential\"\n",
            "_________________________________________________________________\n",
            "Layer (type)                 Output Shape              Param #   \n",
            "=================================================================\n",
            "conv2d (Conv2D)              (None, 9, 255, 64)        1664      \n",
            "_________________________________________________________________\n",
            "dropout (Dropout)            (None, 9, 255, 64)        0         \n",
            "_________________________________________________________________\n",
            "max_pooling2d (MaxPooling2D) (None, 4, 127, 64)        0         \n",
            "_________________________________________________________________\n",
            "conv2d_1 (Conv2D)            (None, 4, 127, 64)        102464    \n",
            "_________________________________________________________________\n",
            "dropout_1 (Dropout)          (None, 4, 127, 64)        0         \n",
            "_________________________________________________________________\n",
            "max_pooling2d_1 (MaxPooling2 (None, 2, 63, 64)         0         \n",
            "_________________________________________________________________\n",
            "flatten (Flatten)            (None, 8064)              0         \n",
            "_________________________________________________________________\n",
            "dense (Dense)                (None, 128)               1032320   \n",
            "_________________________________________________________________\n",
            "dropout_2 (Dropout)          (None, 128)               0         \n",
            "_________________________________________________________________\n",
            "dense_1 (Dense)              (None, 31)                3999      \n",
            "=================================================================\n",
            "Total params: 1,140,447\n",
            "Trainable params: 1,140,447\n",
            "Non-trainable params: 0\n",
            "_________________________________________________________________\n"
          ],
          "name": "stdout"
        }
      ]
    },
    {
      "cell_type": "code",
      "metadata": {
        "colab": {
          "base_uri": "https://localhost:8080/"
        },
        "id": "ZQ4n8wAmB9ZX",
        "outputId": "fab80b51-144a-4528-e4fb-8f1fb03bef4d"
      },
      "source": [
        "model.evaluate(X_test[:,:,:,None],y_test)"
      ],
      "id": "ZQ4n8wAmB9ZX",
      "execution_count": 13,
      "outputs": [
        {
          "output_type": "stream",
          "text": [
            "5/5 [==============================] - 0s 68ms/step - loss: 0.2950 - accuracy: 0.9355\n"
          ],
          "name": "stdout"
        },
        {
          "output_type": "execute_result",
          "data": {
            "text/plain": [
              "[0.29497453570365906, 0.9354838728904724]"
            ]
          },
          "metadata": {
            "tags": []
          },
          "execution_count": 13
        }
      ]
    }
  ]
}