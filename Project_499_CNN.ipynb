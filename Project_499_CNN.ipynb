{
  "nbformat": 4,
  "nbformat_minor": 5,
  "metadata": {
    "colab": {
      "name": "Project_499_CNN.ipynb",
      "provenance": [],
      "collapsed_sections": [],
      "machine_shape": "hm",
      "include_colab_link": true
    },
    "kernelspec": {
      "display_name": "Python 3",
      "language": "python",
      "name": "python3"
    },
    "language_info": {
      "codemirror_mode": {
        "name": "ipython",
        "version": 3
      },
      "file_extension": ".py",
      "mimetype": "text/x-python",
      "name": "python",
      "nbconvert_exporter": "python",
      "pygments_lexer": "ipython3",
      "version": "3.8.8"
    },
    "accelerator": "GPU"
  },
  "cells": [
    {
      "cell_type": "markdown",
      "metadata": {
        "id": "view-in-github",
        "colab_type": "text"
      },
      "source": [
        "<a href=\"https://colab.research.google.com/github/NongNNew/Project_499/blob/main/Project_499_CNN.ipynb\" target=\"_parent\"><img src=\"https://colab.research.google.com/assets/colab-badge.svg\" alt=\"Open In Colab\"/></a>"
      ]
    },
    {
      "cell_type": "markdown",
      "metadata": {
        "id": "hW4AHGmEVrk8"
      },
      "source": [
        "# **CNN**"
      ],
      "id": "hW4AHGmEVrk8"
    },
    {
      "cell_type": "markdown",
      "metadata": {
        "id": "nkYRb02rScfH"
      },
      "source": [
        "## Setup"
      ],
      "id": "nkYRb02rScfH"
    },
    {
      "cell_type": "code",
      "metadata": {
        "colab": {
          "base_uri": "https://localhost:8080/"
        },
        "id": "Nq11bNFAbCci",
        "outputId": "cadbaa1f-a803-4d1a-d4b6-950fb60d2c98"
      },
      "source": [
        "!pip install python_speech_features"
      ],
      "id": "Nq11bNFAbCci",
      "execution_count": 1,
      "outputs": [
        {
          "output_type": "stream",
          "name": "stdout",
          "text": [
            "Collecting python_speech_features\n",
            "  Downloading python_speech_features-0.6.tar.gz (5.6 kB)\n",
            "Building wheels for collected packages: python-speech-features\n",
            "  Building wheel for python-speech-features (setup.py) ... \u001b[?25l\u001b[?25hdone\n",
            "  Created wheel for python-speech-features: filename=python_speech_features-0.6-py3-none-any.whl size=5888 sha256=698f4fe9afdb9a189f974535ba2273a9bc2853017ca174730cacfe0cc7bbb1e9\n",
            "  Stored in directory: /root/.cache/pip/wheels/b0/0e/94/28cd6afa3cd5998a63eef99fe31777acd7d758f59cf24839eb\n",
            "Successfully built python-speech-features\n",
            "Installing collected packages: python-speech-features\n",
            "Successfully installed python-speech-features-0.6\n"
          ]
        }
      ]
    },
    {
      "cell_type": "code",
      "metadata": {
        "id": "fssuU2ucR1vy"
      },
      "source": [
        "import librosa\n",
        "import numpy as np\n",
        "import pandas as pd\n",
        "from glob import glob\n",
        "import tensorflow as tf\n",
        "from tensorflow import keras \n",
        "import python_speech_features\n",
        "import matplotlib.pyplot as plt\n",
        "from scipy.signal.windows import hamming\n",
        "from sklearn.metrics import classification_report"
      ],
      "id": "fssuU2ucR1vy",
      "execution_count": 2,
      "outputs": []
    },
    {
      "cell_type": "code",
      "metadata": {
        "id": "y1vuUlgJSKkC"
      },
      "source": [
        "np.random.seed(1)\n",
        "tf.random.set_seed(1)"
      ],
      "id": "y1vuUlgJSKkC",
      "execution_count": 3,
      "outputs": []
    },
    {
      "cell_type": "markdown",
      "metadata": {
        "id": "BRWP2IrOShCH"
      },
      "source": [
        "## Prepare dataset"
      ],
      "id": "BRWP2IrOShCH"
    },
    {
      "cell_type": "code",
      "metadata": {
        "colab": {
          "base_uri": "https://localhost:8080/"
        },
        "id": "gJVdtdww87RO",
        "outputId": "714c3465-432d-4828-b1cb-92482dfc47e8"
      },
      "source": [
        "# Upload audio files from github\n",
        "!git clone https://github.com/NongNNew/Project_499.git"
      ],
      "id": "gJVdtdww87RO",
      "execution_count": 4,
      "outputs": [
        {
          "output_type": "stream",
          "name": "stdout",
          "text": [
            "Cloning into 'Project_499'...\n",
            "remote: Enumerating objects: 1462, done.\u001b[K\n",
            "remote: Counting objects: 100% (18/18), done.\u001b[K\n",
            "remote: Compressing objects: 100% (18/18), done.\u001b[K\n",
            "remote: Total 1462 (delta 10), reused 0 (delta 0), pack-reused 1444\u001b[K\n",
            "Receiving objects: 100% (1462/1462), 233.37 MiB | 28.83 MiB/s, done.\n",
            "Resolving deltas: 100% (158/158), done.\n",
            "Checking out files: 100% (1122/1122), done.\n"
          ]
        }
      ]
    },
    {
      "cell_type": "code",
      "metadata": {
        "id": "EHnDUT5YejVV"
      },
      "source": [
        "# Name of vegetables and fruits 52 types of 56 classes\n",
        "fruit_veget = ['กระชาย','กระท้อน','กระเทียม1','กระเทียม2','กระเพรา','กล้วยน้ำว้า','กล้วยหอม',\n",
        "               'ข้าวโพด','ไข่น้ำ',\n",
        "               'ตะขบไทย','ตะไคร้',\n",
        "               'ถั่วฝักยาว','ถั่วลันเตา','ถั่วลิสง',\n",
        "               'ทับทิม',\n",
        "               'น้อยหน่า','น้ำเต้า',\n",
        "               'ผักกระเฉด','ผักกุยช่าย','ผักขึ้นช่าย','ผักชะอม','ผักชี','ผักชีฝรั่ง','ผักตำลึง',\n",
        "               'มะปราง','มะพลับ','มะละกอ','มะกรูด','มะเขือพวง','มะเขือเทศ','มะระ','มะรุม','มะตูม','มันแกว1','มันแกว2','มันเทศ','มันฝรั่ง','มันสำปะหลัง',\n",
        "               'บวบ','ใบชะพลู1','ใบชะพลู2','ใบบัวบก','ใบแมงลัก','ใบยอ',\n",
        "               'พริกขี้หนู','พริกสด','พุทรา','เพกา',\n",
        "               'ฝรั่ง',\n",
        "               'ฟัก','ฟักทอง',\n",
        "               'สับปะรด','สะเดา','สะระแหน่',\n",
        "               'หัวหอม1','หัวหอม2']\n",
        "\n",
        "# Audio data source\n",
        "source = {'audio_time':[],\n",
        "          'sampling_rate':[],\n",
        "          'feature_extraction':[],\n",
        "          'label':[],\n",
        "          'description':[]}"
      ],
      "id": "EHnDUT5YejVV",
      "execution_count": 5,
      "outputs": []
    },
    {
      "cell_type": "code",
      "metadata": {
        "id": "_XRqKtGBeW_1"
      },
      "source": [
        "def feature_mfcc(y,sr):\n",
        "    return (python_speech_features.mfcc(signal=y, \n",
        "                                    samplerate=sr, \n",
        "                                    winlen= 512/sr, \n",
        "                                    winstep= 160/sr,\n",
        "                                    numcep= 13,\n",
        "                                    nfilt= 40, \n",
        "                                    nfft= 512,\n",
        "                                    lowfreq= 0,\n",
        "                                    highfreq= None,\n",
        "                                    preemph= 0.97, \n",
        "                                    ceplifter= 0,\n",
        "                                    winfunc= hamming))"
      ],
      "id": "_XRqKtGBeW_1",
      "execution_count": 6,
      "outputs": []
    },
    {
      "cell_type": "code",
      "metadata": {
        "id": "tixApnAUy5tv"
      },
      "source": [
        "for types in fruit_veget:\n",
        "    audio_files = glob('/content/Project_499/Record_audio/' + str(types) + '/*.wav')\n",
        "\n",
        "    for audio in audio_files:\n",
        "        y,sr = librosa.load(audio,duration=5,offset=0)\n",
        "        source['description'].append(str(types))\n",
        "        source['audio_time'].append(y)\n",
        "        source['sampling_rate'].append(sr)\n",
        "        source['feature_extraction'].append(feature_mfcc(y,sr))\n",
        "        source['label'].append(fruit_veget.index(types))"
      ],
      "id": "tixApnAUy5tv",
      "execution_count": 7,
      "outputs": []
    },
    {
      "cell_type": "code",
      "metadata": {
        "colab": {
          "base_uri": "https://localhost:8080/",
          "height": 417
        },
        "id": "8B6cSV4Ckude",
        "outputId": "57514720-937c-4b76-aa21-6f181d56b479"
      },
      "source": [
        "# tranform dictionary to dataframe \n",
        "df = pd.DataFrame.from_dict(source)\n",
        "df"
      ],
      "id": "8B6cSV4Ckude",
      "execution_count": 8,
      "outputs": [
        {
          "output_type": "execute_result",
          "data": {
            "text/html": [
              "<div>\n",
              "<style scoped>\n",
              "    .dataframe tbody tr th:only-of-type {\n",
              "        vertical-align: middle;\n",
              "    }\n",
              "\n",
              "    .dataframe tbody tr th {\n",
              "        vertical-align: top;\n",
              "    }\n",
              "\n",
              "    .dataframe thead th {\n",
              "        text-align: right;\n",
              "    }\n",
              "</style>\n",
              "<table border=\"1\" class=\"dataframe\">\n",
              "  <thead>\n",
              "    <tr style=\"text-align: right;\">\n",
              "      <th></th>\n",
              "      <th>audio_time</th>\n",
              "      <th>sampling_rate</th>\n",
              "      <th>feature_extraction</th>\n",
              "      <th>label</th>\n",
              "      <th>description</th>\n",
              "    </tr>\n",
              "  </thead>\n",
              "  <tbody>\n",
              "    <tr>\n",
              "      <th>0</th>\n",
              "      <td>[-0.00024414062, -0.0002593994, -0.00022888184...</td>\n",
              "      <td>22050</td>\n",
              "      <td>[[-13.849791727695862, -11.588470019049367, -0...</td>\n",
              "      <td>0</td>\n",
              "      <td>กระชาย</td>\n",
              "    </tr>\n",
              "    <tr>\n",
              "      <th>1</th>\n",
              "      <td>[1.5258789e-05, -3.0517578e-05, 6.1035156e-05,...</td>\n",
              "      <td>22050</td>\n",
              "      <td>[[-14.225420647550473, -11.767209141048717, 0....</td>\n",
              "      <td>0</td>\n",
              "      <td>กระชาย</td>\n",
              "    </tr>\n",
              "    <tr>\n",
              "      <th>2</th>\n",
              "      <td>[1.5258789e-05, -4.5776367e-05, 0.0, 1.5258789...</td>\n",
              "      <td>22050</td>\n",
              "      <td>[[-13.973324319319042, -9.651651413346336, 0.8...</td>\n",
              "      <td>0</td>\n",
              "      <td>กระชาย</td>\n",
              "    </tr>\n",
              "    <tr>\n",
              "      <th>3</th>\n",
              "      <td>[-0.00021362305, -0.00024414062, -0.0002593994...</td>\n",
              "      <td>22050</td>\n",
              "      <td>[[-14.389836672385517, -10.023800010987056, 0....</td>\n",
              "      <td>0</td>\n",
              "      <td>กระชาย</td>\n",
              "    </tr>\n",
              "    <tr>\n",
              "      <th>4</th>\n",
              "      <td>[-0.004928589, -0.0049591064, -0.0048980713, -...</td>\n",
              "      <td>22050</td>\n",
              "      <td>[[-12.959169471954294, -4.281586674957866, 6.4...</td>\n",
              "      <td>0</td>\n",
              "      <td>กระชาย</td>\n",
              "    </tr>\n",
              "    <tr>\n",
              "      <th>...</th>\n",
              "      <td>...</td>\n",
              "      <td>...</td>\n",
              "      <td>...</td>\n",
              "      <td>...</td>\n",
              "      <td>...</td>\n",
              "    </tr>\n",
              "    <tr>\n",
              "      <th>1115</th>\n",
              "      <td>[-0.00024414062, -0.0002593994, -0.00022888184...</td>\n",
              "      <td>22050</td>\n",
              "      <td>[[-14.003234060711904, -11.759421272003904, -1...</td>\n",
              "      <td>55</td>\n",
              "      <td>หัวหอม2</td>\n",
              "    </tr>\n",
              "    <tr>\n",
              "      <th>1116</th>\n",
              "      <td>[-0.00010681152, -0.00010681152, -0.0002136230...</td>\n",
              "      <td>22050</td>\n",
              "      <td>[[-13.965644315403711, -9.922440291030709, 1.8...</td>\n",
              "      <td>55</td>\n",
              "      <td>หัวหอม2</td>\n",
              "    </tr>\n",
              "    <tr>\n",
              "      <th>1117</th>\n",
              "      <td>[-0.00024414062, -0.0002746582, -0.00019836426...</td>\n",
              "      <td>22050</td>\n",
              "      <td>[[-14.30657814127106, -8.777075651980645, 2.11...</td>\n",
              "      <td>55</td>\n",
              "      <td>หัวหอม2</td>\n",
              "    </tr>\n",
              "    <tr>\n",
              "      <th>1118</th>\n",
              "      <td>[-0.00021362305, -0.00019836426, -0.0001678466...</td>\n",
              "      <td>22050</td>\n",
              "      <td>[[-13.600642153773194, -15.096089567076714, -0...</td>\n",
              "      <td>55</td>\n",
              "      <td>หัวหอม2</td>\n",
              "    </tr>\n",
              "    <tr>\n",
              "      <th>1119</th>\n",
              "      <td>[-0.0001373291, -0.00010681152, -0.00015258789...</td>\n",
              "      <td>22050</td>\n",
              "      <td>[[-13.96668688965529, -12.525809235665879, -1....</td>\n",
              "      <td>55</td>\n",
              "      <td>หัวหอม2</td>\n",
              "    </tr>\n",
              "  </tbody>\n",
              "</table>\n",
              "<p>1120 rows × 5 columns</p>\n",
              "</div>"
            ],
            "text/plain": [
              "                                             audio_time  ...  description\n",
              "0     [-0.00024414062, -0.0002593994, -0.00022888184...  ...       กระชาย\n",
              "1     [1.5258789e-05, -3.0517578e-05, 6.1035156e-05,...  ...       กระชาย\n",
              "2     [1.5258789e-05, -4.5776367e-05, 0.0, 1.5258789...  ...       กระชาย\n",
              "3     [-0.00021362305, -0.00024414062, -0.0002593994...  ...       กระชาย\n",
              "4     [-0.004928589, -0.0049591064, -0.0048980713, -...  ...       กระชาย\n",
              "...                                                 ...  ...          ...\n",
              "1115  [-0.00024414062, -0.0002593994, -0.00022888184...  ...      หัวหอม2\n",
              "1116  [-0.00010681152, -0.00010681152, -0.0002136230...  ...      หัวหอม2\n",
              "1117  [-0.00024414062, -0.0002746582, -0.00019836426...  ...      หัวหอม2\n",
              "1118  [-0.00021362305, -0.00019836426, -0.0001678466...  ...      หัวหอม2\n",
              "1119  [-0.0001373291, -0.00010681152, -0.00015258789...  ...      หัวหอม2\n",
              "\n",
              "[1120 rows x 5 columns]"
            ]
          },
          "metadata": {},
          "execution_count": 8
        }
      ]
    },
    {
      "cell_type": "code",
      "metadata": {
        "id": "T7yzW3hnmuyB"
      },
      "source": [
        "Test = pd.DataFrame(columns=source.keys())\n",
        "\n",
        "# Create test data\n",
        "\n",
        "for description in np.unique(df['description']):\n",
        "    imp_test = df[df['description']==description].sample(5,random_state=1)\n",
        "    Test = pd.concat([Test,imp_test], axis=0)\n",
        "Train = df.drop(Test.index)\n",
        "\n",
        "X_train = np.array(Train['feature_extraction'].to_list())\n",
        "X_test = np.array(Test['feature_extraction'].to_list())\n",
        "y_train = np.array(Train['label'].to_list())\n",
        "y_test = np.array(Test['label'].to_list())"
      ],
      "id": "T7yzW3hnmuyB",
      "execution_count": 9,
      "outputs": []
    },
    {
      "cell_type": "code",
      "metadata": {
        "colab": {
          "base_uri": "https://localhost:8080/"
        },
        "id": "mSV3u9RmEU7h",
        "outputId": "c341882b-00ff-4e2c-c17b-53b2a68801d9"
      },
      "source": [
        "# Proportion of data\n",
        "y_train.shape, y_test.shape"
      ],
      "id": "mSV3u9RmEU7h",
      "execution_count": 10,
      "outputs": [
        {
          "output_type": "execute_result",
          "data": {
            "text/plain": [
              "((840,), (280,))"
            ]
          },
          "metadata": {},
          "execution_count": 10
        }
      ]
    },
    {
      "cell_type": "markdown",
      "metadata": {
        "id": "r7RGaVViSrwg"
      },
      "source": [
        "## Build cnn model"
      ],
      "id": "r7RGaVViSrwg"
    },
    {
      "cell_type": "code",
      "metadata": {
        "id": "77wMVqve6W8f"
      },
      "source": [
        "def create_cnn_model(X_train):\n",
        "    np.random.seed(1)\n",
        "    tf.random.set_seed(1)\n",
        "    model = None\n",
        "    model = keras.Sequential()\n",
        "    model.add(keras.layers.Conv2D(128, 5, input_shape=(X_train.shape[1], X_train.shape[2], 1), activation='relu'))\n",
        "    model.add(keras.layers.Dropout(0.25))\n",
        "    model.add(keras.layers.MaxPool2D())\n",
        "    model.add(keras.layers.Conv2D(64, 5, activation='relu',padding='same'))\n",
        "    model.add(keras.layers.Dropout(0.25))\n",
        "    model.add(keras.layers.MaxPool2D())\n",
        "    model.add(keras.layers.Conv2D(64, 5, activation='relu',padding='same'))\n",
        "    model.add(keras.layers.Dropout(0.25))\n",
        "    model.add(keras.layers.MaxPool2D())\n",
        "    model.add(keras.layers.Flatten())\n",
        "    model.add(keras.layers.Dense(128, activation='relu'))\n",
        "    model.add(keras.layers.Dropout(0.25))\n",
        "    model.add(keras.layers.Dense(64, activation='relu'))\n",
        "    model.add(keras.layers.Dropout(0.25))\n",
        "    model.add(keras.layers.Dense(len(np.unique(df['label'])), activation='softmax'))\n",
        "    model.compile(optimizer='adam', loss='sparse_categorical_crossentropy', metrics=['accuracy'])\n",
        "\n",
        "    model.summary()\n",
        "\n",
        "    return model"
      ],
      "id": "77wMVqve6W8f",
      "execution_count": 11,
      "outputs": []
    },
    {
      "cell_type": "markdown",
      "metadata": {
        "id": "N_EPqJGnS7ng"
      },
      "source": [
        "## Train model"
      ],
      "id": "N_EPqJGnS7ng"
    },
    {
      "cell_type": "code",
      "metadata": {
        "id": "ngmfDNcnGMC7",
        "colab": {
          "base_uri": "https://localhost:8080/"
        },
        "outputId": "f4048358-978e-464b-ce52-a1381205a1f7"
      },
      "source": [
        "# Train model\n",
        "model_cnn = create_cnn_model(X_train)\n",
        "history = model_cnn.fit(X_train[:,:,:,None], y_train, epochs=100, validation_data=(X_test[:,:,:,None],y_test),batch_size=80)"
      ],
      "id": "ngmfDNcnGMC7",
      "execution_count": 12,
      "outputs": [
        {
          "output_type": "stream",
          "name": "stdout",
          "text": [
            "Model: \"sequential\"\n",
            "_________________________________________________________________\n",
            "Layer (type)                 Output Shape              Param #   \n",
            "=================================================================\n",
            "conv2d (Conv2D)              (None, 683, 9, 128)       3328      \n",
            "_________________________________________________________________\n",
            "dropout (Dropout)            (None, 683, 9, 128)       0         \n",
            "_________________________________________________________________\n",
            "max_pooling2d (MaxPooling2D) (None, 341, 4, 128)       0         \n",
            "_________________________________________________________________\n",
            "conv2d_1 (Conv2D)            (None, 341, 4, 64)        204864    \n",
            "_________________________________________________________________\n",
            "dropout_1 (Dropout)          (None, 341, 4, 64)        0         \n",
            "_________________________________________________________________\n",
            "max_pooling2d_1 (MaxPooling2 (None, 170, 2, 64)        0         \n",
            "_________________________________________________________________\n",
            "conv2d_2 (Conv2D)            (None, 170, 2, 64)        102464    \n",
            "_________________________________________________________________\n",
            "dropout_2 (Dropout)          (None, 170, 2, 64)        0         \n",
            "_________________________________________________________________\n",
            "max_pooling2d_2 (MaxPooling2 (None, 85, 1, 64)         0         \n",
            "_________________________________________________________________\n",
            "flatten (Flatten)            (None, 5440)              0         \n",
            "_________________________________________________________________\n",
            "dense (Dense)                (None, 128)               696448    \n",
            "_________________________________________________________________\n",
            "dropout_3 (Dropout)          (None, 128)               0         \n",
            "_________________________________________________________________\n",
            "dense_1 (Dense)              (None, 64)                8256      \n",
            "_________________________________________________________________\n",
            "dropout_4 (Dropout)          (None, 64)                0         \n",
            "_________________________________________________________________\n",
            "dense_2 (Dense)              (None, 56)                3640      \n",
            "=================================================================\n",
            "Total params: 1,019,000\n",
            "Trainable params: 1,019,000\n",
            "Non-trainable params: 0\n",
            "_________________________________________________________________\n",
            "Epoch 1/100\n",
            "11/11 [==============================] - 19s 180ms/step - loss: 4.0870 - accuracy: 0.0179 - val_loss: 4.0010 - val_accuracy: 0.0679\n",
            "Epoch 2/100\n",
            "11/11 [==============================] - 1s 79ms/step - loss: 3.9380 - accuracy: 0.0333 - val_loss: 3.8895 - val_accuracy: 0.0536\n",
            "Epoch 3/100\n",
            "11/11 [==============================] - 1s 79ms/step - loss: 3.7821 - accuracy: 0.0571 - val_loss: 3.6675 - val_accuracy: 0.1179\n",
            "Epoch 4/100\n",
            "11/11 [==============================] - 1s 80ms/step - loss: 3.5821 - accuracy: 0.1024 - val_loss: 3.4913 - val_accuracy: 0.1786\n",
            "Epoch 5/100\n",
            "11/11 [==============================] - 1s 80ms/step - loss: 3.3046 - accuracy: 0.1548 - val_loss: 3.1768 - val_accuracy: 0.3643\n",
            "Epoch 6/100\n",
            "11/11 [==============================] - 1s 80ms/step - loss: 2.8974 - accuracy: 0.2310 - val_loss: 2.7383 - val_accuracy: 0.4964\n",
            "Epoch 7/100\n",
            "11/11 [==============================] - 1s 80ms/step - loss: 2.4538 - accuracy: 0.3393 - val_loss: 2.4451 - val_accuracy: 0.6071\n",
            "Epoch 8/100\n",
            "11/11 [==============================] - 1s 80ms/step - loss: 2.0631 - accuracy: 0.4179 - val_loss: 2.0496 - val_accuracy: 0.6786\n",
            "Epoch 9/100\n",
            "11/11 [==============================] - 1s 80ms/step - loss: 1.7786 - accuracy: 0.4810 - val_loss: 1.6256 - val_accuracy: 0.7679\n",
            "Epoch 10/100\n",
            "11/11 [==============================] - 1s 80ms/step - loss: 1.5416 - accuracy: 0.5393 - val_loss: 1.4577 - val_accuracy: 0.8214\n",
            "Epoch 11/100\n",
            "11/11 [==============================] - 1s 80ms/step - loss: 1.3199 - accuracy: 0.6202 - val_loss: 1.2171 - val_accuracy: 0.8679\n",
            "Epoch 12/100\n",
            "11/11 [==============================] - 1s 80ms/step - loss: 1.2194 - accuracy: 0.6262 - val_loss: 1.1117 - val_accuracy: 0.8857\n",
            "Epoch 13/100\n",
            "11/11 [==============================] - 1s 80ms/step - loss: 1.0243 - accuracy: 0.6988 - val_loss: 1.0111 - val_accuracy: 0.8536\n",
            "Epoch 14/100\n",
            "11/11 [==============================] - 1s 80ms/step - loss: 0.9738 - accuracy: 0.7083 - val_loss: 0.9078 - val_accuracy: 0.8964\n",
            "Epoch 15/100\n",
            "11/11 [==============================] - 1s 80ms/step - loss: 0.8730 - accuracy: 0.7357 - val_loss: 0.8320 - val_accuracy: 0.8821\n",
            "Epoch 16/100\n",
            "11/11 [==============================] - 1s 80ms/step - loss: 0.7589 - accuracy: 0.7631 - val_loss: 0.7491 - val_accuracy: 0.9179\n",
            "Epoch 17/100\n",
            "11/11 [==============================] - 1s 80ms/step - loss: 0.6692 - accuracy: 0.7917 - val_loss: 0.7068 - val_accuracy: 0.9000\n",
            "Epoch 18/100\n",
            "11/11 [==============================] - 1s 80ms/step - loss: 0.6721 - accuracy: 0.7738 - val_loss: 0.5878 - val_accuracy: 0.9321\n",
            "Epoch 19/100\n",
            "11/11 [==============================] - 1s 81ms/step - loss: 0.6412 - accuracy: 0.8060 - val_loss: 0.5288 - val_accuracy: 0.9321\n",
            "Epoch 20/100\n",
            "11/11 [==============================] - 1s 81ms/step - loss: 0.5764 - accuracy: 0.8083 - val_loss: 0.6075 - val_accuracy: 0.9036\n",
            "Epoch 21/100\n",
            "11/11 [==============================] - 1s 80ms/step - loss: 0.5463 - accuracy: 0.8310 - val_loss: 0.5386 - val_accuracy: 0.9250\n",
            "Epoch 22/100\n",
            "11/11 [==============================] - 1s 81ms/step - loss: 0.5173 - accuracy: 0.8250 - val_loss: 0.4671 - val_accuracy: 0.9429\n",
            "Epoch 23/100\n",
            "11/11 [==============================] - 1s 81ms/step - loss: 0.4704 - accuracy: 0.8512 - val_loss: 0.4610 - val_accuracy: 0.9250\n",
            "Epoch 24/100\n",
            "11/11 [==============================] - 1s 80ms/step - loss: 0.4709 - accuracy: 0.8595 - val_loss: 0.4387 - val_accuracy: 0.9536\n",
            "Epoch 25/100\n",
            "11/11 [==============================] - 1s 81ms/step - loss: 0.4146 - accuracy: 0.8798 - val_loss: 0.4115 - val_accuracy: 0.9429\n",
            "Epoch 26/100\n",
            "11/11 [==============================] - 1s 81ms/step - loss: 0.4358 - accuracy: 0.8774 - val_loss: 0.4309 - val_accuracy: 0.9321\n",
            "Epoch 27/100\n",
            "11/11 [==============================] - 1s 81ms/step - loss: 0.3736 - accuracy: 0.8869 - val_loss: 0.4107 - val_accuracy: 0.9500\n",
            "Epoch 28/100\n",
            "11/11 [==============================] - 1s 81ms/step - loss: 0.3768 - accuracy: 0.8869 - val_loss: 0.4253 - val_accuracy: 0.9464\n",
            "Epoch 29/100\n",
            "11/11 [==============================] - 1s 81ms/step - loss: 0.3677 - accuracy: 0.8786 - val_loss: 0.3329 - val_accuracy: 0.9429\n",
            "Epoch 30/100\n",
            "11/11 [==============================] - 1s 81ms/step - loss: 0.3424 - accuracy: 0.8917 - val_loss: 0.3717 - val_accuracy: 0.9500\n",
            "Epoch 31/100\n",
            "11/11 [==============================] - 1s 81ms/step - loss: 0.3224 - accuracy: 0.9000 - val_loss: 0.3609 - val_accuracy: 0.9393\n",
            "Epoch 32/100\n",
            "11/11 [==============================] - 1s 81ms/step - loss: 0.2966 - accuracy: 0.9012 - val_loss: 0.3099 - val_accuracy: 0.9643\n",
            "Epoch 33/100\n",
            "11/11 [==============================] - 1s 81ms/step - loss: 0.2742 - accuracy: 0.9083 - val_loss: 0.3346 - val_accuracy: 0.9464\n",
            "Epoch 34/100\n",
            "11/11 [==============================] - 1s 81ms/step - loss: 0.2199 - accuracy: 0.9310 - val_loss: 0.2997 - val_accuracy: 0.9429\n",
            "Epoch 35/100\n",
            "11/11 [==============================] - 1s 81ms/step - loss: 0.2580 - accuracy: 0.9143 - val_loss: 0.3434 - val_accuracy: 0.9500\n",
            "Epoch 36/100\n",
            "11/11 [==============================] - 1s 81ms/step - loss: 0.2809 - accuracy: 0.9179 - val_loss: 0.2802 - val_accuracy: 0.9571\n",
            "Epoch 37/100\n",
            "11/11 [==============================] - 1s 81ms/step - loss: 0.2907 - accuracy: 0.9155 - val_loss: 0.2846 - val_accuracy: 0.9536\n",
            "Epoch 38/100\n",
            "11/11 [==============================] - 1s 81ms/step - loss: 0.2255 - accuracy: 0.9286 - val_loss: 0.3193 - val_accuracy: 0.9464\n",
            "Epoch 39/100\n",
            "11/11 [==============================] - 1s 81ms/step - loss: 0.2866 - accuracy: 0.9167 - val_loss: 0.3210 - val_accuracy: 0.9357\n",
            "Epoch 40/100\n",
            "11/11 [==============================] - 1s 81ms/step - loss: 0.2138 - accuracy: 0.9298 - val_loss: 0.3123 - val_accuracy: 0.9500\n",
            "Epoch 41/100\n",
            "11/11 [==============================] - 1s 82ms/step - loss: 0.2199 - accuracy: 0.9357 - val_loss: 0.2662 - val_accuracy: 0.9679\n",
            "Epoch 42/100\n",
            "11/11 [==============================] - 1s 82ms/step - loss: 0.1767 - accuracy: 0.9417 - val_loss: 0.2592 - val_accuracy: 0.9500\n",
            "Epoch 43/100\n",
            "11/11 [==============================] - 1s 81ms/step - loss: 0.2685 - accuracy: 0.9202 - val_loss: 0.3222 - val_accuracy: 0.9250\n",
            "Epoch 44/100\n",
            "11/11 [==============================] - 1s 82ms/step - loss: 0.2532 - accuracy: 0.9190 - val_loss: 0.3077 - val_accuracy: 0.9500\n",
            "Epoch 45/100\n",
            "11/11 [==============================] - 1s 82ms/step - loss: 0.1859 - accuracy: 0.9464 - val_loss: 0.2591 - val_accuracy: 0.9679\n",
            "Epoch 46/100\n",
            "11/11 [==============================] - 1s 82ms/step - loss: 0.2055 - accuracy: 0.9321 - val_loss: 0.2462 - val_accuracy: 0.9536\n",
            "Epoch 47/100\n",
            "11/11 [==============================] - 1s 82ms/step - loss: 0.1707 - accuracy: 0.9476 - val_loss: 0.2552 - val_accuracy: 0.9607\n",
            "Epoch 48/100\n",
            "11/11 [==============================] - 1s 81ms/step - loss: 0.1744 - accuracy: 0.9429 - val_loss: 0.2373 - val_accuracy: 0.9464\n",
            "Epoch 49/100\n",
            "11/11 [==============================] - 1s 82ms/step - loss: 0.1609 - accuracy: 0.9476 - val_loss: 0.2465 - val_accuracy: 0.9536\n",
            "Epoch 50/100\n",
            "11/11 [==============================] - 1s 82ms/step - loss: 0.1929 - accuracy: 0.9333 - val_loss: 0.2348 - val_accuracy: 0.9536\n",
            "Epoch 51/100\n",
            "11/11 [==============================] - 1s 82ms/step - loss: 0.1927 - accuracy: 0.9369 - val_loss: 0.2226 - val_accuracy: 0.9571\n",
            "Epoch 52/100\n",
            "11/11 [==============================] - 1s 82ms/step - loss: 0.2063 - accuracy: 0.9262 - val_loss: 0.2330 - val_accuracy: 0.9607\n",
            "Epoch 53/100\n",
            "11/11 [==============================] - 1s 82ms/step - loss: 0.1783 - accuracy: 0.9369 - val_loss: 0.2812 - val_accuracy: 0.9607\n",
            "Epoch 54/100\n",
            "11/11 [==============================] - 1s 82ms/step - loss: 0.1803 - accuracy: 0.9464 - val_loss: 0.2678 - val_accuracy: 0.9536\n",
            "Epoch 55/100\n",
            "11/11 [==============================] - 1s 82ms/step - loss: 0.1636 - accuracy: 0.9345 - val_loss: 0.2570 - val_accuracy: 0.9536\n",
            "Epoch 56/100\n",
            "11/11 [==============================] - 1s 82ms/step - loss: 0.1533 - accuracy: 0.9440 - val_loss: 0.2163 - val_accuracy: 0.9607\n",
            "Epoch 57/100\n",
            "11/11 [==============================] - 1s 82ms/step - loss: 0.1322 - accuracy: 0.9512 - val_loss: 0.2175 - val_accuracy: 0.9571\n",
            "Epoch 58/100\n",
            "11/11 [==============================] - 1s 82ms/step - loss: 0.1424 - accuracy: 0.9583 - val_loss: 0.2227 - val_accuracy: 0.9536\n",
            "Epoch 59/100\n",
            "11/11 [==============================] - 1s 82ms/step - loss: 0.1669 - accuracy: 0.9429 - val_loss: 0.2669 - val_accuracy: 0.9500\n",
            "Epoch 60/100\n",
            "11/11 [==============================] - 1s 82ms/step - loss: 0.1845 - accuracy: 0.9429 - val_loss: 0.2387 - val_accuracy: 0.9536\n",
            "Epoch 61/100\n",
            "11/11 [==============================] - 1s 83ms/step - loss: 0.1712 - accuracy: 0.9452 - val_loss: 0.2208 - val_accuracy: 0.9571\n",
            "Epoch 62/100\n",
            "11/11 [==============================] - 1s 82ms/step - loss: 0.1386 - accuracy: 0.9536 - val_loss: 0.2462 - val_accuracy: 0.9464\n",
            "Epoch 63/100\n",
            "11/11 [==============================] - 1s 83ms/step - loss: 0.1339 - accuracy: 0.9571 - val_loss: 0.2670 - val_accuracy: 0.9250\n",
            "Epoch 64/100\n",
            "11/11 [==============================] - 1s 82ms/step - loss: 0.1012 - accuracy: 0.9702 - val_loss: 0.2079 - val_accuracy: 0.9500\n",
            "Epoch 65/100\n",
            "11/11 [==============================] - 1s 83ms/step - loss: 0.1213 - accuracy: 0.9607 - val_loss: 0.1917 - val_accuracy: 0.9643\n",
            "Epoch 66/100\n",
            "11/11 [==============================] - 1s 83ms/step - loss: 0.1179 - accuracy: 0.9619 - val_loss: 0.2017 - val_accuracy: 0.9536\n",
            "Epoch 67/100\n",
            "11/11 [==============================] - 1s 83ms/step - loss: 0.1351 - accuracy: 0.9595 - val_loss: 0.1742 - val_accuracy: 0.9714\n",
            "Epoch 68/100\n",
            "11/11 [==============================] - 1s 83ms/step - loss: 0.1366 - accuracy: 0.9524 - val_loss: 0.1797 - val_accuracy: 0.9679\n",
            "Epoch 69/100\n",
            "11/11 [==============================] - 1s 83ms/step - loss: 0.1385 - accuracy: 0.9500 - val_loss: 0.1774 - val_accuracy: 0.9643\n",
            "Epoch 70/100\n",
            "11/11 [==============================] - 1s 83ms/step - loss: 0.1228 - accuracy: 0.9619 - val_loss: 0.2219 - val_accuracy: 0.9607\n",
            "Epoch 71/100\n",
            "11/11 [==============================] - 1s 83ms/step - loss: 0.1973 - accuracy: 0.9405 - val_loss: 0.2630 - val_accuracy: 0.9250\n",
            "Epoch 72/100\n",
            "11/11 [==============================] - 1s 84ms/step - loss: 0.1314 - accuracy: 0.9571 - val_loss: 0.2271 - val_accuracy: 0.9571\n",
            "Epoch 73/100\n",
            "11/11 [==============================] - 1s 83ms/step - loss: 0.1238 - accuracy: 0.9583 - val_loss: 0.1952 - val_accuracy: 0.9607\n",
            "Epoch 74/100\n",
            "11/11 [==============================] - 1s 83ms/step - loss: 0.1162 - accuracy: 0.9655 - val_loss: 0.2012 - val_accuracy: 0.9679\n",
            "Epoch 75/100\n",
            "11/11 [==============================] - 1s 83ms/step - loss: 0.1136 - accuracy: 0.9619 - val_loss: 0.1985 - val_accuracy: 0.9643\n",
            "Epoch 76/100\n",
            "11/11 [==============================] - 1s 84ms/step - loss: 0.1175 - accuracy: 0.9583 - val_loss: 0.2404 - val_accuracy: 0.9536\n",
            "Epoch 77/100\n",
            "11/11 [==============================] - 1s 83ms/step - loss: 0.1494 - accuracy: 0.9583 - val_loss: 0.2000 - val_accuracy: 0.9643\n",
            "Epoch 78/100\n",
            "11/11 [==============================] - 1s 84ms/step - loss: 0.1171 - accuracy: 0.9583 - val_loss: 0.2192 - val_accuracy: 0.9607\n",
            "Epoch 79/100\n",
            "11/11 [==============================] - 1s 84ms/step - loss: 0.1479 - accuracy: 0.9595 - val_loss: 0.2111 - val_accuracy: 0.9607\n",
            "Epoch 80/100\n",
            "11/11 [==============================] - 1s 84ms/step - loss: 0.1268 - accuracy: 0.9536 - val_loss: 0.1987 - val_accuracy: 0.9643\n",
            "Epoch 81/100\n",
            "11/11 [==============================] - 1s 84ms/step - loss: 0.1075 - accuracy: 0.9607 - val_loss: 0.1998 - val_accuracy: 0.9500\n",
            "Epoch 82/100\n",
            "11/11 [==============================] - 1s 84ms/step - loss: 0.0997 - accuracy: 0.9607 - val_loss: 0.2016 - val_accuracy: 0.9607\n",
            "Epoch 83/100\n",
            "11/11 [==============================] - 1s 84ms/step - loss: 0.0924 - accuracy: 0.9738 - val_loss: 0.1961 - val_accuracy: 0.9607\n",
            "Epoch 84/100\n",
            "11/11 [==============================] - 1s 84ms/step - loss: 0.1213 - accuracy: 0.9643 - val_loss: 0.1769 - val_accuracy: 0.9571\n",
            "Epoch 85/100\n",
            "11/11 [==============================] - 1s 84ms/step - loss: 0.1067 - accuracy: 0.9643 - val_loss: 0.2088 - val_accuracy: 0.9500\n",
            "Epoch 86/100\n",
            "11/11 [==============================] - 1s 84ms/step - loss: 0.1379 - accuracy: 0.9583 - val_loss: 0.2110 - val_accuracy: 0.9429\n",
            "Epoch 87/100\n",
            "11/11 [==============================] - 1s 84ms/step - loss: 0.1417 - accuracy: 0.9583 - val_loss: 0.2616 - val_accuracy: 0.9357\n",
            "Epoch 88/100\n",
            "11/11 [==============================] - 1s 84ms/step - loss: 0.1360 - accuracy: 0.9560 - val_loss: 0.2611 - val_accuracy: 0.9286\n",
            "Epoch 89/100\n",
            "11/11 [==============================] - 1s 84ms/step - loss: 0.1334 - accuracy: 0.9655 - val_loss: 0.2334 - val_accuracy: 0.9429\n",
            "Epoch 90/100\n",
            "11/11 [==============================] - 1s 84ms/step - loss: 0.1199 - accuracy: 0.9690 - val_loss: 0.1880 - val_accuracy: 0.9643\n",
            "Epoch 91/100\n",
            "11/11 [==============================] - 1s 84ms/step - loss: 0.1176 - accuracy: 0.9631 - val_loss: 0.2011 - val_accuracy: 0.9571\n",
            "Epoch 92/100\n",
            "11/11 [==============================] - 1s 84ms/step - loss: 0.1157 - accuracy: 0.9714 - val_loss: 0.1568 - val_accuracy: 0.9714\n",
            "Epoch 93/100\n",
            "11/11 [==============================] - 1s 84ms/step - loss: 0.0916 - accuracy: 0.9679 - val_loss: 0.1645 - val_accuracy: 0.9643\n",
            "Epoch 94/100\n",
            "11/11 [==============================] - 1s 84ms/step - loss: 0.1091 - accuracy: 0.9702 - val_loss: 0.1963 - val_accuracy: 0.9571\n",
            "Epoch 95/100\n",
            "11/11 [==============================] - 1s 84ms/step - loss: 0.0915 - accuracy: 0.9690 - val_loss: 0.1822 - val_accuracy: 0.9607\n",
            "Epoch 96/100\n",
            "11/11 [==============================] - 1s 84ms/step - loss: 0.0780 - accuracy: 0.9750 - val_loss: 0.1624 - val_accuracy: 0.9643\n",
            "Epoch 97/100\n",
            "11/11 [==============================] - 1s 84ms/step - loss: 0.0745 - accuracy: 0.9738 - val_loss: 0.1833 - val_accuracy: 0.9536\n",
            "Epoch 98/100\n",
            "11/11 [==============================] - 1s 84ms/step - loss: 0.0781 - accuracy: 0.9619 - val_loss: 0.1765 - val_accuracy: 0.9679\n",
            "Epoch 99/100\n",
            "11/11 [==============================] - 1s 84ms/step - loss: 0.1142 - accuracy: 0.9643 - val_loss: 0.2098 - val_accuracy: 0.9607\n",
            "Epoch 100/100\n",
            "11/11 [==============================] - 1s 84ms/step - loss: 0.0893 - accuracy: 0.9738 - val_loss: 0.1920 - val_accuracy: 0.9714\n"
          ]
        }
      ]
    },
    {
      "cell_type": "markdown",
      "metadata": {
        "id": "y_i70WoqTAxI"
      },
      "source": [
        "## Evaluate and predict test set"
      ],
      "id": "y_i70WoqTAxI"
    },
    {
      "cell_type": "code",
      "metadata": {
        "colab": {
          "base_uri": "https://localhost:8080/"
        },
        "id": "ZQ4n8wAmB9ZX",
        "outputId": "14eedc4e-7783-40b1-f857-68e7a0633661"
      },
      "source": [
        "# Evaluate model\n",
        "print(f'Test Accuracy: {model_cnn.evaluate(X_test[:,:,:,None],y_test,verbose=0)[1]}')"
      ],
      "id": "ZQ4n8wAmB9ZX",
      "execution_count": 13,
      "outputs": [
        {
          "output_type": "stream",
          "name": "stdout",
          "text": [
            "Test Accuracy: 0.9714285731315613\n"
          ]
        }
      ]
    },
    {
      "cell_type": "code",
      "metadata": {
        "id": "F62fEQaGFMqs",
        "colab": {
          "base_uri": "https://localhost:8080/",
          "height": 313
        },
        "outputId": "f3bcabe8-deed-4acb-cdbd-77293b19f3d3"
      },
      "source": [
        "# Learning curve\n",
        "# plot the accuracy and loss plots between training and validation data\n",
        "# verify overfitting or underfit \n",
        "acc = history.history['accuracy']\n",
        "val_acc = history.history['val_accuracy']\n",
        "loss = history.history['loss']\n",
        "val_loss = history.history['val_loss']\n",
        "x = range(1,len(acc)+1)\n",
        "\n",
        "plt.plot(x,loss,'b',label='Training loss')\n",
        "plt.plot(x,val_loss,'r',label='Validation loss')\n",
        "plt.title('Training and validation loss')\n",
        "plt.xlabel('epochs')\n",
        "plt.ylabel('loss')\n",
        "plt.legend()"
      ],
      "id": "F62fEQaGFMqs",
      "execution_count": 14,
      "outputs": [
        {
          "output_type": "execute_result",
          "data": {
            "text/plain": [
              "<matplotlib.legend.Legend at 0x7fbf60271410>"
            ]
          },
          "metadata": {},
          "execution_count": 14
        },
        {
          "output_type": "display_data",
          "data": {
            "image/png": "[encoded data removed]",
            "text/plain": [
              "<Figure size 432x288 with 1 Axes>"
            ]
          },
          "metadata": {
            "needs_background": "light"
          }
        }
      ]
    },
    {
      "cell_type": "code",
      "metadata": {
        "id": "wFbKdWsMkDuw",
        "colab": {
          "base_uri": "https://localhost:8080/"
        },
        "outputId": "00af893b-f488-494a-e765-ec842f7c17a6"
      },
      "source": [
        "# classification report\n",
        "predicted_classes = np.argmax(np.round(model_cnn.predict(X_test[:,:,:,None])),axis=1)\n",
        "correct = np.where(predicted_classes==y_test)[0]\n",
        "target_names = [f\"Class {label}\" for label in range(len(np.unique(df['label'])))]\n",
        "\n",
        "print(f\"From {len(y_test)} labels're founding {len(correct)} correct labels.\")\n",
        "print(f'Accuracy: {len(correct)/len(y_test)}')\n",
        "print('')\n",
        "print(classification_report(y_test, predicted_classes, target_names=target_names))"
      ],
      "id": "wFbKdWsMkDuw",
      "execution_count": 15,
      "outputs": [
        {
          "output_type": "stream",
          "name": "stdout",
          "text": [
            "From 280 labels're founding 265 correct labels.\n",
            "Accuracy: 0.9464285714285714\n",
            "\n",
            "              precision    recall  f1-score   support\n",
            "\n",
            "     Class 0       0.31      1.00      0.48         5\n",
            "     Class 1       1.00      1.00      1.00         5\n",
            "     Class 2       1.00      1.00      1.00         5\n",
            "     Class 3       1.00      0.80      0.89         5\n",
            "     Class 4       1.00      0.80      0.89         5\n",
            "     Class 5       1.00      1.00      1.00         5\n",
            "     Class 6       1.00      1.00      1.00         5\n",
            "     Class 7       1.00      1.00      1.00         5\n",
            "     Class 8       1.00      1.00      1.00         5\n",
            "     Class 9       1.00      0.80      0.89         5\n",
            "    Class 10       0.83      1.00      0.91         5\n",
            "    Class 11       1.00      1.00      1.00         5\n",
            "    Class 12       1.00      0.60      0.75         5\n",
            "    Class 13       1.00      0.80      0.89         5\n",
            "    Class 14       1.00      1.00      1.00         5\n",
            "    Class 15       0.83      1.00      0.91         5\n",
            "    Class 16       1.00      1.00      1.00         5\n",
            "    Class 17       1.00      0.80      0.89         5\n",
            "    Class 18       1.00      1.00      1.00         5\n",
            "    Class 19       1.00      1.00      1.00         5\n",
            "    Class 20       1.00      1.00      1.00         5\n",
            "    Class 21       1.00      1.00      1.00         5\n",
            "    Class 22       1.00      1.00      1.00         5\n",
            "    Class 23       1.00      1.00      1.00         5\n",
            "    Class 24       1.00      0.80      0.89         5\n",
            "    Class 25       1.00      0.80      0.89         5\n",
            "    Class 26       1.00      1.00      1.00         5\n",
            "    Class 27       1.00      1.00      1.00         5\n",
            "    Class 28       1.00      1.00      1.00         5\n",
            "    Class 29       1.00      0.80      0.89         5\n",
            "    Class 30       1.00      0.80      0.89         5\n",
            "    Class 31       1.00      1.00      1.00         5\n",
            "    Class 32       0.71      1.00      0.83         5\n",
            "    Class 33       1.00      0.80      0.89         5\n",
            "    Class 34       1.00      1.00      1.00         5\n",
            "    Class 35       1.00      1.00      1.00         5\n",
            "    Class 36       1.00      1.00      1.00         5\n",
            "    Class 37       1.00      1.00      1.00         5\n",
            "    Class 38       1.00      1.00      1.00         5\n",
            "    Class 39       1.00      1.00      1.00         5\n",
            "    Class 40       1.00      1.00      1.00         5\n",
            "    Class 41       1.00      1.00      1.00         5\n",
            "    Class 42       1.00      1.00      1.00         5\n",
            "    Class 43       1.00      1.00      1.00         5\n",
            "    Class 44       1.00      1.00      1.00         5\n",
            "    Class 45       1.00      1.00      1.00         5\n",
            "    Class 46       1.00      1.00      1.00         5\n",
            "    Class 47       1.00      1.00      1.00         5\n",
            "    Class 48       1.00      1.00      1.00         5\n",
            "    Class 49       1.00      1.00      1.00         5\n",
            "    Class 50       1.00      1.00      1.00         5\n",
            "    Class 51       1.00      0.60      0.75         5\n",
            "    Class 52       1.00      0.80      0.89         5\n",
            "    Class 53       1.00      1.00      1.00         5\n",
            "    Class 54       1.00      1.00      1.00         5\n",
            "    Class 55       1.00      1.00      1.00         5\n",
            "\n",
            "    accuracy                           0.95       280\n",
            "   macro avg       0.98      0.95      0.95       280\n",
            "weighted avg       0.98      0.95      0.95       280\n",
            "\n"
          ]
        }
      ]
    }
  ]
}