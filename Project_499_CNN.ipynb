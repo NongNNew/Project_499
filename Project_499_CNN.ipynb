{
  "nbformat": 4,
  "nbformat_minor": 5,
  "metadata": {
    "colab": {
      "name": "Project_499_CNN.ipynb",
      "provenance": [],
      "collapsed_sections": [],
      "machine_shape": "hm",
      "include_colab_link": true
    },
    "kernelspec": {
      "display_name": "Python 3",
      "language": "python",
      "name": "python3"
    },
    "language_info": {
      "codemirror_mode": {
        "name": "ipython",
        "version": 3
      },
      "file_extension": ".py",
      "mimetype": "text/x-python",
      "name": "python",
      "nbconvert_exporter": "python",
      "pygments_lexer": "ipython3",
      "version": "3.8.8"
    },
    "accelerator": "GPU"
  },
  "cells": [
    {
      "cell_type": "markdown",
      "metadata": {
        "id": "view-in-github",
        "colab_type": "text"
      },
      "source": [
        "<a href=\"https://colab.research.google.com/github/NongNNew/Project_499/blob/main/Project_499_CNN.ipynb\" target=\"_parent\"><img src=\"https://colab.research.google.com/assets/colab-badge.svg\" alt=\"Open In Colab\"/></a>"
      ]
    },
    {
      "cell_type": "markdown",
      "metadata": {
        "id": "hW4AHGmEVrk8"
      },
      "source": [
        "# **CNN**"
      ],
      "id": "hW4AHGmEVrk8"
    },
    {
      "cell_type": "markdown",
      "metadata": {
        "id": "nkYRb02rScfH"
      },
      "source": [
        "## Setup"
      ],
      "id": "nkYRb02rScfH"
    },
    {
      "cell_type": "code",
      "metadata": {
        "colab": {
          "base_uri": "https://localhost:8080/"
        },
        "id": "Nq11bNFAbCci",
        "outputId": "d494ab61-8387-4a79-e91b-a9746e1f1706"
      },
      "source": [
        "!pip install python_speech_features"
      ],
      "id": "Nq11bNFAbCci",
      "execution_count": null,
      "outputs": [
        {
          "output_type": "stream",
          "name": "stdout",
          "text": [
            "Collecting python_speech_features\n",
            "  Downloading python_speech_features-0.6.tar.gz (5.6 kB)\n",
            "Building wheels for collected packages: python-speech-features\n",
            "  Building wheel for python-speech-features (setup.py) ... \u001b[?25l\u001b[?25hdone\n",
            "  Created wheel for python-speech-features: filename=python_speech_features-0.6-py3-none-any.whl size=5888 sha256=04e84e17edde924f53d86932c87a2b7f6f2c1789cf81c9762e8857533cd95c0d\n",
            "  Stored in directory: /root/.cache/pip/wheels/b0/0e/94/28cd6afa3cd5998a63eef99fe31777acd7d758f59cf24839eb\n",
            "Successfully built python-speech-features\n",
            "Installing collected packages: python-speech-features\n",
            "Successfully installed python-speech-features-0.6\n"
          ]
        }
      ]
    },
    {
      "cell_type": "code",
      "metadata": {
        "id": "fssuU2ucR1vy"
      },
      "source": [
        "import librosa\n",
        "import numpy as np\n",
        "import pandas as pd\n",
        "from time import time\n",
        "from glob import glob\n",
        "import tensorflow as tf\n",
        "from tensorflow import keras \n",
        "import python_speech_features\n",
        "import matplotlib.pyplot as plt\n",
        "from scipy.signal.windows import hamming\n",
        "from sklearn.metrics import classification_report,  plot_confusion_matrix\n",
        "from sklearn.model_selection import train_test_split"
      ],
      "id": "fssuU2ucR1vy",
      "execution_count": null,
      "outputs": []
    },
    {
      "cell_type": "code",
      "metadata": {
        "id": "y1vuUlgJSKkC"
      },
      "source": [
        "np.random.seed(1)\n",
        "tf.random.set_seed(1)"
      ],
      "id": "y1vuUlgJSKkC",
      "execution_count": null,
      "outputs": []
    },
    {
      "cell_type": "code",
      "metadata": {
        "colab": {
          "base_uri": "https://localhost:8080/"
        },
        "id": "gJVdtdww87RO",
        "outputId": "bdb598e1-c842-462f-b6c2-4f0ea427b6d3"
      },
      "source": [
        "# Upload audio files from github\n",
        "!git clone https://github.com/NongNNew/Project_499.git"
      ],
      "id": "gJVdtdww87RO",
      "execution_count": null,
      "outputs": [
        {
          "output_type": "stream",
          "name": "stdout",
          "text": [
            "Cloning into 'Project_499'...\n",
            "remote: Enumerating objects: 1589, done.\u001b[K\n",
            "remote: Counting objects: 100% (145/145), done.\u001b[K\n",
            "remote: Compressing objects: 100% (105/105), done.\u001b[K\n",
            "remote: Total 1589 (delta 64), reused 96 (delta 39), pack-reused 1444\u001b[K\n",
            "Receiving objects: 100% (1589/1589), 238.28 MiB | 27.38 MiB/s, done.\n",
            "Resolving deltas: 100% (212/212), done.\n",
            "Checking out files: 100% (1147/1147), done.\n"
          ]
        }
      ]
    },
    {
      "cell_type": "markdown",
      "metadata": {
        "id": "BRWP2IrOShCH"
      },
      "source": [
        "## Prepare dataset"
      ],
      "id": "BRWP2IrOShCH"
    },
    {
      "cell_type": "code",
      "metadata": {
        "id": "EHnDUT5YejVV"
      },
      "source": [
        "# Name of vegetables and fruits 52 types of 56 classes\n",
        "fruit_veget = ['กระชาย','กระท้อน','กระเทียม1','กระเทียม2','กระเพรา','กล้วยน้ำว้า','กล้วยหอม',\n",
        "               'ข้าวโพด','ไข่น้ำ',\n",
        "               'ตะขบไทย','ตะไคร้',\n",
        "               'ถั่วฝักยาว','ถั่วลันเตา','ถั่วลิสง',\n",
        "               'ทับทิม',\n",
        "               'น้อยหน่า','น้ำเต้า',\n",
        "               'ผักกระเฉด','ผักกุยช่าย','ผักขึ้นช่าย','ผักชะอม','ผักชี','ผักชีฝรั่ง','ผักตำลึง',\n",
        "               'มะปราง','มะพลับ','มะละกอ','มะกรูด','มะเขือพวง','มะเขือเทศ','มะระ','มะรุม','มะตูม','มันแกว1','มันแกว2','มันเทศ','มันฝรั่ง','มันสำปะหลัง',\n",
        "               'บวบ','ใบชะพลู1','ใบชะพลู2','ใบบัวบก','ใบแมงลัก','ใบยอ',\n",
        "               'พริกขี้หนู','พริกสด','พุทรา','เพกา',\n",
        "               'ฝรั่ง',\n",
        "               'ฟัก','ฟักทอง',\n",
        "               'สับปะรด','สะเดา','สะระแหน่',\n",
        "               'หัวหอม1','หัวหอม2']\n",
        "\n",
        "# Audio data source\n",
        "source = {'audio_time':[],\n",
        "          'sampling_rate':[],\n",
        "          'feature_extraction':[],\n",
        "          'label':[],\n",
        "          'description':[]}"
      ],
      "id": "EHnDUT5YejVV",
      "execution_count": null,
      "outputs": []
    },
    {
      "cell_type": "code",
      "metadata": {
        "id": "_XRqKtGBeW_1"
      },
      "source": [
        "def feature_mfcc(y,sr):\n",
        "    return (python_speech_features.mfcc(signal=y, \n",
        "                                    samplerate=sr, \n",
        "                                    winlen= 512/sr, \n",
        "                                    winstep= 160/sr,\n",
        "                                    numcep= 13,\n",
        "                                    nfilt= 40, \n",
        "                                    nfft= 512,\n",
        "                                    lowfreq= 0,\n",
        "                                    highfreq= None,\n",
        "                                    preemph= 0.97, \n",
        "                                    ceplifter= 0,\n",
        "                                    winfunc= hamming))"
      ],
      "id": "_XRqKtGBeW_1",
      "execution_count": null,
      "outputs": []
    },
    {
      "cell_type": "code",
      "metadata": {
        "id": "tixApnAUy5tv"
      },
      "source": [
        "for types in fruit_veget:\n",
        "    audio_files = glob('/content/Project_499/Record_audio/' + str(types) + '/*.wav')\n",
        "\n",
        "    for audio in audio_files:\n",
        "        y,sr = librosa.load(audio,duration=5,offset=0)\n",
        "        source['description'].append(str(types))\n",
        "        source['audio_time'].append(y)\n",
        "        source['sampling_rate'].append(sr)\n",
        "        source['feature_extraction'].append(feature_mfcc(y,sr))\n",
        "        source['label'].append(fruit_veget.index(types))"
      ],
      "id": "tixApnAUy5tv",
      "execution_count": null,
      "outputs": []
    },
    {
      "cell_type": "code",
      "metadata": {
        "colab": {
          "base_uri": "https://localhost:8080/"
        },
        "id": "8B6cSV4Ckude",
        "outputId": "da931fe0-ea27-4751-fb90-4e1b642bf718"
      },
      "source": [
        "# tranform dictionary to dataframe \n",
        "df = pd.DataFrame.from_dict(source)\n",
        "df"
      ],
      "id": "8B6cSV4Ckude",
      "execution_count": null,
      "outputs": [
        {
          "output_type": "execute_result",
          "data": {
            "text/html": [
              "<div>\n",
              "<style scoped>\n",
              "    .dataframe tbody tr th:only-of-type {\n",
              "        vertical-align: middle;\n",
              "    }\n",
              "\n",
              "    .dataframe tbody tr th {\n",
              "        vertical-align: top;\n",
              "    }\n",
              "\n",
              "    .dataframe thead th {\n",
              "        text-align: right;\n",
              "    }\n",
              "</style>\n",
              "<table border=\"1\" class=\"dataframe\">\n",
              "  <thead>\n",
              "    <tr style=\"text-align: right;\">\n",
              "      <th></th>\n",
              "      <th>audio_time</th>\n",
              "      <th>sampling_rate</th>\n",
              "      <th>feature_extraction</th>\n",
              "      <th>label</th>\n",
              "      <th>description</th>\n",
              "    </tr>\n",
              "  </thead>\n",
              "  <tbody>\n",
              "    <tr>\n",
              "      <th>0</th>\n",
              "      <td>[-0.0001373291, -0.00010681152, -0.0001373291,...</td>\n",
              "      <td>22050</td>\n",
              "      <td>[[-14.29427199922967, -12.519938088048788, 2.4...</td>\n",
              "      <td>0</td>\n",
              "      <td>กระชาย</td>\n",
              "    </tr>\n",
              "    <tr>\n",
              "      <th>1</th>\n",
              "      <td>[1.5258789e-05, -3.0517578e-05, 4.5776367e-05,...</td>\n",
              "      <td>22050</td>\n",
              "      <td>[[-13.895163210723114, -10.534242113550562, 0....</td>\n",
              "      <td>0</td>\n",
              "      <td>กระชาย</td>\n",
              "    </tr>\n",
              "    <tr>\n",
              "      <th>2</th>\n",
              "      <td>[-0.00024414062, -0.0002593994, -0.00022888184...</td>\n",
              "      <td>22050</td>\n",
              "      <td>[[-13.849791727695862, -11.588470019049367, -0...</td>\n",
              "      <td>0</td>\n",
              "      <td>กระชาย</td>\n",
              "    </tr>\n",
              "    <tr>\n",
              "      <th>3</th>\n",
              "      <td>[-0.0009765625, -0.001449585, -0.001373291, -0...</td>\n",
              "      <td>22050</td>\n",
              "      <td>[[-13.841251857084886, -10.542052145166839, 1....</td>\n",
              "      <td>0</td>\n",
              "      <td>กระชาย</td>\n",
              "    </tr>\n",
              "    <tr>\n",
              "      <th>4</th>\n",
              "      <td>[-0.0002593994, -0.00021362305, -0.0002593994,...</td>\n",
              "      <td>22050</td>\n",
              "      <td>[[-13.887572338003839, -11.509363999125966, 0....</td>\n",
              "      <td>0</td>\n",
              "      <td>กระชาย</td>\n",
              "    </tr>\n",
              "    <tr>\n",
              "      <th>...</th>\n",
              "      <td>...</td>\n",
              "      <td>...</td>\n",
              "      <td>...</td>\n",
              "      <td>...</td>\n",
              "      <td>...</td>\n",
              "    </tr>\n",
              "    <tr>\n",
              "      <th>1115</th>\n",
              "      <td>[-7.6293945e-05, -9.1552734e-05, 0.0, 1.525878...</td>\n",
              "      <td>22050</td>\n",
              "      <td>[[-13.93405270581039, -11.744337964457122, 1.2...</td>\n",
              "      <td>55</td>\n",
              "      <td>หัวหอม2</td>\n",
              "    </tr>\n",
              "    <tr>\n",
              "      <th>1116</th>\n",
              "      <td>[3.0517578e-05, -6.1035156e-05, 6.1035156e-05,...</td>\n",
              "      <td>22050</td>\n",
              "      <td>[[-14.050800633014068, -10.083539910076112, 2....</td>\n",
              "      <td>55</td>\n",
              "      <td>หัวหอม2</td>\n",
              "    </tr>\n",
              "    <tr>\n",
              "      <th>1117</th>\n",
              "      <td>[-1.5258789e-05, 1.5258789e-05, -3.0517578e-05...</td>\n",
              "      <td>22050</td>\n",
              "      <td>[[-14.141277651821667, -10.094774825754069, 1....</td>\n",
              "      <td>55</td>\n",
              "      <td>หัวหอม2</td>\n",
              "    </tr>\n",
              "    <tr>\n",
              "      <th>1118</th>\n",
              "      <td>[0.0, -1.5258789e-05, 3.0517578e-05, -3.051757...</td>\n",
              "      <td>22050</td>\n",
              "      <td>[[-14.18512183869517, -10.797166196952473, 3.3...</td>\n",
              "      <td>55</td>\n",
              "      <td>หัวหอม2</td>\n",
              "    </tr>\n",
              "    <tr>\n",
              "      <th>1119</th>\n",
              "      <td>[1.5258789e-05, -4.5776367e-05, 4.5776367e-05,...</td>\n",
              "      <td>22050</td>\n",
              "      <td>[[-13.862199697176345, -10.033334893928362, 0....</td>\n",
              "      <td>55</td>\n",
              "      <td>หัวหอม2</td>\n",
              "    </tr>\n",
              "  </tbody>\n",
              "</table>\n",
              "<p>1120 rows × 5 columns</p>\n",
              "</div>"
            ],
            "text/plain": [
              "                                             audio_time  ...  description\n",
              "0     [-0.0001373291, -0.00010681152, -0.0001373291,...  ...       กระชาย\n",
              "1     [1.5258789e-05, -3.0517578e-05, 4.5776367e-05,...  ...       กระชาย\n",
              "2     [-0.00024414062, -0.0002593994, -0.00022888184...  ...       กระชาย\n",
              "3     [-0.0009765625, -0.001449585, -0.001373291, -0...  ...       กระชาย\n",
              "4     [-0.0002593994, -0.00021362305, -0.0002593994,...  ...       กระชาย\n",
              "...                                                 ...  ...          ...\n",
              "1115  [-7.6293945e-05, -9.1552734e-05, 0.0, 1.525878...  ...      หัวหอม2\n",
              "1116  [3.0517578e-05, -6.1035156e-05, 6.1035156e-05,...  ...      หัวหอม2\n",
              "1117  [-1.5258789e-05, 1.5258789e-05, -3.0517578e-05...  ...      หัวหอม2\n",
              "1118  [0.0, -1.5258789e-05, 3.0517578e-05, -3.051757...  ...      หัวหอม2\n",
              "1119  [1.5258789e-05, -4.5776367e-05, 4.5776367e-05,...  ...      หัวหอม2\n",
              "\n",
              "[1120 rows x 5 columns]"
            ]
          },
          "metadata": {},
          "execution_count": 8
        }
      ]
    },
    {
      "cell_type": "code",
      "metadata": {
        "id": "T7yzW3hnmuyB"
      },
      "source": [
        "\n",
        "Test = pd.DataFrame(columns=source.keys())\n",
        "\n",
        "# Create test data\n",
        "\n",
        "for description in np.unique(df['description']):\n",
        "    imp_test = df[df['description']==description].sample(5,random_state=1)\n",
        "    Test = pd.concat([Test,imp_test], axis=0)\n",
        "Train = df.drop(index=Test.index)\n",
        "\n",
        "Valid = pd.DataFrame(columns=source.keys())\n",
        "for description in np.unique(Train['description']):\n",
        "    imp_test = Train[Train['description']==description].sample(3,random_state=1)\n",
        "    Valid = pd.concat([Valid,imp_test], axis=0)\n",
        "Train = Train.drop(index=Valid.index)\n",
        "\n",
        "X_train = np.array(Train['feature_extraction'].to_list())\n",
        "X_test = np.array(Test['feature_extraction'].to_list())\n",
        "X_valid = np.array(Valid['feature_extraction'].to_list())\n",
        "y_train = np.array(Train['label'].to_list())\n",
        "y_test = np.array(Test['label'].to_list())\n",
        "y_valid = np.array(Valid['label'].to_list())"
      ],
      "id": "T7yzW3hnmuyB",
      "execution_count": null,
      "outputs": []
    },
    {
      "cell_type": "code",
      "metadata": {
        "colab": {
          "base_uri": "https://localhost:8080/"
        },
        "id": "mSV3u9RmEU7h",
        "outputId": "713be782-09b5-4c6e-e8d4-64fc884943e9"
      },
      "source": [
        "# Proportion of data\n",
        "y_train.shape, y_valid.shape, y_test.shape"
      ],
      "id": "mSV3u9RmEU7h",
      "execution_count": null,
      "outputs": [
        {
          "output_type": "execute_result",
          "data": {
            "text/plain": [
              "((672,), (168,), (280,))"
            ]
          },
          "metadata": {},
          "execution_count": 12
        }
      ]
    },
    {
      "cell_type": "markdown",
      "metadata": {
        "id": "r7RGaVViSrwg"
      },
      "source": [
        "## Build cnn model"
      ],
      "id": "r7RGaVViSrwg"
    },
    {
      "cell_type": "code",
      "metadata": {
        "id": "77wMVqve6W8f"
      },
      "source": [
        "def create_cnn_model(activation='relu',dropout=0.25,optimizer='adam'):\n",
        "    np.random.seed(1)\n",
        "    tf.random.set_seed(1)\n",
        "    model = None\n",
        "    model = keras.Sequential()\n",
        "\n",
        "    model.add(keras.layers.Conv2D(128, 5, input_shape=(X_train.shape[1], X_train.shape[2], 1), activation=activation))\n",
        "    model.add(keras.layers.Dropout(dropout))\n",
        "    model.add(keras.layers.MaxPool2D())\n",
        "\n",
        "    model.add(keras.layers.Conv2D(64, 5, activation=activation,padding='same'))\n",
        "    model.add(keras.layers.Dropout(dropout))\n",
        "    model.add(keras.layers.MaxPool2D())\n",
        "\n",
        "    model.add(keras.layers.Conv2D(64, 5, activation=activation,padding='same'))\n",
        "    model.add(keras.layers.Dropout(dropout))\n",
        "    model.add(keras.layers.MaxPool2D())\n",
        "\n",
        "    model.add(keras.layers.Flatten())\n",
        "    model.add(keras.layers.Dense(128, activation=activation))\n",
        "    model.add(keras.layers.Dropout(dropout))\n",
        "\n",
        "    model.add(keras.layers.Dense(64, activation=activation))\n",
        "    model.add(keras.layers.Dropout(dropout))\n",
        "\n",
        "    model.add(keras.layers.Dense(len(np.unique(df['label'])), activation='softmax'))\n",
        "    \n",
        "    model.compile(optimizer=optimizer, loss='sparse_categorical_crossentropy', metrics=['accuracy'])\n",
        "\n",
        "    # model.summary()\n",
        "\n",
        "    return model"
      ],
      "id": "77wMVqve6W8f",
      "execution_count": null,
      "outputs": []
    },
    {
      "cell_type": "markdown",
      "metadata": {
        "id": "0xv_Bj3d310E"
      },
      "source": [
        "## Find each hyperparameter"
      ],
      "id": "0xv_Bj3d310E"
    },
    {
      "cell_type": "code",
      "metadata": {
        "id": "YEIO2YO536Rb"
      },
      "source": [
        "# find hyperparameter\n",
        "epochs = [20,30,50,100,150]\n",
        "batch_size = [16,32,50,64,80,100]\n",
        "dropout = [0.2,0.25,0.3,0.4]\n",
        "lr = [0.001,0.01,0.1,0.2] \n",
        "activation = ['softmax', 'softplus', 'softsign', 'relu', 'tanh', 'sigmoid', 'hard_sigmoid', 'linear']\n",
        "optimizer = ['SGD', 'RMSprop', 'Adagrad', 'Adadelta', 'Adam', 'Adamax', 'Nadam']"
      ],
      "id": "YEIO2YO536Rb",
      "execution_count": null,
      "outputs": []
    },
    {
      "cell_type": "markdown",
      "metadata": {
        "id": "f0UMa3i_4ec3"
      },
      "source": [
        "### epoachs"
      ],
      "id": "f0UMa3i_4ec3"
    },
    {
      "cell_type": "code",
      "metadata": {
        "id": "L8wXVzcE4GSZ",
        "colab": {
          "base_uri": "https://localhost:8080/"
        },
        "outputId": "ba3186ec-57b6-4c84-9fb0-97ea75799204"
      },
      "source": [
        "from sklearn.model_selection import GridSearchCV\n",
        "from keras.wrappers.scikit_learn import KerasClassifier\n",
        "\n",
        "model = KerasClassifier(build_fn=create_cnn_model,verbose=0)\n",
        "\n",
        "start = time()\n",
        "param_grid = dict(epochs=epochs)\n",
        "grid = GridSearchCV(estimator=model, param_grid=param_grid, cv=3).fit(X_train[:,:,:,None],y_train)\n",
        "end = time()\n",
        "\n",
        "print(f'time: {end-start} sec')\n",
        "\n",
        "print(\"Best: %f using %s\" % (grid.best_score_, grid.best_params_))\n",
        "rank = grid.cv_results_['rank_test_score']\n",
        "means = grid.cv_results_['mean_test_score']\n",
        "stds = grid.cv_results_['std_test_score']\n",
        "params = grid.cv_results_['params']  \n",
        "for mean, stdev, param in zip(means, stds, params):\n",
        "    print(\"%f (%f) with:%r\"%(mean, stdev, param))"
      ],
      "id": "L8wXVzcE4GSZ",
      "execution_count": null,
      "outputs": [
        {
          "output_type": "stream",
          "name": "stdout",
          "text": [
            "time: 341.8511073589325 sec\n",
            "Best: 0.040179 using {'epochs': 30}\n",
            "0.038690 (0.007588) with:{'epochs': 20}\n",
            "0.040179 (0.010935) with:{'epochs': 30}\n",
            "0.029762 (0.014731) with:{'epochs': 50}\n",
            "0.038690 (0.005568) with:{'epochs': 100}\n",
            "0.034226 (0.002104) with:{'epochs': 150}\n"
          ]
        }
      ]
    },
    {
      "cell_type": "markdown",
      "metadata": {
        "id": "YFdH7ttM4hwN"
      },
      "source": [
        "### batch size"
      ],
      "id": "YFdH7ttM4hwN"
    },
    {
      "cell_type": "code",
      "metadata": {
        "id": "mIYS7nEu4mgt",
        "colab": {
          "base_uri": "https://localhost:8080/"
        },
        "outputId": "2a1c5313-ffee-4841-b9ce-7d278ae7e700"
      },
      "source": [
        "from sklearn.model_selection import GridSearchCV\n",
        "from keras.wrappers.scikit_learn import KerasClassifier\n",
        "\n",
        "model = KerasClassifier(build_fn=create_cnn_model,verbose=0,epochs=30)\n",
        "\n",
        "start = time()\n",
        "param_grid = dict(batch_size=batch_size)\n",
        "grid = GridSearchCV(estimator=model, param_grid=param_grid, cv=3).fit(X_train[:,:,:,None],y_train)\n",
        "end = time()\n",
        "\n",
        "print(f'time: {end-start} sec')\n",
        "\n",
        "print(\"Best: %f using %s\" % (grid.best_score_, grid.best_params_))\n",
        "rank = grid.cv_results_['rank_test_score']\n",
        "means = grid.cv_results_['mean_test_score']\n",
        "stds = grid.cv_results_['std_test_score']\n",
        "params = grid.cv_results_['params']  \n",
        "for mean, stdev, param in zip(means, stds, params):\n",
        "    print(\"%f (%f) with:%r\"%(mean, stdev, param))"
      ],
      "id": "mIYS7nEu4mgt",
      "execution_count": null,
      "outputs": [
        {
          "output_type": "stream",
          "name": "stdout",
          "text": [
            "WARNING:tensorflow:5 out of the last 14 calls to <function Model.make_test_function.<locals>.test_function at 0x7fc5cc17a440> triggered tf.function retracing. Tracing is expensive and the excessive number of tracings could be due to (1) creating @tf.function repeatedly in a loop, (2) passing tensors with different shapes, (3) passing Python objects instead of tensors. For (1), please define your @tf.function outside of the loop. For (2), @tf.function has experimental_relax_shapes=True option that relaxes argument shapes that can avoid unnecessary retracing. For (3), please refer to https://www.tensorflow.org/guide/function#controlling_retracing and https://www.tensorflow.org/api_docs/python/tf/function for  more details.\n",
            "WARNING:tensorflow:5 out of the last 13 calls to <function Model.make_test_function.<locals>.test_function at 0x7fc5b48d8a70> triggered tf.function retracing. Tracing is expensive and the excessive number of tracings could be due to (1) creating @tf.function repeatedly in a loop, (2) passing tensors with different shapes, (3) passing Python objects instead of tensors. For (1), please define your @tf.function outside of the loop. For (2), @tf.function has experimental_relax_shapes=True option that relaxes argument shapes that can avoid unnecessary retracing. For (3), please refer to https://www.tensorflow.org/guide/function#controlling_retracing and https://www.tensorflow.org/api_docs/python/tf/function for  more details.\n",
            "time: 177.85200142860413 sec\n",
            "Best: 0.049107 using {'batch_size': 64}\n",
            "0.023810 (0.005568) with:{'batch_size': 16}\n",
            "0.031250 (0.003645) with:{'batch_size': 32}\n",
            "0.034226 (0.005568) with:{'batch_size': 50}\n",
            "0.049107 (0.022763) with:{'batch_size': 64}\n",
            "0.031250 (0.007290) with:{'batch_size': 80}\n",
            "0.037202 (0.014731) with:{'batch_size': 100}\n"
          ]
        }
      ]
    },
    {
      "cell_type": "markdown",
      "metadata": {
        "id": "xfQsiSAl43I2"
      },
      "source": [
        "### dropout"
      ],
      "id": "xfQsiSAl43I2"
    },
    {
      "cell_type": "code",
      "metadata": {
        "id": "GzLr5_9X6AIP",
        "colab": {
          "base_uri": "https://localhost:8080/"
        },
        "outputId": "fa787d1f-5aaa-4835-c061-6c790a619895"
      },
      "source": [
        "# find hyperparameter\n",
        "epochs = [30]\n",
        "batch_size = [64]\n",
        "dropout = [0.2,0.25,0.3,0.4]\n",
        "\n",
        "\n",
        "from sklearn.model_selection import GridSearchCV\n",
        "from keras.wrappers.scikit_learn import KerasClassifier\n",
        "\n",
        "model = KerasClassifier(build_fn=create_cnn_model,verbose=0)\n",
        "\n",
        "start = time()\n",
        "param_grid = dict(dropout=dropout,epochs=epochs,batch_size=batch_size)\n",
        "grid = GridSearchCV(estimator=model, param_grid=param_grid, cv=3).fit(X_train[:,:,:,None],y_train)\n",
        "end = time()\n",
        "\n",
        "print(f'time: {end-start} sec')\n",
        "\n",
        "print(\"Best: %f using %s\" % (grid.best_score_, grid.best_params_))\n",
        "rank = grid.cv_results_['rank_test_score']\n",
        "means = grid.cv_results_['mean_test_score']\n",
        "stds = grid.cv_results_['std_test_score']\n",
        "params = grid.cv_results_['params']  \n",
        "for mean, stdev, param in zip(means, stds, params):\n",
        "    print(\"%f (%f) with:%r\"%(mean, stdev, param))"
      ],
      "id": "GzLr5_9X6AIP",
      "execution_count": null,
      "outputs": [
        {
          "output_type": "stream",
          "name": "stdout",
          "text": [
            "time: 121.16583919525146 sec\n",
            "Best: 0.034226 using {'batch_size': 64, 'dropout': 0.2, 'epochs': 30}\n",
            "0.034226 (0.005568) with:{'batch_size': 64, 'dropout': 0.2, 'epochs': 30}\n",
            "0.031250 (0.006313) with:{'batch_size': 64, 'dropout': 0.25, 'epochs': 30}\n",
            "0.023810 (0.005568) with:{'batch_size': 64, 'dropout': 0.3, 'epochs': 30}\n",
            "0.011905 (0.011136) with:{'batch_size': 64, 'dropout': 0.4, 'epochs': 30}\n"
          ]
        }
      ]
    },
    {
      "cell_type": "markdown",
      "metadata": {
        "id": "rJVsxC7P6dwE"
      },
      "source": [
        "### activation"
      ],
      "id": "rJVsxC7P6dwE"
    },
    {
      "cell_type": "code",
      "metadata": {
        "id": "-mL5xc076gCq",
        "colab": {
          "base_uri": "https://localhost:8080/"
        },
        "outputId": "3f1600ea-e68d-4a86-a596-c290bf24e63f"
      },
      "source": [
        "# find hyperparameter\n",
        "epochs = [30]\n",
        "batch_size = [64]\n",
        "dropout = [0.2]\n",
        "activation = ['softmax', 'softplus', 'softsign', 'relu', 'tanh', 'sigmoid', 'hard_sigmoid', 'linear']\n",
        "\n",
        "\n",
        "from sklearn.model_selection import GridSearchCV\n",
        "from keras.wrappers.scikit_learn import KerasClassifier\n",
        "\n",
        "model = KerasClassifier(build_fn=create_cnn_model,verbose=0)\n",
        "\n",
        "start = time()\n",
        "param_grid = dict(dropout=dropout,epochs=epochs,batch_size=batch_size,activation=activation)\n",
        "grid = GridSearchCV(estimator=model, param_grid=param_grid, cv=3).fit(X_train[:,:,:,None],y_train)\n",
        "end = time()\n",
        "\n",
        "print(f'time: {end-start} sec')\n",
        "\n",
        "print(\"Best: %f using %s\" % (grid.best_score_, grid.best_params_))\n",
        "rank = grid.cv_results_['rank_test_score']\n",
        "means = grid.cv_results_['mean_test_score']\n",
        "stds = grid.cv_results_['std_test_score']\n",
        "params = grid.cv_results_['params']  \n",
        "for mean, stdev, param in zip(means, stds, params):\n",
        "    print(\"%f (%f) with:%r\"%(mean, stdev, param))"
      ],
      "id": "-mL5xc076gCq",
      "execution_count": null,
      "outputs": [
        {
          "output_type": "stream",
          "name": "stdout",
          "text": [
            "time: 236.39379286766052 sec\n",
            "Best: 0.032738 using {'activation': 'relu', 'batch_size': 64, 'dropout': 0.2, 'epochs': 30}\n",
            "0.000000 (0.000000) with:{'activation': 'softmax', 'batch_size': 64, 'dropout': 0.2, 'epochs': 30}\n",
            "0.002976 (0.002104) with:{'activation': 'softplus', 'batch_size': 64, 'dropout': 0.2, 'epochs': 30}\n",
            "0.019345 (0.012801) with:{'activation': 'softsign', 'batch_size': 64, 'dropout': 0.2, 'epochs': 30}\n",
            "0.032738 (0.004209) with:{'activation': 'relu', 'batch_size': 64, 'dropout': 0.2, 'epochs': 30}\n",
            "0.020833 (0.015176) with:{'activation': 'tanh', 'batch_size': 64, 'dropout': 0.2, 'epochs': 30}\n",
            "0.000000 (0.000000) with:{'activation': 'sigmoid', 'batch_size': 64, 'dropout': 0.2, 'epochs': 30}\n",
            "0.000000 (0.000000) with:{'activation': 'hard_sigmoid', 'batch_size': 64, 'dropout': 0.2, 'epochs': 30}\n",
            "0.025298 (0.011717) with:{'activation': 'linear', 'batch_size': 64, 'dropout': 0.2, 'epochs': 30}\n"
          ]
        }
      ]
    },
    {
      "cell_type": "markdown",
      "metadata": {
        "id": "IZcQCVNq9af0"
      },
      "source": [
        "### optimizer"
      ],
      "id": "IZcQCVNq9af0"
    },
    {
      "cell_type": "code",
      "metadata": {
        "id": "Em9LGSMJ9ZJ0",
        "colab": {
          "base_uri": "https://localhost:8080/"
        },
        "outputId": "bcfd9f67-1547-46a8-933f-14e8d6408391"
      },
      "source": [
        "# find hyperparameter\n",
        "epochs = [30]\n",
        "batch_size = [64]\n",
        "dropout = [0.2]\n",
        "activation = ['relu']\n",
        "optimizer = ['SGD', 'RMSprop', 'Adagrad', 'Adadelta', 'Adam', 'Adamax', 'Nadam']\n",
        "\n",
        "from sklearn.model_selection import GridSearchCV\n",
        "from keras.wrappers.scikit_learn import KerasClassifier\n",
        "\n",
        "model = KerasClassifier(build_fn=create_cnn_model,verbose=0)\n",
        "\n",
        "start = time()\n",
        "param_grid = dict(dropout=dropout,epochs=epochs,batch_size=batch_size,activation=activation,optimizer=optimizer)\n",
        "grid = GridSearchCV(estimator=model, param_grid=param_grid, cv=3).fit(X_train[:,:,:,None],y_train)\n",
        "end = time()\n",
        "\n",
        "print(f'time: {end-start} sec')\n",
        "\n",
        "print(\"Best: %f using %s\" % (grid.best_score_, grid.best_params_))\n",
        "rank = grid.cv_results_['rank_test_score']\n",
        "means = grid.cv_results_['mean_test_score']\n",
        "stds = grid.cv_results_['std_test_score']\n",
        "params = grid.cv_results_['params']  \n",
        "for mean, stdev, param in zip(means, stds, params):\n",
        "    print(\"%f (%f) with:%r\"%(mean, stdev, param))"
      ],
      "id": "Em9LGSMJ9ZJ0",
      "execution_count": null,
      "outputs": [
        {
          "output_type": "stream",
          "name": "stdout",
          "text": [
            "time: 202.20222973823547 sec\n",
            "Best: 0.037202 using {'activation': 'relu', 'batch_size': 64, 'dropout': 0.2, 'epochs': 30, 'optimizer': 'RMSprop'}\n",
            "0.016369 (0.011136) with:{'activation': 'relu', 'batch_size': 64, 'dropout': 0.2, 'epochs': 30, 'optimizer': 'SGD'}\n",
            "0.037202 (0.002104) with:{'activation': 'relu', 'batch_size': 64, 'dropout': 0.2, 'epochs': 30, 'optimizer': 'RMSprop'}\n",
            "0.000000 (0.000000) with:{'activation': 'relu', 'batch_size': 64, 'dropout': 0.2, 'epochs': 30, 'optimizer': 'Adagrad'}\n",
            "0.001488 (0.002104) with:{'activation': 'relu', 'batch_size': 64, 'dropout': 0.2, 'epochs': 30, 'optimizer': 'Adadelta'}\n",
            "0.026786 (0.013143) with:{'activation': 'relu', 'batch_size': 64, 'dropout': 0.2, 'epochs': 30, 'optimizer': 'Adam'}\n",
            "0.035714 (0.012627) with:{'activation': 'relu', 'batch_size': 64, 'dropout': 0.2, 'epochs': 30, 'optimizer': 'Adamax'}\n",
            "0.029762 (0.005568) with:{'activation': 'relu', 'batch_size': 64, 'dropout': 0.2, 'epochs': 30, 'optimizer': 'Nadam'}\n"
          ]
        }
      ]
    },
    {
      "cell_type": "markdown",
      "metadata": {
        "id": "y_KIFZ8m8LPP"
      },
      "source": [
        "### learning rate"
      ],
      "id": "y_KIFZ8m8LPP"
    },
    {
      "cell_type": "code",
      "metadata": {
        "id": "2iP4ZqcQ9Pna"
      },
      "source": [
        "def create_cnn_model(activation='relu',dropout=0.25,optimizer='adam',learn_rate=0.001):\n",
        "    np.random.seed(1)\n",
        "    tf.random.set_seed(1)\n",
        "    model = None\n",
        "    model = keras.Sequential()\n",
        "\n",
        "    model.add(keras.layers.Conv2D(128, 5, input_shape=(X_train.shape[1], X_train.shape[2], 1), activation=activation))\n",
        "    model.add(keras.layers.Dropout(dropout))\n",
        "    model.add(keras.layers.MaxPool2D())\n",
        "\n",
        "    model.add(keras.layers.Conv2D(64, 5, activation=activation,padding='same'))\n",
        "    model.add(keras.layers.Dropout(dropout))\n",
        "    model.add(keras.layers.MaxPool2D())\n",
        "\n",
        "    model.add(keras.layers.Conv2D(64, 5, activation=activation,padding='same'))\n",
        "    model.add(keras.layers.Dropout(dropout))\n",
        "    model.add(keras.layers.MaxPool2D())\n",
        "\n",
        "    model.add(keras.layers.Flatten())\n",
        "    model.add(keras.layers.Dense(128, activation=activation))\n",
        "    model.add(keras.layers.Dropout(dropout))\n",
        "\n",
        "    model.add(keras.layers.Dense(64, activation=activation))\n",
        "    model.add(keras.layers.Dropout(dropout))\n",
        "\n",
        "    model.add(keras.layers.Dense(len(np.unique(df['label'])), activation='softmax'))\n",
        "    \n",
        "    optimizer = tf.keras.optimizers.RMSprop(lr=learn_rate)\n",
        "    model.compile(optimizer=optimizer, loss='sparse_categorical_crossentropy', metrics=['accuracy'])\n",
        "\n",
        "    # model.summary()\n",
        "\n",
        "    return model"
      ],
      "id": "2iP4ZqcQ9Pna",
      "execution_count": null,
      "outputs": []
    },
    {
      "cell_type": "code",
      "metadata": {
        "id": "m2CU2Lkj8Ope",
        "colab": {
          "base_uri": "https://localhost:8080/"
        },
        "outputId": "42074c40-6426-4f8e-f049-9c006698346e"
      },
      "source": [
        "# find hyperparameter\n",
        "epochs = [30]\n",
        "batch_size = [64]\n",
        "dropout = [0.2]\n",
        "activation = ['relu']\n",
        "lr = [0.0001,0.001,0.002,0.003,0.01,0.1,0.2] \n",
        "\n",
        "from sklearn.model_selection import GridSearchCV\n",
        "from keras.wrappers.scikit_learn import KerasClassifier\n",
        "\n",
        "model = KerasClassifier(build_fn=create_cnn_model,verbose=0)\n",
        "\n",
        "start = time()\n",
        "param_grid = dict(dropout=dropout,epochs=epochs,batch_size=batch_size,activation=activation,learn_rate=lr)\n",
        "grid = GridSearchCV(estimator=model, param_grid=param_grid, cv=3).fit(X_train[:,:,:,None],y_train)\n",
        "end = time()\n",
        "\n",
        "print(f'time: {end-start} sec')\n",
        "\n",
        "print(\"Best: %f using %s\" % (grid.best_score_, grid.best_params_))\n",
        "rank = grid.cv_results_['rank_test_score']\n",
        "means = grid.cv_results_['mean_test_score']\n",
        "stds = grid.cv_results_['std_test_score']\n",
        "params = grid.cv_results_['params']  \n",
        "for mean, stdev, param in zip(means, stds, params):\n",
        "    print(\"%f (%f) with:%r\"%(mean, stdev, param))"
      ],
      "id": "m2CU2Lkj8Ope",
      "execution_count": null,
      "outputs": [
        {
          "output_type": "stream",
          "name": "stderr",
          "text": [
            "/usr/local/lib/python3.7/dist-packages/keras/optimizer_v2/optimizer_v2.py:356: UserWarning: The `lr` argument is deprecated, use `learning_rate` instead.\n",
            "  \"The `lr` argument is deprecated, use `learning_rate` instead.\")\n"
          ]
        },
        {
          "output_type": "stream",
          "name": "stdout",
          "text": [
            "time: 205.64114952087402 sec\n",
            "Best: 0.034226 using {'activation': 'relu', 'batch_size': 64, 'dropout': 0.2, 'epochs': 30, 'learn_rate': 0.002}\n",
            "0.019345 (0.013800) with:{'activation': 'relu', 'batch_size': 64, 'dropout': 0.2, 'epochs': 30, 'learn_rate': 0.0001}\n",
            "0.026786 (0.006313) with:{'activation': 'relu', 'batch_size': 64, 'dropout': 0.2, 'epochs': 30, 'learn_rate': 0.001}\n",
            "0.034226 (0.005568) with:{'activation': 'relu', 'batch_size': 64, 'dropout': 0.2, 'epochs': 30, 'learn_rate': 0.002}\n",
            "0.025298 (0.002104) with:{'activation': 'relu', 'batch_size': 64, 'dropout': 0.2, 'epochs': 30, 'learn_rate': 0.003}\n",
            "0.014881 (0.021045) with:{'activation': 'relu', 'batch_size': 64, 'dropout': 0.2, 'epochs': 30, 'learn_rate': 0.01}\n",
            "0.000000 (0.000000) with:{'activation': 'relu', 'batch_size': 64, 'dropout': 0.2, 'epochs': 30, 'learn_rate': 0.1}\n",
            "0.000000 (0.000000) with:{'activation': 'relu', 'batch_size': 64, 'dropout': 0.2, 'epochs': 30, 'learn_rate': 0.2}\n"
          ]
        }
      ]
    },
    {
      "cell_type": "markdown",
      "metadata": {
        "id": "L47Ld3Y4_MpH"
      },
      "source": [
        "### train"
      ],
      "id": "L47Ld3Y4_MpH"
    },
    {
      "cell_type": "code",
      "metadata": {
        "id": "Yirb66Us_IcT",
        "colab": {
          "base_uri": "https://localhost:8080/"
        },
        "outputId": "b0b35d69-9cf9-4af9-b07d-11adfd0685b9"
      },
      "source": [
        "def create_cnn_model(activation='relu',dropout=0.2,optimizer='RMSprop',learn_rate=0.002):\n",
        "    np.random.seed(1)\n",
        "    tf.random.set_seed(1)\n",
        "    model = None\n",
        "    model = keras.Sequential()\n",
        "\n",
        "    model.add(keras.layers.Conv2D(128, 5, input_shape=(X_train.shape[1], X_train.shape[2], 1), activation=activation))\n",
        "    model.add(keras.layers.Dropout(dropout))\n",
        "    model.add(keras.layers.MaxPool2D())\n",
        "\n",
        "    model.add(keras.layers.Conv2D(64, 5, activation=activation,padding='same'))\n",
        "    model.add(keras.layers.Dropout(dropout))\n",
        "    model.add(keras.layers.MaxPool2D())\n",
        "\n",
        "    model.add(keras.layers.Conv2D(64, 5, activation=activation,padding='same'))\n",
        "    model.add(keras.layers.Dropout(dropout))\n",
        "    model.add(keras.layers.MaxPool2D())\n",
        "\n",
        "    model.add(keras.layers.Flatten())\n",
        "    model.add(keras.layers.Dense(128, activation=activation))\n",
        "    model.add(keras.layers.Dropout(dropout))\n",
        "\n",
        "    model.add(keras.layers.Dense(64, activation=activation))\n",
        "    model.add(keras.layers.Dropout(dropout))\n",
        "\n",
        "    model.add(keras.layers.Dense(len(np.unique(df['label'])), activation='softmax'))\n",
        "    \n",
        "    optimizer = tf.keras.optimizers.RMSprop(lr=learn_rate)\n",
        "    model.compile(optimizer=optimizer, loss='sparse_categorical_crossentropy', metrics=['accuracy'])\n",
        "\n",
        "    # model.summary()\n",
        "\n",
        "    return model\n",
        "\n",
        "# Train model\n",
        "start = time()\n",
        "model_cnn = create_cnn_model(activation='relu',dropout=0.2,optimizer='RMSprop',learn_rate=0.002)\n",
        "history = model_cnn.fit(X_train[:,:,:,None], y_train, epochs=30, validation_data=(X_valid[:,:,:,None],y_valid),batch_size=64,verbose=1)\n",
        "end = time()\n",
        "print(f'time: {end-start} sec')"
      ],
      "id": "Yirb66Us_IcT",
      "execution_count": null,
      "outputs": [
        {
          "output_type": "stream",
          "name": "stderr",
          "text": [
            "/usr/local/lib/python3.7/dist-packages/keras/optimizer_v2/optimizer_v2.py:356: UserWarning: The `lr` argument is deprecated, use `learning_rate` instead.\n",
            "  \"The `lr` argument is deprecated, use `learning_rate` instead.\")\n"
          ]
        },
        {
          "output_type": "stream",
          "name": "stdout",
          "text": [
            "Epoch 1/30\n",
            "11/11 [==============================] - 2s 56ms/step - loss: 12.8103 - accuracy: 0.0104 - val_loss: 4.0233 - val_accuracy: 0.0298\n",
            "Epoch 2/30\n",
            "11/11 [==============================] - 0s 42ms/step - loss: 4.0141 - accuracy: 0.0238 - val_loss: 3.9744 - val_accuracy: 0.0357\n",
            "Epoch 3/30\n",
            "11/11 [==============================] - 0s 42ms/step - loss: 3.9371 - accuracy: 0.0402 - val_loss: 3.8662 - val_accuracy: 0.0714\n",
            "Epoch 4/30\n",
            "11/11 [==============================] - 0s 43ms/step - loss: 3.7288 - accuracy: 0.0863 - val_loss: 3.7334 - val_accuracy: 0.1190\n",
            "Epoch 5/30\n",
            "11/11 [==============================] - 0s 43ms/step - loss: 3.3709 - accuracy: 0.1429 - val_loss: 3.1747 - val_accuracy: 0.2024\n",
            "Epoch 6/30\n",
            "11/11 [==============================] - 0s 43ms/step - loss: 3.0255 - accuracy: 0.1949 - val_loss: 2.8305 - val_accuracy: 0.3333\n",
            "Epoch 7/30\n",
            "11/11 [==============================] - 0s 43ms/step - loss: 2.5210 - accuracy: 0.3125 - val_loss: 2.2771 - val_accuracy: 0.4821\n",
            "Epoch 8/30\n",
            "11/11 [==============================] - 0s 42ms/step - loss: 2.1274 - accuracy: 0.4033 - val_loss: 1.6706 - val_accuracy: 0.6190\n",
            "Epoch 9/30\n",
            "11/11 [==============================] - 0s 42ms/step - loss: 1.7482 - accuracy: 0.4926 - val_loss: 1.6870 - val_accuracy: 0.6012\n",
            "Epoch 10/30\n",
            "11/11 [==============================] - 0s 42ms/step - loss: 1.5132 - accuracy: 0.5744 - val_loss: 1.2742 - val_accuracy: 0.7619\n",
            "Epoch 11/30\n",
            "11/11 [==============================] - 0s 42ms/step - loss: 1.2092 - accuracy: 0.6607 - val_loss: 1.1104 - val_accuracy: 0.7917\n",
            "Epoch 12/30\n",
            "11/11 [==============================] - 0s 42ms/step - loss: 0.9893 - accuracy: 0.7217 - val_loss: 0.8553 - val_accuracy: 0.7976\n",
            "Epoch 13/30\n",
            "11/11 [==============================] - 0s 42ms/step - loss: 0.8133 - accuracy: 0.7574 - val_loss: 0.8874 - val_accuracy: 0.8512\n",
            "Epoch 14/30\n",
            "11/11 [==============================] - 0s 42ms/step - loss: 0.5985 - accuracy: 0.8214 - val_loss: 0.9172 - val_accuracy: 0.7976\n",
            "Epoch 15/30\n",
            "11/11 [==============================] - 0s 42ms/step - loss: 0.7076 - accuracy: 0.7991 - val_loss: 0.6897 - val_accuracy: 0.8810\n",
            "Epoch 16/30\n",
            "11/11 [==============================] - 0s 42ms/step - loss: 0.5009 - accuracy: 0.8452 - val_loss: 0.6702 - val_accuracy: 0.8571\n",
            "Epoch 17/30\n",
            "11/11 [==============================] - 0s 42ms/step - loss: 0.3704 - accuracy: 0.8854 - val_loss: 0.4518 - val_accuracy: 0.8988\n",
            "Epoch 18/30\n",
            "11/11 [==============================] - 0s 42ms/step - loss: 0.4390 - accuracy: 0.8676 - val_loss: 0.9488 - val_accuracy: 0.7619\n",
            "Epoch 19/30\n",
            "11/11 [==============================] - 0s 42ms/step - loss: 0.4041 - accuracy: 0.8750 - val_loss: 0.4171 - val_accuracy: 0.9286\n",
            "Epoch 20/30\n",
            "11/11 [==============================] - 0s 42ms/step - loss: 0.4711 - accuracy: 0.8795 - val_loss: 0.5485 - val_accuracy: 0.8631\n",
            "Epoch 21/30\n",
            "11/11 [==============================] - 0s 42ms/step - loss: 0.2727 - accuracy: 0.9107 - val_loss: 0.4475 - val_accuracy: 0.8869\n",
            "Epoch 22/30\n",
            "11/11 [==============================] - 0s 42ms/step - loss: 0.3374 - accuracy: 0.9033 - val_loss: 0.5123 - val_accuracy: 0.8929\n",
            "Epoch 23/30\n",
            "11/11 [==============================] - 0s 42ms/step - loss: 0.2876 - accuracy: 0.9092 - val_loss: 0.6194 - val_accuracy: 0.8333\n",
            "Epoch 24/30\n",
            "11/11 [==============================] - 0s 42ms/step - loss: 0.2358 - accuracy: 0.9315 - val_loss: 0.3512 - val_accuracy: 0.9226\n",
            "Epoch 25/30\n",
            "11/11 [==============================] - 0s 42ms/step - loss: 0.2920 - accuracy: 0.9033 - val_loss: 0.5577 - val_accuracy: 0.8631\n",
            "Epoch 26/30\n",
            "11/11 [==============================] - 0s 42ms/step - loss: 0.1913 - accuracy: 0.9479 - val_loss: 0.3221 - val_accuracy: 0.9405\n",
            "Epoch 27/30\n",
            "11/11 [==============================] - 0s 42ms/step - loss: 0.1630 - accuracy: 0.9554 - val_loss: 0.3939 - val_accuracy: 0.8988\n",
            "Epoch 28/30\n",
            "11/11 [==============================] - 0s 42ms/step - loss: 0.2516 - accuracy: 0.9241 - val_loss: 0.3483 - val_accuracy: 0.9107\n",
            "Epoch 29/30\n",
            "11/11 [==============================] - 0s 42ms/step - loss: 0.2209 - accuracy: 0.9286 - val_loss: 0.6987 - val_accuracy: 0.8214\n",
            "Epoch 30/30\n",
            "11/11 [==============================] - 0s 42ms/step - loss: 0.2528 - accuracy: 0.9271 - val_loss: 0.3477 - val_accuracy: 0.9167\n",
            "time: 15.191506385803223 sec\n"
          ]
        }
      ]
    },
    {
      "cell_type": "code",
      "metadata": {
        "id": "sf4WWJV3__D7",
        "colab": {
          "base_uri": "https://localhost:8080/"
        },
        "outputId": "42a61ee6-faa3-42f5-ad71-e811dbef66da"
      },
      "source": [
        "# Evaluate model\n",
        "print(f'Test Accuracy: {model_cnn.evaluate(X_test[:,:,:,None],y_test,verbose=0)[1]}')"
      ],
      "id": "sf4WWJV3__D7",
      "execution_count": null,
      "outputs": [
        {
          "output_type": "stream",
          "name": "stdout",
          "text": [
            "Test Accuracy: 0.9214285612106323\n"
          ]
        }
      ]
    },
    {
      "cell_type": "code",
      "metadata": {
        "id": "BXn8UvSpAOw4",
        "colab": {
          "base_uri": "https://localhost:8080/",
          "height": 608
        },
        "outputId": "a46f1649-167c-4629-9c30-c7014c78220d"
      },
      "source": [
        "# Learning curve\n",
        "# plot the accuracy and loss plots between training and validation data\n",
        "# verify overfitting or underfit \n",
        "\n",
        "model_cnn = create_cnn_model(activation='relu',dropout=0.2,optimizer='RMSprop',learn_rate=0.002)\n",
        "history = model_cnn.fit(X_train[:,:,:,None], y_train, epochs=100, validation_data=(X_valid[:,:,:,None],y_valid),batch_size=64,verbose=0)\n",
        "\n",
        "acc = history.history['accuracy']\n",
        "val_acc = history.history['val_accuracy']\n",
        "loss = history.history['loss']\n",
        "val_loss = history.history['val_loss']\n",
        "x = range(1,len(acc)+1)\n",
        "\n",
        "plt.plot(x,acc,'b',label='Training accuracy')\n",
        "plt.plot(x,val_acc,'r',label='Validation accuracy')\n",
        "plt.title('Training and validation accuracy')\n",
        "plt.xlabel('epochs')\n",
        "plt.ylabel('accuracy')\n",
        "plt.legend()\n",
        "plt.figure()\n",
        "\n",
        "plt.plot(x,loss,'b',label='Training loss')\n",
        "plt.plot(x,val_loss,'r',label='Validation loss')\n",
        "plt.title('Training and validation loss')\n",
        "plt.xlabel('epochs')\n",
        "plt.ylabel('loss')\n",
        "plt.legend()\n",
        "plt.show()"
      ],
      "id": "BXn8UvSpAOw4",
      "execution_count": null,
      "outputs": [
        {
          "output_type": "stream",
          "name": "stderr",
          "text": [
            "/usr/local/lib/python3.7/dist-packages/keras/optimizer_v2/optimizer_v2.py:356: UserWarning: The `lr` argument is deprecated, use `learning_rate` instead.\n",
            "  \"The `lr` argument is deprecated, use `learning_rate` instead.\")\n"
          ]
        },
        {
          "output_type": "display_data",
          "data": {
            "image/png": "[encoded data removed]",
            "text/plain": [
              "<Figure size 432x288 with 1 Axes>"
            ]
          },
          "metadata": {
            "needs_background": "light"
          }
        },
        {
          "output_type": "display_data",
          "data": {
            "image/png": "[encoded data removed]",
            "text/plain": [
              "<Figure size 432x288 with 1 Axes>"
            ]
          },
          "metadata": {
            "needs_background": "light"
          }
        }
      ]
    },
    {
      "cell_type": "code",
      "metadata": {
        "id": "drxe7zX2AVxp",
        "colab": {
          "base_uri": "https://localhost:8080/"
        },
        "outputId": "1c0a1e26-c9d3-4b26-cc2d-8c5966a1db6a"
      },
      "source": [
        "# classification report\n",
        "predicted_classes = np.argmax(np.round(model_cnn.predict(X_test[:,:,:,None])),axis=1)\n",
        "correct = np.where(predicted_classes==y_test)[0]\n",
        "target_names = [f\"Class {label}\" for label in range(len(np.unique(df['label'])))]\n",
        "\n",
        "print(f\"From {len(y_test)} labels're founding {len(correct)} correct labels.\")\n",
        "print(f'Accuracy: {len(correct)/len(y_test)}')\n",
        "print('')\n",
        "print(classification_report(y_test, predicted_classes, target_names=target_names))"
      ],
      "id": "drxe7zX2AVxp",
      "execution_count": null,
      "outputs": [
        {
          "output_type": "stream",
          "name": "stdout",
          "text": [
            "From 280 labels're founding 255 correct labels.\n",
            "Accuracy: 0.9107142857142857\n",
            "\n",
            "              precision    recall  f1-score   support\n",
            "\n",
            "     Class 0       0.33      1.00      0.50         5\n",
            "     Class 1       1.00      1.00      1.00         5\n",
            "     Class 2       1.00      1.00      1.00         5\n",
            "     Class 3       1.00      0.80      0.89         5\n",
            "     Class 4       1.00      0.80      0.89         5\n",
            "     Class 5       1.00      0.80      0.89         5\n",
            "     Class 6       1.00      1.00      1.00         5\n",
            "     Class 7       1.00      1.00      1.00         5\n",
            "     Class 8       1.00      0.40      0.57         5\n",
            "     Class 9       0.83      1.00      0.91         5\n",
            "    Class 10       1.00      1.00      1.00         5\n",
            "    Class 11       1.00      1.00      1.00         5\n",
            "    Class 12       1.00      0.80      0.89         5\n",
            "    Class 13       1.00      0.80      0.89         5\n",
            "    Class 14       1.00      1.00      1.00         5\n",
            "    Class 15       0.71      1.00      0.83         5\n",
            "    Class 16       1.00      1.00      1.00         5\n",
            "    Class 17       1.00      0.80      0.89         5\n",
            "    Class 18       1.00      1.00      1.00         5\n",
            "    Class 19       1.00      1.00      1.00         5\n",
            "    Class 20       1.00      1.00      1.00         5\n",
            "    Class 21       1.00      1.00      1.00         5\n",
            "    Class 22       1.00      1.00      1.00         5\n",
            "    Class 23       0.56      1.00      0.71         5\n",
            "    Class 24       1.00      0.80      0.89         5\n",
            "    Class 25       1.00      1.00      1.00         5\n",
            "    Class 26       1.00      1.00      1.00         5\n",
            "    Class 27       0.80      0.80      0.80         5\n",
            "    Class 28       1.00      0.80      0.89         5\n",
            "    Class 29       0.83      1.00      0.91         5\n",
            "    Class 30       0.83      1.00      0.91         5\n",
            "    Class 31       1.00      0.80      0.89         5\n",
            "    Class 32       1.00      1.00      1.00         5\n",
            "    Class 33       1.00      0.80      0.89         5\n",
            "    Class 34       1.00      1.00      1.00         5\n",
            "    Class 35       1.00      1.00      1.00         5\n",
            "    Class 36       0.80      0.80      0.80         5\n",
            "    Class 37       1.00      1.00      1.00         5\n",
            "    Class 38       1.00      0.60      0.75         5\n",
            "    Class 39       1.00      0.40      0.57         5\n",
            "    Class 40       1.00      1.00      1.00         5\n",
            "    Class 41       1.00      0.80      0.89         5\n",
            "    Class 42       1.00      1.00      1.00         5\n",
            "    Class 43       1.00      0.80      0.89         5\n",
            "    Class 44       1.00      1.00      1.00         5\n",
            "    Class 45       1.00      1.00      1.00         5\n",
            "    Class 46       0.83      1.00      0.91         5\n",
            "    Class 47       1.00      0.80      0.89         5\n",
            "    Class 48       1.00      1.00      1.00         5\n",
            "    Class 49       1.00      0.80      0.89         5\n",
            "    Class 50       1.00      1.00      1.00         5\n",
            "    Class 51       0.67      0.80      0.73         5\n",
            "    Class 52       0.83      1.00      0.91         5\n",
            "    Class 53       1.00      1.00      1.00         5\n",
            "    Class 54       1.00      1.00      1.00         5\n",
            "    Class 55       1.00      1.00      1.00         5\n",
            "\n",
            "    accuracy                           0.91       280\n",
            "   macro avg       0.95      0.91      0.92       280\n",
            "weighted avg       0.95      0.91      0.92       280\n",
            "\n"
          ]
        }
      ]
    },
    {
      "cell_type": "code",
      "metadata": {
        "id": "TcOE-8tFgar4"
      },
      "source": [
        "index=[]\n",
        "true = []\n",
        "for i in range(len(y_test)):\n",
        "    if y_test[i] == 0 or y_test[i] == 8 or y_test[i] == 39:\n",
        "        index.append(i)\n",
        "        true.append(y_test[i])\n",
        "\n",
        "pred=[]\n",
        "for i in index:\n",
        "    pred.append(predicted_classes[i])"
      ],
      "id": "TcOE-8tFgar4",
      "execution_count": null,
      "outputs": []
    },
    {
      "cell_type": "code",
      "metadata": {
        "id": "ti-czTiTigyG",
        "colab": {
          "base_uri": "https://localhost:8080/"
        },
        "outputId": "1813387c-0c4e-44d7-f21b-b2a36dfb284e"
      },
      "source": [
        "true"
      ],
      "id": "ti-czTiTigyG",
      "execution_count": null,
      "outputs": [
        {
          "output_type": "execute_result",
          "data": {
            "text/plain": [
              "[0, 0, 0, 0, 0, 39, 39, 39, 39, 39, 8, 8, 8, 8, 8]"
            ]
          },
          "metadata": {},
          "execution_count": 50
        }
      ]
    },
    {
      "cell_type": "code",
      "metadata": {
        "id": "OuNS4xKoiqa2",
        "colab": {
          "base_uri": "https://localhost:8080/"
        },
        "outputId": "9f87f61e-51b2-4614-e729-2658d0eb32e4"
      },
      "source": [
        "pred"
      ],
      "id": "OuNS4xKoiqa2",
      "execution_count": null,
      "outputs": [
        {
          "output_type": "execute_result",
          "data": {
            "text/plain": [
              "[0, 0, 0, 0, 0, 15, 23, 39, 39, 23, 8, 23, 23, 0, 8]"
            ]
          },
          "metadata": {},
          "execution_count": 51
        }
      ]
    },
    {
      "cell_type": "code",
      "metadata": {
        "id": "vy2dlO9xhvT6",
        "colab": {
          "base_uri": "https://localhost:8080/",
          "height": 286
        },
        "outputId": "c2c2779a-ac1d-41d9-d146-f8108b7f5f2b"
      },
      "source": [
        "!wget -q https://github.com/Phonbopit/sarabun-webfont/raw/master/fonts/thsarabunnew-webfont.ttf\n",
        "\n",
        "mpl.font_manager.fontManager.addfont('thsarabunnew-webfont.ttf')\n",
        "mpl.rc('font', family='TH Sarabun New', size=8)\n",
        "\n",
        "from sklearn.linear_model import LogisticRegression\n",
        "from sklearn.metrics import confusion_matrix\n",
        "\n",
        "cf_matrix = confusion_matrix(true, pred)\n",
        "\n",
        "import seaborn as sns\n",
        "sns.heatmap(cf_matrix, annot=True, xticklabels=['กระชาย','ไข่น้ำ','น้อยหน่า','ผักตำลึง','ใบชะพลู1'],yticklabels=['กระชาย','ไข่น้ำ','น้อยหน่า','ผักตำลึง','ใบชะพลู1'],cmap='Blues')"
      ],
      "id": "vy2dlO9xhvT6",
      "execution_count": null,
      "outputs": [
        {
          "output_type": "execute_result",
          "data": {
            "text/plain": [
              "<matplotlib.axes._subplots.AxesSubplot at 0x7f41d21f2310>"
            ]
          },
          "metadata": {},
          "execution_count": 66
        },
        {
          "output_type": "display_data",
          "data": {
            "image/png": "[encoded data removed]",
            "text/plain": [
              "<Figure size 432x288 with 2 Axes>"
            ]
          },
          "metadata": {
            "needs_background": "light"
          }
        }
      ]
    },
    {
      "cell_type": "markdown",
      "metadata": {
        "id": "ExkYoE9LXq6I"
      },
      "source": [
        "## Other people \n",
        "men and woman each 10 audio file."
      ],
      "id": "ExkYoE9LXq6I"
    },
    {
      "cell_type": "code",
      "metadata": {
        "colab": {
          "base_uri": "https://localhost:8080/"
        },
        "id": "AYxW624FZZdM",
        "outputId": "de05af18-c67f-4d6a-9b3e-1ccf71b1e7a7"
      },
      "source": [
        "import numpy as np\n",
        "np.random.seed(77)\n",
        "\n",
        "random_fruit_veget = np.random.choice(np.unique(df['description']),10,replace=False).tolist()\n",
        "print(random_fruit_veget)"
      ],
      "id": "AYxW624FZZdM",
      "execution_count": null,
      "outputs": [
        {
          "output_type": "stream",
          "name": "stdout",
          "text": [
            "['ผักกุยช่าย', 'ทับทิม', 'ใบชะพลู1', 'พริกขี้หนู', 'มันสำปะหลัง', 'ฟักทอง', 'มะพลับ', 'หัวหอม2', 'ใบชะพลู2', 'บวบ']\n"
          ]
        }
      ]
    },
    {
      "cell_type": "code",
      "metadata": {
        "id": "XTRoVzSzX3XM"
      },
      "source": [
        "import pandas as pd\n",
        "\n",
        "# Audio data source\n",
        "other_source = {'audio_time':[],\n",
        "                'sampling_rate':[],\n",
        "                'feature_extraction':[],\n",
        "                'label':[],\n",
        "                'description':[]}\n",
        "\n",
        "for types in random_fruit_veget:\n",
        "    audio_files = glob('/content/Project_499/Record_other_audio/' + str(types) + '/*.wav')\n",
        "\n",
        "    for audio in audio_files:\n",
        "        y,sr = librosa.load(audio,duration=5,offset=0)\n",
        "        other_source['description'].append(str(types))\n",
        "        other_source['audio_time'].append(y)\n",
        "        other_source['sampling_rate'].append(sr)\n",
        "        other_source['feature_extraction'].append(feature_mfcc(y,sr))\n",
        "\n",
        "other_source['label'] = [18,18,14,14,39,39,44,44,37,37,50,50,25,25,55,55,40,40,38,38]\n",
        "other_df = pd.DataFrame.from_dict(other_source)"
      ],
      "id": "XTRoVzSzX3XM",
      "execution_count": null,
      "outputs": []
    },
    {
      "cell_type": "code",
      "metadata": {
        "id": "rQ6EclMVZCeE"
      },
      "source": [
        "other_X_test = np.array(other_df['feature_extraction'].to_list())\n",
        "other_y_test = np.array(other_df['label'].to_list())"
      ],
      "id": "rQ6EclMVZCeE",
      "execution_count": null,
      "outputs": []
    },
    {
      "cell_type": "code",
      "metadata": {
        "id": "uG_isU-4c97L",
        "colab": {
          "base_uri": "https://localhost:8080/"
        },
        "outputId": "ce5e5ce2-49b4-426f-ae06-132d78ed414c"
      },
      "source": [
        "# classification report\n",
        "predicted_classes = np.argmax(np.round(model_cnn.predict(other_X_test[:,:,:,None])),axis=1)\n",
        "correct = np.where(predicted_classes==other_y_test)[0]\n",
        "target_names = [f\"Class {label}\" for label in np.unique(other_source['label'])]\n",
        "\n",
        "print(f\"From {len(other_y_test)} labels're founding {len(correct)} correct labels.\")\n",
        "print(f'Accuracy: {len(correct)/len(other_y_test)}')"
      ],
      "id": "uG_isU-4c97L",
      "execution_count": null,
      "outputs": [
        {
          "output_type": "stream",
          "name": "stdout",
          "text": [
            "From 20 labels're founding 6 correct labels.\n",
            "Accuracy: 0.3\n"
          ]
        }
      ]
    }
  ]
}