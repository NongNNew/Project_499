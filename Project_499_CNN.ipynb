{
  "nbformat": 4,
  "nbformat_minor": 5,
  "metadata": {
    "colab": {
      "name": "Project_499_CNN.ipynb",
      "provenance": [],
      "collapsed_sections": [],
      "machine_shape": "hm",
      "include_colab_link": true
    },
    "kernelspec": {
      "display_name": "Python 3",
      "language": "python",
      "name": "python3"
    },
    "language_info": {
      "codemirror_mode": {
        "name": "ipython",
        "version": 3
      },
      "file_extension": ".py",
      "mimetype": "text/x-python",
      "name": "python",
      "nbconvert_exporter": "python",
      "pygments_lexer": "ipython3",
      "version": "3.8.8"
    },
    "accelerator": "GPU"
  },
  "cells": [
    {
      "cell_type": "markdown",
      "metadata": {
        "id": "view-in-github",
        "colab_type": "text"
      },
      "source": [
        "<a href=\"https://colab.research.google.com/github/NongNNew/Project_499/blob/main/Project_499_CNN.ipynb\" target=\"_parent\"><img src=\"https://colab.research.google.com/assets/colab-badge.svg\" alt=\"Open In Colab\"/></a>"
      ]
    },
    {
      "cell_type": "markdown",
      "metadata": {
        "id": "hW4AHGmEVrk8"
      },
      "source": [
        "# **CNN**"
      ],
      "id": "hW4AHGmEVrk8"
    },
    {
      "cell_type": "markdown",
      "metadata": {
        "id": "nkYRb02rScfH"
      },
      "source": [
        "## Setup"
      ],
      "id": "nkYRb02rScfH"
    },
    {
      "cell_type": "code",
      "metadata": {
        "colab": {
          "base_uri": "https://localhost:8080/"
        },
        "id": "Nq11bNFAbCci",
        "outputId": "b676f891-1951-4e01-8bc1-133c1ce70081"
      },
      "source": [
        "!pip install python_speech_features"
      ],
      "id": "Nq11bNFAbCci",
      "execution_count": 1,
      "outputs": [
        {
          "output_type": "stream",
          "name": "stdout",
          "text": [
            "Requirement already satisfied: python_speech_features in /usr/local/lib/python3.7/dist-packages (0.6)\n"
          ]
        }
      ]
    },
    {
      "cell_type": "code",
      "metadata": {
        "id": "fssuU2ucR1vy"
      },
      "source": [
        "import librosa\n",
        "import numpy as np\n",
        "import pandas as pd\n",
        "from glob import glob\n",
        "import tensorflow as tf\n",
        "from tensorflow import keras \n",
        "import python_speech_features\n",
        "import matplotlib.pyplot as plt\n",
        "from scipy.signal.windows import hamming\n",
        "from sklearn.metrics import classification_report"
      ],
      "id": "fssuU2ucR1vy",
      "execution_count": 2,
      "outputs": []
    },
    {
      "cell_type": "code",
      "metadata": {
        "id": "y1vuUlgJSKkC"
      },
      "source": [
        "np.random.seed(1)\n",
        "tf.random.set_seed(1)"
      ],
      "id": "y1vuUlgJSKkC",
      "execution_count": 3,
      "outputs": []
    },
    {
      "cell_type": "code",
      "metadata": {
        "colab": {
          "base_uri": "https://localhost:8080/"
        },
        "id": "gJVdtdww87RO",
        "outputId": "f31a2951-2987-4b76-8ac5-73d7839cb464"
      },
      "source": [
        "# Upload audio files from github\n",
        "!git clone https://github.com/NongNNew/Project_499.git"
      ],
      "id": "gJVdtdww87RO",
      "execution_count": 4,
      "outputs": [
        {
          "output_type": "stream",
          "name": "stdout",
          "text": [
            "fatal: destination path 'Project_499' already exists and is not an empty directory.\n"
          ]
        }
      ]
    },
    {
      "cell_type": "markdown",
      "metadata": {
        "id": "BRWP2IrOShCH"
      },
      "source": [
        "## Prepare dataset"
      ],
      "id": "BRWP2IrOShCH"
    },
    {
      "cell_type": "code",
      "metadata": {
        "id": "EHnDUT5YejVV"
      },
      "source": [
        "# Name of vegetables and fruits 52 types of 56 classes\n",
        "fruit_veget = ['กระชาย','กระท้อน','กระเทียม1','กระเทียม2','กระเพรา','กล้วยน้ำว้า','กล้วยหอม',\n",
        "               'ข้าวโพด','ไข่น้ำ',\n",
        "               'ตะขบไทย','ตะไคร้',\n",
        "               'ถั่วฝักยาว','ถั่วลันเตา','ถั่วลิสง',\n",
        "               'ทับทิม',\n",
        "               'น้อยหน่า','น้ำเต้า',\n",
        "               'ผักกระเฉด','ผักกุยช่าย','ผักขึ้นช่าย','ผักชะอม','ผักชี','ผักชีฝรั่ง','ผักตำลึง',\n",
        "               'มะปราง','มะพลับ','มะละกอ','มะกรูด','มะเขือพวง','มะเขือเทศ','มะระ','มะรุม','มะตูม','มันแกว1','มันแกว2','มันเทศ','มันฝรั่ง','มันสำปะหลัง',\n",
        "               'บวบ','ใบชะพลู1','ใบชะพลู2','ใบบัวบก','ใบแมงลัก','ใบยอ',\n",
        "               'พริกขี้หนู','พริกสด','พุทรา','เพกา',\n",
        "               'ฝรั่ง',\n",
        "               'ฟัก','ฟักทอง',\n",
        "               'สับปะรด','สะเดา','สะระแหน่',\n",
        "               'หัวหอม1','หัวหอม2']\n",
        "\n",
        "# Audio data source\n",
        "source = {'audio_time':[],\n",
        "          'sampling_rate':[],\n",
        "          'feature_extraction':[],\n",
        "          'label':[],\n",
        "          'description':[]}"
      ],
      "id": "EHnDUT5YejVV",
      "execution_count": 5,
      "outputs": []
    },
    {
      "cell_type": "code",
      "metadata": {
        "id": "_XRqKtGBeW_1"
      },
      "source": [
        "def feature_mfcc(y,sr):\n",
        "    return (python_speech_features.mfcc(signal=y, \n",
        "                                    samplerate=sr, \n",
        "                                    winlen= 512/sr, \n",
        "                                    winstep= 160/sr,\n",
        "                                    numcep= 13,\n",
        "                                    nfilt= 40, \n",
        "                                    nfft= 512,\n",
        "                                    lowfreq= 0,\n",
        "                                    highfreq= None,\n",
        "                                    preemph= 0.97, \n",
        "                                    ceplifter= 0,\n",
        "                                    winfunc= hamming))"
      ],
      "id": "_XRqKtGBeW_1",
      "execution_count": 6,
      "outputs": []
    },
    {
      "cell_type": "code",
      "metadata": {
        "id": "tixApnAUy5tv"
      },
      "source": [
        "for types in fruit_veget:\n",
        "    audio_files = glob('/content/Project_499/Record_audio/' + str(types) + '/*.wav')\n",
        "\n",
        "    for audio in audio_files:\n",
        "        y,sr = librosa.load(audio,duration=5,offset=0)\n",
        "        source['description'].append(str(types))\n",
        "        source['audio_time'].append(y)\n",
        "        source['sampling_rate'].append(sr)\n",
        "        source['feature_extraction'].append(feature_mfcc(y,sr))\n",
        "        source['label'].append(fruit_veget.index(types))"
      ],
      "id": "tixApnAUy5tv",
      "execution_count": 7,
      "outputs": []
    },
    {
      "cell_type": "code",
      "metadata": {
        "colab": {
          "base_uri": "https://localhost:8080/",
          "height": 417
        },
        "id": "8B6cSV4Ckude",
        "outputId": "0c264dca-a05b-4d1f-9fa8-4e1b5f4bd480"
      },
      "source": [
        "# tranform dictionary to dataframe \n",
        "df = pd.DataFrame.from_dict(source)\n",
        "df"
      ],
      "id": "8B6cSV4Ckude",
      "execution_count": 8,
      "outputs": [
        {
          "output_type": "execute_result",
          "data": {
            "text/html": [
              "<div>\n",
              "<style scoped>\n",
              "    .dataframe tbody tr th:only-of-type {\n",
              "        vertical-align: middle;\n",
              "    }\n",
              "\n",
              "    .dataframe tbody tr th {\n",
              "        vertical-align: top;\n",
              "    }\n",
              "\n",
              "    .dataframe thead th {\n",
              "        text-align: right;\n",
              "    }\n",
              "</style>\n",
              "<table border=\"1\" class=\"dataframe\">\n",
              "  <thead>\n",
              "    <tr style=\"text-align: right;\">\n",
              "      <th></th>\n",
              "      <th>audio_time</th>\n",
              "      <th>sampling_rate</th>\n",
              "      <th>feature_extraction</th>\n",
              "      <th>label</th>\n",
              "      <th>description</th>\n",
              "    </tr>\n",
              "  </thead>\n",
              "  <tbody>\n",
              "    <tr>\n",
              "      <th>0</th>\n",
              "      <td>[-0.00024414062, -0.0002593994, -0.00022888184...</td>\n",
              "      <td>22050</td>\n",
              "      <td>[[-13.849791727695862, -11.588470019049367, -0...</td>\n",
              "      <td>0</td>\n",
              "      <td>กระชาย</td>\n",
              "    </tr>\n",
              "    <tr>\n",
              "      <th>1</th>\n",
              "      <td>[1.5258789e-05, -3.0517578e-05, 6.1035156e-05,...</td>\n",
              "      <td>22050</td>\n",
              "      <td>[[-14.225420647550473, -11.767209141048717, 0....</td>\n",
              "      <td>0</td>\n",
              "      <td>กระชาย</td>\n",
              "    </tr>\n",
              "    <tr>\n",
              "      <th>2</th>\n",
              "      <td>[1.5258789e-05, -4.5776367e-05, 0.0, 1.5258789...</td>\n",
              "      <td>22050</td>\n",
              "      <td>[[-13.973324319319042, -9.651651413346334, 0.8...</td>\n",
              "      <td>0</td>\n",
              "      <td>กระชาย</td>\n",
              "    </tr>\n",
              "    <tr>\n",
              "      <th>3</th>\n",
              "      <td>[-0.00021362305, -0.00024414062, -0.0002593994...</td>\n",
              "      <td>22050</td>\n",
              "      <td>[[-14.389836672385517, -10.023800010987056, 0....</td>\n",
              "      <td>0</td>\n",
              "      <td>กระชาย</td>\n",
              "    </tr>\n",
              "    <tr>\n",
              "      <th>4</th>\n",
              "      <td>[-0.004928589, -0.0049591064, -0.0048980713, -...</td>\n",
              "      <td>22050</td>\n",
              "      <td>[[-12.959169471954294, -4.281586674957866, 6.4...</td>\n",
              "      <td>0</td>\n",
              "      <td>กระชาย</td>\n",
              "    </tr>\n",
              "    <tr>\n",
              "      <th>...</th>\n",
              "      <td>...</td>\n",
              "      <td>...</td>\n",
              "      <td>...</td>\n",
              "      <td>...</td>\n",
              "      <td>...</td>\n",
              "    </tr>\n",
              "    <tr>\n",
              "      <th>1115</th>\n",
              "      <td>[-0.00024414062, -0.0002593994, -0.00022888184...</td>\n",
              "      <td>22050</td>\n",
              "      <td>[[-14.003234060711906, -11.759421272003904, -1...</td>\n",
              "      <td>55</td>\n",
              "      <td>หัวหอม2</td>\n",
              "    </tr>\n",
              "    <tr>\n",
              "      <th>1116</th>\n",
              "      <td>[-0.00010681152, -0.00010681152, -0.0002136230...</td>\n",
              "      <td>22050</td>\n",
              "      <td>[[-13.965644315403711, -9.922440291030709, 1.8...</td>\n",
              "      <td>55</td>\n",
              "      <td>หัวหอม2</td>\n",
              "    </tr>\n",
              "    <tr>\n",
              "      <th>1117</th>\n",
              "      <td>[-0.00024414062, -0.0002746582, -0.00019836426...</td>\n",
              "      <td>22050</td>\n",
              "      <td>[[-14.30657814127106, -8.777075651980645, 2.11...</td>\n",
              "      <td>55</td>\n",
              "      <td>หัวหอม2</td>\n",
              "    </tr>\n",
              "    <tr>\n",
              "      <th>1118</th>\n",
              "      <td>[-0.00021362305, -0.00019836426, -0.0001678466...</td>\n",
              "      <td>22050</td>\n",
              "      <td>[[-13.600642153773194, -15.096089567076714, -0...</td>\n",
              "      <td>55</td>\n",
              "      <td>หัวหอม2</td>\n",
              "    </tr>\n",
              "    <tr>\n",
              "      <th>1119</th>\n",
              "      <td>[-0.0001373291, -0.00010681152, -0.00015258789...</td>\n",
              "      <td>22050</td>\n",
              "      <td>[[-13.96668688965529, -12.52580923566588, -1.6...</td>\n",
              "      <td>55</td>\n",
              "      <td>หัวหอม2</td>\n",
              "    </tr>\n",
              "  </tbody>\n",
              "</table>\n",
              "<p>1120 rows × 5 columns</p>\n",
              "</div>"
            ],
            "text/plain": [
              "                                             audio_time  ...  description\n",
              "0     [-0.00024414062, -0.0002593994, -0.00022888184...  ...       กระชาย\n",
              "1     [1.5258789e-05, -3.0517578e-05, 6.1035156e-05,...  ...       กระชาย\n",
              "2     [1.5258789e-05, -4.5776367e-05, 0.0, 1.5258789...  ...       กระชาย\n",
              "3     [-0.00021362305, -0.00024414062, -0.0002593994...  ...       กระชาย\n",
              "4     [-0.004928589, -0.0049591064, -0.0048980713, -...  ...       กระชาย\n",
              "...                                                 ...  ...          ...\n",
              "1115  [-0.00024414062, -0.0002593994, -0.00022888184...  ...      หัวหอม2\n",
              "1116  [-0.00010681152, -0.00010681152, -0.0002136230...  ...      หัวหอม2\n",
              "1117  [-0.00024414062, -0.0002746582, -0.00019836426...  ...      หัวหอม2\n",
              "1118  [-0.00021362305, -0.00019836426, -0.0001678466...  ...      หัวหอม2\n",
              "1119  [-0.0001373291, -0.00010681152, -0.00015258789...  ...      หัวหอม2\n",
              "\n",
              "[1120 rows x 5 columns]"
            ]
          },
          "metadata": {},
          "execution_count": 8
        }
      ]
    },
    {
      "cell_type": "code",
      "metadata": {
        "id": "T7yzW3hnmuyB"
      },
      "source": [
        "Test = pd.DataFrame(columns=source.keys())\n",
        "\n",
        "# Create test data\n",
        "\n",
        "for description in np.unique(df['description']):\n",
        "    imp_test = df[df['description']==description].sample(5,random_state=1)\n",
        "    Test = pd.concat([Test,imp_test], axis=0)\n",
        "Train = df.drop(Test.index)\n",
        "\n",
        "X_train = np.array(Train['feature_extraction'].to_list())\n",
        "X_test = np.array(Test['feature_extraction'].to_list())\n",
        "y_train = np.array(Train['label'].to_list())\n",
        "y_test = np.array(Test['label'].to_list())"
      ],
      "id": "T7yzW3hnmuyB",
      "execution_count": 9,
      "outputs": []
    },
    {
      "cell_type": "code",
      "metadata": {
        "colab": {
          "base_uri": "https://localhost:8080/"
        },
        "id": "mSV3u9RmEU7h",
        "outputId": "6d2ed5f5-1aa8-44a1-bb76-4fe93b12dee1"
      },
      "source": [
        "# Proportion of data\n",
        "y_train.shape, y_test.shape"
      ],
      "id": "mSV3u9RmEU7h",
      "execution_count": 10,
      "outputs": [
        {
          "output_type": "execute_result",
          "data": {
            "text/plain": [
              "((840,), (280,))"
            ]
          },
          "metadata": {},
          "execution_count": 10
        }
      ]
    },
    {
      "cell_type": "markdown",
      "metadata": {
        "id": "r7RGaVViSrwg"
      },
      "source": [
        "## Build cnn model"
      ],
      "id": "r7RGaVViSrwg"
    },
    {
      "cell_type": "code",
      "metadata": {
        "id": "77wMVqve6W8f"
      },
      "source": [
        "def create_cnn_model(X_train):\n",
        "    np.random.seed(1)\n",
        "    tf.random.set_seed(1)\n",
        "    model = None\n",
        "    model = keras.Sequential()\n",
        "    model.add(keras.layers.Conv2D(128, 5, input_shape=(X_train.shape[1], X_train.shape[2], 1), activation='relu'))\n",
        "    model.add(keras.layers.Dropout(0.25))\n",
        "    model.add(keras.layers.MaxPool2D())\n",
        "    model.add(keras.layers.Conv2D(64, 5, activation='relu',padding='same'))\n",
        "    model.add(keras.layers.Dropout(0.25))\n",
        "    model.add(keras.layers.MaxPool2D())\n",
        "    model.add(keras.layers.Conv2D(64, 5, activation='relu',padding='same'))\n",
        "    model.add(keras.layers.Dropout(0.25))\n",
        "    model.add(keras.layers.MaxPool2D())\n",
        "    model.add(keras.layers.Flatten())\n",
        "    model.add(keras.layers.Dense(128, activation='relu'))\n",
        "    model.add(keras.layers.Dropout(0.25))\n",
        "    model.add(keras.layers.Dense(64, activation='relu'))\n",
        "    model.add(keras.layers.Dropout(0.25))\n",
        "    model.add(keras.layers.Dense(len(np.unique(df['label'])), activation='softmax'))\n",
        "    model.compile(optimizer='adam', loss='sparse_categorical_crossentropy', metrics=['accuracy'])\n",
        "\n",
        "    model.summary()\n",
        "\n",
        "    return model"
      ],
      "id": "77wMVqve6W8f",
      "execution_count": 11,
      "outputs": []
    },
    {
      "cell_type": "markdown",
      "metadata": {
        "id": "N_EPqJGnS7ng"
      },
      "source": [
        "## Train model"
      ],
      "id": "N_EPqJGnS7ng"
    },
    {
      "cell_type": "code",
      "metadata": {
        "id": "ngmfDNcnGMC7",
        "colab": {
          "base_uri": "https://localhost:8080/"
        },
        "outputId": "9677e6b8-8782-4387-b5d4-8215641114b7"
      },
      "source": [
        "# Train model\n",
        "model_cnn = create_cnn_model(X_train)\n",
        "history = model_cnn.fit(X_train[:,:,:,None], y_train, epochs=100, validation_data=(X_test[:,:,:,None],y_test),batch_size=80)"
      ],
      "id": "ngmfDNcnGMC7",
      "execution_count": 12,
      "outputs": [
        {
          "output_type": "stream",
          "name": "stdout",
          "text": [
            "Model: \"sequential\"\n",
            "_________________________________________________________________\n",
            "Layer (type)                 Output Shape              Param #   \n",
            "=================================================================\n",
            "conv2d (Conv2D)              (None, 683, 9, 128)       3328      \n",
            "_________________________________________________________________\n",
            "dropout (Dropout)            (None, 683, 9, 128)       0         \n",
            "_________________________________________________________________\n",
            "max_pooling2d (MaxPooling2D) (None, 341, 4, 128)       0         \n",
            "_________________________________________________________________\n",
            "conv2d_1 (Conv2D)            (None, 341, 4, 64)        204864    \n",
            "_________________________________________________________________\n",
            "dropout_1 (Dropout)          (None, 341, 4, 64)        0         \n",
            "_________________________________________________________________\n",
            "max_pooling2d_1 (MaxPooling2 (None, 170, 2, 64)        0         \n",
            "_________________________________________________________________\n",
            "conv2d_2 (Conv2D)            (None, 170, 2, 64)        102464    \n",
            "_________________________________________________________________\n",
            "dropout_2 (Dropout)          (None, 170, 2, 64)        0         \n",
            "_________________________________________________________________\n",
            "max_pooling2d_2 (MaxPooling2 (None, 85, 1, 64)         0         \n",
            "_________________________________________________________________\n",
            "flatten (Flatten)            (None, 5440)              0         \n",
            "_________________________________________________________________\n",
            "dense (Dense)                (None, 128)               696448    \n",
            "_________________________________________________________________\n",
            "dropout_3 (Dropout)          (None, 128)               0         \n",
            "_________________________________________________________________\n",
            "dense_1 (Dense)              (None, 64)                8256      \n",
            "_________________________________________________________________\n",
            "dropout_4 (Dropout)          (None, 64)                0         \n",
            "_________________________________________________________________\n",
            "dense_2 (Dense)              (None, 56)                3640      \n",
            "=================================================================\n",
            "Total params: 1,019,000\n",
            "Trainable params: 1,019,000\n",
            "Non-trainable params: 0\n",
            "_________________________________________________________________\n",
            "Epoch 1/100\n",
            "11/11 [==============================] - 4s 107ms/step - loss: 4.0866 - accuracy: 0.0107 - val_loss: 3.9991 - val_accuracy: 0.0643\n",
            "Epoch 2/100\n",
            "11/11 [==============================] - 1s 54ms/step - loss: 3.9320 - accuracy: 0.0357 - val_loss: 3.8622 - val_accuracy: 0.0750\n",
            "Epoch 3/100\n",
            "11/11 [==============================] - 1s 53ms/step - loss: 3.7295 - accuracy: 0.0714 - val_loss: 3.6252 - val_accuracy: 0.1429\n",
            "Epoch 4/100\n",
            "11/11 [==============================] - 1s 54ms/step - loss: 3.5014 - accuracy: 0.1095 - val_loss: 3.3953 - val_accuracy: 0.2393\n",
            "Epoch 5/100\n",
            "11/11 [==============================] - 1s 54ms/step - loss: 3.1223 - accuracy: 0.1810 - val_loss: 3.0071 - val_accuracy: 0.3607\n",
            "Epoch 6/100\n",
            "11/11 [==============================] - 1s 54ms/step - loss: 2.6933 - accuracy: 0.2440 - val_loss: 2.5417 - val_accuracy: 0.5036\n",
            "Epoch 7/100\n",
            "11/11 [==============================] - 1s 54ms/step - loss: 2.1776 - accuracy: 0.3833 - val_loss: 2.1341 - val_accuracy: 0.6036\n",
            "Epoch 8/100\n",
            "11/11 [==============================] - 1s 53ms/step - loss: 1.8734 - accuracy: 0.4607 - val_loss: 1.8817 - val_accuracy: 0.7393\n",
            "Epoch 9/100\n",
            "11/11 [==============================] - 1s 53ms/step - loss: 1.6057 - accuracy: 0.5381 - val_loss: 1.5602 - val_accuracy: 0.8250\n",
            "Epoch 10/100\n",
            "11/11 [==============================] - 1s 53ms/step - loss: 1.3657 - accuracy: 0.6095 - val_loss: 1.2283 - val_accuracy: 0.8429\n",
            "Epoch 11/100\n",
            "11/11 [==============================] - 1s 53ms/step - loss: 1.1207 - accuracy: 0.6679 - val_loss: 1.0477 - val_accuracy: 0.9000\n",
            "Epoch 12/100\n",
            "11/11 [==============================] - 1s 53ms/step - loss: 1.0273 - accuracy: 0.7060 - val_loss: 0.9138 - val_accuracy: 0.9143\n",
            "Epoch 13/100\n",
            "11/11 [==============================] - 1s 54ms/step - loss: 0.9259 - accuracy: 0.7298 - val_loss: 0.8823 - val_accuracy: 0.9036\n",
            "Epoch 14/100\n",
            "11/11 [==============================] - 1s 53ms/step - loss: 0.8580 - accuracy: 0.7452 - val_loss: 0.7725 - val_accuracy: 0.9286\n",
            "Epoch 15/100\n",
            "11/11 [==============================] - 1s 54ms/step - loss: 0.7019 - accuracy: 0.7667 - val_loss: 0.6099 - val_accuracy: 0.9250\n",
            "Epoch 16/100\n",
            "11/11 [==============================] - 1s 53ms/step - loss: 0.7143 - accuracy: 0.7750 - val_loss: 0.6719 - val_accuracy: 0.9214\n",
            "Epoch 17/100\n",
            "11/11 [==============================] - 1s 54ms/step - loss: 0.6095 - accuracy: 0.8274 - val_loss: 0.6075 - val_accuracy: 0.9429\n",
            "Epoch 18/100\n",
            "11/11 [==============================] - 1s 53ms/step - loss: 0.6336 - accuracy: 0.7976 - val_loss: 0.5845 - val_accuracy: 0.9286\n",
            "Epoch 19/100\n",
            "11/11 [==============================] - 1s 53ms/step - loss: 0.5970 - accuracy: 0.8167 - val_loss: 0.5522 - val_accuracy: 0.9464\n",
            "Epoch 20/100\n",
            "11/11 [==============================] - 1s 53ms/step - loss: 0.4936 - accuracy: 0.8429 - val_loss: 0.4949 - val_accuracy: 0.9357\n",
            "Epoch 21/100\n",
            "11/11 [==============================] - 1s 53ms/step - loss: 0.5177 - accuracy: 0.8464 - val_loss: 0.4416 - val_accuracy: 0.9357\n",
            "Epoch 22/100\n",
            "11/11 [==============================] - 1s 53ms/step - loss: 0.5124 - accuracy: 0.8417 - val_loss: 0.4319 - val_accuracy: 0.9357\n",
            "Epoch 23/100\n",
            "11/11 [==============================] - 1s 54ms/step - loss: 0.4326 - accuracy: 0.8619 - val_loss: 0.4451 - val_accuracy: 0.9464\n",
            "Epoch 24/100\n",
            "11/11 [==============================] - 1s 53ms/step - loss: 0.4375 - accuracy: 0.8738 - val_loss: 0.4196 - val_accuracy: 0.9571\n",
            "Epoch 25/100\n",
            "11/11 [==============================] - 1s 53ms/step - loss: 0.4313 - accuracy: 0.8536 - val_loss: 0.3740 - val_accuracy: 0.9500\n",
            "Epoch 26/100\n",
            "11/11 [==============================] - 1s 53ms/step - loss: 0.3730 - accuracy: 0.8810 - val_loss: 0.3608 - val_accuracy: 0.9536\n",
            "Epoch 27/100\n",
            "11/11 [==============================] - 1s 53ms/step - loss: 0.3642 - accuracy: 0.8857 - val_loss: 0.3613 - val_accuracy: 0.9571\n",
            "Epoch 28/100\n",
            "11/11 [==============================] - 1s 54ms/step - loss: 0.3300 - accuracy: 0.8964 - val_loss: 0.3633 - val_accuracy: 0.9536\n",
            "Epoch 29/100\n",
            "11/11 [==============================] - 1s 53ms/step - loss: 0.3374 - accuracy: 0.8881 - val_loss: 0.3133 - val_accuracy: 0.9500\n",
            "Epoch 30/100\n",
            "11/11 [==============================] - 1s 53ms/step - loss: 0.2852 - accuracy: 0.9000 - val_loss: 0.2994 - val_accuracy: 0.9679\n",
            "Epoch 31/100\n",
            "11/11 [==============================] - 1s 53ms/step - loss: 0.2717 - accuracy: 0.9131 - val_loss: 0.3120 - val_accuracy: 0.9536\n",
            "Epoch 32/100\n",
            "11/11 [==============================] - 1s 55ms/step - loss: 0.3044 - accuracy: 0.9024 - val_loss: 0.3493 - val_accuracy: 0.9536\n",
            "Epoch 33/100\n",
            "11/11 [==============================] - 1s 53ms/step - loss: 0.3325 - accuracy: 0.8893 - val_loss: 0.3721 - val_accuracy: 0.9357\n",
            "Epoch 34/100\n",
            "11/11 [==============================] - 1s 53ms/step - loss: 0.3103 - accuracy: 0.9048 - val_loss: 0.3141 - val_accuracy: 0.9393\n",
            "Epoch 35/100\n",
            "11/11 [==============================] - 1s 53ms/step - loss: 0.1905 - accuracy: 0.9345 - val_loss: 0.2601 - val_accuracy: 0.9571\n",
            "Epoch 36/100\n",
            "11/11 [==============================] - 1s 53ms/step - loss: 0.2651 - accuracy: 0.9155 - val_loss: 0.2358 - val_accuracy: 0.9679\n",
            "Epoch 37/100\n",
            "11/11 [==============================] - 1s 53ms/step - loss: 0.2876 - accuracy: 0.9179 - val_loss: 0.2835 - val_accuracy: 0.9536\n",
            "Epoch 38/100\n",
            "11/11 [==============================] - 1s 53ms/step - loss: 0.2469 - accuracy: 0.9226 - val_loss: 0.2740 - val_accuracy: 0.9500\n",
            "Epoch 39/100\n",
            "11/11 [==============================] - 1s 53ms/step - loss: 0.2532 - accuracy: 0.9214 - val_loss: 0.2803 - val_accuracy: 0.9500\n",
            "Epoch 40/100\n",
            "11/11 [==============================] - 1s 54ms/step - loss: 0.2352 - accuracy: 0.9262 - val_loss: 0.2607 - val_accuracy: 0.9714\n",
            "Epoch 41/100\n",
            "11/11 [==============================] - 1s 53ms/step - loss: 0.2380 - accuracy: 0.9321 - val_loss: 0.2354 - val_accuracy: 0.9571\n",
            "Epoch 42/100\n",
            "11/11 [==============================] - 1s 53ms/step - loss: 0.2208 - accuracy: 0.9310 - val_loss: 0.2703 - val_accuracy: 0.9393\n",
            "Epoch 43/100\n",
            "11/11 [==============================] - 1s 53ms/step - loss: 0.2476 - accuracy: 0.9179 - val_loss: 0.2349 - val_accuracy: 0.9750\n",
            "Epoch 44/100\n",
            "11/11 [==============================] - 1s 53ms/step - loss: 0.1846 - accuracy: 0.9381 - val_loss: 0.2480 - val_accuracy: 0.9643\n",
            "Epoch 45/100\n",
            "11/11 [==============================] - 1s 53ms/step - loss: 0.1846 - accuracy: 0.9476 - val_loss: 0.2364 - val_accuracy: 0.9643\n",
            "Epoch 46/100\n",
            "11/11 [==============================] - 1s 54ms/step - loss: 0.1481 - accuracy: 0.9476 - val_loss: 0.1905 - val_accuracy: 0.9750\n",
            "Epoch 47/100\n",
            "11/11 [==============================] - 1s 53ms/step - loss: 0.2181 - accuracy: 0.9321 - val_loss: 0.2203 - val_accuracy: 0.9714\n",
            "Epoch 48/100\n",
            "11/11 [==============================] - 1s 53ms/step - loss: 0.1678 - accuracy: 0.9381 - val_loss: 0.2410 - val_accuracy: 0.9679\n",
            "Epoch 49/100\n",
            "11/11 [==============================] - 1s 54ms/step - loss: 0.1464 - accuracy: 0.9440 - val_loss: 0.2228 - val_accuracy: 0.9714\n",
            "Epoch 50/100\n",
            "11/11 [==============================] - 1s 53ms/step - loss: 0.2037 - accuracy: 0.9357 - val_loss: 0.2596 - val_accuracy: 0.9464\n",
            "Epoch 51/100\n",
            "11/11 [==============================] - 1s 53ms/step - loss: 0.1892 - accuracy: 0.9417 - val_loss: 0.2619 - val_accuracy: 0.9321\n",
            "Epoch 52/100\n",
            "11/11 [==============================] - 1s 53ms/step - loss: 0.1863 - accuracy: 0.9345 - val_loss: 0.2437 - val_accuracy: 0.9643\n",
            "Epoch 53/100\n",
            "11/11 [==============================] - 1s 53ms/step - loss: 0.1443 - accuracy: 0.9560 - val_loss: 0.2070 - val_accuracy: 0.9786\n",
            "Epoch 54/100\n",
            "11/11 [==============================] - 1s 53ms/step - loss: 0.1984 - accuracy: 0.9321 - val_loss: 0.2183 - val_accuracy: 0.9750\n",
            "Epoch 55/100\n",
            "11/11 [==============================] - 1s 53ms/step - loss: 0.1488 - accuracy: 0.9500 - val_loss: 0.1939 - val_accuracy: 0.9786\n",
            "Epoch 56/100\n",
            "11/11 [==============================] - 1s 54ms/step - loss: 0.1449 - accuracy: 0.9571 - val_loss: 0.2173 - val_accuracy: 0.9679\n",
            "Epoch 57/100\n",
            "11/11 [==============================] - 1s 53ms/step - loss: 0.1464 - accuracy: 0.9536 - val_loss: 0.2263 - val_accuracy: 0.9464\n",
            "Epoch 58/100\n",
            "11/11 [==============================] - 1s 53ms/step - loss: 0.1112 - accuracy: 0.9667 - val_loss: 0.2175 - val_accuracy: 0.9679\n",
            "Epoch 59/100\n",
            "11/11 [==============================] - 1s 53ms/step - loss: 0.1358 - accuracy: 0.9560 - val_loss: 0.1989 - val_accuracy: 0.9643\n",
            "Epoch 60/100\n",
            "11/11 [==============================] - 1s 54ms/step - loss: 0.1666 - accuracy: 0.9500 - val_loss: 0.1955 - val_accuracy: 0.9750\n",
            "Epoch 61/100\n",
            "11/11 [==============================] - 1s 53ms/step - loss: 0.1403 - accuracy: 0.9571 - val_loss: 0.2084 - val_accuracy: 0.9714\n",
            "Epoch 62/100\n",
            "11/11 [==============================] - 1s 53ms/step - loss: 0.1188 - accuracy: 0.9607 - val_loss: 0.2007 - val_accuracy: 0.9643\n",
            "Epoch 63/100\n",
            "11/11 [==============================] - 1s 53ms/step - loss: 0.1137 - accuracy: 0.9655 - val_loss: 0.1782 - val_accuracy: 0.9679\n",
            "Epoch 64/100\n",
            "11/11 [==============================] - 1s 53ms/step - loss: 0.1144 - accuracy: 0.9560 - val_loss: 0.1566 - val_accuracy: 0.9750\n",
            "Epoch 65/100\n",
            "11/11 [==============================] - 1s 53ms/step - loss: 0.1149 - accuracy: 0.9667 - val_loss: 0.1903 - val_accuracy: 0.9643\n",
            "Epoch 66/100\n",
            "11/11 [==============================] - 1s 53ms/step - loss: 0.1247 - accuracy: 0.9631 - val_loss: 0.1924 - val_accuracy: 0.9643\n",
            "Epoch 67/100\n",
            "11/11 [==============================] - 1s 53ms/step - loss: 0.1205 - accuracy: 0.9619 - val_loss: 0.1878 - val_accuracy: 0.9786\n",
            "Epoch 68/100\n",
            "11/11 [==============================] - 1s 53ms/step - loss: 0.1210 - accuracy: 0.9548 - val_loss: 0.1927 - val_accuracy: 0.9714\n",
            "Epoch 69/100\n",
            "11/11 [==============================] - 1s 53ms/step - loss: 0.1231 - accuracy: 0.9667 - val_loss: 0.1887 - val_accuracy: 0.9643\n",
            "Epoch 70/100\n",
            "11/11 [==============================] - 1s 53ms/step - loss: 0.1083 - accuracy: 0.9714 - val_loss: 0.1986 - val_accuracy: 0.9607\n",
            "Epoch 71/100\n",
            "11/11 [==============================] - 1s 54ms/step - loss: 0.1608 - accuracy: 0.9405 - val_loss: 0.2340 - val_accuracy: 0.9464\n",
            "Epoch 72/100\n",
            "11/11 [==============================] - 1s 53ms/step - loss: 0.1260 - accuracy: 0.9643 - val_loss: 0.2142 - val_accuracy: 0.9643\n",
            "Epoch 73/100\n",
            "11/11 [==============================] - 1s 53ms/step - loss: 0.1224 - accuracy: 0.9607 - val_loss: 0.1727 - val_accuracy: 0.9786\n",
            "Epoch 74/100\n",
            "11/11 [==============================] - 1s 54ms/step - loss: 0.1181 - accuracy: 0.9631 - val_loss: 0.1860 - val_accuracy: 0.9643\n",
            "Epoch 75/100\n",
            "11/11 [==============================] - 1s 54ms/step - loss: 0.1271 - accuracy: 0.9595 - val_loss: 0.1865 - val_accuracy: 0.9643\n",
            "Epoch 76/100\n",
            "11/11 [==============================] - 1s 53ms/step - loss: 0.1165 - accuracy: 0.9571 - val_loss: 0.1691 - val_accuracy: 0.9571\n",
            "Epoch 77/100\n",
            "11/11 [==============================] - 1s 53ms/step - loss: 0.1732 - accuracy: 0.9524 - val_loss: 0.1732 - val_accuracy: 0.9750\n",
            "Epoch 78/100\n",
            "11/11 [==============================] - 1s 54ms/step - loss: 0.1052 - accuracy: 0.9643 - val_loss: 0.2052 - val_accuracy: 0.9714\n",
            "Epoch 79/100\n",
            "11/11 [==============================] - 1s 53ms/step - loss: 0.1404 - accuracy: 0.9619 - val_loss: 0.1953 - val_accuracy: 0.9643\n",
            "Epoch 80/100\n",
            "11/11 [==============================] - 1s 54ms/step - loss: 0.1142 - accuracy: 0.9595 - val_loss: 0.1974 - val_accuracy: 0.9643\n",
            "Epoch 81/100\n",
            "11/11 [==============================] - 1s 53ms/step - loss: 0.1286 - accuracy: 0.9595 - val_loss: 0.1966 - val_accuracy: 0.9679\n",
            "Epoch 82/100\n",
            "11/11 [==============================] - 1s 53ms/step - loss: 0.0875 - accuracy: 0.9726 - val_loss: 0.1803 - val_accuracy: 0.9679\n",
            "Epoch 83/100\n",
            "11/11 [==============================] - 1s 53ms/step - loss: 0.0945 - accuracy: 0.9667 - val_loss: 0.1804 - val_accuracy: 0.9714\n",
            "Epoch 84/100\n",
            "11/11 [==============================] - 1s 54ms/step - loss: 0.1275 - accuracy: 0.9583 - val_loss: 0.2101 - val_accuracy: 0.9607\n",
            "Epoch 85/100\n",
            "11/11 [==============================] - 1s 53ms/step - loss: 0.1148 - accuracy: 0.9643 - val_loss: 0.1688 - val_accuracy: 0.9714\n",
            "Epoch 86/100\n",
            "11/11 [==============================] - 1s 53ms/step - loss: 0.1371 - accuracy: 0.9631 - val_loss: 0.2036 - val_accuracy: 0.9643\n",
            "Epoch 87/100\n",
            "11/11 [==============================] - 1s 54ms/step - loss: 0.1126 - accuracy: 0.9667 - val_loss: 0.2085 - val_accuracy: 0.9750\n",
            "Epoch 88/100\n",
            "11/11 [==============================] - 1s 53ms/step - loss: 0.1406 - accuracy: 0.9571 - val_loss: 0.2011 - val_accuracy: 0.9714\n",
            "Epoch 89/100\n",
            "11/11 [==============================] - 1s 53ms/step - loss: 0.1082 - accuracy: 0.9643 - val_loss: 0.1987 - val_accuracy: 0.9679\n",
            "Epoch 90/100\n",
            "11/11 [==============================] - 1s 54ms/step - loss: 0.1161 - accuracy: 0.9679 - val_loss: 0.1942 - val_accuracy: 0.9679\n",
            "Epoch 91/100\n",
            "11/11 [==============================] - 1s 53ms/step - loss: 0.0815 - accuracy: 0.9738 - val_loss: 0.1901 - val_accuracy: 0.9714\n",
            "Epoch 92/100\n",
            "11/11 [==============================] - 1s 53ms/step - loss: 0.1581 - accuracy: 0.9488 - val_loss: 0.2428 - val_accuracy: 0.9571\n",
            "Epoch 93/100\n",
            "11/11 [==============================] - 1s 53ms/step - loss: 0.0969 - accuracy: 0.9655 - val_loss: 0.1984 - val_accuracy: 0.9643\n",
            "Epoch 94/100\n",
            "11/11 [==============================] - 1s 53ms/step - loss: 0.0916 - accuracy: 0.9726 - val_loss: 0.1722 - val_accuracy: 0.9786\n",
            "Epoch 95/100\n",
            "11/11 [==============================] - 1s 53ms/step - loss: 0.0839 - accuracy: 0.9738 - val_loss: 0.1753 - val_accuracy: 0.9714\n",
            "Epoch 96/100\n",
            "11/11 [==============================] - 1s 54ms/step - loss: 0.0688 - accuracy: 0.9750 - val_loss: 0.1828 - val_accuracy: 0.9679\n",
            "Epoch 97/100\n",
            "11/11 [==============================] - 1s 54ms/step - loss: 0.0995 - accuracy: 0.9667 - val_loss: 0.1626 - val_accuracy: 0.9714\n",
            "Epoch 98/100\n",
            "11/11 [==============================] - 1s 53ms/step - loss: 0.1345 - accuracy: 0.9655 - val_loss: 0.1834 - val_accuracy: 0.9714\n",
            "Epoch 99/100\n",
            "11/11 [==============================] - 1s 53ms/step - loss: 0.1033 - accuracy: 0.9667 - val_loss: 0.1902 - val_accuracy: 0.9679\n",
            "Epoch 100/100\n",
            "11/11 [==============================] - 1s 53ms/step - loss: 0.0935 - accuracy: 0.9667 - val_loss: 0.1984 - val_accuracy: 0.9679\n"
          ]
        }
      ]
    },
    {
      "cell_type": "markdown",
      "metadata": {
        "id": "y_i70WoqTAxI"
      },
      "source": [
        "## Evaluate and predict test set"
      ],
      "id": "y_i70WoqTAxI"
    },
    {
      "cell_type": "code",
      "metadata": {
        "colab": {
          "base_uri": "https://localhost:8080/"
        },
        "id": "ZQ4n8wAmB9ZX",
        "outputId": "cf8fe2a1-019b-45b0-ce0c-5fe86943b315"
      },
      "source": [
        "# Evaluate model\n",
        "print(f'Test Accuracy: {model_cnn.evaluate(X_test[:,:,:,None],y_test,verbose=0)[1]}')"
      ],
      "id": "ZQ4n8wAmB9ZX",
      "execution_count": 13,
      "outputs": [
        {
          "output_type": "stream",
          "name": "stdout",
          "text": [
            "Test Accuracy: 0.9678571224212646\n"
          ]
        }
      ]
    },
    {
      "cell_type": "code",
      "metadata": {
        "id": "F62fEQaGFMqs",
        "colab": {
          "base_uri": "https://localhost:8080/",
          "height": 313
        },
        "outputId": "99851d4f-d04c-4a7a-da2c-bbd9c72123a2"
      },
      "source": [
        "# Learning curve\n",
        "# plot the accuracy and loss plots between training and validation data\n",
        "# verify overfitting or underfit \n",
        "acc = history.history['accuracy']\n",
        "val_acc = history.history['val_accuracy']\n",
        "loss = history.history['loss']\n",
        "val_loss = history.history['val_loss']\n",
        "x = range(1,len(acc)+1)\n",
        "\n",
        "plt.plot(x,loss,'b',label='Training loss')\n",
        "plt.plot(x,val_loss,'r',label='Validation loss')\n",
        "plt.title('Training and validation loss')\n",
        "plt.xlabel('epochs')\n",
        "plt.ylabel('loss')\n",
        "plt.legend()"
      ],
      "id": "F62fEQaGFMqs",
      "execution_count": 14,
      "outputs": [
        {
          "output_type": "execute_result",
          "data": {
            "text/plain": [
              "<matplotlib.legend.Legend at 0x7fefcb3b89d0>"
            ]
          },
          "metadata": {},
          "execution_count": 14
        },
        {
          "output_type": "display_data",
          "data": {
            "image/png": "[encoded data removed]",
            "text/plain": [
              "<Figure size 432x288 with 1 Axes>"
            ]
          },
          "metadata": {
            "needs_background": "light"
          }
        }
      ]
    },
    {
      "cell_type": "code",
      "metadata": {
        "id": "wFbKdWsMkDuw",
        "colab": {
          "base_uri": "https://localhost:8080/"
        },
        "outputId": "d5f4cfe5-eff5-4ca1-d5dc-ed292e7e88ca"
      },
      "source": [
        "# classification report\n",
        "predicted_classes = np.argmax(np.round(model_cnn.predict(X_test[:,:,:,None])),axis=1)\n",
        "correct = np.where(predicted_classes==y_test)[0]\n",
        "target_names = [f\"Class {label}\" for label in range(len(np.unique(df['label'])))]\n",
        "\n",
        "print(f\"From {len(y_test)} labels're founding {len(correct)} correct labels.\")\n",
        "print(f'Accuracy: {len(correct)/len(y_test)}')\n",
        "print('')\n",
        "print(classification_report(y_test, predicted_classes, target_names=target_names))"
      ],
      "id": "wFbKdWsMkDuw",
      "execution_count": 15,
      "outputs": [
        {
          "output_type": "stream",
          "name": "stdout",
          "text": [
            "From 280 labels're founding 262 correct labels.\n",
            "Accuracy: 0.9357142857142857\n",
            "\n",
            "              precision    recall  f1-score   support\n",
            "\n",
            "     Class 0       0.26      1.00      0.42         5\n",
            "     Class 1       1.00      1.00      1.00         5\n",
            "     Class 2       1.00      1.00      1.00         5\n",
            "     Class 3       1.00      0.80      0.89         5\n",
            "     Class 4       1.00      1.00      1.00         5\n",
            "     Class 5       1.00      1.00      1.00         5\n",
            "     Class 6       1.00      1.00      1.00         5\n",
            "     Class 7       1.00      1.00      1.00         5\n",
            "     Class 8       1.00      1.00      1.00         5\n",
            "     Class 9       1.00      0.80      0.89         5\n",
            "    Class 10       0.80      0.80      0.80         5\n",
            "    Class 11       1.00      0.80      0.89         5\n",
            "    Class 12       1.00      0.60      0.75         5\n",
            "    Class 13       1.00      1.00      1.00         5\n",
            "    Class 14       1.00      1.00      1.00         5\n",
            "    Class 15       1.00      0.80      0.89         5\n",
            "    Class 16       1.00      1.00      1.00         5\n",
            "    Class 17       1.00      1.00      1.00         5\n",
            "    Class 18       1.00      1.00      1.00         5\n",
            "    Class 19       1.00      0.60      0.75         5\n",
            "    Class 20       1.00      1.00      1.00         5\n",
            "    Class 21       1.00      1.00      1.00         5\n",
            "    Class 22       1.00      1.00      1.00         5\n",
            "    Class 23       1.00      1.00      1.00         5\n",
            "    Class 24       1.00      0.80      0.89         5\n",
            "    Class 25       1.00      0.80      0.89         5\n",
            "    Class 26       1.00      1.00      1.00         5\n",
            "    Class 27       1.00      1.00      1.00         5\n",
            "    Class 28       1.00      1.00      1.00         5\n",
            "    Class 29       1.00      1.00      1.00         5\n",
            "    Class 30       1.00      0.80      0.89         5\n",
            "    Class 31       1.00      0.80      0.89         5\n",
            "    Class 32       1.00      1.00      1.00         5\n",
            "    Class 33       1.00      0.80      0.89         5\n",
            "    Class 34       1.00      1.00      1.00         5\n",
            "    Class 35       1.00      1.00      1.00         5\n",
            "    Class 36       1.00      1.00      1.00         5\n",
            "    Class 37       1.00      1.00      1.00         5\n",
            "    Class 38       0.83      1.00      0.91         5\n",
            "    Class 39       1.00      1.00      1.00         5\n",
            "    Class 40       1.00      1.00      1.00         5\n",
            "    Class 41       1.00      1.00      1.00         5\n",
            "    Class 42       1.00      1.00      1.00         5\n",
            "    Class 43       1.00      1.00      1.00         5\n",
            "    Class 44       1.00      1.00      1.00         5\n",
            "    Class 45       1.00      1.00      1.00         5\n",
            "    Class 46       0.83      1.00      0.91         5\n",
            "    Class 47       1.00      0.80      0.89         5\n",
            "    Class 48       1.00      1.00      1.00         5\n",
            "    Class 49       1.00      1.00      1.00         5\n",
            "    Class 50       0.83      1.00      0.91         5\n",
            "    Class 51       1.00      0.60      0.75         5\n",
            "    Class 52       1.00      0.80      0.89         5\n",
            "    Class 53       1.00      1.00      1.00         5\n",
            "    Class 54       1.00      1.00      1.00         5\n",
            "    Class 55       1.00      1.00      1.00         5\n",
            "\n",
            "    accuracy                           0.94       280\n",
            "   macro avg       0.97      0.94      0.95       280\n",
            "weighted avg       0.97      0.94      0.95       280\n",
            "\n"
          ]
        }
      ]
    },
    {
      "cell_type": "markdown",
      "metadata": {
        "id": "ExkYoE9LXq6I"
      },
      "source": [
        "## Other people \n",
        "men and woman each 10 audio file."
      ],
      "id": "ExkYoE9LXq6I"
    },
    {
      "cell_type": "code",
      "metadata": {
        "colab": {
          "base_uri": "https://localhost:8080/"
        },
        "id": "AYxW624FZZdM",
        "outputId": "6b27339f-eadb-4bc3-aa1e-a8035cfa3fe6"
      },
      "source": [
        "import numpy as np\n",
        "np.random.seed(77)\n",
        "\n",
        "random_fruit_veget = np.random.choice(np.unique(df['description']),10,replace=False).tolist()\n",
        "print(random_fruit_veget)"
      ],
      "id": "AYxW624FZZdM",
      "execution_count": 16,
      "outputs": [
        {
          "output_type": "stream",
          "name": "stdout",
          "text": [
            "['ผักกุยช่าย', 'ทับทิม', 'ใบชะพลู1', 'พริกขี้หนู', 'มันสำปะหลัง', 'ฟักทอง', 'มะพลับ', 'หัวหอม2', 'ใบชะพลู2', 'บวบ']\n"
          ]
        }
      ]
    },
    {
      "cell_type": "code",
      "metadata": {
        "id": "XTRoVzSzX3XM"
      },
      "source": [
        "import pandas as pd\n",
        "\n",
        "# Audio data source\n",
        "other_source = {'audio_time':[],\n",
        "                'sampling_rate':[],\n",
        "                'feature_extraction':[],\n",
        "                'label':[],\n",
        "                'description':[]}\n",
        "\n",
        "for types in random_fruit_veget:\n",
        "    audio_files = glob('/content/Project_499/Record_other_audio/' + str(types) + '/*.wav')\n",
        "\n",
        "    for audio in audio_files:\n",
        "        y,sr = librosa.load(audio,duration=5,offset=0)\n",
        "        other_source['description'].append(str(types))\n",
        "        other_source['audio_time'].append(y)\n",
        "        other_source['sampling_rate'].append(sr)\n",
        "        other_source['feature_extraction'].append(feature_mfcc(y,sr))\n",
        "        # other_source['label'].append(random_fruit_veget.index(types))\n",
        "\n",
        "other_source['label'] = [18,18,14,14,39,39,44,44,37,37,50,50,25,25,55,55,40,40,38,38]\n",
        "other_df = pd.DataFrame.from_dict(other_source)"
      ],
      "id": "XTRoVzSzX3XM",
      "execution_count": 17,
      "outputs": []
    },
    {
      "cell_type": "code",
      "metadata": {
        "id": "rQ6EclMVZCeE"
      },
      "source": [
        "other_X_test = np.array(other_df['feature_extraction'].to_list())\n",
        "other_y_test = np.array(other_df['label'].to_list())"
      ],
      "id": "rQ6EclMVZCeE",
      "execution_count": 18,
      "outputs": []
    },
    {
      "cell_type": "code",
      "metadata": {
        "id": "uG_isU-4c97L",
        "outputId": "2ab448fb-5ec4-44ef-ce19-d39865584846",
        "colab": {
          "base_uri": "https://localhost:8080/"
        }
      },
      "source": [
        "# classification report\n",
        "predicted_classes = np.argmax(np.round(model_cnn.predict(other_X_test[:,:,:,None])),axis=1)\n",
        "correct = np.where(predicted_classes==other_y_test)[0]\n",
        "target_names = [f\"Class {label}\" for label in np.unique(other_source['label'])]\n",
        "\n",
        "print(f\"From {len(other_y_test)} labels're founding {len(correct)} correct labels.\")\n",
        "print(f'Accuracy: {len(correct)/len(other_y_test)}')"
      ],
      "id": "uG_isU-4c97L",
      "execution_count": 19,
      "outputs": [
        {
          "output_type": "stream",
          "name": "stdout",
          "text": [
            "From 20 labels're founding 7 correct labels.\n",
            "Accuracy: 0.35\n"
          ]
        }
      ]
    }
  ]
}