{
  "nbformat": 4,
  "nbformat_minor": 5,
  "metadata": {
    "colab": {
      "name": "Project_499_CNN.ipynb",
      "provenance": [],
      "collapsed_sections": [],
      "include_colab_link": true
    },
    "kernelspec": {
      "display_name": "Python 3",
      "language": "python",
      "name": "python3"
    },
    "language_info": {
      "codemirror_mode": {
        "name": "ipython",
        "version": 3
      },
      "file_extension": ".py",
      "mimetype": "text/x-python",
      "name": "python",
      "nbconvert_exporter": "python",
      "pygments_lexer": "ipython3",
      "version": "3.8.8"
    },
    "accelerator": "GPU"
  },
  "cells": [
    {
      "cell_type": "markdown",
      "metadata": {
        "id": "view-in-github",
        "colab_type": "text"
      },
      "source": [
        "<a href=\"https://colab.research.google.com/github/NongNNew/Project_499/blob/main/Project_499_CNN.ipynb\" target=\"_parent\"><img src=\"https://colab.research.google.com/assets/colab-badge.svg\" alt=\"Open In Colab\"/></a>"
      ]
    },
    {
      "cell_type": "markdown",
      "metadata": {
        "id": "hW4AHGmEVrk8"
      },
      "source": [
        "# CNN"
      ],
      "id": "hW4AHGmEVrk8"
    },
    {
      "cell_type": "code",
      "metadata": {
        "colab": {
          "base_uri": "https://localhost:8080/"
        },
        "id": "gJVdtdww87RO",
        "outputId": "0a6044a9-484d-47bb-d31b-7b1285d3abda"
      },
      "source": [
        "!git clone https://github.com/NongNNew/Project_499.git"
      ],
      "id": "gJVdtdww87RO",
      "execution_count": null,
      "outputs": [
        {
          "output_type": "stream",
          "text": [
            "Cloning into 'Project_499'...\n",
            "remote: Enumerating objects: 799, done.\u001b[K\n",
            "remote: Counting objects: 100% (351/351), done.\u001b[K\n",
            "remote: Compressing objects: 100% (346/346), done.\u001b[K\n",
            "remote: Total 799 (delta 21), reused 325 (delta 5), pack-reused 448\u001b[K\n",
            "Receiving objects: 100% (799/799), 138.85 MiB | 24.27 MiB/s, done.\n",
            "Resolving deltas: 100% (49/49), done.\n",
            "Checking out files: 100% (661/661), done.\n"
          ],
          "name": "stdout"
        }
      ]
    },
    {
      "cell_type": "code",
      "metadata": {
        "id": "kj43EsnPwnaw"
      },
      "source": [
        "import pandas as pd\n",
        "from glob import glob\n",
        "import librosa\n",
        "import librosa.display"
      ],
      "id": "kj43EsnPwnaw",
      "execution_count": null,
      "outputs": []
    },
    {
      "cell_type": "code",
      "metadata": {
        "id": "EHnDUT5YejVV"
      },
      "source": [
        "fruit_veget = ['กระชาย','กระท้อน','กระเทียม1','กระเทียม2','กระเพรา','กล้วยน้ำว้า','กล้วยหอม',\n",
        "               'ข้าวโพด','ไข่น้ำ',\n",
        "               'ตะขบไทย','ตะไคร้',\n",
        "               'ถั่วฝักยาว','ถั่วลันเตา','ถั่วลิสง',\n",
        "               'ทับทิม',\n",
        "               'น้อยหน่า','น้ำเต้า',\n",
        "               'ผักกระเฉด','ผักกุยช่าย',\n",
        "               'บวบ','ใบชะพลู1','ใบชะพลู2','ใบบัวบก','ใบแมงลัก','ใบยอ',\n",
        "               'พริกขี้หนู','พริกสด',\n",
        "               'ฝรั่ง',\n",
        "               'พุทรา',\n",
        "               'มะปราง','มะพลับ','มะละกอ',\n",
        "               'สับปะรด']\n",
        "\n",
        "source = {'audio_time':[],\n",
        "          'sampling_rate':[],\n",
        "          'feature_extraction':[],\n",
        "          'label':[],\n",
        "          'description':[]}"
      ],
      "id": "EHnDUT5YejVV",
      "execution_count": null,
      "outputs": []
    },
    {
      "cell_type": "code",
      "metadata": {
        "id": "tixApnAUy5tv"
      },
      "source": [
        "for types in fruit_veget:\n",
        "    audio_files = glob('/content/Project_499/Record_audio/' + str(types) + '/*.wav')\n",
        "\n",
        "    for audio in audio_files:\n",
        "        y,sr = librosa.load(audio,duration=6,offset=0)\n",
        "        source['description'].append(str(types))\n",
        "        source['audio_time'].append(y)\n",
        "        source['sampling_rate'].append(sr)\n",
        "        source['feature_extraction'].append(librosa.feature.mfcc(y,sr,n_mfcc=13))\n",
        "        source['label'].append(fruit_veget.index(types))"
      ],
      "id": "tixApnAUy5tv",
      "execution_count": null,
      "outputs": []
    },
    {
      "cell_type": "code",
      "metadata": {
        "id": "353eCwDJUumP"
      },
      "source": [
        "import re\n",
        "\n",
        "for i in range(len(source['description'])):\n",
        "    source['description'][i] = re.findall('[\\u0E00-\\u0E7F]+',source['description'][i])[0]"
      ],
      "id": "353eCwDJUumP",
      "execution_count": null,
      "outputs": []
    },
    {
      "cell_type": "code",
      "metadata": {
        "colab": {
          "base_uri": "https://localhost:8080/",
          "height": 415
        },
        "id": "8B6cSV4Ckude",
        "outputId": "bc23f966-16ce-4e84-9d8c-6b70ae1929e0"
      },
      "source": [
        "pd.DataFrame.from_dict(source)"
      ],
      "id": "8B6cSV4Ckude",
      "execution_count": null,
      "outputs": [
        {
          "output_type": "execute_result",
          "data": {
            "text/html": [
              "<div>\n",
              "<style scoped>\n",
              "    .dataframe tbody tr th:only-of-type {\n",
              "        vertical-align: middle;\n",
              "    }\n",
              "\n",
              "    .dataframe tbody tr th {\n",
              "        vertical-align: top;\n",
              "    }\n",
              "\n",
              "    .dataframe thead th {\n",
              "        text-align: right;\n",
              "    }\n",
              "</style>\n",
              "<table border=\"1\" class=\"dataframe\">\n",
              "  <thead>\n",
              "    <tr style=\"text-align: right;\">\n",
              "      <th></th>\n",
              "      <th>audio_time</th>\n",
              "      <th>sampling_rate</th>\n",
              "      <th>feature_extraction</th>\n",
              "      <th>label</th>\n",
              "      <th>description</th>\n",
              "    </tr>\n",
              "  </thead>\n",
              "  <tbody>\n",
              "    <tr>\n",
              "      <th>0</th>\n",
              "      <td>[-0.0002593994, -0.00022888184, -0.0002593994,...</td>\n",
              "      <td>22050</td>\n",
              "      <td>[[-639.25616, -639.47345, -640.0064, -640.5056...</td>\n",
              "      <td>0</td>\n",
              "      <td>กระชาย</td>\n",
              "    </tr>\n",
              "    <tr>\n",
              "      <th>1</th>\n",
              "      <td>[1.5258789e-05, -3.0517578e-05, 4.5776367e-05,...</td>\n",
              "      <td>22050</td>\n",
              "      <td>[[-624.1429, -624.4267, -624.8286, -624.58374,...</td>\n",
              "      <td>0</td>\n",
              "      <td>กระชาย</td>\n",
              "    </tr>\n",
              "    <tr>\n",
              "      <th>2</th>\n",
              "      <td>[-0.004928589, -0.0049591064, -0.0048980713, -...</td>\n",
              "      <td>22050</td>\n",
              "      <td>[[-634.622, -639.0867, -654.00525, -659.99115,...</td>\n",
              "      <td>0</td>\n",
              "      <td>กระชาย</td>\n",
              "    </tr>\n",
              "    <tr>\n",
              "      <th>3</th>\n",
              "      <td>[1.5258789e-05, -3.0517578e-05, 6.1035156e-05,...</td>\n",
              "      <td>22050</td>\n",
              "      <td>[[-635.46277, -636.8741, -637.42834, -636.0504...</td>\n",
              "      <td>0</td>\n",
              "      <td>กระชาย</td>\n",
              "    </tr>\n",
              "    <tr>\n",
              "      <th>4</th>\n",
              "      <td>[-0.0001373291, -0.00018310547, -4.5776367e-05...</td>\n",
              "      <td>22050</td>\n",
              "      <td>[[-655.651, -653.5817, -654.66907, -655.0482, ...</td>\n",
              "      <td>0</td>\n",
              "      <td>กระชาย</td>\n",
              "    </tr>\n",
              "    <tr>\n",
              "      <th>...</th>\n",
              "      <td>...</td>\n",
              "      <td>...</td>\n",
              "      <td>...</td>\n",
              "      <td>...</td>\n",
              "      <td>...</td>\n",
              "    </tr>\n",
              "    <tr>\n",
              "      <th>654</th>\n",
              "      <td>[-0.00018310547, -0.0002593994, -0.00022888184...</td>\n",
              "      <td>22050</td>\n",
              "      <td>[[-662.2502, -662.54706, -661.8858, -660.38995...</td>\n",
              "      <td>32</td>\n",
              "      <td>สับปะรด</td>\n",
              "    </tr>\n",
              "    <tr>\n",
              "      <th>655</th>\n",
              "      <td>[-0.00019836426, -0.0002593994, -7.6293945e-05...</td>\n",
              "      <td>22050</td>\n",
              "      <td>[[-655.92065, -656.85034, -655.4548, -653.7831...</td>\n",
              "      <td>32</td>\n",
              "      <td>สับปะรด</td>\n",
              "    </tr>\n",
              "    <tr>\n",
              "      <th>656</th>\n",
              "      <td>[-0.00016784668, -0.00015258789, -0.0001983642...</td>\n",
              "      <td>22050</td>\n",
              "      <td>[[-668.4974, -670.4946, -672.10724, -671.17737...</td>\n",
              "      <td>32</td>\n",
              "      <td>สับปะรด</td>\n",
              "    </tr>\n",
              "    <tr>\n",
              "      <th>657</th>\n",
              "      <td>[-0.00018310547, -0.0002593994, -0.00021362305...</td>\n",
              "      <td>22050</td>\n",
              "      <td>[[-670.37274, -672.49, -674.93616, -677.3624, ...</td>\n",
              "      <td>32</td>\n",
              "      <td>สับปะรด</td>\n",
              "    </tr>\n",
              "    <tr>\n",
              "      <th>658</th>\n",
              "      <td>[0.0, 0.0, 1.5258789e-05, 0.0, 3.0517578e-05, ...</td>\n",
              "      <td>22050</td>\n",
              "      <td>[[-665.2395, -667.56616, -666.0286, -661.08685...</td>\n",
              "      <td>32</td>\n",
              "      <td>สับปะรด</td>\n",
              "    </tr>\n",
              "  </tbody>\n",
              "</table>\n",
              "<p>659 rows × 5 columns</p>\n",
              "</div>"
            ],
            "text/plain": [
              "                                            audio_time  ...  description\n",
              "0    [-0.0002593994, -0.00022888184, -0.0002593994,...  ...       กระชาย\n",
              "1    [1.5258789e-05, -3.0517578e-05, 4.5776367e-05,...  ...       กระชาย\n",
              "2    [-0.004928589, -0.0049591064, -0.0048980713, -...  ...       กระชาย\n",
              "3    [1.5258789e-05, -3.0517578e-05, 6.1035156e-05,...  ...       กระชาย\n",
              "4    [-0.0001373291, -0.00018310547, -4.5776367e-05...  ...       กระชาย\n",
              "..                                                 ...  ...          ...\n",
              "654  [-0.00018310547, -0.0002593994, -0.00022888184...  ...      สับปะรด\n",
              "655  [-0.00019836426, -0.0002593994, -7.6293945e-05...  ...      สับปะรด\n",
              "656  [-0.00016784668, -0.00015258789, -0.0001983642...  ...      สับปะรด\n",
              "657  [-0.00018310547, -0.0002593994, -0.00021362305...  ...      สับปะรด\n",
              "658  [0.0, 0.0, 1.5258789e-05, 0.0, 3.0517578e-05, ...  ...      สับปะรด\n",
              "\n",
              "[659 rows x 5 columns]"
            ]
          },
          "metadata": {
            "tags": []
          },
          "execution_count": 6
        }
      ]
    },
    {
      "cell_type": "code",
      "metadata": {
        "id": "77wMVqve6W8f"
      },
      "source": [
        "import tensorflow as tf\n",
        "from tensorflow import keras \n",
        "import numpy as np\n",
        "from sklearn.model_selection import train_test_split\n",
        "\n",
        "X = np.array(source['feature_extraction'])\n",
        "y = np.array(source['label'])\n",
        "\n",
        "X_train, X_test, y_train, y_test = train_test_split(X,y,test_size=0.25)\n",
        "\n",
        "model = keras.Sequential()\n",
        "model.add(keras.layers.Conv2D(64, 5, input_shape=(13, 259, 1), activation='relu'))\n",
        "model.add(keras.layers.Dropout(0.25))\n",
        "model.add(keras.layers.MaxPool2D())\n",
        "model.add(keras.layers.Conv2D(64, 5, activation='relu',padding='same'))\n",
        "model.add(keras.layers.Dropout(0.25))\n",
        "model.add(keras.layers.MaxPool2D())\n",
        "model.add(keras.layers.Flatten())\n",
        "model.add(keras.layers.Dense(128, activation='relu'))\n",
        "model.add(keras.layers.Dropout(0.5))\n",
        "model.add(keras.layers.Dense(len(np.unique(source['label'])), activation='softmax'))\n",
        "model.compile(optimizer='adam', loss='sparse_categorical_crossentropy', metrics=['accuracy'])"
      ],
      "id": "77wMVqve6W8f",
      "execution_count": null,
      "outputs": []
    },
    {
      "cell_type": "code",
      "metadata": {
        "id": "DrzsDngAedYi",
        "colab": {
          "base_uri": "https://localhost:8080/"
        },
        "outputId": "d4b01f4c-4d5a-4e6a-840d-814f39782b6e"
      },
      "source": [
        "# # Cumulative Frequency of label y_test\n",
        "# from collections import Counter\n",
        "# Counter(y_test)\n",
        "\n",
        "# Showing label are used in testing model. \n",
        "np.unique(y_test)"
      ],
      "id": "DrzsDngAedYi",
      "execution_count": null,
      "outputs": [
        {
          "output_type": "execute_result",
          "data": {
            "text/plain": [
              "array([ 0,  1,  2,  3,  4,  5,  6,  7,  8,  9, 10, 11, 12, 13, 14, 15, 16,\n",
              "       17, 18, 19, 20, 21, 22, 23, 24, 25, 26, 27, 28, 29, 30, 31, 32])"
            ]
          },
          "metadata": {
            "tags": []
          },
          "execution_count": 16
        }
      ]
    },
    {
      "cell_type": "code",
      "metadata": {
        "colab": {
          "base_uri": "https://localhost:8080/"
        },
        "id": "J_fPsi8o62or",
        "outputId": "af6f4f69-caab-4522-9168-d00a7cd1da6b"
      },
      "source": [
        "model.fit(X_train[:,:,:,None], y_train, epochs=100)"
      ],
      "id": "J_fPsi8o62or",
      "execution_count": null,
      "outputs": [
        {
          "output_type": "stream",
          "text": [
            "Epoch 1/100\n",
            "16/16 [==============================] - 1s 10ms/step - loss: 34.2085 - accuracy: 0.0324\n",
            "Epoch 2/100\n",
            "16/16 [==============================] - 0s 10ms/step - loss: 3.5155 - accuracy: 0.0324\n",
            "Epoch 3/100\n",
            "16/16 [==============================] - 0s 8ms/step - loss: 3.4306 - accuracy: 0.0587\n",
            "Epoch 4/100\n",
            "16/16 [==============================] - 0s 8ms/step - loss: 3.3479 - accuracy: 0.0749\n",
            "Epoch 5/100\n",
            "16/16 [==============================] - 0s 8ms/step - loss: 3.2509 - accuracy: 0.0850\n",
            "Epoch 6/100\n",
            "16/16 [==============================] - 0s 9ms/step - loss: 2.9646 - accuracy: 0.1538\n",
            "Epoch 7/100\n",
            "16/16 [==============================] - 0s 8ms/step - loss: 2.8666 - accuracy: 0.1781\n",
            "Epoch 8/100\n",
            "16/16 [==============================] - 0s 8ms/step - loss: 2.6407 - accuracy: 0.2510\n",
            "Epoch 9/100\n",
            "16/16 [==============================] - 0s 8ms/step - loss: 2.4288 - accuracy: 0.2652\n",
            "Epoch 10/100\n",
            "16/16 [==============================] - 0s 8ms/step - loss: 2.2650 - accuracy: 0.2976\n",
            "Epoch 11/100\n",
            "16/16 [==============================] - 0s 9ms/step - loss: 2.1241 - accuracy: 0.3745\n",
            "Epoch 12/100\n",
            "16/16 [==============================] - 0s 8ms/step - loss: 1.8056 - accuracy: 0.4271\n",
            "Epoch 13/100\n",
            "16/16 [==============================] - 0s 8ms/step - loss: 1.7255 - accuracy: 0.4555\n",
            "Epoch 14/100\n",
            "16/16 [==============================] - 0s 8ms/step - loss: 1.7282 - accuracy: 0.4757\n",
            "Epoch 15/100\n",
            "16/16 [==============================] - 0s 9ms/step - loss: 1.2806 - accuracy: 0.5931\n",
            "Epoch 16/100\n",
            "16/16 [==============================] - 0s 8ms/step - loss: 1.2228 - accuracy: 0.5911\n",
            "Epoch 17/100\n",
            "16/16 [==============================] - 0s 8ms/step - loss: 1.1981 - accuracy: 0.6093\n",
            "Epoch 18/100\n",
            "16/16 [==============================] - 0s 8ms/step - loss: 1.1037 - accuracy: 0.6478\n",
            "Epoch 19/100\n",
            "16/16 [==============================] - 0s 8ms/step - loss: 0.9147 - accuracy: 0.6943\n",
            "Epoch 20/100\n",
            "16/16 [==============================] - 0s 8ms/step - loss: 0.9655 - accuracy: 0.6781\n",
            "Epoch 21/100\n",
            "16/16 [==============================] - 0s 8ms/step - loss: 0.9398 - accuracy: 0.6781\n",
            "Epoch 22/100\n",
            "16/16 [==============================] - 0s 8ms/step - loss: 0.8350 - accuracy: 0.7409\n",
            "Epoch 23/100\n",
            "16/16 [==============================] - 0s 8ms/step - loss: 0.8664 - accuracy: 0.7085\n",
            "Epoch 24/100\n",
            "16/16 [==============================] - 0s 8ms/step - loss: 0.6978 - accuracy: 0.7834\n",
            "Epoch 25/100\n",
            "16/16 [==============================] - 0s 8ms/step - loss: 0.7758 - accuracy: 0.7389\n",
            "Epoch 26/100\n",
            "16/16 [==============================] - 0s 8ms/step - loss: 0.7129 - accuracy: 0.7571\n",
            "Epoch 27/100\n",
            "16/16 [==============================] - 0s 8ms/step - loss: 0.5835 - accuracy: 0.8036\n",
            "Epoch 28/100\n",
            "16/16 [==============================] - 0s 8ms/step - loss: 0.6236 - accuracy: 0.8057\n",
            "Epoch 29/100\n",
            "16/16 [==============================] - 0s 8ms/step - loss: 0.6400 - accuracy: 0.7915\n",
            "Epoch 30/100\n",
            "16/16 [==============================] - 0s 8ms/step - loss: 0.6165 - accuracy: 0.7976\n",
            "Epoch 31/100\n",
            "16/16 [==============================] - 0s 8ms/step - loss: 0.6632 - accuracy: 0.8077\n",
            "Epoch 32/100\n",
            "16/16 [==============================] - 0s 8ms/step - loss: 0.5696 - accuracy: 0.8057\n",
            "Epoch 33/100\n",
            "16/16 [==============================] - 0s 8ms/step - loss: 0.5174 - accuracy: 0.8421\n",
            "Epoch 34/100\n",
            "16/16 [==============================] - 0s 8ms/step - loss: 0.5100 - accuracy: 0.8462\n",
            "Epoch 35/100\n",
            "16/16 [==============================] - 0s 8ms/step - loss: 0.4855 - accuracy: 0.8381\n",
            "Epoch 36/100\n",
            "16/16 [==============================] - 0s 8ms/step - loss: 0.5147 - accuracy: 0.8279\n",
            "Epoch 37/100\n",
            "16/16 [==============================] - 0s 8ms/step - loss: 0.4585 - accuracy: 0.8441\n",
            "Epoch 38/100\n",
            "16/16 [==============================] - 0s 8ms/step - loss: 0.3795 - accuracy: 0.8765\n",
            "Epoch 39/100\n",
            "16/16 [==============================] - 0s 8ms/step - loss: 0.5370 - accuracy: 0.8340\n",
            "Epoch 40/100\n",
            "16/16 [==============================] - 0s 8ms/step - loss: 0.3813 - accuracy: 0.8684\n",
            "Epoch 41/100\n",
            "16/16 [==============================] - 0s 8ms/step - loss: 0.3525 - accuracy: 0.8806\n",
            "Epoch 42/100\n",
            "16/16 [==============================] - 0s 8ms/step - loss: 0.3297 - accuracy: 0.8806\n",
            "Epoch 43/100\n",
            "16/16 [==============================] - 0s 8ms/step - loss: 0.3845 - accuracy: 0.8806\n",
            "Epoch 44/100\n",
            "16/16 [==============================] - 0s 8ms/step - loss: 0.4540 - accuracy: 0.8441\n",
            "Epoch 45/100\n",
            "16/16 [==============================] - 0s 8ms/step - loss: 0.3689 - accuracy: 0.8583\n",
            "Epoch 46/100\n",
            "16/16 [==============================] - 0s 8ms/step - loss: 0.3318 - accuracy: 0.8988\n",
            "Epoch 47/100\n",
            "16/16 [==============================] - 0s 8ms/step - loss: 0.4023 - accuracy: 0.8563\n",
            "Epoch 48/100\n",
            "16/16 [==============================] - 0s 8ms/step - loss: 0.3147 - accuracy: 0.9028\n",
            "Epoch 49/100\n",
            "16/16 [==============================] - 0s 8ms/step - loss: 0.3023 - accuracy: 0.8826\n",
            "Epoch 50/100\n",
            "16/16 [==============================] - 0s 8ms/step - loss: 0.4064 - accuracy: 0.8745\n",
            "Epoch 51/100\n",
            "16/16 [==============================] - 0s 8ms/step - loss: 0.3595 - accuracy: 0.8765\n",
            "Epoch 52/100\n",
            "16/16 [==============================] - 0s 8ms/step - loss: 0.3880 - accuracy: 0.8968\n",
            "Epoch 53/100\n",
            "16/16 [==============================] - 0s 8ms/step - loss: 0.4735 - accuracy: 0.8623\n",
            "Epoch 54/100\n",
            "16/16 [==============================] - 0s 8ms/step - loss: 0.2916 - accuracy: 0.9231\n",
            "Epoch 55/100\n",
            "16/16 [==============================] - 0s 8ms/step - loss: 0.3273 - accuracy: 0.8968\n",
            "Epoch 56/100\n",
            "16/16 [==============================] - 0s 8ms/step - loss: 0.2910 - accuracy: 0.9150\n",
            "Epoch 57/100\n",
            "16/16 [==============================] - 0s 8ms/step - loss: 0.3600 - accuracy: 0.8927\n",
            "Epoch 58/100\n",
            "16/16 [==============================] - 0s 8ms/step - loss: 0.2844 - accuracy: 0.9008\n",
            "Epoch 59/100\n",
            "16/16 [==============================] - 0s 8ms/step - loss: 0.2576 - accuracy: 0.9089\n",
            "Epoch 60/100\n",
            "16/16 [==============================] - 0s 8ms/step - loss: 0.2786 - accuracy: 0.9130\n",
            "Epoch 61/100\n",
            "16/16 [==============================] - 0s 8ms/step - loss: 0.2721 - accuracy: 0.9211\n",
            "Epoch 62/100\n",
            "16/16 [==============================] - 0s 8ms/step - loss: 0.2126 - accuracy: 0.9332\n",
            "Epoch 63/100\n",
            "16/16 [==============================] - 0s 8ms/step - loss: 0.2585 - accuracy: 0.9190\n",
            "Epoch 64/100\n",
            "16/16 [==============================] - 0s 8ms/step - loss: 0.2871 - accuracy: 0.8968\n",
            "Epoch 65/100\n",
            "16/16 [==============================] - 0s 8ms/step - loss: 0.3353 - accuracy: 0.8887\n",
            "Epoch 66/100\n",
            "16/16 [==============================] - 0s 8ms/step - loss: 0.2724 - accuracy: 0.9211\n",
            "Epoch 67/100\n",
            "16/16 [==============================] - 0s 8ms/step - loss: 0.2834 - accuracy: 0.9089\n",
            "Epoch 68/100\n",
            "16/16 [==============================] - 0s 8ms/step - loss: 0.3195 - accuracy: 0.9190\n",
            "Epoch 69/100\n",
            "16/16 [==============================] - 0s 8ms/step - loss: 0.2951 - accuracy: 0.9089\n",
            "Epoch 70/100\n",
            "16/16 [==============================] - 0s 8ms/step - loss: 0.2280 - accuracy: 0.9231\n",
            "Epoch 71/100\n",
            "16/16 [==============================] - 0s 8ms/step - loss: 0.2431 - accuracy: 0.9312\n",
            "Epoch 72/100\n",
            "16/16 [==============================] - 0s 8ms/step - loss: 0.2650 - accuracy: 0.9069\n",
            "Epoch 73/100\n",
            "16/16 [==============================] - 0s 8ms/step - loss: 0.3337 - accuracy: 0.8947\n",
            "Epoch 74/100\n",
            "16/16 [==============================] - 0s 8ms/step - loss: 0.1919 - accuracy: 0.9474\n",
            "Epoch 75/100\n",
            "16/16 [==============================] - 0s 8ms/step - loss: 0.2801 - accuracy: 0.9170\n",
            "Epoch 76/100\n",
            "16/16 [==============================] - 0s 8ms/step - loss: 0.2802 - accuracy: 0.9170\n",
            "Epoch 77/100\n",
            "16/16 [==============================] - 0s 8ms/step - loss: 0.3015 - accuracy: 0.8907\n",
            "Epoch 78/100\n",
            "16/16 [==============================] - 0s 8ms/step - loss: 0.1918 - accuracy: 0.9393\n",
            "Epoch 79/100\n",
            "16/16 [==============================] - 0s 8ms/step - loss: 0.1550 - accuracy: 0.9453\n",
            "Epoch 80/100\n",
            "16/16 [==============================] - 0s 8ms/step - loss: 0.2049 - accuracy: 0.9271\n",
            "Epoch 81/100\n",
            "16/16 [==============================] - 0s 8ms/step - loss: 0.2952 - accuracy: 0.9028\n",
            "Epoch 82/100\n",
            "16/16 [==============================] - 0s 8ms/step - loss: 0.2046 - accuracy: 0.9231\n",
            "Epoch 83/100\n",
            "16/16 [==============================] - 0s 8ms/step - loss: 0.2284 - accuracy: 0.9251\n",
            "Epoch 84/100\n",
            "16/16 [==============================] - 0s 8ms/step - loss: 0.2713 - accuracy: 0.9150\n",
            "Epoch 85/100\n",
            "16/16 [==============================] - 0s 8ms/step - loss: 0.2016 - accuracy: 0.9413\n",
            "Epoch 86/100\n",
            "16/16 [==============================] - 0s 8ms/step - loss: 0.2779 - accuracy: 0.9109\n",
            "Epoch 87/100\n",
            "16/16 [==============================] - 0s 8ms/step - loss: 0.2283 - accuracy: 0.9231\n",
            "Epoch 88/100\n",
            "16/16 [==============================] - 0s 8ms/step - loss: 0.2112 - accuracy: 0.9251\n",
            "Epoch 89/100\n",
            "16/16 [==============================] - 0s 9ms/step - loss: 0.2609 - accuracy: 0.9170\n",
            "Epoch 90/100\n",
            "16/16 [==============================] - 0s 9ms/step - loss: 0.1647 - accuracy: 0.9433\n",
            "Epoch 91/100\n",
            "16/16 [==============================] - 0s 8ms/step - loss: 0.1571 - accuracy: 0.9413\n",
            "Epoch 92/100\n",
            "16/16 [==============================] - 0s 8ms/step - loss: 0.2004 - accuracy: 0.9170\n",
            "Epoch 93/100\n",
            "16/16 [==============================] - 0s 8ms/step - loss: 0.2216 - accuracy: 0.9231\n",
            "Epoch 94/100\n",
            "16/16 [==============================] - 0s 8ms/step - loss: 0.1744 - accuracy: 0.9352\n",
            "Epoch 95/100\n",
            "16/16 [==============================] - 0s 8ms/step - loss: 0.1990 - accuracy: 0.9312\n",
            "Epoch 96/100\n",
            "16/16 [==============================] - 0s 8ms/step - loss: 0.2098 - accuracy: 0.9231\n",
            "Epoch 97/100\n",
            "16/16 [==============================] - 0s 8ms/step - loss: 0.2645 - accuracy: 0.9130\n",
            "Epoch 98/100\n",
            "16/16 [==============================] - 0s 8ms/step - loss: 0.2777 - accuracy: 0.8887\n",
            "Epoch 99/100\n",
            "16/16 [==============================] - 0s 8ms/step - loss: 0.1925 - accuracy: 0.9352\n",
            "Epoch 100/100\n",
            "16/16 [==============================] - 0s 8ms/step - loss: 0.1880 - accuracy: 0.9474\n"
          ],
          "name": "stdout"
        },
        {
          "output_type": "execute_result",
          "data": {
            "text/plain": [
              "<tensorflow.python.keras.callbacks.History at 0x7fdc105a8b50>"
            ]
          },
          "metadata": {
            "tags": []
          },
          "execution_count": 13
        }
      ]
    },
    {
      "cell_type": "code",
      "metadata": {
        "id": "S-z2fH0cHvVc",
        "colab": {
          "base_uri": "https://localhost:8080/"
        },
        "outputId": "c6e8dfe0-707e-4e13-ba66-99597852bca5"
      },
      "source": [
        "model.summary()"
      ],
      "id": "S-z2fH0cHvVc",
      "execution_count": null,
      "outputs": [
        {
          "output_type": "stream",
          "text": [
            "Model: \"sequential_1\"\n",
            "_________________________________________________________________\n",
            "Layer (type)                 Output Shape              Param #   \n",
            "=================================================================\n",
            "conv2d_2 (Conv2D)            (None, 9, 255, 64)        1664      \n",
            "_________________________________________________________________\n",
            "dropout_3 (Dropout)          (None, 9, 255, 64)        0         \n",
            "_________________________________________________________________\n",
            "max_pooling2d_2 (MaxPooling2 (None, 4, 127, 64)        0         \n",
            "_________________________________________________________________\n",
            "conv2d_3 (Conv2D)            (None, 4, 127, 64)        102464    \n",
            "_________________________________________________________________\n",
            "dropout_4 (Dropout)          (None, 4, 127, 64)        0         \n",
            "_________________________________________________________________\n",
            "max_pooling2d_3 (MaxPooling2 (None, 2, 63, 64)         0         \n",
            "_________________________________________________________________\n",
            "flatten_1 (Flatten)          (None, 8064)              0         \n",
            "_________________________________________________________________\n",
            "dense_2 (Dense)              (None, 128)               1032320   \n",
            "_________________________________________________________________\n",
            "dropout_5 (Dropout)          (None, 128)               0         \n",
            "_________________________________________________________________\n",
            "dense_3 (Dense)              (None, 33)                4257      \n",
            "=================================================================\n",
            "Total params: 1,140,705\n",
            "Trainable params: 1,140,705\n",
            "Non-trainable params: 0\n",
            "_________________________________________________________________\n"
          ],
          "name": "stdout"
        }
      ]
    },
    {
      "cell_type": "code",
      "metadata": {
        "colab": {
          "base_uri": "https://localhost:8080/"
        },
        "id": "ZQ4n8wAmB9ZX",
        "outputId": "39ade768-5ce4-41ac-f1d8-24971986e3cb"
      },
      "source": [
        "model.evaluate(X_test[:,:,:,None],y_test)"
      ],
      "id": "ZQ4n8wAmB9ZX",
      "execution_count": null,
      "outputs": [
        {
          "output_type": "stream",
          "text": [
            "6/6 [==============================] - 0s 34ms/step - loss: 0.1359 - accuracy: 0.9697\n"
          ],
          "name": "stdout"
        },
        {
          "output_type": "execute_result",
          "data": {
            "text/plain": [
              "[0.13588953018188477, 0.9696969985961914]"
            ]
          },
          "metadata": {
            "tags": []
          },
          "execution_count": 15
        }
      ]
    }
  ]
}