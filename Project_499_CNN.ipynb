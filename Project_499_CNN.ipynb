{
  "nbformat": 4,
  "nbformat_minor": 5,
  "metadata": {
    "colab": {
      "name": "Project_499_CNN.ipynb",
      "provenance": [],
      "collapsed_sections": [],
      "machine_shape": "hm",
      "include_colab_link": true
    },
    "kernelspec": {
      "display_name": "Python 3",
      "language": "python",
      "name": "python3"
    },
    "language_info": {
      "codemirror_mode": {
        "name": "ipython",
        "version": 3
      },
      "file_extension": ".py",
      "mimetype": "text/x-python",
      "name": "python",
      "nbconvert_exporter": "python",
      "pygments_lexer": "ipython3",
      "version": "3.8.8"
    },
    "accelerator": "GPU"
  },
  "cells": [
    {
      "cell_type": "markdown",
      "metadata": {
        "id": "view-in-github",
        "colab_type": "text"
      },
      "source": [
        "<a href=\"https://colab.research.google.com/github/NongNNew/Project_499/blob/main/Project_499_CNN.ipynb\" target=\"_parent\"><img src=\"https://colab.research.google.com/assets/colab-badge.svg\" alt=\"Open In Colab\"/></a>"
      ]
    },
    {
      "cell_type": "markdown",
      "metadata": {
        "id": "hW4AHGmEVrk8"
      },
      "source": [
        "# CNN"
      ],
      "id": "hW4AHGmEVrk8"
    },
    {
      "cell_type": "code",
      "metadata": {
        "colab": {
          "base_uri": "https://localhost:8080/"
        },
        "id": "gJVdtdww87RO",
        "outputId": "0edadbac-497a-47b7-a328-0b286ba04869"
      },
      "source": [
        "# Upload audio files from github\n",
        "!git clone https://github.com/NongNNew/Project_499.git"
      ],
      "id": "gJVdtdww87RO",
      "execution_count": 1,
      "outputs": [
        {
          "output_type": "stream",
          "text": [
            "Cloning into 'Project_499'...\n",
            "remote: Enumerating objects: 1429, done.\u001b[K\n",
            "remote: Counting objects: 100% (597/597), done.\u001b[K\n",
            "remote: Compressing objects: 100% (591/591), done.\u001b[K\n",
            "remote: Total 1429 (delta 59), reused 518 (delta 6), pack-reused 832\u001b[K\n",
            "Receiving objects: 100% (1429/1429), 232.87 MiB | 6.24 MiB/s, done.\n",
            "Resolving deltas: 100% (136/136), done.\n",
            "Checking out files: 100% (1122/1122), done.\n"
          ],
          "name": "stdout"
        }
      ]
    },
    {
      "cell_type": "code",
      "metadata": {
        "id": "EHnDUT5YejVV"
      },
      "source": [
        "# Name of vegetables and fruits 52 types of 56 classes\n",
        "fruit_veget = ['กระชาย','กระท้อน','กระเทียม1','กระเทียม2','กระเพรา','กล้วยน้ำว้า','กล้วยหอม',\n",
        "               'ข้าวโพด','ไข่น้ำ',\n",
        "               'ตะขบไทย','ตะไคร้',\n",
        "               'ถั่วฝักยาว','ถั่วลันเตา','ถั่วลิสง',\n",
        "               'ทับทิม',\n",
        "               'น้อยหน่า','น้ำเต้า',\n",
        "               'ผักกระเฉด','ผักกุยช่าย','ผักขึ้นช่าย','ผักชะอม','ผักชี','ผักชีฝรั่ง','ผักตำลึง',\n",
        "               'มะปราง','มะพลับ','มะละกอ','มะกรูด','มะเขือพวง','มะเขือเทศ','มะระ','มะรุม','มะตูม','มันแกว1','มันแกว2','มันเทศ','มันฝรั่ง','มันสำปะหลัง',\n",
        "               'บวบ','ใบชะพลู1','ใบชะพลู2','ใบบัวบก','ใบแมงลัก','ใบยอ',\n",
        "               'พริกขี้หนู','พริกสด','พุทรา','เพกา',\n",
        "               'ฝรั่ง',\n",
        "               'ฟัก','ฟักทอง',\n",
        "               'สับปะรด','สะเดา','สะระแหน่',\n",
        "               'หัวหอม1','หัวหอม2']\n",
        "\n",
        "# Audio data source\n",
        "source = {'audio_time':[],\n",
        "          'sampling_rate':[],\n",
        "          'feature_extraction':[],\n",
        "          'label':[],\n",
        "          'description':[]}"
      ],
      "id": "EHnDUT5YejVV",
      "execution_count": 2,
      "outputs": []
    },
    {
      "cell_type": "code",
      "metadata": {
        "colab": {
          "base_uri": "https://localhost:8080/"
        },
        "id": "_XRqKtGBeW_1",
        "outputId": "315b4243-c7a5-41ad-8e85-fc9334df7891"
      },
      "source": [
        "!pip install python_speech_features\n",
        "import python_speech_features\n",
        "from scipy.signal.windows import hamming\n",
        "\n",
        "def feature_mfcc(y,sr):\n",
        "    return (python_speech_features.mfcc(signal=y, \n",
        "                                    samplerate=sr, \n",
        "                                    winlen= 512/sr, \n",
        "                                    winstep= 160/sr,\n",
        "                                    numcep= 13,\n",
        "                                    nfilt= 40, \n",
        "                                    nfft= 512,\n",
        "                                    lowfreq= 0,\n",
        "                                    highfreq= None,\n",
        "                                    preemph= 0.97, \n",
        "                                    ceplifter= 0,\n",
        "                                    winfunc= hamming))"
      ],
      "id": "_XRqKtGBeW_1",
      "execution_count": 3,
      "outputs": [
        {
          "output_type": "stream",
          "text": [
            "Collecting python_speech_features\n",
            "  Downloading python_speech_features-0.6.tar.gz (5.6 kB)\n",
            "Building wheels for collected packages: python-speech-features\n",
            "  Building wheel for python-speech-features (setup.py) ... \u001b[?25l\u001b[?25hdone\n",
            "  Created wheel for python-speech-features: filename=python_speech_features-0.6-py3-none-any.whl size=5888 sha256=577ae560876c6625cff1dd8a78b5a554c40f07ec837141c89a9ba420850a6ba8\n",
            "  Stored in directory: /root/.cache/pip/wheels/b0/0e/94/28cd6afa3cd5998a63eef99fe31777acd7d758f59cf24839eb\n",
            "Successfully built python-speech-features\n",
            "Installing collected packages: python-speech-features\n",
            "Successfully installed python-speech-features-0.6\n"
          ],
          "name": "stdout"
        }
      ]
    },
    {
      "cell_type": "code",
      "metadata": {
        "id": "tixApnAUy5tv"
      },
      "source": [
        "import pandas as pd\n",
        "from glob import glob\n",
        "import librosa\n",
        "\n",
        "for types in fruit_veget:\n",
        "    audio_files = glob('/content/Project_499/Record_audio/' + str(types) + '/*.wav')\n",
        "\n",
        "    for audio in audio_files:\n",
        "        y,sr = librosa.load(audio,duration=5,offset=0)\n",
        "        source['description'].append(str(types))\n",
        "        source['audio_time'].append(y)\n",
        "        source['sampling_rate'].append(sr)\n",
        "        source['feature_extraction'].append(feature_mfcc(y,sr))\n",
        "        source['label'].append(fruit_veget.index(types))"
      ],
      "id": "tixApnAUy5tv",
      "execution_count": 4,
      "outputs": []
    },
    {
      "cell_type": "code",
      "metadata": {
        "colab": {
          "base_uri": "https://localhost:8080/",
          "height": 417
        },
        "id": "8B6cSV4Ckude",
        "outputId": "bc6db341-0270-4340-cfec-1b468662b88f"
      },
      "source": [
        "# tranform dictionary to dataframe \n",
        "df = pd.DataFrame.from_dict(source)\n",
        "df"
      ],
      "id": "8B6cSV4Ckude",
      "execution_count": 5,
      "outputs": [
        {
          "output_type": "execute_result",
          "data": {
            "text/html": [
              "<div>\n",
              "<style scoped>\n",
              "    .dataframe tbody tr th:only-of-type {\n",
              "        vertical-align: middle;\n",
              "    }\n",
              "\n",
              "    .dataframe tbody tr th {\n",
              "        vertical-align: top;\n",
              "    }\n",
              "\n",
              "    .dataframe thead th {\n",
              "        text-align: right;\n",
              "    }\n",
              "</style>\n",
              "<table border=\"1\" class=\"dataframe\">\n",
              "  <thead>\n",
              "    <tr style=\"text-align: right;\">\n",
              "      <th></th>\n",
              "      <th>audio_time</th>\n",
              "      <th>sampling_rate</th>\n",
              "      <th>feature_extraction</th>\n",
              "      <th>label</th>\n",
              "      <th>description</th>\n",
              "    </tr>\n",
              "  </thead>\n",
              "  <tbody>\n",
              "    <tr>\n",
              "      <th>0</th>\n",
              "      <td>[-0.0009765625, -0.001449585, -0.001373291, -0...</td>\n",
              "      <td>22050</td>\n",
              "      <td>[[-13.841251857084886, -10.542052145166839, 1....</td>\n",
              "      <td>0</td>\n",
              "      <td>กระชาย</td>\n",
              "    </tr>\n",
              "    <tr>\n",
              "      <th>1</th>\n",
              "      <td>[1.5258789e-05, -3.0517578e-05, 4.5776367e-05,...</td>\n",
              "      <td>22050</td>\n",
              "      <td>[[-13.895163210723114, -10.534242113550562, 0....</td>\n",
              "      <td>0</td>\n",
              "      <td>กระชาย</td>\n",
              "    </tr>\n",
              "    <tr>\n",
              "      <th>2</th>\n",
              "      <td>[1.5258789e-05, -3.0517578e-05, 6.1035156e-05,...</td>\n",
              "      <td>22050</td>\n",
              "      <td>[[-14.225420647550473, -11.767209141048717, 0....</td>\n",
              "      <td>0</td>\n",
              "      <td>กระชาย</td>\n",
              "    </tr>\n",
              "    <tr>\n",
              "      <th>3</th>\n",
              "      <td>[-1.5258789e-05, 1.5258789e-05, -1.5258789e-05...</td>\n",
              "      <td>22050</td>\n",
              "      <td>[[-13.834222688815137, -11.278032760622157, -1...</td>\n",
              "      <td>0</td>\n",
              "      <td>กระชาย</td>\n",
              "    </tr>\n",
              "    <tr>\n",
              "      <th>4</th>\n",
              "      <td>[-0.00024414062, -0.0002593994, -0.00022888184...</td>\n",
              "      <td>22050</td>\n",
              "      <td>[[-13.849791727695862, -11.588470019049367, -0...</td>\n",
              "      <td>0</td>\n",
              "      <td>กระชาย</td>\n",
              "    </tr>\n",
              "    <tr>\n",
              "      <th>...</th>\n",
              "      <td>...</td>\n",
              "      <td>...</td>\n",
              "      <td>...</td>\n",
              "      <td>...</td>\n",
              "      <td>...</td>\n",
              "    </tr>\n",
              "    <tr>\n",
              "      <th>1115</th>\n",
              "      <td>[-7.6293945e-05, -3.0517578e-05, 4.5776367e-05...</td>\n",
              "      <td>22050</td>\n",
              "      <td>[[-14.064456461828245, -10.13023715669734, 2.2...</td>\n",
              "      <td>55</td>\n",
              "      <td>หัวหอม2</td>\n",
              "    </tr>\n",
              "    <tr>\n",
              "      <th>1116</th>\n",
              "      <td>[-0.00018310547, -0.00019836426, -0.0002288818...</td>\n",
              "      <td>22050</td>\n",
              "      <td>[[-13.811710436355032, -12.034727613545233, 0....</td>\n",
              "      <td>55</td>\n",
              "      <td>หัวหอม2</td>\n",
              "    </tr>\n",
              "    <tr>\n",
              "      <th>1117</th>\n",
              "      <td>[0.0, -1.5258789e-05, 3.0517578e-05, -3.051757...</td>\n",
              "      <td>22050</td>\n",
              "      <td>[[-14.18512183869517, -10.797166196952473, 3.3...</td>\n",
              "      <td>55</td>\n",
              "      <td>หัวหอม2</td>\n",
              "    </tr>\n",
              "    <tr>\n",
              "      <th>1118</th>\n",
              "      <td>[-1.5258789e-05, -3.0517578e-05, -0.0001525878...</td>\n",
              "      <td>22050</td>\n",
              "      <td>[[-13.975110034884988, -11.68691907136182, -0....</td>\n",
              "      <td>55</td>\n",
              "      <td>หัวหอม2</td>\n",
              "    </tr>\n",
              "    <tr>\n",
              "      <th>1119</th>\n",
              "      <td>[-0.0001373291, -0.0001373291, -9.1552734e-05,...</td>\n",
              "      <td>22050</td>\n",
              "      <td>[[-13.96050509926212, -9.312697095263102, 1.11...</td>\n",
              "      <td>55</td>\n",
              "      <td>หัวหอม2</td>\n",
              "    </tr>\n",
              "  </tbody>\n",
              "</table>\n",
              "<p>1120 rows × 5 columns</p>\n",
              "</div>"
            ],
            "text/plain": [
              "                                             audio_time  ...  description\n",
              "0     [-0.0009765625, -0.001449585, -0.001373291, -0...  ...       กระชาย\n",
              "1     [1.5258789e-05, -3.0517578e-05, 4.5776367e-05,...  ...       กระชาย\n",
              "2     [1.5258789e-05, -3.0517578e-05, 6.1035156e-05,...  ...       กระชาย\n",
              "3     [-1.5258789e-05, 1.5258789e-05, -1.5258789e-05...  ...       กระชาย\n",
              "4     [-0.00024414062, -0.0002593994, -0.00022888184...  ...       กระชาย\n",
              "...                                                 ...  ...          ...\n",
              "1115  [-7.6293945e-05, -3.0517578e-05, 4.5776367e-05...  ...      หัวหอม2\n",
              "1116  [-0.00018310547, -0.00019836426, -0.0002288818...  ...      หัวหอม2\n",
              "1117  [0.0, -1.5258789e-05, 3.0517578e-05, -3.051757...  ...      หัวหอม2\n",
              "1118  [-1.5258789e-05, -3.0517578e-05, -0.0001525878...  ...      หัวหอม2\n",
              "1119  [-0.0001373291, -0.0001373291, -9.1552734e-05,...  ...      หัวหอม2\n",
              "\n",
              "[1120 rows x 5 columns]"
            ]
          },
          "metadata": {},
          "execution_count": 5
        }
      ]
    },
    {
      "cell_type": "code",
      "metadata": {
        "id": "T7yzW3hnmuyB"
      },
      "source": [
        "# Prepare data \n",
        "import numpy as np\n",
        "import pandas as pd\n",
        "\n",
        "\n",
        "Test = pd.DataFrame(columns=source.keys())\n",
        "Validation = pd.DataFrame(columns=source.keys())\n",
        "\n",
        "# Create test data\n",
        "for description in np.unique(df['description']):\n",
        "    imp_test = df[df['description']==description].sample(3,random_state=1)\n",
        "    Test = pd.concat([Test,imp_test], axis=0)\n",
        "\n",
        "# Create train and validation data\n",
        "Train = df.drop(Test.index)\n",
        "for description in np.unique(Train['description']):\n",
        "    imp_val = Train[Train['description']==description].sample(3,random_state=1)\n",
        "    Validation = pd.concat([Validation,imp_val], axis=0)\n",
        "Train = Train.drop(Validation.index)\n",
        "\n",
        "X_train = np.array(Train['feature_extraction'].to_list())\n",
        "X_valid = np.array(Validation['feature_extraction'].to_list())\n",
        "X_test = np.array(Test['feature_extraction'].to_list())\n",
        "y_train = np.array(Train['label'].to_list())\n",
        "y_valid = np.array(Validation['label'].to_list())\n",
        "y_test = np.array(Test['label'].to_list())"
      ],
      "id": "T7yzW3hnmuyB",
      "execution_count": 6,
      "outputs": []
    },
    {
      "cell_type": "code",
      "metadata": {
        "colab": {
          "base_uri": "https://localhost:8080/"
        },
        "id": "mSV3u9RmEU7h",
        "outputId": "e1d7eab7-9a14-4485-e367-194ced48aade"
      },
      "source": [
        "# Proportion of data\n",
        "y_train.shape, y_test.shape, y_valid.shape"
      ],
      "id": "mSV3u9RmEU7h",
      "execution_count": 7,
      "outputs": [
        {
          "output_type": "execute_result",
          "data": {
            "text/plain": [
              "((784,), (168,), (168,))"
            ]
          },
          "metadata": {},
          "execution_count": 7
        }
      ]
    },
    {
      "cell_type": "code",
      "metadata": {
        "id": "77wMVqve6W8f",
        "colab": {
          "base_uri": "https://localhost:8080/"
        },
        "outputId": "92cdd6b2-b394-4356-f7f2-827bf2f90b85"
      },
      "source": [
        "import tensorflow as tf\n",
        "from tensorflow import keras \n",
        "\n",
        "np.random.seed(1)\n",
        "tf.random.set_seed(1)\n",
        "\n",
        "# Create model\n",
        "# Convolutional Neural Networks\n",
        "model = keras.Sequential()\n",
        "model.add(keras.layers.Conv2D(128, 5, input_shape=(X_train.shape[1], X_train.shape[2], 1), activation='relu'))\n",
        "model.add(keras.layers.Dropout(0.25))\n",
        "model.add(keras.layers.MaxPool2D())\n",
        "model.add(keras.layers.Conv2D(64, 5, activation='relu',padding='same'))\n",
        "model.add(keras.layers.Dropout(0.25))\n",
        "model.add(keras.layers.MaxPool2D())\n",
        "model.add(keras.layers.Conv2D(128, 5, activation='relu',padding='same'))\n",
        "model.add(keras.layers.Dropout(0.25))\n",
        "model.add(keras.layers.MaxPool2D())\n",
        "model.add(keras.layers.Flatten())\n",
        "model.add(keras.layers.Dense(128, activation='relu'))\n",
        "model.add(keras.layers.Dropout(0.25))\n",
        "model.add(keras.layers.Dense(64, activation='relu'))\n",
        "model.add(keras.layers.Dropout(0.25))\n",
        "model.add(keras.layers.Dense(len(np.unique(df['label'])), activation='softmax'))\n",
        "model.compile(optimizer='adam', loss='sparse_categorical_crossentropy', metrics=['accuracy'])\n",
        "\n",
        "model.summary()"
      ],
      "id": "77wMVqve6W8f",
      "execution_count": 8,
      "outputs": [
        {
          "output_type": "stream",
          "text": [
            "Model: \"sequential\"\n",
            "_________________________________________________________________\n",
            "Layer (type)                 Output Shape              Param #   \n",
            "=================================================================\n",
            "conv2d (Conv2D)              (None, 683, 9, 128)       3328      \n",
            "_________________________________________________________________\n",
            "dropout (Dropout)            (None, 683, 9, 128)       0         \n",
            "_________________________________________________________________\n",
            "max_pooling2d (MaxPooling2D) (None, 341, 4, 128)       0         \n",
            "_________________________________________________________________\n",
            "conv2d_1 (Conv2D)            (None, 341, 4, 64)        204864    \n",
            "_________________________________________________________________\n",
            "dropout_1 (Dropout)          (None, 341, 4, 64)        0         \n",
            "_________________________________________________________________\n",
            "max_pooling2d_1 (MaxPooling2 (None, 170, 2, 64)        0         \n",
            "_________________________________________________________________\n",
            "conv2d_2 (Conv2D)            (None, 170, 2, 128)       204928    \n",
            "_________________________________________________________________\n",
            "dropout_2 (Dropout)          (None, 170, 2, 128)       0         \n",
            "_________________________________________________________________\n",
            "max_pooling2d_2 (MaxPooling2 (None, 85, 1, 128)        0         \n",
            "_________________________________________________________________\n",
            "flatten (Flatten)            (None, 10880)             0         \n",
            "_________________________________________________________________\n",
            "dense (Dense)                (None, 128)               1392768   \n",
            "_________________________________________________________________\n",
            "dropout_3 (Dropout)          (None, 128)               0         \n",
            "_________________________________________________________________\n",
            "dense_1 (Dense)              (None, 64)                8256      \n",
            "_________________________________________________________________\n",
            "dropout_4 (Dropout)          (None, 64)                0         \n",
            "_________________________________________________________________\n",
            "dense_2 (Dense)              (None, 56)                3640      \n",
            "=================================================================\n",
            "Total params: 1,817,784\n",
            "Trainable params: 1,817,784\n",
            "Non-trainable params: 0\n",
            "_________________________________________________________________\n"
          ],
          "name": "stdout"
        }
      ]
    },
    {
      "cell_type": "code",
      "metadata": {
        "id": "ngmfDNcnGMC7",
        "colab": {
          "base_uri": "https://localhost:8080/"
        },
        "outputId": "c53005eb-c10d-4fbb-c568-b9f2214965b5"
      },
      "source": [
        "# Train model\n",
        "history = model.fit(X_train[:,:,:,None], y_train, epochs=100, validation_data=(X_valid[:,:,:,None],y_valid),batch_size=80)"
      ],
      "id": "ngmfDNcnGMC7",
      "execution_count": 9,
      "outputs": [
        {
          "output_type": "stream",
          "text": [
            "Epoch 1/100\n",
            "10/10 [==============================] - 17s 110ms/step - loss: 4.1638 - accuracy: 0.0166 - val_loss: 4.0209 - val_accuracy: 0.0536\n",
            "Epoch 2/100\n",
            "10/10 [==============================] - 1s 55ms/step - loss: 4.0018 - accuracy: 0.0255 - val_loss: 3.9733 - val_accuracy: 0.0714\n",
            "Epoch 3/100\n",
            "10/10 [==============================] - 1s 55ms/step - loss: 3.8678 - accuracy: 0.0446 - val_loss: 3.7868 - val_accuracy: 0.1250\n",
            "Epoch 4/100\n",
            "10/10 [==============================] - 1s 55ms/step - loss: 3.6293 - accuracy: 0.0957 - val_loss: 3.4792 - val_accuracy: 0.2321\n",
            "Epoch 5/100\n",
            "10/10 [==============================] - 1s 56ms/step - loss: 3.2283 - accuracy: 0.1709 - val_loss: 3.1395 - val_accuracy: 0.3690\n",
            "Epoch 6/100\n",
            "10/10 [==============================] - 1s 56ms/step - loss: 2.9170 - accuracy: 0.2194 - val_loss: 2.8086 - val_accuracy: 0.4405\n",
            "Epoch 7/100\n",
            "10/10 [==============================] - 1s 56ms/step - loss: 2.5423 - accuracy: 0.2870 - val_loss: 2.3931 - val_accuracy: 0.5655\n",
            "Epoch 8/100\n",
            "10/10 [==============================] - 1s 56ms/step - loss: 2.3060 - accuracy: 0.3444 - val_loss: 2.3471 - val_accuracy: 0.6429\n",
            "Epoch 9/100\n",
            "10/10 [==============================] - 1s 55ms/step - loss: 2.0030 - accuracy: 0.4222 - val_loss: 1.8061 - val_accuracy: 0.7202\n",
            "Epoch 10/100\n",
            "10/10 [==============================] - 1s 55ms/step - loss: 1.8096 - accuracy: 0.4707 - val_loss: 1.8006 - val_accuracy: 0.6964\n",
            "Epoch 11/100\n",
            "10/10 [==============================] - 1s 56ms/step - loss: 1.6103 - accuracy: 0.5115 - val_loss: 1.5995 - val_accuracy: 0.7381\n",
            "Epoch 12/100\n",
            "10/10 [==============================] - 1s 56ms/step - loss: 1.4563 - accuracy: 0.5663 - val_loss: 1.3815 - val_accuracy: 0.7857\n",
            "Epoch 13/100\n",
            "10/10 [==============================] - 1s 56ms/step - loss: 1.2800 - accuracy: 0.6199 - val_loss: 1.2946 - val_accuracy: 0.7976\n",
            "Epoch 14/100\n",
            "10/10 [==============================] - 1s 55ms/step - loss: 1.1638 - accuracy: 0.6429 - val_loss: 1.1601 - val_accuracy: 0.8214\n",
            "Epoch 15/100\n",
            "10/10 [==============================] - 1s 55ms/step - loss: 1.0446 - accuracy: 0.6645 - val_loss: 1.0630 - val_accuracy: 0.8512\n",
            "Epoch 16/100\n",
            "10/10 [==============================] - 1s 56ms/step - loss: 1.0236 - accuracy: 0.7015 - val_loss: 0.9139 - val_accuracy: 0.8869\n",
            "Epoch 17/100\n",
            "10/10 [==============================] - 1s 55ms/step - loss: 0.9234 - accuracy: 0.7245 - val_loss: 0.9025 - val_accuracy: 0.8810\n",
            "Epoch 18/100\n",
            "10/10 [==============================] - 1s 56ms/step - loss: 0.9203 - accuracy: 0.7347 - val_loss: 0.8026 - val_accuracy: 0.8988\n",
            "Epoch 19/100\n",
            "10/10 [==============================] - 1s 56ms/step - loss: 0.8770 - accuracy: 0.7372 - val_loss: 0.8295 - val_accuracy: 0.8631\n",
            "Epoch 20/100\n",
            "10/10 [==============================] - 1s 55ms/step - loss: 0.7519 - accuracy: 0.7730 - val_loss: 0.7319 - val_accuracy: 0.8750\n",
            "Epoch 21/100\n",
            "10/10 [==============================] - 1s 55ms/step - loss: 0.7499 - accuracy: 0.7742 - val_loss: 0.7419 - val_accuracy: 0.8869\n",
            "Epoch 22/100\n",
            "10/10 [==============================] - 1s 55ms/step - loss: 0.7174 - accuracy: 0.7742 - val_loss: 0.6572 - val_accuracy: 0.8929\n",
            "Epoch 23/100\n",
            "10/10 [==============================] - 1s 55ms/step - loss: 0.6754 - accuracy: 0.7806 - val_loss: 0.6997 - val_accuracy: 0.9048\n",
            "Epoch 24/100\n",
            "10/10 [==============================] - 1s 56ms/step - loss: 0.6396 - accuracy: 0.8023 - val_loss: 0.6508 - val_accuracy: 0.8869\n",
            "Epoch 25/100\n",
            "10/10 [==============================] - 1s 55ms/step - loss: 0.6221 - accuracy: 0.8125 - val_loss: 0.5818 - val_accuracy: 0.9226\n",
            "Epoch 26/100\n",
            "10/10 [==============================] - 1s 56ms/step - loss: 0.5609 - accuracy: 0.8202 - val_loss: 0.5973 - val_accuracy: 0.8750\n",
            "Epoch 27/100\n",
            "10/10 [==============================] - 1s 56ms/step - loss: 0.5747 - accuracy: 0.8253 - val_loss: 0.6484 - val_accuracy: 0.8869\n",
            "Epoch 28/100\n",
            "10/10 [==============================] - 1s 55ms/step - loss: 0.4864 - accuracy: 0.8469 - val_loss: 0.5807 - val_accuracy: 0.8810\n",
            "Epoch 29/100\n",
            "10/10 [==============================] - 1s 55ms/step - loss: 0.4862 - accuracy: 0.8316 - val_loss: 0.5102 - val_accuracy: 0.9107\n",
            "Epoch 30/100\n",
            "10/10 [==============================] - 1s 55ms/step - loss: 0.5217 - accuracy: 0.8355 - val_loss: 0.4729 - val_accuracy: 0.9286\n",
            "Epoch 31/100\n",
            "10/10 [==============================] - 1s 56ms/step - loss: 0.4469 - accuracy: 0.8495 - val_loss: 0.4869 - val_accuracy: 0.9524\n",
            "Epoch 32/100\n",
            "10/10 [==============================] - 1s 55ms/step - loss: 0.4062 - accuracy: 0.8903 - val_loss: 0.4738 - val_accuracy: 0.9345\n",
            "Epoch 33/100\n",
            "10/10 [==============================] - 1s 55ms/step - loss: 0.4450 - accuracy: 0.8406 - val_loss: 0.4772 - val_accuracy: 0.9286\n",
            "Epoch 34/100\n",
            "10/10 [==============================] - 1s 56ms/step - loss: 0.4281 - accuracy: 0.8788 - val_loss: 0.5038 - val_accuracy: 0.9048\n",
            "Epoch 35/100\n",
            "10/10 [==============================] - 1s 55ms/step - loss: 0.3905 - accuracy: 0.8763 - val_loss: 0.4069 - val_accuracy: 0.9345\n",
            "Epoch 36/100\n",
            "10/10 [==============================] - 1s 55ms/step - loss: 0.3929 - accuracy: 0.8724 - val_loss: 0.4195 - val_accuracy: 0.9345\n",
            "Epoch 37/100\n",
            "10/10 [==============================] - 1s 55ms/step - loss: 0.3361 - accuracy: 0.8992 - val_loss: 0.4155 - val_accuracy: 0.9286\n",
            "Epoch 38/100\n",
            "10/10 [==============================] - 1s 55ms/step - loss: 0.3675 - accuracy: 0.8827 - val_loss: 0.4298 - val_accuracy: 0.9286\n",
            "Epoch 39/100\n",
            "10/10 [==============================] - 1s 55ms/step - loss: 0.3548 - accuracy: 0.8992 - val_loss: 0.3908 - val_accuracy: 0.9405\n",
            "Epoch 40/100\n",
            "10/10 [==============================] - 1s 55ms/step - loss: 0.3321 - accuracy: 0.8967 - val_loss: 0.4143 - val_accuracy: 0.9286\n",
            "Epoch 41/100\n",
            "10/10 [==============================] - 1s 55ms/step - loss: 0.3160 - accuracy: 0.9094 - val_loss: 0.3714 - val_accuracy: 0.9226\n",
            "Epoch 42/100\n",
            "10/10 [==============================] - 1s 59ms/step - loss: 0.2850 - accuracy: 0.9145 - val_loss: 0.4221 - val_accuracy: 0.9226\n",
            "Epoch 43/100\n",
            "10/10 [==============================] - 1s 62ms/step - loss: 0.2926 - accuracy: 0.9031 - val_loss: 0.4032 - val_accuracy: 0.9345\n",
            "Epoch 44/100\n",
            "10/10 [==============================] - 1s 58ms/step - loss: 0.3330 - accuracy: 0.8967 - val_loss: 0.4432 - val_accuracy: 0.9167\n",
            "Epoch 45/100\n",
            "10/10 [==============================] - 1s 59ms/step - loss: 0.3126 - accuracy: 0.9145 - val_loss: 0.3959 - val_accuracy: 0.9464\n",
            "Epoch 46/100\n",
            "10/10 [==============================] - 1s 55ms/step - loss: 0.3295 - accuracy: 0.8980 - val_loss: 0.4096 - val_accuracy: 0.9345\n",
            "Epoch 47/100\n",
            "10/10 [==============================] - 1s 55ms/step - loss: 0.2964 - accuracy: 0.9018 - val_loss: 0.4295 - val_accuracy: 0.9286\n",
            "Epoch 48/100\n",
            "10/10 [==============================] - 1s 55ms/step - loss: 0.2431 - accuracy: 0.9311 - val_loss: 0.3710 - val_accuracy: 0.9464\n",
            "Epoch 49/100\n",
            "10/10 [==============================] - 1s 55ms/step - loss: 0.2912 - accuracy: 0.9133 - val_loss: 0.3568 - val_accuracy: 0.9405\n",
            "Epoch 50/100\n",
            "10/10 [==============================] - 1s 55ms/step - loss: 0.2696 - accuracy: 0.9043 - val_loss: 0.3969 - val_accuracy: 0.9405\n",
            "Epoch 51/100\n",
            "10/10 [==============================] - 1s 55ms/step - loss: 0.2834 - accuracy: 0.9069 - val_loss: 0.3978 - val_accuracy: 0.9405\n",
            "Epoch 52/100\n",
            "10/10 [==============================] - 1s 55ms/step - loss: 0.2628 - accuracy: 0.9209 - val_loss: 0.3796 - val_accuracy: 0.9405\n",
            "Epoch 53/100\n",
            "10/10 [==============================] - 1s 55ms/step - loss: 0.2731 - accuracy: 0.9133 - val_loss: 0.3652 - val_accuracy: 0.9524\n",
            "Epoch 54/100\n",
            "10/10 [==============================] - 1s 56ms/step - loss: 0.2573 - accuracy: 0.9209 - val_loss: 0.3637 - val_accuracy: 0.9345\n",
            "Epoch 55/100\n",
            "10/10 [==============================] - 1s 56ms/step - loss: 0.2953 - accuracy: 0.8992 - val_loss: 0.3613 - val_accuracy: 0.9345\n",
            "Epoch 56/100\n",
            "10/10 [==============================] - 1s 56ms/step - loss: 0.2489 - accuracy: 0.9184 - val_loss: 0.3677 - val_accuracy: 0.9345\n",
            "Epoch 57/100\n",
            "10/10 [==============================] - 1s 55ms/step - loss: 0.2503 - accuracy: 0.9158 - val_loss: 0.3843 - val_accuracy: 0.9286\n",
            "Epoch 58/100\n",
            "10/10 [==============================] - 1s 56ms/step - loss: 0.2495 - accuracy: 0.9260 - val_loss: 0.4437 - val_accuracy: 0.9167\n",
            "Epoch 59/100\n",
            "10/10 [==============================] - 1s 56ms/step - loss: 0.3205 - accuracy: 0.8992 - val_loss: 0.3984 - val_accuracy: 0.9345\n",
            "Epoch 60/100\n",
            "10/10 [==============================] - 1s 56ms/step - loss: 0.2802 - accuracy: 0.9222 - val_loss: 0.3872 - val_accuracy: 0.9345\n",
            "Epoch 61/100\n",
            "10/10 [==============================] - 1s 56ms/step - loss: 0.2245 - accuracy: 0.9273 - val_loss: 0.3836 - val_accuracy: 0.9405\n",
            "Epoch 62/100\n",
            "10/10 [==============================] - 1s 55ms/step - loss: 0.2074 - accuracy: 0.9362 - val_loss: 0.3669 - val_accuracy: 0.9464\n",
            "Epoch 63/100\n",
            "10/10 [==============================] - 1s 55ms/step - loss: 0.2203 - accuracy: 0.9260 - val_loss: 0.3975 - val_accuracy: 0.9405\n",
            "Epoch 64/100\n",
            "10/10 [==============================] - 1s 55ms/step - loss: 0.2723 - accuracy: 0.9094 - val_loss: 0.4204 - val_accuracy: 0.9107\n",
            "Epoch 65/100\n",
            "10/10 [==============================] - 1s 56ms/step - loss: 0.2224 - accuracy: 0.9401 - val_loss: 0.3995 - val_accuracy: 0.9226\n",
            "Epoch 66/100\n",
            "10/10 [==============================] - 1s 55ms/step - loss: 0.2261 - accuracy: 0.9298 - val_loss: 0.3578 - val_accuracy: 0.9405\n",
            "Epoch 67/100\n",
            "10/10 [==============================] - 1s 55ms/step - loss: 0.1671 - accuracy: 0.9566 - val_loss: 0.3694 - val_accuracy: 0.9167\n",
            "Epoch 68/100\n",
            "10/10 [==============================] - 1s 55ms/step - loss: 0.2185 - accuracy: 0.9247 - val_loss: 0.3555 - val_accuracy: 0.9405\n",
            "Epoch 69/100\n",
            "10/10 [==============================] - 1s 56ms/step - loss: 0.2696 - accuracy: 0.9209 - val_loss: 0.4129 - val_accuracy: 0.9345\n",
            "Epoch 70/100\n",
            "10/10 [==============================] - 1s 55ms/step - loss: 0.2395 - accuracy: 0.9337 - val_loss: 0.4049 - val_accuracy: 0.9464\n",
            "Epoch 71/100\n",
            "10/10 [==============================] - 1s 55ms/step - loss: 0.1939 - accuracy: 0.9426 - val_loss: 0.3657 - val_accuracy: 0.9286\n",
            "Epoch 72/100\n",
            "10/10 [==============================] - 1s 55ms/step - loss: 0.1884 - accuracy: 0.9439 - val_loss: 0.3959 - val_accuracy: 0.9286\n",
            "Epoch 73/100\n",
            "10/10 [==============================] - 1s 56ms/step - loss: 0.1762 - accuracy: 0.9452 - val_loss: 0.3733 - val_accuracy: 0.9226\n",
            "Epoch 74/100\n",
            "10/10 [==============================] - 1s 55ms/step - loss: 0.2528 - accuracy: 0.9235 - val_loss: 0.4223 - val_accuracy: 0.9345\n",
            "Epoch 75/100\n",
            "10/10 [==============================] - 1s 55ms/step - loss: 0.2090 - accuracy: 0.9286 - val_loss: 0.4200 - val_accuracy: 0.9286\n",
            "Epoch 76/100\n",
            "10/10 [==============================] - 1s 56ms/step - loss: 0.1929 - accuracy: 0.9324 - val_loss: 0.4623 - val_accuracy: 0.9405\n",
            "Epoch 77/100\n",
            "10/10 [==============================] - 1s 56ms/step - loss: 0.2023 - accuracy: 0.9349 - val_loss: 0.3522 - val_accuracy: 0.9405\n",
            "Epoch 78/100\n",
            "10/10 [==============================] - 1s 55ms/step - loss: 0.1804 - accuracy: 0.9247 - val_loss: 0.3603 - val_accuracy: 0.9405\n",
            "Epoch 79/100\n",
            "10/10 [==============================] - 1s 55ms/step - loss: 0.1980 - accuracy: 0.9452 - val_loss: 0.3681 - val_accuracy: 0.9405\n",
            "Epoch 80/100\n",
            "10/10 [==============================] - 1s 55ms/step - loss: 0.2054 - accuracy: 0.9452 - val_loss: 0.3557 - val_accuracy: 0.9464\n",
            "Epoch 81/100\n",
            "10/10 [==============================] - 1s 55ms/step - loss: 0.1773 - accuracy: 0.9401 - val_loss: 0.3871 - val_accuracy: 0.9464\n",
            "Epoch 82/100\n",
            "10/10 [==============================] - 1s 55ms/step - loss: 0.2247 - accuracy: 0.9196 - val_loss: 0.3556 - val_accuracy: 0.9464\n",
            "Epoch 83/100\n",
            "10/10 [==============================] - 1s 55ms/step - loss: 0.1859 - accuracy: 0.9439 - val_loss: 0.3566 - val_accuracy: 0.9524\n",
            "Epoch 84/100\n",
            "10/10 [==============================] - 1s 55ms/step - loss: 0.1608 - accuracy: 0.9515 - val_loss: 0.3717 - val_accuracy: 0.9405\n",
            "Epoch 85/100\n",
            "10/10 [==============================] - 1s 56ms/step - loss: 0.1573 - accuracy: 0.9541 - val_loss: 0.4152 - val_accuracy: 0.9345\n",
            "Epoch 86/100\n",
            "10/10 [==============================] - 1s 56ms/step - loss: 0.1746 - accuracy: 0.9503 - val_loss: 0.3740 - val_accuracy: 0.9405\n",
            "Epoch 87/100\n",
            "10/10 [==============================] - 1s 55ms/step - loss: 0.2035 - accuracy: 0.9311 - val_loss: 0.3773 - val_accuracy: 0.9345\n",
            "Epoch 88/100\n",
            "10/10 [==============================] - 1s 55ms/step - loss: 0.1985 - accuracy: 0.9401 - val_loss: 0.4059 - val_accuracy: 0.9405\n",
            "Epoch 89/100\n",
            "10/10 [==============================] - 1s 55ms/step - loss: 0.1529 - accuracy: 0.9503 - val_loss: 0.4419 - val_accuracy: 0.9226\n",
            "Epoch 90/100\n",
            "10/10 [==============================] - 1s 55ms/step - loss: 0.1733 - accuracy: 0.9452 - val_loss: 0.4286 - val_accuracy: 0.9167\n",
            "Epoch 91/100\n",
            "10/10 [==============================] - 1s 56ms/step - loss: 0.1797 - accuracy: 0.9375 - val_loss: 0.4449 - val_accuracy: 0.9286\n",
            "Epoch 92/100\n",
            "10/10 [==============================] - 1s 55ms/step - loss: 0.2030 - accuracy: 0.9426 - val_loss: 0.3978 - val_accuracy: 0.9286\n",
            "Epoch 93/100\n",
            "10/10 [==============================] - 1s 56ms/step - loss: 0.1661 - accuracy: 0.9515 - val_loss: 0.3902 - val_accuracy: 0.9345\n",
            "Epoch 94/100\n",
            "10/10 [==============================] - 1s 55ms/step - loss: 0.1560 - accuracy: 0.9477 - val_loss: 0.3702 - val_accuracy: 0.9286\n",
            "Epoch 95/100\n",
            "10/10 [==============================] - 1s 56ms/step - loss: 0.1880 - accuracy: 0.9413 - val_loss: 0.3948 - val_accuracy: 0.9286\n",
            "Epoch 96/100\n",
            "10/10 [==============================] - 1s 56ms/step - loss: 0.1674 - accuracy: 0.9503 - val_loss: 0.4236 - val_accuracy: 0.9226\n",
            "Epoch 97/100\n",
            "10/10 [==============================] - 1s 55ms/step - loss: 0.1381 - accuracy: 0.9528 - val_loss: 0.3607 - val_accuracy: 0.9286\n",
            "Epoch 98/100\n",
            "10/10 [==============================] - 1s 55ms/step - loss: 0.1532 - accuracy: 0.9490 - val_loss: 0.4126 - val_accuracy: 0.9167\n",
            "Epoch 99/100\n",
            "10/10 [==============================] - 1s 56ms/step - loss: 0.2151 - accuracy: 0.9375 - val_loss: 0.3881 - val_accuracy: 0.9048\n",
            "Epoch 100/100\n",
            "10/10 [==============================] - 1s 55ms/step - loss: 0.1796 - accuracy: 0.9413 - val_loss: 0.3991 - val_accuracy: 0.9048\n"
          ],
          "name": "stdout"
        }
      ]
    },
    {
      "cell_type": "code",
      "metadata": {
        "colab": {
          "base_uri": "https://localhost:8080/"
        },
        "id": "ZQ4n8wAmB9ZX",
        "outputId": "a3314f2f-bac4-4778-b27a-c28643717278"
      },
      "source": [
        "# Evaluate model\n",
        "print(f'Train Accuracy: { model.evaluate(X_train[:,:,:,None],y_train)[1]}')\n",
        "print(f'Test Accuracy: {model.evaluate(X_test[:,:,:,None],y_test)[1]}')"
      ],
      "id": "ZQ4n8wAmB9ZX",
      "execution_count": 10,
      "outputs": [
        {
          "output_type": "stream",
          "text": [
            "25/25 [==============================] - 0s 10ms/step - loss: 0.0229 - accuracy: 1.0000\n",
            "Train Accuracy: 1.0\n",
            "6/6 [==============================] - 0s 7ms/step - loss: 0.1924 - accuracy: 0.9643\n",
            "Test Accuracy: 0.9642857313156128\n"
          ],
          "name": "stdout"
        }
      ]
    },
    {
      "cell_type": "code",
      "metadata": {
        "id": "F62fEQaGFMqs",
        "colab": {
          "base_uri": "https://localhost:8080/",
          "height": 368
        },
        "outputId": "35a10188-99ca-4501-df6c-5c5ff4a60efd"
      },
      "source": [
        "import matplotlib.pyplot as plt\n",
        "\n",
        "# Learning curve\n",
        "# plot the accuracy and loss plots between training and validation data\n",
        "# verify overfitting or underfit \n",
        "acc = history.history['accuracy']\n",
        "val_acc = history.history['val_accuracy']\n",
        "loss = history.history['loss']\n",
        "val_loss = history.history['val_loss']\n",
        "x = range(1,len(acc)+1)\n",
        "\n",
        "plt.figure(figsize=(12,5))\n",
        "plt.subplot(1,2,1)\n",
        "plt.plot(x,acc,'b',label='Training acc')\n",
        "plt.plot(x,val_acc,'r',label='Validation acc')\n",
        "plt.title('Training and validation accuracy')\n",
        "plt.xlabel('epochs')\n",
        "plt.ylabel('accuracy')\n",
        "plt.legend()\n",
        "\n",
        "plt.subplot(1,2,2)\n",
        "plt.plot(x,loss,'b',label='Training loss')\n",
        "plt.plot(x,val_loss,'r',label='Validation loss')\n",
        "plt.title('Training and validation loss')\n",
        "plt.xlabel('epochs')\n",
        "plt.ylabel('loss')\n",
        "plt.legend()"
      ],
      "id": "F62fEQaGFMqs",
      "execution_count": 11,
      "outputs": [
        {
          "output_type": "execute_result",
          "data": {
            "text/plain": [
              "<matplotlib.legend.Legend at 0x7f9e8023ed90>"
            ]
          },
          "metadata": {},
          "execution_count": 11
        },
        {
          "output_type": "display_data",
          "data": {
            "image/png": "[encoded data removed]",
            "text/plain": [
              "<Figure size 864x360 with 2 Axes>"
            ]
          },
          "metadata": {
            "needs_background": "light"
          }
        }
      ]
    },
    {
      "cell_type": "code",
      "metadata": {
        "id": "wFbKdWsMkDuw",
        "colab": {
          "base_uri": "https://localhost:8080/"
        },
        "outputId": "595d7901-1853-4c45-9826-f85ccf5931c4"
      },
      "source": [
        "from sklearn.metrics import classification_report\n",
        "\n",
        "# classification report\n",
        "predicted_classes = np.argmax(np.round(model.predict(X_test[:,:,:,None])),axis=1)\n",
        "correct = np.where(predicted_classes==y_test)[0]\n",
        "target_names = [f\"Class {label}\" for label in range(len(np.unique(df['label'])))]\n",
        "\n",
        "print(f\"From {len(y_test)} labels're founding {len(correct)} correct labels.\")\n",
        "print('')\n",
        "print(classification_report(y_test, predicted_classes, target_names=target_names))"
      ],
      "id": "wFbKdWsMkDuw",
      "execution_count": 12,
      "outputs": [
        {
          "output_type": "stream",
          "text": [
            "From 168 labels're founding 155 correct labels.\n",
            "\n",
            "              precision    recall  f1-score   support\n",
            "\n",
            "     Class 0       0.23      1.00      0.38         3\n",
            "     Class 1       1.00      1.00      1.00         3\n",
            "     Class 2       1.00      1.00      1.00         3\n",
            "     Class 3       1.00      0.67      0.80         3\n",
            "     Class 4       1.00      1.00      1.00         3\n",
            "     Class 5       1.00      1.00      1.00         3\n",
            "     Class 6       1.00      1.00      1.00         3\n",
            "     Class 7       1.00      0.67      0.80         3\n",
            "     Class 8       1.00      1.00      1.00         3\n",
            "     Class 9       1.00      1.00      1.00         3\n",
            "    Class 10       1.00      1.00      1.00         3\n",
            "    Class 11       0.75      1.00      0.86         3\n",
            "    Class 12       1.00      1.00      1.00         3\n",
            "    Class 13       1.00      1.00      1.00         3\n",
            "    Class 14       1.00      1.00      1.00         3\n",
            "    Class 15       1.00      1.00      1.00         3\n",
            "    Class 16       1.00      0.67      0.80         3\n",
            "    Class 17       1.00      1.00      1.00         3\n",
            "    Class 18       1.00      0.67      0.80         3\n",
            "    Class 19       1.00      1.00      1.00         3\n",
            "    Class 20       1.00      1.00      1.00         3\n",
            "    Class 21       1.00      0.67      0.80         3\n",
            "    Class 22       0.75      1.00      0.86         3\n",
            "    Class 23       1.00      0.67      0.80         3\n",
            "    Class 24       1.00      1.00      1.00         3\n",
            "    Class 25       1.00      1.00      1.00         3\n",
            "    Class 26       1.00      1.00      1.00         3\n",
            "    Class 27       1.00      1.00      1.00         3\n",
            "    Class 28       1.00      0.67      0.80         3\n",
            "    Class 29       1.00      1.00      1.00         3\n",
            "    Class 30       1.00      0.67      0.80         3\n",
            "    Class 31       1.00      1.00      1.00         3\n",
            "    Class 32       1.00      1.00      1.00         3\n",
            "    Class 33       1.00      1.00      1.00         3\n",
            "    Class 34       1.00      1.00      1.00         3\n",
            "    Class 35       1.00      1.00      1.00         3\n",
            "    Class 36       1.00      1.00      1.00         3\n",
            "    Class 37       1.00      1.00      1.00         3\n",
            "    Class 38       1.00      0.67      0.80         3\n",
            "    Class 39       0.75      1.00      0.86         3\n",
            "    Class 40       1.00      1.00      1.00         3\n",
            "    Class 41       1.00      1.00      1.00         3\n",
            "    Class 42       1.00      1.00      1.00         3\n",
            "    Class 43       1.00      1.00      1.00         3\n",
            "    Class 44       1.00      1.00      1.00         3\n",
            "    Class 45       1.00      1.00      1.00         3\n",
            "    Class 46       1.00      0.67      0.80         3\n",
            "    Class 47       1.00      1.00      1.00         3\n",
            "    Class 48       1.00      1.00      1.00         3\n",
            "    Class 49       1.00      0.67      0.80         3\n",
            "    Class 50       1.00      1.00      1.00         3\n",
            "    Class 51       1.00      1.00      1.00         3\n",
            "    Class 52       1.00      1.00      1.00         3\n",
            "    Class 53       1.00      1.00      1.00         3\n",
            "    Class 54       1.00      1.00      1.00         3\n",
            "    Class 55       1.00      0.33      0.50         3\n",
            "\n",
            "    accuracy                           0.92       168\n",
            "   macro avg       0.97      0.92      0.93       168\n",
            "weighted avg       0.97      0.92      0.93       168\n",
            "\n"
          ],
          "name": "stdout"
        }
      ]
    },
    {
      "cell_type": "markdown",
      "metadata": {
        "id": "PYlDDwpEEquB"
      },
      "source": [
        "### **Using stratified K Fold to split data**\n",
        "\n",
        "> ทำเผื่อไว้ก่อน\n",
        "\n"
      ],
      "id": "PYlDDwpEEquB"
    },
    {
      "cell_type": "code",
      "metadata": {
        "id": "2aNoIX02FSsa"
      },
      "source": [
        "import tensorflow as tf\n",
        "from tensorflow import keras \n",
        "\n",
        "np.random.seed(1)\n",
        "tf.random.set_seed(1)\n",
        "\n",
        "# Create model\n",
        "# Convolutional Neural Networks\n",
        "def create_model():\n",
        "    model = keras.Sequential()\n",
        "    model.add(keras.layers.Conv2D(128, 5, input_shape=(X_train.shape[1], X_train.shape[2], 1), activation='relu'))\n",
        "    model.add(keras.layers.Dropout(0.25))\n",
        "    model.add(keras.layers.MaxPool2D())\n",
        "    model.add(keras.layers.Conv2D(64, 5, activation='relu',padding='same'))\n",
        "    model.add(keras.layers.Dropout(0.25))\n",
        "    model.add(keras.layers.MaxPool2D())\n",
        "    model.add(keras.layers.Conv2D(128, 5, activation='relu',padding='same'))\n",
        "    model.add(keras.layers.Dropout(0.25))\n",
        "    model.add(keras.layers.MaxPool2D())\n",
        "    model.add(keras.layers.Flatten())\n",
        "    model.add(keras.layers.Dense(128, activation='relu'))\n",
        "    model.add(keras.layers.Dropout(0.25))\n",
        "    model.add(keras.layers.Dense(64, activation='relu'))\n",
        "    model.add(keras.layers.Dropout(0.25))\n",
        "    model.add(keras.layers.Dense(len(np.unique(df['label'])), activation='softmax'))\n",
        "    model.compile(optimizer='adam', loss='sparse_categorical_crossentropy', metrics=['accuracy'])\n",
        "\n",
        "    return model"
      ],
      "id": "2aNoIX02FSsa",
      "execution_count": 13,
      "outputs": []
    },
    {
      "cell_type": "code",
      "metadata": {
        "colab": {
          "base_uri": "https://localhost:8080/"
        },
        "id": "I-U3ZRFq-itG",
        "outputId": "540299cf-4d6a-4a0b-d325-c73443c6cb0a"
      },
      "source": [
        "from sklearn.model_selection import StratifiedKFold\n",
        "import numpy as np\n",
        "\n",
        "accuracy = []\n",
        "X = np.array(df['feature_extraction'].to_list())\n",
        "y = np.array(df['label'].to_list())\n",
        "\n",
        "skf = StratifiedKFold(n_splits=10, random_state=1)\n",
        "skf.get_n_splits(X,y)"
      ],
      "id": "I-U3ZRFq-itG",
      "execution_count": 14,
      "outputs": [
        {
          "output_type": "stream",
          "text": [
            "/usr/local/lib/python3.7/dist-packages/sklearn/model_selection/_split.py:296: FutureWarning: Setting a random_state has no effect since shuffle is False. This will raise an error in 0.24. You should leave random_state to its default (None), or set shuffle=True.\n",
            "  FutureWarning\n"
          ],
          "name": "stderr"
        },
        {
          "output_type": "execute_result",
          "data": {
            "text/plain": [
              "10"
            ]
          },
          "metadata": {},
          "execution_count": 14
        }
      ]
    },
    {
      "cell_type": "code",
      "metadata": {
        "colab": {
          "base_uri": "https://localhost:8080/"
        },
        "id": "ejFPn-Jx_npb",
        "outputId": "cf12c2b6-5cc9-4dca-840d-b36cfcbfc592"
      },
      "source": [
        "from sklearn.metrics import accuracy_score\n",
        "\n",
        "for index,(train_index, test_index) in enumerate(skf.split(X,y)):\n",
        "\n",
        "    print(\"Training on fold \" + str(index+1) + \"/10...\")\n",
        "\n",
        "    X_train = X[train_index]\n",
        "    X_test = X[test_index]\n",
        "    y_train = y[train_index]\n",
        "    y_test = y[test_index]\n",
        "\n",
        "    model = None\n",
        "    model = create_model()\n",
        "\n",
        "    history = model.fit(X_train[:,:,:,None],y_train,epochs=100,batch_size=80,validation_data=(X_test[:,:,:,None],y_test),verbose=0)\n",
        "    # acc_hist = history.history['accuracy']\n",
        "    # val_acc_hist = history.history['val_accuracy']\n",
        "    \n",
        "    predicted_classes = np.argmax(np.round(model.predict(X_test[:,:,:,None])),axis=1)\n",
        "    correct = np.where(predicted_classes==y_test)[0]\n",
        "\n",
        "    # print(\"Last training accuracy: \" + str(acc_hist[-1]) + \", last validation accuracy: \" + str(val_acc_hist[-1]))\n",
        "    accuracy.append(len(correct)/len(y_test))"
      ],
      "id": "ejFPn-Jx_npb",
      "execution_count": 15,
      "outputs": [
        {
          "output_type": "stream",
          "text": [
            "Training on fold 1/10...\n",
            "Training on fold 2/10...\n",
            "Training on fold 3/10...\n",
            "Training on fold 4/10...\n",
            "Training on fold 5/10...\n",
            "Training on fold 6/10...\n",
            "Training on fold 7/10...\n",
            "Training on fold 8/10...\n",
            "Training on fold 9/10...\n",
            "Training on fold 10/10...\n"
          ],
          "name": "stdout"
        }
      ]
    },
    {
      "cell_type": "code",
      "metadata": {
        "colab": {
          "base_uri": "https://localhost:8080/"
        },
        "id": "uiGL2A28EeyZ",
        "outputId": "f04bd38c-6517-4ec9-8f0d-7311712d1b54"
      },
      "source": [
        "from scipy import stats\n",
        "stats.describe(accuracy)"
      ],
      "id": "uiGL2A28EeyZ",
      "execution_count": 16,
      "outputs": [
        {
          "output_type": "execute_result",
          "data": {
            "text/plain": [
              "DescribeResult(nobs=10, minmax=(0.9107142857142857, 0.9642857142857143), mean=0.9464285714285714, variance=0.0003720238095238097, skewness=-0.557657184542012, kurtosis=-0.9931972789115693)"
            ]
          },
          "metadata": {},
          "execution_count": 16
        }
      ]
    }
  ]
}