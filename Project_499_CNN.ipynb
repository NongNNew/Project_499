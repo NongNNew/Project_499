{
  "nbformat": 4,
  "nbformat_minor": 5,
  "metadata": {
    "colab": {
      "name": "Project_499_CNN.ipynb",
      "provenance": [],
      "collapsed_sections": [],
      "machine_shape": "hm",
      "include_colab_link": true
    },
    "kernelspec": {
      "display_name": "Python 3",
      "language": "python",
      "name": "python3"
    },
    "language_info": {
      "codemirror_mode": {
        "name": "ipython",
        "version": 3
      },
      "file_extension": ".py",
      "mimetype": "text/x-python",
      "name": "python",
      "nbconvert_exporter": "python",
      "pygments_lexer": "ipython3",
      "version": "3.8.8"
    },
    "accelerator": "GPU"
  },
  "cells": [
    {
      "cell_type": "markdown",
      "metadata": {
        "id": "view-in-github",
        "colab_type": "text"
      },
      "source": [
        "<a href=\"https://colab.research.google.com/github/NongNNew/Project_499/blob/main/Project_499_CNN.ipynb\" target=\"_parent\"><img src=\"https://colab.research.google.com/assets/colab-badge.svg\" alt=\"Open In Colab\"/></a>"
      ]
    },
    {
      "cell_type": "markdown",
      "metadata": {
        "id": "hW4AHGmEVrk8"
      },
      "source": [
        "# CNN"
      ],
      "id": "hW4AHGmEVrk8"
    },
    {
      "cell_type": "code",
      "metadata": {
        "colab": {
          "base_uri": "https://localhost:8080/"
        },
        "id": "gJVdtdww87RO",
        "outputId": "f9e0848c-3404-4369-fe2b-62e491d6f283"
      },
      "source": [
        "# Upload audio files from github\n",
        "!git clone https://github.com/NongNNew/Project_499.git"
      ],
      "id": "gJVdtdww87RO",
      "execution_count": 1,
      "outputs": [
        {
          "output_type": "stream",
          "text": [
            "Cloning into 'Project_499'...\n",
            "remote: Enumerating objects: 1420, done.\u001b[K\n",
            "remote: Counting objects: 100% (588/588), done.\u001b[K\n",
            "remote: Compressing objects: 100% (582/582), done.\u001b[K\n",
            "remote: Total 1420 (delta 55), reused 518 (delta 6), pack-reused 832\u001b[K\n",
            "Receiving objects: 100% (1420/1420), 232.80 MiB | 29.28 MiB/s, done.\n",
            "Resolving deltas: 100% (132/132), done.\n",
            "Checking out files: 100% (1122/1122), done.\n"
          ],
          "name": "stdout"
        }
      ]
    },
    {
      "cell_type": "code",
      "metadata": {
        "id": "EHnDUT5YejVV"
      },
      "source": [
        "# Name of vegetables and fruits 52 types of 56 classes\n",
        "fruit_veget = ['กระชาย','กระท้อน','กระเทียม1','กระเทียม2','กระเพรา','กล้วยน้ำว้า','กล้วยหอม',\n",
        "               'ข้าวโพด','ไข่น้ำ',\n",
        "               'ตะขบไทย','ตะไคร้',\n",
        "               'ถั่วฝักยาว','ถั่วลันเตา','ถั่วลิสง',\n",
        "               'ทับทิม',\n",
        "               'น้อยหน่า','น้ำเต้า',\n",
        "               'ผักกระเฉด','ผักกุยช่าย','ผักขึ้นช่าย','ผักชะอม','ผักชี','ผักชีฝรั่ง','ผักตำลึง',\n",
        "               'มะปราง','มะพลับ','มะละกอ','มะกรูด','มะเขือพวง','มะเขือเทศ','มะระ','มะรุม','มะตูม','มันแกว1','มันแกว2','มันเทศ','มันฝรั่ง','มันสำปะหลัง',\n",
        "               'บวบ','ใบชะพลู1','ใบชะพลู2','ใบบัวบก','ใบแมงลัก','ใบยอ',\n",
        "               'พริกขี้หนู','พริกสด','พุทรา','เพกา',\n",
        "               'ฝรั่ง',\n",
        "               'ฟัก','ฟักทอง',\n",
        "               'สับปะรด','สะเดา','สะระแหน่',\n",
        "               'หัวหอม1','หัวหอม2']\n",
        "\n",
        "# Audio data source\n",
        "source = {'audio_time':[],\n",
        "          'sampling_rate':[],\n",
        "          'feature_extraction':[],\n",
        "          'label':[],\n",
        "          'description':[]}"
      ],
      "id": "EHnDUT5YejVV",
      "execution_count": 2,
      "outputs": []
    },
    {
      "cell_type": "code",
      "metadata": {
        "colab": {
          "base_uri": "https://localhost:8080/"
        },
        "id": "_XRqKtGBeW_1",
        "outputId": "e3d450ac-f6be-4c5b-b7e4-3079ce306c48"
      },
      "source": [
        "!pip install python_speech_features\n",
        "import python_speech_features\n",
        "from scipy.signal.windows import hamming\n",
        "\n",
        "def feature_mfcc(y,sr):\n",
        "    return (python_speech_features.mfcc(signal=y, \n",
        "                                    samplerate=sr, \n",
        "                                    winlen= 512/sr, \n",
        "                                    winstep= 160/sr,\n",
        "                                    numcep= 13,\n",
        "                                    nfilt= 40, \n",
        "                                    nfft= 512,\n",
        "                                    lowfreq= 0,\n",
        "                                    highfreq= None,\n",
        "                                    preemph= 0.97, \n",
        "                                    ceplifter= 0,\n",
        "                                    winfunc= hamming))"
      ],
      "id": "_XRqKtGBeW_1",
      "execution_count": 3,
      "outputs": [
        {
          "output_type": "stream",
          "text": [
            "Collecting python_speech_features\n",
            "  Downloading python_speech_features-0.6.tar.gz (5.6 kB)\n",
            "Building wheels for collected packages: python-speech-features\n",
            "  Building wheel for python-speech-features (setup.py) ... \u001b[?25l\u001b[?25hdone\n",
            "  Created wheel for python-speech-features: filename=python_speech_features-0.6-py3-none-any.whl size=5888 sha256=02d5b1ae3b74b8fba7e7031a3019c8fdce77af3fee37aefc69f581fc8377f5b3\n",
            "  Stored in directory: /root/.cache/pip/wheels/b0/0e/94/28cd6afa3cd5998a63eef99fe31777acd7d758f59cf24839eb\n",
            "Successfully built python-speech-features\n",
            "Installing collected packages: python-speech-features\n",
            "Successfully installed python-speech-features-0.6\n"
          ],
          "name": "stdout"
        }
      ]
    },
    {
      "cell_type": "code",
      "metadata": {
        "id": "tixApnAUy5tv"
      },
      "source": [
        "import pandas as pd\n",
        "from glob import glob\n",
        "import librosa\n",
        "\n",
        "for types in fruit_veget:\n",
        "    audio_files = glob('/content/Project_499/Record_audio/' + str(types) + '/*.wav')\n",
        "\n",
        "    for audio in audio_files:\n",
        "        y,sr = librosa.load(audio,duration=5,offset=0)\n",
        "        source['description'].append(str(types))\n",
        "        source['audio_time'].append(y)\n",
        "        source['sampling_rate'].append(sr)\n",
        "        source['feature_extraction'].append(feature_mfcc(y,sr))\n",
        "        source['label'].append(fruit_veget.index(types))"
      ],
      "id": "tixApnAUy5tv",
      "execution_count": 4,
      "outputs": []
    },
    {
      "cell_type": "code",
      "metadata": {
        "colab": {
          "base_uri": "https://localhost:8080/",
          "height": 417
        },
        "id": "8B6cSV4Ckude",
        "outputId": "75c8efc0-0efe-4e40-b5e4-6addfa04ae66"
      },
      "source": [
        "# tranform dictionary to dataframe \n",
        "df = pd.DataFrame.from_dict(source)\n",
        "df"
      ],
      "id": "8B6cSV4Ckude",
      "execution_count": 5,
      "outputs": [
        {
          "output_type": "execute_result",
          "data": {
            "text/html": [
              "<div>\n",
              "<style scoped>\n",
              "    .dataframe tbody tr th:only-of-type {\n",
              "        vertical-align: middle;\n",
              "    }\n",
              "\n",
              "    .dataframe tbody tr th {\n",
              "        vertical-align: top;\n",
              "    }\n",
              "\n",
              "    .dataframe thead th {\n",
              "        text-align: right;\n",
              "    }\n",
              "</style>\n",
              "<table border=\"1\" class=\"dataframe\">\n",
              "  <thead>\n",
              "    <tr style=\"text-align: right;\">\n",
              "      <th></th>\n",
              "      <th>audio_time</th>\n",
              "      <th>sampling_rate</th>\n",
              "      <th>feature_extraction</th>\n",
              "      <th>label</th>\n",
              "      <th>description</th>\n",
              "    </tr>\n",
              "  </thead>\n",
              "  <tbody>\n",
              "    <tr>\n",
              "      <th>0</th>\n",
              "      <td>[0.0004119873, 0.00061035156, 0.0005340576, 0....</td>\n",
              "      <td>22050</td>\n",
              "      <td>[[-14.031458292064183, -9.71991818216831, 3.08...</td>\n",
              "      <td>0</td>\n",
              "      <td>กระชาย</td>\n",
              "    </tr>\n",
              "    <tr>\n",
              "      <th>1</th>\n",
              "      <td>[1.5258789e-05, -3.0517578e-05, 4.5776367e-05,...</td>\n",
              "      <td>22050</td>\n",
              "      <td>[[-13.895163210723114, -10.534242113550562, 0....</td>\n",
              "      <td>0</td>\n",
              "      <td>กระชาย</td>\n",
              "    </tr>\n",
              "    <tr>\n",
              "      <th>2</th>\n",
              "      <td>[-0.00010681152, -0.00010681152, -0.0001525878...</td>\n",
              "      <td>22050</td>\n",
              "      <td>[[-14.047682378884087, -10.559749338871004, 1....</td>\n",
              "      <td>0</td>\n",
              "      <td>กระชาย</td>\n",
              "    </tr>\n",
              "    <tr>\n",
              "      <th>3</th>\n",
              "      <td>[-0.00012207031, -0.00018310547, -6.1035156e-0...</td>\n",
              "      <td>22050</td>\n",
              "      <td>[[-13.937838344743476, -10.52677763983171, 0.7...</td>\n",
              "      <td>0</td>\n",
              "      <td>กระชาย</td>\n",
              "    </tr>\n",
              "    <tr>\n",
              "      <th>4</th>\n",
              "      <td>[-1.5258789e-05, 1.5258789e-05, -1.5258789e-05...</td>\n",
              "      <td>22050</td>\n",
              "      <td>[[-13.834222688815137, -11.278032760622157, -1...</td>\n",
              "      <td>0</td>\n",
              "      <td>กระชาย</td>\n",
              "    </tr>\n",
              "    <tr>\n",
              "      <th>...</th>\n",
              "      <td>...</td>\n",
              "      <td>...</td>\n",
              "      <td>...</td>\n",
              "      <td>...</td>\n",
              "      <td>...</td>\n",
              "    </tr>\n",
              "    <tr>\n",
              "      <th>1115</th>\n",
              "      <td>[-0.00021362305, -0.00019836426, -0.0001678466...</td>\n",
              "      <td>22050</td>\n",
              "      <td>[[-13.600642153773194, -15.096089567076714, -0...</td>\n",
              "      <td>55</td>\n",
              "      <td>หัวหอม2</td>\n",
              "    </tr>\n",
              "    <tr>\n",
              "      <th>1116</th>\n",
              "      <td>[-7.6293945e-05, -9.1552734e-05, 0.0, 1.525878...</td>\n",
              "      <td>22050</td>\n",
              "      <td>[[-13.93405270581039, -11.744337964457122, 1.2...</td>\n",
              "      <td>55</td>\n",
              "      <td>หัวหอม2</td>\n",
              "    </tr>\n",
              "    <tr>\n",
              "      <th>1117</th>\n",
              "      <td>[-7.6293945e-05, -3.0517578e-05, 4.5776367e-05...</td>\n",
              "      <td>22050</td>\n",
              "      <td>[[-14.064456461828245, -10.13023715669734, 2.2...</td>\n",
              "      <td>55</td>\n",
              "      <td>หัวหอม2</td>\n",
              "    </tr>\n",
              "    <tr>\n",
              "      <th>1118</th>\n",
              "      <td>[1.5258789e-05, -4.5776367e-05, 4.5776367e-05,...</td>\n",
              "      <td>22050</td>\n",
              "      <td>[[-13.862199697176345, -10.033334893928362, 0....</td>\n",
              "      <td>55</td>\n",
              "      <td>หัวหอม2</td>\n",
              "    </tr>\n",
              "    <tr>\n",
              "      <th>1119</th>\n",
              "      <td>[1.5258789e-05, -3.0517578e-05, 3.0517578e-05,...</td>\n",
              "      <td>22050</td>\n",
              "      <td>[[-14.084828314988476, -10.714037501901071, -1...</td>\n",
              "      <td>55</td>\n",
              "      <td>หัวหอม2</td>\n",
              "    </tr>\n",
              "  </tbody>\n",
              "</table>\n",
              "<p>1120 rows × 5 columns</p>\n",
              "</div>"
            ],
            "text/plain": [
              "                                             audio_time  ...  description\n",
              "0     [0.0004119873, 0.00061035156, 0.0005340576, 0....  ...       กระชาย\n",
              "1     [1.5258789e-05, -3.0517578e-05, 4.5776367e-05,...  ...       กระชาย\n",
              "2     [-0.00010681152, -0.00010681152, -0.0001525878...  ...       กระชาย\n",
              "3     [-0.00012207031, -0.00018310547, -6.1035156e-0...  ...       กระชาย\n",
              "4     [-1.5258789e-05, 1.5258789e-05, -1.5258789e-05...  ...       กระชาย\n",
              "...                                                 ...  ...          ...\n",
              "1115  [-0.00021362305, -0.00019836426, -0.0001678466...  ...      หัวหอม2\n",
              "1116  [-7.6293945e-05, -9.1552734e-05, 0.0, 1.525878...  ...      หัวหอม2\n",
              "1117  [-7.6293945e-05, -3.0517578e-05, 4.5776367e-05...  ...      หัวหอม2\n",
              "1118  [1.5258789e-05, -4.5776367e-05, 4.5776367e-05,...  ...      หัวหอม2\n",
              "1119  [1.5258789e-05, -3.0517578e-05, 3.0517578e-05,...  ...      หัวหอม2\n",
              "\n",
              "[1120 rows x 5 columns]"
            ]
          },
          "metadata": {},
          "execution_count": 5
        }
      ]
    },
    {
      "cell_type": "code",
      "metadata": {
        "id": "T7yzW3hnmuyB"
      },
      "source": [
        "# Prepare data \n",
        "import numpy as np\n",
        "import pandas as pd\n",
        "\n",
        "\n",
        "Test = pd.DataFrame(columns=source.keys())\n",
        "Validation = pd.DataFrame(columns=source.keys())\n",
        "\n",
        "# Create test data\n",
        "for description in np.unique(df['description']):\n",
        "    imp_test = df[df['description']==description].sample(5,random_state=1)\n",
        "    Test = pd.concat([Test,imp_test], axis=0)\n",
        "\n",
        "# Create train and validation data\n",
        "Train = df.drop(Test.index)\n",
        "for description in np.unique(Train['description']):\n",
        "    imp_val = Train[Train['description']==description].sample(3,random_state=1)\n",
        "    Validation = pd.concat([Validation,imp_val], axis=0)\n",
        "Train = Train.drop(Validation.index)\n",
        "\n",
        "X_train = np.array(Train['feature_extraction'].to_list())\n",
        "X_valid = np.array(Validation['feature_extraction'].to_list())\n",
        "X_test = np.array(Test['feature_extraction'].to_list())\n",
        "y_train = np.array(Train['label'].to_list())\n",
        "y_valid = np.array(Validation['label'].to_list())\n",
        "y_test = np.array(Test['label'].to_list())"
      ],
      "id": "T7yzW3hnmuyB",
      "execution_count": 6,
      "outputs": []
    },
    {
      "cell_type": "code",
      "metadata": {
        "colab": {
          "base_uri": "https://localhost:8080/"
        },
        "id": "mSV3u9RmEU7h",
        "outputId": "1175a6d6-bab3-4c39-b847-b5b428c8cbe4"
      },
      "source": [
        "# Proportion of data\n",
        "y_train.shape, y_test.shape, y_valid.shape"
      ],
      "id": "mSV3u9RmEU7h",
      "execution_count": 7,
      "outputs": [
        {
          "output_type": "execute_result",
          "data": {
            "text/plain": [
              "((672,), (280,), (168,))"
            ]
          },
          "metadata": {},
          "execution_count": 7
        }
      ]
    },
    {
      "cell_type": "code",
      "metadata": {
        "id": "77wMVqve6W8f",
        "colab": {
          "base_uri": "https://localhost:8080/"
        },
        "outputId": "8ad3c9f4-c3a5-4c35-e0d4-b3f92bff5c1d"
      },
      "source": [
        "import tensorflow as tf\n",
        "from tensorflow import keras \n",
        "\n",
        "np.random.seed(1)\n",
        "tf.random.set_seed(1)\n",
        "\n",
        "# Create model\n",
        "# Convolutional Neural Networks\n",
        "model = keras.Sequential()\n",
        "model.add(keras.layers.Conv2D(128, 5, input_shape=(X_train.shape[1], X_train.shape[2], 1), activation='relu'))\n",
        "model.add(keras.layers.Dropout(0.25))\n",
        "model.add(keras.layers.MaxPool2D())\n",
        "model.add(keras.layers.Conv2D(64, 5, activation='relu',padding='same'))\n",
        "model.add(keras.layers.Dropout(0.25))\n",
        "model.add(keras.layers.MaxPool2D())\n",
        "model.add(keras.layers.Conv2D(128, 5, activation='relu',padding='same'))\n",
        "model.add(keras.layers.Dropout(0.25))\n",
        "model.add(keras.layers.MaxPool2D())\n",
        "model.add(keras.layers.Flatten())\n",
        "model.add(keras.layers.Dense(128, activation='relu'))\n",
        "model.add(keras.layers.Dropout(0.25))\n",
        "model.add(keras.layers.Dense(64, activation='relu'))\n",
        "model.add(keras.layers.Dropout(0.25))\n",
        "model.add(keras.layers.Dense(len(np.unique(df['label'])), activation='softmax'))\n",
        "model.compile(optimizer='adam', loss='sparse_categorical_crossentropy', metrics=['accuracy'])\n",
        "\n",
        "model.summary()"
      ],
      "id": "77wMVqve6W8f",
      "execution_count": 8,
      "outputs": [
        {
          "output_type": "stream",
          "text": [
            "Model: \"sequential\"\n",
            "_________________________________________________________________\n",
            "Layer (type)                 Output Shape              Param #   \n",
            "=================================================================\n",
            "conv2d (Conv2D)              (None, 683, 9, 128)       3328      \n",
            "_________________________________________________________________\n",
            "dropout (Dropout)            (None, 683, 9, 128)       0         \n",
            "_________________________________________________________________\n",
            "max_pooling2d (MaxPooling2D) (None, 341, 4, 128)       0         \n",
            "_________________________________________________________________\n",
            "conv2d_1 (Conv2D)            (None, 341, 4, 64)        204864    \n",
            "_________________________________________________________________\n",
            "dropout_1 (Dropout)          (None, 341, 4, 64)        0         \n",
            "_________________________________________________________________\n",
            "max_pooling2d_1 (MaxPooling2 (None, 170, 2, 64)        0         \n",
            "_________________________________________________________________\n",
            "conv2d_2 (Conv2D)            (None, 170, 2, 128)       204928    \n",
            "_________________________________________________________________\n",
            "dropout_2 (Dropout)          (None, 170, 2, 128)       0         \n",
            "_________________________________________________________________\n",
            "max_pooling2d_2 (MaxPooling2 (None, 85, 1, 128)        0         \n",
            "_________________________________________________________________\n",
            "flatten (Flatten)            (None, 10880)             0         \n",
            "_________________________________________________________________\n",
            "dense (Dense)                (None, 128)               1392768   \n",
            "_________________________________________________________________\n",
            "dropout_3 (Dropout)          (None, 128)               0         \n",
            "_________________________________________________________________\n",
            "dense_1 (Dense)              (None, 64)                8256      \n",
            "_________________________________________________________________\n",
            "dropout_4 (Dropout)          (None, 64)                0         \n",
            "_________________________________________________________________\n",
            "dense_2 (Dense)              (None, 56)                3640      \n",
            "=================================================================\n",
            "Total params: 1,817,784\n",
            "Trainable params: 1,817,784\n",
            "Non-trainable params: 0\n",
            "_________________________________________________________________\n"
          ],
          "name": "stdout"
        }
      ]
    },
    {
      "cell_type": "code",
      "metadata": {
        "id": "ngmfDNcnGMC7",
        "colab": {
          "base_uri": "https://localhost:8080/"
        },
        "outputId": "11bcaf7d-e816-446a-d063-7ac9d5d9ece4"
      },
      "source": [
        "# Train model\n",
        "history = model.fit(X_train[:,:,:,None], y_train, epochs=100, validation_data=(X_valid[:,:,:,None],y_valid),batch_size=80)"
      ],
      "id": "ngmfDNcnGMC7",
      "execution_count": 9,
      "outputs": [
        {
          "output_type": "stream",
          "text": [
            "Epoch 1/100\n",
            "9/9 [==============================] - 17s 100ms/step - loss: 4.1556 - accuracy: 0.0208 - val_loss: 4.0206 - val_accuracy: 0.0179\n",
            "Epoch 2/100\n",
            "9/9 [==============================] - 0s 54ms/step - loss: 4.0142 - accuracy: 0.0342 - val_loss: 4.0089 - val_accuracy: 0.0298\n",
            "Epoch 3/100\n",
            "9/9 [==============================] - 0s 54ms/step - loss: 3.9529 - accuracy: 0.0283 - val_loss: 3.9154 - val_accuracy: 0.0536\n",
            "Epoch 4/100\n",
            "9/9 [==============================] - 0s 54ms/step - loss: 3.7852 - accuracy: 0.0580 - val_loss: 3.7055 - val_accuracy: 0.1190\n",
            "Epoch 5/100\n",
            "9/9 [==============================] - 0s 54ms/step - loss: 3.5441 - accuracy: 0.0908 - val_loss: 3.5088 - val_accuracy: 0.1964\n",
            "Epoch 6/100\n",
            "9/9 [==============================] - 0s 54ms/step - loss: 3.2993 - accuracy: 0.1607 - val_loss: 3.2310 - val_accuracy: 0.3333\n",
            "Epoch 7/100\n",
            "9/9 [==============================] - 0s 54ms/step - loss: 2.9406 - accuracy: 0.2068 - val_loss: 2.9872 - val_accuracy: 0.4286\n",
            "Epoch 8/100\n",
            "9/9 [==============================] - 0s 54ms/step - loss: 2.5694 - accuracy: 0.2857 - val_loss: 2.5133 - val_accuracy: 0.5417\n",
            "Epoch 9/100\n",
            "9/9 [==============================] - 0s 54ms/step - loss: 2.3211 - accuracy: 0.3438 - val_loss: 2.3281 - val_accuracy: 0.6369\n",
            "Epoch 10/100\n",
            "9/9 [==============================] - 0s 54ms/step - loss: 2.0574 - accuracy: 0.3943 - val_loss: 2.0634 - val_accuracy: 0.6964\n",
            "Epoch 11/100\n",
            "9/9 [==============================] - 0s 54ms/step - loss: 1.9386 - accuracy: 0.4330 - val_loss: 1.9856 - val_accuracy: 0.7262\n",
            "Epoch 12/100\n",
            "9/9 [==============================] - 0s 54ms/step - loss: 1.6787 - accuracy: 0.5000 - val_loss: 1.7605 - val_accuracy: 0.7440\n",
            "Epoch 13/100\n",
            "9/9 [==============================] - 0s 54ms/step - loss: 1.6001 - accuracy: 0.5446 - val_loss: 1.5327 - val_accuracy: 0.7738\n",
            "Epoch 14/100\n",
            "9/9 [==============================] - 0s 54ms/step - loss: 1.3872 - accuracy: 0.5744 - val_loss: 1.5169 - val_accuracy: 0.7679\n",
            "Epoch 15/100\n",
            "9/9 [==============================] - 0s 54ms/step - loss: 1.2847 - accuracy: 0.6265 - val_loss: 1.3529 - val_accuracy: 0.8214\n",
            "Epoch 16/100\n",
            "9/9 [==============================] - 0s 54ms/step - loss: 1.2255 - accuracy: 0.6518 - val_loss: 1.2832 - val_accuracy: 0.8274\n",
            "Epoch 17/100\n",
            "9/9 [==============================] - 0s 54ms/step - loss: 1.1346 - accuracy: 0.6592 - val_loss: 1.2116 - val_accuracy: 0.8155\n",
            "Epoch 18/100\n",
            "9/9 [==============================] - 0s 54ms/step - loss: 1.0493 - accuracy: 0.6949 - val_loss: 1.0893 - val_accuracy: 0.8333\n",
            "Epoch 19/100\n",
            "9/9 [==============================] - 0s 54ms/step - loss: 1.0245 - accuracy: 0.6726 - val_loss: 1.0964 - val_accuracy: 0.9048\n",
            "Epoch 20/100\n",
            "9/9 [==============================] - 0s 55ms/step - loss: 0.8804 - accuracy: 0.7292 - val_loss: 0.9349 - val_accuracy: 0.8750\n",
            "Epoch 21/100\n",
            "9/9 [==============================] - 0s 55ms/step - loss: 0.8848 - accuracy: 0.7440 - val_loss: 0.9755 - val_accuracy: 0.8750\n",
            "Epoch 22/100\n",
            "9/9 [==============================] - 0s 54ms/step - loss: 0.6977 - accuracy: 0.7857 - val_loss: 0.9130 - val_accuracy: 0.8571\n",
            "Epoch 23/100\n",
            "9/9 [==============================] - 0s 54ms/step - loss: 0.7378 - accuracy: 0.7738 - val_loss: 0.8711 - val_accuracy: 0.8988\n",
            "Epoch 24/100\n",
            "9/9 [==============================] - 0s 54ms/step - loss: 0.6768 - accuracy: 0.7857 - val_loss: 0.8804 - val_accuracy: 0.8810\n",
            "Epoch 25/100\n",
            "9/9 [==============================] - 0s 54ms/step - loss: 0.7123 - accuracy: 0.7827 - val_loss: 0.8193 - val_accuracy: 0.9107\n",
            "Epoch 26/100\n",
            "9/9 [==============================] - 0s 54ms/step - loss: 0.6511 - accuracy: 0.7961 - val_loss: 0.7235 - val_accuracy: 0.9107\n",
            "Epoch 27/100\n",
            "9/9 [==============================] - 0s 54ms/step - loss: 0.7015 - accuracy: 0.8021 - val_loss: 0.7422 - val_accuracy: 0.8929\n",
            "Epoch 28/100\n",
            "9/9 [==============================] - 0s 54ms/step - loss: 0.6146 - accuracy: 0.8095 - val_loss: 0.7057 - val_accuracy: 0.8869\n",
            "Epoch 29/100\n",
            "9/9 [==============================] - 0s 55ms/step - loss: 0.5469 - accuracy: 0.8348 - val_loss: 0.7310 - val_accuracy: 0.8929\n",
            "Epoch 30/100\n",
            "9/9 [==============================] - 0s 54ms/step - loss: 0.6196 - accuracy: 0.7946 - val_loss: 0.6751 - val_accuracy: 0.8869\n",
            "Epoch 31/100\n",
            "9/9 [==============================] - 0s 55ms/step - loss: 0.5138 - accuracy: 0.8318 - val_loss: 0.6439 - val_accuracy: 0.9286\n",
            "Epoch 32/100\n",
            "9/9 [==============================] - 0s 55ms/step - loss: 0.5763 - accuracy: 0.8259 - val_loss: 0.6883 - val_accuracy: 0.9048\n",
            "Epoch 33/100\n",
            "9/9 [==============================] - 0s 55ms/step - loss: 0.4470 - accuracy: 0.8661 - val_loss: 0.5619 - val_accuracy: 0.9048\n",
            "Epoch 34/100\n",
            "9/9 [==============================] - 0s 55ms/step - loss: 0.5210 - accuracy: 0.8229 - val_loss: 0.5312 - val_accuracy: 0.9048\n",
            "Epoch 35/100\n",
            "9/9 [==============================] - 0s 55ms/step - loss: 0.4598 - accuracy: 0.8408 - val_loss: 0.6324 - val_accuracy: 0.9167\n",
            "Epoch 36/100\n",
            "9/9 [==============================] - 0s 55ms/step - loss: 0.4854 - accuracy: 0.8497 - val_loss: 0.5986 - val_accuracy: 0.9167\n",
            "Epoch 37/100\n",
            "9/9 [==============================] - 0s 55ms/step - loss: 0.4118 - accuracy: 0.8586 - val_loss: 0.5301 - val_accuracy: 0.9167\n",
            "Epoch 38/100\n",
            "9/9 [==============================] - 0s 54ms/step - loss: 0.5176 - accuracy: 0.8482 - val_loss: 0.5447 - val_accuracy: 0.9226\n",
            "Epoch 39/100\n",
            "9/9 [==============================] - 0s 55ms/step - loss: 0.4727 - accuracy: 0.8512 - val_loss: 0.5312 - val_accuracy: 0.9107\n",
            "Epoch 40/100\n",
            "9/9 [==============================] - 0s 54ms/step - loss: 0.4437 - accuracy: 0.8646 - val_loss: 0.5118 - val_accuracy: 0.9048\n",
            "Epoch 41/100\n",
            "9/9 [==============================] - 0s 55ms/step - loss: 0.4180 - accuracy: 0.8661 - val_loss: 0.5254 - val_accuracy: 0.9286\n",
            "Epoch 42/100\n",
            "9/9 [==============================] - 0s 55ms/step - loss: 0.3432 - accuracy: 0.8958 - val_loss: 0.4389 - val_accuracy: 0.9226\n",
            "Epoch 43/100\n",
            "9/9 [==============================] - 0s 54ms/step - loss: 0.4384 - accuracy: 0.8750 - val_loss: 0.4851 - val_accuracy: 0.9226\n",
            "Epoch 44/100\n",
            "9/9 [==============================] - 0s 54ms/step - loss: 0.3704 - accuracy: 0.8869 - val_loss: 0.4818 - val_accuracy: 0.9464\n",
            "Epoch 45/100\n",
            "9/9 [==============================] - 0s 55ms/step - loss: 0.4091 - accuracy: 0.8661 - val_loss: 0.4899 - val_accuracy: 0.9226\n",
            "Epoch 46/100\n",
            "9/9 [==============================] - 0s 54ms/step - loss: 0.3800 - accuracy: 0.8765 - val_loss: 0.4801 - val_accuracy: 0.9167\n",
            "Epoch 47/100\n",
            "9/9 [==============================] - 0s 55ms/step - loss: 0.3825 - accuracy: 0.8690 - val_loss: 0.4694 - val_accuracy: 0.9464\n",
            "Epoch 48/100\n",
            "9/9 [==============================] - 0s 54ms/step - loss: 0.3744 - accuracy: 0.8839 - val_loss: 0.4950 - val_accuracy: 0.9167\n",
            "Epoch 49/100\n",
            "9/9 [==============================] - 0s 55ms/step - loss: 0.3240 - accuracy: 0.8839 - val_loss: 0.4417 - val_accuracy: 0.9405\n",
            "Epoch 50/100\n",
            "9/9 [==============================] - 0s 55ms/step - loss: 0.3259 - accuracy: 0.8988 - val_loss: 0.3897 - val_accuracy: 0.9464\n",
            "Epoch 51/100\n",
            "9/9 [==============================] - 0s 55ms/step - loss: 0.3495 - accuracy: 0.8943 - val_loss: 0.4117 - val_accuracy: 0.9405\n",
            "Epoch 52/100\n",
            "9/9 [==============================] - 0s 55ms/step - loss: 0.3448 - accuracy: 0.8973 - val_loss: 0.4365 - val_accuracy: 0.9226\n",
            "Epoch 53/100\n",
            "9/9 [==============================] - 0s 54ms/step - loss: 0.3801 - accuracy: 0.8914 - val_loss: 0.4967 - val_accuracy: 0.9226\n",
            "Epoch 54/100\n",
            "9/9 [==============================] - 0s 54ms/step - loss: 0.2992 - accuracy: 0.8973 - val_loss: 0.4560 - val_accuracy: 0.9345\n",
            "Epoch 55/100\n",
            "9/9 [==============================] - 0s 54ms/step - loss: 0.3104 - accuracy: 0.9092 - val_loss: 0.4301 - val_accuracy: 0.9405\n",
            "Epoch 56/100\n",
            "9/9 [==============================] - 0s 55ms/step - loss: 0.2470 - accuracy: 0.9167 - val_loss: 0.4461 - val_accuracy: 0.9226\n",
            "Epoch 57/100\n",
            "9/9 [==============================] - 0s 54ms/step - loss: 0.2968 - accuracy: 0.9122 - val_loss: 0.4172 - val_accuracy: 0.9107\n",
            "Epoch 58/100\n",
            "9/9 [==============================] - 0s 54ms/step - loss: 0.2856 - accuracy: 0.9211 - val_loss: 0.3943 - val_accuracy: 0.9286\n",
            "Epoch 59/100\n",
            "9/9 [==============================] - 0s 55ms/step - loss: 0.2782 - accuracy: 0.9122 - val_loss: 0.4090 - val_accuracy: 0.9286\n",
            "Epoch 60/100\n",
            "9/9 [==============================] - 0s 55ms/step - loss: 0.2523 - accuracy: 0.9196 - val_loss: 0.3668 - val_accuracy: 0.9405\n",
            "Epoch 61/100\n",
            "9/9 [==============================] - 0s 55ms/step - loss: 0.3107 - accuracy: 0.9048 - val_loss: 0.3938 - val_accuracy: 0.9167\n",
            "Epoch 62/100\n",
            "9/9 [==============================] - 0s 55ms/step - loss: 0.2942 - accuracy: 0.9122 - val_loss: 0.4213 - val_accuracy: 0.9167\n",
            "Epoch 63/100\n",
            "9/9 [==============================] - 0s 55ms/step - loss: 0.2865 - accuracy: 0.9182 - val_loss: 0.4112 - val_accuracy: 0.9286\n",
            "Epoch 64/100\n",
            "9/9 [==============================] - 0s 55ms/step - loss: 0.3414 - accuracy: 0.9003 - val_loss: 0.4369 - val_accuracy: 0.9345\n",
            "Epoch 65/100\n",
            "9/9 [==============================] - 0s 55ms/step - loss: 0.2638 - accuracy: 0.9182 - val_loss: 0.4515 - val_accuracy: 0.9167\n",
            "Epoch 66/100\n",
            "9/9 [==============================] - 0s 55ms/step - loss: 0.3043 - accuracy: 0.9092 - val_loss: 0.4111 - val_accuracy: 0.9405\n",
            "Epoch 67/100\n",
            "9/9 [==============================] - 0s 55ms/step - loss: 0.2396 - accuracy: 0.9330 - val_loss: 0.3632 - val_accuracy: 0.9286\n",
            "Epoch 68/100\n",
            "9/9 [==============================] - 0s 55ms/step - loss: 0.2414 - accuracy: 0.9315 - val_loss: 0.3240 - val_accuracy: 0.9405\n",
            "Epoch 69/100\n",
            "9/9 [==============================] - 0s 55ms/step - loss: 0.2183 - accuracy: 0.9375 - val_loss: 0.3172 - val_accuracy: 0.9405\n",
            "Epoch 70/100\n",
            "9/9 [==============================] - 0s 54ms/step - loss: 0.1984 - accuracy: 0.9405 - val_loss: 0.3171 - val_accuracy: 0.9345\n",
            "Epoch 71/100\n",
            "9/9 [==============================] - 0s 55ms/step - loss: 0.1914 - accuracy: 0.9345 - val_loss: 0.3083 - val_accuracy: 0.9524\n",
            "Epoch 72/100\n",
            "9/9 [==============================] - 0s 54ms/step - loss: 0.1937 - accuracy: 0.9301 - val_loss: 0.3114 - val_accuracy: 0.9226\n",
            "Epoch 73/100\n",
            "9/9 [==============================] - 0s 55ms/step - loss: 0.2533 - accuracy: 0.9301 - val_loss: 0.3336 - val_accuracy: 0.9405\n",
            "Epoch 74/100\n",
            "9/9 [==============================] - 0s 55ms/step - loss: 0.2430 - accuracy: 0.9167 - val_loss: 0.3656 - val_accuracy: 0.9286\n",
            "Epoch 75/100\n",
            "9/9 [==============================] - 0s 54ms/step - loss: 0.2298 - accuracy: 0.9196 - val_loss: 0.3640 - val_accuracy: 0.9345\n",
            "Epoch 76/100\n",
            "9/9 [==============================] - 0s 55ms/step - loss: 0.2386 - accuracy: 0.9196 - val_loss: 0.4059 - val_accuracy: 0.9286\n",
            "Epoch 77/100\n",
            "9/9 [==============================] - 0s 55ms/step - loss: 0.2223 - accuracy: 0.9330 - val_loss: 0.3597 - val_accuracy: 0.9345\n",
            "Epoch 78/100\n",
            "9/9 [==============================] - 0s 55ms/step - loss: 0.2352 - accuracy: 0.9271 - val_loss: 0.3584 - val_accuracy: 0.9286\n",
            "Epoch 79/100\n",
            "9/9 [==============================] - 0s 55ms/step - loss: 0.2139 - accuracy: 0.9360 - val_loss: 0.3870 - val_accuracy: 0.9286\n",
            "Epoch 80/100\n",
            "9/9 [==============================] - 0s 55ms/step - loss: 0.2184 - accuracy: 0.9301 - val_loss: 0.3763 - val_accuracy: 0.9286\n",
            "Epoch 81/100\n",
            "9/9 [==============================] - 0s 55ms/step - loss: 0.2402 - accuracy: 0.9182 - val_loss: 0.3828 - val_accuracy: 0.9345\n",
            "Epoch 82/100\n",
            "9/9 [==============================] - 0s 55ms/step - loss: 0.2171 - accuracy: 0.9405 - val_loss: 0.3626 - val_accuracy: 0.9345\n",
            "Epoch 83/100\n",
            "9/9 [==============================] - 0s 55ms/step - loss: 0.2427 - accuracy: 0.9211 - val_loss: 0.3686 - val_accuracy: 0.9405\n",
            "Epoch 84/100\n",
            "9/9 [==============================] - 0s 55ms/step - loss: 0.2452 - accuracy: 0.9271 - val_loss: 0.3465 - val_accuracy: 0.9345\n",
            "Epoch 85/100\n",
            "9/9 [==============================] - 0s 55ms/step - loss: 0.2219 - accuracy: 0.9226 - val_loss: 0.3323 - val_accuracy: 0.9524\n",
            "Epoch 86/100\n",
            "9/9 [==============================] - 0s 55ms/step - loss: 0.2095 - accuracy: 0.9345 - val_loss: 0.3366 - val_accuracy: 0.9524\n",
            "Epoch 87/100\n",
            "9/9 [==============================] - 0s 55ms/step - loss: 0.1854 - accuracy: 0.9390 - val_loss: 0.3355 - val_accuracy: 0.9405\n",
            "Epoch 88/100\n",
            "9/9 [==============================] - 0s 55ms/step - loss: 0.2329 - accuracy: 0.9256 - val_loss: 0.3116 - val_accuracy: 0.9464\n",
            "Epoch 89/100\n",
            "9/9 [==============================] - 0s 55ms/step - loss: 0.2034 - accuracy: 0.9390 - val_loss: 0.2690 - val_accuracy: 0.9524\n",
            "Epoch 90/100\n",
            "9/9 [==============================] - 0s 55ms/step - loss: 0.1937 - accuracy: 0.9420 - val_loss: 0.2917 - val_accuracy: 0.9583\n",
            "Epoch 91/100\n",
            "9/9 [==============================] - 0s 56ms/step - loss: 0.2233 - accuracy: 0.9315 - val_loss: 0.3032 - val_accuracy: 0.9583\n",
            "Epoch 92/100\n",
            "9/9 [==============================] - 0s 55ms/step - loss: 0.1734 - accuracy: 0.9479 - val_loss: 0.2871 - val_accuracy: 0.9405\n",
            "Epoch 93/100\n",
            "9/9 [==============================] - 0s 55ms/step - loss: 0.2347 - accuracy: 0.9271 - val_loss: 0.3158 - val_accuracy: 0.9524\n",
            "Epoch 94/100\n",
            "9/9 [==============================] - 0s 55ms/step - loss: 0.1904 - accuracy: 0.9375 - val_loss: 0.3464 - val_accuracy: 0.9464\n",
            "Epoch 95/100\n",
            "9/9 [==============================] - 0s 55ms/step - loss: 0.2054 - accuracy: 0.9345 - val_loss: 0.3008 - val_accuracy: 0.9583\n",
            "Epoch 96/100\n",
            "9/9 [==============================] - 0s 55ms/step - loss: 0.1627 - accuracy: 0.9464 - val_loss: 0.2900 - val_accuracy: 0.9464\n",
            "Epoch 97/100\n",
            "9/9 [==============================] - 0s 55ms/step - loss: 0.1900 - accuracy: 0.9420 - val_loss: 0.2750 - val_accuracy: 0.9464\n",
            "Epoch 98/100\n",
            "9/9 [==============================] - 0s 55ms/step - loss: 0.2106 - accuracy: 0.9330 - val_loss: 0.2882 - val_accuracy: 0.9524\n",
            "Epoch 99/100\n",
            "9/9 [==============================] - 0s 55ms/step - loss: 0.1323 - accuracy: 0.9583 - val_loss: 0.2896 - val_accuracy: 0.9405\n",
            "Epoch 100/100\n",
            "9/9 [==============================] - 0s 55ms/step - loss: 0.1559 - accuracy: 0.9494 - val_loss: 0.2927 - val_accuracy: 0.9345\n"
          ],
          "name": "stdout"
        }
      ]
    },
    {
      "cell_type": "code",
      "metadata": {
        "colab": {
          "base_uri": "https://localhost:8080/"
        },
        "id": "ZQ4n8wAmB9ZX",
        "outputId": "b4713671-a6fd-4384-d302-9a09f53cc5c4"
      },
      "source": [
        "# Evaluate model\n",
        "print(f'Train Accuracy: { model.evaluate(X_train[:,:,:,None],y_train)[1]}')\n",
        "print(f'Test Accuracy: {model.evaluate(X_test[:,:,:,None],y_test)[1]}')"
      ],
      "id": "ZQ4n8wAmB9ZX",
      "execution_count": 10,
      "outputs": [
        {
          "output_type": "stream",
          "text": [
            "21/21 [==============================] - 0s 8ms/step - loss: 0.0175 - accuracy: 1.0000\n",
            "Train Accuracy: 1.0\n",
            "9/9 [==============================] - 0s 17ms/step - loss: 0.2561 - accuracy: 0.9500\n",
            "Test Accuracy: 0.949999988079071\n"
          ],
          "name": "stdout"
        }
      ]
    },
    {
      "cell_type": "code",
      "metadata": {
        "id": "F62fEQaGFMqs",
        "colab": {
          "base_uri": "https://localhost:8080/",
          "height": 368
        },
        "outputId": "b46ef5e7-4b81-4e55-d5d1-779820a32bd2"
      },
      "source": [
        "import matplotlib.pyplot as plt\n",
        "\n",
        "# Learning curve\n",
        "# plot the accuracy and loss plots between training and validation data\n",
        "# verify overfitting or underfit \n",
        "acc = history.history['accuracy']\n",
        "val_acc = history.history['val_accuracy']\n",
        "loss = history.history['loss']\n",
        "val_loss = history.history['val_loss']\n",
        "x = range(1,len(acc)+1)\n",
        "\n",
        "plt.figure(figsize=(12,5))\n",
        "plt.subplot(1,2,1)\n",
        "plt.plot(x,acc,'b',label='Training acc')\n",
        "plt.plot(x,val_acc,'r',label='Validation acc')\n",
        "plt.title('Training and validation accuracy')\n",
        "plt.xlabel('epoochs')\n",
        "plt.ylabel('accuracy')\n",
        "plt.legend()\n",
        "\n",
        "plt.subplot(1,2,2)\n",
        "plt.plot(x,loss,'b',label='Training loss')\n",
        "plt.plot(x,val_loss,'r',label='Validation loss')\n",
        "plt.title('Training and validation loss')\n",
        "plt.xlabel('epoochs')\n",
        "plt.ylabel('loss')\n",
        "plt.legend()"
      ],
      "id": "F62fEQaGFMqs",
      "execution_count": 11,
      "outputs": [
        {
          "output_type": "execute_result",
          "data": {
            "text/plain": [
              "<matplotlib.legend.Legend at 0x7fd5d8581850>"
            ]
          },
          "metadata": {},
          "execution_count": 11
        },
        {
          "output_type": "display_data",
          "data": {
            "image/png": "[encoded data removed]",
            "text/plain": [
              "<Figure size 864x360 with 2 Axes>"
            ]
          },
          "metadata": {
            "needs_background": "light"
          }
        }
      ]
    },
    {
      "cell_type": "code",
      "metadata": {
        "id": "wFbKdWsMkDuw",
        "colab": {
          "base_uri": "https://localhost:8080/"
        },
        "outputId": "7b7d1f1a-6059-4de6-f7a9-a355e0e191ff"
      },
      "source": [
        "from sklearn.metrics import classification_report\n",
        "\n",
        "# classification report\n",
        "predicted_classes = np.argmax(np.round(model.predict(X_test[:,:,:,None])),axis=1)\n",
        "correct = np.where(predicted_classes==y_test)[0]\n",
        "target_names = [f\"Class {label}\" for label in range(len(np.unique(df['label'])))]\n",
        "\n",
        "print(f\"From {len(y_test)} labels're founding {len(correct)} correct labels.\")\n",
        "print('')\n",
        "print(classification_report(y_test, predicted_classes, target_names=target_names))"
      ],
      "id": "wFbKdWsMkDuw",
      "execution_count": 12,
      "outputs": [
        {
          "output_type": "stream",
          "text": [
            "From 280 labels're founding 256 correct labels.\n",
            "\n",
            "              precision    recall  f1-score   support\n",
            "\n",
            "     Class 0       0.20      1.00      0.33         5\n",
            "     Class 1       1.00      1.00      1.00         5\n",
            "     Class 2       1.00      1.00      1.00         5\n",
            "     Class 3       1.00      0.80      0.89         5\n",
            "     Class 4       1.00      0.80      0.89         5\n",
            "     Class 5       1.00      1.00      1.00         5\n",
            "     Class 6       1.00      1.00      1.00         5\n",
            "     Class 7       1.00      1.00      1.00         5\n",
            "     Class 8       1.00      1.00      1.00         5\n",
            "     Class 9       1.00      0.60      0.75         5\n",
            "    Class 10       0.83      1.00      0.91         5\n",
            "    Class 11       1.00      0.80      0.89         5\n",
            "    Class 12       1.00      1.00      1.00         5\n",
            "    Class 13       1.00      0.80      0.89         5\n",
            "    Class 14       1.00      1.00      1.00         5\n",
            "    Class 15       1.00      0.80      0.89         5\n",
            "    Class 16       1.00      0.80      0.89         5\n",
            "    Class 17       1.00      1.00      1.00         5\n",
            "    Class 18       1.00      1.00      1.00         5\n",
            "    Class 19       1.00      0.80      0.89         5\n",
            "    Class 20       1.00      1.00      1.00         5\n",
            "    Class 21       1.00      1.00      1.00         5\n",
            "    Class 22       1.00      0.80      0.89         5\n",
            "    Class 23       1.00      1.00      1.00         5\n",
            "    Class 24       1.00      1.00      1.00         5\n",
            "    Class 25       1.00      1.00      1.00         5\n",
            "    Class 26       1.00      0.60      0.75         5\n",
            "    Class 27       1.00      1.00      1.00         5\n",
            "    Class 28       0.83      1.00      0.91         5\n",
            "    Class 29       1.00      1.00      1.00         5\n",
            "    Class 30       1.00      1.00      1.00         5\n",
            "    Class 31       1.00      0.80      0.89         5\n",
            "    Class 32       0.83      1.00      0.91         5\n",
            "    Class 33       0.83      1.00      0.91         5\n",
            "    Class 34       1.00      1.00      1.00         5\n",
            "    Class 35       1.00      0.80      0.89         5\n",
            "    Class 36       1.00      1.00      1.00         5\n",
            "    Class 37       1.00      1.00      1.00         5\n",
            "    Class 38       1.00      0.60      0.75         5\n",
            "    Class 39       1.00      1.00      1.00         5\n",
            "    Class 40       1.00      0.80      0.89         5\n",
            "    Class 41       1.00      0.60      0.75         5\n",
            "    Class 42       1.00      1.00      1.00         5\n",
            "    Class 43       1.00      1.00      1.00         5\n",
            "    Class 44       1.00      0.60      0.75         5\n",
            "    Class 45       1.00      1.00      1.00         5\n",
            "    Class 46       1.00      1.00      1.00         5\n",
            "    Class 47       1.00      1.00      1.00         5\n",
            "    Class 48       1.00      0.80      0.89         5\n",
            "    Class 49       1.00      1.00      1.00         5\n",
            "    Class 50       1.00      0.80      0.89         5\n",
            "    Class 51       1.00      1.00      1.00         5\n",
            "    Class 52       1.00      0.80      0.89         5\n",
            "    Class 53       1.00      1.00      1.00         5\n",
            "    Class 54       1.00      1.00      1.00         5\n",
            "    Class 55       1.00      1.00      1.00         5\n",
            "\n",
            "    accuracy                           0.91       280\n",
            "   macro avg       0.97      0.91      0.93       280\n",
            "weighted avg       0.97      0.91      0.93       280\n",
            "\n"
          ],
          "name": "stdout"
        }
      ]
    }
  ]
}