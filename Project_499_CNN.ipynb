{
  "nbformat": 4,
  "nbformat_minor": 5,
  "metadata": {
    "colab": {
      "name": "Project_499_CNN.ipynb",
      "provenance": [],
      "collapsed_sections": [],
      "machine_shape": "hm",
      "include_colab_link": true
    },
    "kernelspec": {
      "display_name": "Python 3",
      "language": "python",
      "name": "python3"
    },
    "language_info": {
      "codemirror_mode": {
        "name": "ipython",
        "version": 3
      },
      "file_extension": ".py",
      "mimetype": "text/x-python",
      "name": "python",
      "nbconvert_exporter": "python",
      "pygments_lexer": "ipython3",
      "version": "3.8.8"
    },
    "accelerator": "GPU"
  },
  "cells": [
    {
      "cell_type": "markdown",
      "metadata": {
        "id": "view-in-github",
        "colab_type": "text"
      },
      "source": [
        "<a href=\"https://colab.research.google.com/github/NongNNew/Project_499/blob/main/Project_499_CNN.ipynb\" target=\"_parent\"><img src=\"https://colab.research.google.com/assets/colab-badge.svg\" alt=\"Open In Colab\"/></a>"
      ]
    },
    {
      "cell_type": "markdown",
      "metadata": {
        "id": "hW4AHGmEVrk8"
      },
      "source": [
        "# CNN"
      ],
      "id": "hW4AHGmEVrk8"
    },
    {
      "cell_type": "code",
      "metadata": {
        "colab": {
          "base_uri": "https://localhost:8080/"
        },
        "id": "gJVdtdww87RO",
        "outputId": "279dec9f-99ed-4e4c-e229-af79bc4b842a"
      },
      "source": [
        "# Upload audio files from github\n",
        "!git clone https://github.com/NongNNew/Project_499.git"
      ],
      "id": "gJVdtdww87RO",
      "execution_count": 1,
      "outputs": [
        {
          "output_type": "stream",
          "text": [
            "Cloning into 'Project_499'...\n",
            "remote: Enumerating objects: 1414, done.\u001b[K\n",
            "remote: Counting objects: 100% (582/582), done.\u001b[K\n",
            "remote: Compressing objects: 100% (576/576), done.\u001b[K\n",
            "remote: Total 1414 (delta 52), reused 518 (delta 6), pack-reused 832\u001b[K\n",
            "Receiving objects: 100% (1414/1414), 232.73 MiB | 27.96 MiB/s, done.\n",
            "Resolving deltas: 100% (129/129), done.\n",
            "Checking out files: 100% (1122/1122), done.\n"
          ],
          "name": "stdout"
        }
      ]
    },
    {
      "cell_type": "code",
      "metadata": {
        "id": "EHnDUT5YejVV"
      },
      "source": [
        "fruit_veget = ['กระชาย','กระท้อน','กระเทียม1','กระเทียม2','กระเพรา','กล้วยน้ำว้า','กล้วยหอม',\n",
        "               'ข้าวโพด','ไข่น้ำ',\n",
        "               'ตะขบไทย','ตะไคร้',\n",
        "               'ถั่วฝักยาว','ถั่วลันเตา','ถั่วลิสง',\n",
        "               'ทับทิม',\n",
        "               'น้อยหน่า','น้ำเต้า',\n",
        "               'ผักกระเฉด','ผักกุยช่าย','ผักขึ้นช่าย','ผักชะอม','ผักชี','ผักชีฝรั่ง','ผักตำลึง',\n",
        "               'มะปราง','มะพลับ','มะละกอ','มะกรูด','มะเขือพวง','มะเขือเทศ','มะระ','มะรุม','มะตูม','มันแกว1','มันแกว2','มันเทศ','มันฝรั่ง','มันสำปะหลัง',\n",
        "               'บวบ','ใบชะพลู1','ใบชะพลู2','ใบบัวบก','ใบแมงลัก','ใบยอ',\n",
        "               'พริกขี้หนู','พริกสด','พุทรา','เพกา',\n",
        "               'ฝรั่ง',\n",
        "               'ฟัก','ฟักทอง',\n",
        "               'สับปะรด','สะเดา','สะระแหน่',\n",
        "               'หัวหอม1','หัวหอม2']\n",
        "\n",
        "source = {'audio_time':[],\n",
        "          'sampling_rate':[],\n",
        "          'feature_extraction':[],\n",
        "          'label':[],\n",
        "          'description':[]}"
      ],
      "id": "EHnDUT5YejVV",
      "execution_count": 2,
      "outputs": []
    },
    {
      "cell_type": "code",
      "metadata": {
        "colab": {
          "base_uri": "https://localhost:8080/"
        },
        "id": "_XRqKtGBeW_1",
        "outputId": "c2e8c4ba-3582-49bc-f1c6-0a1ace09baaf"
      },
      "source": [
        "!pip install python_speech_features\n",
        "import python_speech_features\n",
        "from scipy.signal.windows import hamming\n",
        "\n",
        "def feature_mfcc(y,sr):\n",
        "    return (python_speech_features.mfcc(signal=y, \n",
        "                                    samplerate=sr, \n",
        "                                    winlen= 512/sr, \n",
        "                                    winstep= 160/sr,\n",
        "                                    numcep= 13,\n",
        "                                    nfilt= 40, \n",
        "                                    nfft= 512,\n",
        "                                    lowfreq= 0,\n",
        "                                    highfreq= None,\n",
        "                                    preemph= 0.97, \n",
        "                                    ceplifter= 0,\n",
        "                                    winfunc= hamming))"
      ],
      "id": "_XRqKtGBeW_1",
      "execution_count": 3,
      "outputs": [
        {
          "output_type": "stream",
          "text": [
            "Collecting python_speech_features\n",
            "  Downloading python_speech_features-0.6.tar.gz (5.6 kB)\n",
            "Building wheels for collected packages: python-speech-features\n",
            "  Building wheel for python-speech-features (setup.py) ... \u001b[?25l\u001b[?25hdone\n",
            "  Created wheel for python-speech-features: filename=python_speech_features-0.6-py3-none-any.whl size=5888 sha256=73c3a881e242234d48964c301bb49886c1dc1060bd79f78bf19c9fd68669b4e2\n",
            "  Stored in directory: /root/.cache/pip/wheels/b0/0e/94/28cd6afa3cd5998a63eef99fe31777acd7d758f59cf24839eb\n",
            "Successfully built python-speech-features\n",
            "Installing collected packages: python-speech-features\n",
            "Successfully installed python-speech-features-0.6\n"
          ],
          "name": "stdout"
        }
      ]
    },
    {
      "cell_type": "code",
      "metadata": {
        "id": "tixApnAUy5tv"
      },
      "source": [
        "import pandas as pd\n",
        "from glob import glob\n",
        "import librosa\n",
        "\n",
        "for types in fruit_veget:\n",
        "    audio_files = glob('/content/Project_499/Record_audio/' + str(types) + '/*.wav')\n",
        "\n",
        "    for audio in audio_files:\n",
        "        y,sr = librosa.load(audio,duration=5,offset=0)\n",
        "        source['description'].append(str(types))\n",
        "        source['audio_time'].append(y)\n",
        "        source['sampling_rate'].append(sr)\n",
        "        source['feature_extraction'].append(feature_mfcc(y,sr))\n",
        "        source['label'].append(fruit_veget.index(types))"
      ],
      "id": "tixApnAUy5tv",
      "execution_count": 4,
      "outputs": []
    },
    {
      "cell_type": "code",
      "metadata": {
        "colab": {
          "base_uri": "https://localhost:8080/",
          "height": 417
        },
        "id": "8B6cSV4Ckude",
        "outputId": "f025517c-e2fd-4587-ff86-1306dc15d543"
      },
      "source": [
        "df = pd.DataFrame.from_dict(source)\n",
        "df"
      ],
      "id": "8B6cSV4Ckude",
      "execution_count": 5,
      "outputs": [
        {
          "output_type": "execute_result",
          "data": {
            "text/html": [
              "<div>\n",
              "<style scoped>\n",
              "    .dataframe tbody tr th:only-of-type {\n",
              "        vertical-align: middle;\n",
              "    }\n",
              "\n",
              "    .dataframe tbody tr th {\n",
              "        vertical-align: top;\n",
              "    }\n",
              "\n",
              "    .dataframe thead th {\n",
              "        text-align: right;\n",
              "    }\n",
              "</style>\n",
              "<table border=\"1\" class=\"dataframe\">\n",
              "  <thead>\n",
              "    <tr style=\"text-align: right;\">\n",
              "      <th></th>\n",
              "      <th>audio_time</th>\n",
              "      <th>sampling_rate</th>\n",
              "      <th>feature_extraction</th>\n",
              "      <th>label</th>\n",
              "      <th>description</th>\n",
              "    </tr>\n",
              "  </thead>\n",
              "  <tbody>\n",
              "    <tr>\n",
              "      <th>0</th>\n",
              "      <td>[0.0004119873, 0.00061035156, 0.0005340576, 0....</td>\n",
              "      <td>22050</td>\n",
              "      <td>[[-14.031458292064183, -9.719918182168303, 3.0...</td>\n",
              "      <td>0</td>\n",
              "      <td>กระชาย</td>\n",
              "    </tr>\n",
              "    <tr>\n",
              "      <th>1</th>\n",
              "      <td>[1.5258789e-05, -3.0517578e-05, 4.5776367e-05,...</td>\n",
              "      <td>22050</td>\n",
              "      <td>[[-13.895163210723114, -10.534242113550562, 0....</td>\n",
              "      <td>0</td>\n",
              "      <td>กระชาย</td>\n",
              "    </tr>\n",
              "    <tr>\n",
              "      <th>2</th>\n",
              "      <td>[-0.00010681152, -0.00010681152, -0.0001525878...</td>\n",
              "      <td>22050</td>\n",
              "      <td>[[-14.047682378884087, -10.559749338871004, 1....</td>\n",
              "      <td>0</td>\n",
              "      <td>กระชาย</td>\n",
              "    </tr>\n",
              "    <tr>\n",
              "      <th>3</th>\n",
              "      <td>[-0.00012207031, -0.00018310547, -6.1035156e-0...</td>\n",
              "      <td>22050</td>\n",
              "      <td>[[-13.937838344743476, -10.52677763983171, 0.7...</td>\n",
              "      <td>0</td>\n",
              "      <td>กระชาย</td>\n",
              "    </tr>\n",
              "    <tr>\n",
              "      <th>4</th>\n",
              "      <td>[-1.5258789e-05, 1.5258789e-05, -1.5258789e-05...</td>\n",
              "      <td>22050</td>\n",
              "      <td>[[-13.834222688815137, -11.278032760622157, -1...</td>\n",
              "      <td>0</td>\n",
              "      <td>กระชาย</td>\n",
              "    </tr>\n",
              "    <tr>\n",
              "      <th>...</th>\n",
              "      <td>...</td>\n",
              "      <td>...</td>\n",
              "      <td>...</td>\n",
              "      <td>...</td>\n",
              "      <td>...</td>\n",
              "    </tr>\n",
              "    <tr>\n",
              "      <th>1115</th>\n",
              "      <td>[-0.00021362305, -0.00019836426, -0.0001678466...</td>\n",
              "      <td>22050</td>\n",
              "      <td>[[-13.600642153773194, -15.096089567076714, -0...</td>\n",
              "      <td>55</td>\n",
              "      <td>หัวหอม2</td>\n",
              "    </tr>\n",
              "    <tr>\n",
              "      <th>1116</th>\n",
              "      <td>[-7.6293945e-05, -9.1552734e-05, 0.0, 1.525878...</td>\n",
              "      <td>22050</td>\n",
              "      <td>[[-13.93405270581039, -11.744337964457122, 1.2...</td>\n",
              "      <td>55</td>\n",
              "      <td>หัวหอม2</td>\n",
              "    </tr>\n",
              "    <tr>\n",
              "      <th>1117</th>\n",
              "      <td>[-7.6293945e-05, -3.0517578e-05, 4.5776367e-05...</td>\n",
              "      <td>22050</td>\n",
              "      <td>[[-14.064456461828245, -10.130237156697339, 2....</td>\n",
              "      <td>55</td>\n",
              "      <td>หัวหอม2</td>\n",
              "    </tr>\n",
              "    <tr>\n",
              "      <th>1118</th>\n",
              "      <td>[1.5258789e-05, -4.5776367e-05, 4.5776367e-05,...</td>\n",
              "      <td>22050</td>\n",
              "      <td>[[-13.862199697176345, -10.033334893928362, 0....</td>\n",
              "      <td>55</td>\n",
              "      <td>หัวหอม2</td>\n",
              "    </tr>\n",
              "    <tr>\n",
              "      <th>1119</th>\n",
              "      <td>[1.5258789e-05, -3.0517578e-05, 3.0517578e-05,...</td>\n",
              "      <td>22050</td>\n",
              "      <td>[[-14.084828314988476, -10.714037501901071, -1...</td>\n",
              "      <td>55</td>\n",
              "      <td>หัวหอม2</td>\n",
              "    </tr>\n",
              "  </tbody>\n",
              "</table>\n",
              "<p>1120 rows × 5 columns</p>\n",
              "</div>"
            ],
            "text/plain": [
              "                                             audio_time  ...  description\n",
              "0     [0.0004119873, 0.00061035156, 0.0005340576, 0....  ...       กระชาย\n",
              "1     [1.5258789e-05, -3.0517578e-05, 4.5776367e-05,...  ...       กระชาย\n",
              "2     [-0.00010681152, -0.00010681152, -0.0001525878...  ...       กระชาย\n",
              "3     [-0.00012207031, -0.00018310547, -6.1035156e-0...  ...       กระชาย\n",
              "4     [-1.5258789e-05, 1.5258789e-05, -1.5258789e-05...  ...       กระชาย\n",
              "...                                                 ...  ...          ...\n",
              "1115  [-0.00021362305, -0.00019836426, -0.0001678466...  ...      หัวหอม2\n",
              "1116  [-7.6293945e-05, -9.1552734e-05, 0.0, 1.525878...  ...      หัวหอม2\n",
              "1117  [-7.6293945e-05, -3.0517578e-05, 4.5776367e-05...  ...      หัวหอม2\n",
              "1118  [1.5258789e-05, -4.5776367e-05, 4.5776367e-05,...  ...      หัวหอม2\n",
              "1119  [1.5258789e-05, -3.0517578e-05, 3.0517578e-05,...  ...      หัวหอม2\n",
              "\n",
              "[1120 rows x 5 columns]"
            ]
          },
          "metadata": {},
          "execution_count": 5
        }
      ]
    },
    {
      "cell_type": "code",
      "metadata": {
        "id": "T7yzW3hnmuyB"
      },
      "source": [
        "import numpy as np\n",
        "import pandas as pd\n",
        "\n",
        "Test = pd.DataFrame(columns=source.keys())\n",
        "Validation = pd.DataFrame(columns=source.keys())\n",
        "\n",
        "# Create test data\n",
        "for description in np.unique(df['description']):\n",
        "    imp_test = df[df['description']==description].sample(5,random_state=1)\n",
        "    Test = pd.concat([Test,imp_test], axis=0)\n",
        "\n",
        "# Create train and validation data\n",
        "Train = df.drop(Test.index)\n",
        "for description in np.unique(Train['description']):\n",
        "    imp_val = Train[Train['description']==description].sample(3,random_state=1)\n",
        "    Validation = pd.concat([Validation,imp_val], axis=0)\n",
        "\n",
        "Train = Train.drop(Validation.index)\n",
        "\n",
        "X_train = np.array(Train['feature_extraction'].to_list())\n",
        "X_valid = np.array(Validation['feature_extraction'].to_list())\n",
        "X_test = np.array(Test['feature_extraction'].to_list())\n",
        "y_train = np.array(Train['label'].to_list())\n",
        "y_valid = np.array(Validation['label'].to_list())\n",
        "y_test = np.array(Test['label'].to_list())"
      ],
      "id": "T7yzW3hnmuyB",
      "execution_count": 6,
      "outputs": []
    },
    {
      "cell_type": "code",
      "metadata": {
        "id": "mSV3u9RmEU7h",
        "outputId": "8352c1a0-f594-4989-f02e-8f0547dcc398",
        "colab": {
          "base_uri": "https://localhost:8080/"
        }
      },
      "source": [
        "y_train.shape, y_test.shape, y_valid.shape"
      ],
      "id": "mSV3u9RmEU7h",
      "execution_count": 7,
      "outputs": [
        {
          "output_type": "execute_result",
          "data": {
            "text/plain": [
              "((672,), (280,), (168,))"
            ]
          },
          "metadata": {},
          "execution_count": 7
        }
      ]
    },
    {
      "cell_type": "code",
      "metadata": {
        "id": "77wMVqve6W8f",
        "colab": {
          "base_uri": "https://localhost:8080/"
        },
        "outputId": "7a4ebccf-6cae-4c77-ed2b-ea8003ebbdd2"
      },
      "source": [
        "import tensorflow as tf\n",
        "from tensorflow import keras \n",
        "np.random.seed(1)\n",
        "tf.random.set_seed(1)\n",
        "\n",
        "# Convolutional Neural Networks\n",
        "model = keras.Sequential()\n",
        "model.add(keras.layers.Conv2D(128, 5, input_shape=(X_train.shape[1], X_train.shape[2], 1), activation='relu'))\n",
        "model.add(keras.layers.Dropout(0.25))\n",
        "model.add(keras.layers.MaxPool2D())\n",
        "model.add(keras.layers.Conv2D(64, 5, activation='relu',padding='same'))\n",
        "model.add(keras.layers.Dropout(0.25))\n",
        "model.add(keras.layers.MaxPool2D())\n",
        "model.add(keras.layers.Conv2D(128, 5, activation='relu',padding='same'))\n",
        "model.add(keras.layers.Dropout(0.25))\n",
        "model.add(keras.layers.MaxPool2D())\n",
        "model.add(keras.layers.Flatten())\n",
        "model.add(keras.layers.Dense(128, activation='relu'))\n",
        "model.add(keras.layers.Dropout(0.25))\n",
        "model.add(keras.layers.Dense(64, activation='relu'))\n",
        "model.add(keras.layers.Dropout(0.25))\n",
        "model.add(keras.layers.Dense(len(np.unique(df['label'])), activation='softmax'))\n",
        "model.compile(optimizer='adam', loss='sparse_categorical_crossentropy', metrics=['accuracy'])\n",
        "\n",
        "model.summary()"
      ],
      "id": "77wMVqve6W8f",
      "execution_count": 8,
      "outputs": [
        {
          "output_type": "stream",
          "text": [
            "Model: \"sequential\"\n",
            "_________________________________________________________________\n",
            "Layer (type)                 Output Shape              Param #   \n",
            "=================================================================\n",
            "conv2d (Conv2D)              (None, 683, 9, 128)       3328      \n",
            "_________________________________________________________________\n",
            "dropout (Dropout)            (None, 683, 9, 128)       0         \n",
            "_________________________________________________________________\n",
            "max_pooling2d (MaxPooling2D) (None, 341, 4, 128)       0         \n",
            "_________________________________________________________________\n",
            "conv2d_1 (Conv2D)            (None, 341, 4, 64)        204864    \n",
            "_________________________________________________________________\n",
            "dropout_1 (Dropout)          (None, 341, 4, 64)        0         \n",
            "_________________________________________________________________\n",
            "max_pooling2d_1 (MaxPooling2 (None, 170, 2, 64)        0         \n",
            "_________________________________________________________________\n",
            "conv2d_2 (Conv2D)            (None, 170, 2, 128)       204928    \n",
            "_________________________________________________________________\n",
            "dropout_2 (Dropout)          (None, 170, 2, 128)       0         \n",
            "_________________________________________________________________\n",
            "max_pooling2d_2 (MaxPooling2 (None, 85, 1, 128)        0         \n",
            "_________________________________________________________________\n",
            "flatten (Flatten)            (None, 10880)             0         \n",
            "_________________________________________________________________\n",
            "dense (Dense)                (None, 128)               1392768   \n",
            "_________________________________________________________________\n",
            "dropout_3 (Dropout)          (None, 128)               0         \n",
            "_________________________________________________________________\n",
            "dense_1 (Dense)              (None, 64)                8256      \n",
            "_________________________________________________________________\n",
            "dropout_4 (Dropout)          (None, 64)                0         \n",
            "_________________________________________________________________\n",
            "dense_2 (Dense)              (None, 56)                3640      \n",
            "=================================================================\n",
            "Total params: 1,817,784\n",
            "Trainable params: 1,817,784\n",
            "Non-trainable params: 0\n",
            "_________________________________________________________________\n"
          ],
          "name": "stdout"
        }
      ]
    },
    {
      "cell_type": "code",
      "metadata": {
        "id": "ngmfDNcnGMC7",
        "colab": {
          "base_uri": "https://localhost:8080/"
        },
        "outputId": "3dc6f3cd-4ec8-43e9-d8b4-330d415db7ee"
      },
      "source": [
        "# Fitting model\n",
        "history = model.fit(X_train[:,:,:,None], y_train, epochs=100, validation_data=(X_valid[:,:,:,None],y_valid),batch_size=80)"
      ],
      "id": "ngmfDNcnGMC7",
      "execution_count": 9,
      "outputs": [
        {
          "output_type": "stream",
          "text": [
            "Epoch 1/100\n",
            "9/9 [==============================] - 18s 151ms/step - loss: 4.1544 - accuracy: 0.0208 - val_loss: 4.0210 - val_accuracy: 0.0238\n",
            "Epoch 2/100\n",
            "9/9 [==============================] - 1s 78ms/step - loss: 4.0119 - accuracy: 0.0327 - val_loss: 4.0053 - val_accuracy: 0.0417\n",
            "Epoch 3/100\n",
            "9/9 [==============================] - 1s 78ms/step - loss: 3.9443 - accuracy: 0.0312 - val_loss: 3.8874 - val_accuracy: 0.0417\n",
            "Epoch 4/100\n",
            "9/9 [==============================] - 1s 78ms/step - loss: 3.7929 - accuracy: 0.0432 - val_loss: 3.7178 - val_accuracy: 0.1071\n",
            "Epoch 5/100\n",
            "9/9 [==============================] - 1s 78ms/step - loss: 3.5747 - accuracy: 0.1086 - val_loss: 3.5271 - val_accuracy: 0.2083\n",
            "Epoch 6/100\n",
            "9/9 [==============================] - 1s 78ms/step - loss: 3.2725 - accuracy: 0.1488 - val_loss: 3.2465 - val_accuracy: 0.3274\n",
            "Epoch 7/100\n",
            "9/9 [==============================] - 1s 78ms/step - loss: 2.8900 - accuracy: 0.2262 - val_loss: 2.8212 - val_accuracy: 0.4940\n",
            "Epoch 8/100\n",
            "9/9 [==============================] - 1s 78ms/step - loss: 2.4810 - accuracy: 0.3125 - val_loss: 2.5216 - val_accuracy: 0.5595\n",
            "Epoch 9/100\n",
            "9/9 [==============================] - 1s 78ms/step - loss: 2.2476 - accuracy: 0.3661 - val_loss: 2.2459 - val_accuracy: 0.6607\n",
            "Epoch 10/100\n",
            "9/9 [==============================] - 1s 78ms/step - loss: 1.9875 - accuracy: 0.4420 - val_loss: 1.9890 - val_accuracy: 0.7321\n",
            "Epoch 11/100\n",
            "9/9 [==============================] - 1s 78ms/step - loss: 1.8065 - accuracy: 0.5089 - val_loss: 1.7876 - val_accuracy: 0.7440\n",
            "Epoch 12/100\n",
            "9/9 [==============================] - 1s 78ms/step - loss: 1.5608 - accuracy: 0.5342 - val_loss: 1.6221 - val_accuracy: 0.7500\n",
            "Epoch 13/100\n",
            "9/9 [==============================] - 1s 78ms/step - loss: 1.4472 - accuracy: 0.5744 - val_loss: 1.4529 - val_accuracy: 0.8274\n",
            "Epoch 14/100\n",
            "9/9 [==============================] - 1s 78ms/step - loss: 1.2950 - accuracy: 0.6235 - val_loss: 1.4176 - val_accuracy: 0.8690\n",
            "Epoch 15/100\n",
            "9/9 [==============================] - 1s 78ms/step - loss: 1.1342 - accuracy: 0.6577 - val_loss: 1.1748 - val_accuracy: 0.8333\n",
            "Epoch 16/100\n",
            "9/9 [==============================] - 1s 78ms/step - loss: 1.1692 - accuracy: 0.6473 - val_loss: 1.2216 - val_accuracy: 0.8750\n",
            "Epoch 17/100\n",
            "9/9 [==============================] - 1s 78ms/step - loss: 0.9950 - accuracy: 0.7039 - val_loss: 1.0337 - val_accuracy: 0.8869\n",
            "Epoch 18/100\n",
            "9/9 [==============================] - 1s 78ms/step - loss: 0.9012 - accuracy: 0.7411 - val_loss: 0.8810 - val_accuracy: 0.8571\n",
            "Epoch 19/100\n",
            "9/9 [==============================] - 1s 78ms/step - loss: 0.8057 - accuracy: 0.7500 - val_loss: 0.9087 - val_accuracy: 0.9048\n",
            "Epoch 20/100\n",
            "9/9 [==============================] - 1s 78ms/step - loss: 0.7167 - accuracy: 0.7679 - val_loss: 0.7685 - val_accuracy: 0.8690\n",
            "Epoch 21/100\n",
            "9/9 [==============================] - 1s 78ms/step - loss: 0.7705 - accuracy: 0.7664 - val_loss: 0.8504 - val_accuracy: 0.8929\n",
            "Epoch 22/100\n",
            "9/9 [==============================] - 1s 78ms/step - loss: 0.5799 - accuracy: 0.8080 - val_loss: 0.6877 - val_accuracy: 0.9107\n",
            "Epoch 23/100\n",
            "9/9 [==============================] - 1s 78ms/step - loss: 0.7150 - accuracy: 0.7827 - val_loss: 0.6888 - val_accuracy: 0.8929\n",
            "Epoch 24/100\n",
            "9/9 [==============================] - 1s 78ms/step - loss: 0.5451 - accuracy: 0.8318 - val_loss: 0.7322 - val_accuracy: 0.8929\n",
            "Epoch 25/100\n",
            "9/9 [==============================] - 1s 78ms/step - loss: 0.5890 - accuracy: 0.8065 - val_loss: 0.6323 - val_accuracy: 0.9048\n",
            "Epoch 26/100\n",
            "9/9 [==============================] - 1s 78ms/step - loss: 0.5260 - accuracy: 0.8318 - val_loss: 0.5599 - val_accuracy: 0.9048\n",
            "Epoch 27/100\n",
            "9/9 [==============================] - 1s 78ms/step - loss: 0.5340 - accuracy: 0.8244 - val_loss: 0.5836 - val_accuracy: 0.9048\n",
            "Epoch 28/100\n",
            "9/9 [==============================] - 1s 78ms/step - loss: 0.5419 - accuracy: 0.8259 - val_loss: 0.5619 - val_accuracy: 0.9107\n",
            "Epoch 29/100\n",
            "9/9 [==============================] - 1s 78ms/step - loss: 0.4511 - accuracy: 0.8467 - val_loss: 0.6522 - val_accuracy: 0.8988\n",
            "Epoch 30/100\n",
            "9/9 [==============================] - 1s 79ms/step - loss: 0.5174 - accuracy: 0.8378 - val_loss: 0.5647 - val_accuracy: 0.9048\n",
            "Epoch 31/100\n",
            "9/9 [==============================] - 1s 78ms/step - loss: 0.4031 - accuracy: 0.8884 - val_loss: 0.4861 - val_accuracy: 0.9107\n",
            "Epoch 32/100\n",
            "9/9 [==============================] - 1s 78ms/step - loss: 0.4160 - accuracy: 0.8586 - val_loss: 0.4950 - val_accuracy: 0.9048\n",
            "Epoch 33/100\n",
            "9/9 [==============================] - 1s 79ms/step - loss: 0.3809 - accuracy: 0.8750 - val_loss: 0.5062 - val_accuracy: 0.9167\n",
            "Epoch 34/100\n",
            "9/9 [==============================] - 1s 79ms/step - loss: 0.3609 - accuracy: 0.8810 - val_loss: 0.4423 - val_accuracy: 0.9286\n",
            "Epoch 35/100\n",
            "9/9 [==============================] - 1s 78ms/step - loss: 0.4107 - accuracy: 0.8676 - val_loss: 0.4968 - val_accuracy: 0.9167\n",
            "Epoch 36/100\n",
            "9/9 [==============================] - 1s 78ms/step - loss: 0.3408 - accuracy: 0.8824 - val_loss: 0.4506 - val_accuracy: 0.9286\n",
            "Epoch 37/100\n",
            "9/9 [==============================] - 1s 79ms/step - loss: 0.3621 - accuracy: 0.8810 - val_loss: 0.3603 - val_accuracy: 0.9405\n",
            "Epoch 38/100\n",
            "9/9 [==============================] - 1s 79ms/step - loss: 0.4067 - accuracy: 0.8795 - val_loss: 0.4318 - val_accuracy: 0.9345\n",
            "Epoch 39/100\n",
            "9/9 [==============================] - 1s 79ms/step - loss: 0.3277 - accuracy: 0.8988 - val_loss: 0.4279 - val_accuracy: 0.9286\n",
            "Epoch 40/100\n",
            "9/9 [==============================] - 1s 79ms/step - loss: 0.3969 - accuracy: 0.8720 - val_loss: 0.5159 - val_accuracy: 0.9345\n",
            "Epoch 41/100\n",
            "9/9 [==============================] - 1s 78ms/step - loss: 0.3457 - accuracy: 0.8914 - val_loss: 0.4398 - val_accuracy: 0.9524\n",
            "Epoch 42/100\n",
            "9/9 [==============================] - 1s 78ms/step - loss: 0.3244 - accuracy: 0.8988 - val_loss: 0.3989 - val_accuracy: 0.9405\n",
            "Epoch 43/100\n",
            "9/9 [==============================] - 1s 79ms/step - loss: 0.3257 - accuracy: 0.9092 - val_loss: 0.4413 - val_accuracy: 0.9226\n",
            "Epoch 44/100\n",
            "9/9 [==============================] - 1s 78ms/step - loss: 0.3362 - accuracy: 0.8988 - val_loss: 0.3624 - val_accuracy: 0.9464\n",
            "Epoch 45/100\n",
            "9/9 [==============================] - 1s 79ms/step - loss: 0.3245 - accuracy: 0.8988 - val_loss: 0.4302 - val_accuracy: 0.9286\n",
            "Epoch 46/100\n",
            "9/9 [==============================] - 1s 79ms/step - loss: 0.2988 - accuracy: 0.9152 - val_loss: 0.3843 - val_accuracy: 0.9405\n",
            "Epoch 47/100\n",
            "9/9 [==============================] - 1s 79ms/step - loss: 0.2602 - accuracy: 0.9137 - val_loss: 0.4040 - val_accuracy: 0.9345\n",
            "Epoch 48/100\n",
            "9/9 [==============================] - 1s 79ms/step - loss: 0.3216 - accuracy: 0.9033 - val_loss: 0.3250 - val_accuracy: 0.9524\n",
            "Epoch 49/100\n",
            "9/9 [==============================] - 1s 79ms/step - loss: 0.2416 - accuracy: 0.9167 - val_loss: 0.3363 - val_accuracy: 0.9524\n",
            "Epoch 50/100\n",
            "9/9 [==============================] - 1s 78ms/step - loss: 0.2054 - accuracy: 0.9301 - val_loss: 0.3468 - val_accuracy: 0.9345\n",
            "Epoch 51/100\n",
            "9/9 [==============================] - 1s 79ms/step - loss: 0.3182 - accuracy: 0.9033 - val_loss: 0.3596 - val_accuracy: 0.9167\n",
            "Epoch 52/100\n",
            "9/9 [==============================] - 1s 79ms/step - loss: 0.3029 - accuracy: 0.9018 - val_loss: 0.3583 - val_accuracy: 0.9405\n",
            "Epoch 53/100\n",
            "9/9 [==============================] - 1s 79ms/step - loss: 0.2681 - accuracy: 0.9152 - val_loss: 0.3206 - val_accuracy: 0.9345\n",
            "Epoch 54/100\n",
            "9/9 [==============================] - 1s 79ms/step - loss: 0.1841 - accuracy: 0.9464 - val_loss: 0.3259 - val_accuracy: 0.9405\n",
            "Epoch 55/100\n",
            "9/9 [==============================] - 1s 79ms/step - loss: 0.1983 - accuracy: 0.9375 - val_loss: 0.3511 - val_accuracy: 0.9286\n",
            "Epoch 56/100\n",
            "9/9 [==============================] - 1s 79ms/step - loss: 0.2007 - accuracy: 0.9390 - val_loss: 0.3729 - val_accuracy: 0.9167\n",
            "Epoch 57/100\n",
            "9/9 [==============================] - 1s 79ms/step - loss: 0.2422 - accuracy: 0.9271 - val_loss: 0.3306 - val_accuracy: 0.9405\n",
            "Epoch 58/100\n",
            "9/9 [==============================] - 1s 79ms/step - loss: 0.2724 - accuracy: 0.9152 - val_loss: 0.3830 - val_accuracy: 0.9524\n",
            "Epoch 59/100\n",
            "9/9 [==============================] - 1s 79ms/step - loss: 0.2539 - accuracy: 0.9226 - val_loss: 0.3504 - val_accuracy: 0.9286\n",
            "Epoch 60/100\n",
            "9/9 [==============================] - 1s 79ms/step - loss: 0.2584 - accuracy: 0.9271 - val_loss: 0.3453 - val_accuracy: 0.9345\n",
            "Epoch 61/100\n",
            "9/9 [==============================] - 1s 79ms/step - loss: 0.2740 - accuracy: 0.9167 - val_loss: 0.3388 - val_accuracy: 0.9286\n",
            "Epoch 62/100\n",
            "9/9 [==============================] - 1s 79ms/step - loss: 0.2111 - accuracy: 0.9286 - val_loss: 0.3051 - val_accuracy: 0.9524\n",
            "Epoch 63/100\n",
            "9/9 [==============================] - 1s 79ms/step - loss: 0.2081 - accuracy: 0.9315 - val_loss: 0.3011 - val_accuracy: 0.9345\n",
            "Epoch 64/100\n",
            "9/9 [==============================] - 1s 80ms/step - loss: 0.2538 - accuracy: 0.9107 - val_loss: 0.3535 - val_accuracy: 0.9345\n",
            "Epoch 65/100\n",
            "9/9 [==============================] - 1s 79ms/step - loss: 0.2464 - accuracy: 0.9241 - val_loss: 0.3310 - val_accuracy: 0.9226\n",
            "Epoch 66/100\n",
            "9/9 [==============================] - 1s 80ms/step - loss: 0.2090 - accuracy: 0.9345 - val_loss: 0.2963 - val_accuracy: 0.9524\n",
            "Epoch 67/100\n",
            "9/9 [==============================] - 1s 79ms/step - loss: 0.2202 - accuracy: 0.9256 - val_loss: 0.3031 - val_accuracy: 0.9405\n",
            "Epoch 68/100\n",
            "9/9 [==============================] - 1s 79ms/step - loss: 0.2101 - accuracy: 0.9271 - val_loss: 0.2845 - val_accuracy: 0.9345\n",
            "Epoch 69/100\n",
            "9/9 [==============================] - 1s 79ms/step - loss: 0.1892 - accuracy: 0.9405 - val_loss: 0.2804 - val_accuracy: 0.9405\n",
            "Epoch 70/100\n",
            "9/9 [==============================] - 1s 79ms/step - loss: 0.1679 - accuracy: 0.9449 - val_loss: 0.2967 - val_accuracy: 0.9286\n",
            "Epoch 71/100\n",
            "9/9 [==============================] - 1s 79ms/step - loss: 0.1731 - accuracy: 0.9449 - val_loss: 0.3476 - val_accuracy: 0.9167\n",
            "Epoch 72/100\n",
            "9/9 [==============================] - 1s 79ms/step - loss: 0.1581 - accuracy: 0.9539 - val_loss: 0.2743 - val_accuracy: 0.9286\n",
            "Epoch 73/100\n",
            "9/9 [==============================] - 1s 80ms/step - loss: 0.1937 - accuracy: 0.9464 - val_loss: 0.2641 - val_accuracy: 0.9464\n",
            "Epoch 74/100\n",
            "9/9 [==============================] - 1s 79ms/step - loss: 0.2063 - accuracy: 0.9226 - val_loss: 0.2621 - val_accuracy: 0.9464\n",
            "Epoch 75/100\n",
            "9/9 [==============================] - 1s 80ms/step - loss: 0.1558 - accuracy: 0.9524 - val_loss: 0.2691 - val_accuracy: 0.9345\n",
            "Epoch 76/100\n",
            "9/9 [==============================] - 1s 80ms/step - loss: 0.1704 - accuracy: 0.9524 - val_loss: 0.2895 - val_accuracy: 0.9345\n",
            "Epoch 77/100\n",
            "9/9 [==============================] - 1s 79ms/step - loss: 0.1536 - accuracy: 0.9479 - val_loss: 0.2821 - val_accuracy: 0.9405\n",
            "Epoch 78/100\n",
            "9/9 [==============================] - 1s 79ms/step - loss: 0.1815 - accuracy: 0.9464 - val_loss: 0.2913 - val_accuracy: 0.9405\n",
            "Epoch 79/100\n",
            "9/9 [==============================] - 1s 79ms/step - loss: 0.1710 - accuracy: 0.9494 - val_loss: 0.3137 - val_accuracy: 0.9405\n",
            "Epoch 80/100\n",
            "9/9 [==============================] - 1s 79ms/step - loss: 0.2279 - accuracy: 0.9256 - val_loss: 0.2839 - val_accuracy: 0.9405\n",
            "Epoch 81/100\n",
            "9/9 [==============================] - 1s 80ms/step - loss: 0.1480 - accuracy: 0.9479 - val_loss: 0.3035 - val_accuracy: 0.9226\n",
            "Epoch 82/100\n",
            "9/9 [==============================] - 1s 79ms/step - loss: 0.1812 - accuracy: 0.9435 - val_loss: 0.2837 - val_accuracy: 0.9405\n",
            "Epoch 83/100\n",
            "9/9 [==============================] - 1s 79ms/step - loss: 0.1398 - accuracy: 0.9568 - val_loss: 0.2688 - val_accuracy: 0.9405\n",
            "Epoch 84/100\n",
            "9/9 [==============================] - 1s 79ms/step - loss: 0.1524 - accuracy: 0.9554 - val_loss: 0.2532 - val_accuracy: 0.9464\n",
            "Epoch 85/100\n",
            "9/9 [==============================] - 1s 80ms/step - loss: 0.1536 - accuracy: 0.9509 - val_loss: 0.2823 - val_accuracy: 0.9524\n",
            "Epoch 86/100\n",
            "9/9 [==============================] - 1s 80ms/step - loss: 0.1395 - accuracy: 0.9598 - val_loss: 0.2986 - val_accuracy: 0.9524\n",
            "Epoch 87/100\n",
            "9/9 [==============================] - 1s 80ms/step - loss: 0.1531 - accuracy: 0.9524 - val_loss: 0.2864 - val_accuracy: 0.9405\n",
            "Epoch 88/100\n",
            "9/9 [==============================] - 1s 80ms/step - loss: 0.1458 - accuracy: 0.9509 - val_loss: 0.2592 - val_accuracy: 0.9345\n",
            "Epoch 89/100\n",
            "9/9 [==============================] - 1s 80ms/step - loss: 0.1209 - accuracy: 0.9568 - val_loss: 0.2520 - val_accuracy: 0.9345\n",
            "Epoch 90/100\n",
            "9/9 [==============================] - 1s 79ms/step - loss: 0.1853 - accuracy: 0.9435 - val_loss: 0.3088 - val_accuracy: 0.9345\n",
            "Epoch 91/100\n",
            "9/9 [==============================] - 1s 80ms/step - loss: 0.1580 - accuracy: 0.9524 - val_loss: 0.3020 - val_accuracy: 0.9286\n",
            "Epoch 92/100\n",
            "9/9 [==============================] - 1s 80ms/step - loss: 0.1562 - accuracy: 0.9464 - val_loss: 0.2749 - val_accuracy: 0.9464\n",
            "Epoch 93/100\n",
            "9/9 [==============================] - 1s 80ms/step - loss: 0.1184 - accuracy: 0.9643 - val_loss: 0.3014 - val_accuracy: 0.9524\n",
            "Epoch 94/100\n",
            "9/9 [==============================] - 1s 80ms/step - loss: 0.1513 - accuracy: 0.9539 - val_loss: 0.2850 - val_accuracy: 0.9286\n",
            "Epoch 95/100\n",
            "9/9 [==============================] - 1s 80ms/step - loss: 0.1307 - accuracy: 0.9598 - val_loss: 0.2562 - val_accuracy: 0.9405\n",
            "Epoch 96/100\n",
            "9/9 [==============================] - 1s 80ms/step - loss: 0.1192 - accuracy: 0.9613 - val_loss: 0.2749 - val_accuracy: 0.9464\n",
            "Epoch 97/100\n",
            "9/9 [==============================] - 1s 80ms/step - loss: 0.1340 - accuracy: 0.9539 - val_loss: 0.2934 - val_accuracy: 0.9286\n",
            "Epoch 98/100\n",
            "9/9 [==============================] - 1s 80ms/step - loss: 0.1407 - accuracy: 0.9583 - val_loss: 0.3098 - val_accuracy: 0.9107\n",
            "Epoch 99/100\n",
            "9/9 [==============================] - 1s 80ms/step - loss: 0.1177 - accuracy: 0.9568 - val_loss: 0.2596 - val_accuracy: 0.9286\n",
            "Epoch 100/100\n",
            "9/9 [==============================] - 1s 79ms/step - loss: 0.1407 - accuracy: 0.9598 - val_loss: 0.2583 - val_accuracy: 0.9405\n"
          ],
          "name": "stdout"
        }
      ]
    },
    {
      "cell_type": "code",
      "metadata": {
        "colab": {
          "base_uri": "https://localhost:8080/"
        },
        "id": "ZQ4n8wAmB9ZX",
        "outputId": "624f8cba-87bc-4702-d9a4-340a8c992ee8"
      },
      "source": [
        "# Evaluate model\n",
        "print(f'Train Accuracy: { model.evaluate(X_train[:,:,:,None],y_train)[1]}')\n",
        "print(f'Test Accuracy: {model.evaluate(X_test[:,:,:,None],y_test)[1]}')"
      ],
      "id": "ZQ4n8wAmB9ZX",
      "execution_count": 10,
      "outputs": [
        {
          "output_type": "stream",
          "text": [
            "21/21 [==============================] - 0s 9ms/step - loss: 0.0087 - accuracy: 1.0000\n",
            "Train Accuracy: 1.0\n",
            "9/9 [==============================] - 0s 29ms/step - loss: 0.2204 - accuracy: 0.9607\n",
            "Test Accuracy: 0.9607142806053162\n"
          ],
          "name": "stdout"
        }
      ]
    },
    {
      "cell_type": "code",
      "metadata": {
        "id": "F62fEQaGFMqs",
        "colab": {
          "base_uri": "https://localhost:8080/",
          "height": 354
        },
        "outputId": "61cc4935-46a2-4dc7-cd56-e298373062bc"
      },
      "source": [
        "import matplotlib.pyplot as plt\n",
        "\n",
        "# plot the accuracy and loss plots between training and validation data\n",
        "# verlify overfitting\n",
        "acc = history.history['accuracy']\n",
        "val_acc = history.history['val_accuracy']\n",
        "loss = history.history['loss']\n",
        "val_loss = history.history['val_loss']\n",
        "x = range(1,len(acc)+1)\n",
        "\n",
        "plt.figure(figsize=(12,5))\n",
        "plt.subplot(1,2,1)\n",
        "plt.plot(x,acc,'b',label='Training acc')\n",
        "plt.plot(x,val_acc,'r',label='Validation acc')\n",
        "plt.title('Training and validation accuracy')\n",
        "plt.legend()\n",
        "plt.subplot(1,2,2)\n",
        "plt.plot(x,loss,'b',label='Training loss')\n",
        "plt.plot(x,val_loss,'r',label='Validation loss')\n",
        "plt.title('Training and validation loss')\n",
        "plt.legend()"
      ],
      "id": "F62fEQaGFMqs",
      "execution_count": 11,
      "outputs": [
        {
          "output_type": "execute_result",
          "data": {
            "text/plain": [
              "<matplotlib.legend.Legend at 0x7fac9c3eb510>"
            ]
          },
          "metadata": {},
          "execution_count": 11
        },
        {
          "output_type": "display_data",
          "data": {
            "image/png": "[encoded data removed]",
            "text/plain": [
              "<Figure size 864x360 with 2 Axes>"
            ]
          },
          "metadata": {
            "needs_background": "light"
          }
        }
      ]
    },
    {
      "cell_type": "code",
      "metadata": {
        "id": "wFbKdWsMkDuw",
        "colab": {
          "base_uri": "https://localhost:8080/"
        },
        "outputId": "fb9dbbc1-7ab9-46b9-b6a9-5629cf47c3ec"
      },
      "source": [
        "from sklearn.metrics import classification_report\n",
        "\n",
        "# classification report\n",
        "predicted_classes = np.argmax(np.round(model.predict(X_test[:,:,:,None])),axis=1)\n",
        "correct = np.where(predicted_classes==y_test)[0]\n",
        "target_names = [f\"Class {label}\" for label in range(len(np.unique(df['label'])))]\n",
        "\n",
        "print(f\"From {len(y_test)} labels're founding {len(correct)} correct labels.\")\n",
        "print('')\n",
        "print(classification_report(y_test, predicted_classes, target_names=target_names))"
      ],
      "id": "wFbKdWsMkDuw",
      "execution_count": 12,
      "outputs": [
        {
          "output_type": "stream",
          "text": [
            "From 280 labels're founding 259 correct labels.\n",
            "\n",
            "              precision    recall  f1-score   support\n",
            "\n",
            "     Class 0       0.22      1.00      0.36         5\n",
            "     Class 1       1.00      1.00      1.00         5\n",
            "     Class 2       1.00      1.00      1.00         5\n",
            "     Class 3       1.00      0.80      0.89         5\n",
            "     Class 4       1.00      1.00      1.00         5\n",
            "     Class 5       1.00      1.00      1.00         5\n",
            "     Class 6       1.00      1.00      1.00         5\n",
            "     Class 7       1.00      1.00      1.00         5\n",
            "     Class 8       1.00      0.80      0.89         5\n",
            "     Class 9       1.00      0.40      0.57         5\n",
            "    Class 10       1.00      1.00      1.00         5\n",
            "    Class 11       1.00      1.00      1.00         5\n",
            "    Class 12       1.00      1.00      1.00         5\n",
            "    Class 13       1.00      0.80      0.89         5\n",
            "    Class 14       1.00      1.00      1.00         5\n",
            "    Class 15       0.67      0.80      0.73         5\n",
            "    Class 16       1.00      0.80      0.89         5\n",
            "    Class 17       1.00      1.00      1.00         5\n",
            "    Class 18       1.00      1.00      1.00         5\n",
            "    Class 19       1.00      0.80      0.89         5\n",
            "    Class 20       1.00      1.00      1.00         5\n",
            "    Class 21       1.00      1.00      1.00         5\n",
            "    Class 22       1.00      0.80      0.89         5\n",
            "    Class 23       1.00      1.00      1.00         5\n",
            "    Class 24       1.00      1.00      1.00         5\n",
            "    Class 25       1.00      1.00      1.00         5\n",
            "    Class 26       1.00      0.60      0.75         5\n",
            "    Class 27       1.00      1.00      1.00         5\n",
            "    Class 28       1.00      1.00      1.00         5\n",
            "    Class 29       1.00      1.00      1.00         5\n",
            "    Class 30       1.00      1.00      1.00         5\n",
            "    Class 31       1.00      1.00      1.00         5\n",
            "    Class 32       0.83      1.00      0.91         5\n",
            "    Class 33       1.00      1.00      1.00         5\n",
            "    Class 34       1.00      1.00      1.00         5\n",
            "    Class 35       1.00      1.00      1.00         5\n",
            "    Class 36       1.00      1.00      1.00         5\n",
            "    Class 37       1.00      1.00      1.00         5\n",
            "    Class 38       1.00      0.60      0.75         5\n",
            "    Class 39       1.00      1.00      1.00         5\n",
            "    Class 40       1.00      1.00      1.00         5\n",
            "    Class 41       1.00      0.80      0.89         5\n",
            "    Class 42       1.00      0.80      0.89         5\n",
            "    Class 43       1.00      1.00      1.00         5\n",
            "    Class 44       1.00      0.60      0.75         5\n",
            "    Class 45       1.00      1.00      1.00         5\n",
            "    Class 46       1.00      1.00      1.00         5\n",
            "    Class 47       1.00      1.00      1.00         5\n",
            "    Class 48       1.00      0.80      0.89         5\n",
            "    Class 49       1.00      0.80      0.89         5\n",
            "    Class 50       1.00      1.00      1.00         5\n",
            "    Class 51       1.00      1.00      1.00         5\n",
            "    Class 52       1.00      0.80      0.89         5\n",
            "    Class 53       1.00      1.00      1.00         5\n",
            "    Class 54       1.00      1.00      1.00         5\n",
            "    Class 55       1.00      1.00      1.00         5\n",
            "\n",
            "    accuracy                           0.93       280\n",
            "   macro avg       0.98      0.92      0.94       280\n",
            "weighted avg       0.98      0.93      0.94       280\n",
            "\n"
          ],
          "name": "stdout"
        }
      ]
    }
  ]
}